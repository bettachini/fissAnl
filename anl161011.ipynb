{
 "cells": [
  {
   "cell_type": "code",
   "execution_count": 3,
   "metadata": {
    "collapsed": false
   },
   "outputs": [],
   "source": [
    "# Basado en anl150925\n",
    "\n",
    "import matplotlib\n",
    "import numpy as np\n",
    "import matplotlib.pyplot as plt\n",
    "%matplotlib inline\n",
    "# coding=utf-8"
   ]
  },
  {
   "cell_type": "markdown",
   "metadata": {},
   "source": [
    "# Análisis áreas - Intento desde limpio"
   ]
  },
  {
   "cell_type": "markdown",
   "metadata": {},
   "source": [
    "## Funciones área"
   ]
  },
  {
   "cell_type": "code",
   "execution_count": 4,
   "metadata": {
    "collapsed": false
   },
   "outputs": [],
   "source": [
    "def tauAreaMax(iAMC, prop= 0.25, rechazo= 0.05):\n",
    "    '''\n",
    "    (array, array) -> array\n",
    "    T: vector tiempos\n",
    "    Meas2: array (2,:) con Meas2[0] canal 1, Meas2[0] canal 2, producto de np.vstack\n",
    "\n",
    "    Retorna:\n",
    "    índice vector tiempo subida entre 10% y 90% canal 2 (ch2: AMC)\n",
    "    Área total: por sobre nivel de base entre 10% a izquierda y derecha (ch2: AMC)\n",
    "    Área subida: por sobre nivel de base entre 10% a izquierda y máximo (ch2: AMC)\n",
    "    Máximo (ch2: AMC)\n",
    "    '''\n",
    "    maxIx= iAMC.argmax() # índice máximo\n",
    "    # máximo promediado cercano\n",
    "    rangoCercano= 20 # tres lecturas a izq y derecha\n",
    "    iAMCMax= (iAMC[maxIx- rangoCercano: maxIx+ rangoCercano]).mean()   \n",
    "\n",
    "    erstePunkten= int(iAMC.size* prop)\n",
    "    ch2Erste= iAMC[0:erstePunkten-1]\n",
    "    iAMCProm= ch2Erste.mean()\n",
    "    \n",
    "    if (ch2Erste.std() > (np.abs((iAMCMax- iAMCProm )* rechazo))): # desvio standard AMC> (máximo- nivel base) * rechazo\n",
    "        return np.zeros(4) # cuidar que tenga igual dimensión que salida\n",
    "    else:\n",
    "        # diferencia máximo- base\n",
    "        difMaxMin= iAMCMax- iAMCProm # usa promediado cercano\n",
    "        # Diferencias de potencial para 10%, 90% de excursión\n",
    "        v10= iAMCProm+ 0.1* difMaxMin\n",
    "        v90= iAMCProm+ 0.9* difMaxMin\n",
    "        # Índices para primer potencial del pulso que exceda 10%, y último por debajo 90% \n",
    "        ixTauiAMC= np.array([maxIx, maxIx])\n",
    "        while (iAMC[ixTauiAMC[0]]> v10):\n",
    "            ixTauiAMC[0]-= 1\n",
    "        while (iAMC[ixTauiAMC[1]]> v90):\n",
    "            ixTauiAMC[1]-= 1\n",
    "        iAMCTau= ixTauiAMC[1]- ixTauiAMC[0] # el vector \n",
    "        # Area\n",
    "        ixAMC10ProzentRicht= maxIx # empiezo por máximo\n",
    "        while (iAMC[ixAMC10ProzentRicht]> v10):\n",
    "            ixAMC10ProzentRicht+= 1\n",
    "        # ixTau[1], maxIx[1], ixAMC10ProzentRicht\n",
    "        # hay que sumar diferencia AMC con este nivel desde el índice 10% izquierda hasta derecha\n",
    "        iAMCAreaSubida= (iAMC[ixTauiAMC[0]: maxIx] - iAMCProm).sum()\n",
    "        iAMCAreaTotal= iAMCAreaSubida+ (iAMC[maxIx+ 1: ixAMC10ProzentRicht] - iAMCProm).sum()\n",
    "        return np.array([iAMCTau, iAMCMax, iAMCAreaSubida, iAMCAreaTotal])\n",
    "    \n",
    "    \n",
    "def conversionV(npzData):\n",
    "    \"\"\" acq -> np.array: [ceroAMCPto, pasoVerticalAMCVoltPto, ceroFLUCPto, pasoVerticalFLUCVoltPto]\n",
    "\n",
    "    Da factores de conservión para de Meas2 con niveles en enteros obtener niveles en potencial eléctrico.\n",
    "    e.g. potencialAMC= (Meas2[1,:]- ceroAMCPto)* pasoVerticalAMCVoltPto\n",
    "    \n",
    "    >>> conversionV(acq)\n",
    "    'olleh'\n",
    "    \"\"\"\n",
    "    # Constructivo del Tek 2002B\n",
    "    divVert= 8 # numero de divisiones verticales\n",
    "    divHoriz= 10\n",
    "    ptosVert= 2**8 # 8 bits definición vertical\n",
    "    ptosHoriz= 2500\n",
    "    # npZData.items() # lista los elementos en el archivo de aquisición en memoria\n",
    "    settingsList= npzData['settings'].tolist()\n",
    "    \n",
    "    # Vertical (potencial)\n",
    "    escalaFLUCVoltsDiv= settingsList['SCALE1'] # [V/div]\n",
    "    pasoVerticalFLUCVoltPto= escalaFLUCVoltsDiv* divVert/ ptosVert # [V/div]\n",
    "    escalaAMCVoltsDiv= settingsList['SCALE2'] # [V/div]\n",
    "    pasoVerticalAMCVoltPto= escalaAMCVoltsDiv* divVert/ ptosVert # [V/div]\n",
    "    ceroFLUCDiv= settingsList['POSITION1'] # [div]\n",
    "    ceroFLUCPto= ceroFLUCDiv* divVert/ ptosVert # [ptos]\n",
    "    ceroAMCDiv= settingsList['POSITION2'] # [div]\n",
    "    ceroAMCPto= ceroAMCDiv* ptosVert/ divVert # [ptos]\n",
    "    \n",
    "    return ceroAMCPto, pasoVerticalAMCVoltPto, ceroFLUCPto, pasoVerticalFLUCVoltPto\n",
    "\n",
    "\n",
    "def agrupadorTauMaxAreas(npzData, prop=0.25):\n",
    "    '''\n",
    "    (npzData) -> (array)\n",
    "    recorre todas las adquisiciones en npzData\n",
    "    \n",
    "    entrega array con filas [tauAMCi, tauFLUCi, areaTotalAMCi, areaSubidaAMCi, maxAMCi]\n",
    "    '''\n",
    "    T= npzData['zeit']\n",
    "    AMC= npzData['ch2']\n",
    "    messungenZahl= AMC.shape\n",
    "    numAdq= messungenZahl[0] # numero de adquisiciones en npzData\n",
    "    finales= np.empty([numAdq,4])\n",
    "    validas=0\n",
    "    \n",
    "    # conversión\n",
    "    pasoT= T[1]-T[0]\n",
    "    ceroAMCPto, pasoVerticalAMCVoltPto, ceroFLUCPto, pasoVerticalFLUCVoltPto= conversionV(npzData)\n",
    "    \n",
    "    for adqActual in range(numAdq):\n",
    "        iAMC= AMC[adqActual]\n",
    "        # print(adqActual)\n",
    "        # parciales=  tauAreaMax(iAMC)\n",
    "        # parciales[0]*= pasoT\n",
    "        try: # IndexError: index out of bounds\n",
    "            parciales=  tauAreaMax(iAMC)# np.array([ixTauiAMC, iAMCMax, iAMCAreaSubida, iAMCAreaTotal]) [cuentas]\n",
    "            parciales[0]*= pasoT # ixTauiAMC [s]\n",
    "            parciales[1]= (parciales[1]- ceroAMCPto)* pasoVerticalAMCVoltPto # iAMCMax [V]\n",
    "            parciales[2]= (parciales[2]- messungenZahl[1]* ceroAMCPto)* pasoT # iAMCAreaSubida [Vs] <anl150907>\n",
    "            parciales[3]= (parciales[3]- messungenZahl[1]* ceroAMCPto)* pasoT # iAMCAreaTotal [Vs] <anl150907>\n",
    "        except IndexError:\n",
    "            parciales= np.zeros(4)\n",
    "        # print(parciales[0], parciales)\n",
    "        if (parciales[0]>0):\n",
    "            # print(validas, parciales[0], parciales[3])\n",
    "            finales[validas]= parciales\n",
    "            validas+=1\n",
    "    finales= finales[0:-(numAdq-validas)]\n",
    "    return finales\n",
    "\n",
    "\n",
    "def desvioEstandardCuasiNoSesgado(datos):\n",
    "    '''\n",
    "    Estimador cuasi no sesgado de la desviación estandar.\n",
    "    https://en.wikipedia.org/wiki/Unbiased_estimation_of_standard_deviation\n",
    "    '''\n",
    "    media= np.mean(datos)\n",
    "    suma=0\n",
    "    for i in datos:\n",
    "        aux= (datos[i]- media)\n",
    "        suma+= aux**2\n",
    "    desv= np.sqrt(suma/( np.size(datos)- 1.5) ) \n",
    "    return desv\n",
    "\n",
    "\n",
    "def errorEstandard(datos):\n",
    "    '''\n",
    "    Estimador de la desviación estandar del promedio.\n",
    "    Usa la desviación estandar de la población y la divide por la raíz del número de elementos en la población.\n",
    "    https://en.wikipedia.org/wiki/Standard_error\n",
    "    '''\n",
    "    return desvioEstandardCuasiNoSesgado(datos)/ np.sqrt(np.size(datos))\n",
    "\n",
    "\n",
    "def neufBin(entrada, corte, unidad='Unidad [u.a.]'):\n",
    "    bins= 120\n",
    "    binHist=corte*bins\n",
    "    fig = plt.figure(figsize=(18,5))  # an empty figure with no axes\n",
    "    ax_lst= fig.add_subplot(1,2,2)\n",
    "    n, bins, patches= ax_lst.hist(entrada, bins)\n",
    "    ax_lst.set_ylabel('Cuentas')\n",
    "    ax_lst.set_xlabel(unidad)\n",
    "    intermedio = np.ma.masked_greater(entrada, bins[binHist])\n",
    "    primerCampana= intermedio.compressed()\n",
    "    ax_lst2= fig.add_subplot(1,2,1)\n",
    "    ax_lst2.set_ylabel('Cuentas')\n",
    "    ax_lst2.set_xlabel(unidad)\n",
    "    n_i, bins_i, patches_i= ax_lst2.hist(primerCampana, bins=20)\n",
    "    return (primerCampana.size, primerCampana.mean(), errorEstandard(primerCampana) )\n",
    "\n",
    "\n",
    "def dataPathFile(anne, mes, dia, acq):\n",
    "    path= './data/'\n",
    "    fNS= 'acq'+ '{:02n}'.format(anne)+ '{:02n}'.format(mes)+ '{:02n}'.format(dia)+ 'z'\n",
    "    fNE= '.npy.npz'\n",
    "    return path+ fNS+ '{:02n}'.format(acq)+fNE"
   ]
  },
  {
   "cell_type": "markdown",
   "metadata": {},
   "source": [
    "## Adquisición única 400V"
   ]
  },
  {
   "cell_type": "code",
   "execution_count": 10,
   "metadata": {
    "collapsed": false
   },
   "outputs": [],
   "source": [
    "#primer ensayo\n",
    "anne= 16\n",
    "mes= 10\n",
    "dia= 11\n",
    "acqN= 1\n",
    "npzData= np.load(dataPathFile(anne, mes, dia, acqN))\n",
    "finales= agrupadorTauMaxAreas(npzData)"
   ]
  },
  {
   "cell_type": "code",
   "execution_count": 11,
   "metadata": {
    "collapsed": false
   },
   "outputs": [
    {
     "data": {
      "text/plain": [
       "(109, 1.3089908256880337e-07, 2.9907903466714005e-10)"
      ]
     },
     "execution_count": 11,
     "metadata": {},
     "output_type": "execute_result"
    },
    {
     "data": {
      "image/png": "[encoded data removed]",
      "text/plain": [
       "<matplotlib.figure.Figure at 0x7fbee6cf9128>"
      ]
     },
     "metadata": {},
     "output_type": "display_data"
    }
   ],
   "source": [
    "# tiempos de subida (risetime AMC)\n",
    "taus= finales[:,0] # [s]\n",
    "neufBin(taus, 1.0, 'T [s]')"
   ]
  },
  {
   "cell_type": "markdown",
   "metadata": {},
   "source": [
    "# Integrador 400V"
   ]
  },
  {
   "cell_type": "code",
   "execution_count": 18,
   "metadata": {
    "collapsed": false
   },
   "outputs": [],
   "source": [
    "anne= 16\n",
    "mes= 10\n",
    "dia= 11\n",
    "todosTaus= np.empty(0)\n",
    "for acqN in np.arange(1,6):\n",
    "    npzData= np.load(dataPathFile(anne, mes, dia, acqN))\n",
    "    finales= agrupadorTauMaxAreas(npzData)\n",
    "    taus= finales[:,0] # [s]\n",
    "    todosTaus= np.hstack((todosTaus,taus))"
   ]
  },
  {
   "cell_type": "code",
   "execution_count": 19,
   "metadata": {
    "collapsed": false
   },
   "outputs": [
    {
     "data": {
      "text/plain": [
       "(560, 1.3134107142856744e-07, 1.1251102520696286e-10)"
      ]
     },
     "execution_count": 19,
     "metadata": {},
     "output_type": "execute_result"
    },
    {
     "data": {
      "image/png": "[encoded data removed]",
      "text/plain": [
       "<matplotlib.figure.Figure at 0x7fbee44e7a58>"
      ]
     },
     "metadata": {},
     "output_type": "display_data"
    }
   ],
   "source": [
    "neufBin(todosTaus, 0.95, 'T [s]')"
   ]
  },
  {
   "cell_type": "markdown",
   "metadata": {},
   "source": [
    "# Integrador 500 V"
   ]
  },
  {
   "cell_type": "code",
   "execution_count": 25,
   "metadata": {
    "collapsed": false
   },
   "outputs": [],
   "source": [
    "#primer ensayo\n",
    "anne= 16\n",
    "mes= 10\n",
    "dia= 11\n",
    "acqN= 6\n",
    "npzData= np.load(dataPathFile(anne, mes, dia, acqN))\n",
    "finales= agrupadorTauMaxAreas(npzData)"
   ]
  },
  {
   "cell_type": "code",
   "execution_count": 26,
   "metadata": {
    "collapsed": false
   },
   "outputs": [
    {
     "data": {
      "text/plain": [
       "(107, 1.3379439252336038e-07, 1.7469932268066323e-10)"
      ]
     },
     "execution_count": 26,
     "metadata": {},
     "output_type": "execute_result"
    },
    {
     "data": {
      "image/png": "[encoded data removed]",
      "text/plain": [
       "<matplotlib.figure.Figure at 0x7fbee4bdf940>"
      ]
     },
     "metadata": {},
     "output_type": "display_data"
    }
   ],
   "source": [
    "# tiempos de subida (risetime AMC)\n",
    "taus= finales[:,0] # [s]\n",
    "neufBin(taus, 1.0, 'T [s]')"
   ]
  },
  {
   "cell_type": "code",
   "execution_count": 44,
   "metadata": {
    "collapsed": false
   },
   "outputs": [],
   "source": [
    "anne= 16\n",
    "mes= 10\n",
    "dia= 11\n",
    "todosTaus500= np.empty(0)\n",
    "# for acqN in np.arange(6,17):\n",
    "for acqN in np.arange(6,11):\n",
    "    npzData= np.load(dataPathFile(anne, mes, dia, acqN))\n",
    "    finales= agrupadorTauMaxAreas(npzData)\n",
    "    taus= finales[:,0] # [s]\n",
    "    todosTaus500= np.hstack((todosTaus500,taus))"
   ]
  },
  {
   "cell_type": "code",
   "execution_count": 45,
   "metadata": {
    "collapsed": false
   },
   "outputs": [
    {
     "data": {
      "text/plain": [
       "(527, 1.3414990512333548e-07, 9.3784903194977771e-11)"
      ]
     },
     "execution_count": 45,
     "metadata": {},
     "output_type": "execute_result"
    },
    {
     "data": {
      "image/png": "[encoded data removed]",
      "text/plain": [
       "<matplotlib.figure.Figure at 0x7fbee49b0358>"
      ]
     },
     "metadata": {},
     "output_type": "display_data"
    }
   ],
   "source": [
    "neufBin(todosTaus500, 1.0, 'T [s]')"
   ]
  },
  {
   "cell_type": "markdown",
   "metadata": {},
   "source": [
    "# Referencia - FC 165 - 500 V"
   ]
  },
  {
   "cell_type": "code",
   "execution_count": 9,
   "metadata": {
    "collapsed": false
   },
   "outputs": [],
   "source": [
    "# Nivel de dissparo 1.00 V\n",
    "anne= 16\n",
    "mes= 10\n",
    "dia= 13\n",
    "todosTausfc500= np.empty(0)\n",
    "# for acqN in np.arange(6,17):\n",
    "for acqN in np.arange(1,5):\n",
    "    npzData= np.load(dataPathFile(anne, mes, dia, acqN))\n",
    "    finales= agrupadorTauMaxAreas(npzData)\n",
    "    taus= finales[:,0] # [s]\n",
    "    todosTausfc500= np.hstack((todosTausfc500,taus))"
   ]
  },
  {
   "cell_type": "code",
   "execution_count": 10,
   "metadata": {
    "collapsed": false
   },
   "outputs": [
    {
     "data": {
      "text/plain": [
       "(501, 9.6265469061873192e-08, 1.6709687016705728e-10)"
      ]
     },
     "execution_count": 10,
     "metadata": {},
     "output_type": "execute_result"
    },
    {
     "data": {
      "image/png": "[encoded data removed]",
      "text/plain": [
       "<matplotlib.figure.Figure at 0x7f007293a550>"
      ]
     },
     "metadata": {},
     "output_type": "display_data"
    }
   ],
   "source": [
    "neufBin(todosTausfc500, 1.0, 'T [s]')"
   ]
  },
  {
   "cell_type": "code",
   "execution_count": 11,
   "metadata": {
    "collapsed": false
   },
   "outputs": [],
   "source": [
    "# Nivel de dissparo 1.50 V\n",
    "anne= 16\n",
    "mes= 10\n",
    "dia= 13\n",
    "todosTausfc500= np.empty(0)\n",
    "# for acqN in np.arange(6,17):\n",
    "for acqN in np.arange(5,6):\n",
    "    npzData= np.load(dataPathFile(anne, mes, dia, acqN))\n",
    "    finales= agrupadorTauMaxAreas(npzData)\n",
    "    taus= finales[:,0] # [s]\n",
    "    todosTausfc500= np.hstack((todosTausfc500,taus))"
   ]
  },
  {
   "cell_type": "code",
   "execution_count": 12,
   "metadata": {
    "collapsed": false
   },
   "outputs": [
    {
     "data": {
      "text/plain": [
       "(126, 9.5587301587298699e-08, 4.8509763110265802e-10)"
      ]
     },
     "execution_count": 12,
     "metadata": {},
     "output_type": "execute_result"
    },
    {
     "data": {
      "image/png": "[encoded data removed]",
      "text/plain": [
       "<matplotlib.figure.Figure at 0x7f0072677160>"
      ]
     },
     "metadata": {},
     "output_type": "display_data"
    }
   ],
   "source": [
    "neufBin(todosTausfc500, 1.0, 'T [s]')"
   ]
  },
  {
   "cell_type": "markdown",
   "metadata": {},
   "source": [
    "Ahora con 400 V... medición 6"
   ]
  },
  {
   "cell_type": "code",
   "execution_count": 19,
   "metadata": {
    "collapsed": false
   },
   "outputs": [],
   "source": [
    "# Nivel de dissparo 1.00 V\n",
    "anne= 16\n",
    "mes= 10\n",
    "dia= 13\n",
    "todosTausfc500= np.empty(0)\n",
    "for acqN in np.arange(6,16):\n",
    "    npzData= np.load(dataPathFile(anne, mes, dia, acqN))\n",
    "    finales= agrupadorTauMaxAreas(npzData)\n",
    "    taus= finales[:,0] # [s]\n",
    "    todosTausfc500= np.hstack((todosTausfc500,taus))"
   ]
  },
  {
   "cell_type": "code",
   "execution_count": 21,
   "metadata": {
    "collapsed": false
   },
   "outputs": [
    {
     "data": {
      "text/plain": [
       "(1126, 9.6748667850796405e-08, 3.7315809964376425e-11)"
      ]
     },
     "execution_count": 21,
     "metadata": {},
     "output_type": "execute_result"
    },
    {
     "data": {
      "image/png": "[encoded data removed]",
      "text/plain": [
       "<matplotlib.figure.Figure at 0x7f0072662b38>"
      ]
     },
     "metadata": {},
     "output_type": "display_data"
    }
   ],
   "source": [
    "neufBin(todosTausfc500, 0.75, 'T [s]')"
   ]
  }
 ],
 "metadata": {
  "kernelspec": {
   "display_name": "Python 3",
   "language": "python",
   "name": "python3"
  },
  "language_info": {
   "codemirror_mode": {
    "name": "ipython",
    "version": 3
   },
   "file_extension": ".py",
   "mimetype": "text/x-python",
   "name": "python",
   "nbconvert_exporter": "python",
   "pygments_lexer": "ipython3",
   "version": "3.4.2"
  }
 },
 "nbformat": 4,
 "nbformat_minor": 0
}
