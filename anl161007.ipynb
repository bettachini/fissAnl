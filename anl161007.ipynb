{
 "metadata": {
  "name": "",
  "signature": "sha256:f4fe0fb2e41d10d5973ff3a502b2f1c1501fea2a24660c2b902a5d9127834ce5"
 },
 "nbformat": 3,
 "nbformat_minor": 0,
 "worksheets": [
  {
   "cells": [
    {
     "cell_type": "code",
     "collapsed": false,
     "input": [
      "# Basado en anl150925\n",
      "\n",
      "import matplotlib\n",
      "import numpy as np\n",
      "import matplotlib.pyplot as plt\n",
      "%matplotlib inline\n",
      "# coding=utf-8"
     ],
     "language": "python",
     "metadata": {},
     "outputs": [],
     "prompt_number": 1
    },
    {
     "cell_type": "heading",
     "level": 1,
     "metadata": {},
     "source": [
      "An\u00e1lisis \u00e1reas - Intento desde limpio"
     ]
    },
    {
     "cell_type": "heading",
     "level": 2,
     "metadata": {},
     "source": [
      "Funciones \u00e1rea"
     ]
    },
    {
     "cell_type": "code",
     "collapsed": false,
     "input": [
      "def tauAreaMax(iAMC, prop= 0.25, rechazo= 0.05):\n",
      "    '''\n",
      "    (array, array) -> array\n",
      "    T: vector tiempos\n",
      "    Meas2: array (2,:) con Meas2[0] canal 1, Meas2[0] canal 2, producto de np.vstack\n",
      "\n",
      "    Retorna:\n",
      "    \u00edndice vector tiempo subida entre 10% y 90% canal 2 (ch2: AMC)\n",
      "    \u00c1rea total: por sobre nivel de base entre 10% a izquierda y derecha (ch2: AMC)\n",
      "    \u00c1rea subida: por sobre nivel de base entre 10% a izquierda y m\u00e1ximo (ch2: AMC)\n",
      "    M\u00e1ximo (ch2: AMC)\n",
      "    '''\n",
      "    maxIx= iAMC.argmax() # \u00edndice m\u00e1ximo\n",
      "    # m\u00e1ximo promediado cercano\n",
      "    rangoCercano= 20 # tres lecturas a izq y derecha\n",
      "    iAMCMax= (iAMC[maxIx- rangoCercano: maxIx+ rangoCercano]).mean()   \n",
      "\n",
      "    erstePunkten= int(iAMC.size* prop)\n",
      "    ch2Erste= iAMC[0:erstePunkten-1]\n",
      "    iAMCProm= ch2Erste.mean()\n",
      "    \n",
      "    if (ch2Erste.std() > (np.abs((iAMCMax- iAMCProm )* rechazo))): # desvio standard AMC> (m\u00e1ximo- nivel base) * rechazo\n",
      "        return np.zeros(4) # cuidar que tenga igual dimensi\u00f3n que salida\n",
      "    else:\n",
      "        # diferencia m\u00e1ximo- base\n",
      "        difMaxMin= iAMCMax- iAMCProm # usa promediado cercano\n",
      "        # Diferencias de potencial para 10%, 90% de excursi\u00f3n\n",
      "        v10= iAMCProm+ 0.1* difMaxMin\n",
      "        v90= iAMCProm+ 0.9* difMaxMin\n",
      "        # \u00cdndices para primer potencial del pulso que exceda 10%, y \u00faltimo por debajo 90% \n",
      "        ixTauiAMC= np.array([maxIx, maxIx])\n",
      "        while (iAMC[ixTauiAMC[0]]> v10):\n",
      "            ixTauiAMC[0]-= 1\n",
      "        while (iAMC[ixTauiAMC[1]]> v90):\n",
      "            ixTauiAMC[1]-= 1\n",
      "        iAMCTau= ixTauiAMC[1]- ixTauiAMC[0] # el vector \n",
      "        # Area\n",
      "        ixAMC10ProzentRicht= maxIx # empiezo por m\u00e1ximo\n",
      "        while (iAMC[ixAMC10ProzentRicht]> v10):\n",
      "            ixAMC10ProzentRicht+= 1\n",
      "        # ixTau[1], maxIx[1], ixAMC10ProzentRicht\n",
      "        # hay que sumar diferencia AMC con este nivel desde el \u00edndice 10% izquierda hasta derecha\n",
      "        iAMCAreaSubida= (iAMC[ixTauiAMC[0]: maxIx] - iAMCProm).sum()\n",
      "        iAMCAreaTotal= iAMCAreaSubida+ (iAMC[maxIx+ 1: ixAMC10ProzentRicht] - iAMCProm).sum()\n",
      "        return np.array([iAMCTau, iAMCMax, iAMCAreaSubida, iAMCAreaTotal])"
     ],
     "language": "python",
     "metadata": {},
     "outputs": [],
     "prompt_number": 2
    },
    {
     "cell_type": "code",
     "collapsed": false,
     "input": [
      "def conversionV(npzData):\n",
      "    \"\"\" acq -> np.array: [ceroAMCPto, pasoVerticalAMCVoltPto, ceroFLUCPto, pasoVerticalFLUCVoltPto]\n",
      "\n",
      "    Da factores de conservi\u00f3n para de Meas2 con niveles en enteros obtener niveles en potencial el\u00e9ctrico.\n",
      "    e.g. potencialAMC= (Meas2[1,:]- ceroAMCPto)* pasoVerticalAMCVoltPto\n",
      "    \n",
      "    >>> conversionV(acq)\n",
      "    'olleh'\n",
      "    \"\"\"\n",
      "    # Constructivo del Tek 2002B\n",
      "    divVert= 8 # numero de divisiones verticales\n",
      "    divHoriz= 10\n",
      "    ptosVert= 2**8 # 8 bits definici\u00f3n vertical\n",
      "    ptosHoriz= 2500\n",
      "    # npZData.items() # lista los elementos en el archivo de aquisici\u00f3n en memoria\n",
      "    settingsList= npzData['settings'].tolist()\n",
      "    \n",
      "    # Vertical (potencial)\n",
      "    escalaFLUCVoltsDiv= settingsList['SCALE1'] # [V/div]\n",
      "    pasoVerticalFLUCVoltPto= escalaFLUCVoltsDiv* divVert/ ptosVert # [V/div]\n",
      "    escalaAMCVoltsDiv= settingsList['SCALE2'] # [V/div]\n",
      "    pasoVerticalAMCVoltPto= escalaAMCVoltsDiv* divVert/ ptosVert # [V/div]\n",
      "    ceroFLUCDiv= settingsList['POSITION1'] # [div]\n",
      "    ceroFLUCPto= ceroFLUCDiv* divVert/ ptosVert # [ptos]\n",
      "    ceroAMCDiv= settingsList['POSITION2'] # [div]\n",
      "    ceroAMCPto= ceroAMCDiv* ptosVert/ divVert # [ptos]\n",
      "    \n",
      "    return ceroAMCPto, pasoVerticalAMCVoltPto, ceroFLUCPto, pasoVerticalFLUCVoltPto"
     ],
     "language": "python",
     "metadata": {},
     "outputs": [],
     "prompt_number": 3
    },
    {
     "cell_type": "code",
     "collapsed": false,
     "input": [
      "def agrupadorTauMaxAreas(npzData, prop=0.25):\n",
      "    '''\n",
      "    (npzData) -> (array)\n",
      "    recorre todas las adquisiciones en npzData\n",
      "    \n",
      "    entrega array con filas [tauAMCi, tauFLUCi, areaTotalAMCi, areaSubidaAMCi, maxAMCi]\n",
      "    '''\n",
      "    T= npzData['zeit']\n",
      "    AMC= npzData['ch2']\n",
      "    messungenZahl= AMC.shape\n",
      "    numAdq= messungenZahl[0] # numero de adquisiciones en npzData\n",
      "    finales= np.empty([numAdq,4])\n",
      "    validas=0\n",
      "    \n",
      "    # conversi\u00f3n\n",
      "    pasoT= T[1]-T[0]\n",
      "    ceroAMCPto, pasoVerticalAMCVoltPto, ceroFLUCPto, pasoVerticalFLUCVoltPto= conversionV(npzData)\n",
      "    \n",
      "    for adqActual in range(numAdq):\n",
      "        iAMC= AMC[adqActual]\n",
      "        # print(adqActual)\n",
      "        # parciales=  tauAreaMax(iAMC)\n",
      "        # parciales[0]*= pasoT\n",
      "        try: # IndexError: index out of bounds\n",
      "            parciales=  tauAreaMax(iAMC)# np.array([ixTauiAMC, iAMCMax, iAMCAreaSubida, iAMCAreaTotal]) [cuentas]\n",
      "            parciales[0]*= pasoT # ixTauiAMC [s]\n",
      "            parciales[1]= (parciales[1]- ceroAMCPto)* pasoVerticalAMCVoltPto # iAMCMax [V]\n",
      "            parciales[2]= (parciales[2]- messungenZahl[1]* ceroAMCPto)* pasoT # iAMCAreaSubida [Vs] <anl150907>\n",
      "            parciales[3]= (parciales[3]- messungenZahl[1]* ceroAMCPto)* pasoT # iAMCAreaTotal [Vs] <anl150907>\n",
      "        except IndexError:\n",
      "            parciales= np.zeros(4)\n",
      "        # print(parciales[0], parciales)\n",
      "        if (parciales[0]>0):\n",
      "            # print(validas, parciales[0], parciales[3])\n",
      "            finales[validas]= parciales\n",
      "            validas+=1\n",
      "    finales= finales[0:-(numAdq-validas)]\n",
      "    return finales"
     ],
     "language": "python",
     "metadata": {},
     "outputs": [],
     "prompt_number": 4
    },
    {
     "cell_type": "code",
     "collapsed": false,
     "input": [
      "def desvioEstandardCuasiNoSesgado(datos):\n",
      "    '''\n",
      "    Estimador cuasi no sesgado de la desviaci\u00f3n estandar.\n",
      "    https://en.wikipedia.org/wiki/Unbiased_estimation_of_standard_deviation\n",
      "    '''\n",
      "    media= np.mean(datos)\n",
      "    suma=0\n",
      "    for i in datos:\n",
      "        aux= (datos[i]- media)\n",
      "        suma+= aux**2\n",
      "    desv= np.sqrt(suma/( np.size(datos)- 1.5) ) \n",
      "    return desv\n",
      "\n",
      "\n",
      "def errorEstandard(datos):\n",
      "    '''\n",
      "    Estimador de la desviaci\u00f3n estandar del promedio.\n",
      "    Usa la desviaci\u00f3n estandar de la poblaci\u00f3n y la divide por la ra\u00edz del n\u00famero de elementos en la poblaci\u00f3n.\n",
      "    https://en.wikipedia.org/wiki/Standard_error\n",
      "    '''\n",
      "    return desvioEstandardCuasiNoSesgado(datos)/ np.sqrt(np.size(datos))"
     ],
     "language": "python",
     "metadata": {},
     "outputs": [],
     "prompt_number": 5
    },
    {
     "cell_type": "code",
     "collapsed": false,
     "input": [
      "def neufBin(entrada, corte, unidad='Unidad [u.a.]'):\n",
      "    bins= 120\n",
      "    binHist=corte*bins\n",
      "    fig = plt.figure(figsize=(18,5))  # an empty figure with no axes\n",
      "    ax_lst= fig.add_subplot(1,2,2)\n",
      "    n, bins, patches= ax_lst.hist(entrada, bins)\n",
      "    ax_lst.set_ylabel('Cuentas')\n",
      "    ax_lst.set_xlabel(unidad)\n",
      "    intermedio = np.ma.masked_greater(entrada, bins[binHist])\n",
      "    primerCampana= intermedio.compressed()\n",
      "    ax_lst2= fig.add_subplot(1,2,1)\n",
      "    ax_lst2.set_ylabel('Cuentas')\n",
      "    ax_lst2.set_xlabel(unidad)\n",
      "    n_i, bins_i, patches_i= ax_lst2.hist(primerCampana, bins=20)\n",
      "    return (primerCampana.size, primerCampana.mean(), errorEstandard(primerCampana) )"
     ],
     "language": "python",
     "metadata": {},
     "outputs": [],
     "prompt_number": 6
    },
    {
     "cell_type": "code",
     "collapsed": false,
     "input": [
      "def dataPathFile(anne, mes, dia, acq):\n",
      "    path= './data/'\n",
      "    fNS= 'acq'+ '{:02n}'.format(anne)+ '{:02n}'.format(mes)+ '{:02n}'.format(dia)+ 'z'\n",
      "    fNE= '.npy.npz'\n",
      "    return path+ fNS+ '{:02n}'.format(acq)+fNE"
     ],
     "language": "python",
     "metadata": {},
     "outputs": [],
     "prompt_number": 7
    },
    {
     "cell_type": "heading",
     "level": 1,
     "metadata": {},
     "source": [
      "Gr\u00e1ficas para informe"
     ]
    },
    {
     "cell_type": "code",
     "collapsed": false,
     "input": [
      "import matplotlib.ticker as tkr"
     ],
     "language": "python",
     "metadata": {},
     "outputs": [],
     "prompt_number": 8
    },
    {
     "cell_type": "heading",
     "level": 2,
     "metadata": {},
     "source": [
      "Mezcla \u00f3ptima "
     ]
    },
    {
     "cell_type": "code",
     "collapsed": false,
     "input": [
      "#primer ensayo\n",
      "anne= 16\n",
      "mes= 10\n",
      "dia= 7\n",
      "acqN= 1\n",
      "npzData= np.load(dataPathFile(anne, mes, dia, acqN))\n",
      "finales= agrupadorTauMaxAreas(npzData)"
     ],
     "language": "python",
     "metadata": {},
     "outputs": [],
     "prompt_number": 9
    },
    {
     "cell_type": "code",
     "collapsed": false,
     "input": [
      "# tiempos de subida (risetime AMC)\n",
      "taus= finales[:,0] # [s]\n",
      "neufBin(taus, 1.0, 'T [s]')"
     ],
     "language": "python",
     "metadata": {},
     "outputs": [
      {
       "metadata": {},
       "output_type": "pyout",
       "prompt_number": 11,
       "text": [
        "(113, 1.3106194690265088e-07, 1.8353894781321673e-10)"
       ]
      },
      {
       "metadata": {},
       "output_type": "display_data",
       "png": "[encoded data removed]",
       "text": [
        "<matplotlib.figure.Figure at 0x7fc397d3edd8>"
       ]
      }
     ],
     "prompt_number": 11
    },
    {
     "cell_type": "code",
     "collapsed": false,
     "input": [
      "#primer ensayo\n",
      "anne= 16\n",
      "mes= 10\n",
      "dia= 7\n",
      "acqN= 2\n",
      "npzData= np.load(dataPathFile(anne, mes, dia, acqN))\n",
      "finales= agrupadorTauMaxAreas(npzData)"
     ],
     "language": "python",
     "metadata": {},
     "outputs": [],
     "prompt_number": 15
    },
    {
     "cell_type": "code",
     "collapsed": false,
     "input": [
      "# tiempos de subida (risetime AMC)\n",
      "taus= finales[:,0] # [s]\n",
      "neufBin(taus, .85, 'T [s]')"
     ],
     "language": "python",
     "metadata": {},
     "outputs": [
      {
       "metadata": {},
       "output_type": "pyout",
       "prompt_number": 18,
       "text": [
        "(111, 1.302612612612572e-07, 2.4967091881899053e-11)"
       ]
      },
      {
       "metadata": {},
       "output_type": "display_data",
       "png": "[encoded data removed]",
       "text": [
        "<matplotlib.figure.Figure at 0x7fc39568dc88>"
       ]
      }
     ],
     "prompt_number": 18
    },
    {
     "cell_type": "markdown",
     "metadata": {},
     "source": [
      "Concluimos que hay un $\\tau= 130\\pm3\\,\\mathrm{s}$. Esto extede al medido en la referencia, primer lectura con igual threshold $1,96\\,\\mathrm{V}$ luego del cambio de la electr\u00f3nica el de referencia $\\tau= 116\\pm2\\,\\mathrm{s}$.\n",
      "\n",
      "De todas formas Marcelo envi\u00f3 el CFP-035 a estrangular conteniendo una mezcla presunta de $\\mathrm{\\frac{N_2}{N_2+ Ar}} \\simeq 2,9\\%$."
     ]
    },
    {
     "cell_type": "heading",
     "level": 3,
     "metadata": {},
     "source": [
      "Referencia"
     ]
    },
    {
     "cell_type": "code",
     "collapsed": false,
     "input": [
      "anne= 16\n",
      "mes= 2\n",
      "dia= 1\n",
      "acqN= 2\n",
      "npzData= np.load(dataPathFile(anne, mes, dia, acqN))\n",
      "finales= agrupadorTauMaxAreas(npzData)"
     ],
     "language": "python",
     "metadata": {},
     "outputs": [],
     "prompt_number": 13
    },
    {
     "cell_type": "code",
     "collapsed": false,
     "input": [
      "# tiempos de subida (risetime AMC)\n",
      "taus= finales[:,0] # [s]\n",
      "neufBin(taus, 1.0, 'T [s]')"
     ],
     "language": "python",
     "metadata": {},
     "outputs": [
      {
       "metadata": {},
       "output_type": "pyout",
       "prompt_number": 14,
       "text": [
        "(392, 1.1634438775511076e-07, 1.6924120371763921e-10)"
       ]
      },
      {
       "metadata": {},
       "output_type": "display_data",
       "png": "[encoded data removed]",
       "text": [
        "<matplotlib.figure.Figure at 0x7fc397d3e710>"
       ]
      }
     ],
     "prompt_number": 14
    },
    {
     "cell_type": "heading",
     "level": 1,
     "metadata": {},
     "source": [
      "Hasta ac\u00e1"
     ]
    },
    {
     "cell_type": "heading",
     "level": 1,
     "metadata": {},
     "source": [
      "Integrador"
     ]
    },
    {
     "cell_type": "code",
     "collapsed": false,
     "input": [
      "# 150617z06\n",
      "anne= 16\n",
      "mes= 9\n",
      "dia= 26\n",
      "todosTaus= np.empty(0)\n",
      "for acqN in np.arange(1,11):\n",
      "    npzData= np.load(dataPathFile(anne, mes, dia, acqN))\n",
      "    finales= agrupadorTauMaxAreas(npzData)\n",
      "    taus= finales[:,0] # [s]\n",
      "    todosTaus= np.hstack((todosTaus,taus))"
     ],
     "language": "python",
     "metadata": {},
     "outputs": [
      {
       "metadata": {},
       "output_type": "pyout",
       "prompt_number": 69,
       "text": [
        "array([  1.50000000e-07,   1.86000000e-07,   1.24000000e-07, ...,\n",
        "         1.28000000e-07,   1.26000000e-07,   1.22000000e-07])"
       ]
      }
     ],
     "prompt_number": 69
    },
    {
     "cell_type": "code",
     "collapsed": false,
     "input": [
      "neufBin(todosTaus, 0.35, 'T [s]')"
     ],
     "language": "python",
     "metadata": {},
     "outputs": [
      {
       "metadata": {},
       "output_type": "pyout",
       "prompt_number": 73,
       "text": [
        "(1135, 1.2565991189426922e-07, 7.2295519649549762e-10)"
       ]
      },
      {
       "metadata": {},
       "output_type": "display_data",
       "png": "[encoded data removed]",
       "text": [
        "<matplotlib.figure.Figure at 0x7f11977de320>"
       ]
      }
     ],
     "prompt_number": 73
    },
    {
     "cell_type": "code",
     "collapsed": false,
     "input": [
      "# 150617z06\n",
      "anne= 16\n",
      "mes= 9\n",
      "dia= 26\n",
      "todosTaus2= np.empty(0)\n",
      "for acqN in np.arange(11,21):\n",
      "    npzData= np.load(dataPathFile(anne, mes, dia, acqN))\n",
      "    finales= agrupadorTauMaxAreas(npzData)\n",
      "    taus= finales[:,0] # [s]\n",
      "    todosTaus2= np.hstack((todosTaus2,taus))"
     ],
     "language": "python",
     "metadata": {},
     "outputs": [],
     "prompt_number": 75
    },
    {
     "cell_type": "code",
     "collapsed": false,
     "input": [
      "todosTaus2"
     ],
     "language": "python",
     "metadata": {},
     "outputs": [
      {
       "metadata": {},
       "output_type": "pyout",
       "prompt_number": 77,
       "text": [
        "array([], dtype=float64)"
       ]
      }
     ],
     "prompt_number": 77
    },
    {
     "cell_type": "heading",
     "level": 3,
     "metadata": {},
     "source": [
      "Integrador segunda toma "
     ]
    },
    {
     "cell_type": "code",
     "collapsed": false,
     "input": [
      "# 150617z06\n",
      "anne= 16\n",
      "mes= 9\n",
      "dia= 26\n",
      "todosTaus= np.empty(0)\n",
      "for acqN in np.arange(1,11):\n",
      "    npzData= np.load(dataPathFile(anne, mes, dia, acqN))\n",
      "    finales= agrupadorTauMaxAreas(npzData)\n",
      "    taus= finales[:,0] # [s]\n",
      "    todosTaus= np.hstack((todosTaus,taus))"
     ],
     "language": "python",
     "metadata": {},
     "outputs": [],
     "prompt_number": 23
    },
    {
     "cell_type": "code",
     "collapsed": false,
     "input": [
      "neufBin(todosTaus, 0.35, 'T [s]')"
     ],
     "language": "python",
     "metadata": {},
     "outputs": [
      {
       "metadata": {},
       "output_type": "pyout",
       "prompt_number": 10,
       "text": [
        "(1135, 1.2565991189426922e-07, 7.2295519649549762e-10)"
       ]
      },
      {
       "metadata": {},
       "output_type": "display_data",
       "png": "[encoded data removed]",
       "text": [
        "<matplotlib.figure.Figure at 0x7f5fbbb507f0>"
       ]
      }
     ],
     "prompt_number": 10
    },
    {
     "cell_type": "code",
     "collapsed": false,
     "input": [
      "entrada= todosTaus\n",
      "corte= 0.35\n",
      "unidad= '$\\\\tau$ [s]'\n",
      "ancho= 16/2.54 # [in]\n",
      "\n",
      "bins= 120\n",
      "binHist=corte*bins\n",
      "fig = plt.figure(figsize=(ancho,2*ancho*(5/18)))  # an empty figure with no axes\n",
      "ax_lst= fig.add_subplot(1,1,1)\n",
      "n, bins, patches= ax_lst.hist(entrada, bins)\n",
      "ax_lst.set_ylabel('Cuentas')\n",
      "ax_lst.set_xlabel(unidad,fontsize=15)\n",
      "ax_lst.set_xlim(left=5E-8, right= 3.0E-7)\n",
      "\n",
      "\n",
      "def func(x, pos):  # formatter function takes tick label and tick position\n",
      "   s = '{:.1e}'.format(x)\n",
      "   return s\n",
      "x_format = tkr.FuncFormatter(func)  # make formatter\n",
      "ax_lst.xaxis.set_major_formatter(x_format)  # set formatter to needed axis\n",
      "\n",
      "intermedio = np.ma.masked_greater(entrada, bins[binHist])\n",
      "primerCampana= intermedio.compressed()\n",
      "ax_lst2= fig.add_subplot(2,2,2)\n",
      "ax_lst2.set_ylabel('Cuentas')\n",
      "ax_lst2.set_xlabel(unidad,fontsize=15)\n",
      "\n",
      "ax_lst2.set_xlim(left=0.9E-7, right= 1.7E-7)\n",
      "ax_lst2.set_ylim(top=200)\n",
      "ax_lst2.xaxis.set_major_formatter(x_format)  # set formatter to needed axis\n",
      "plt.locator_params(axis = 'x', nbins = 4)\n",
      "plt.locator_params(axis = 'y', nbins = 2)\n",
      "n_i, bins_i, patches_i= ax_lst2.hist(primerCampana, bins=20)\n",
      "plt.savefig('../presentacion/graphs/taus160629z0x.png')"
     ],
     "language": "python",
     "metadata": {},
     "outputs": [
      {
       "metadata": {},
       "output_type": "display_data",
       "png": "[encoded data removed]",
       "text": [
        "<matplotlib.figure.Figure at 0x7f5fb93b4f28>"
       ]
      }
     ],
     "prompt_number": 28
    },
    {
     "cell_type": "code",
     "collapsed": false,
     "input": [
      "# 150617z06\n",
      "anne= 16\n",
      "mes= 9\n",
      "dia= 26\n",
      "todosTaus= np.empty(0)\n",
      "for acqN in np.arange(11,21):\n",
      "    fil=dataPathFile(anne, mes, dia, acqN)\n",
      "    print(fil)\n",
      "    npzData= np.load(fil)\n",
      "    # finales= agrupadorTauMaxAreas(npzData)\n",
      "    finales= agrupadorTauMaxAreas(npzData)\n",
      "    taus= finales[:,0] # [s]\n",
      "    taus"
     ],
     "language": "python",
     "metadata": {},
     "outputs": [
      {
       "output_type": "stream",
       "stream": "stdout",
       "text": [
        "./data/acq160926z11.npy.npz\n",
        "./data/acq160926z12.npy.npz\n",
        "./data/acq160926z13.npy.npz\n",
        "./data/acq160926z14.npy.npz"
       ]
      },
      {
       "output_type": "stream",
       "stream": "stdout",
       "text": [
        "\n",
        "./data/acq160926z15.npy.npz\n",
        "./data/acq160926z16.npy.npz"
       ]
      },
      {
       "output_type": "stream",
       "stream": "stdout",
       "text": [
        "\n",
        "./data/acq160926z17.npy.npz\n",
        "./data/acq160926z18.npy.npz"
       ]
      },
      {
       "output_type": "stream",
       "stream": "stdout",
       "text": [
        "\n",
        "./data/acq160926z19.npy.npz\n",
        "./data/acq160926z20.npy.npz\n"
       ]
      }
     ],
     "prompt_number": 21
    },
    {
     "cell_type": "code",
     "collapsed": false,
     "input": [
      "taus"
     ],
     "language": "python",
     "metadata": {},
     "outputs": [
      {
       "metadata": {},
       "output_type": "pyout",
       "prompt_number": 20,
       "text": [
        "array([], dtype=float64)"
       ]
      }
     ],
     "prompt_number": 20
    },
    {
     "cell_type": "code",
     "collapsed": false,
     "input": [
      "neufBin(todosTaus, 0.35, 'T [s]')"
     ],
     "language": "python",
     "metadata": {},
     "outputs": [
      {
       "ename": "ValueError",
       "evalue": "x must have at least one data point",
       "output_type": "pyerr",
       "traceback": [
        "\u001b[0;31m---------------------------------------------------------------------------\u001b[0m\n\u001b[0;31mValueError\u001b[0m                                Traceback (most recent call last)",
        "\u001b[0;32m<ipython-input-14-40139b41f4a3>\u001b[0m in \u001b[0;36m<module>\u001b[0;34m()\u001b[0m\n\u001b[0;32m----> 1\u001b[0;31m \u001b[0mneufBin\u001b[0m\u001b[0;34m(\u001b[0m\u001b[0mtodosTaus\u001b[0m\u001b[0;34m,\u001b[0m \u001b[0;36m0.35\u001b[0m\u001b[0;34m,\u001b[0m \u001b[0;34m'T [s]'\u001b[0m\u001b[0;34m)\u001b[0m\u001b[0;34m\u001b[0m\u001b[0m\n\u001b[0m",
        "\u001b[0;32m<ipython-input-6-27afaeb20e2a>\u001b[0m in \u001b[0;36mneufBin\u001b[0;34m(entrada, corte, unidad)\u001b[0m\n\u001b[1;32m      4\u001b[0m     \u001b[0mfig\u001b[0m \u001b[0;34m=\u001b[0m \u001b[0mplt\u001b[0m\u001b[0;34m.\u001b[0m\u001b[0mfigure\u001b[0m\u001b[0;34m(\u001b[0m\u001b[0mfigsize\u001b[0m\u001b[0;34m=\u001b[0m\u001b[0;34m(\u001b[0m\u001b[0;36m18\u001b[0m\u001b[0;34m,\u001b[0m\u001b[0;36m5\u001b[0m\u001b[0;34m)\u001b[0m\u001b[0;34m)\u001b[0m  \u001b[0;31m# an empty figure with no axes\u001b[0m\u001b[0;34m\u001b[0m\u001b[0m\n\u001b[1;32m      5\u001b[0m     \u001b[0max_lst\u001b[0m\u001b[0;34m=\u001b[0m \u001b[0mfig\u001b[0m\u001b[0;34m.\u001b[0m\u001b[0madd_subplot\u001b[0m\u001b[0;34m(\u001b[0m\u001b[0;36m1\u001b[0m\u001b[0;34m,\u001b[0m\u001b[0;36m2\u001b[0m\u001b[0;34m,\u001b[0m\u001b[0;36m2\u001b[0m\u001b[0;34m)\u001b[0m\u001b[0;34m\u001b[0m\u001b[0m\n\u001b[0;32m----> 6\u001b[0;31m     \u001b[0mn\u001b[0m\u001b[0;34m,\u001b[0m \u001b[0mbins\u001b[0m\u001b[0;34m,\u001b[0m \u001b[0mpatches\u001b[0m\u001b[0;34m=\u001b[0m \u001b[0max_lst\u001b[0m\u001b[0;34m.\u001b[0m\u001b[0mhist\u001b[0m\u001b[0;34m(\u001b[0m\u001b[0mentrada\u001b[0m\u001b[0;34m,\u001b[0m \u001b[0mbins\u001b[0m\u001b[0;34m)\u001b[0m\u001b[0;34m\u001b[0m\u001b[0m\n\u001b[0m\u001b[1;32m      7\u001b[0m     \u001b[0max_lst\u001b[0m\u001b[0;34m.\u001b[0m\u001b[0mset_ylabel\u001b[0m\u001b[0;34m(\u001b[0m\u001b[0;34m'Cuentas'\u001b[0m\u001b[0;34m)\u001b[0m\u001b[0;34m\u001b[0m\u001b[0m\n\u001b[1;32m      8\u001b[0m     \u001b[0max_lst\u001b[0m\u001b[0;34m.\u001b[0m\u001b[0mset_xlabel\u001b[0m\u001b[0;34m(\u001b[0m\u001b[0munidad\u001b[0m\u001b[0;34m)\u001b[0m\u001b[0;34m\u001b[0m\u001b[0m\n",
        "\u001b[0;32m/usr/lib/python3/dist-packages/matplotlib/axes/_axes.py\u001b[0m in \u001b[0;36mhist\u001b[0;34m(self, x, bins, range, normed, weights, cumulative, bottom, histtype, align, orientation, rwidth, log, color, label, stacked, **kwargs)\u001b[0m\n\u001b[1;32m   5569\u001b[0m         \u001b[0mflat\u001b[0m \u001b[0;34m=\u001b[0m \u001b[0mnp\u001b[0m\u001b[0;34m.\u001b[0m\u001b[0mravel\u001b[0m\u001b[0;34m(\u001b[0m\u001b[0mx\u001b[0m\u001b[0;34m)\u001b[0m\u001b[0;34m\u001b[0m\u001b[0m\n\u001b[1;32m   5570\u001b[0m         \u001b[0;32mif\u001b[0m \u001b[0mlen\u001b[0m\u001b[0;34m(\u001b[0m\u001b[0mflat\u001b[0m\u001b[0;34m)\u001b[0m \u001b[0;34m==\u001b[0m \u001b[0;36m0\u001b[0m\u001b[0;34m:\u001b[0m\u001b[0;34m\u001b[0m\u001b[0m\n\u001b[0;32m-> 5571\u001b[0;31m             \u001b[0;32mraise\u001b[0m \u001b[0mValueError\u001b[0m\u001b[0;34m(\u001b[0m\u001b[0;34m\"x must have at least one data point\"\u001b[0m\u001b[0;34m)\u001b[0m\u001b[0;34m\u001b[0m\u001b[0m\n\u001b[0m\u001b[1;32m   5572\u001b[0m         \u001b[0;32melif\u001b[0m \u001b[0mlen\u001b[0m\u001b[0;34m(\u001b[0m\u001b[0mflat\u001b[0m\u001b[0;34m)\u001b[0m \u001b[0;34m==\u001b[0m \u001b[0;36m1\u001b[0m \u001b[0;32mand\u001b[0m \u001b[0;32mnot\u001b[0m \u001b[0mbinsgiven\u001b[0m\u001b[0;34m:\u001b[0m\u001b[0;34m\u001b[0m\u001b[0m\n\u001b[1;32m   5573\u001b[0m             raise ValueError(\n",
        "\u001b[0;31mValueError\u001b[0m: x must have at least one data point"
       ]
      },
      {
       "metadata": {},
       "output_type": "display_data",
       "png": "[encoded data removed]",
       "text": [
        "<matplotlib.figure.Figure at 0x7f5fb93f6be0>"
       ]
      }
     ],
     "prompt_number": 14
    },
    {
     "cell_type": "code",
     "collapsed": false,
     "input": [],
     "language": "python",
     "metadata": {},
     "outputs": []
    }
   ],
   "metadata": {}
  }
 ]
}