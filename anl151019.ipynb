{
 "metadata": {
  "name": "",
  "signature": "sha256:786eac6902c6061d19dc2543ecf7c0f80668b43f007df08d83683b62fb6230ac"
 },
 "nbformat": 3,
 "nbformat_minor": 0,
 "worksheets": [
  {
   "cells": [
    {
     "cell_type": "code",
     "collapsed": false,
     "input": [
      "import matplotlib\n",
      "import numpy as np\n",
      "import matplotlib.pyplot as plt\n",
      "%matplotlib inline\n",
      "# coding=utf-8"
     ],
     "language": "python",
     "metadata": {},
     "outputs": [],
     "prompt_number": 1
    },
    {
     "cell_type": "heading",
     "level": 1,
     "metadata": {},
     "source": [
      "An\u00e1lisis \u00e1reas - Intento desde limpio"
     ]
    },
    {
     "cell_type": "heading",
     "level": 2,
     "metadata": {},
     "source": [
      "Funciones \u00e1rea"
     ]
    },
    {
     "cell_type": "code",
     "collapsed": false,
     "input": [
      "def tauAreaMax(iAMC, prop= 0.25, rechazo= 0.05):\n",
      "    '''\n",
      "    (array, array) -> array\n",
      "    T: vector tiempos\n",
      "    Meas2: array (2,:) con Meas2[0] canal 1, Meas2[0] canal 2, producto de np.vstack\n",
      "\n",
      "    Retorna:\n",
      "    \u00edndice vector tiempo subida entre 10% y 90% canal 2 (ch2: AMC)\n",
      "    \u00c1rea total: por sobre nivel de base entre 10% a izquierda y derecha (ch2: AMC)\n",
      "    \u00c1rea subida: por sobre nivel de base entre 10% a izquierda y m\u00e1ximo (ch2: AMC)\n",
      "    M\u00e1ximo (ch2: AMC)\n",
      "    '''\n",
      "    maxIx= iAMC.argmax() # \u00edndice m\u00e1ximo\n",
      "    # m\u00e1ximo promediado cercano\n",
      "    rangoCercano= 20 # tres lecturas a izq y derecha\n",
      "    iAMCMax= (iAMC[maxIx- rangoCercano: maxIx+ rangoCercano]).mean()   \n",
      "\n",
      "    erstePunkten= int(iAMC.size* prop)\n",
      "    ch2Erste= iAMC[0:erstePunkten-1]\n",
      "    iAMCProm= ch2Erste.mean()\n",
      "    \n",
      "    if (ch2Erste.std() > (np.abs((iAMCMax- iAMCProm )* rechazo))): # desvio standard AMC> (m\u00e1ximo- nivel base) * rechazo\n",
      "        return np.zeros(4) # cuidar que tenga igual dimensi\u00f3n que salida\n",
      "    else:\n",
      "        # diferencia m\u00e1ximo- base\n",
      "        difMaxMin= iAMCMax- iAMCProm # usa promediado cercano\n",
      "        # Diferencias de potencial para 10%, 90% de excursi\u00f3n\n",
      "        v10= iAMCProm+ 0.1* difMaxMin\n",
      "        v90= iAMCProm+ 0.9* difMaxMin\n",
      "        # \u00cdndices para primer potencial del pulso que exceda 10%, y \u00faltimo por debajo 90% \n",
      "        ixTauiAMC= np.array([maxIx, maxIx])\n",
      "        while (iAMC[ixTauiAMC[0]]> v10):\n",
      "            ixTauiAMC[0]-= 1\n",
      "        while (iAMC[ixTauiAMC[1]]> v90):\n",
      "            ixTauiAMC[1]-= 1\n",
      "        iAMCTau= ixTauiAMC[1]- ixTauiAMC[0] # el vector \n",
      "        # Area\n",
      "        ixAMC10ProzentRicht= maxIx # empiezo por m\u00e1ximo\n",
      "        while (iAMC[ixAMC10ProzentRicht]> v10):\n",
      "            ixAMC10ProzentRicht+= 1\n",
      "        # ixTau[1], maxIx[1], ixAMC10ProzentRicht\n",
      "        # hay que sumar diferencia AMC con este nivel desde el \u00edndice 10% izquierda hasta derecha\n",
      "        iAMCAreaSubida= (iAMC[ixTauiAMC[0]: maxIx] - iAMCProm).sum()\n",
      "        iAMCAreaTotal= iAMCAreaSubida+ (iAMC[maxIx+ 1: ixAMC10ProzentRicht] - iAMCProm).sum()\n",
      "        return np.array([iAMCTau, iAMCMax, iAMCAreaSubida, iAMCAreaTotal])"
     ],
     "language": "python",
     "metadata": {},
     "outputs": [],
     "prompt_number": 2
    },
    {
     "cell_type": "code",
     "collapsed": false,
     "input": [
      "def conversionV(npzData):\n",
      "    \"\"\" acq -> np.array: [ceroAMCPto, pasoVerticalAMCVoltPto, ceroFLUCPto, pasoVerticalFLUCVoltPto]\n",
      "\n",
      "    Da factores de conservi\u00f3n para de Meas2 con niveles en enteros obtener niveles en potencial el\u00e9ctrico.\n",
      "    e.g. potencialAMC= (Meas2[1,:]- ceroAMCPto)* pasoVerticalAMCVoltPto\n",
      "    \n",
      "    >>> conversionV(acq)\n",
      "    'olleh'\n",
      "    \"\"\"\n",
      "    # Constructivo del Tek 2002B\n",
      "    divVert= 8 # numero de divisiones verticales\n",
      "    divHoriz= 10\n",
      "    ptosVert= 2**8 # 8 bits definici\u00f3n vertical\n",
      "    ptosHoriz= 2500\n",
      "    # npZData.items() # lista los elementos en el archivo de aquisici\u00f3n en memoria\n",
      "    settingsList= npzData['settings'].tolist()\n",
      "    \n",
      "    # Vertical (potencial)\n",
      "    escalaFLUCVoltsDiv= settingsList['SCALE1'] # [V/div]\n",
      "    pasoVerticalFLUCVoltPto= escalaFLUCVoltsDiv* divVert/ ptosVert # [V/div]\n",
      "    escalaAMCVoltsDiv= settingsList['SCALE2'] # [V/div]\n",
      "    pasoVerticalAMCVoltPto= escalaAMCVoltsDiv* divVert/ ptosVert # [V/div]\n",
      "    ceroFLUCDiv= settingsList['POSITION1'] # [div]\n",
      "    ceroFLUCPto= ceroFLUCDiv* divVert/ ptosVert # [ptos]\n",
      "    ceroAMCDiv= settingsList['POSITION2'] # [div]\n",
      "    ceroAMCPto= ceroAMCDiv* ptosVert/ divVert # [ptos]\n",
      "    \n",
      "    return ceroAMCPto, pasoVerticalAMCVoltPto, ceroFLUCPto, pasoVerticalFLUCVoltPto"
     ],
     "language": "python",
     "metadata": {},
     "outputs": [],
     "prompt_number": 3
    },
    {
     "cell_type": "code",
     "collapsed": false,
     "input": [
      "def agrupadorTauMaxAreas(npzData, prop=0.25):\n",
      "    '''\n",
      "    (npzData) -> (array)\n",
      "    recorre todas las adquisiciones en npzData\n",
      "    \n",
      "    entrega array con filas [tauAMCi, tauFLUCi, areaTotalAMCi, areaSubidaAMCi, maxAMCi]\n",
      "    '''\n",
      "    T= npzData['zeit']\n",
      "    AMC= npzData['ch2']\n",
      "    messungenZahl= AMC.shape\n",
      "    numAdq= messungenZahl[0] # numero de adquisiciones en npzData\n",
      "    finales= np.empty([numAdq,4])\n",
      "    validas=0\n",
      "    \n",
      "    # conversi\u00f3n\n",
      "    pasoT= T[1]-T[0]\n",
      "    ceroAMCPto, pasoVerticalAMCVoltPto, ceroFLUCPto, pasoVerticalFLUCVoltPto= conversionV(npzData)\n",
      "    \n",
      "    for adqActual in range(numAdq):\n",
      "        iAMC= AMC[adqActual]\n",
      "        # print(adqActual)\n",
      "        # parciales=  tauAreaMax(iAMC)\n",
      "        # parciales[0]*= pasoT\n",
      "        try: # IndexError: index out of bounds\n",
      "            parciales=  tauAreaMax(iAMC)# np.array([ixTauiAMC, iAMCMax, iAMCAreaSubida, iAMCAreaTotal]) [cuentas]\n",
      "            parciales[0]*= pasoT # ixTauiAMC [s]\n",
      "            parciales[1]= (parciales[1]- ceroAMCPto)* pasoVerticalAMCVoltPto # iAMCMax [V]\n",
      "            parciales[2]= (parciales[2]- messungenZahl[1]* ceroAMCPto)* pasoT # iAMCAreaSubida [Vs] <anl150907>\n",
      "            parciales[3]= (parciales[3]- messungenZahl[1]* ceroAMCPto)* pasoT # iAMCAreaTotal [Vs] <anl150907>\n",
      "        except IndexError:\n",
      "            parciales= np.zeros(4)\n",
      "        # print(parciales[0], parciales)\n",
      "        if (parciales[0]>0):\n",
      "            # print(validas, parciales[0], parciales[3])\n",
      "            finales[validas]= parciales\n",
      "            validas+=1\n",
      "    finales= finales[0:-(numAdq-validas)]\n",
      "    return finales"
     ],
     "language": "python",
     "metadata": {},
     "outputs": [],
     "prompt_number": 4
    },
    {
     "cell_type": "code",
     "collapsed": false,
     "input": [
      "def desvioEstandardCuasiNoSesgado(datos):\n",
      "    '''\n",
      "    Estimador cuasi no sesgado de la desviaci\u00f3n estandar.\n",
      "    https://en.wikipedia.org/wiki/Unbiased_estimation_of_standard_deviation\n",
      "    '''\n",
      "    media= np.mean(datos)\n",
      "    suma=0\n",
      "    for i in datos:\n",
      "        aux= (datos[i]- media)\n",
      "        suma+= aux**2\n",
      "    desv= np.sqrt(suma/( np.size(datos)- 1.5) ) \n",
      "    return desv\n",
      "\n",
      "\n",
      "def errorEstandard(datos):\n",
      "    '''\n",
      "    Estimador de la desviaci\u00f3n estandar del promedio.\n",
      "    Usa la desviaci\u00f3n estandar de la poblaci\u00f3n y la divide por la ra\u00edz del n\u00famero de elementos en la poblaci\u00f3n.\n",
      "    https://en.wikipedia.org/wiki/Standard_error\n",
      "    '''\n",
      "    return desvioEstandardCuasiNoSesgado(datos)/ np.sqrt(np.size(datos))"
     ],
     "language": "python",
     "metadata": {},
     "outputs": [],
     "prompt_number": 5
    },
    {
     "cell_type": "code",
     "collapsed": false,
     "input": [
      "def neufBin(entrada, corte, unidad='Unidad [u.a.]'):\n",
      "    bins= 120\n",
      "    binHist=corte*bins\n",
      "    fig = plt.figure(figsize=(18,5))  # an empty figure with no axes\n",
      "    ax_lst= fig.add_subplot(1,2,2)\n",
      "    n, bins, patches= ax_lst.hist(entrada, bins)\n",
      "    ax_lst.set_ylabel('Cuentas')\n",
      "    ax_lst.set_xlabel(unidad)\n",
      "    intermedio = np.ma.masked_greater(entrada, bins[binHist])\n",
      "    primerCampana= intermedio.compressed()\n",
      "    ax_lst2= fig.add_subplot(1,2,1)\n",
      "    ax_lst2.set_ylabel('Cuentas')\n",
      "    ax_lst2.set_xlabel(unidad)\n",
      "    n_i, bins_i, patches_i= ax_lst2.hist(primerCampana, bins=20)\n",
      "    return (primerCampana.size, primerCampana.mean(), errorEstandard(primerCampana) )"
     ],
     "language": "python",
     "metadata": {},
     "outputs": [],
     "prompt_number": 6
    },
    {
     "cell_type": "code",
     "collapsed": false,
     "input": [
      "def dataPathFile(mes, dia, acq):\n",
      "    path= './data/'\n",
      "    fNS= 'acq15'+ '{:02n}'.format(mes)+ '{:02n}'.format(dia)+ 'z'\n",
      "    fNE= '.npy.npz'\n",
      "    return path+ fNS+ '{:02n}'.format(acq)+fNE"
     ],
     "language": "python",
     "metadata": {},
     "outputs": [],
     "prompt_number": 7
    },
    {
     "cell_type": "heading",
     "level": 1,
     "metadata": {},
     "source": [
      "Adquisici\u00f3n sin fuente 151016"
     ]
    },
    {
     "cell_type": "code",
     "collapsed": false,
     "input": [
      "import matplotlib.ticker as tkr"
     ],
     "language": "python",
     "metadata": {},
     "outputs": [],
     "prompt_number": 8
    },
    {
     "cell_type": "code",
     "collapsed": false,
     "input": [
      "def baseMeas2(Meas2, messungenZahl, prop=0.25):\n",
      "    '''\n",
      "    (array, array, float) -> array\n",
      "    \n",
      "    De la primer fracci\u00f3n prop de ambos canales en Meas2,\n",
      "    obtiene el promedio y dispersi\u00f3n que se asume como nivel de base\n",
      "    grProm[0]: promedio ch1, grProm[1]: promedio ch2,\n",
      "    grProm[2]: desviaci\u00f3n estandard ch1, grProm[3]: desviaci\u00f3n estandard ch2\n",
      "    '''\n",
      "    erstePunkten= int(messungenZahl[1]* prop)\n",
      "    ch1Erste= Meas2[0][0:erstePunkten-1]\n",
      "    ch2Erste= Meas2[1][0:erstePunkten-1]\n",
      "    return np.array([ch1Erste.mean(), ch2Erste.mean(), ch1Erste.std(), ch2Erste.std() ] )\n",
      "\n",
      "\n",
      "def tauCeti3e(T, Meas2, messungenZahl, prop, rechazo=0.1):\n",
      "    '''\n",
      "    Calcula \u00edndices risetime como tiempo entre 10% y 90% de excursi\u00f3n entre nivel de base y m\u00e1ximo\n",
      "   \n",
      "    Meas2: array (2,:) con Meas2[0] canal 1, Meas2[0] canal 2, producto de np.vstack\n",
      "    baseMeas2: base(Meas2)\n",
      "    '''\n",
      "    bMeas2= baseMeas2(Meas2, messungenZahl, prop) # niveles base\n",
      "    \n",
      "    if ((bMeas2[3])>np.abs(bMeas2[1]* rechazo)):\n",
      "        return np.array([0, 0 ])\n",
      "    else:\n",
      "        maxIx= (Meas2[0].argmax(), Meas2[1].argmax() ) # \u00edndice m\u00e1ximo\n",
      "        # m\u00e1ximo promediado cercano\n",
      "        rangoCercano= 20 # tres lecturas a izq y derecha\n",
      "        maxCH1= (Meas2[0][maxIx[0]- rangoCercano: maxIx[0]+ rangoCercano]).mean()\n",
      "        maxCH2= (Meas2[1][maxIx[1]- rangoCercano: maxIx[1]+ rangoCercano]).mean()\n",
      "        # diferencia m\u00e1ximo- base\n",
      "        deltaV= np.array([maxCH1- bMeas2[0],maxCH2- bMeas2[1]]) # usa promediado cercano\n",
      "        # Diferencias de potencial para 10%, 90% de excursi\u00f3n\n",
      "        v10= bMeas2[0:2]+ 0.1* deltaV\n",
      "        v90= bMeas2[0:2]+ 0.9* deltaV\n",
      "        # \u00cdndices para primer potencial del pulso que exceda 10%, y \u00faltimo por debajo 90% \n",
      "        ixTau= np.array([maxIx[0], maxIx[1], maxIx[0], maxIx[1]])\n",
      "        while (Meas2[0,ixTau[0]]> v10[0]):\n",
      "            ixTau[0]-= 1\n",
      "        while (Meas2[1,ixTau[1]]> v10[1]):\n",
      "            ixTau[1]-= 1\n",
      "        while (Meas2[0,ixTau[2]]> v90[0]):\n",
      "            ixTau[2]-= 1\n",
      "        while (Meas2[1,ixTau[3]]> v90[1]):\n",
      "            ixTau[3]-= 1\n",
      "        return np.array([T[ixTau[2]]- T[ixTau[0]], T[ixTau[3]]- T[ixTau[1]] ])\n",
      "    \n",
      "\n",
      "def tauAMCz3e(npzData, prop= 0.25):\n",
      "    '''\n",
      "    Vectores risetime canal AMC de archivo acq comprimido\n",
      "    \n",
      "    npzData= numpy.lib.npyio.NpzFile\n",
      "    prop= porcentaje inferior del canal a promediar para obtener nivel de base     \n",
      "    '''\n",
      "    FLUC= npzData['ch1']\n",
      "    AMC= npzData['ch2']\n",
      "    messungenZahl= AMC.shape\n",
      "    # tiempo\n",
      "    T= npzData['zeit']\n",
      "    tauAMC= np.empty([0, 1])\n",
      "    i=0\n",
      "    q=0\n",
      "    cucho= (messungenZahl[0]- q- 1 )\n",
      "    while (i< cucho ):\n",
      "        Meas2= np.array([FLUC[i+q], AMC[i+q] ] )\n",
      "        tauAMCi= tauCeti3e(T, Meas2, messungenZahl, prop)[1]\n",
      "        if (tauAMCi!=0):\n",
      "            i+=1\n",
      "            tauAMC= np.append(tauAMC, tauAMCi)\n",
      "        else:\n",
      "            q+=1\n",
      "        cucho= (messungenZahl[0]- q- 1 )\n",
      "    return tauAMC\n",
      "\n",
      "def agregadorTaus(mes, dia, rango):\n",
      "    taus= np.array([])\n",
      "    for i in rango:\n",
      "        acq= np.load(dataPathFile(mes, dia, i))\n",
      "        taus= np.append(taus, tauAMCz3e(acq))\n",
      "    return taus\n",
      "\n",
      "\n",
      "def binner(taus, binHist=40):\n",
      "    fig = plt.figure(figsize=(18,5))  # an empty figure with no axes\n",
      "    ax_lst= fig.add_subplot(1,2,2)\n",
      "    n, bins, patches= ax_lst.hist(taus, bins=120)\n",
      "    ax_lst.set_ylabel('Cuentas')\n",
      "    ax_lst.set_xlabel('Tau [ns]')\n",
      "    intermedio = np.ma.masked_greater(taus, bins[binHist])\n",
      "    primerCampana= intermedio.compressed()\n",
      "    ax_lst2= fig.add_subplot(1,2,1)\n",
      "    ax_lst2.set_ylabel('Cuentas')\n",
      "    ax_lst2.set_xlabel('Tau [ns]')\n",
      "    n_i, bins_i, patches_i= ax_lst2.hist(primerCampana, bins=20)\n",
      "    return (primerCampana.size, primerCampana.mean(), errorEstandard(primerCampana) )"
     ],
     "language": "python",
     "metadata": {},
     "outputs": [],
     "prompt_number": 11
    },
    {
     "cell_type": "code",
     "collapsed": false,
     "input": [
      "# \\verb'acq151016z01' - \\verb'acq151016z05' - \\verb'acq15101z06' - \\verb'acq151017z11'\n",
      "mes= 10\n",
      "\n",
      "dia= 16\n",
      "rango= np.arange(1,6)\n",
      "taus1= agregadorTaus(mes, dia, rango)\n",
      "\n",
      "dia= 17\n",
      "rango= np.arange(6,11)\n",
      "taus2= agregadorTaus(mes, dia, rango)\n",
      "\n",
      "taus= np.append(taus1, taus2)"
     ],
     "language": "python",
     "metadata": {},
     "outputs": [
      {
       "ename": "NameError",
       "evalue": "name 'binner' is not defined",
       "output_type": "pyerr",
       "traceback": [
        "\u001b[0;31m---------------------------------------------------------------------------\u001b[0m\n\u001b[0;31mNameError\u001b[0m                                 Traceback (most recent call last)",
        "\u001b[0;32m<ipython-input-10-9cb977ac5dd1>\u001b[0m in \u001b[0;36m<module>\u001b[0;34m()\u001b[0m\n\u001b[1;32m     12\u001b[0m \u001b[0mtaus\u001b[0m\u001b[0;34m=\u001b[0m \u001b[0mnp\u001b[0m\u001b[0;34m.\u001b[0m\u001b[0mappend\u001b[0m\u001b[0;34m(\u001b[0m\u001b[0mtaus1\u001b[0m\u001b[0;34m,\u001b[0m \u001b[0mtaus2\u001b[0m\u001b[0;34m)\u001b[0m\u001b[0;34m\u001b[0m\u001b[0m\n\u001b[1;32m     13\u001b[0m \u001b[0;34m\u001b[0m\u001b[0m\n\u001b[0;32m---> 14\u001b[0;31m \u001b[0;34m(\u001b[0m\u001b[0msiz\u001b[0m\u001b[0;34m,\u001b[0m \u001b[0mmTau\u001b[0m\u001b[0;34m,\u001b[0m \u001b[0memTau\u001b[0m\u001b[0;34m)\u001b[0m\u001b[0;34m=\u001b[0m \u001b[0mbinner\u001b[0m\u001b[0;34m(\u001b[0m\u001b[0mtaus\u001b[0m\u001b[0;34m,\u001b[0m \u001b[0;36m45\u001b[0m\u001b[0;34m)\u001b[0m\u001b[0;34m\u001b[0m\u001b[0m\n\u001b[0m\u001b[1;32m     15\u001b[0m \u001b[0mprint\u001b[0m\u001b[0;34m(\u001b[0m\u001b[0;34m'tau= '\u001b[0m\u001b[0;34m+\u001b[0m\u001b[0;34m'{:.03e}'\u001b[0m\u001b[0;34m.\u001b[0m\u001b[0mformat\u001b[0m\u001b[0;34m(\u001b[0m\u001b[0mmTau\u001b[0m\u001b[0;34m)\u001b[0m\u001b[0;34m+\u001b[0m \u001b[0;34m' +/- '\u001b[0m\u001b[0;34m+\u001b[0m \u001b[0;34m'{:.03e}'\u001b[0m\u001b[0;34m.\u001b[0m\u001b[0mformat\u001b[0m\u001b[0;34m(\u001b[0m\u001b[0memTau\u001b[0m\u001b[0;34m)\u001b[0m\u001b[0;34m)\u001b[0m\u001b[0;34m\u001b[0m\u001b[0m\n\u001b[1;32m     16\u001b[0m \u001b[0mprint\u001b[0m\u001b[0;34m(\u001b[0m\u001b[0mmTau\u001b[0m\u001b[0;34m,\u001b[0m \u001b[0memTau\u001b[0m\u001b[0;34m)\u001b[0m\u001b[0;34m\u001b[0m\u001b[0m\n",
        "\u001b[0;31mNameError\u001b[0m: name 'binner' is not defined"
       ]
      }
     ],
     "prompt_number": 10
    },
    {
     "cell_type": "code",
     "collapsed": false,
     "input": [
      "(siz, mTau, emTau)= binner(taus, 35)\n",
      "print('tau= '+'{:.03e}'.format(mTau)+ ' +/- '+ '{:.03e}'.format(emTau))\n",
      "print(mTau, emTau)"
     ],
     "language": "python",
     "metadata": {},
     "outputs": [
      {
       "output_type": "stream",
       "stream": "stdout",
       "text": [
        "tau= 1.139e-07 +/- 1.459e-10\n",
        "1.13867264574e-07 1.45861220598e-10\n"
       ]
      },
      {
       "metadata": {},
       "output_type": "display_data",
       "png": "[encoded data removed]",
       "text": [
        "<matplotlib.figure.Figure at 0x7ff9984b1be0>"
       ]
      }
     ],
     "prompt_number": 18
    },
    {
     "cell_type": "code",
     "collapsed": false,
     "input": [
      "# tiempos de subida (risetime AMC)\n",
      "neufBin(taus, 0.30, 'T [s]')"
     ],
     "language": "python",
     "metadata": {},
     "outputs": [
      {
       "metadata": {},
       "output_type": "pyout",
       "prompt_number": 22,
       "text": [
        "(1120, 1.1399910714285713e-07, 1.4947702671683365e-10)"
       ]
      },
      {
       "metadata": {},
       "output_type": "display_data",
       "png": "[encoded data removed]",
       "text": [
        "<matplotlib.figure.Figure at 0x7ff9980f19b0>"
       ]
      }
     ],
     "prompt_number": 22
    },
    {
     "cell_type": "code",
     "collapsed": false,
     "input": [
      "entrada= taus\n",
      "corte= 0.3\n",
      "unidad= 'T [s]'\n",
      "ancho= 16/2.54 # [in]\n",
      "\n",
      "bins= 120\n",
      "binHist=corte*bins\n",
      "fig = plt.figure(figsize=(ancho,2*ancho*(5/18)))  # an empty figure with no axes\n",
      "ax_lst= fig.add_subplot(1,1,1)\n",
      "n, bins, patches= ax_lst.hist(entrada, bins)\n",
      "ax_lst.set_ylabel('Cuentas')\n",
      "ax_lst.set_xlabel(unidad)\n",
      "\n",
      "def func(x, pos):  # formatter function takes tick label and tick position\n",
      "   s = '{:.1e}'.format(x)\n",
      "   return s\n",
      "x_format = tkr.FuncFormatter(func)  # make formatter\n",
      "ax_lst.xaxis.set_major_formatter(x_format)  # set formatter to needed axis\n",
      "\n",
      "intermedio = np.ma.masked_greater(entrada, bins[binHist])\n",
      "primerCampana= intermedio.compressed()\n",
      "ax_lst2= fig.add_subplot(2,2,2)\n",
      "ax_lst2.set_ylabel('Cuentas')\n",
      "ax_lst2.set_xlabel(unidad)\n",
      "ax_lst2.set_xlim(left=0.9E-7, right= 1.5E-7)\n",
      "ax_lst2.set_ylim(top=230)\n",
      "ax_lst2.xaxis.set_major_formatter(x_format)  # set formatter to needed axis\n",
      "plt.locator_params(axis = 'x', nbins = 5)\n",
      "plt.locator_params(axis = 'y', nbins = 3)\n",
      "n_i, bins_i, patches_i= ax_lst2.hist(primerCampana, bins=20)\n",
      "plt.savefig('../presentacion/graphs/taus151016.pgf')"
     ],
     "language": "python",
     "metadata": {},
     "outputs": [
      {
       "metadata": {},
       "output_type": "display_data",
       "png": "[encoded data removed]",
       "text": [
        "<matplotlib.figure.Figure at 0x7ff997fcd908>"
       ]
      }
     ],
     "prompt_number": 27
    },
    {
     "cell_type": "code",
     "collapsed": false,
     "input": [],
     "language": "python",
     "metadata": {},
     "outputs": []
    }
   ],
   "metadata": {}
  }
 ]
}