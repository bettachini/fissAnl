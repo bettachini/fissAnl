{
 "cells": [
  {
   "cell_type": "code",
   "execution_count": 1,
   "metadata": {
    "collapsed": false
   },
   "outputs": [],
   "source": [
    "import matplotlib\n",
    "import numpy as np\n",
    "import matplotlib.pyplot as plt\n",
    "%matplotlib inline\n",
    "# coding=utf-8\n",
    "\n",
    "import time\n",
    "\n",
    "# refresca de lo importado cada vez que se hace ejecución\n",
    "# %load_ext autoreload\n",
    "# %autoreload 2\n",
    "\n",
    "path= './data/'"
   ]
  },
  {
   "cell_type": "markdown",
   "metadata": {},
   "source": [
    "# Graficación, funciones"
   ]
  },
  {
   "cell_type": "code",
   "execution_count": 2,
   "metadata": {
    "collapsed": false
   },
   "outputs": [],
   "source": [
    "def darstellungNurZwei(T, Meas2, sav= None):\n",
    "    '''\n",
    "    T: times vector\n",
    "    Meas2: Both channels 2D array\n",
    "    sav: plot filename (eps)\n",
    "    '''\n",
    "        \n",
    "    fig, (ax0, ax1) = plt.subplots(nrows=2, sharex=True)\n",
    "    fig.set_size_inches(10,8)\n",
    "    fig.subplots_adjust(hspace=0.000)\n",
    "\n",
    "    ax0.plot(T, Meas2[0,:], 'y')\n",
    "    # Make the y-axis label and tick labels match the line color.\n",
    "    ax0.set_ylabel('ch 1 [V]', color='y')\n",
    "    ax0.grid(True)\n",
    "\n",
    "    ax1.plot(T, Meas2[1,:], 'c')\n",
    "    ax1.set_ylabel('ch 2 [V]', color='c')\n",
    "    ax1.set_xlabel('tiempo [s]')\n",
    "    ax1.grid(True)\n",
    "    \n",
    "    if (sav):\n",
    "        plt.savefig('./data/plots/'+ sav+ '.eps')\n",
    "    else:\n",
    "        plt.show()"
   ]
  },
  {
   "cell_type": "code",
   "execution_count": 3,
   "metadata": {
    "collapsed": false
   },
   "outputs": [],
   "source": [
    "# lee archivo npy en la ruta datei y grafica cada medición\n",
    "def dateiDarstellung(datei, sav= None):\n",
    "    '''\n",
    "    str -> ()\n",
    "    \n",
    "    De un archivo npy grafica cada medición (índice), ambos canales.\n",
    "    '''\n",
    "    lu= np.load(datei)\n",
    "    zeit= lu[0]\n",
    "    messungenZahl= lu.shape[0]\n",
    "    for i in range(1, messungenZahl, 2):\n",
    "        ix= int((i-1)/2)\n",
    "        print('medición = '+ str(ix), ', índiceCH1= '+ str(i))\n",
    "        Meas2= np.vstack([lu[i], lu[i+1]])\n",
    "        if (sav):\n",
    "            savi= sav+ str(i)\n",
    "            darstellungNurZwei(zeit, Meas2, savi)\n",
    "        else:\n",
    "            darstellungNurZwei(zeit, Meas2)"
   ]
  },
  {
   "cell_type": "markdown",
   "metadata": {},
   "source": [
    "# Risetime, funciones"
   ]
  },
  {
   "cell_type": "code",
   "execution_count": 4,
   "metadata": {
    "collapsed": false
   },
   "outputs": [],
   "source": [
    "def baseAcq(acqFile, prop=0.25):\n",
    "    '''\n",
    "    (array, float) -> array\n",
    "    \n",
    "    De la primer fracción prop de ambos canales de todas las adquisiciones en acqFile,\n",
    "    obtiene el promedio y dispersión que se asume como nivel de base\n",
    "    grProm[0]: promedio ch1, grProm[1]: promedio ch2,\n",
    "    grProm[2]: desviación estandard ch1, grProm[3]: desviación estandard ch2\n",
    "    '''\n",
    "    messungenZahl= acqFile.shape\n",
    "    erstePunkten= int(messungenZahl[1]* prop)\n",
    "    prom= np.zeros([int((messungenZahl[0]- 1)/ 2), 4])\n",
    "    for i in range(1, messungenZahl[0], 2):\n",
    "        ix= int((i-1)/2)\n",
    "        ch1Erste= acqFile[i][0:erstePunkten-1]\n",
    "        ch2Erste= acqFile[i+1][0:erstePunkten-1]\n",
    "        prom[ix,0]= ch1Erste.mean()\n",
    "        prom[ix,1]= ch2Erste.mean()\n",
    "        prom[ix,2]= ch1Erste.std()\n",
    "        prom[ix,3]= ch2Erste.std()\n",
    "    return prom"
   ]
  },
  {
   "cell_type": "code",
   "execution_count": 5,
   "metadata": {
    "collapsed": false
   },
   "outputs": [],
   "source": [
    "def baseMeas2(Meas2, messungenZahl, prop=0.25):\n",
    "    '''\n",
    "    (array, array, float) -> array\n",
    "    \n",
    "    De la primer fracción prop de ambos canales en Meas2,\n",
    "    obtiene el promedio y dispersión que se asume como nivel de base\n",
    "    grProm[0]: promedio ch1, grProm[1]: promedio ch2,\n",
    "    grProm[2]: desviación estandard ch1, grProm[3]: desviación estandard ch2\n",
    "    '''\n",
    "    erstePunkten= int(messungenZahl[1]* prop)\n",
    "    ch1Erste= Meas2[0][0:erstePunkten-1]\n",
    "    ch2Erste= Meas2[1][0:erstePunkten-1]\n",
    "    return np.array([ch1Erste.mean(), ch2Erste.mean(), ch1Erste.std(), ch2Erste.std() ] )"
   ]
  },
  {
   "cell_type": "code",
   "execution_count": 6,
   "metadata": {
    "collapsed": false
   },
   "outputs": [],
   "source": [
    "def tauCeti2(T, Meas2, messungenZahl, prop):\n",
    "    '''\n",
    "    Calcula índices risetime como tiempo entre 10% y 90% de excursión entre nivel de base y máximo\n",
    "   \n",
    "    Meas2: array (2,:) con Meas2[0] canal 1, Meas2[0] canal 2, producto de np.vstack\n",
    "    baseMeas2: base(Meas2)\n",
    "    '''\n",
    "    # niveles base\n",
    "    bMeas2= baseMeas2(Meas2, messungenZahl, prop)\n",
    "\n",
    "    # índice máximo\n",
    "    maxIx= (Meas2[0].argmax(), Meas2[1].argmax() )\n",
    "\n",
    "    # máximo promediado cercano\n",
    "    rangoCercano= 20 # tres lecturas a izq y derecha\n",
    "    maxCH1= (Meas2[0][maxIx[0]- rangoCercano: maxIx[0]+ rangoCercano]).mean()\n",
    "    maxCH2= (Meas2[1][maxIx[1]- rangoCercano: maxIx[1]+ rangoCercano]).mean()\n",
    "\n",
    "    # diferencia máximo- base\n",
    "    # maxCH1= Meas2[0][maxIx[0]] # max CH1\n",
    "    # maxCH2= Meas2[1][maxIx[1]] # max CH2\n",
    "    # deltaV= np.array([Meas2[0][maxIx[0]]- bMeas2[0], Meas2[1][maxIx[1]]- bMeas2[1]])\n",
    "    deltaV= np.array([maxCH1- bMeas2[0],maxCH2- bMeas2[1]]) # usa promediado cercano\n",
    "\n",
    "    # Diferencias de potencial para 10%, 90% de excursión\n",
    "    v10= bMeas2[0:2]+ 0.1* deltaV\n",
    "    v90= bMeas2[0:2]+ 0.9* deltaV\n",
    "\n",
    "    # Índices para primer potencial del pulso que exceda 10%, y último por debajo 90% \n",
    "    ixTau= np.array([0, 0, maxIx[0], maxIx[1]])\n",
    "    while (Meas2[0,ixTau[0]]< v10[0]):\n",
    "        ixTau[0]+= 1\n",
    "    while (Meas2[1,ixTau[1]]< v10[1]):\n",
    "        ixTau[1]+= 1\n",
    "    while (Meas2[0,ixTau[2]]> v90[0]):\n",
    "        ixTau[2]-= 1\n",
    "    while (Meas2[1,ixTau[3]]> v90[1]):\n",
    "        ixTau[3]-= 1\n",
    "        \n",
    "    return np.array([T[ixTau[2]]- T[ixTau[0]], T[ixTau[3]]- T[ixTau[1]] ])"
   ]
  },
  {
   "cell_type": "code",
   "execution_count": 7,
   "metadata": {
    "collapsed": false
   },
   "outputs": [],
   "source": [
    "def tauAMC2(acqData, prop= 0.25):\n",
    "    '''\n",
    "    Genera vectores de promedio y dispersión del risetime de ambos canales a partir de archivo acq*\n",
    "    \n",
    "    archivo: acq* \n",
    "    prop= porcentaje inferior del canal a promediar para obtener nivel de base     \n",
    "    '''\n",
    "    messungenZahl= acqData.shape\n",
    "\n",
    "    # tiempo\n",
    "    T= acqData[0]\n",
    "\n",
    "    tauAMC= np.empty([int((messungenZahl[0]- 1)/ 2), 1])\n",
    "    for i in range(1, messungenZahl[0], 2):\n",
    "        Meas2= np.array([acqData[i], acqData[i+1] ] )\n",
    "        ix= int((i-1)/2)\n",
    "        tauAMC[ix]= tauCeti2(T, Meas2, messungenZahl, prop)[1]\n",
    "    return tauAMC"
   ]
  },
  {
   "cell_type": "code",
   "execution_count": 8,
   "metadata": {
    "collapsed": false
   },
   "outputs": [],
   "source": [
    "def tauAMCz(npzData, prop= 0.25):\n",
    "    '''\n",
    "    Vectores risetime canal AMC de archivo acq comprimido\n",
    "    \n",
    "    npzData= numpy.lib.npyio.NpzFile\n",
    "    prop= porcentaje inferior del canal a promediar para obtener nivel de base     \n",
    "    '''\n",
    "    FLUC= npzData['ch1']\n",
    "    AMC= npzData['ch2']\n",
    "\n",
    "    messungenZahl= AMC.shape\n",
    "\n",
    "    # tiempo\n",
    "    T= npzData['zeit']\n",
    "\n",
    "    tauAMC= np.empty([messungenZahl[0], 1])\n",
    "    for i in range(messungenZahl[0]):\n",
    "        Meas2= np.array([FLUC[i], AMC[i] ] )\n",
    "        tauAMC[i]= tauCeti2(T, Meas2, messungenZahl, prop)[1]\n",
    "    return tauAMC"
   ]
  },
  {
   "cell_type": "code",
   "execution_count": 9,
   "metadata": {
    "collapsed": false
   },
   "outputs": [],
   "source": [
    "def desvioEstandardCuasiNoSesgado(datos):\n",
    "    '''\n",
    "    Estimador cuasi no sesgado de la desviación estandar.\n",
    "    https://en.wikipedia.org/wiki/Unbiased_estimation_of_standard_deviation\n",
    "    '''\n",
    "    media= np.mean(datos)\n",
    "    suma=0\n",
    "    for i in datos:\n",
    "        aux= (datos[i]- media)\n",
    "        suma+= aux**2\n",
    "    desv= np.sqrt(suma/( np.size(datos)- 1.5) ) \n",
    "    return desv"
   ]
  },
  {
   "cell_type": "code",
   "execution_count": 10,
   "metadata": {
    "collapsed": false
   },
   "outputs": [],
   "source": [
    "def errorEstandard(datos):\n",
    "    '''\n",
    "    Estimador de la desviación estandar del promedio.\n",
    "    Usa la desviación estandar de la población y la divide por la raíz del número de elementos en la población.\n",
    "    https://en.wikipedia.org/wiki/Standard_error\n",
    "    '''\n",
    "    return desvioEstandardCuasiNoSesgado(datos)/ np.sqrt(np.size(datos))"
   ]
  },
  {
   "cell_type": "markdown",
   "metadata": {},
   "source": [
    "# Cambio composición"
   ]
  },
  {
   "cell_type": "code",
   "execution_count": 11,
   "metadata": {
    "collapsed": false
   },
   "outputs": [],
   "source": [
    "conv= 98066.5* (1/101325) # presión absoluta atm/(kgf/cm2)= (Pa/(kgf/cm2))* (atm/Pa)\n",
    "pAtm= 1/conv # [kgf/cm²] (abs)"
   ]
  },
  {
   "cell_type": "markdown",
   "metadata": {},
   "source": [
    "## Lo que hay"
   ]
  },
  {
   "cell_type": "code",
   "execution_count": 12,
   "metadata": {
    "collapsed": false
   },
   "outputs": [],
   "source": [
    "pActual= 3.005 # [kgf/cm²] (rel)\n",
    "pN2Actual= 0.02  # [kgf/cm²] (abs)\n",
    "pArActual= pActual- pN2Actual+ pAtm  # [kgf/cm²] (abs)\n",
    "\n",
    "riquezaActual= pN2Actual/pArActual # [P_{N_2}/P_Ar] (abs)\n",
    "# Tres cámaras: topo superior, topo inferior (incluye tubo al detector), detector (después de válvula propia)\n",
    "pAbierta= 2.6825 # [kgf/cm²] (rel)"
   ]
  },
  {
   "cell_type": "markdown",
   "metadata": {},
   "source": [
    "## Objetivo"
   ]
  },
  {
   "cell_type": "code",
   "execution_count": 13,
   "metadata": {
    "collapsed": false
   },
   "outputs": [
    {
     "data": {
      "text/plain": [
       "(0.02683061620845379, 0.010050480356344356, 3.005)"
      ]
     },
     "execution_count": 13,
     "metadata": {},
     "output_type": "execute_result"
    }
   ],
   "source": [
    "pObjetivo= 3.005 # [kgf/cm²] (rel)\n",
    "pObjetivo+= pAtm # [kgf/cm²] (abs)\n",
    "riquezaObjetivo= 0.01\n",
    "pN2Objetivo= pArActual* riquezaObjetivo\n",
    "pN2Llenar= pN2Objetivo- pAbierta* riquezaActual\n",
    "pArObjetivo= pObjetivo- (pN2Llenar+ pAbierta* riquezaActual)\n",
    "riquezaObjetivoVerificacion= (pN2Llenar+ pAbierta* riquezaActual)/ pArObjetivo\n",
    "pObjetivoVerificacion= pArObjetivo+ pN2Objetivo\n",
    "pN2Llenar, riquezaObjetivoVerificacion, pObjetivoVerificacion-pAtm"
   ]
  },
  {
   "cell_type": "code",
   "execution_count": 14,
   "metadata": {
    "collapsed": false
   },
   "outputs": [
    {
     "data": {
      "text/plain": [
       "-0.0018306162084537891"
      ]
     },
     "execution_count": 14,
     "metadata": {},
     "output_type": "execute_result"
    }
   ],
   "source": [
    "0.025-pN2Llenar"
   ]
  },
  {
   "cell_type": "code",
   "execution_count": 15,
   "metadata": {
    "collapsed": false
   },
   "outputs": [
    {
     "data": {
      "text/plain": [
       "2.709330616208454"
      ]
     },
     "execution_count": 15,
     "metadata": {},
     "output_type": "execute_result"
    }
   ],
   "source": [
    "pAbierta+ pN2Llenar"
   ]
  },
  {
   "cell_type": "markdown",
   "metadata": {},
   "source": [
    "Llene desde pAbierta hasta $2.710\\mathrm{\\frac{kgf}{cm^2}}$ con $N_2$ y completé con $Ar$ hasta $3.005\\mathrm{\\frac{kgf}{cm^2}}$"
   ]
  },
  {
   "cell_type": "code",
   "execution_count": 16,
   "metadata": {
    "collapsed": false
   },
   "outputs": [
    {
     "data": {
      "text/plain": [
       "(0.04085165831954493,\n",
       " 3.9973757944803405,\n",
       " 0.010219619175148293,\n",
       " 4.038227452799886)"
      ]
     },
     "execution_count": 16,
     "metadata": {},
     "output_type": "execute_result"
    }
   ],
   "source": [
    "pN2Final= pAbierta* riquezaActual+ (2.71-pAbierta)\n",
    "pArFinal= 3.005- pN2Final\n",
    "pArFinal+= pAtm\n",
    "riquezaFinal= pN2Final/ pArFinal\n",
    "pN2Final, pArFinal, riquezaFinal, pArFinal+pN2Final"
   ]
  },
  {
   "cell_type": "markdown",
   "metadata": {},
   "source": [
    "# Adquisiciones"
   ]
  },
  {
   "cell_type": "markdown",
   "metadata": {},
   "source": [
    "###### acq150605z01: CFP-35, 2560 pulsos, $P=3.005\\mathrm{\\frac{kgf}{cm^2}}$ (relativa), $\\mathrm{N_2/Ar}\\simeq1,0\\%$, TRG=$0.6\\mathrm{V}$"
   ]
  },
  {
   "cell_type": "code",
   "execution_count": 19,
   "metadata": {
    "collapsed": false
   },
   "outputs": [
    {
     "data": {
      "text/plain": [
       "2560"
      ]
     },
     "execution_count": 19,
     "metadata": {},
     "output_type": "execute_result"
    }
   ],
   "source": [
    "acq= np.load('./data/acq150605z01.npy.npz')\n",
    "taus= tauAMCz(acq)\n",
    "taus.size"
   ]
  },
  {
   "cell_type": "code",
   "execution_count": 25,
   "metadata": {
    "collapsed": false
   },
   "outputs": [
    {
     "data": {
      "image/png": "[encoded data removed]",
      "text/plain": [
       "<matplotlib.figure.Figure at 0x7f094abdf278>"
      ]
     },
     "metadata": {},
     "output_type": "display_data"
    }
   ],
   "source": [
    "n, bins, patches= plt.hist(taus, bins=120)"
   ]
  },
  {
   "cell_type": "code",
   "execution_count": 28,
   "metadata": {
    "collapsed": false
   },
   "outputs": [
    {
     "data": {
      "image/png": "[encoded data removed]",
      "text/plain": [
       "<matplotlib.figure.Figure at 0x7f094abbba20>"
      ]
     },
     "metadata": {},
     "output_type": "display_data"
    }
   ],
   "source": [
    "intermedio = np.ma.masked_greater(taus, bins[7])\n",
    "primerCampana= intermedio.compressed()\n",
    "n_i, bins_i, patches_i= plt.hist(primerCampana, bins=20)"
   ]
  },
  {
   "cell_type": "code",
   "execution_count": 29,
   "metadata": {
    "collapsed": false
   },
   "outputs": [
    {
     "data": {
      "text/plain": [
       "(1478, 1.2354465493910699e-07, 4.565917976855601e-10)"
      ]
     },
     "execution_count": 29,
     "metadata": {},
     "output_type": "execute_result"
    }
   ],
   "source": [
    "primerCampana.size, primerCampana.mean(), errorEstandard(primerCampana)"
   ]
  },
  {
   "cell_type": "markdown",
   "metadata": {},
   "source": [
    "###### acq150605z02: CFP-35, 2560 pulsos, $P=3.005\\mathrm{\\frac{kgf}{cm^2}}$ (relativa), $\\mathrm{N_2/Ar}\\simeq1,0\\%$, TRG=$0.6\\mathrm{V}$"
   ]
  },
  {
   "cell_type": "code",
   "execution_count": 30,
   "metadata": {
    "collapsed": false
   },
   "outputs": [
    {
     "data": {
      "text/plain": [
       "2560"
      ]
     },
     "execution_count": 30,
     "metadata": {},
     "output_type": "execute_result"
    }
   ],
   "source": [
    "acq= np.load('./data/acq150605z02.npy.npz')\n",
    "taus= tauAMCz(acq)\n",
    "taus.size"
   ]
  },
  {
   "cell_type": "code",
   "execution_count": 31,
   "metadata": {
    "collapsed": false
   },
   "outputs": [
    {
     "data": {
      "image/png": "[encoded data removed]",
      "text/plain": [
       "<matplotlib.figure.Figure at 0x7f094aa16550>"
      ]
     },
     "metadata": {},
     "output_type": "display_data"
    }
   ],
   "source": [
    "n, bins, patches= plt.hist(taus, bins=120)"
   ]
  },
  {
   "cell_type": "code",
   "execution_count": 32,
   "metadata": {
    "collapsed": false
   },
   "outputs": [
    {
     "data": {
      "image/png": "[encoded data removed]",
      "text/plain": [
       "<matplotlib.figure.Figure at 0x7f094ac56be0>"
      ]
     },
     "metadata": {},
     "output_type": "display_data"
    }
   ],
   "source": [
    "intermedio = np.ma.masked_greater(taus, bins[7])\n",
    "primerCampana= intermedio.compressed()\n",
    "n_i, bins_i, patches_i= plt.hist(primerCampana, bins=20)"
   ]
  },
  {
   "cell_type": "code",
   "execution_count": 33,
   "metadata": {
    "collapsed": false
   },
   "outputs": [
    {
     "data": {
      "text/plain": [
       "(1429, 1.2366969909027284e-07, 2.0299730250265117e-10)"
      ]
     },
     "execution_count": 33,
     "metadata": {},
     "output_type": "execute_result"
    }
   ],
   "source": [
    "primerCampana.size, primerCampana.mean(), errorEstandard(primerCampana)"
   ]
  },
  {
   "cell_type": "markdown",
   "metadata": {},
   "source": [
    "###### acq150605z03: CFP-35, 2560 pulsos, $P=3.005\\mathrm{\\frac{kgf}{cm^2}}$ (relativa), $\\mathrm{N_2/Ar}\\simeq1,0\\%$, TRG=$0.6\\mathrm{V}$"
   ]
  },
  {
   "cell_type": "code",
   "execution_count": 35,
   "metadata": {
    "collapsed": false
   },
   "outputs": [
    {
     "data": {
      "text/plain": [
       "2560"
      ]
     },
     "execution_count": 35,
     "metadata": {},
     "output_type": "execute_result"
    }
   ],
   "source": [
    "acq= np.load('./data/acq150605z03.npy.npz')\n",
    "taus= tauAMCz(acq)\n",
    "taus.size"
   ]
  },
  {
   "cell_type": "code",
   "execution_count": 37,
   "metadata": {
    "collapsed": false
   },
   "outputs": [
    {
     "data": {
      "image/png": "[encoded data removed]",
      "text/plain": [
       "<matplotlib.figure.Figure at 0x7f094a9940b8>"
      ]
     },
     "metadata": {},
     "output_type": "display_data"
    }
   ],
   "source": [
    "n, bins, patches= plt.hist(taus, bins=120)\n",
    "intermedio = np.ma.masked_greater(taus, bins[7])\n",
    "primerCampana= intermedio.compressed()"
   ]
  },
  {
   "cell_type": "code",
   "execution_count": 38,
   "metadata": {
    "collapsed": false
   },
   "outputs": [
    {
     "data": {
      "text/plain": [
       "(1485, 1.2318451178451162e-07, 5.5001519086054805e-10)"
      ]
     },
     "execution_count": 38,
     "metadata": {},
     "output_type": "execute_result"
    },
    {
     "data": {
      "image/png": "[encoded data removed]",
      "text/plain": [
       "<matplotlib.figure.Figure at 0x7f094aa0bef0>"
      ]
     },
     "metadata": {},
     "output_type": "display_data"
    }
   ],
   "source": [
    "n_i, bins_i, patches_i= plt.hist(primerCampana, bins=20)\n",
    "primerCampana.size, primerCampana.mean(), errorEstandard(primerCampana)"
   ]
  },
  {
   "cell_type": "code",
   "execution_count": null,
   "metadata": {
    "collapsed": false
   },
   "outputs": [],
   "source": []
  }
 ],
 "metadata": {
  "kernelspec": {
   "display_name": "Python 3",
   "language": "python",
   "name": "python3"
  },
  "language_info": {
   "codemirror_mode": {
    "name": "ipython",
    "version": 3
   },
   "file_extension": ".py",
   "mimetype": "text/x-python",
   "name": "python",
   "nbconvert_exporter": "python",
   "pygments_lexer": "ipython3",
   "version": "3.4.2"
  }
 },
 "nbformat": 4,
 "nbformat_minor": 0
}
