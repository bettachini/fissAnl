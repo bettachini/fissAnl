{
 "metadata": {
  "name": "",
  "signature": "sha256:1adb21dd6991375d5328fbc4cbfa92d0f5ca1dc6a23a3819dcc5cbb47421629d"
 },
 "nbformat": 3,
 "nbformat_minor": 0,
 "worksheets": [
  {
   "cells": [
    {
     "cell_type": "code",
     "collapsed": false,
     "input": [
      "import matplotlib\n",
      "import numpy as np\n",
      "import matplotlib.pyplot as plt\n",
      "%matplotlib inline\n",
      "# coding=utf-8"
     ],
     "language": "python",
     "metadata": {},
     "outputs": [],
     "prompt_number": 1
    },
    {
     "cell_type": "heading",
     "level": 1,
     "metadata": {},
     "source": [
      "Risetime - Funciones an\u00e1lisis adquisici\u00f3n - descartan por ruido nivel base"
     ]
    },
    {
     "cell_type": "code",
     "collapsed": false,
     "input": [
      "def baseAcq(acqFile, prop=0.25):\n",
      "    '''\n",
      "    (array, float) -> array\n",
      "    \n",
      "    De la primer fracci\u00f3n prop de ambos canales de todas las adquisiciones en acqFile,\n",
      "    obtiene el promedio y dispersi\u00f3n que se asume como nivel de base\n",
      "    grProm[0]: promedio ch1, grProm[1]: promedio ch2,\n",
      "    grProm[2]: desviaci\u00f3n estandard ch1, grProm[3]: desviaci\u00f3n estandard ch2\n",
      "    '''\n",
      "    messungenZahl= acqFile.shape\n",
      "    erstePunkten= int(messungenZahl[1]* prop)\n",
      "    prom= np.zeros([int((messungenZahl[0]- 1)/ 2), 4])\n",
      "    for i in range(1, messungenZahl[0], 2):\n",
      "        ix= int((i-1)/2)\n",
      "        ch1Erste= acqFile[i][0:erstePunkten-1]\n",
      "        ch2Erste= acqFile[i+1][0:erstePunkten-1]\n",
      "        prom[ix,0]= ch1Erste.mean()\n",
      "        prom[ix,1]= ch2Erste.mean()\n",
      "        prom[ix,2]= ch1Erste.std()\n",
      "        prom[ix,3]= ch2Erste.std()\n",
      "    return prom\n",
      "\n",
      "\n",
      "def baseMeas2(Meas2, messungenZahl, prop=0.25):\n",
      "    '''\n",
      "    (array, array, float) -> array\n",
      "    \n",
      "    De la primer fracci\u00f3n prop de ambos canales en Meas2,\n",
      "    obtiene el promedio y dispersi\u00f3n que se asume como nivel de base\n",
      "    grProm[0]: promedio ch1, grProm[1]: promedio ch2,\n",
      "    grProm[2]: desviaci\u00f3n estandard ch1, grProm[3]: desviaci\u00f3n estandard ch2\n",
      "    '''\n",
      "    erstePunkten= int(messungenZahl[1]* prop)\n",
      "    ch1Erste= Meas2[0][0:erstePunkten-1]\n",
      "    ch2Erste= Meas2[1][0:erstePunkten-1]\n",
      "    return np.array([ch1Erste.mean(), ch2Erste.mean(), ch1Erste.std(), ch2Erste.std() ] )\n",
      "\n",
      "\n",
      "def desvioEstandardCuasiNoSesgado(datos):\n",
      "    '''\n",
      "    Estimador cuasi no sesgado de la desviaci\u00f3n estandar.\n",
      "    https://en.wikipedia.org/wiki/Unbiased_estimation_of_standard_deviation\n",
      "    '''\n",
      "    media= np.mean(datos)\n",
      "    suma=0\n",
      "    for i in datos:\n",
      "        aux= (datos[i]- media)\n",
      "        suma+= aux**2\n",
      "    desv= np.sqrt(suma/( np.size(datos)- 1.5) ) \n",
      "    return desv\n",
      "\n",
      "\n",
      "def errorEstandard(datos):\n",
      "    '''\n",
      "    Estimador de la desviaci\u00f3n estandar del promedio.\n",
      "    Usa la desviaci\u00f3n estandar de la poblaci\u00f3n y la divide por la ra\u00edz del n\u00famero de elementos en la poblaci\u00f3n.\n",
      "    https://en.wikipedia.org/wiki/Standard_error\n",
      "    '''\n",
      "    return desvioEstandardCuasiNoSesgado(datos)/ np.sqrt(np.size(datos))\n",
      "\n",
      "    \n",
      "def tauCeti3e(T, Meas2, messungenZahl, prop, rechazo=0.1):\n",
      "    '''\n",
      "    Calcula \u00edndices risetime como tiempo entre 10% y 90% de excursi\u00f3n entre nivel de base y m\u00e1ximo\n",
      "   \n",
      "    Meas2: array (2,:) con Meas2[0] canal 1, Meas2[0] canal 2, producto de np.vstack\n",
      "    baseMeas2: base(Meas2)\n",
      "    '''\n",
      "    bMeas2= baseMeas2(Meas2, messungenZahl, prop) # niveles base\n",
      "    \n",
      "    if ((bMeas2[3])>np.abs(bMeas2[1]* rechazo)):\n",
      "        return np.array([0, 0 ])\n",
      "    else:\n",
      "        maxIx= (Meas2[0].argmax(), Meas2[1].argmax() ) # \u00edndice m\u00e1ximo\n",
      "        # m\u00e1ximo promediado cercano\n",
      "        rangoCercano= 20 # tres lecturas a izq y derecha\n",
      "        maxCH1= (Meas2[0][maxIx[0]- rangoCercano: maxIx[0]+ rangoCercano]).mean()\n",
      "        maxCH2= (Meas2[1][maxIx[1]- rangoCercano: maxIx[1]+ rangoCercano]).mean()\n",
      "        # diferencia m\u00e1ximo- base\n",
      "        deltaV= np.array([maxCH1- bMeas2[0],maxCH2- bMeas2[1]]) # usa promediado cercano\n",
      "        # Diferencias de potencial para 10%, 90% de excursi\u00f3n\n",
      "        v10= bMeas2[0:2]+ 0.1* deltaV\n",
      "        v90= bMeas2[0:2]+ 0.9* deltaV\n",
      "        # \u00cdndices para primer potencial del pulso que exceda 10%, y \u00faltimo por debajo 90% \n",
      "        ixTau= np.array([maxIx[0], maxIx[1], maxIx[0], maxIx[1]])\n",
      "        while (Meas2[0,ixTau[0]]> v10[0]):\n",
      "            ixTau[0]-= 1\n",
      "        while (Meas2[1,ixTau[1]]> v10[1]):\n",
      "            ixTau[1]-= 1\n",
      "        while (Meas2[0,ixTau[2]]> v90[0]):\n",
      "            ixTau[2]-= 1\n",
      "        while (Meas2[1,ixTau[3]]> v90[1]):\n",
      "            ixTau[3]-= 1\n",
      "        return np.array([T[ixTau[2]]- T[ixTau[0]], T[ixTau[3]]- T[ixTau[1]] ])\n",
      "\n",
      "\n",
      "def tauAMCz3e(npzData, prop= 0.25):\n",
      "    '''\n",
      "    Vectores risetime canal AMC de archivo acq comprimido\n",
      "    \n",
      "    npzData= numpy.lib.npyio.NpzFile\n",
      "    prop= porcentaje inferior del canal a promediar para obtener nivel de base     \n",
      "    '''\n",
      "    FLUC= npzData['ch1']\n",
      "    AMC= npzData['ch2']\n",
      "    messungenZahl= AMC.shape\n",
      "    # tiempo\n",
      "    T= npzData['zeit']\n",
      "    tauAMC= np.empty([0, 1])\n",
      "    i=0\n",
      "    q=0\n",
      "    cucho= (messungenZahl[0]- q- 1 )\n",
      "    while (i< cucho ):\n",
      "        Meas2= np.array([FLUC[i+q], AMC[i+q] ] )\n",
      "        tauAMCi= tauCeti3e(T, Meas2, messungenZahl, prop)[1]\n",
      "        if (tauAMCi!=0):\n",
      "            i+=1\n",
      "            tauAMC= np.append(tauAMC, tauAMCi)\n",
      "        else:\n",
      "            q+=1\n",
      "        cucho= (messungenZahl[0]- q- 1 )\n",
      "    return tauAMC\n",
      "\n",
      "\n",
      "# def histo3e(fileName, binHist=8):\n",
      "#    path= '/oldhome/vbettachini/documents/cnea/campbell/acquisition/data/'\n",
      "#    acq= np.load(path+ fileName)\n",
      "#    taus= tauAMCz3e(acq)\n",
      "#    fig = plt.figure(figsize=(18,5))  # an empty figure with no axes\n",
      "#    ax_lst= fig.add_subplot(1,2,2)\n",
      "#    n, bins, patches= ax_lst.hist(taus, bins=120)\n",
      "#    ax_lst.set_ylabel('Cuentas')\n",
      "#    ax_lst.set_xlabel('Tau [ns]')\n",
      "#    intermedio = np.ma.masked_greater(taus, bins[binHist] )\n",
      "#    primerCampana= intermedio.compressed()\n",
      "#    ax_lst2= fig.add_subplot(1,2,1)\n",
      "#    ax_lst2.set_ylabel('Cuentas')\n",
      "#    ax_lst2.set_xlabel('Tau [ns]')\n",
      "#    n_i, bins_i, patches_i= ax_lst2.hist(primerCampana, bins=20)\n",
      "#    print (primerCampana.size, primerCampana.mean(), errorEstandard(primerCampana) )"
     ],
     "language": "python",
     "metadata": {},
     "outputs": [],
     "prompt_number": 3
    },
    {
     "cell_type": "heading",
     "level": 1,
     "metadata": {},
     "source": [
      "Graficaci\u00f3n funciones"
     ]
    },
    {
     "cell_type": "code",
     "collapsed": false,
     "input": [
      "def darstellungNurZwei(T, Meas2, sav= None):\n",
      "    '''\n",
      "    T: times vector\n",
      "    Meas2: Both channels 2D array\n",
      "    sav: plot filename (eps)\n",
      "    '''\n",
      "        \n",
      "    fig, (ax0, ax1) = plt.subplots(nrows=2, sharex=True)\n",
      "    fig.set_size_inches(10,8)\n",
      "    fig.subplots_adjust(hspace=0.000)\n",
      "\n",
      "    ax0.plot(T, Meas2[0,:], 'y')\n",
      "    # Make the y-axis label and tick labels match the line color.\n",
      "    ax0.set_ylabel('ch 1 [V]', color='y')\n",
      "    ax0.grid(True)\n",
      "\n",
      "    ax1.plot(T, Meas2[1,:], 'c')\n",
      "    ax1.set_ylabel('ch 2 [V]', color='c')\n",
      "    ax1.set_xlabel('tiempo [s]')\n",
      "    ax1.grid(True)\n",
      "    \n",
      "    if (sav):\n",
      "        plt.savefig('./data/plots/'+ sav+ '.eps')\n",
      "    else:\n",
      "        plt.show()\n",
      "\n",
      "        \n",
      "def dertellungZ(npzFile, quelles=None):\n",
      "    '''\n",
      "    Grafica canal AMC y FLUC de archivo acq comprimido\n",
      "    \n",
      "    npzFile= numpy.lib.npyio.NpzFile\n",
      "    '''\n",
      "    path= '/oldhome/vbettachini/documents/cnea/campbell/acquisition/data/'\n",
      "    npzData= np.load(path+ npzFile)\n",
      "    FLUC= npzData['ch1']\n",
      "    AMC= npzData['ch2']\n",
      "\n",
      "    messungenZahl= AMC.shape\n",
      "\n",
      "    # tiempo\n",
      "    T= npzData['zeit']\n",
      "\n",
      "    tauAMC= np.empty([messungenZahl[0], 1])\n",
      "    if (quelles==None):\n",
      "        rangen= range( messungenZahl[0] )\n",
      "    else:\n",
      "        rangen= quelles\n",
      "    for i in rangen:\n",
      "        print('Adquisici\u00f3n= '+ '{:05n}'.format(i))\n",
      "        Meas2= np.array([FLUC[i], AMC[i] ] )\n",
      "        darstellungNurZwei(T, Meas2)"
     ],
     "language": "python",
     "metadata": {},
     "outputs": [],
     "prompt_number": 4
    },
    {
     "cell_type": "heading",
     "level": 1,
     "metadata": {},
     "source": [
      "Espectros - funciones"
     ]
    },
    {
     "cell_type": "code",
     "collapsed": false,
     "input": [
      "def leeOrtec(fileName):\n",
      "    '''\n",
      "    Entrada: archivo de texto generado por el GammaVision\n",
      "    Salida: array de enteros con n\u00famero de cuentas por canal\n",
      "    '''\n",
      "    # Lee archivo Ortec\n",
      "    path='/oldhome/vbettachini/documents/cnea/campbell/espectros/'\n",
      "    fl= open(path+fileName, 'r')\n",
      "    datos= fl.readlines()\n",
      "    fl.close()\n",
      "    datos= datos[26:] # descarta pre\u00e1mbulo\n",
      "    # transcribe cuentas a un array\n",
      "    cuentas= np.array([],dtype= np.dtype('int8'))\n",
      "    for linea in datos:\n",
      "        # print(linea)\n",
      "        intermedio= linea.split()\n",
      "        for i in intermedio[1:]:\n",
      "            cuentas= np.hstack(([cuentas, int(i) ] ) )\n",
      "    return cuentas\n",
      "\n",
      "\n",
      "def derstellungOrtec(filesList, leftI=0, rightI=150, norm=True):\n",
      "    fig = plt.figure(figsize=(10,5))  # an empty figure with no axes\n",
      "    ax_lst= fig.add_subplot(111)\n",
      "    ax_lst.grid()\n",
      "    ax_lst.set_xlim(leftI, rightI)\n",
      "    ax_lst.set_ylim(bottom=1E-3, top=2E-1)\n",
      "    ax_lst.set_xlabel('Canal')\n",
      "    if norm:\n",
      "        ax_lst.set_ylabel('Cuentas normalizadas')\n",
      "    else:\n",
      "        ax_lst.set_ylabel('Cuentas')\n",
      "    for fileName in filesList:\n",
      "        fileNameO= fileName+'.Txt'\n",
      "        erste= leeOrtec(fileNameO)\n",
      "        if norm:\n",
      "            ax_lst.semilogy(erste/erste.sum(), label= fileName)\n",
      "        else:\n",
      "            ax_lst.semilogy(erste, label= fileName)\n",
      "    ax_lst.legend()\n",
      "\n",
      "    \n",
      "def leeCanberreta(fileName):\n",
      "    '''\n",
      "    Este funciona\n",
      "    '''\n",
      "    import csv\n",
      "    extension= '.csv'\n",
      "    path='/oldhome/vbettachini/documents/cnea/campbell/espectros/canberreta/'\n",
      "    canal= np.array([], dtype='int8')\n",
      "    cuentas= np.array([], dtype='int8')\n",
      "    with open(path+ fileName+ extension) as csvfile:\n",
      "        lector = csv.reader(csvfile, delimiter='\\t')\n",
      "        for row in lector:\n",
      "            canal= np.append(canal, np.int(row[0]) )\n",
      "            cuentas= np.append(cuentas, np.int(row[1]) )\n",
      "        sale= np.vstack(([canal, cuentas ] ) )\n",
      "    return sale"
     ],
     "language": "python",
     "metadata": {},
     "outputs": [],
     "prompt_number": 5
    },
    {
     "cell_type": "heading",
     "level": 1,
     "metadata": {},
     "source": [
      "Histogramas - funciones"
     ]
    },
    {
     "cell_type": "code",
     "collapsed": false,
     "input": [
      "def dataPathFile(mes, dia, acq):\n",
      "    path= './data/'\n",
      "    fNS= 'pul15'+ '{:02n}'.format(mes)+ '{:02n}'.format(dia)+ 'z'\n",
      "    fNE= '.npy.npz'\n",
      "    return path+ fNS+ '{:02n}'.format(acq)+fNE\n",
      "\n",
      "\n",
      "def agregadorTaus(mes, dia, rango):\n",
      "    taus= np.array([])\n",
      "    for i in rango:\n",
      "        acq= np.load(dataPathFile(mes, dia, i))\n",
      "        taus= np.append(taus, tauAMCz3e(acq))\n",
      "    return taus\n",
      "\n",
      "\n",
      "def binner(taus, binHist=40):\n",
      "    fig = plt.figure(figsize=(18,5))  # an empty figure with no axes\n",
      "    ax_lst= fig.add_subplot(1,2,2)\n",
      "    n, bins, patches= ax_lst.hist(taus, bins=120)\n",
      "    ax_lst.set_ylabel('Cuentas')\n",
      "    ax_lst.set_xlabel('Tau [ns]')\n",
      "    intermedio = np.ma.masked_greater(taus, bins[binHist])\n",
      "    primerCampana= intermedio.compressed()\n",
      "    ax_lst2= fig.add_subplot(1,2,1)\n",
      "    ax_lst2.set_ylabel('Cuentas')\n",
      "    ax_lst2.set_xlabel('Tau [ns]')\n",
      "    n_i, bins_i, patches_i= ax_lst2.hist(primerCampana, bins=20)\n",
      "    return (primerCampana.size, primerCampana.mean(), errorEstandard(primerCampana) )"
     ],
     "language": "python",
     "metadata": {},
     "outputs": [],
     "prompt_number": 6
    },
    {
     "cell_type": "heading",
     "level": 1,
     "metadata": {},
     "source": [
      "Ancho pulso - funciones"
     ]
    },
    {
     "cell_type": "code",
     "collapsed": false,
     "input": [
      "def anchoUnCuadrado(T, pulsoCuadrado, messungenZahl):\n",
      "    # tomar tiempos anterior y posterior a mitad del pulso\n",
      "    valMax= np.int(pulsoCuadrado.max())\n",
      "    valMin= np.int(pulsoCuadrado.min())\n",
      "    medioSalto= np.round(0.5* (valMax- valMin))\n",
      "    ixMenor, ixMayor= (0, messungenZahl[1]-1)\n",
      "    while pulsoCuadrado[ixMenor]< (valMin+medioSalto):\n",
      "        ixMenor+= 1\n",
      "    while pulsoCuadrado[ixMayor]< (valMin+medioSalto):\n",
      "        ixMayor-= 1\n",
      "    deltaT= T[ixMayor]-  T[ixMenor]\n",
      "    return deltaT # Validado\n",
      "\n",
      "\n",
      "def anchoTodosCuadrados(acq):\n",
      "    T= acq['zeit']\n",
      "    pulsosCuadrados= acq['ch1']\n",
      "    messungenZahl= pulsosCuadrados.shape\n",
      "    deltaTTodos= np.empty([0, 1])\n",
      "    i=0\n",
      "    q=0\n",
      "    cucho= (messungenZahl[0]- q- 1 )\n",
      "    while (i< cucho):\n",
      "        dT= anchoUnCuadrado(T, pulsosCuadrados[i+q], messungenZahl)\n",
      "        if (dT!=0):\n",
      "            i+=1\n",
      "            deltaTTodos= np.append(deltaTTodos, dT)\n",
      "        else:\n",
      "            q+=1\n",
      "        cucho= (messungenZahl[0]- q- 1 )\n",
      "        # print (i, cucho)\n",
      "    return deltaTTodos\n",
      "\n",
      "\n",
      "def agregadorAnchoTodosCuadrados(mes, dia, rango):\n",
      "    deltaTTodos= np.array([])\n",
      "    for i in rango:\n",
      "        acq= np.load(dataPathFile(mes, dia, i))\n",
      "        deltaTTodos= np.append(deltaTTodos, anchoTodosCuadrados(acq))\n",
      "    return (deltaTTodos.mean(), errorEstandard(deltaTTodos) )"
     ],
     "language": "python",
     "metadata": {},
     "outputs": [],
     "prompt_number": 7
    },
    {
     "cell_type": "heading",
     "level": 1,
     "metadata": {},
     "source": [
      "Pulser"
     ]
    },
    {
     "cell_type": "code",
     "collapsed": false,
     "input": [
      "# 300 ns\n",
      "mes= 8\n",
      "dia= 3\n",
      "rango= np.arange(1,3)\n",
      "\n",
      "(mDT, emDT)= agregadorAnchoTodosCuadrados(mes, dia, rango)\n",
      "print('Delta T= '+'{:.03e}'.format(mDT)+ ' +/- '+ '{:.03e}'.format(emDT))\n",
      "print(mDT, emDT)\n",
      "\n",
      "taus= agregadorTaus(mes, dia, rango)\n",
      "(siz, mTau, emTau)= binner(taus, 25)\n",
      "print('tau= '+'{:.03e}'.format(mTau)+ ' +/- '+ '{:.03e}'.format(emTau))\n",
      "print(mTau, emTau)"
     ],
     "language": "python",
     "metadata": {},
     "outputs": []
    },
    {
     "cell_type": "code",
     "collapsed": false,
     "input": [
      "# 325 ns\n",
      "mes= 8\n",
      "dia= 3\n",
      "rango= np.arange(3,5)\n",
      "\n",
      "(mDT, emDT)= agregadorAnchoTodosCuadrados(mes, dia, rango)\n",
      "print('Delta T= '+'{:.03e}'.format(mDT)+ ' +/- '+ '{:.03e}'.format(emDT))\n",
      "print(mDT, emDT)\n",
      "\n",
      "taus= agregadorTaus(mes, dia, rango)\n",
      "(siz, mTau, emTau)= binner(taus, 30)\n",
      "print('tau= '+'{:.03e}'.format(mTau)+ ' +/- '+ '{:.03e}'.format(emTau))\n",
      "print(mTau, emTau)"
     ],
     "language": "python",
     "metadata": {},
     "outputs": []
    },
    {
     "cell_type": "code",
     "collapsed": false,
     "input": [
      "# 350 ns\n",
      "mes= 8\n",
      "dia= 3\n",
      "rango= np.arange(5,7)\n",
      "\n",
      "(mDT, emDT)= agregadorAnchoTodosCuadrados(mes, dia, rango)\n",
      "print('Delta T= '+'{:.03e}'.format(mDT)+ ' +/- '+ '{:.03e}'.format(emDT))\n",
      "print(mDT, emDT)\n",
      "\n",
      "taus= agregadorTaus(mes, dia, rango)\n",
      "(siz, mTau, emTau)= binner(taus, 30)\n",
      "print('tau= '+'{:.03e}'.format(mTau)+ ' +/- '+ '{:.03e}'.format(emTau))\n",
      "print(mTau, emTau)"
     ],
     "language": "python",
     "metadata": {},
     "outputs": []
    },
    {
     "cell_type": "code",
     "collapsed": false,
     "input": [
      "# 375 ns\n",
      "mes= 8\n",
      "dia= 3\n",
      "rango= np.arange(7,9)\n",
      "\n",
      "(mDT, emDT)= agregadorAnchoTodosCuadrados(mes, dia, rango)\n",
      "print('Delta T= '+'{:.03e}'.format(mDT)+ ' +/- '+ '{:.03e}'.format(emDT))\n",
      "print(mDT, emDT)\n",
      "\n",
      "taus= agregadorTaus(mes, dia, rango)\n",
      "(siz, mTau, emTau)= binner(taus, 30)\n",
      "print('tau= '+'{:.03e}'.format(mTau)+ ' +/- '+ '{:.03e}'.format(emTau))\n",
      "print(mTau, emTau)"
     ],
     "language": "python",
     "metadata": {},
     "outputs": []
    },
    {
     "cell_type": "code",
     "collapsed": false,
     "input": [
      "# 400 ns\n",
      "mes= 8\n",
      "dia= 3\n",
      "rango= np.arange(9,11)\n",
      "\n",
      "(mDT, emDT)= agregadorAnchoTodosCuadrados(mes, dia, rango)\n",
      "print('Delta T= '+'{:.03e}'.format(mDT)+ ' +/- '+ '{:.03e}'.format(emDT))\n",
      "print(mDT, emDT)\n",
      "\n",
      "taus= agregadorTaus(mes, dia, rango)\n",
      "(siz, mTau, emTau)= binner(taus, 35)\n",
      "print('tau= '+'{:.03e}'.format(mTau)+ ' +/- '+ '{:.03e}'.format(emTau))\n",
      "print(mTau, emTau)"
     ],
     "language": "python",
     "metadata": {},
     "outputs": []
    },
    {
     "cell_type": "code",
     "collapsed": false,
     "input": [
      "# 425 ns\n",
      "mes= 8\n",
      "dia= 3\n",
      "rango= np.arange(11,13)\n",
      "\n",
      "(mDT, emDT)= agregadorAnchoTodosCuadrados(mes, dia, rango)\n",
      "print('Delta T= '+'{:.03e}'.format(mDT)+ ' +/- '+ '{:.03e}'.format(emDT))\n",
      "print(mDT, emDT)\n",
      "\n",
      "taus= agregadorTaus(mes, dia, rango)\n",
      "(siz, mTau, emTau)= binner(taus, 50)\n",
      "print('tau= '+'{:.03e}'.format(mTau)+ ' +/- '+ '{:.03e}'.format(emTau))\n",
      "print(mTau, emTau)"
     ],
     "language": "python",
     "metadata": {},
     "outputs": []
    },
    {
     "cell_type": "heading",
     "level": 2,
     "metadata": {},
     "source": [
      "Resultados"
     ]
    },
    {
     "cell_type": "code",
     "collapsed": false,
     "input": [
      "# resumen mediciones\n",
      "pulser= np.array([50e-9, 75e-9, 100E-9, 125E-9, 150E-9, 175E-9, 200E-9, 225E-9, 250e-9, 275e-9,\n",
      "                  3.0567943706e-07, 3.25173964034e-07, 3.47919077404e-07, 3.73028928851e-07, 3.98022673964e-07, 4.23560985145e-07 ])\n",
      "ePulser= np. array([  5.00000000e-11,   7.50000000e-11,   1.00000000e-10, 1.25000000e-10, 1.50000000e-10, 1.75000000e-10, 2.00000000e-10,   2.25000000e-10,   2.50000000e-10, 2.75000000e-10,\n",
      "         1.12326542847e-10, 3.61149009936e-11, 1.60046767424e-12, 1.9205612089e-11, 1.93293197358e-11, 8.68273042511e-12]) #  ePulser= 1E-3* pulser\n",
      "tau= np.array([1.12228713858e-07, 1.17722206506e-07,  1.248E-7, 1.336E-7, 1.431E-7, 1.524E-7, 1.61053299057E-07, 1.72612455375E-07, 1.85921193093e-07, 1.95733750979e-07,\n",
      "               2.0548956282e-07, 2.10277511962e-07, 2.15979591837e-07, 2.20895316804e-07, 2.22922222222e-07, 2.24811208267e-07 ])\n",
      "eTau= np.array([4.78622460848e-10, 2.75376555221e-10, 1E-10, 3E-10, 5E-10, 1E-10, 6.92956670683e-11, 4.10154397471e-10, 2.78121784156e-10, 5.01511682411e-11,\n",
      "                8.95396954757e-11, 1.45361392096e-10, 9.96416700311e-11, 4.54331186214e-10, 4.7668396466e-10, 9.59463232928e-11 ])"
     ],
     "language": "python",
     "metadata": {},
     "outputs": [],
     "prompt_number": 2
    },
    {
     "cell_type": "code",
     "collapsed": false,
     "input": [
      "# Errores relativos\n",
      "razonEPulser= ePulser[:]/pulser[:]\n",
      "razonETau= eTau[:]/tau[:]\n",
      "razonEPulser, razonETau"
     ],
     "language": "python",
     "metadata": {},
     "outputs": [
      {
       "metadata": {},
       "output_type": "pyout",
       "prompt_number": 3,
       "text": [
        "(array([  1.00000000e-03,   1.00000000e-03,   1.00000000e-03,\n",
        "          1.00000000e-03,   1.00000000e-03,   1.00000000e-03,\n",
        "          1.00000000e-03,   1.00000000e-03,   1.00000000e-03,\n",
        "          1.00000000e-03,   3.67465159e-04,   1.11063323e-04,\n",
        "          4.60011473e-06,   5.14855836e-05,   4.85633633e-05,\n",
        "          2.04993631e-05]),\n",
        " array([ 0.00426471,  0.00233921,  0.00080128,  0.00224551,  0.00349406,\n",
        "         0.00065617,  0.00043027,  0.00237616,  0.00149591,  0.00025622,\n",
        "         0.00043574,  0.00069128,  0.00046135,  0.00205677,  0.00213834,\n",
        "         0.00042679]))"
       ]
      }
     ],
     "prompt_number": 3
    },
    {
     "cell_type": "markdown",
     "metadata": {},
     "source": [
      "Los errores relativos de $\\tau$ son al menos un orden de magnitud mayores que los de $\\Delta T$ del pulser. De momento no pierdo tiempo calculandol\u00f3s."
     ]
    },
    {
     "cell_type": "code",
     "collapsed": false,
     "input": [
      "z3, mCov3 = np.polyfit(tau, pulser, 3, cov=True)\n",
      "p3 = np.poly1d(z3)\n",
      "errZ3= np.sqrt(np.diag(mCov3))\n",
      "\n",
      "z4, mCov4 = np.polyfit(tau, pulser, 4, cov=True)\n",
      "p4 = np.poly1d(z4)\n",
      "errZ4=np.sqrt(np.diag(mCov4))"
     ],
     "language": "python",
     "metadata": {},
     "outputs": [],
     "prompt_number": 4
    },
    {
     "cell_type": "code",
     "collapsed": false,
     "input": [
      "z4, errZ4"
     ],
     "language": "python",
     "metadata": {},
     "outputs": [
      {
       "metadata": {},
       "output_type": "pyout",
       "prompt_number": 5,
       "text": [
        "(array([  5.08334359e+21,  -3.05353207e+15,   6.67295867e+08,\n",
        "         -6.00605150e+01,   1.89992636e-06]),\n",
        " array([  1.72155584e+21,   1.16743900e+15,   2.91933091e+08,\n",
        "          3.18693079e+01,   1.28046277e-06]))"
       ]
      }
     ],
     "prompt_number": 5
    },
    {
     "cell_type": "code",
     "collapsed": false,
     "input": [
      "# pulser vs. an\u00e1lisis \n",
      "#Figura con taus pulser\n",
      "fig = plt.figure(1, figsize=(9.5,6.5))\n",
      "ax = plt.axes()\n",
      "ax.set_ylabel(\"$\\\\Delta t\\ \\mathrm{(pulser) [ns]}$\",fontsize=25)\n",
      "ax.set_xlabel(\"$\\\\tau\\ \\mathrm{(an\u00e1lisis) [ns]}$\",fontsize=25)\n",
      "ticklabels_x = ax.get_xticklabels()\n",
      "ticklabels_y = ax.get_yticklabels()\n",
      "for label_x in ticklabels_x:\n",
      "    label_x.set_fontsize(18)\n",
      "    label_x.set_family('serif')\n",
      "for label_y in ticklabels_y:\n",
      "    label_y.set_fontsize(18)\n",
      "    label_y.set_family('serif')\n",
      "ax.errorbar(tau*1E9, pulser*1E9, xerr= eTau*1E9, yerr= ePulser*1E9, fmt='.k')\n",
      "ax.plot(tau*1E9, p3(tau)*1E9, 'k-', label='orden 3')\n",
      "ax.plot(tau*1E9, p4(tau)*1E9, 'k--', label='orden 4')\n",
      "ax.set_ylim(bottom=0, top= 450)\n",
      "ax.set_xlim(left=110, right=230)\n",
      "ax.legend(loc=2, fontsize=25)\n",
      "ax.grid()\n",
      "# plt.savefig('ajuste.pdf')"
     ],
     "language": "python",
     "metadata": {},
     "outputs": [
      {
       "metadata": {},
       "output_type": "display_data",
       "png": "[encoded data removed]",
       "text": [
        "<matplotlib.figure.Figure at 0x7f0e7d6f5dd8>"
       ]
      }
     ],
     "prompt_number": 6
    },
    {
     "cell_type": "code",
     "collapsed": false,
     "input": [
      "# Solo orden 4\n",
      "\n",
      "# pulser vs. an\u00e1lisis \n",
      "#Figura con taus pulser\n",
      "fig = plt.figure(1, figsize=(9.5,6.5))\n",
      "ax = plt.axes()\n",
      "ax.set_ylabel(\"$\\\\Delta t\\ \\mathrm{(pulser) [ns]}$\",fontsize=25)\n",
      "ax.set_xlabel(\"$\\\\tau\\ \\mathrm{(an\u00e1lisis) [ns]}$\",fontsize=25)\n",
      "ticklabels_x = ax.get_xticklabels()\n",
      "ticklabels_y = ax.get_yticklabels()\n",
      "for label_x in ticklabels_x:\n",
      "    label_x.set_fontsize(18)\n",
      "    label_x.set_family('serif')\n",
      "for label_y in ticklabels_y:\n",
      "    label_y.set_fontsize(18)\n",
      "    label_y.set_family('serif')\n",
      "ax.errorbar(tau*1E9, pulser*1E9, xerr= eTau*1E9, yerr= ePulser*1E9, fmt='.k')\n",
      "# ax.plot(tau*1E9, p3(tau)*1E9, 'k-', label='orden 3')\n",
      "ax.plot(tau*1E9, p4(tau)*1E9, 'k--', label='orden 4')\n",
      "ax.set_ylim(bottom=0, top= 450)\n",
      "ax.set_xlim(left=110, right=230)\n",
      "# ax.legend(loc=2, fontsize=25)\n",
      "ax.grid()\n",
      "# plt.savefig('ajuste.pdf')\n",
      "plt.savefig('../presentacion/graphs/ajuste.pdf')"
     ],
     "language": "python",
     "metadata": {},
     "outputs": [
      {
       "metadata": {},
       "output_type": "display_data",
       "png": "[encoded data removed]",
       "text": [
        "<matplotlib.figure.Figure at 0x7f0e7b414be0>"
       ]
      }
     ],
     "prompt_number": 11
    },
    {
     "cell_type": "raw",
     "metadata": {},
     "source": [
      "Convierto valores $\\tau$ medidos en $\\Delta t$ presuntos..."
     ]
    },
    {
     "cell_type": "heading",
     "level": 5,
     "metadata": {},
     "source": [
      "Propagaci\u00f3n errores "
     ]
    },
    {
     "cell_type": "markdown",
     "metadata": {},
     "source": [
      "$\\Delta t= \\sum_{i=0}^4 a_i \\tau^i$\n",
      "\n",
      "$[\\Delta(\\Delta t)]^2= \\sum_{j=0}^4 (\\Delta a_j \\partial_{a_j} \\sum_{i=0}^4 a_i \\tau^i )^2 + (\\Delta \\tau \\partial_{\\tau} \\sum_{i=0}^4 a_i \\tau^i )^2= \\sum_{j=0}^4 (\\Delta a_j \\tau^j )^2+ (\\Delta \\tau \\sum_{i=1}^4 a_i i \\tau^{i-1} )^2$"
     ]
    },
    {
     "cell_type": "code",
     "collapsed": false,
     "input": [
      "def errAjuste(z, errZ, tau, errTau):\n",
      "    '''\n",
      "    Validado el c\u00f3digo en terminos de que la l\u00ednea comentada da lo mismo que hacer manualmente la cuenta, pero el error es muy grande.\n",
      "    El error aumenta con el grado del polinomio de ajuste. No me convence.\n",
      "    Sospecho que la matriz de covarianza que entrega np.polyfit no es correcta, as\u00ed como la defini\u00f3n de los pesos no lo era.\n",
      "    Descarto la contribuci\u00f3n al error de los elementos de covarianza del ajuste, es decir asumo que no tienen error los coeficientes del mismo.\n",
      "    '''\n",
      "    siz= z.size\n",
      "    # np.sqrt(np.sum((errZ[:]*tau**(np.arange(siz-1,-1,-1)) )**2 )+ (errTau*np.sum(z[:-1]* np.arange(siz-1,0,-1)* tau**(np.arange(siz-2,-1,-1)) ) )**2 )\n",
      "    # A= np.sum((errZ[:]*tau**(np.arange(siz-1,-1,-1)) )**2 )\n",
      "    A= 0 # error del ajuste\n",
      "    B= (errTau*np.sum(z[:-1]* np.arange(siz-1,0,-1)* tau**(np.arange(siz-2,-1,-1)) ) )**2 # propagaci\u00f3n error tau\n",
      "    return np.sqrt(A+B)\n",
      "\n",
      "\n",
      "# # Verificaci\u00f3n manual orden 4\n",
      "# testTau= 158E-9\n",
      "# testErrTau= 18E-9\n",
      "# np.sqrt( (errZ[0]* testTau**4)**2+ (errZ[1]* testTau**3)**2+ (errZ[2]* testTau**2)**2+\\\n",
      "#     (errZ[3]* testTau)**2 + (errZ[4])**2+ (testErrTau* ( z[0]* 4* testTau**3+ z[1]* 3* testTau**2+ z[2]* 2* testTau+ z[3]) )**2 )"
     ],
     "language": "python",
     "metadata": {},
     "outputs": [],
     "prompt_number": 20
    },
    {
     "cell_type": "heading",
     "level": 6,
     "metadata": {},
     "source": [
      "Centronic"
     ]
    },
    {
     "cell_type": "code",
     "collapsed": false,
     "input": [
      "# Centronic\n",
      "evalTau= 118.69E-9\n",
      "evalErrTau= 0.05E-9\n",
      "p4(evalTau), errAjuste(z4, errZ4, evalTau, evalErrTau)"
     ],
     "language": "python",
     "metadata": {},
     "outputs": [
      {
       "metadata": {},
       "output_type": "pyout",
       "prompt_number": 21,
       "text": [
        "(7.4976240803888814e-08, 1.6459221258328967e-10)"
       ]
      }
     ],
     "prompt_number": 21
    },
    {
     "cell_type": "heading",
     "level": 6,
     "metadata": {},
     "source": [
      "CFP-35 4.87 atm"
     ]
    },
    {
     "cell_type": "code",
     "collapsed": false,
     "input": [
      "# \n",
      "evalTau= 173.1E-9\n",
      "evalErrTau= 0.5E-9\n",
      "p4(evalTau), errAjuste(z4, errZ4, evalTau, evalErrTau)"
     ],
     "language": "python",
     "metadata": {},
     "outputs": []
    },
    {
     "cell_type": "code",
     "collapsed": false,
     "input": [
      "evalTau= 125.7E-9\n",
      "evalErrTau= 0.3E-9\n",
      "p4(evalTau), errAjuste(z4, errZ4, evalTau, evalErrTau)"
     ],
     "language": "python",
     "metadata": {},
     "outputs": []
    },
    {
     "cell_type": "code",
     "collapsed": false,
     "input": [
      "evalTau= 125.6E-9\n",
      "evalErrTau= 0.1E-9\n",
      "p4(evalTau), errAjuste(z4, errZ4, evalTau, evalErrTau)"
     ],
     "language": "python",
     "metadata": {},
     "outputs": []
    },
    {
     "cell_type": "code",
     "collapsed": false,
     "input": [
      "evalTau= 121.9E-9\n",
      "evalErrTau= 0.4E-9\n",
      "p4(evalTau), errAjuste(z4, errZ4, evalTau, evalErrTau)"
     ],
     "language": "python",
     "metadata": {},
     "outputs": []
    },
    {
     "cell_type": "code",
     "collapsed": false,
     "input": [
      "evalTau= 125.11E-9\n",
      "evalErrTau= 0.05E-9\n",
      "p4(evalTau), errAjuste(z4, errZ4, evalTau, evalErrTau)"
     ],
     "language": "python",
     "metadata": {},
     "outputs": []
    },
    {
     "cell_type": "code",
     "collapsed": false,
     "input": [
      "evalTau= 127.9E-9\n",
      "evalErrTau= 0.2E-9\n",
      "p4(evalTau), errAjuste(z4, errZ4, evalTau, evalErrTau)"
     ],
     "language": "python",
     "metadata": {},
     "outputs": []
    },
    {
     "cell_type": "code",
     "collapsed": false,
     "input": [
      "evalTau= 129.1E-9\n",
      "evalErrTau= 0.3E-9\n",
      "p4(evalTau), errAjuste(z4, errZ4, evalTau, evalErrTau)"
     ],
     "language": "python",
     "metadata": {},
     "outputs": []
    },
    {
     "cell_type": "heading",
     "level": 6,
     "metadata": {},
     "source": [
      "CFP-35 4.04 atm"
     ]
    },
    {
     "cell_type": "code",
     "collapsed": false,
     "input": [
      "evalTau= 175.0E-9\n",
      "evalErrTau= 0.3E-9\n",
      "p4(evalTau), errAjuste(z4, errZ4, evalTau, evalErrTau)"
     ],
     "language": "python",
     "metadata": {},
     "outputs": []
    },
    {
     "cell_type": "code",
     "collapsed": false,
     "input": [
      "evalTau= 147.9E-9\n",
      "evalErrTau= 0.4E-9\n",
      "p4(evalTau), errAjuste(z4, errZ4, evalTau, evalErrTau)"
     ],
     "language": "python",
     "metadata": {},
     "outputs": []
    },
    {
     "cell_type": "code",
     "collapsed": false,
     "input": [
      "evalTau= 123.4E-9\n",
      "evalErrTau= 0.2E-9\n",
      "p4(evalTau), errAjuste(z4, errZ4, evalTau, evalErrTau)"
     ],
     "language": "python",
     "metadata": {},
     "outputs": []
    },
    {
     "cell_type": "code",
     "collapsed": false,
     "input": [
      "evalTau= 123.4E-9\n",
      "evalErrTau= 0.3E-9\n",
      "p4(evalTau), errAjuste(z4, errZ4, evalTau, evalErrTau)"
     ],
     "language": "python",
     "metadata": {},
     "outputs": []
    },
    {
     "cell_type": "code",
     "collapsed": false,
     "input": [
      "evalTau= 123.6E-9\n",
      "evalErrTau= 0.4E-9\n",
      "p4(evalTau), errAjuste(z4, errZ4, evalTau, evalErrTau)"
     ],
     "language": "python",
     "metadata": {},
     "outputs": []
    },
    {
     "cell_type": "code",
     "collapsed": false,
     "input": [
      "evalTau= 128.7E-9\n",
      "evalErrTau= 0.3E-9\n",
      "p4(evalTau), errAjuste(z4, errZ4, evalTau, evalErrTau)"
     ],
     "language": "python",
     "metadata": {},
     "outputs": []
    },
    {
     "cell_type": "heading",
     "level": 6,
     "metadata": {},
     "source": [
      "DC-045 4.87 atm"
     ]
    },
    {
     "cell_type": "code",
     "collapsed": false,
     "input": [
      "evalTau= 222.00E-9\n",
      "evalErrTau= 0.08E-9\n",
      "p4(evalTau), errAjuste(z4, errZ4, evalTau, evalErrTau)"
     ],
     "language": "python",
     "metadata": {},
     "outputs": []
    },
    {
     "cell_type": "code",
     "collapsed": false,
     "input": [
      "evalTau= 157.4E-9\n",
      "evalErrTau= 0.3E-9\n",
      "p4(evalTau), errAjuste(z4, errZ4, evalTau, evalErrTau)"
     ],
     "language": "python",
     "metadata": {},
     "outputs": []
    },
    {
     "cell_type": "code",
     "collapsed": false,
     "input": [
      "evalTau= 153.52E-9\n",
      "evalErrTau= 0.08E-9\n",
      "p4(evalTau), errAjuste(z4, errZ4, evalTau, evalErrTau)"
     ],
     "language": "python",
     "metadata": {},
     "outputs": []
    },
    {
     "cell_type": "heading",
     "level": 3,
     "metadata": {},
     "source": [
      "Ajuste no lineal pesado - no funciona"
     ]
    },
    {
     "cell_type": "markdown",
     "metadata": {},
     "source": [
      "$\\tau= -1.00848273\\times 10^7 \\mathrm{\\frac{1}{s^2}} {\\Delta t}^2+ 5.70950175 \\mathrm{\\frac{1}{s}} \\Delta t - -4.59289882\\times 10^{-7} \\mathrm{s}$"
     ]
    },
    {
     "cell_type": "code",
     "collapsed": false,
     "input": [
      "# ajuste pesado\n",
      "pesos= 1/ePulser**2 # No est\u00e1 funcionando # https://github.com/numpy/numpy/issues/5261\n",
      "pesos= 1/ePulser\n",
      "z, mCov = np.polyfit(tau, pulser, 3, w=pesos, cov=True)\n",
      "p = np.poly1d(z)\n",
      "pesos, z, p, mCov, np.sqrt(mCov[0,0]), np.sqrt(mCov[1,1]), np.sqrt(mCov[2,2]), np.sqrt(mCov[3,3])"
     ],
     "language": "python",
     "metadata": {},
     "outputs": []
    },
    {
     "cell_type": "markdown",
     "metadata": {},
     "source": [
      "$\\tau= -8.12529891\\times 10^6 \\mathrm{\\frac{1}{s^2}} {\\Delta t}^2+ 5.07811214 \\mathrm{\\frac{1}{s}} \\Delta t -4.07652652\\times 10^{-7} \\mathrm{s}$\n",
      "\n",
      "$\\tau= (-8.12529891\\pm7.1422327505311114)\\times 10^6 \\mathrm{\\frac{1}{s^2}} {\\Delta t}^2+ (5.07811214\\pm0.2419598001340825) \\mathrm{\\frac{1}{s}} \\Delta t (-4.07652652\\pm0.20145943811666885)\\times 10^{-7} \\mathrm{s}$\n",
      "\n",
      "$\\tau= (-8\\pm8)\\times 10^6 \\mathrm{\\frac{1}{s^2}} {\\Delta t}^2+ (5.1\\pm0.3) \\mathrm{\\frac{1}{s}} \\Delta t (-4.1\\pm0.3)\\times 10^{-7} \\mathrm{s}$"
     ]
    },
    {
     "cell_type": "code",
     "collapsed": false,
     "input": [
      "# pulser vs. an\u00e1lisis \n",
      "#Figura con taus pulser\n",
      "fig = plt.figure(1, figsize=(9.5,6.5))\n",
      "ax = plt.axes()\n",
      "ax.set_ylabel(\"$\\\\Delta t\\ \\mathrm{(pulser) [ns]}$\",fontsize=25)\n",
      "ax.set_xlabel(\"$\\\\tau\\ \\mathrm{(an\u00e1lisis) [ns]}$\",fontsize=25)\n",
      "ticklabels_x = ax.get_xticklabels()\n",
      "ticklabels_y = ax.get_yticklabels()\n",
      "for label_x in ticklabels_x:\n",
      "    label_x.set_fontsize(18)\n",
      "    label_x.set_family('serif')\n",
      "for label_y in ticklabels_y:\n",
      "    label_y.set_fontsize(18)\n",
      "    label_y.set_family('serif')\n",
      "ax.errorbar(tau*1E9, pulser*1E9, xerr= eTau*1E9, yerr= ePulser*1E9, fmt='.k')\n",
      "ax.plot(tau*1E9, p(tau)*1E9, 'r-', label='cuadrados $1\\mathrm{\\mu A}$')\n",
      "ax.set_ylim(bottom=0, top= 450)\n",
      "ax.set_xlim(left=100, right=230)\n",
      "# ax.legend(loc=2, fontsize=25)\n",
      "ax.grid()"
     ],
     "language": "python",
     "metadata": {},
     "outputs": []
    }
   ],
   "metadata": {}
  }
 ]
}