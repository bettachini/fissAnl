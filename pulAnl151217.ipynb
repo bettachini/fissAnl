{
 "metadata": {
  "name": "",
  "signature": "sha256:a771119113aedc88e50afac1030096cc176bb668b6abc717c18b9b53e6e998e0"
 },
 "nbformat": 3,
 "nbformat_minor": 0,
 "worksheets": [
  {
   "cells": [
    {
     "cell_type": "code",
     "collapsed": false,
     "input": [
      "import matplotlib\n",
      "import numpy as np\n",
      "import matplotlib.pyplot as plt\n",
      "\n",
      "%matplotlib inline\n",
      "# coding=utf-8"
     ],
     "language": "python",
     "metadata": {},
     "outputs": [],
     "prompt_number": 1
    },
    {
     "cell_type": "heading",
     "level": 1,
     "metadata": {},
     "source": [
      "Pulsos BL-2: area AMC, altura AMC"
     ]
    },
    {
     "cell_type": "code",
     "collapsed": false,
     "input": [
      "# Funciones auxiliares - anl150807\n",
      "\n",
      "def dataPathFile(mes, dia, acq):\n",
      "    path= './data/'\n",
      "    fNS= 'pul15'+ '{:02n}'.format(mes)+ '{:02n}'.format(dia)+ 'z'\n",
      "    fNE= '.npy.npz'\n",
      "    return path+ fNS+ '{:02n}'.format(acq)+fNE\n",
      "\n",
      "\n",
      "def desvioEstandardCuasiNoSesgado(datos):\n",
      "    '''\n",
      "    Estimador cuasi no sesgado de la desviaci\u00f3n estandar.\n",
      "    https://en.wikipedia.org/wiki/Unbiased_estimation_of_standard_deviation\n",
      "    '''\n",
      "    media= np.mean(datos)\n",
      "    suma=0\n",
      "    for registro in datos:\n",
      "        aux= (registro- media)\n",
      "#     for i in datos:\n",
      "#         aux= (datos[i]- media)\n",
      "        suma+= aux**2\n",
      "    desv= np.sqrt(suma/( np.size(datos)- 1.5) ) \n",
      "    return desv\n",
      "\n",
      "\n",
      "def errorEstandard(datos):\n",
      "    '''\n",
      "    Estimador de la desviaci\u00f3n estandar del promedio.\n",
      "    Usa la desviaci\u00f3n estandar de la poblaci\u00f3n y la divide por la ra\u00edz del n\u00famero de elementos en la poblaci\u00f3n.\n",
      "    https://en.wikipedia.org/wiki/Standard_error\n",
      "    '''\n",
      "    return desvioEstandardCuasiNoSesgado(datos)/ np.sqrt(np.size(datos))\n",
      "\n",
      "\n",
      "def baseMeas2(Meas2, messungenZahl, prop=0.25):\n",
      "    '''\n",
      "    (array, array, float) -> array\n",
      "    \n",
      "    De la primer fracci\u00f3n prop de ambos canales en Meas2,\n",
      "    obtiene el promedio y dispersi\u00f3n que se asume como nivel de base\n",
      "    grProm[0]: promedio ch1, grProm[1]: promedio ch2,\n",
      "    grProm[2]: desviaci\u00f3n estandard ch1, grProm[3]: desviaci\u00f3n estandard ch2\n",
      "    '''\n",
      "    erstePunkten= int(messungenZahl[1]* prop)\n",
      "    ch1Erste= Meas2[0][0:erstePunkten-1]\n",
      "    ch2Erste= Meas2[1][0:erstePunkten-1]\n",
      "    return np.array([ch1Erste.mean(), ch2Erste.mean(), ch1Erste.std(), ch2Erste.std() ] )"
     ],
     "language": "python",
     "metadata": {},
     "outputs": [],
     "prompt_number": 52
    },
    {
     "cell_type": "markdown",
     "metadata": {},
     "source": [
      "Variables a obtener:\n",
      "    - pulso entrada: \u00e1rea\n",
      "    - pulso entrada: ancho\n",
      "    - pulso entrada: m\u00e1ximo\n",
      "    - AMC: tau\n",
      "    - AMC: \u00e1rea subida\n",
      "    - AMC: \u00e1rea total\n",
      "    - AMC: m\u00e1ximo"
     ]
    },
    {
     "cell_type": "code",
     "collapsed": false,
     "input": [
      "def tauCeti3eAreaMax(T, Meas2, messungenZahl, prop, rechazo=0.1):\n",
      "    '''\n",
      "    Calcula \u00edndices risetime como tiempo entre 10% y 90% de excursi\u00f3n entre nivel de base y m\u00e1ximo.\n",
      "    Retorna area por sobre nivel de base de AMC entre 10% a izquierda y derecha.\n",
      "   \n",
      "    Meas2: array (2,:) con Meas2[0] canal 1, Meas2[0] canal 2, producto de np.vstack\n",
      "    baseMeas2: base(Meas2)\n",
      "    '''\n",
      "    bMeas2= baseMeas2(Meas2, messungenZahl, prop) # niveles base\n",
      "    # print(bMeas2[3],np.abs(bMeas2[1]* rechazo))\n",
      "    \n",
      "    if ((bMeas2[3])>np.abs(bMeas2[1]* rechazo)):\n",
      "        # print('pasa tauCeti3eAreaMax')\n",
      "        return 0,0,0,0,0,0,0\n",
      "        # return np.array([0, 0 ])\n",
      "    else:\n",
      "        maxIx= (Meas2[0].argmax(), Meas2[1].argmax() ) # \u00edndice m\u00e1ximo\n",
      "        # m\u00e1ximo promediado cercano\n",
      "        rangoCercano= 20 # tres lecturas a izq y derecha\n",
      "        maxCh1= (Meas2[0][maxIx[0]- rangoCercano: maxIx[0]+ rangoCercano]).mean()\n",
      "        maxCh2= (Meas2[1][maxIx[1]- rangoCercano: maxIx[1]+ rangoCercano]).mean()\n",
      "        # diferencia m\u00e1ximo- base\n",
      "        deltaV= np.array([maxCh1- bMeas2[0], maxCh2- bMeas2[1]]) # usa promediado cercano\n",
      "        # Diferencias de potencial para 10%, 90% de excursi\u00f3n\n",
      "        v10= bMeas2[0:2]+ 0.1* deltaV\n",
      "        v90= bMeas2[0:2]+ 0.9* deltaV\n",
      "        # \u00cdndices para primer potencial del pulso que exceda 10%, y \u00faltimo por debajo 90% \n",
      "        ixTau= np.array([maxIx[0], maxIx[1], maxIx[0], maxIx[1]])\n",
      "        \n",
      "        # ch1>10% sobre l\u00ednea de base [ancho Pulser]\n",
      "        while (Meas2[0,ixTau[2]]> v10[0]): # para ancho en Pulser\n",
      "            ixTau[2]+= 1        \n",
      "        #while (Meas2[0,ixTau[2]]> v90[0]): # para tau en FLUC\n",
      "        #    ixTau[2]-= 1        \n",
      "        while (Meas2[0,ixTau[0]]> v10[0]):\n",
      "            ixTau[0]-= 1\n",
      "        anchoPulser= T[ixTau[2]]- T[ixTau[0]]\n",
      "        # ch1 area [area pulser]\n",
      "        # sumo diferencia con l\u00ednea de base bMeas2 por encima de 10%\n",
      "        areaPulser= (Meas2[0][ixTau[0]: ixTau[2]] - bMeas2[0]).sum()\n",
      "        puntoMedioPulser= np.int((ixTau[2]- ixTau[0])/2)\n",
      "        maxPulser= (Meas2[0][puntoMedioPulser- rangoCercano: puntoMedioPulser+ rangoCercano]).mean()\n",
      "        \n",
      "        # 10->90% ch2 [tau AMC]\n",
      "        while (Meas2[1,ixTau[1]]> v10[1]):\n",
      "            ixTau[1]-= 1\n",
      "        while (Meas2[1,ixTau[3]]> v90[1]):\n",
      "            ixTau[3]-= 1\n",
      "        tauAMC= T[ixTau[3]]- T[ixTau[1]]\n",
      "            \n",
      "        # ch2Area [AMC]\n",
      "        ixAMC10ProzentRicht= maxIx[1] # empiezo por m\u00e1ximo\n",
      "        while ((Meas2[1, ixAMC10ProzentRicht]> v10[1]) and (ixAMC10ProzentRicht< messungenZahl[1]-1)):\n",
      "            ixAMC10ProzentRicht+= 1\n",
      "        if (ixAMC10ProzentRicht== messungenZahl[1]):\n",
      "            return 0,0,0,0,0,0,0 # Condici\u00f3n falla de \u00e1rea, pues llego desde el max hasta el final sin haber bajado\n",
      "        # ixTau[1], maxIx[1], ixAMC10ProzentRicht\n",
      "        # hay que sumar diferencia AMC con este nivel desde el \u00edndice 10% izquierda hasta derecha\n",
      "\n",
      "        areaTotalAMC= (Meas2[1][ixTau[1]: ixAMC10ProzentRicht] - bMeas2[1]).sum() # suma alturas sobre bMeas2[1] (nivel base AMC)\n",
      "        areaSubidaAMC= (Meas2[1][ixTau[1]: maxIx[1]] - bMeas2[1]).sum()\n",
      "        maxAMC= maxCh2\n",
      "        return anchoPulser, areaPulser, maxPulser, tauAMC, areaTotalAMC, areaSubidaAMC, maxAMC\n",
      "    \n",
      "    \n",
      "def tausAreasMaxSerieAdq(npzData, prop= 0.25):\n",
      "    '''\n",
      "    Vectores risetime canal AMC de archivo acq comprimido\n",
      "    \n",
      "    npzData= numpy.lib.npyio.NpzFile\n",
      "    prop= porcentaje inferior del canal a promediar para obtener nivel de base     \n",
      "    '''\n",
      "    FLUC= npzData['ch1']\n",
      "    AMC= npzData['ch2']\n",
      "    messungenZahl= AMC.shape\n",
      "    # tiempo\n",
      "    T= npzData['zeit']\n",
      "\n",
      "    anchoPulser= np.empty([0, 1])\n",
      "    areaPulser= np.empty([0, 1])\n",
      "    maxPulser= np.empty([0, 1])\n",
      "    \n",
      "    tauAMC= np.empty([0, 1])\n",
      "    areaSubidaAMC= np.empty([0, 1])\n",
      "    areaTotalAMC= np.empty([0, 1])\n",
      "    maxAMC= np.empty([0, 1])\n",
      "    i=0\n",
      "    q=0\n",
      "    cucho= (messungenZahl[0]- q- 1 )\n",
      "    while (i< cucho ):\n",
      "        Meas2= np.array([FLUC[i+q], AMC[i+q] ] )\n",
      "        anchoPulseri, areaPulseri, maxPulseri, tauAMCi, areaTotalAMCi, areaSubidaAMCi, maxAMCi= tauCeti3eAreaMax(T, Meas2, messungenZahl, prop, 0.03)\n",
      "        # print (tauAMCi, areaTotalAMCi, areaSubidaAMCi, maxAMCi)\n",
      "        if (tauAMCi!=0):\n",
      "            i+=1\n",
      "            anchoPulser= np.append(anchoPulser, anchoPulseri)\n",
      "            areaPulser= np.append(areaPulser, areaPulseri)\n",
      "            maxPulser= np.append(maxPulser, maxPulseri)\n",
      "            tauAMC= np.append(tauAMC, tauAMCi)\n",
      "            areaSubidaAMC= np.append(areaSubidaAMC, areaSubidaAMCi)\n",
      "            areaTotalAMC= np.append(areaTotalAMC, areaTotalAMCi)\n",
      "            maxAMC= np.append(maxAMC, maxAMCi)\n",
      "        else:\n",
      "            # print('pasa tausAreasMaxSerieAdq')\n",
      "            q+=1\n",
      "        cucho= (messungenZahl[0]- q- 1 )\n",
      "    return anchoPulser, areaPulser, maxPulser, tauAMC, areaSubidaAMC, areaTotalAMC, maxAMC"
     ],
     "language": "python",
     "metadata": {},
     "outputs": [],
     "prompt_number": 3
    },
    {
     "cell_type": "code",
     "collapsed": false,
     "input": [
      "# agregador area\n",
      "def agregadorPulser(mes, dia, rango):\n",
      "    \n",
      "    anchosPulser= np.array([])\n",
      "    areasPulser= np.array([])\n",
      "    maxsPulser= np.array([])\n",
      "    \n",
      "    tausAMC= np.array([])\n",
      "    areasTotalAMC= np.array([])\n",
      "    areasSubidaAMC= np.array([])\n",
      "    maximosAMC= np.array([])\n",
      "    for i in rango:\n",
      "        acq= np.load(dataPathFile(mes, dia, i))\n",
      "        anchoPulser, areaPulser, maxPulser, tauAMC, areaSubidaAMC, areaTotalAMC, maxAMC= tausAreasMaxSerieAdq(acq)\n",
      "        \n",
      "        anchosPulser= np.append(anchosPulser,anchoPulser)\n",
      "        areasPulser= np.append(areasPulser, areaPulser)\n",
      "        maxsPulser= np.append(maxsPulser, maxPulser)\n",
      "        \n",
      "        tausAMC= np.append(tausAMC, tauAMC)\n",
      "        areasTotalAMC= np.append(areasTotalAMC, areaTotalAMC)\n",
      "        areasSubidaAMC= np.append(areasSubidaAMC, areaSubidaAMC)\n",
      "        maximosAMC= np.append(maximosAMC, maxAMC)\n",
      "        \n",
      "    # Falta convertir areas y m\u00e1ximos reales con datos de \n",
      "        \n",
      "    return anchosPulser, areasPulser, maxPulser, tausAMC, areasTotalAMC, areasSubidaAMC, maximosAMC"
     ],
     "language": "python",
     "metadata": {},
     "outputs": [],
     "prompt_number": 4
    },
    {
     "cell_type": "heading",
     "level": 2,
     "metadata": {},
     "source": [
      "Corrida de ejemplo"
     ]
    },
    {
     "cell_type": "code",
     "collapsed": false,
     "input": [
      "# Un archivo\n",
      "\n",
      "# 212.5 ns\n",
      "mes= 10\n",
      "dia= 9\n",
      "rango= np.arange(6,7)\n",
      "\n",
      "anchosPulser, areasPulser, maxsPulser, tausAMC, areasTotalAMC, areasSubidaAMC, maximosAMC= agregadorPulser(mes, dia, rango)"
     ],
     "language": "python",
     "metadata": {},
     "outputs": [],
     "prompt_number": 53
    },
    {
     "cell_type": "code",
     "collapsed": false,
     "input": [
      "anchosPulser.mean(), areasPulser.mean(), maxsPulser.mean(), tausAMC.mean(), errorEstandard(tausAMC), anchosPulser.mean()"
     ],
     "language": "python",
     "metadata": {},
     "outputs": [
      {
       "metadata": {},
       "output_type": "pyout",
       "prompt_number": 6,
       "text": [
        "(2.2529581151832681e-07,\n",
        " 65223.107837461415,\n",
        " -65.486321989528761,\n",
        " 1.6735445026178029e-07,\n",
        " 7.8782215367805501e-10,\n",
        " 2.2529581151832681e-07)"
       ]
      }
     ],
     "prompt_number": 6
    },
    {
     "cell_type": "code",
     "collapsed": false,
     "input": [
      "plt.plot(tausAMC)\n",
      "# plt.plot(areasTotalAMC)"
     ],
     "language": "python",
     "metadata": {},
     "outputs": [
      {
       "metadata": {},
       "output_type": "pyout",
       "prompt_number": 27,
       "text": [
        "[<matplotlib.lines.Line2D at 0x7f9f18a31320>]"
       ]
      },
      {
       "metadata": {},
       "output_type": "display_data",
       "png": "[encoded data removed]",
       "text": [
        "<matplotlib.figure.Figure at 0x7f9f18b512e8>"
       ]
      }
     ],
     "prompt_number": 27
    },
    {
     "cell_type": "code",
     "collapsed": false,
     "input": [
      "def enmascarador(datos, mascara):\n",
      "    datosEnmascarados= np.ma.MaskedArray(datos,mascara)\n",
      "    salida= datosEnmascarados.compressed() # datosComprimidos\n",
      "    return salida # datosComprimidos\n",
      "\n",
      "def binner(taus, fracBinsHist, segmentos= 120):\n",
      "    binsRecorte= np.int(fracBinsHist*segmentos)\n",
      "    fig = plt.figure(figsize=(18,5))  # an empty figure with no axes\n",
      "    ax_lst= fig.add_subplot(1,2,2)\n",
      "    n, bins, patches= ax_lst.hist(taus, segmentos)\n",
      "    ax_lst.set_ylabel('Cuentas')\n",
      "    ax_lst.set_xlabel('Tau [ns]')\n",
      "    intermedio = np.ma.masked_greater(taus, bins[binsRecorte])\n",
      "    mascara= intermedio.mask\n",
      "    primerCampana= intermedio.compressed()\n",
      "    ax_lst2= fig.add_subplot(1,2,1)\n",
      "    ax_lst2.set_ylabel('Cuentas')\n",
      "    ax_lst2.set_xlabel('Tau [ns]')\n",
      "    n_i, bins_i, patches_i= ax_lst2.hist(primerCampana, bins=np.int(segmentos/3))\n",
      "    print('puntos campana {:d}'.format(primerCampana.size))\n",
      "    return mascara, primerCampana\n",
      "    #return primerCampana.size, primerCampana.mean(), errorEstandard(primerCampana), mascara"
     ],
     "language": "python",
     "metadata": {},
     "outputs": [],
     "prompt_number": 54
    },
    {
     "cell_type": "code",
     "collapsed": false,
     "input": [
      "mascara, tausAMCComprimidos = binner(tausAMC, 0.4)\n",
      "\n",
      "anchosPulserComprimidos= enmascarador(anchosPulser, mascara)\n",
      "print('anchoPulser= ', anchosPulserComprimidos.mean(), errorEstandard(anchosPulserComprimidos))\n",
      "\n",
      "areasPulserComprimidos= enmascarador(areasPulser, mascara)\n",
      "print('areaPulser= ', areasPulserComprimidos.mean(), errorEstandard(areasPulserComprimidos))\n",
      "\n",
      "maxsPulserComprimidos= enmascarador(maxsPulser, mascara)\n",
      "print('maxPulser= ', maxsPulserComprimidos.mean(), errorEstandard(maxsPulserComprimidos))\n",
      "\n",
      "#mTau= tausAMCComprimidos.mean(), emTau= errorEstandard(tausAMCComprimidos)\n",
      "# print('tau= '+'{:.03e}'.format(mTau)+ ' +/- '+ '{:.03e}'.format(emTau))\n",
      "print('tauAMC= ', tausAMCComprimidos.mean(), errorEstandard(tausAMCComprimidos))\n",
      "\n",
      "areasSubidaAMCComprimidos= enmascarador(areasSubidaAMC, mascara)\n",
      "print('areaSubidaAMC= ', areasSubidaAMCComprimidos.mean(), errorEstandard(areasSubidaAMCComprimidos))\n",
      "\n",
      "areasTotalAMCComprimidos= enmascarador(areasTotalAMC, mascara)\n",
      "print('areaTotalAMC= ', areasTotalAMCComprimidos.mean(), errorEstandard(areasTotalAMCComprimidos))\n",
      "\n",
      "maximosAMCComprimidos= enmascarador(maximosAMC, mascara)\n",
      "print('maximoAMC= ', maximosAMCComprimidos.mean(), errorEstandard(maximosAMCComprimidos))"
     ],
     "language": "python",
     "metadata": {},
     "outputs": [
      {
       "output_type": "stream",
       "stream": "stdout",
       "text": [
        "puntos campana 734\n",
        "anchoPulser=  2.25298637602e-07 1.98823219392e-11\n",
        "areaPulser=  65223.8773864 8.32989355303\n",
        "maxPulser=  -65.5014645777 0.133810287404\n",
        "tauAMC=  1.6178147139e-07 7.25359324406e-10\n",
        "areaSubidaAMC=  20049.8570334 110.572983925\n",
        "areaTotalAMC=  43856.4459146 194.966981248\n",
        "maximoAMC=  0.648705722071 0.17393861147\n"
       ]
      },
      {
       "metadata": {},
       "output_type": "display_data",
       "png": "[encoded data removed]",
       "text": [
        "<matplotlib.figure.Figure at 0x7f9f18d77710>"
       ]
      }
     ],
     "prompt_number": 61
    },
    {
     "cell_type": "heading",
     "level": 2,
     "metadata": {},
     "source": [
      "Verificaci\u00f3n de fallas"
     ]
    },
    {
     "cell_type": "code",
     "collapsed": false,
     "input": [
      "# solo una adquisici\u00f3n\n",
      "i=1\n",
      "acq= np.load(dataPathFile(mes, dia, i))"
     ],
     "language": "python",
     "metadata": {},
     "outputs": [],
     "prompt_number": 64
    },
    {
     "cell_type": "code",
     "collapsed": false,
     "input": [
      "# solo un pulso\n",
      "npzData= acq\n",
      "\n",
      "i=0\n",
      "q=9\n",
      "FLUC= npzData['ch1']\n",
      "AMC= npzData['ch2']\n",
      "messungenZahl= AMC.shape\n",
      "# tiempo\n",
      "T= npzData['zeit']\n",
      "Meas2= np.array([FLUC[i+q], AMC[i+q] ] )"
     ],
     "language": "python",
     "metadata": {},
     "outputs": [],
     "prompt_number": 65
    },
    {
     "cell_type": "code",
     "collapsed": false,
     "input": [
      "prop= 0.25\n",
      "a1,a2,a3,a4,a5,a6,a7= tauCeti3eAreaMax(T, Meas2, messungenZahl, prop)"
     ],
     "language": "python",
     "metadata": {},
     "outputs": [],
     "prompt_number": 31
    },
    {
     "cell_type": "markdown",
     "metadata": {},
     "source": [
      "Falla con el de \u00edndice 9 -> graficar"
     ]
    },
    {
     "cell_type": "code",
     "collapsed": false,
     "input": [
      "# Auxiliar gr\u00e1fico: nivel de base y m\u00e1ximos\n",
      "bMeas2= baseMeas2(Meas2, messungenZahl, prop) # niveles base\n",
      "maxIx= (Meas2[0].argmax(), Meas2[1].argmax() ) # \u00edndice m\u00e1ximo\n",
      "iMaxCh1, iMaxCh2= maxIx"
     ],
     "language": "python",
     "metadata": {},
     "outputs": [],
     "prompt_number": 32
    },
    {
     "cell_type": "code",
     "collapsed": false,
     "input": [
      "'''\n",
      "Grafica ambos canales, niveles de base (izquierda), m\u00e1ximos, 10% y 90% del risetime\n",
      "\n",
      "(T, Meas2) (maxCH1_index, maxCH2_index, iProcent10, iProcent90) -> \n",
      "'''\n",
      "\n",
      "# Gr\u00e1fica max, nivel cero, etc.\n",
      "fig, (ax0, ax1) = plt.subplots(nrows=2, sharex=True)\n",
      "fig.set_size_inches(10,8)\n",
      "fig.subplots_adjust(hspace=0.000)\n",
      "# Axis 0\n",
      "ax0.plot(T, Meas2[0,:], 'y')\n",
      "# Make the y-axis label and tick labels match the line color.\n",
      "ax0.set_ylabel('ch 1 [arb]', color='y')\n",
      "ax0.grid(True)\n",
      "# Axis 1\n",
      "ax1.plot(T, Meas2[1,:], 'c')\n",
      "ax1.set_ylabel('ch 2 [arb]', color='c')\n",
      "ax1.set_xlabel('tiempo [s]')\n",
      "ax1.grid(True)\n",
      "# zero level lines\n",
      "erstePunkten= int(messungenZahl[1]* prop) # auxiliar\n",
      "zeroT= T[0:(erstePunkten- 1)]\n",
      "zeroAx0= np.ones([erstePunkten- 1, 1])* bMeas2[0]\n",
      "zeroAx1= np.ones([erstePunkten- 1, 1])* bMeas2[1]\n",
      "ax0.plot(zeroT, zeroAx0, 'k-')\n",
      "ax1.plot(zeroT, zeroAx1, 'k-')\n",
      "# marks maxima\n",
      "ax0.scatter(T[iMaxCh1], Meas2[0,:][iMaxCh1], marker='o')\n",
      "ax1.scatter(T[iMaxCh2], Meas2[1,:][iMaxCh2], marker='o')\n",
      "# risetime FLUC\n",
      "ax0.scatter(T[ixTau[0]], Meas2[0,:][ixTau[0]], marker='o')\n",
      "ax0.scatter(T[ixTau[2]], Meas2[0,:][ixTau[2]], marker='o')\n",
      "# risetime AMC\n",
      "ax1.scatter(T[i10Ch2], Meas2[1,:][i10Ch2], marker='o')\n",
      "ax1.scatter(T[i90Ch2], Meas2[1,:][i90Ch2], marker='o')\n",
      "\n",
      "#plt.savefig('1090prozent.pdf')\n",
      "plt.show()"
     ],
     "language": "python",
     "metadata": {},
     "outputs": [
      {
       "ename": "NameError",
       "evalue": "name 'ixTau' is not defined",
       "output_type": "pyerr",
       "traceback": [
        "\u001b[0;31m---------------------------------------------------------------------------\u001b[0m\n\u001b[0;31mNameError\u001b[0m                                 Traceback (most recent call last)",
        "\u001b[0;32m<ipython-input-33-ae0f3d9bdcd9>\u001b[0m in \u001b[0;36m<module>\u001b[0;34m()\u001b[0m\n\u001b[1;32m     30\u001b[0m \u001b[0max1\u001b[0m\u001b[0;34m.\u001b[0m\u001b[0mscatter\u001b[0m\u001b[0;34m(\u001b[0m\u001b[0mT\u001b[0m\u001b[0;34m[\u001b[0m\u001b[0miMaxCh2\u001b[0m\u001b[0;34m]\u001b[0m\u001b[0;34m,\u001b[0m \u001b[0mMeas2\u001b[0m\u001b[0;34m[\u001b[0m\u001b[0;36m1\u001b[0m\u001b[0;34m,\u001b[0m\u001b[0;34m:\u001b[0m\u001b[0;34m]\u001b[0m\u001b[0;34m[\u001b[0m\u001b[0miMaxCh2\u001b[0m\u001b[0;34m]\u001b[0m\u001b[0;34m,\u001b[0m \u001b[0mmarker\u001b[0m\u001b[0;34m=\u001b[0m\u001b[0;34m'o'\u001b[0m\u001b[0;34m)\u001b[0m\u001b[0;34m\u001b[0m\u001b[0m\n\u001b[1;32m     31\u001b[0m \u001b[0;31m# risetime FLUC\u001b[0m\u001b[0;34m\u001b[0m\u001b[0;34m\u001b[0m\u001b[0m\n\u001b[0;32m---> 32\u001b[0;31m \u001b[0max0\u001b[0m\u001b[0;34m.\u001b[0m\u001b[0mscatter\u001b[0m\u001b[0;34m(\u001b[0m\u001b[0mT\u001b[0m\u001b[0;34m[\u001b[0m\u001b[0mixTau\u001b[0m\u001b[0;34m[\u001b[0m\u001b[0;36m0\u001b[0m\u001b[0;34m]\u001b[0m\u001b[0;34m]\u001b[0m\u001b[0;34m,\u001b[0m \u001b[0mMeas2\u001b[0m\u001b[0;34m[\u001b[0m\u001b[0;36m0\u001b[0m\u001b[0;34m,\u001b[0m\u001b[0;34m:\u001b[0m\u001b[0;34m]\u001b[0m\u001b[0;34m[\u001b[0m\u001b[0mixTau\u001b[0m\u001b[0;34m[\u001b[0m\u001b[0;36m0\u001b[0m\u001b[0;34m]\u001b[0m\u001b[0;34m]\u001b[0m\u001b[0;34m,\u001b[0m \u001b[0mmarker\u001b[0m\u001b[0;34m=\u001b[0m\u001b[0;34m'o'\u001b[0m\u001b[0;34m)\u001b[0m\u001b[0;34m\u001b[0m\u001b[0m\n\u001b[0m\u001b[1;32m     33\u001b[0m \u001b[0max0\u001b[0m\u001b[0;34m.\u001b[0m\u001b[0mscatter\u001b[0m\u001b[0;34m(\u001b[0m\u001b[0mT\u001b[0m\u001b[0;34m[\u001b[0m\u001b[0mixTau\u001b[0m\u001b[0;34m[\u001b[0m\u001b[0;36m2\u001b[0m\u001b[0;34m]\u001b[0m\u001b[0;34m]\u001b[0m\u001b[0;34m,\u001b[0m \u001b[0mMeas2\u001b[0m\u001b[0;34m[\u001b[0m\u001b[0;36m0\u001b[0m\u001b[0;34m,\u001b[0m\u001b[0;34m:\u001b[0m\u001b[0;34m]\u001b[0m\u001b[0;34m[\u001b[0m\u001b[0mixTau\u001b[0m\u001b[0;34m[\u001b[0m\u001b[0;36m2\u001b[0m\u001b[0;34m]\u001b[0m\u001b[0;34m]\u001b[0m\u001b[0;34m,\u001b[0m \u001b[0mmarker\u001b[0m\u001b[0;34m=\u001b[0m\u001b[0;34m'o'\u001b[0m\u001b[0;34m)\u001b[0m\u001b[0;34m\u001b[0m\u001b[0m\n\u001b[1;32m     34\u001b[0m \u001b[0;31m# risetime AMC\u001b[0m\u001b[0;34m\u001b[0m\u001b[0;34m\u001b[0m\u001b[0m\n",
        "\u001b[0;31mNameError\u001b[0m: name 'ixTau' is not defined"
       ]
      },
      {
       "metadata": {},
       "output_type": "display_data",
       "png": "[encoded data removed]",
       "text": [
        "<matplotlib.figure.Figure at 0x7f96bdbd7c88>"
       ]
      }
     ],
     "prompt_number": 33
    },
    {
     "cell_type": "code",
     "collapsed": false,
     "input": [
      "npzData.files\n",
      "setArray= npzData['settings'][()]\n",
      "setArray"
     ],
     "language": "python",
     "metadata": {},
     "outputs": [],
     "prompt_number": 76
    },
    {
     "cell_type": "code",
     "collapsed": false,
     "input": [
      "setArray"
     ],
     "language": "python",
     "metadata": {},
     "outputs": [
      {
       "metadata": {},
       "output_type": "pyout",
       "prompt_number": 79,
       "text": [
        "{'SYNC': 'FIELD',\n",
        " 'POLARITY': 'NORMAL',\n",
        " 'PORT': 'USB',\n",
        " 'BANDWIDTH': 'OFF',\n",
        " ':MEASUREMENT:IMMED:TYPE': 'PERIOD',\n",
        " ':HARDCOPY:BUTTON': 'SAVESALL',\n",
        " 'CH2': '1',\n",
        " 'LAYOUT': 'PORTRAIT',\n",
        " ':LOCK': 'NONE',\n",
        " ':PICTBRIDGE:PAPERSIZE': 'DEFLT',\n",
        " 'SELECT:SOURCE': 'CH1',\n",
        " 'SCALE': '1.0E0',\n",
        " ':CH2:PROBE': '1.0E0',\n",
        " ':HORIZONTAL:VIEW': 'MAIN',\n",
        " 'COUPLING': 'DC',\n",
        " ':LANGUAGE': 'SPANISH',\n",
        " 'MAIN:SCALE': '1.0E-7',\n",
        " 'CONTRAST': '54',\n",
        " 'SLOPE': 'FALL',\n",
        " ':MATH:FFT:HORIZONTAL:POSITION': '5.0E1',\n",
        " 'STATE': '1',\n",
        " 'POSITION2': -2.52,\n",
        " ':MEASUREMENT:MEAS2:TYPE': 'FREQUENCY',\n",
        " ':MEASUREMENT:MEAS5:TYPE': 'FREQUENCY',\n",
        " ':CURSOR:VBARS:UNITS': 'SECONDS',\n",
        " 'YUNIT': '\"V\"',\n",
        " 'STOPAFTER': 'RUNSTOP',\n",
        " ':TRIGGER:MAIN:EDGE:SOURCE': 'CH1',\n",
        " 'POSITION': '2.75E-7',\n",
        " ':MEASUREMENT:MEAS1:TYPE': 'PK2PK',\n",
        " ':DISPLAY:FORMAT': 'YT',\n",
        " ':DATA:ENCDG': 'RIBINARY',\n",
        " 'STOP': '2500',\n",
        " 'PAPERTYPE': 'DEFLT',\n",
        " ':MEASUREMENT:METHOD': 'AUTO',\n",
        " ':TRIGGER:MAIN:MODE': 'NORMAL',\n",
        " 'POSITION1': 3.8,\n",
        " 'IMAGESIZE': 'DEFLT',\n",
        " ':TRIGGER:MAIN:VIDEO:SOURCE': 'CH1',\n",
        " 'NUMAVG': '16',\n",
        " 'ELECTRONICA': 'Luis',\n",
        " ':AUTORANGE:SETTINGS': 'BOTH',\n",
        " ':HORIZONTAL:DELAY:SCALE': '5.0E-9',\n",
        " 'DESTINATION': 'REFA',\n",
        " ':MATH:DEFINE': '\"CH1-CH2\"',\n",
        " 'SCALE1': 0.01,\n",
        " 'SOURCE': 'CH2',\n",
        " 'MATH': '0',\n",
        " 'SCALE2': 0.5,\n",
        " ':SELECT:CH1': '1',\n",
        " ':MEASUREMENT:MEAS3:TYPE': 'NWIDTH',\n",
        " ':SAVE:IMAGE:FILEFORMAT': 'EPSIMAGE',\n",
        " 'CURRENTPROBE': '1.0E1',\n",
        " ':TRIGGER:MAIN:LEVEL': '-3.84E-2',\n",
        " ':CURSOR:FUNCTION': 'VBARS',\n",
        " 'TYPE': 'EDGE',\n",
        " 'WHEN': 'EQUAL',\n",
        " 'REFB': '0',\n",
        " ':CH1:PROBE': '1.0E0',\n",
        " 'SOURCE1': 'CH1',\n",
        " 'WIDTH:POLARITY': 'POSITIVE',\n",
        " 'PERSISTENCE': '0',\n",
        " 'INKSAVER': 'ON',\n",
        " 'HOLDOFF:VALUE': '5.0E-7',\n",
        " 'LINE': '1',\n",
        " ':MATH:FFT:VERTICAL:POSITION': '0.0E0',\n",
        " ':CURSOR:HBARS:POSITION1': '-1.8E-2',\n",
        " 'FORMAT': 'EPSIMAGE',\n",
        " 'REFA': '0',\n",
        " 'STANDARD': 'NTSC',\n",
        " ':VERBOSE': '1',\n",
        " 'INVERT': 'OFF',\n",
        " 'PRINTQUAL': 'DEFLT',\n",
        " ':MEASUREMENT:MEAS4:TYPE': 'PK2PK',\n",
        " 'VERTICAL:POSITION': '0.0E0',\n",
        " ':TRIGGER:MAIN:PULSE:SOURCE': 'CH1',\n",
        " 'STYLE': 'VECTORS',\n",
        " 'START': '1',\n",
        " 'WIDTH': '1.0E-3',\n",
        " 'IDPRINT': 'DEFLT',\n",
        " ':ACQUIRE:MODE': 'SAMPLE',\n",
        " 'DATEPRINT': 'DEFLT'}"
       ]
      }
     ],
     "prompt_number": 79
    },
    {
     "cell_type": "markdown",
     "metadata": {},
     "source": [
      "Pero se puede escribir con m\u00faltiples salidas"
     ]
    },
    {
     "cell_type": "code",
     "collapsed": false,
     "input": [
      "z= [1,34,-3,234]\n",
      "[a,b,c,d]=z\n",
      "a,b,c,d"
     ],
     "language": "python",
     "metadata": {},
     "outputs": [
      {
       "metadata": {},
       "output_type": "pyout",
       "prompt_number": 24,
       "text": [
        "(1, 34, -3, 234)"
       ]
      }
     ],
     "prompt_number": 24
    },
    {
     "cell_type": "code",
     "collapsed": false,
     "input": [
      "def cosa():\n",
      "    a= 1\n",
      "    b=a+1\n",
      "    c=b+1\n",
      "    d=c+1\n",
      "    return a,b,c,d"
     ],
     "language": "python",
     "metadata": {},
     "outputs": [],
     "prompt_number": 1
    },
    {
     "cell_type": "code",
     "collapsed": false,
     "input": [
      "def cosa2():\n",
      "    ai,bi,ci,di= cosa()\n",
      "    return ai,bi,ci,di"
     ],
     "language": "python",
     "metadata": {},
     "outputs": [],
     "prompt_number": 6
    },
    {
     "cell_type": "code",
     "collapsed": false,
     "input": [
      "cosa2()"
     ],
     "language": "python",
     "metadata": {},
     "outputs": [
      {
       "metadata": {},
       "output_type": "pyout",
       "prompt_number": 7,
       "text": [
        "(1, 2, 3, 4)"
       ]
      }
     ],
     "prompt_number": 7
    },
    {
     "cell_type": "code",
     "collapsed": false,
     "input": [
      "np.size(Meas2[0][:])"
     ],
     "language": "python",
     "metadata": {},
     "outputs": [
      {
       "metadata": {},
       "output_type": "pyout",
       "prompt_number": 159,
       "text": [
        "2500"
       ]
      }
     ],
     "prompt_number": 159
    },
    {
     "cell_type": "code",
     "collapsed": false,
     "input": [],
     "language": "python",
     "metadata": {},
     "outputs": []
    }
   ],
   "metadata": {}
  }
 ]
}