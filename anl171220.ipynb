{
 "cells": [
  {
   "cell_type": "markdown",
   "metadata": {},
   "source": [
    "# Resumen\n",
    "\n",
    "Se hace uso de las rutinas que figuran en el código `rutAnl160216` que calcula en forma correcta diferencias de potencial y tiempos de las formas de onda recuperadas desde el osciloscopio Tektronix TDS2002B. Adaptación del notebook `pulAnl160224`."
   ]
  },
  {
   "cell_type": "code",
   "execution_count": 1,
   "metadata": {
    "collapsed": false
   },
   "outputs": [],
   "source": [
    "#import matplotlib\n",
    "import numpy as np\n",
    "#import matplotlib.pyplot as plt\n",
    "\n",
    "from rutAnl171221 import * # En rutAnl160216.py residen todas las funciones basadas en las desarroladas en pulAnl160106.ipynb\n",
    "\n",
    "%matplotlib inline\n",
    "# coding=utf-8\n",
    "\n",
    "# refresca de lo importado cada vez que se hace ejecución\n",
    "%load_ext autoreload\n",
    "%autoreload 2"
   ]
  },
  {
   "cell_type": "code",
   "execution_count": 2,
   "metadata": {
    "collapsed": true
   },
   "outputs": [],
   "source": [
    "import matplotlib.ticker as tkr # Para exportar gráficas en formato .pgf"
   ]
  },
  {
   "cell_type": "code",
   "execution_count": 26,
   "metadata": {
    "collapsed": false
   },
   "outputs": [],
   "source": [
    "# `acq171220z01.npy.npz`\n",
    "tipo= 'acq'\n",
    "anne= 17\n",
    "mes= 12\n",
    "dia= 20\n",
    "rango= np.arange(1,3)\n",
    "prop= 0.2\n",
    "rechazo= 0.15\n",
    "tausAMC, areasTotalAMC, areasSubidaAMC, maximosAMC= agregador2(tipo, anne, mes, dia, rango, prop, rechazo)"
   ]
  },
  {
   "cell_type": "code",
   "execution_count": 30,
   "metadata": {
    "collapsed": false
   },
   "outputs": [
    {
     "name": "stdout",
     "output_type": "stream",
     "text": [
      "puntos campana 148\n",
      "tauAMC= \t8.307e-08 \t+/- 5.139e-10 \t s\n",
      "areaSubidaAMC= \t9.658e-08 \t+/- 3.069e-09 \t Vs\n",
      "areaTotalAMC= \t2.638e-07 \t+/- 7.946e-09 \t Vs\n",
      "maximoAMC=  \t1.336e+00 \t+/- 4.086e-02 \t V\n"
     ]
    },
    {
     "data": {
      "image/png": "[encoded data removed]",
      "text/plain": [
       "<matplotlib.figure.Figure at 0x7f8eba94e9e8>"
      ]
     },
     "metadata": {},
     "output_type": "display_data"
    }
   ],
   "source": [
    "enmascaradaPorSobre= 1\n",
    "mascara, tausAMCComprimidos = binner(tausAMC, enmascaradaPorSobre)\n",
    "anchosPulser=1 # compatibilidad pulAnl160224\n",
    "areasPulser=1 # compatibilidad pulAnl160224\n",
    "maximosPulser=1  # compatibilidad pulAnl160224\n",
    "mezclaOptima= todoEnmascarado3(tipo, mascara, anchosPulser, areasPulser, maximosPulser, tausAMCComprimidos, areasTotalAMC, areasSubidaAMC, maximosAMC)"
   ]
  },
  {
   "cell_type": "markdown",
   "metadata": {},
   "source": [
    "# Problemas"
   ]
  },
  {
   "cell_type": "code",
   "execution_count": 5,
   "metadata": {
    "collapsed": true
   },
   "outputs": [],
   "source": [
    "# Quiero leer `acq171220z01.npy.npz`\n",
    "npzData= np.load('../data/acq171220z01.npy.npz')"
   ]
  },
  {
   "cell_type": "code",
   "execution_count": 6,
   "metadata": {
    "collapsed": true
   },
   "outputs": [],
   "source": [
    "FLUC= (-1)* npzData['ch1']\n",
    "AMC= npzData['ch2']\n",
    "messungenZahl= AMC.shape\n",
    "# tiempo\n",
    "T= npzData['zeit']\n",
    "\n",
    "conv1= parametrosConversion(npzData)"
   ]
  },
  {
   "cell_type": "code",
   "execution_count": 7,
   "metadata": {
    "collapsed": false
   },
   "outputs": [
    {
     "data": {
      "text/plain": [
       "(7.9199999999999968e-08,\n",
       " 21488.953907815623,\n",
       " 8450.1883767535037,\n",
       " -26.324999999999999)"
      ]
     },
     "execution_count": 7,
     "metadata": {},
     "output_type": "execute_result"
    }
   ],
   "source": [
    "tipo = 'acq'\n",
    "i = 1\n",
    "Meas2= np.array([FLUC[i], AMC[i] ] )\n",
    "tauAMCi, areaTotalAMCi, areaSubidaAMCi, maxAMCi= tauCeti4(tipo, T, Meas2, messungenZahl, prop, conv1, rechazo)\n",
    "tauAMCi, areaTotalAMCi, areaSubidaAMCi, maxAMCi"
   ]
  },
  {
   "cell_type": "code",
   "execution_count": 8,
   "metadata": {
    "collapsed": false
   },
   "outputs": [
    {
     "data": {
      "text/plain": [
       "array([-24.27540107, -75.02406417,   0.84434845,   0.59584888])"
      ]
     },
     "execution_count": 8,
     "metadata": {},
     "output_type": "execute_result"
    },
    {
     "data": {
      "image/png": "[encoded data removed]",
      "text/plain": [
       "<matplotlib.figure.Figure at 0x7f8eba9fe390>"
      ]
     },
     "metadata": {},
     "output_type": "display_data"
    }
   ],
   "source": [
    "# Ensayo TauCeti4\n",
    "prop=0.15\n",
    "bMeas2= baseMeas2(Meas2, messungenZahl, prop) # niveles base\n",
    "plt.plot(T,AMC[1])\n",
    "plt.plot(T,FLUC[1])\n",
    "bMeas2"
   ]
  },
  {
   "cell_type": "code",
   "execution_count": 10,
   "metadata": {
    "collapsed": false
   },
   "outputs": [
    {
     "data": {
      "text/plain": [
       "(17.925000000000001, -26.324999999999999)"
      ]
     },
     "execution_count": 10,
     "metadata": {},
     "output_type": "execute_result"
    }
   ],
   "source": [
    "# Ensayo TauCeti4 (conts)\n",
    "maxIx= (Meas2[0].argmax(), Meas2[1].argmax() ) # índices máximos ch1, ch2\n",
    "# máximo promediado cercano\n",
    "rangoCercano= 20 # tres lecturas a izq y derecha\n",
    "maxCh1= (Meas2[0][maxIx[0]- rangoCercano: maxIx[0]+ rangoCercano]).mean()\n",
    "maxCh2= (Meas2[1][maxIx[1]- rangoCercano: maxIx[1]+ rangoCercano]).mean()\n",
    "maxCh1, maxCh2"
   ]
  },
  {
   "cell_type": "code",
   "execution_count": 25,
   "metadata": {
    "collapsed": false
   },
   "outputs": [
    {
     "data": {
      "text/plain": [
       "(6.4400000000000021e-08,\n",
       " -75.024064171123001,\n",
       " -70.154157754010697,\n",
       " -31.1949064171123,\n",
       " -26.324999999999999,\n",
       " -4.5999999999999962e-08,\n",
       " 3.4000000000000013e-08,\n",
       " 7.9999999999999975e-08)"
      ]
     },
     "execution_count": 25,
     "metadata": {},
     "output_type": "execute_result"
    }
   ],
   "source": [
    "# diferencia máximo- base\n",
    "deltaV= np.array([maxCh1- bMeas2[0], maxCh2- bMeas2[1]]) # usa promediado cercano\n",
    "# Diferencias de potencial para 10%, 90% de excursión\n",
    "v10= bMeas2[0:2]+ 0.1* deltaV\n",
    "v90= bMeas2[0:2]+ 0.9* deltaV\n",
    "# Índices para primer potencial del pulso que exceda 10%, y último por debajo 90% \n",
    "ixTau= np.array([maxIx[0], maxIx[1], maxIx[0], maxIx[1]])\n",
    "\n",
    "# 10->90% ch2 [tau AMC]\n",
    "while (Meas2[1][ixTau[1]]> v10[1]):\n",
    "    ixTau[1]-= 1\n",
    "while (Meas2[1][ixTau[3]]> v90[1]):\n",
    "    ixTau[3]-= 1\n",
    "tauAMC= T[ixTau[3]]- T[ixTau[1]]\n",
    "T[maxIx[1]], bMeas2[1], v10[1], v90[1], maxCh2, T[ixTau[1]], T[ixTau[3]], T[ixTau[3]]- T[ixTau[1]]"
   ]
  },
  {
   "cell_type": "code",
   "execution_count": 24,
   "metadata": {
    "collapsed": false
   },
   "outputs": [
    {
     "data": {
      "image/png": "[encoded data removed]",
      "text/plain": [
       "<matplotlib.figure.Figure at 0x7f8ebabdea20>"
      ]
     },
     "metadata": {},
     "output_type": "display_data"
    }
   ],
   "source": [
    "[izqFWHM, derFWHM]= [0,0]\n",
    "plota3(conv1, T, Meas2, messungenZahl, prop, bMeas2, maxIx, ixTau, izqFWHM, derFWHM)"
   ]
  },
  {
   "cell_type": "code",
   "execution_count": 13,
   "metadata": {
    "collapsed": false
   },
   "outputs": [
    {
     "data": {
      "text/plain": [
       "(0.0,\n",
       " 0.020800000000000003,\n",
       " 6.694302564102182e-08,\n",
       " 1.7021015384614413e-07,\n",
       " 0.99350000000000005)"
      ]
     },
     "execution_count": 13,
     "metadata": {},
     "output_type": "execute_result"
    }
   ],
   "source": [
    "[areaTotalAMC, areaSubidaAMC, maxAMC] = [areaTotalAMCi, areaSubidaAMCi, maxAMCi] \n",
    "areaPulser=0\n",
    "maxPulser=0\n",
    "areaPulser, maxPulser, areaSubidaAMC, areaTotalAMC, maxAMC= conversionV2(conv1, T, areaPulser, maxPulser, areaSubidaAMC, areaTotalAMC, maxAMC)\n",
    "areaPulser, maxPulser, areaSubidaAMC, areaTotalAMC, maxAMC"
   ]
  },
  {
   "cell_type": "code",
   "execution_count": 4,
   "metadata": {
    "collapsed": false
   },
   "outputs": [
    {
     "data": {
      "text/plain": [
       "[('settings',\n",
       "  array({'POLARITY': 'NORMAL', 'STANDARD': 'NTSC', ':CURSOR:VBARS:UNITS': 'SECONDS', ':TRIGGER:MAIN:EDGE:SOURCE': 'CH2', ':MEASUREMENT:METHOD': 'AUTO', 'INKSAVER': 'ON', 'HOLDOFF:VALUE': '5.0E-7', ':HARDCOPY:BUTTON': 'SAVESALL', ':CH1:PROBE': '1.0E0', 'SCALE1': 0.02, 'MAIN:SCALE': '1.0E-7', 'SELECT:SOURCE': 'CH1', ':MEASUREMENT:IMMED:TYPE': 'PERIOD', 'PERSISTENCE': '0', 'BANDWIDTH': 'OFF', 'SCALE2': 0.5, ':DISPLAY:FORMAT': 'YT', 'STOPAFTER': 'SEQUENCE', ':CURSOR:HBARS:POSITION1': '2.24E-2', 'WIDTH:POLARITY': 'POSITIVE', 'TYPE': 'EDGE', ':MEASUREMENT:MEAS5:TYPE': 'FREQUENCY', 'DATEPRINT': 'DEFLT', ':PICTBRIDGE:PAPERSIZE': 'DEFLT', ':HORIZONTAL:DELAY:SCALE': '5.0E-9', 'SOURCE': 'CH2', ':SAVE:IMAGE:FILEFORMAT': 'EPSIMAGE', 'WIDTH': '1.0E-3', 'SOURCE1': 'CH1', 'COUPLING': 'NOISEREJ', 'CH2': '1', ':HORIZONTAL:VIEW': 'MAIN', 'POSITION1': -1.04, ':SELECT:CH1': '1', ':VERBOSE': '1', ':MEASUREMENT:MEAS1:TYPE': 'CRMS', 'REFB': '0', 'DESTINATION': 'REFA', 'STYLE': 'VECTORS', 'REFA': '0', 'YUNIT': '\"V\"', 'IMAGESIZE': 'DEFLT', 'MATH': '0', ':LANGUAGE': 'SPANISH', ':MATH:FFT:HORIZONTAL:POSITION': '5.0E1', ':TRIGGER:MAIN:LEVEL': '2.6E-1', 'PAPERTYPE': 'DEFLT', 'SLOPE': 'RISE', ':MATH:DEFINE': '\"CH1-CH2\"', 'LAYOUT': 'PORTRAIT', ':AUTORANGE:SETTINGS': 'BOTH', 'ELECTRONICA': 'Luis', ':TRIGGER:MAIN:PULSE:SOURCE': 'CH2', 'SCALE': '1.0E0', 'POSITION2': -3.04, ':TRIGGER:MAIN:VIDEO:SOURCE': 'CH2', ':MATH:FFT:VERTICAL:POSITION': '0.0E0', 'POSITION': '2.55E-7', 'SYNC': 'FIELD', 'NUMAVG': '128', ':LOCK': 'NONE', 'STATE': '0', ':MEASUREMENT:MEAS4:TYPE': 'PK2PK', 'PRINTQUAL': 'DEFLT', ':CURSOR:FUNCTION': 'OFF', ':TRIGGER:MAIN:MODE': 'NORMAL', 'INVERT': 'OFF', ':MEASUREMENT:MEAS3:TYPE': 'NWIDTH', 'PORT': 'USB', 'WHEN': 'NOTEQUAL', ':ACQUIRE:MODE': 'SAMPLE', 'LINE': '1', 'VERTICAL:POSITION': '0.0E0', 'IDPRINT': 'DEFLT', 'STOP': '2500', ':MEASUREMENT:MEAS2:TYPE': 'FREQUENCY', 'CURRENTPROBE': '1.0E1', 'CONTRAST': '54', ':DATA:ENCDG': 'RIBINARY', 'START': '1', 'FORMAT': 'EPSIMAGE', ':CH2:PROBE': '1.0E0'}, dtype=object)),\n",
       " ('ch2', array([[-77, -78, -77, ..., -84, -84, -84],\n",
       "         [-75, -75, -75, ..., -78, -78, -79],\n",
       "         [-80, -80, -80, ..., -82, -82, -82],\n",
       "         ..., \n",
       "         [-76, -75, -75, ..., -81, -81, -81],\n",
       "         [-80, -80, -80, ..., -83, -83, -83],\n",
       "         [-79, -78, -79, ..., -82, -82, -82]], dtype=int8)),\n",
       " ('ch1', array([[24, 24, 24, ..., -1, -1, -1],\n",
       "         [25, 25, 25, ...,  6,  6,  7],\n",
       "         [27, 28, 28, ..., 12, 11, 11],\n",
       "         ..., \n",
       "         [23, 23, 23, ..., 13, 13, 13],\n",
       "         [22, 23, 23, ..., 11, 11, 11],\n",
       "         [31, 31, 30, ...,  7,  8,  7]], dtype=int8)),\n",
       " ('zeit', array([ -3.00000000e-07,  -2.99600000e-07,  -2.99200000e-07, ...,\n",
       "           6.98800000e-07,   6.99200000e-07,   6.99600000e-07]))]"
      ]
     },
     "execution_count": 4,
     "metadata": {},
     "output_type": "execute_result"
    }
   ],
   "source": [
    "npzData.items()"
   ]
  },
  {
   "cell_type": "code",
   "execution_count": 26,
   "metadata": {
    "collapsed": false
   },
   "outputs": [
    {
     "name": "stderr",
     "output_type": "stream",
     "text": [
      "/oldhome/vbettachini/documents/cnea/fision/acquisition/analysis/rutAnl170605.py:156: RuntimeWarning: Mean of empty slice.\n",
      "  maxCh1= (Meas2[0][maxIx[0]- rangoCercano: maxIx[0]+ rangoCercano]).mean()\n",
      "/usr/local/lib/python3.5/dist-packages/numpy/core/_methods.py:80: RuntimeWarning: invalid value encountered in double_scalars\n",
      "  ret = ret.dtype.type(ret / rcount)\n"
     ]
    }
   ],
   "source": [
    "prop= 0.15\n",
    "rechazo= 0.09\n",
    "tauAMC, areaSubidaAMC, areaTotalAMC, maxAMC= tausAreasMaxSerieAdq(tipo, npzData, prop, rechazo)"
   ]
  },
  {
   "cell_type": "code",
   "execution_count": 17,
   "metadata": {
    "collapsed": false
   },
   "outputs": [
    {
     "name": "stderr",
     "output_type": "stream",
     "text": [
      "/oldhome/vbettachini/documents/cnea/fision/acquisition/analysis/rutAnl170605.py:156: RuntimeWarning: Mean of empty slice.\n",
      "  maxCh1= (Meas2[0][maxIx[0]- rangoCercano: maxIx[0]+ rangoCercano]).mean()\n",
      "/usr/local/lib/python3.5/dist-packages/numpy/core/_methods.py:80: RuntimeWarning: invalid value encountered in double_scalars\n",
      "  ret = ret.dtype.type(ret / rcount)\n"
     ]
    }
   ],
   "source": [
    "# tausAreasMaxSerieAdq(tipo, npzData, prop, rechazo):\n",
    "FLUC= npzData['ch1']\n",
    "AMC= npzData['ch2']\n",
    "messungenZahl= AMC.shape\n",
    "# tiempo\n",
    "T= npzData['zeit']# \n",
    "\n",
    "tauAMC= np.empty([0, 1])\n",
    "areaSubidaAMC= np.empty([0, 1])\n",
    "areaTotalAMC= np.empty([0, 1])\n",
    "maxAMC= np.empty([0, 1])\n",
    "\n",
    "conv1= parametrosConversion(npzData)\n",
    "    \n",
    "i=0\n",
    "q=0\n",
    "cucho= (messungenZahl[0]- q )\n",
    "# cucho= (messungenZahl[0]- q- 1 )\n",
    "while (i< cucho ): # recorre cada forma de onda en medición npzData\n",
    "    # print('Adqusición actual= ', int(i))\n",
    "    Meas2= np.array([FLUC[i+q], AMC[i+q] ] )\n",
    "    if (tipo=='pul'):\n",
    "        anchoPulseri, areaPulseri, maxPulseri, tauAMCi, areaTotalAMCi, areaSubidaAMCi, maxAMCi= tauCeti4(tipo, T, Meas2, messungenZahl, prop, conv1, rechazo)\n",
    "    else:\n",
    "        # print('killroy was here'+ ' {:04n} '.format(i)+ 'times' )\n",
    "        tauAMCi, areaTotalAMCi, areaSubidaAMCi, maxAMCi= tauCeti4(tipo, T, Meas2, messungenZahl, prop, conv1, rechazo)\n",
    "    # print('{:04n}'.format(i))\n",
    "    # print (tauAMCi, areaTotalAMCi, areaSubidaAMCi, maxAMCi)\n",
    "    if (tauAMCi!=0):\n",
    "        i+=1\n",
    "        if (tipo=='pul'):\n",
    "            anchoPulser= np.append(anchoPulser, anchoPulseri)\n",
    "            areaPulser= np.append(areaPulser, areaPulseri)\n",
    "            maxPulser= np.append(maxPulser, maxPulseri)\n",
    "        tauAMC= np.append(tauAMC, tauAMCi)\n",
    "        areaSubidaAMC= np.append(areaSubidaAMC, areaSubidaAMCi)\n",
    "        areaTotalAMC= np.append(areaTotalAMC, areaTotalAMCi)\n",
    "        maxAMC= np.append(maxAMC, maxAMCi)\n",
    "    else:\n",
    "        # print('pasa tausAreasMaxSerieAdq')\n",
    "        q+=1\n",
    "    cucho= (messungenZahl[0]- q )\n",
    "    # cucho= (messungenZahl[0]- q- 1 )\n",
    "        \n",
    "# conversión área/máximo -> volts*s/volts\n",
    "if (tipo=='pul'):\n",
    "    areaPulser, maxPulser, areaSubidaAMC, areaTotalAMC, maxAMC= conversionV2(conv1, T, areaPulser, maxPulser, areaSubidaAMC, areaTotalAMC, maxAMC)\n",
    "    salida= anchoPulser, areaPulser, maxPulser, tauAMC, areaSubidaAMC, areaTotalAMC, maxAMC\n",
    "else:\n",
    "    areaPulser=0\n",
    "    maxPulser=0\n",
    "    areaPulser, maxPulser, areaSubidaAMC, areaTotalAMC, maxAMC= conversionV2(conv1, T, areaPulser, maxPulser, areaSubidaAMC, areaTotalAMC, maxAMC)\n",
    "    salida= tauAMC, areaSubidaAMC, areaTotalAMC, maxAMC"
   ]
  },
  {
   "cell_type": "code",
   "execution_count": null,
   "metadata": {
    "collapsed": false
   },
   "outputs": [],
   "source": [
    "plt.plot(T,AMC[1])\n",
    "plt.plot(T,AMC[2])\n",
    "plt.plot(T,AMC[3])\n",
    "plt.plot(T,AMC[4])\n"
   ]
  },
  {
   "cell_type": "code",
   "execution_count": null,
   "metadata": {
    "collapsed": true
   },
   "outputs": [],
   "source": []
  },
  {
   "cell_type": "code",
   "execution_count": null,
   "metadata": {
    "collapsed": true
   },
   "outputs": [],
   "source": []
  },
  {
   "cell_type": "code",
   "execution_count": null,
   "metadata": {
    "collapsed": false
   },
   "outputs": [],
   "source": [
    "!ls"
   ]
  },
  {
   "cell_type": "markdown",
   "metadata": {},
   "source": [
    "## Solo $Ar$"
   ]
  },
  {
   "cell_type": "code",
   "execution_count": null,
   "metadata": {
    "collapsed": false
   },
   "outputs": [],
   "source": [
    "# `acq150617z06.npy.npz`\n",
    "tipo= 'acq'\n",
    "anne= 15\n",
    "mes= 6\n",
    "dia= 17\n",
    "rango= np.arange(6,7)\n",
    "prop= 0.2\n",
    "rechazo= 0.15\n",
    "tausAMC, areasTotalAMC, areasSubidaAMC, maximosAMC= agregador2(tipo, anne, mes, dia, rango, prop, rechazo)"
   ]
  },
  {
   "cell_type": "code",
   "execution_count": null,
   "metadata": {
    "collapsed": false
   },
   "outputs": [],
   "source": [
    "enmascaradaPorSobre= 0.2\n",
    "mascara, tausAMCComprimidos = binner(tausAMC, enmascaradaPorSobre)\n",
    "anchosPulser=1 # compatibilidad pulAnl160224\n",
    "areasPulser=1 # compatibilidad pulAnl160224\n",
    "maximosPulser=1  # compatibilidad pulAnl160224\n",
    "mezclaOptima= todoEnmascarado3(tipo, mascara, anchosPulser, areasPulser, maximosPulser, tausAMCComprimidos, areasTotalAMC, areasSubidaAMC, maximosAMC)"
   ]
  },
  {
   "cell_type": "markdown",
   "metadata": {},
   "source": [
    "## Mezcla óptima: $1,5\\% N_2$"
   ]
  },
  {
   "cell_type": "code",
   "execution_count": null,
   "metadata": {
    "collapsed": true
   },
   "outputs": [],
   "source": [
    "# `acq150615z02.npy.npz`\n",
    "tipo= 'acq'\n",
    "anne= 15\n",
    "mes= 6\n",
    "dia= 15\n",
    "rango= np.arange(2,3)\n",
    "prop= 0.2\n",
    "rechazo= 0.15\n",
    "tausAMC, areasTotalAMC, areasSubidaAMC, maximosAMC= agregador2(tipo, anne, mes, dia, rango, prop, rechazo)"
   ]
  },
  {
   "cell_type": "code",
   "execution_count": null,
   "metadata": {
    "collapsed": false
   },
   "outputs": [],
   "source": [
    "enmascaradaPorSobre= 0.1\n",
    "mascara, tausAMCComprimidos = binner(tausAMC, enmascaradaPorSobre)\n",
    "anchosPulser=1 # compatibilidad pulAnl160224\n",
    "areasPulser=1 # compatibilidad pulAnl160224\n",
    "maximosPulser=1  # compatibilidad pulAnl160224\n",
    "mezclaOptima= todoEnmascarado3(tipo, mascara, anchosPulser, areasPulser, maximosPulser, tausAMCComprimidos, areasTotalAMC, areasSubidaAMC, maximosAMC)"
   ]
  }
 ],
 "metadata": {
  "kernelspec": {
   "display_name": "Python 3",
   "language": "python",
   "name": "python3"
  },
  "language_info": {
   "codemirror_mode": {
    "name": "ipython",
    "version": 3
   },
   "file_extension": ".py",
   "mimetype": "text/x-python",
   "name": "python",
   "nbconvert_exporter": "python",
   "pygments_lexer": "ipython3",
   "version": "3.5.3"
  }
 },
 "nbformat": 4,
 "nbformat_minor": 0
}
