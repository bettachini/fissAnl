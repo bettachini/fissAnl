{
 "metadata": {
  "name": "",
  "signature": "sha256:0e21a4272445501e245f90b2e85f25299b54938cad51bd48d904ce4805e02806"
 },
 "nbformat": 3,
 "nbformat_minor": 0,
 "worksheets": [
  {
   "cells": [
    {
     "cell_type": "code",
     "collapsed": false,
     "input": [
      "import matplotlib\n",
      "import numpy as np\n",
      "import matplotlib.pyplot as plt\n",
      "%matplotlib inline\n",
      "# coding=utf-8"
     ],
     "language": "python",
     "metadata": {},
     "outputs": [],
     "prompt_number": 1
    },
    {
     "cell_type": "heading",
     "level": 2,
     "metadata": {},
     "source": [
      "Risetime - Funciones an\u00e1lisis adquisici\u00f3n - descartan por ruido nivel base"
     ]
    },
    {
     "cell_type": "code",
     "collapsed": false,
     "input": [
      "def baseMeas2(Meas2, messungenZahl, prop=0.25):\n",
      "    '''\n",
      "    (array, array, float) -> array\n",
      "    \n",
      "    De la primer fracci\u00f3n prop de ambos canales en Meas2,\n",
      "    obtiene el promedio y dispersi\u00f3n que se asume como nivel de base.\n",
      "    \n",
      "    array[0]: promedio ch1, array[1]: promedio ch2,\n",
      "    array[2]: desviaci\u00f3n estandard ch1, array[3]: desviaci\u00f3n estandard ch2\n",
      "    '''\n",
      "    erstePunkten= int(messungenZahl[1]* prop)\n",
      "    ch1Erste= Meas2[0][0:erstePunkten-1]\n",
      "    ch2Erste= Meas2[1][0:erstePunkten-1]\n",
      "    return np.array([ch1Erste.mean(), ch2Erste.mean(), ch1Erste.std(), ch2Erste.std() ] )\n",
      "\n",
      "\n",
      "def desvioEstandardCuasiNoSesgado(datos):\n",
      "    '''\n",
      "    Estimador cuasi no sesgado de la desviaci\u00f3n estandar.\n",
      "    https://en.wikipedia.org/wiki/Unbiased_estimation_of_standard_deviation\n",
      "    '''\n",
      "    media= np.mean(datos)\n",
      "    suma=0\n",
      "    for i in datos:\n",
      "        aux= (datos[i]- media)\n",
      "        suma+= aux**2\n",
      "    desv= np.sqrt(suma/( np.size(datos)- 1.5) ) \n",
      "    return desv\n",
      "\n",
      "\n",
      "def errorEstandard(datos):\n",
      "    '''\n",
      "    Estimador de la desviaci\u00f3n estandar del promedio.\n",
      "    Usa la desviaci\u00f3n estandar de la poblaci\u00f3n y la divide por la ra\u00edz del n\u00famero de elementos en la poblaci\u00f3n.\n",
      "    https://en.wikipedia.org/wiki/Standard_error\n",
      "    '''\n",
      "    return desvioEstandardCuasiNoSesgado(datos)/ np.sqrt(np.size(datos))\n",
      "\n",
      "    \n",
      "def tauCeti3e(T, Meas2, messungenZahl, prop, rechazo=0.1):\n",
      "    '''\n",
      "    Calcula \u00edndices risetime como tiempo entre 10% y 90% de excursi\u00f3n entre nivel de base y m\u00e1ximo\n",
      "   \n",
      "    Meas2: array (2,:) con Meas2[0] canal 1, Meas2[0] canal 2, producto de np.vstack\n",
      "    baseMeas2: base(Meas2)\n",
      "    '''\n",
      "    bMeas2= baseMeas2(Meas2, messungenZahl, prop) # niveles base\n",
      "    \n",
      "    if ((bMeas2[3])>np.abs(bMeas2[1]* rechazo)):\n",
      "        return np.array([0, 0 ])\n",
      "    else:\n",
      "        maxIx= (Meas2[0].argmax(), Meas2[1].argmax() ) # \u00edndice m\u00e1ximo\n",
      "        # m\u00e1ximo promediado cercano\n",
      "        rangoCercano= 20 # tres lecturas a izq y derecha\n",
      "        maxCH1= (Meas2[0][maxIx[0]- rangoCercano: maxIx[0]+ rangoCercano]).mean()\n",
      "        maxCH2= (Meas2[1][maxIx[1]- rangoCercano: maxIx[1]+ rangoCercano]).mean()\n",
      "        # diferencia m\u00e1ximo- base\n",
      "        deltaV= np.array([maxCH1- bMeas2[0],maxCH2- bMeas2[1]]) # usa promediado cercano\n",
      "        # Diferencias de potencial para 10%, 90% de excursi\u00f3n\n",
      "        v10= bMeas2[0:2]+ 0.1* deltaV\n",
      "        v90= bMeas2[0:2]+ 0.9* deltaV\n",
      "        # \u00cdndices para primer potencial del pulso que exceda 10%, y \u00faltimo por debajo 90% \n",
      "        ixTau= np.array([maxIx[0], maxIx[1], maxIx[0], maxIx[1]])\n",
      "        while (Meas2[0,ixTau[0]]> v10[0]):\n",
      "            ixTau[0]-= 1\n",
      "        while (Meas2[1,ixTau[1]]> v10[1]):\n",
      "            ixTau[1]-= 1\n",
      "        while (Meas2[0,ixTau[2]]> v90[0]):\n",
      "            ixTau[2]-= 1\n",
      "        while (Meas2[1,ixTau[3]]> v90[1]):\n",
      "            ixTau[3]-= 1\n",
      "        return np.array([T[ixTau[2]]- T[ixTau[0]], T[ixTau[3]]- T[ixTau[1]] ])\n",
      "\n",
      "\n",
      "def tauAMCz3e(npzData, prop= 0.25):\n",
      "    '''\n",
      "    Vectores risetime canal AMC de archivo acq comprimido\n",
      "    \n",
      "    npzData= numpy.lib.npyio.NpzFile\n",
      "    prop= porcentaje inferior del canal a promediar para obtener nivel de base     \n",
      "    '''\n",
      "    FLUC= npzData['ch1']\n",
      "    AMC= npzData['ch2']\n",
      "    messungenZahl= AMC.shape\n",
      "    # tiempo\n",
      "    T= npzData['zeit']\n",
      "    tauAMC= np.empty([0, 1])\n",
      "    i=0\n",
      "    q=0\n",
      "    cucho= (messungenZahl[0]- q- 1 )\n",
      "    while (i< cucho ):\n",
      "        Meas2= np.array([FLUC[i+q], AMC[i+q] ] )\n",
      "        tauAMCi= tauCeti3e(T, Meas2, messungenZahl, prop)[1]\n",
      "        if (tauAMCi!=0):\n",
      "            i+=1\n",
      "            tauAMC= np.append(tauAMC, tauAMCi)\n",
      "        else:\n",
      "            q+=1\n",
      "        cucho= (messungenZahl[0]- q- 1 )\n",
      "    return tauAMC"
     ],
     "language": "python",
     "metadata": {},
     "outputs": [],
     "prompt_number": 2
    },
    {
     "cell_type": "heading",
     "level": 2,
     "metadata": {},
     "source": [
      "Histograma - Funciones"
     ]
    },
    {
     "cell_type": "code",
     "collapsed": false,
     "input": [
      "def dataPathFile(mes, dia, acq):\n",
      "    path= './data/'\n",
      "    fNS= 'acq15'+ '{:02n}'.format(mes)+ '{:02n}'.format(dia)+ 'z'\n",
      "    fNE= '.npy.npz'\n",
      "    return path+ fNS+ '{:02n}'.format(acq)+fNE\n",
      "\n",
      "\n",
      "def agregadorTaus(mes, dia, rango):\n",
      "    taus= np.array([])\n",
      "    for i in rango:\n",
      "        acq= np.load(dataPathFile(mes, dia, i))\n",
      "        taus= np.append(taus, tauAMCz3e(acq))\n",
      "    return taus\n",
      "\n",
      "\n",
      "def binner(taus, binHist=40):\n",
      "    fig = plt.figure(figsize=(18,5))  # an empty figure with no axes\n",
      "    ax_lst= fig.add_subplot(1,2,2)\n",
      "    n, bins, patches= ax_lst.hist(taus, bins=120)\n",
      "    ax_lst.set_ylabel('Cuentas')\n",
      "    ax_lst.set_xlabel('Tau [ns]')\n",
      "    intermedio = np.ma.masked_greater(taus, bins[binHist])\n",
      "    primerCampana= intermedio.compressed()\n",
      "    ax_lst2= fig.add_subplot(1,2,1)\n",
      "    ax_lst2.set_ylabel('Cuentas')\n",
      "    ax_lst2.set_xlabel('Tau [ns]')\n",
      "    n_i, bins_i, patches_i= ax_lst2.hist(primerCampana, bins=20)\n",
      "    return (primerCampana.size, primerCampana.mean(), errorEstandard(primerCampana) )"
     ],
     "language": "python",
     "metadata": {},
     "outputs": [],
     "prompt_number": 3
    },
    {
     "cell_type": "heading",
     "level": 1,
     "metadata": {},
     "source": [
      "Risetime vs. \u00e1rea AMC "
     ]
    },
    {
     "cell_type": "heading",
     "level": 2,
     "metadata": {},
     "source": [
      "\u00c1rea AMC"
     ]
    },
    {
     "cell_type": "heading",
     "level": 3,
     "metadata": {},
     "source": [
      "Cargo archivo individual de ensayo"
     ]
    },
    {
     "cell_type": "code",
     "collapsed": false,
     "input": [
      "mes= 6\n",
      "dia= 15\n",
      "i= 4\n",
      "acq= np.load(dataPathFile(mes, dia, i))\n",
      "\n",
      "T= acq['zeit']\n",
      "FLUC= acq['ch1']\n",
      "AMC= acq['ch2']\n",
      "messungenZahl= AMC.shape\n",
      "nombre= 1211 # numero de medici\u00f3n a graficar en la serie\n",
      "Meas2= np.array([FLUC[nombre], AMC[nombre] ] )\n",
      "prop= 0.25"
     ],
     "language": "python",
     "metadata": {},
     "outputs": [],
     "prompt_number": 4
    },
    {
     "cell_type": "code",
     "collapsed": false,
     "input": [
      "AMC.shape"
     ],
     "language": "python",
     "metadata": {},
     "outputs": [
      {
       "metadata": {},
       "output_type": "pyout",
       "prompt_number": 5,
       "text": [
        "(2560, 2500)"
       ]
      }
     ],
     "prompt_number": 5
    },
    {
     "cell_type": "heading",
     "level": 3,
     "metadata": {},
     "source": [
      "Gr\u00e1fica risetime"
     ]
    },
    {
     "cell_type": "code",
     "collapsed": false,
     "input": [
      "bMeas2= baseMeas2(Meas2, messungenZahl, prop) # niveles base\n",
      "\n",
      "maxIx= (Meas2[0].argmax(), Meas2[1].argmax() ) # \u00edndice m\u00e1ximo\n",
      "# m\u00e1ximo promediado cercano\n",
      "rangoCercano= 20 # tres lecturas a izq y derecha\n",
      "maxCH1= (Meas2[0][maxIx[0]- rangoCercano: maxIx[0]+ rangoCercano]).mean()\n",
      "maxCH2= (Meas2[1][maxIx[1]- rangoCercano: maxIx[1]+ rangoCercano]).mean()\n",
      "# diferencia m\u00e1ximo- base\n",
      "deltaV= np.array([maxCH1- bMeas2[0],maxCH2- bMeas2[1]]) # usa promediado cercano\n",
      "# Diferencias de potencial para 10%, 90% de excursi\u00f3n\n",
      "v10= bMeas2[0:2]+ 0.1* deltaV\n",
      "v90= bMeas2[0:2]+ 0.9* deltaV\n",
      "# \u00cdndices para primer potencial del pulso que exceda 10%, y \u00faltimo por debajo 90% \n",
      "ixTau= np.array([maxIx[0], maxIx[1], maxIx[0], maxIx[1]])\n",
      "while (Meas2[0,ixTau[0]]> v10[0]):\n",
      "    ixTau[0]-= 1\n",
      "while (Meas2[1,ixTau[1]]> v10[1]):\n",
      "    ixTau[1]-= 1\n",
      "while (Meas2[0,ixTau[2]]> v90[0]):\n",
      "    ixTau[2]-= 1\n",
      "while (Meas2[1,ixTau[3]]> v90[1]):\n",
      "    ixTau[3]-= 1\n",
      "\n",
      "[iMaxCh1, iMaxCh2, i10Ch2, i90Ch2]= [maxIx[0], maxIx[1], ixTau[1], ixTau[3]]"
     ],
     "language": "python",
     "metadata": {},
     "outputs": [],
     "prompt_number": 6
    },
    {
     "cell_type": "heading",
     "level": 3,
     "metadata": {},
     "source": [
      "Integro \u00e1rea, i.e. sumo valores por sobre nivel de base."
     ]
    },
    {
     "cell_type": "markdown",
     "metadata": {},
     "source": [
      "Intento solo integrar por sobre el $10\\%$. Eso me permite usar su \u00edndice como comienzo. Tengo que buscar el otro extremo para este nivel. "
     ]
    },
    {
     "cell_type": "code",
     "collapsed": false,
     "input": [
      "ixAMC10ProzentRicht= maxIx[1] # empiezo por m\u00e1ximo\n",
      "while (Meas2[1, ixAMC10ProzentRicht]> v10[1]):\n",
      "    ixAMC10ProzentRicht+= 1\n",
      "# ixTau[1], maxIx[1], ixAMC10ProzentRicht"
     ],
     "language": "python",
     "metadata": {},
     "outputs": [],
     "prompt_number": 7
    },
    {
     "cell_type": "code",
     "collapsed": false,
     "input": [
      "'''\n",
      "Grafica ambos canales, niveles de base (izquierda), m\u00e1ximos, 10% y 90% del risetime\n",
      "auch AMC10ProzentRicht\n",
      "\n",
      "(T, Meas2) (maxCH1_index, maxCH2_index, iProcent10, iProcent90) -> \n",
      "'''\n",
      "\n",
      "# Gr\u00e1fica max, nivel cero, etc.\n",
      "fig, (ax0, ax1) = plt.subplots(nrows=2, sharex=True)\n",
      "fig.set_size_inches(10,8)\n",
      "fig.subplots_adjust(hspace=0.000)\n",
      "# Axis 0\n",
      "ax0.plot(T, Meas2[0,:], 'y')\n",
      "# Make the y-axis label and tick labels match the line color.\n",
      "ax0.set_ylabel('ch 1 [V]', color='y')\n",
      "ax0.grid(True)\n",
      "# Axis 1\n",
      "ax1.plot(T, Meas2[1,:], 'c')\n",
      "ax1.set_ylabel('ch 2 [V]', color='c')\n",
      "ax1.set_xlabel('tiempo [s]')\n",
      "ax1.grid(True)\n",
      "# zero level lines\n",
      "erstePunkten= int(messungenZahl[1]* prop) # auxiliar\n",
      "zeroT= T[0:(erstePunkten- 1)]\n",
      "zeroAx0= np.ones([erstePunkten- 1, 1])* bMeas2[0]\n",
      "zeroAx1= np.ones([erstePunkten- 1, 1])* bMeas2[1]\n",
      "ax0.plot(zeroT, zeroAx0, 'k-')\n",
      "ax1.plot(zeroT, zeroAx1, 'k-')\n",
      "# marks maxima\n",
      "ax0.scatter(T[iMaxCh1], Meas2[0,:][iMaxCh1], marker='o')\n",
      "ax1.scatter(T[iMaxCh2], Meas2[1,:][iMaxCh2], marker='o')\n",
      "# risetime FLUC\n",
      "ax0.scatter(T[ixTau[0]], Meas2[0,:][ixTau[0]], marker='o')\n",
      "ax0.scatter(T[ixTau[2]], Meas2[0,:][ixTau[2]], marker='o')\n",
      "# risetime AMC\n",
      "ax1.scatter(T[i10Ch2], Meas2[1,:][i10Ch2], marker='o')\n",
      "ax1.scatter(T[i90Ch2], Meas2[1,:][i90Ch2], marker='o')\n",
      "# semiArea total\n",
      "ax1.scatter(T[ixAMC10ProzentRicht], Meas2[1,:][ixAMC10ProzentRicht], marker='o') # AMC AMC10ProzentRicht\n",
      "plt.fill_between(T[np.arange(i10Ch2 , iMaxCh2)], bMeas2[1],  Meas2[1, i10Ch2: iMaxCh2], alpha=0.4 ) # semifill\n",
      "plt.fill_between(T[np.arange(i10Ch2 , ixAMC10ProzentRicht)], bMeas2[1],  Meas2[1, i10Ch2: ixAMC10ProzentRicht], alpha=0.2 ) # fill peak\n",
      "\n",
      "# plt.savefig('1090prozent.pdf')\n",
      "# plt.show()"
     ],
     "language": "python",
     "metadata": {},
     "outputs": [
      {
       "metadata": {},
       "output_type": "pyout",
       "prompt_number": 8,
       "text": [
        "<matplotlib.collections.PolyCollection at 0x7f70daf5c390>"
       ]
      },
      {
       "metadata": {},
       "output_type": "display_data",
       "png": "[encoded data removed]",
       "text": [
        "<matplotlib.figure.Figure at 0x7f70ddc41898>"
       ]
      }
     ],
     "prompt_number": 8
    },
    {
     "cell_type": "code",
     "collapsed": false,
     "input": [
      "# bMeas2[1] # nivel base AMC\n",
      "# hay que sumar diferencia AMC con este nivel desde el \u00edndice 10% izquierda hasta derecha\n",
      "sumi= (AMC[ixTau[1]: ixAMC10ProzentRicht] - bMeas2[1]).sum()"
     ],
     "language": "python",
     "metadata": {},
     "outputs": [],
     "prompt_number": 9
    },
    {
     "cell_type": "code",
     "collapsed": false,
     "input": [
      "sumi"
     ],
     "language": "python",
     "metadata": {},
     "outputs": [
      {
       "metadata": {},
       "output_type": "pyout",
       "prompt_number": 10,
       "text": [
        "7431222.4038024647"
       ]
      }
     ],
     "prompt_number": 10
    },
    {
     "cell_type": "heading",
     "level": 3,
     "metadata": {},
     "source": [
      "Funci\u00f3n para automatizar area"
     ]
    },
    {
     "cell_type": "code",
     "collapsed": false,
     "input": [
      "def tauCeti3eAreaMax(T, Meas2, messungenZahl, prop, rechazo=0.1):\n",
      "    '''\n",
      "    -> array\n",
      "    \n",
      "    Calcula \u00edndices risetime como tiempo entre 10% y 90% de excursi\u00f3n entre nivel de base y m\u00e1ximo.\n",
      "    Retorna area por sobre nivel de base de AMC entre 10% a izquierda y derecha.\n",
      "   \n",
      "    Meas2: array (2,:) con Meas2[0] canal 1, Meas2[0] canal 2, producto de np.vstack\n",
      "    baseMeas2: base(Meas2)\n",
      "    \n",
      "    array[0]: tau ch1\n",
      "    array[1]: tau ch2\n",
      "    '''\n",
      "    bMeas2= baseMeas2(Meas2, messungenZahl, prop) # niveles base\n",
      "    \n",
      "    if ((bMeas2[3])>np.abs(bMeas2[1]* rechazo)):\n",
      "        return np.array([0, 0 ])\n",
      "    else:\n",
      "        maxIx= (Meas2[0].argmax(), Meas2[1].argmax() ) # \u00edndice m\u00e1ximo (ch1, ch2)\n",
      "        # m\u00e1ximo promediado cercano\n",
      "        rangoCercano= 20 # tres lecturas a izq y derecha\n",
      "        maxCH1= (Meas2[0][maxIx[0]- rangoCercano: maxIx[0]+ rangoCercano]).mean()\n",
      "        maxCH2= (Meas2[1][maxIx[1]- rangoCercano: maxIx[1]+ rangoCercano]).mean()\n",
      "        # diferencia m\u00e1ximo- base\n",
      "        deltaV= np.array([maxCH1- bMeas2[0],maxCH2- bMeas2[1]]) # usa promediado cercano\n",
      "        # Diferencias de potencial para 10%, 90% de excursi\u00f3n\n",
      "        v10= bMeas2[0:2]+ 0.1* deltaV\n",
      "        v90= bMeas2[0:2]+ 0.9* deltaV\n",
      "        # \u00cdndices para primer potencial del pulso que exceda 10%, y \u00faltimo por debajo 90% \n",
      "        ixTau= np.array([maxIx[0], maxIx[1], maxIx[0], maxIx[1]])\n",
      "        while (Meas2[0,ixTau[0]]> v10[0]):\n",
      "            ixTau[0]-= 1\n",
      "        while (Meas2[1,ixTau[1]]> v10[1]):\n",
      "            ixTau[1]-= 1\n",
      "        while (Meas2[0,ixTau[2]]> v90[0]):\n",
      "            ixTau[2]-= 1\n",
      "        while (Meas2[1,ixTau[3]]> v90[1]):\n",
      "            ixTau[3]-= 1\n",
      "        # Area\n",
      "        ixAMC10ProzentRicht= maxIx[1] # empiezo por m\u00e1ximo\n",
      "        while (Meas2[1, ixAMC10ProzentRicht]> v10[1]):\n",
      "            ixAMC10ProzentRicht+= 1\n",
      "        # ixTau[1], maxIx[1], ixAMC10ProzentRicht\n",
      "        # hay que sumar diferencia AMC con este nivel desde el \u00edndice 10% izquierda hasta derecha\n",
      "        areaTotal= (AMC[ixTau[1]: ixAMC10ProzentRicht] - bMeas2[1]).sum()\n",
      "        areaSubida= (AMC[ixTau[1]: maxIx[1]] - bMeas2[1]).sum()\n",
      "        return np.array([T[ixTau[2]]- T[ixTau[0]], T[ixTau[3]]- T[ixTau[1]], areaTotal, areaSubida, maxCH2])"
     ],
     "language": "python",
     "metadata": {},
     "outputs": [],
     "prompt_number": 11
    },
    {
     "cell_type": "markdown",
     "metadata": {},
     "source": [
      "Un paso atras: revisemos  `tauCeti3eAreaMax` para el caso manual"
     ]
    },
    {
     "cell_type": "code",
     "collapsed": false,
     "input": [
      "[tauAMCi, tauFLUCi, areaTotalAMCi, areaSubidaAMCi, maxAMCi]= tauCeti3eAreaMax(T, Meas2, messungenZahl, prop, rechazo=0.1)\n",
      "tauAMCi, tauFLUCi, areaTotalAMCi, areaSubidaAMCi, maxAMCi"
     ],
     "language": "python",
     "metadata": {},
     "outputs": [
      {
       "metadata": {},
       "output_type": "pyout",
       "prompt_number": 12,
       "text": [
        "(1.3300000000000004e-07,\n",
        " 1.2800000000000009e-07,\n",
        " 7431222.4038024647,\n",
        " 3420001.5897255712,\n",
        " 10.275)"
       ]
      }
     ],
     "prompt_number": 12
    },
    {
     "cell_type": "markdown",
     "metadata": {},
     "source": [
      "Da lo mismo que en manual. Pruebo otra adquisici\u00f3n."
     ]
    },
    {
     "cell_type": "code",
     "collapsed": false,
     "input": [
      "mes= 6\n",
      "dia= 15\n",
      "i= 1\n",
      "acq= np.load(dataPathFile(mes, dia, i))\n",
      "\n",
      "T= acq['zeit']\n",
      "FLUC= acq['ch1']\n",
      "AMC= acq['ch2']\n",
      "messungenZahl= AMC.shape\n",
      "nombre= 1211 # numero de medici\u00f3n a graficar en la serie\n",
      "Meas2= np.array([FLUC[nombre], AMC[nombre] ] )\n",
      "prop= 0.25\n",
      "\n",
      "[tauAMCi, tauFLUCi, areaTotalAMCi, areaSubidaAMCi, maxAMCi]= tauCeti3eAreaMax(T, Meas2, messungenZahl, prop, rechazo=0.1)\n",
      "tauAMCi, tauFLUCi, areaTotalAMCi, areaSubidaAMCi, maxAMCi"
     ],
     "language": "python",
     "metadata": {},
     "outputs": [
      {
       "metadata": {},
       "output_type": "pyout",
       "prompt_number": 13,
       "text": [
        "(2.7999999999999986e-07, 2.2200000000000016e-07, 6803431.5, 3000746.0, 12.725)"
       ]
      }
     ],
     "prompt_number": 13
    },
    {
     "cell_type": "markdown",
     "metadata": {},
     "source": [
      "Tambi\u00e9n funcion\u00f3 bien. As\u00ed que NO es cuesti\u00f3n del `tauAMCz3eAreaMax`\n",
      "\n",
      "\u00bfPORQUE NO? Lo que se prob\u00f3 es el `tauCeti3eAreaMax`"
     ]
    },
    {
     "cell_type": "heading",
     "level": 3,
     "metadata": {},
     "source": [
      "Conversi\u00f3n a potencial el\u00e9ctrico"
     ]
    },
    {
     "cell_type": "code",
     "collapsed": false,
     "input": [
      "# quiero recuperar paso en tiempo y en voltaje para expresar areas en V.ns\n",
      "# Constructivo del Tek 2002B\n",
      "divVert= 8 # numero de divisiones verticales\n",
      "divHoriz= 10\n",
      "ptosVert= 2**8 # 8 bits definici\u00f3n vertical\n",
      "ptosHoriz= 2500\n",
      "# acq.items() # lista los elementos en el archivo de aquisici\u00f3n en memoria\n",
      "settingsList= acq['settings'].tolist()\n",
      "settingsList"
     ],
     "language": "python",
     "metadata": {},
     "outputs": [
      {
       "metadata": {},
       "output_type": "pyout",
       "prompt_number": 13,
       "text": [
        "{'HV': '400',\n",
        " ':TRIGGER:MAIN:LEVEL': '6.4E-1',\n",
        " 'SELECT:SOURCE': 'CH2',\n",
        " 'CAMARA': 'CFP-35',\n",
        " 'STOPAFTER': 'SEQUENCE',\n",
        " ':MATH:FFT:VERTICAL:POSITION': '0.0E0',\n",
        " 'INVERT': 'OFF',\n",
        " ':TRIGGER:MAIN:PULSE:SOURCE': 'CH2',\n",
        " 'PRESION_AR': '2.725',\n",
        " 'STANDARD': 'NTSC',\n",
        " ':MEASUREMENT:MEAS5:TYPE': 'NONE',\n",
        " 'FORMAT': 'EPSIMAGE',\n",
        " 'DATEPRINT': 'DEFLT',\n",
        " 'POSITION1': -2.0,\n",
        " ':CURSOR:HBARS:POSITION1': '3.48E0',\n",
        " 'BANDWIDTH': 'OFF',\n",
        " 'MATH': '0',\n",
        " 'CH2': '1',\n",
        " ':LOCK': 'NONE',\n",
        " ':MEASUREMENT:MEAS3:TYPE': 'NONE',\n",
        " 'SOURCE1': 'CH2',\n",
        " 'PRESION_N2': '0.075',\n",
        " ':TRIGGER:MAIN:VIDEO:SOURCE': 'CH2',\n",
        " 'SOURCE': 'CH1',\n",
        " ':PICTBRIDGE:PAPERSIZE': 'DEFLT',\n",
        " 'PAPERTYPE': 'DEFLT',\n",
        " ':MEASUREMENT:METHOD': 'AUTO',\n",
        " 'DESTINATION': 'REFA',\n",
        " ':MEASUREMENT:IMMED:TYPE': 'RISE',\n",
        " ':AUTORANGE:SETTINGS': 'BOTH',\n",
        " 'REFA': '0',\n",
        " 'INKSAVER': 'ON',\n",
        " ':LANGUAGE': 'SPANISH',\n",
        " ':DISPLAY:FORMAT': 'YT',\n",
        " 'WIDTH:POLARITY': 'POSITIVE',\n",
        " 'IMAGESIZE': 'DEFLT',\n",
        " 'COUPLING': 'NOISEREJ',\n",
        " ':MATH:DEFINE': '\"CH1+CH2\"',\n",
        " ':HORIZONTAL:DELAY:SCALE': '5.0E-9',\n",
        " 'SCALE2': 0.5,\n",
        " 'WIDTH': '2.9335E-4',\n",
        " ':MEASUREMENT:MEAS2:TYPE': 'NONE',\n",
        " 'ELECTRONICA': 'Luis',\n",
        " 'SCALE': '1.0E0',\n",
        " 'REFB': '0',\n",
        " ':CH2:PROBE': '1.0E0',\n",
        " ':MEASUREMENT:MEAS4:TYPE': 'NONE',\n",
        " ':CURSOR:VBARS:UNITS': 'SECONDS',\n",
        " 'PORT': 'USB',\n",
        " 'CONTRAST': '54',\n",
        " 'POSITION2': -3.0,\n",
        " 'TYPE': 'EDGE',\n",
        " 'STATE': '0',\n",
        " 'ESPECTRO': 'x',\n",
        " ':HARDCOPY:BUTTON': 'SAVESALL',\n",
        " 'HOLDOFF:VALUE': '5.0E-7',\n",
        " 'START': '1',\n",
        " 'STYLE': 'VECTORS',\n",
        " 'MAIN:SCALE': '2.5E-7',\n",
        " 'FUENTE': 'Canberra 3002',\n",
        " 'POLARITY': 'NORMAL',\n",
        " ':TRIGGER:MAIN:MODE': 'NORMAL',\n",
        " 'PRINTQUAL': 'DEFLT',\n",
        " ':CURSOR:FUNCTION': 'VBARS',\n",
        " ':SAVE:IMAGE:FILEFORMAT': 'EPSIMAGE',\n",
        " 'NUMAVG': '128',\n",
        " 'STOP': '2500',\n",
        " 'SLOPE': 'RISE',\n",
        " ':VERBOSE': '1',\n",
        " 'LINE': '1',\n",
        " ':MATH:FFT:HORIZONTAL:POSITION': '5.0E1',\n",
        " 'LAYOUT': 'PORTRAIT',\n",
        " 'POSITION': '7.5E-8',\n",
        " 'VERTICAL:POSITION': '0.0E0',\n",
        " ':TRIGGER:MAIN:EDGE:SOURCE': 'CH2',\n",
        " ':HORIZONTAL:VIEW': 'MAIN',\n",
        " ':ACQUIRE:MODE': 'SAMPLE',\n",
        " ':DATA:ENCDG': 'RIBINARY',\n",
        " 'WHEN': 'INSIDE',\n",
        " 'SYNC': 'FIELD',\n",
        " ':MEASUREMENT:MEAS1:TYPE': 'NONE',\n",
        " 'CURRENTPROBE': '1.0E1',\n",
        " ':CH1:PROBE': '1.0E0',\n",
        " 'YUNIT': '\"V\"',\n",
        " 'SCALE1': 0.005,\n",
        " ':SELECT:CH1': '1',\n",
        " 'IDPRINT': 'DEFLT',\n",
        " 'PERSISTENCE': '0'}"
       ]
      }
     ],
     "prompt_number": 13
    },
    {
     "cell_type": "code",
     "collapsed": false,
     "input": [
      "# Horizontal (tiempo)\n",
      "tiempoPasoSDiv= settingsList['MAIN:SCALE'] # [s]\n",
      "pasoHorizontalsPto= float(tiempoPasoSDiv)* divHoriz/ ptosHoriz # [s/pto] Verificado en 1E-9\n",
      "# float(tiempoPasoSDiv)* divHoriz/ ptosHoriz, (T[2]-T[1])"
     ],
     "language": "python",
     "metadata": {},
     "outputs": [],
     "prompt_number": 14
    },
    {
     "cell_type": "code",
     "collapsed": false,
     "input": [
      "# Vertical (potencial)\n",
      "escalaFLUCVoltsDiv= settingsList['SCALE1'] # [V/div]\n",
      "pasoVerticalFLUCVoltPto= escalaFLUCVoltsDiv* divVert/ ptosVert # [V/div]\n",
      "escalaAMCVoltsDiv= settingsList['SCALE2'] # [V/div]\n",
      "pasoVerticalAMCVoltPto= escalaAMCVoltsDiv* divVert/ ptosVert # [V/div]\n",
      "ceroFLUCDiv= settingsList['POSITION1'] # [div]\n",
      "# ceroFLUCPto= ceroFLUCDiv* divVert/ ptosVert # [ptos]\n",
      "ceroAMCDiv= settingsList['POSITION2'] # [div]\n",
      "ceroAMCPto= ceroAMCDiv* ptosVert/ divVert # [ptos]"
     ],
     "language": "python",
     "metadata": {},
     "outputs": [],
     "prompt_number": 15
    },
    {
     "cell_type": "code",
     "collapsed": false,
     "input": [
      "# diferencia de potencial\n",
      "potencialAMC= (Meas2[1,:]- ceroAMCPto)* pasoVerticalAMCVoltPto\n",
      "plt.plot(T, potencialAMC)"
     ],
     "language": "python",
     "metadata": {},
     "outputs": [
      {
       "metadata": {},
       "output_type": "pyout",
       "prompt_number": 20,
       "text": [
        "[<matplotlib.lines.Line2D at 0x7f26d61bbcf8>]"
       ]
      },
      {
       "metadata": {},
       "output_type": "display_data",
       "png": "[encoded data removed]",
       "text": [
        "<matplotlib.figure.Figure at 0x7f26d63a53c8>"
       ]
      }
     ],
     "prompt_number": 20
    },
    {
     "cell_type": "code",
     "collapsed": false,
     "input": [
      "Meas2"
     ],
     "language": "python",
     "metadata": {},
     "outputs": [
      {
       "metadata": {},
       "output_type": "pyout",
       "prompt_number": 28,
       "text": [
        "array([[-53, -53, -52, ..., -27, -28, -29],\n",
        "       [-75, -75, -75, ..., -71, -72, -70]], dtype=int8)"
       ]
      }
     ],
     "prompt_number": 28
    },
    {
     "cell_type": "code",
     "collapsed": false,
     "input": [
      "# Ahora lo empaqueto\n",
      "def conversionV(acq):\n",
      "    \"\"\" acq -> np.array: [ceroAMCPto, pasoVerticalAMCVoltPto, ceroFLUCPto, pasoVerticalFLUCVoltPto]\n",
      "\n",
      "    Da factores de conservi\u00f3n para de Meas2 con niveles en enteros obtener niveles en potencial el\u00e9ctrico.\n",
      "    e.g. potencialAMC= (Meas2[1,:]- ceroAMCPto)* pasoVerticalAMCVoltPto\n",
      "    \n",
      "    >>> conversionV(acq)\n",
      "    'olleh'\n",
      "    \"\"\"\n",
      "    # Constructivo del Tek 2002B\n",
      "    divVert= 8 # numero de divisiones verticales\n",
      "    divHoriz= 10\n",
      "    ptosVert= 2**8 # 8 bits definici\u00f3n vertical\n",
      "    ptosHoriz= 2500\n",
      "    # acq.items() # lista los elementos en el archivo de aquisici\u00f3n en memoria\n",
      "    settingsList= acq['settings'].tolist()\n",
      "    \n",
      "    # Vertical (potencial)\n",
      "    escalaFLUCVoltsDiv= settingsList['SCALE1'] # [V/div]\n",
      "    pasoVerticalFLUCVoltPto= escalaFLUCVoltsDiv* divVert/ ptosVert # [V/div]\n",
      "    escalaAMCVoltsDiv= settingsList['SCALE2'] # [V/div]\n",
      "    pasoVerticalAMCVoltPto= escalaAMCVoltsDiv* divVert/ ptosVert # [V/div]\n",
      "    ceroFLUCDiv= settingsList['POSITION1'] # [div]\n",
      "    ceroFLUCPto= ceroFLUCDiv* divVert/ ptosVert # [ptos]\n",
      "    ceroAMCDiv= settingsList['POSITION2'] # [div]\n",
      "    ceroAMCPto= ceroAMCDiv* ptosVert/ divVert # [ptos]\n",
      "    \n",
      "    return ceroAMCPto, pasoVerticalAMCVoltPto, ceroFLUCPto, pasoVerticalFLUCVoltPto"
     ],
     "language": "python",
     "metadata": {},
     "outputs": [],
     "prompt_number": 5
    },
    {
     "cell_type": "code",
     "collapsed": false,
     "input": [
      "[ceroAMCPto, pasoVerticalAMCVoltPto, ceroFLUCPto, pasoVerticalFLUCVoltPto]= conversionV(acq)\n",
      "ceroAMCPto, pasoVerticalAMCVoltPto, ceroFLUCPto, pasoVerticalFLUCVoltPto"
     ],
     "language": "python",
     "metadata": {},
     "outputs": [
      {
       "metadata": {},
       "output_type": "pyout",
       "prompt_number": 30,
       "text": [
        "(-96.0, 0.015625, -0.0625, 0.00015625)"
       ]
      }
     ],
     "prompt_number": 30
    },
    {
     "cell_type": "markdown",
     "metadata": {},
     "source": [
      "##### Area con tensiones reales\n",
      "Del nivel de se\u00f1al $\\mathrm{s_{i}}$ en enteros (Meas2), con factores de conversi\u00f3n se obtiene area en potencial.\n",
      "$$\n",
      "\\mathrm{area_{ptos}}= \\sum^N \\mathrm{s_{i}}; \\hspace{1cm}  \\mathrm{V}=  (\\mathrm{s_{i}}- \\mathrm{cero})* \\mathrm{paso}\\\\\n",
      "\\mathrm{area_{V}}= \\sum^N (\\mathrm{s_{i}}- \\mathrm{cero})* \\mathrm{paso}= (\\sum^N \\mathrm{s_{i}}- N \\mathrm{cero})* \\mathrm{paso}= (\\mathrm{area_{ptos}}- N \\mathrm{cero})* \\mathrm{paso}\n",
      "$$\n"
     ]
    },
    {
     "cell_type": "markdown",
     "metadata": {},
     "source": [
      "** HASTA AC\u00c1 FUNCIONA **"
     ]
    },
    {
     "cell_type": "markdown",
     "metadata": {},
     "source": [
      "** Revisar que anda mal con `tauAMCz3eAreaMax` **"
     ]
    },
    {
     "cell_type": "code",
     "collapsed": false,
     "input": [
      "def tauAMCz3eAreaMax(npzData, prop= 0.25):\n",
      "    '''\n",
      "    Vectores risetime canal AMC de archivo acq comprimido\n",
      "    \n",
      "    npzData= numpy.lib.npyio.NpzFile\n",
      "    prop= porcentaje inferior del canal a promediar para obtener nivel de base\n",
      "    '''\n",
      "    FLUC= npzData['ch1']\n",
      "    AMC= npzData['ch2']\n",
      "    messungenZahl= AMC.shape\n",
      "    # tiempo\n",
      "    T= npzData['zeit']\n",
      "    tauAMC= np.empty([0, 1])\n",
      "    areaTotalAMC= np.empty([0, 1])\n",
      "    areaSubidaAMC= np.empty([0, 1])\n",
      "    maxAMC= np.empty([0, 1])\n",
      "    i=0\n",
      "    q=0\n",
      "    cucho= (messungenZahl[0]- q- 1 )\n",
      "    while (i< cucho ):\n",
      "        Meas2= np.array([FLUC[i+q], AMC[i+q] ] )\n",
      "        # print('adquici\u00f3n: {:01n}'.format(i))\n",
      "        try:\n",
      "            [tauAMCi, tauFLUCi, areaTotalAMCi, areaSubidaAMCi, maxAMCi]= tauCeti3eAreaMax(T, Meas2, messungenZahl, prop)\n",
      "        except IndexError:\n",
      "            tauAMCi=0 # ante error de no volver a nivel 10% -> descarta adquisici\u00f3n\n",
      "        if (tauAMCi!=0):\n",
      "            i+=1\n",
      "            tauAMC= np.append(tauAMC, tauAMCi)\n",
      "            areaTotalAMC= np.append(AMC, areaTotalAMCi)\n",
      "            areaSubidaAMC= np.append(AMC, areaSubidaAMCi)\n",
      "            maxAMC= np.append(maxAMC, maxAMCi)\n",
      "        else:\n",
      "            q+=1\n",
      "        cucho= (messungenZahl[0]- q- 1 )\n",
      "    return tauAMC, areaTotalAMC, areaSubidaAMC, maxAMC"
     ],
     "language": "python",
     "metadata": {},
     "outputs": [],
     "prompt_number": 6
    },
    {
     "cell_type": "code",
     "collapsed": false,
     "input": [
      "tauAMC, areaTotalAMC, areaSubidaAMC, maxAMC= tauAMCz3eAreaMax(acq)"
     ],
     "language": "python",
     "metadata": {},
     "outputs": [],
     "prompt_number": 9
    },
    {
     "cell_type": "code",
     "collapsed": false,
     "input": [
      "# tauAMC, areaTotalAMC, areaSubidaAMC, maxAMC\n",
      "areaSubidaAMC[1], areaSubidaAMC[4], maxAMC[4]"
     ],
     "language": "python",
     "metadata": {},
     "outputs": [
      {
       "metadata": {},
       "output_type": "pyout",
       "prompt_number": 12,
       "text": [
        "(-71.0, -73.0, 26.574999999999999)"
       ]
      }
     ],
     "prompt_number": 12
    },
    {
     "cell_type": "code",
     "collapsed": false,
     "input": [
      "areaSubidaAMC.mean(), areaSubidaAMC.std(), areaTotalAMC.mean(), areaTotalAMC.std()"
     ],
     "language": "python",
     "metadata": {},
     "outputs": []
    },
    {
     "cell_type": "heading",
     "level": 3,
     "metadata": {},
     "source": [
      "Agregador - A\u00fan no parece funcionar: ver debajo"
     ]
    },
    {
     "cell_type": "code",
     "collapsed": false,
     "input": [
      "def agregadorAMCTauAreaMax(mes, dia, rango):\n",
      "    serieTauAMC= np.array([])\n",
      "    serieAreaSubidaAMC= np.array([])\n",
      "    serieAreaTotalAMC= np.array([])\n",
      "    serieMaxAMC= np.array([])\n",
      "    for i in rango:\n",
      "        acq= np.load(dataPathFile(mes, dia, i))\n",
      "        # print('archivo: ' + dataPathFile(mes, dia, i)) # testing purposes\n",
      "        tauAMC, areaTotalAMC, areaSubidaAMC, maxAMC= tauAMCz3eAreaMax(acq)\n",
      "        serieTauAMC= np.append(serieTauAMC, tauAMC)\n",
      "        serieAreaSubidaAMC= np.append(serieAreaSubidaAMC, areaSubidaAMC)\n",
      "        serieAreaTotalAMC= np.append(serieAreaTotalAMC, areaTotalAMC)\n",
      "        serieMaxAMC= np.append(serieMaxAMC, maxAMC)\n",
      "    return serieTauAMC, serieAreaSubidaAMC, serieAreaTotalAMC, serieMaxAMC\n",
      "\n",
      "\n",
      "def binMax(maxs, binHist=40):\n",
      "    fig = plt.figure(figsize=(18,5))  # an empty figure with no axes\n",
      "    ax_lst= fig.add_subplot(1,2,2)\n",
      "    n, bins, patches= ax_lst.hist(maxs, bins=120)\n",
      "    ax_lst.set_ylabel('Cuentas')\n",
      "    ax_lst.set_xlabel('M\u00e1ximo [?]')\n",
      "    intermedio = np.ma.masked_greater(maxs, bins[binHist])\n",
      "    primerCampana= intermedio.compressed()\n",
      "    ax_lst2= fig.add_subplot(1,2,1)\n",
      "    ax_lst2.set_ylabel('Cuentas')\n",
      "    ax_lst2.set_xlabel('M\u00e1ximo [?]')\n",
      "    n_i, bins_i, patches_i= ax_lst2.hist(primerCampana, bins=20)\n",
      "    return (primerCampana.size, primerCampana.mean(), errorEstandard(primerCampana) )"
     ],
     "language": "python",
     "metadata": {},
     "outputs": [],
     "prompt_number": 22
    },
    {
     "cell_type": "code",
     "collapsed": false,
     "input": [
      "# Ensayo\n",
      "mes= 6\n",
      "dia= 10\n",
      "rango= np.arange(8,9)\n",
      "SerieTauAMC, SerieAreaSubidaAMC, SerieAreaTotalAMC, SerieMaxAMC= agregadorAMCTauAreaMax(mes, dia, rango)"
     ],
     "language": "python",
     "metadata": {},
     "outputs": [
      {
       "output_type": "stream",
       "stream": "stdout",
       "text": [
        "archivo: ./data/acq150610z08.npy.npz\n"
       ]
      }
     ],
     "prompt_number": 23
    },
    {
     "cell_type": "code",
     "collapsed": false,
     "input": [
      "SerieTauAMC, SerieAreaSubidaAMC, SerieAreaTotalAMC, SerieMaxAMC"
     ],
     "language": "python",
     "metadata": {},
     "outputs": [
      {
       "metadata": {},
       "output_type": "pyout",
       "prompt_number": 24,
       "text": [
        "(array([  1.46000000e-07,   1.77000000e-07,   1.78000000e-07, ...,\n",
        "          2.11000000e-07,   1.38000000e-07,   1.72000000e-07]),\n",
        " array([ -7.40000000e+01,  -7.50000000e+01,  -7.50000000e+01, ...,\n",
        "         -7.30000000e+01,  -7.20000000e+01,   2.12183021e+06]),\n",
        " array([ -7.40000000e+01,  -7.50000000e+01,  -7.50000000e+01, ...,\n",
        "         -7.30000000e+01,  -7.20000000e+01,   5.53976040e+06]),\n",
        " array([  4.15 , -13.55 , -11.8  , ..., -34.3  , -31.675, -14.875]))"
       ]
      }
     ],
     "prompt_number": 24
    },
    {
     "cell_type": "code",
     "collapsed": false,
     "input": [
      "SerieAreaSubidaAMC.mean(), SerieAreaSubidaAMC.std(), SerieAreaTotalAMC.mean(), SerieAreaTotalAMC.std()"
     ],
     "language": "python",
     "metadata": {},
     "outputs": [
      {
       "metadata": {},
       "output_type": "pyout",
       "prompt_number": 37,
       "text": [
        "(-69.469369425861231,\n",
        " 838.93336758598844,\n",
        " -68.935317916742363,\n",
        " 2189.8783377341474)"
       ]
      }
     ],
     "prompt_number": 37
    },
    {
     "cell_type": "heading",
     "level": 3,
     "metadata": {},
     "source": [
      "Correcci\u00f3n error `IndexError:`"
     ]
    },
    {
     "cell_type": "code",
     "collapsed": false,
     "input": [
      "# corrigiendo problema\n",
      "mes= 6\n",
      "dia= 10\n",
      "rango= np.arange(8,9)\n",
      "acq= np.load(dataPathFile(mes, dia, rango[0]))\n",
      "\n",
      "T= acq['zeit']\n",
      "FLUC= acq['ch1']\n",
      "AMC= acq['ch2']\n",
      "messungenZahl= AMC.shape\n",
      "nombre= 2431 # numero de medici\u00f3n a graficar en la serie\n",
      "Meas2= np.array([FLUC[nombre], AMC[nombre] ] )\n",
      "prop= 0.25"
     ],
     "language": "python",
     "metadata": {},
     "outputs": [],
     "prompt_number": 44
    },
    {
     "cell_type": "code",
     "collapsed": false,
     "input": [
      "[tauAMCi, tauFLUCi, areaAMCi, maxAMCi]= tauCeti3eAreaMax(T, Meas2, messungenZahl, prop)"
     ],
     "language": "python",
     "metadata": {},
     "outputs": [
      {
       "ename": "IndexError",
       "evalue": "index 2500 is out of bounds for axis 1 with size 2500",
       "output_type": "pyerr",
       "traceback": [
        "\u001b[0;31m---------------------------------------------------------------------------\u001b[0m\n\u001b[0;31mIndexError\u001b[0m                                Traceback (most recent call last)",
        "\u001b[0;32m<ipython-input-46-15eb8e16217d>\u001b[0m in \u001b[0;36m<module>\u001b[0;34m()\u001b[0m\n\u001b[0;32m----> 1\u001b[0;31m \u001b[0;34m[\u001b[0m\u001b[0mtauAMCi\u001b[0m\u001b[0;34m,\u001b[0m \u001b[0mtauFLUCi\u001b[0m\u001b[0;34m,\u001b[0m \u001b[0mareaAMCi\u001b[0m\u001b[0;34m,\u001b[0m \u001b[0mmaxAMCi\u001b[0m\u001b[0;34m]\u001b[0m\u001b[0;34m=\u001b[0m \u001b[0mtauCeti3eAreaMax\u001b[0m\u001b[0;34m(\u001b[0m\u001b[0mT\u001b[0m\u001b[0;34m,\u001b[0m \u001b[0mMeas2\u001b[0m\u001b[0;34m,\u001b[0m \u001b[0mmessungenZahl\u001b[0m\u001b[0;34m,\u001b[0m \u001b[0mprop\u001b[0m\u001b[0;34m)\u001b[0m\u001b[0;34m\u001b[0m\u001b[0m\n\u001b[0m",
        "\u001b[0;32m<ipython-input-29-59a4e82cc2a0>\u001b[0m in \u001b[0;36mtauCeti3eAreaMax\u001b[0;34m(T, Meas2, messungenZahl, prop, rechazo)\u001b[0m\n\u001b[1;32m     34\u001b[0m         \u001b[0;31m# Area\u001b[0m\u001b[0;34m\u001b[0m\u001b[0;34m\u001b[0m\u001b[0m\n\u001b[1;32m     35\u001b[0m         \u001b[0mixAMC10ProzentRicht\u001b[0m\u001b[0;34m=\u001b[0m \u001b[0mmaxIx\u001b[0m\u001b[0;34m[\u001b[0m\u001b[0;36m1\u001b[0m\u001b[0;34m]\u001b[0m \u001b[0;31m# empiezo por m\u00e1ximo\u001b[0m\u001b[0;34m\u001b[0m\u001b[0m\n\u001b[0;32m---> 36\u001b[0;31m         \u001b[0;32mwhile\u001b[0m \u001b[0;34m(\u001b[0m\u001b[0mMeas2\u001b[0m\u001b[0;34m[\u001b[0m\u001b[0;36m1\u001b[0m\u001b[0;34m,\u001b[0m \u001b[0mixAMC10ProzentRicht\u001b[0m\u001b[0;34m]\u001b[0m\u001b[0;34m>\u001b[0m \u001b[0mv10\u001b[0m\u001b[0;34m[\u001b[0m\u001b[0;36m1\u001b[0m\u001b[0;34m]\u001b[0m\u001b[0;34m)\u001b[0m\u001b[0;34m:\u001b[0m\u001b[0;34m\u001b[0m\u001b[0m\n\u001b[0m\u001b[1;32m     37\u001b[0m             \u001b[0mixAMC10ProzentRicht\u001b[0m\u001b[0;34m+=\u001b[0m \u001b[0;36m1\u001b[0m\u001b[0;34m\u001b[0m\u001b[0m\n\u001b[1;32m     38\u001b[0m         \u001b[0;31m# ixTau[1], maxIx[1], ixAMC10ProzentRicht\u001b[0m\u001b[0;34m\u001b[0m\u001b[0;34m\u001b[0m\u001b[0m\n",
        "\u001b[0;31mIndexError\u001b[0m: index 2500 is out of bounds for axis 1 with size 2500"
       ]
      }
     ],
     "prompt_number": 46
    },
    {
     "cell_type": "markdown",
     "metadata": {},
     "source": [
      "Hice modificaci\u00f3n a la funci\u00f3n que  llama a `tauCeti3eAreaMax` para que maneje la expepci\u00f3n: `IndexError:` causada por se\u00f1ales como la graficada debajo."
     ]
    },
    {
     "cell_type": "code",
     "collapsed": false,
     "input": [
      "# Gr\u00e1fica max, nivel cero, etc.\n",
      "fig, (ax0, ax1) = plt.subplots(nrows=2, sharex=True)\n",
      "fig.set_size_inches(10,8)\n",
      "fig.subplots_adjust(hspace=0.000)\n",
      "# Axis 0\n",
      "ax0.plot(T, Meas2[0,:], 'y')\n",
      "# Make the y-axis label and tick labels match the line color.\n",
      "ax0.set_ylabel('ch 1 [V]', color='y')\n",
      "ax0.grid(True)\n",
      "# Axis 1\n",
      "ax1.plot(T, Meas2[1,:], 'c')\n",
      "ax1.set_ylabel('ch 2 [V]', color='c')\n",
      "ax1.set_xlabel('tiempo [s]')\n",
      "ax1.grid(True)"
     ],
     "language": "python",
     "metadata": {},
     "outputs": [
      {
       "metadata": {},
       "output_type": "display_data",
       "png": "[encoded data removed]",
       "text": [
        "<matplotlib.figure.Figure at 0x7ff9f0cf9c88>"
       ]
      }
     ],
     "prompt_number": 45
    },
    {
     "cell_type": "code",
     "collapsed": false,
     "input": [
      "acq"
     ],
     "language": "python",
     "metadata": {},
     "outputs": [
      {
       "ename": "NameError",
       "evalue": "name 'acq' is not defined",
       "output_type": "pyerr",
       "traceback": [
        "\u001b[0;31m---------------------------------------------------------------------------\u001b[0m\n\u001b[0;31mNameError\u001b[0m                                 Traceback (most recent call last)",
        "\u001b[0;32m<ipython-input-1-a773add3b6fe>\u001b[0m in \u001b[0;36m<module>\u001b[0;34m()\u001b[0m\n\u001b[0;32m----> 1\u001b[0;31m \u001b[0macq\u001b[0m\u001b[0;34m\u001b[0m\u001b[0m\n\u001b[0m",
        "\u001b[0;31mNameError\u001b[0m: name 'acq' is not defined"
       ]
      }
     ],
     "prompt_number": 1
    },
    {
     "cell_type": "code",
     "collapsed": false,
     "input": [],
     "language": "python",
     "metadata": {},
     "outputs": []
    }
   ],
   "metadata": {}
  }
 ]
}