{
 "metadata": {
  "name": "",
  "signature": "sha256:44eb967b4911ac50061cfe01bf15c8e0b2d3303a2ac8372c7c00c7d8013e82c6"
 },
 "nbformat": 3,
 "nbformat_minor": 0,
 "worksheets": [
  {
   "cells": [
    {
     "cell_type": "code",
     "collapsed": false,
     "input": [
      "import matplotlib\n",
      "import numpy as np\n",
      "import matplotlib.pyplot as plt\n",
      "%matplotlib inline\n",
      "# coding=utf-8\n",
      "\n",
      "import time\n",
      "\n",
      "# refresca de lo importado cada vez que se hace ejecuci\u00f3n\n",
      "# %load_ext autoreload\n",
      "# %autoreload 2\n",
      "\n",
      "path= './data/'"
     ],
     "language": "python",
     "metadata": {},
     "outputs": [],
     "prompt_number": 2
    },
    {
     "cell_type": "heading",
     "level": 1,
     "metadata": {},
     "source": [
      "Graficaci\u00f3n, funciones"
     ]
    },
    {
     "cell_type": "code",
     "collapsed": false,
     "input": [
      "def darstellungNurZwei(T, Meas2, sav= None):\n",
      "    '''\n",
      "    T: times vector\n",
      "    Meas2: Both channels 2D array\n",
      "    sav: plot filename (eps)\n",
      "    '''\n",
      "        \n",
      "    fig, (ax0, ax1) = plt.subplots(nrows=2, sharex=True)\n",
      "    fig.set_size_inches(10,8)\n",
      "    fig.subplots_adjust(hspace=0.000)\n",
      "\n",
      "    ax0.plot(T, Meas2[0,:], 'y')\n",
      "    # Make the y-axis label and tick labels match the line color.\n",
      "    ax0.set_ylabel('ch 1 [V]', color='y')\n",
      "    ax0.grid(True)\n",
      "\n",
      "    ax1.plot(T, Meas2[1,:], 'c')\n",
      "    ax1.set_ylabel('ch 2 [V]', color='c')\n",
      "    ax1.set_xlabel('tiempo [s]')\n",
      "    ax1.grid(True)\n",
      "    \n",
      "    if (sav):\n",
      "        plt.savefig('./data/plots/'+ sav+ '.eps')\n",
      "    else:\n",
      "        plt.show()"
     ],
     "language": "python",
     "metadata": {},
     "outputs": [],
     "prompt_number": 3
    },
    {
     "cell_type": "code",
     "collapsed": false,
     "input": [
      "# lee archivo npy en la ruta datei y grafica cada medici\u00f3n\n",
      "def dateiDarstellung(datei, sav= None):\n",
      "    '''\n",
      "    str -> ()\n",
      "    \n",
      "    De un archivo npy grafica cada medici\u00f3n (\u00edndice), ambos canales.\n",
      "    '''\n",
      "    lu= np.load(datei)\n",
      "    zeit= lu[0]\n",
      "    messungenZahl= lu.shape[0]\n",
      "    for i in range(1, messungenZahl, 2):\n",
      "        ix= int((i-1)/2)\n",
      "        print('medici\u00f3n = '+ str(ix), ', \u00edndiceCH1= '+ str(i))\n",
      "        Meas2= np.vstack([lu[i], lu[i+1]])\n",
      "        if (sav):\n",
      "            savi= sav+ str(i)\n",
      "            darstellungNurZwei(zeit, Meas2, savi)\n",
      "        else:\n",
      "            darstellungNurZwei(zeit, Meas2)"
     ],
     "language": "python",
     "metadata": {},
     "outputs": [],
     "prompt_number": 4
    },
    {
     "cell_type": "code",
     "collapsed": false,
     "input": [
      "def dertellungZ(npzData):\n",
      "    '''\n",
      "    Grafica canal AMC y FLUC de archivo acq comprimido\n",
      "    \n",
      "    npzData= numpy.lib.npyio.NpzFile\n",
      "    '''\n",
      "    FLUC= npzData['ch1']\n",
      "    AMC= npzData['ch2']\n",
      "\n",
      "    messungenZahl= AMC.shape\n",
      "\n",
      "    # tiempo\n",
      "    T= npzData['zeit']\n",
      "\n",
      "    tauAMC= np.empty([messungenZahl[0], 1])\n",
      "    for i in range(messungenZahl[0]):\n",
      "        Meas2= np.array([FLUC[i], AMC[i] ] )\n",
      "        darstellungNurZwei(T, Meas2)\n",
      "    return tauAMC"
     ],
     "language": "python",
     "metadata": {},
     "outputs": [],
     "prompt_number": 5
    },
    {
     "cell_type": "heading",
     "level": 1,
     "metadata": {},
     "source": [
      "Risetime, funciones"
     ]
    },
    {
     "cell_type": "code",
     "collapsed": false,
     "input": [
      "def baseAcq(acqFile, prop=0.25):\n",
      "    '''\n",
      "    (array, float) -> array\n",
      "    \n",
      "    De la primer fracci\u00f3n prop de ambos canales de todas las adquisiciones en acqFile,\n",
      "    obtiene el promedio y dispersi\u00f3n que se asume como nivel de base\n",
      "    grProm[0]: promedio ch1, grProm[1]: promedio ch2,\n",
      "    grProm[2]: desviaci\u00f3n estandard ch1, grProm[3]: desviaci\u00f3n estandard ch2\n",
      "    '''\n",
      "    messungenZahl= acqFile.shape\n",
      "    erstePunkten= int(messungenZahl[1]* prop)\n",
      "    prom= np.zeros([int((messungenZahl[0]- 1)/ 2), 4])\n",
      "    for i in range(1, messungenZahl[0], 2):\n",
      "        ix= int((i-1)/2)\n",
      "        ch1Erste= acqFile[i][0:erstePunkten-1]\n",
      "        ch2Erste= acqFile[i+1][0:erstePunkten-1]\n",
      "        prom[ix,0]= ch1Erste.mean()\n",
      "        prom[ix,1]= ch2Erste.mean()\n",
      "        prom[ix,2]= ch1Erste.std()\n",
      "        prom[ix,3]= ch2Erste.std()\n",
      "    return prom"
     ],
     "language": "python",
     "metadata": {},
     "outputs": [],
     "prompt_number": 6
    },
    {
     "cell_type": "code",
     "collapsed": false,
     "input": [
      "def baseMeas2(Meas2, messungenZahl, prop=0.25):\n",
      "    '''\n",
      "    (array, array, float) -> array\n",
      "    \n",
      "    De la primer fracci\u00f3n prop de ambos canales en Meas2,\n",
      "    obtiene el promedio y dispersi\u00f3n que se asume como nivel de base\n",
      "    grProm[0]: promedio ch1, grProm[1]: promedio ch2,\n",
      "    grProm[2]: desviaci\u00f3n estandard ch1, grProm[3]: desviaci\u00f3n estandard ch2\n",
      "    '''\n",
      "    erstePunkten= int(messungenZahl[1]* prop)\n",
      "    ch1Erste= Meas2[0][0:erstePunkten-1]\n",
      "    ch2Erste= Meas2[1][0:erstePunkten-1]\n",
      "    return np.array([ch1Erste.mean(), ch2Erste.mean(), ch1Erste.std(), ch2Erste.std() ] )"
     ],
     "language": "python",
     "metadata": {},
     "outputs": [],
     "prompt_number": 7
    },
    {
     "cell_type": "code",
     "collapsed": false,
     "input": [
      "def tauCeti2(T, Meas2, messungenZahl, prop):\n",
      "    '''\n",
      "    Calcula \u00edndices risetime como tiempo entre 10% y 90% de excursi\u00f3n entre nivel de base y m\u00e1ximo\n",
      "   \n",
      "    Meas2: array (2,:) con Meas2[0] canal 1, Meas2[0] canal 2, producto de np.vstack\n",
      "    baseMeas2: base(Meas2)\n",
      "    '''\n",
      "    # niveles base\n",
      "    bMeas2= baseMeas2(Meas2, messungenZahl, prop)\n",
      "\n",
      "    # \u00edndice m\u00e1ximo\n",
      "    maxIx= (Meas2[0].argmax(), Meas2[1].argmax() )\n",
      "\n",
      "    # m\u00e1ximo promediado cercano\n",
      "    rangoCercano= 20 # tres lecturas a izq y derecha\n",
      "    maxCH1= (Meas2[0][maxIx[0]- rangoCercano: maxIx[0]+ rangoCercano]).mean()\n",
      "    maxCH2= (Meas2[1][maxIx[1]- rangoCercano: maxIx[1]+ rangoCercano]).mean()\n",
      "\n",
      "    # diferencia m\u00e1ximo- base\n",
      "    # maxCH1= Meas2[0][maxIx[0]] # max CH1\n",
      "    # maxCH2= Meas2[1][maxIx[1]] # max CH2\n",
      "    # deltaV= np.array([Meas2[0][maxIx[0]]- bMeas2[0], Meas2[1][maxIx[1]]- bMeas2[1]])\n",
      "    deltaV= np.array([maxCH1- bMeas2[0],maxCH2- bMeas2[1]]) # usa promediado cercano\n",
      "\n",
      "    # Diferencias de potencial para 10%, 90% de excursi\u00f3n\n",
      "    v10= bMeas2[0:2]+ 0.1* deltaV\n",
      "    v90= bMeas2[0:2]+ 0.9* deltaV\n",
      "\n",
      "    # \u00cdndices para primer potencial del pulso que exceda 10%, y \u00faltimo por debajo 90% \n",
      "    ixTau= np.array([0, 0, maxIx[0], maxIx[1]])\n",
      "    while (Meas2[0,ixTau[0]]< v10[0]):\n",
      "        ixTau[0]+= 1\n",
      "    while (Meas2[1,ixTau[1]]< v10[1]):\n",
      "        ixTau[1]+= 1\n",
      "    while (Meas2[0,ixTau[2]]> v90[0]):\n",
      "        ixTau[2]-= 1\n",
      "    while (Meas2[1,ixTau[3]]> v90[1]):\n",
      "        ixTau[3]-= 1\n",
      "        \n",
      "    return np.array([T[ixTau[2]]- T[ixTau[0]], T[ixTau[3]]- T[ixTau[1]] ])"
     ],
     "language": "python",
     "metadata": {},
     "outputs": [],
     "prompt_number": 8
    },
    {
     "cell_type": "code",
     "collapsed": false,
     "input": [
      "def tauAMC2(acqData, prop= 0.25):\n",
      "    '''\n",
      "    Genera vectores de promedio y dispersi\u00f3n del risetime de ambos canales a partir de archivo acq*\n",
      "    \n",
      "    archivo: acq* \n",
      "    prop= porcentaje inferior del canal a promediar para obtener nivel de base     \n",
      "    '''\n",
      "    messungenZahl= acqData.shape\n",
      "\n",
      "    # tiempo\n",
      "    T= acqData[0]\n",
      "\n",
      "    tauAMC= np.empty([int((messungenZahl[0]- 1)/ 2), 1])\n",
      "    for i in range(1, messungenZahl[0], 2):\n",
      "        Meas2= np.array([acqData[i], acqData[i+1] ] )\n",
      "        ix= int((i-1)/2)\n",
      "        tauAMC[ix]= tauCeti2(T, Meas2, messungenZahl, prop)[1]\n",
      "    return tauAMC"
     ],
     "language": "python",
     "metadata": {},
     "outputs": [],
     "prompt_number": 9
    },
    {
     "cell_type": "code",
     "collapsed": false,
     "input": [
      "def tauAMCz(npzData, prop= 0.25):\n",
      "    '''\n",
      "    Vectores risetime canal AMC de archivo acq comprimido\n",
      "    \n",
      "    npzData= numpy.lib.npyio.NpzFile\n",
      "    prop= porcentaje inferior del canal a promediar para obtener nivel de base     \n",
      "    '''\n",
      "    FLUC= npzData['ch1']\n",
      "    AMC= npzData['ch2']\n",
      "\n",
      "    messungenZahl= AMC.shape\n",
      "\n",
      "    # tiempo\n",
      "    T= npzData['zeit']\n",
      "\n",
      "    tauAMC= np.empty([messungenZahl[0], 1])\n",
      "    for i in range(messungenZahl[0]):\n",
      "        Meas2= np.array([FLUC[i], AMC[i] ] )\n",
      "        tauAMC[i]= tauCeti2(T, Meas2, messungenZahl, prop)[1]\n",
      "    return tauAMC"
     ],
     "language": "python",
     "metadata": {},
     "outputs": [],
     "prompt_number": 10
    },
    {
     "cell_type": "code",
     "collapsed": false,
     "input": [
      "def desvioEstandardCuasiNoSesgado(datos):\n",
      "    '''\n",
      "    Estimador cuasi no sesgado de la desviaci\u00f3n estandar.\n",
      "    https://en.wikipedia.org/wiki/Unbiased_estimation_of_standard_deviation\n",
      "    '''\n",
      "    media= np.mean(datos)\n",
      "    suma=0\n",
      "    for i in datos:\n",
      "        aux= (datos[i]- media)\n",
      "        suma+= aux**2\n",
      "    desv= np.sqrt(suma/( np.size(datos)- 1.5) ) \n",
      "    return desv"
     ],
     "language": "python",
     "metadata": {},
     "outputs": [],
     "prompt_number": 11
    },
    {
     "cell_type": "code",
     "collapsed": false,
     "input": [
      "def errorEstandard(datos):\n",
      "    '''\n",
      "    Estimador de la desviaci\u00f3n estandar del promedio.\n",
      "    Usa la desviaci\u00f3n estandar de la poblaci\u00f3n y la divide por la ra\u00edz del n\u00famero de elementos en la poblaci\u00f3n.\n",
      "    https://en.wikipedia.org/wiki/Standard_error\n",
      "    '''\n",
      "    return desvioEstandardCuasiNoSesgado(datos)/ np.sqrt(np.size(datos))"
     ],
     "language": "python",
     "metadata": {},
     "outputs": [],
     "prompt_number": 12
    },
    {
     "cell_type": "heading",
     "level": 1,
     "metadata": {},
     "source": [
      "Cambio composici\u00f3n"
     ]
    },
    {
     "cell_type": "code",
     "collapsed": false,
     "input": [
      "conv= 98066.5* (1/101325) # presi\u00f3n absoluta atm/(kgf/cm2)= (Pa/(kgf/cm2))* (atm/Pa)\n",
      "pAtm= 1/conv # [kgf/cm\u00b2] (abs)"
     ],
     "language": "python",
     "metadata": {},
     "outputs": [],
     "prompt_number": 13
    },
    {
     "cell_type": "heading",
     "level": 2,
     "metadata": {},
     "source": [
      "Lo que hay"
     ]
    },
    {
     "cell_type": "code",
     "collapsed": false,
     "input": [
      "# Tres c\u00e1maras: topo superior, topo inferior (incluye tubo al detector), detector (despu\u00e9s de v\u00e1lvula propia)\n",
      "riquezaActual= 0.019930106926054243 # [P_{N_2}/P_Ar] (abs)\n",
      "pAbierta= 2.845 # [kgf/cm\u00b2] (rel)"
     ],
     "language": "python",
     "metadata": {},
     "outputs": [],
     "prompt_number": 40
    },
    {
     "cell_type": "heading",
     "level": 2,
     "metadata": {},
     "source": [
      "Objetivo"
     ]
    },
    {
     "cell_type": "code",
     "collapsed": false,
     "input": [
      "pObjetivo= 4.00 # [kgf/cm\u00b2] (rel)\n",
      "pObjetivo+= pAtm # [kgf/cm\u00b2] (abs)\n",
      "riquezaObjetivo= 0.015\n",
      "pN2Objetivo= pObjetivo* riquezaObjetivo\n",
      "pArObjetivo= pObjetivo- pN2Objetivo\n",
      "pN2Llenar= pN2Objetivo- pAbierta* riquezaActual\n",
      "riquezaObjetivoVerificacion= (pN2Objetivo)/ pArObjetivo\n",
      "pObjetivoVerificacion= pArObjetivo+ pN2Objetivo\n",
      "pN2Llenar, riquezaObjetivoVerificacion, pObjetivoVerificacion-pAtm"
     ],
     "language": "python",
     "metadata": {},
     "outputs": [
      {
       "metadata": {},
       "output_type": "pyout",
       "prompt_number": 41,
       "text": [
        "(0.01879725758737396, 0.015228426395939087, 4.0)"
       ]
      }
     ],
     "prompt_number": 41
    },
    {
     "cell_type": "code",
     "collapsed": false,
     "input": [
      "pAbierta+ 0.015 # presi\u00f3n man\u00f3metro a llegar sumando N_2"
     ],
     "language": "python",
     "metadata": {},
     "outputs": [
      {
       "metadata": {},
       "output_type": "pyout",
       "prompt_number": 47,
       "text": [
        "2.8600000000000003"
       ]
      }
     ],
     "prompt_number": 47
    },
    {
     "cell_type": "code",
     "collapsed": false,
     "input": [
      "PLlenarN2Lograda= 2.860\n",
      "pFinalLograda= 4.000\n",
      "\n",
      "pN2Final= pAbierta* riquezaActual+ (PLlenarN2Lograda- pAbierta)\n",
      "pArFinal= pFinalLograda- pN2Final\n",
      "pArFinal+= pAtm\n",
      "pAtmFinal= conv* (pArFinal+ pN2Final)\n",
      "riquezaFinal= pN2Final/ pArFinal\n",
      "pN2Final, pArFinal, pAtmFinal, riquezaFinal"
     ],
     "language": "python",
     "metadata": {},
     "outputs": [
      {
       "metadata": {},
       "output_type": "pyout",
       "prompt_number": 52,
       "text": [
        "(0.071701154204624,\n",
        " 4.9615262985952615,\n",
        " 4.871364421416235,\n",
        " 0.014451430847988144)"
       ]
      }
     ],
     "prompt_number": 52
    },
    {
     "cell_type": "markdown",
     "metadata": {},
     "source": [
      "$P_\\mathrm{final}\\simeq 4.871 \\mathrm{atm}$, $P_\\mathrm{N_2}/P_\\mathrm{Ar}\\simeq 0.0145$"
     ]
    },
    {
     "cell_type": "heading",
     "level": 1,
     "metadata": {},
     "source": [
      "Espectros"
     ]
    },
    {
     "cell_type": "markdown",
     "metadata": {},
     "source": [
      "`150601v1` Espectro cadena Silvia, 15k cuentas en la ROI.\n",
      "\n",
      "`CFP35_400V_Amp25_G100x0.6_ShT0.5us_Pol+_pre142C_FteCh`\n",
      "\n",
      "Valle$\\simeq42$, Pico$=93.06$"
     ]
    },
    {
     "cell_type": "heading",
     "level": 1,
     "metadata": {},
     "source": [
      "Adquisiciones"
     ]
    },
    {
     "cell_type": "heading",
     "level": 6,
     "metadata": {},
     "source": [
      "acq150615z01: CFP-35, 2560 pulsos, $P=4.000\\mathrm{\\frac{kgf}{cm^2}}$ (relativa), $\\mathrm{N_2/Ar}\\simeq1.45\\%$, TRG=$0.6\\mathrm{V}$"
     ]
    },
    {
     "cell_type": "code",
     "collapsed": false,
     "input": [
      "acq= np.load('./data/acq150615z01.npy.npz')\n",
      "taus= tauAMCz(acq)\n",
      "n, bins, patches= plt.hist(taus, bins=120)"
     ],
     "language": "python",
     "metadata": {},
     "outputs": [
      {
       "metadata": {},
       "output_type": "display_data",
       "png": "[encoded data removed]",
       "text": [
        "<matplotlib.figure.Figure at 0x7f1c443bf4e0>"
       ]
      }
     ],
     "prompt_number": 53
    },
    {
     "cell_type": "code",
     "collapsed": false,
     "input": [
      "intermedio = np.ma.masked_greater(taus, bins[6])\n",
      "primerCampana= intermedio.compressed()\n",
      "n_i, bins_i, patches_i= plt.hist(primerCampana, bins=20)\n",
      "primerCampana.size, primerCampana.mean(), errorEstandard(primerCampana)"
     ],
     "language": "python",
     "metadata": {},
     "outputs": [
      {
       "metadata": {},
       "output_type": "pyout",
       "prompt_number": 54,
       "text": [
        "(1673, 2.4378840406455521e-07, 1.0324727110886966e-09)"
       ]
      },
      {
       "metadata": {},
       "output_type": "display_data",
       "png": "[encoded data removed]",
       "text": [
        "<matplotlib.figure.Figure at 0x7f1c25681128>"
       ]
      }
     ],
     "prompt_number": 54
    },
    {
     "cell_type": "heading",
     "level": 6,
     "metadata": {},
     "source": [
      "acq150615z02: CFP-35, 2560 pulsos, $P=4.000\\mathrm{\\frac{kgf}{cm^2}}$ (relativa), $\\mathrm{N_2/Ar}\\simeq1.45\\%$, TRG=$0.6\\mathrm{V}$"
     ]
    },
    {
     "cell_type": "code",
     "collapsed": false,
     "input": [
      "acq= np.load('./data/acq150615z02.npy.npz')\n",
      "taus= tauAMCz(acq)\n",
      "n, bins, patches= plt.hist(taus, bins=120)"
     ],
     "language": "python",
     "metadata": {},
     "outputs": [
      {
       "metadata": {},
       "output_type": "display_data",
       "png": "[encoded data removed]",
       "text": [
        "<matplotlib.figure.Figure at 0x7f1c2564ba90>"
       ]
      }
     ],
     "prompt_number": 55
    },
    {
     "cell_type": "code",
     "collapsed": false,
     "input": [
      "intermedio = np.ma.masked_greater(taus, bins[6])\n",
      "primerCampana= intermedio.compressed()\n",
      "n_i, bins_i, patches_i= plt.hist(primerCampana, bins=20)\n",
      "primerCampana.size, primerCampana.mean(), errorEstandard(primerCampana)"
     ],
     "language": "python",
     "metadata": {},
     "outputs": [
      {
       "metadata": {},
       "output_type": "pyout",
       "prompt_number": 56,
       "text": [
        "(1666, 1.2263865546218502e-07, 3.0978399425262784e-10)"
       ]
      },
      {
       "metadata": {},
       "output_type": "display_data",
       "png": "[encoded data removed]",
       "text": [
        "<matplotlib.figure.Figure at 0x7f1c254dbb70>"
       ]
      }
     ],
     "prompt_number": 56
    },
    {
     "cell_type": "heading",
     "level": 6,
     "metadata": {},
     "source": [
      "acq150615z03: CFP-35, 2560 pulsos, $P=4.000\\mathrm{\\frac{kgf}{cm^2}}$ (relativa), $\\mathrm{N_2/Ar}\\simeq1.45\\%$, TRG=$0.6\\mathrm{V}$"
     ]
    },
    {
     "cell_type": "code",
     "collapsed": false,
     "input": [
      "acq= np.load('./data/acq150615z03.npy.npz')\n",
      "taus= tauAMCz(acq)\n",
      "n, bins, patches= plt.hist(taus, bins=120)"
     ],
     "language": "python",
     "metadata": {},
     "outputs": [
      {
       "metadata": {},
       "output_type": "display_data",
       "png": "[encoded data removed]",
       "text": [
        "<matplotlib.figure.Figure at 0x7f1c2565d630>"
       ]
      }
     ],
     "prompt_number": 57
    },
    {
     "cell_type": "code",
     "collapsed": false,
     "input": [
      "intermedio = np.ma.masked_greater(taus, bins[6])\n",
      "primerCampana= intermedio.compressed()\n",
      "n_i, bins_i, patches_i= plt.hist(primerCampana, bins=20)\n",
      "primerCampana.size, primerCampana.mean(), errorEstandard(primerCampana)"
     ],
     "language": "python",
     "metadata": {},
     "outputs": [
      {
       "metadata": {},
       "output_type": "pyout",
       "prompt_number": 58,
       "text": [
        "(1667, 1.2202879424115196e-07, 7.2804866464083713e-11)"
       ]
      },
      {
       "metadata": {},
       "output_type": "display_data",
       "png": "[encoded data removed]",
       "text": [
        "<matplotlib.figure.Figure at 0x7f1c24fa4b70>"
       ]
      }
     ],
     "prompt_number": 58
    },
    {
     "cell_type": "heading",
     "level": 6,
     "metadata": {},
     "source": [
      "acq150615z04: CFP-35, 2560 pulsos, $P=4.000\\mathrm{\\frac{kgf}{cm^2}}$ (relativa), $\\mathrm{N_2/Ar}\\simeq1.45\\%$, TRG=$0.6\\mathrm{V}$"
     ]
    },
    {
     "cell_type": "code",
     "collapsed": false,
     "input": [
      "acq= np.load('./data/acq150615z04.npy.npz')\n",
      "taus= tauAMCz(acq)\n",
      "n, bins, patches= plt.hist(taus, bins=120)"
     ],
     "language": "python",
     "metadata": {},
     "outputs": [
      {
       "metadata": {},
       "output_type": "display_data",
       "png": "[encoded data removed]",
       "text": [
        "<matplotlib.figure.Figure at 0x7f1c251a9668>"
       ]
      }
     ],
     "prompt_number": 60
    },
    {
     "cell_type": "code",
     "collapsed": false,
     "input": [
      "intermedio = np.ma.masked_greater(taus, bins[6])\n",
      "primerCampana= intermedio.compressed()\n",
      "n_i, bins_i, patches_i= plt.hist(primerCampana, bins=20)\n",
      "primerCampana.size, primerCampana.mean(), errorEstandard(primerCampana)"
     ],
     "language": "python",
     "metadata": {},
     "outputs": [
      {
       "metadata": {},
       "output_type": "pyout",
       "prompt_number": 61,
       "text": [
        "(1708, 1.2183489461358317e-07, 2.7027736758582555e-10)"
       ]
      },
      {
       "metadata": {},
       "output_type": "display_data",
       "png": "[encoded data removed]",
       "text": [
        "<matplotlib.figure.Figure at 0x7f1c24fb1898>"
       ]
      }
     ],
     "prompt_number": 61
    },
    {
     "cell_type": "heading",
     "level": 6,
     "metadata": {},
     "source": [
      "acq150615z05: CFP-35, 2560 pulsos, $P=4.000\\mathrm{\\frac{kgf}{cm^2}}$ (relativa), $\\mathrm{N_2/Ar}\\simeq1.45\\%$, TRG=$0.6\\mathrm{V}$"
     ]
    },
    {
     "cell_type": "code",
     "collapsed": false,
     "input": [
      "acq= np.load('./data/acq150615z05.npy.npz')\n",
      "taus= tauAMCz(acq)\n",
      "n, bins, patches= plt.hist(taus, bins=120)"
     ],
     "language": "python",
     "metadata": {},
     "outputs": [
      {
       "metadata": {},
       "output_type": "display_data",
       "png": "[encoded data removed]",
       "text": [
        "<matplotlib.figure.Figure at 0x7f1c24f8e668>"
       ]
      }
     ],
     "prompt_number": 63
    },
    {
     "cell_type": "code",
     "collapsed": false,
     "input": [
      "intermedio = np.ma.masked_greater(taus, bins[6])\n",
      "primerCampana= intermedio.compressed()\n",
      "n_i, bins_i, patches_i= plt.hist(primerCampana, bins=20)\n",
      "primerCampana.size, primerCampana.mean(), errorEstandard(primerCampana)"
     ],
     "language": "python",
     "metadata": {},
     "outputs": [
      {
       "metadata": {},
       "output_type": "pyout",
       "prompt_number": 64,
       "text": [
        "(1696, 1.2203125000000018e-07, 2.4216976378054314e-10)"
       ]
      },
      {
       "metadata": {},
       "output_type": "display_data",
       "png": "[encoded data removed]",
       "text": [
        "<matplotlib.figure.Figure at 0x7f1c2506bd68>"
       ]
      }
     ],
     "prompt_number": 64
    },
    {
     "cell_type": "heading",
     "level": 6,
     "metadata": {},
     "source": [
      "acq150615z06: CFP-35, 2560 pulsos, $P=4.000\\mathrm{\\frac{kgf}{cm^2}}$ (relativa), $\\mathrm{N_2/Ar}\\simeq1.45\\%$, TRG=$0.6\\mathrm{V}$"
     ]
    },
    {
     "cell_type": "code",
     "collapsed": false,
     "input": [
      "acq= np.load('./data/acq150615z06.npy.npz')\n",
      "taus= tauAMCz(acq)\n",
      "n, bins, patches= plt.hist(taus, bins=120)"
     ],
     "language": "python",
     "metadata": {},
     "outputs": [
      {
       "metadata": {},
       "output_type": "display_data",
       "png": "[encoded data removed]",
       "text": [
        "<matplotlib.figure.Figure at 0x7f1c24d96320>"
       ]
      }
     ],
     "prompt_number": 65
    },
    {
     "cell_type": "code",
     "collapsed": false,
     "input": [
      "intermedio = np.ma.masked_greater(taus, bins[6])\n",
      "primerCampana= intermedio.compressed()\n",
      "n_i, bins_i, patches_i= plt.hist(primerCampana, bins=20)\n",
      "primerCampana.size, primerCampana.mean(), errorEstandard(primerCampana)"
     ],
     "language": "python",
     "metadata": {},
     "outputs": [
      {
       "metadata": {},
       "output_type": "pyout",
       "prompt_number": 66,
       "text": [
        "(1700, 1.2167117647058833e-07, 8.9078415965233361e-11)"
       ]
      },
      {
       "metadata": {},
       "output_type": "display_data",
       "png": "[encoded data removed]",
       "text": [
        "<matplotlib.figure.Figure at 0x7f1c25456320>"
       ]
      }
     ],
     "prompt_number": 66
    },
    {
     "cell_type": "heading",
     "level": 6,
     "metadata": {},
     "source": [
      "acq150615z07: CFP-35, 2560 pulsos, $P=4.000\\mathrm{\\frac{kgf}{cm^2}}$ (relativa), $\\mathrm{N_2/Ar}\\simeq1.45\\%$, TRG=$0.6\\mathrm{V}$"
     ]
    },
    {
     "cell_type": "code",
     "collapsed": false,
     "input": [
      "acq= np.load('./data/acq150615z07.npy.npz')\n",
      "taus= tauAMCz(acq)\n",
      "n, bins, patches= plt.hist(taus, bins=120)"
     ],
     "language": "python",
     "metadata": {},
     "outputs": [
      {
       "metadata": {},
       "output_type": "display_data",
       "png": "[encoded data removed]",
       "text": [
        "<matplotlib.figure.Figure at 0x7f1c250ec7b8>"
       ]
      }
     ],
     "prompt_number": 68
    },
    {
     "cell_type": "code",
     "collapsed": false,
     "input": [
      "intermedio = np.ma.masked_greater(taus, bins[6])\n",
      "primerCampana= intermedio.compressed()\n",
      "n_i, bins_i, patches_i= plt.hist(primerCampana, bins=20)\n",
      "primerCampana.size, primerCampana.mean(), errorEstandard(primerCampana)"
     ],
     "language": "python",
     "metadata": {},
     "outputs": [
      {
       "metadata": {},
       "output_type": "pyout",
       "prompt_number": 69,
       "text": [
        "(1678, 1.2126340882002373e-07, 3.4835460126680737e-10)"
       ]
      },
      {
       "metadata": {},
       "output_type": "display_data",
       "png": "[encoded data removed]",
       "text": [
        "<matplotlib.figure.Figure at 0x7f1c24dba7b8>"
       ]
      }
     ],
     "prompt_number": 69
    },
    {
     "cell_type": "heading",
     "level": 6,
     "metadata": {},
     "source": [
      "acq150615z08: CFP-35, 2560 pulsos, $P=4.000\\mathrm{\\frac{kgf}{cm^2}}$ (relativa), $\\mathrm{N_2/Ar}\\simeq1.45\\%$, TRG=$0.6\\mathrm{V}$"
     ]
    },
    {
     "cell_type": "code",
     "collapsed": false,
     "input": [
      "acq= np.load('./data/acq150615z08.npy.npz')\n",
      "taus= tauAMCz(acq)\n",
      "n, bins, patches= plt.hist(taus, bins=120)"
     ],
     "language": "python",
     "metadata": {},
     "outputs": [
      {
       "metadata": {},
       "output_type": "display_data",
       "png": "[encoded data removed]",
       "text": [
        "<matplotlib.figure.Figure at 0x7f1c2514f7f0>"
       ]
      }
     ],
     "prompt_number": 70
    },
    {
     "cell_type": "code",
     "collapsed": false,
     "input": [
      "intermedio = np.ma.masked_greater(taus, bins[6])\n",
      "primerCampana= intermedio.compressed()\n",
      "n_i, bins_i, patches_i= plt.hist(primerCampana, bins=20)\n",
      "primerCampana.size, primerCampana.mean(), errorEstandard(primerCampana)"
     ],
     "language": "python",
     "metadata": {},
     "outputs": [
      {
       "metadata": {},
       "output_type": "pyout",
       "prompt_number": 71,
       "text": [
        "(1693, 1.216934435912579e-07, 8.9803956225937869e-11)"
       ]
      },
      {
       "metadata": {},
       "output_type": "display_data",
       "png": "[encoded data removed]",
       "text": [
        "<matplotlib.figure.Figure at 0x7f1c24e44b38>"
       ]
      }
     ],
     "prompt_number": 71
    }
   ],
   "metadata": {}
  }
 ]
}