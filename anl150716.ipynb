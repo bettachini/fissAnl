{
 "metadata": {
  "name": "",
  "signature": "sha256:5de18268194beb01b5d1de135444443c23b0414edc3500e93e4da8d44f4555c1"
 },
 "nbformat": 3,
 "nbformat_minor": 0,
 "worksheets": [
  {
   "cells": [
    {
     "cell_type": "code",
     "collapsed": false,
     "input": [
      "import matplotlib\n",
      "import numpy as np\n",
      "import matplotlib.pyplot as plt\n",
      "%matplotlib inline\n",
      "# coding=utf-8"
     ],
     "language": "python",
     "metadata": {},
     "outputs": [],
     "prompt_number": 2
    },
    {
     "cell_type": "heading",
     "level": 1,
     "metadata": {},
     "source": [
      "Risetime - Funciones an\u00e1lisis adquisici\u00f3n - descartan por ruido nivel base"
     ]
    },
    {
     "cell_type": "code",
     "collapsed": false,
     "input": [
      "def baseAcq(acqFile, prop=0.25):\n",
      "    '''\n",
      "    (array, float) -> array\n",
      "    \n",
      "    De la primer fracci\u00f3n prop de ambos canales de todas las adquisiciones en acqFile,\n",
      "    obtiene el promedio y dispersi\u00f3n que se asume como nivel de base\n",
      "    grProm[0]: promedio ch1, grProm[1]: promedio ch2,\n",
      "    grProm[2]: desviaci\u00f3n estandard ch1, grProm[3]: desviaci\u00f3n estandard ch2\n",
      "    '''\n",
      "    messungenZahl= acqFile.shape\n",
      "    erstePunkten= int(messungenZahl[1]* prop)\n",
      "    prom= np.zeros([int((messungenZahl[0]- 1)/ 2), 4])\n",
      "    for i in range(1, messungenZahl[0], 2):\n",
      "        ix= int((i-1)/2)\n",
      "        ch1Erste= acqFile[i][0:erstePunkten-1]\n",
      "        ch2Erste= acqFile[i+1][0:erstePunkten-1]\n",
      "        prom[ix,0]= ch1Erste.mean()\n",
      "        prom[ix,1]= ch2Erste.mean()\n",
      "        prom[ix,2]= ch1Erste.std()\n",
      "        prom[ix,3]= ch2Erste.std()\n",
      "    return prom\n",
      "\n",
      "\n",
      "def baseMeas2(Meas2, messungenZahl, prop=0.25):\n",
      "    '''\n",
      "    (array, array, float) -> array\n",
      "    \n",
      "    De la primer fracci\u00f3n prop de ambos canales en Meas2,\n",
      "    obtiene el promedio y dispersi\u00f3n que se asume como nivel de base\n",
      "    grProm[0]: promedio ch1, grProm[1]: promedio ch2,\n",
      "    grProm[2]: desviaci\u00f3n estandard ch1, grProm[3]: desviaci\u00f3n estandard ch2\n",
      "    '''\n",
      "    erstePunkten= int(messungenZahl[1]* prop)\n",
      "    ch1Erste= Meas2[0][0:erstePunkten-1]\n",
      "    ch2Erste= Meas2[1][0:erstePunkten-1]\n",
      "    return np.array([ch1Erste.mean(), ch2Erste.mean(), ch1Erste.std(), ch2Erste.std() ] )\n",
      "\n",
      "\n",
      "def desvioEstandardCuasiNoSesgado(datos):\n",
      "    '''\n",
      "    Estimador cuasi no sesgado de la desviaci\u00f3n estandar.\n",
      "    https://en.wikipedia.org/wiki/Unbiased_estimation_of_standard_deviation\n",
      "    '''\n",
      "    media= np.mean(datos)\n",
      "    suma=0\n",
      "    for i in datos:\n",
      "        aux= (datos[i]- media)\n",
      "        suma+= aux**2\n",
      "    desv= np.sqrt(suma/( np.size(datos)- 1.5) ) \n",
      "    return desv\n",
      "\n",
      "\n",
      "def errorEstandard(datos):\n",
      "    '''\n",
      "    Estimador de la desviaci\u00f3n estandar del promedio.\n",
      "    Usa la desviaci\u00f3n estandar de la poblaci\u00f3n y la divide por la ra\u00edz del n\u00famero de elementos en la poblaci\u00f3n.\n",
      "    https://en.wikipedia.org/wiki/Standard_error\n",
      "    '''\n",
      "    return desvioEstandardCuasiNoSesgado(datos)/ np.sqrt(np.size(datos))\n",
      "\n",
      "    \n",
      "def tauCeti3e(T, Meas2, messungenZahl, prop, rechazo=0.1):\n",
      "    '''\n",
      "    Calcula \u00edndices risetime como tiempo entre 10% y 90% de excursi\u00f3n entre nivel de base y m\u00e1ximo\n",
      "   \n",
      "    Meas2: array (2,:) con Meas2[0] canal 1, Meas2[0] canal 2, producto de np.vstack\n",
      "    baseMeas2: base(Meas2)\n",
      "    '''\n",
      "    bMeas2= baseMeas2(Meas2, messungenZahl, prop) # niveles base\n",
      "    \n",
      "    if ((bMeas2[3])>np.abs(bMeas2[1]* rechazo)):\n",
      "        return np.array([0, 0 ])\n",
      "    else:\n",
      "        maxIx= (Meas2[0].argmax(), Meas2[1].argmax() ) # \u00edndice m\u00e1ximo\n",
      "        # m\u00e1ximo promediado cercano\n",
      "        rangoCercano= 20 # tres lecturas a izq y derecha\n",
      "        maxCH1= (Meas2[0][maxIx[0]- rangoCercano: maxIx[0]+ rangoCercano]).mean()\n",
      "        maxCH2= (Meas2[1][maxIx[1]- rangoCercano: maxIx[1]+ rangoCercano]).mean()\n",
      "        # diferencia m\u00e1ximo- base\n",
      "        deltaV= np.array([maxCH1- bMeas2[0],maxCH2- bMeas2[1]]) # usa promediado cercano\n",
      "        # Diferencias de potencial para 10%, 90% de excursi\u00f3n\n",
      "        v10= bMeas2[0:2]+ 0.1* deltaV\n",
      "        v90= bMeas2[0:2]+ 0.9* deltaV\n",
      "        # \u00cdndices para primer potencial del pulso que exceda 10%, y \u00faltimo por debajo 90% \n",
      "        ixTau= np.array([maxIx[0], maxIx[1], maxIx[0], maxIx[1]])\n",
      "        while (Meas2[0,ixTau[0]]> v10[0]):\n",
      "            ixTau[0]-= 1\n",
      "        while (Meas2[1,ixTau[1]]> v10[1]):\n",
      "            ixTau[1]-= 1\n",
      "        while (Meas2[0,ixTau[2]]> v90[0]):\n",
      "            ixTau[2]-= 1\n",
      "        while (Meas2[1,ixTau[3]]> v90[1]):\n",
      "            ixTau[3]-= 1\n",
      "        return np.array([T[ixTau[2]]- T[ixTau[0]], T[ixTau[3]]- T[ixTau[1]] ])\n",
      "\n",
      "\n",
      "def tauAMCz3e(npzData, prop= 0.25):\n",
      "    '''\n",
      "    Vectores risetime canal AMC de archivo acq comprimido\n",
      "    \n",
      "    npzData= numpy.lib.npyio.NpzFile\n",
      "    prop= porcentaje inferior del canal a promediar para obtener nivel de base     \n",
      "    '''\n",
      "    FLUC= npzData['ch1']\n",
      "    AMC= npzData['ch2']\n",
      "\n",
      "    messungenZahl= AMC.shape\n",
      "\n",
      "    # tiempo\n",
      "    T= npzData['zeit']\n",
      "\n",
      "    tauAMC= np.empty([0, 1])\n",
      "    i=0\n",
      "    q=0\n",
      "    while (i<(messungenZahl[0]- q ) ):\n",
      "        Meas2= np.array([FLUC[i+q], AMC[i+q] ] )\n",
      "        tauAMCi= tauCeti3e(T, Meas2, messungenZahl, prop)[1]\n",
      "        if (tauAMCi!=0):\n",
      "            i+=1\n",
      "            tauAMC= np.append(tauAMC, tauAMCi)\n",
      "        else:\n",
      "            q+=1\n",
      "    return tauAMC\n",
      "\n",
      "\n",
      "def histo3e(fileName, binHist=8):\n",
      "    path= '/oldhome/vbettachini/documents/cnea/campbell/acquisition/data/'\n",
      "    acq= np.load(path+ fileName)\n",
      "    taus= tauAMCz3e(acq)\n",
      "    fig = plt.figure(figsize=(18,5))  # an empty figure with no axes\n",
      "    ax_lst= fig.add_subplot(1,2,2)\n",
      "    n, bins, patches= ax_lst.hist(taus, bins=120)\n",
      "    ax_lst.set_ylabel('Cuentas')\n",
      "    ax_lst.set_xlabel('Tau [ns]')\n",
      "    intermedio = np.ma.masked_greater(taus, bins[binHist] )\n",
      "    primerCampana= intermedio.compressed()\n",
      "    ax_lst2= fig.add_subplot(1,2,1)\n",
      "    ax_lst2.set_ylabel('Cuentas')\n",
      "    ax_lst2.set_xlabel('Tau [ns]')\n",
      "    n_i, bins_i, patches_i= ax_lst2.hist(primerCampana, bins=20)\n",
      "    print (primerCampana.size, primerCampana.mean(), errorEstandard(primerCampana) )"
     ],
     "language": "python",
     "metadata": {},
     "outputs": [],
     "prompt_number": 3
    },
    {
     "cell_type": "heading",
     "level": 1,
     "metadata": {},
     "source": [
      "Graficaci\u00f3n funciones"
     ]
    },
    {
     "cell_type": "code",
     "collapsed": false,
     "input": [
      "def darstellungNurZwei(T, Meas2, sav= None):\n",
      "    '''\n",
      "    T: times vector\n",
      "    Meas2: Both channels 2D array\n",
      "    sav: plot filename (eps)\n",
      "    '''\n",
      "        \n",
      "    fig, (ax0, ax1) = plt.subplots(nrows=2, sharex=True)\n",
      "    fig.set_size_inches(10,8)\n",
      "    fig.subplots_adjust(hspace=0.000)\n",
      "\n",
      "    ax0.plot(T, Meas2[0,:], 'y')\n",
      "    # Make the y-axis label and tick labels match the line color.\n",
      "    ax0.set_ylabel('ch 1 [V]', color='y')\n",
      "    ax0.grid(True)\n",
      "\n",
      "    ax1.plot(T, Meas2[1,:], 'c')\n",
      "    ax1.set_ylabel('ch 2 [V]', color='c')\n",
      "    ax1.set_xlabel('tiempo [s]')\n",
      "    ax1.grid(True)\n",
      "    \n",
      "    if (sav):\n",
      "        plt.savefig('./data/plots/'+ sav+ '.eps')\n",
      "    else:\n",
      "        plt.show()\n",
      "\n",
      "        \n",
      "def dertellungZ(npzFile, quelles=None):\n",
      "    '''\n",
      "    Grafica canal AMC y FLUC de archivo acq comprimido\n",
      "    \n",
      "    npzFile= numpy.lib.npyio.NpzFile\n",
      "    '''\n",
      "    path= '/oldhome/vbettachini/documents/cnea/campbell/acquisition/data/'\n",
      "    npzData= np.load(path+ npzFile)\n",
      "    FLUC= npzData['ch1']\n",
      "    AMC= npzData['ch2']\n",
      "\n",
      "    messungenZahl= AMC.shape\n",
      "\n",
      "    # tiempo\n",
      "    T= npzData['zeit']\n",
      "\n",
      "    tauAMC= np.empty([messungenZahl[0], 1])\n",
      "    if (quelles==None):\n",
      "        rangen= range( messungenZahl[0] )\n",
      "    else:\n",
      "        rangen= quelles\n",
      "    for i in rangen:\n",
      "        Meas2= np.array([FLUC[i], AMC[i] ] )\n",
      "        darstellungNurZwei(T, Meas2)"
     ],
     "language": "python",
     "metadata": {},
     "outputs": [],
     "prompt_number": 4
    },
    {
     "cell_type": "heading",
     "level": 1,
     "metadata": {},
     "source": [
      "Espectros - funciones"
     ]
    },
    {
     "cell_type": "code",
     "collapsed": false,
     "input": [
      "def leeOrtec(fileName):\n",
      "    '''\n",
      "    Entrada: archivo de texto generado por el GammaVision\n",
      "    Salida: array de enteros con n\u00famero de cuentas por canal\n",
      "    '''\n",
      "    # Lee archivo Ortec\n",
      "    path='/oldhome/vbettachini/documents/cnea/campbell/espectros/'\n",
      "    fl= open(path+fileName, 'r')\n",
      "    datos= fl.readlines()\n",
      "    fl.close()\n",
      "    datos= datos[26:] # descarta pre\u00e1mbulo\n",
      "    # transcribe cuentas a un array\n",
      "    cuentas= np.array([],dtype= np.dtype('int8'))\n",
      "    for linea in datos:\n",
      "        # print(linea)\n",
      "        intermedio= linea.split()\n",
      "        for i in intermedio[1:]:\n",
      "            cuentas= np.hstack(([cuentas, int(i) ] ) )\n",
      "    return cuentas\n",
      "\n",
      "\n",
      "def derstellungOrtec(filesList, leftI=0, rightI=150, norm=True):\n",
      "    fig = plt.figure(figsize=(10,5))  # an empty figure with no axes\n",
      "    ax_lst= fig.add_subplot(111)\n",
      "    ax_lst.grid()\n",
      "    ax_lst.set_xlim(leftI, rightI)\n",
      "    ax_lst.set_ylim(bottom=1E-3, top=2E-1)\n",
      "    ax_lst.set_xlabel('Canal')\n",
      "    if norm:\n",
      "        ax_lst.set_ylabel('Cuentas normalizadas')\n",
      "    else:\n",
      "        ax_lst.set_ylabel('Cuentas')\n",
      "    for fileName in filesList:\n",
      "        fileNameO= fileName+'.Txt'\n",
      "        erste= leeOrtec(fileNameO)\n",
      "        if norm:\n",
      "            ax_lst.semilogy(erste/erste.sum(), label= fileName)\n",
      "        else:\n",
      "            ax_lst.semilogy(erste, label= fileName)\n",
      "    ax_lst.legend()\n",
      "\n",
      "    \n",
      "def leeCanberreta(fileName):\n",
      "    '''\n",
      "    Este funciona\n",
      "    '''\n",
      "    import csv\n",
      "    extension= '.csv'\n",
      "    path='/oldhome/vbettachini/documents/cnea/campbell/espectros/canberreta/'\n",
      "    canal= np.array([], dtype='int8')\n",
      "    cuentas= np.array([], dtype='int8')\n",
      "    with open(path+ fileName+ extension) as csvfile:\n",
      "        lector = csv.reader(csvfile, delimiter='\\t')\n",
      "        for row in lector:\n",
      "            canal= np.append(canal, np.int(row[0]) )\n",
      "            cuentas= np.append(cuentas, np.int(row[1]) )\n",
      "        sale= np.vstack(([canal, cuentas ] ) )\n",
      "    return sale"
     ],
     "language": "python",
     "metadata": {},
     "outputs": [],
     "prompt_number": 5
    },
    {
     "cell_type": "heading",
     "level": 1,
     "metadata": {},
     "source": [
      "Re-an\u00e1lisis DC-045 - $\\mathrm{\\frac{P_{N_2}}{P_{abs}}}\\simeq 0\\%$"
     ]
    },
    {
     "cell_type": "markdown",
     "metadata": {},
     "source": [
      "Adquisiciones `acq150702z02` - `acq150702z04` y  `acq150703z05` - `acq150702z08` originalmente analizadas en `anl150702`."
     ]
    },
    {
     "cell_type": "code",
     "collapsed": false,
     "input": [
      "# Agregador\n",
      "path= './data/'\n",
      "fNS= 'acq150702z'\n",
      "fNE= '.npy.npz'\n",
      "taus= np.array([])\n",
      "for i in range(2,5):\n",
      "    fl= path+ fNS+ '0%d'%i+fNE\n",
      "    acq= np.load(fl)\n",
      "    taus= np.append(taus, tauAMCz3e(acq))\n",
      "    \n",
      "fNS= 'acq150703z'\n",
      "for i in range(5,9):\n",
      "    fl= path+ fNS+ '0%d'%i+fNE\n",
      "    acq= np.load(fl)\n",
      "    taus= np.append(taus, tauAMCz3e(acq))"
     ],
     "language": "python",
     "metadata": {},
     "outputs": [
      {
       "output_type": "stream",
       "stream": "stdout",
       "text": [
        "1294 1.65965996909e-07 1.67837983276e-10\n"
       ]
      },
      {
       "metadata": {},
       "output_type": "display_data",
       "png": "[encoded data removed]",
       "text": [
        "<matplotlib.figure.Figure at 0x7f29adb9afd0>"
       ]
      }
     ],
     "prompt_number": 15
    },
    {
     "cell_type": "code",
     "collapsed": false,
     "input": [
      "binHist= 52\n",
      "fig = plt.figure(figsize=(18,5))  # an empty figure with no axes\n",
      "ax_lst= fig.add_subplot(1,2,2)\n",
      "n, bins, patches= ax_lst.hist(taus, bins=120)\n",
      "ax_lst.set_ylabel('Cuentas')\n",
      "ax_lst.set_xlabel('Tau [ns]')\n",
      "intermedio = np.ma.masked_greater(taus, bins[binHist])\n",
      "primerCampana= intermedio.compressed()\n",
      "ax_lst2= fig.add_subplot(1,2,1)\n",
      "ax_lst2.set_ylabel('Cuentas')\n",
      "ax_lst2.set_xlabel('Tau [ns]')\n",
      "n_i, bins_i, patches_i= ax_lst2.hist(primerCampana, bins=20)\n",
      "print (primerCampana.size, primerCampana.mean(), errorEstandard(primerCampana) )"
     ],
     "language": "python",
     "metadata": {},
     "outputs": [
      {
       "output_type": "stream",
       "stream": "stdout",
       "text": [
        "34714 2.22002160512e-07 8.05213154853e-11\n"
       ]
      },
      {
       "metadata": {},
       "output_type": "display_data",
       "png": "[encoded data removed]",
       "text": [
        "<matplotlib.figure.Figure at 0x7f29adbc1b70>"
       ]
      }
     ],
     "prompt_number": 17
    },
    {
     "cell_type": "heading",
     "level": 1,
     "metadata": {},
     "source": [
      "CFP-35 - Adquisici\u00f3n $\\mathrm{\\frac{P_{N_2}}{P_{abs}}}\\simeq 1.5\\%$"
     ]
    },
    {
     "cell_type": "code",
     "collapsed": false,
     "input": [
      "# Agregador\n",
      "path= './data/'\n",
      "fNS= 'acq150716z'\n",
      "fNE= '.npy.npz'\n",
      "taus= np.array([])\n",
      "for i in range(1,2):\n",
      "    fl= path+ fNS+ '0%d'%i+fNE\n",
      "    acq= np.load(fl)\n",
      "    taus= np.append(taus, tauAMCz3e(acq))\n",
      "binHist= 22\n",
      "fig = plt.figure(figsize=(18,5))  # an empty figure with no axes\n",
      "ax_lst= fig.add_subplot(1,2,2)\n",
      "n, bins, patches= ax_lst.hist(taus, bins=120)\n",
      "ax_lst.set_ylabel('Cuentas')\n",
      "ax_lst.set_xlabel('Tau [ns]')\n",
      "intermedio = np.ma.masked_greater(taus, bins[binHist])\n",
      "primerCampana= intermedio.compressed()\n",
      "ax_lst2= fig.add_subplot(1,2,1)\n",
      "ax_lst2.set_ylabel('Cuentas')\n",
      "ax_lst2.set_xlabel('Tau [ns]')\n",
      "n_i, bins_i, patches_i= ax_lst2.hist(primerCampana, bins=20)\n",
      "print (primerCampana.size, primerCampana.mean(), errorEstandard(primerCampana) )"
     ],
     "language": "python",
     "metadata": {},
     "outputs": [
      {
       "output_type": "stream",
       "stream": "stdout",
       "text": [
        "1231 4.72552396426e-08 8.96857180611e-11\n"
       ]
      },
      {
       "metadata": {},
       "output_type": "display_data",
       "png": "[encoded data removed]",
       "text": [
        "<matplotlib.figure.Figure at 0x7f29cec682e8>"
       ]
      }
     ],
     "prompt_number": 8
    },
    {
     "cell_type": "markdown",
     "metadata": {},
     "source": [
      "Esto es fruta."
     ]
    },
    {
     "cell_type": "code",
     "collapsed": false,
     "input": [
      "# Agregador\n",
      "path= './data/'\n",
      "fNS= 'acq150716z'\n",
      "fNE= '.npy.npz'\n",
      "taus= np.array([])\n",
      "for i in range(4,6):\n",
      "    fl= path+ fNS+ '0%d'%i+fNE\n",
      "    acq= np.load(fl)\n",
      "    taus= np.append(taus, tauAMCz3e(acq))\n",
      "binHist= 22\n",
      "fig = plt.figure(figsize=(18,5))  # an empty figure with no axes\n",
      "ax_lst= fig.add_subplot(1,2,2)\n",
      "n, bins, patches= ax_lst.hist(taus, bins=120)\n",
      "ax_lst.set_ylabel('Cuentas')\n",
      "ax_lst.set_xlabel('Tau [ns]')\n",
      "intermedio = np.ma.masked_greater(taus, bins[binHist])\n",
      "primerCampana= intermedio.compressed()\n",
      "ax_lst2= fig.add_subplot(1,2,1)\n",
      "ax_lst2.set_ylabel('Cuentas')\n",
      "ax_lst2.set_xlabel('Tau [ns]')\n",
      "n_i, bins_i, patches_i= ax_lst2.hist(primerCampana, bins=20)\n",
      "print (primerCampana.size, primerCampana.mean(), errorEstandard(primerCampana) )"
     ],
     "language": "python",
     "metadata": {},
     "outputs": [
      {
       "output_type": "stream",
       "stream": "stdout",
       "text": [
        "2487 1.25110172899e-07 4.23263829927e-11\n"
       ]
      },
      {
       "metadata": {},
       "output_type": "display_data",
       "png": "[encoded data removed]",
       "text": [
        "<matplotlib.figure.Figure at 0x7f29ad0d2b38>"
       ]
      }
     ],
     "prompt_number": 19
    }
   ],
   "metadata": {}
  }
 ]
}