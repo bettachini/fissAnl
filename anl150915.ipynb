{
 "metadata": {
  "name": "",
  "signature": "sha256:254adaed4c6de0dbc4fb4849029349a6d61324b025242fa9542efb596f5899b0"
 },
 "nbformat": 3,
 "nbformat_minor": 0,
 "worksheets": [
  {
   "cells": [
    {
     "cell_type": "code",
     "collapsed": false,
     "input": [
      "import matplotlib\n",
      "import numpy as np\n",
      "import matplotlib.pyplot as plt\n",
      "%matplotlib inline\n",
      "# coding=utf-8"
     ],
     "language": "python",
     "metadata": {},
     "outputs": [],
     "prompt_number": 1
    },
    {
     "cell_type": "heading",
     "level": 2,
     "metadata": {},
     "source": [
      "Risetime - Funciones an\u00e1lisis adquisici\u00f3n - descartan por ruido nivel base"
     ]
    },
    {
     "cell_type": "code",
     "collapsed": false,
     "input": [
      "def baseMeas2(Meas2, messungenZahl, prop=0.25):\n",
      "    '''\n",
      "    (array, array, float) -> array\n",
      "    \n",
      "    De la primer fracci\u00f3n prop de ambos canales en Meas2,\n",
      "    obtiene el promedio y dispersi\u00f3n que se asume como nivel de base\n",
      "    \n",
      "    [promedio ch1, promedio ch2, desv.std ch1, desv.std ch2]\n",
      "    '''\n",
      "    erstePunkten= int(messungenZahl[1]* prop)\n",
      "    ch1Erste= Meas2[0][0:erstePunkten-1]\n",
      "    ch2Erste= Meas2[1][0:erstePunkten-1]\n",
      "    return np.array([ch1Erste.mean(), ch2Erste.mean(), ch1Erste.std(), ch2Erste.std() ] )\n",
      "\n",
      "\n",
      "def desvioEstandardCuasiNoSesgado(datos):\n",
      "    '''\n",
      "    Estimador cuasi no sesgado de la desviaci\u00f3n estandar.\n",
      "    https://en.wikipedia.org/wiki/Unbiased_estimation_of_standard_deviation\n",
      "    '''\n",
      "    media= np.mean(datos)\n",
      "    suma=0\n",
      "    for i in datos:\n",
      "        aux= (datos[i]- media)\n",
      "        suma+= aux**2\n",
      "    desv= np.sqrt(suma/( np.size(datos)- 1.5) ) \n",
      "    return desv\n",
      "\n",
      "\n",
      "def errorEstandard(datos):\n",
      "    '''\n",
      "    Estimador de la desviaci\u00f3n estandar del promedio.\n",
      "    Usa la desviaci\u00f3n estandar de la poblaci\u00f3n y la divide por la ra\u00edz del n\u00famero de elementos en la poblaci\u00f3n.\n",
      "    https://en.wikipedia.org/wiki/Standard_error\n",
      "    '''\n",
      "    return desvioEstandardCuasiNoSesgado(datos)/ np.sqrt(np.size(datos))\n",
      "\n",
      "    \n",
      "def tauCeti3e(T, Meas2, messungenZahl, prop, rechazo=0.1):\n",
      "    '''\n",
      "    Calcula \u00edndices risetime como tiempo entre 10% y 90% de excursi\u00f3n entre nivel de base y m\u00e1ximo\n",
      "   \n",
      "    Meas2: array (2,:) con Meas2[0] canal 1, Meas2[0] canal 2, producto de np.vstack\n",
      "    baseMeas2: base(Meas2)\n",
      "    '''\n",
      "    bMeas2= baseMeas2(Meas2, messungenZahl, prop) # niveles base\n",
      "    \n",
      "    if ((bMeas2[3])>np.abs(bMeas2[1]* rechazo)):\n",
      "        return np.array([0, 0 ])\n",
      "    else:\n",
      "        maxIx= (Meas2[0].argmax(), Meas2[1].argmax() ) # \u00edndice m\u00e1ximo\n",
      "        # m\u00e1ximo promediado cercano\n",
      "        rangoCercano= 20 # tres lecturas a izq y derecha\n",
      "        maxCH1= (Meas2[0][maxIx[0]- rangoCercano: maxIx[0]+ rangoCercano]).mean()\n",
      "        maxCH2= (Meas2[1][maxIx[1]- rangoCercano: maxIx[1]+ rangoCercano]).mean()\n",
      "        # diferencia m\u00e1ximo- base\n",
      "        deltaV= np.array([maxCH1- bMeas2[0],maxCH2- bMeas2[1]]) # usa promediado cercano\n",
      "        # Diferencias de potencial para 10%, 90% de excursi\u00f3n\n",
      "        v10= bMeas2[0:2]+ 0.1* deltaV\n",
      "        v90= bMeas2[0:2]+ 0.9* deltaV\n",
      "        # \u00cdndices para primer potencial del pulso que exceda 10%, y \u00faltimo por debajo 90% \n",
      "        ixTau= np.array([maxIx[0], maxIx[1], maxIx[0], maxIx[1]])\n",
      "        while (Meas2[0,ixTau[0]]> v10[0]):\n",
      "            ixTau[0]-= 1\n",
      "        while (Meas2[1,ixTau[1]]> v10[1]):\n",
      "            ixTau[1]-= 1\n",
      "        while (Meas2[0,ixTau[2]]> v90[0]):\n",
      "            ixTau[2]-= 1\n",
      "        while (Meas2[1,ixTau[3]]> v90[1]):\n",
      "            ixTau[3]-= 1\n",
      "        return np.array([T[ixTau[2]]- T[ixTau[0]], T[ixTau[3]]- T[ixTau[1]] ])\n",
      "\n",
      "\n",
      "def tauAMCz3e(npzData, prop= 0.25):\n",
      "    '''\n",
      "    Vectores risetime canal AMC de archivo acq comprimido\n",
      "    \n",
      "    npzData= numpy.lib.npyio.NpzFile\n",
      "    prop= porcentaje inferior del canal a promediar para obtener nivel de base     \n",
      "    '''\n",
      "    FLUC= npzData['ch1']\n",
      "    AMC= npzData['ch2']\n",
      "    messungenZahl= AMC.shape\n",
      "    # tiempo\n",
      "    T= npzData['zeit']\n",
      "    tauAMC= np.empty([0, 1])\n",
      "    i=0\n",
      "    q=0\n",
      "    cucho= (messungenZahl[0]- q- 1 )\n",
      "    while (i< cucho ):\n",
      "        Meas2= np.array([FLUC[i+q], AMC[i+q] ] )\n",
      "        tauAMCi= tauCeti3e(T, Meas2, messungenZahl, prop)[1]\n",
      "        if (tauAMCi!=0):\n",
      "            i+=1\n",
      "            tauAMC= np.append(tauAMC, tauAMCi)\n",
      "        else:\n",
      "            q+=1\n",
      "        cucho= (messungenZahl[0]- q- 1 )\n",
      "    return tauAMC"
     ],
     "language": "python",
     "metadata": {},
     "outputs": [],
     "prompt_number": 20
    },
    {
     "cell_type": "heading",
     "level": 2,
     "metadata": {},
     "source": [
      "Histograma - Funciones"
     ]
    },
    {
     "cell_type": "code",
     "collapsed": false,
     "input": [
      "def dataPathFile(mes, dia, acq):\n",
      "    path= './data/'\n",
      "    fNS= 'acq15'+ '{:02n}'.format(mes)+ '{:02n}'.format(dia)+ 'z'\n",
      "    fNE= '.npy.npz'\n",
      "    return path+ fNS+ '{:02n}'.format(acq)+fNE\n",
      "\n",
      "\n",
      "def agregadorTaus(mes, dia, rango):\n",
      "    taus= np.array([])\n",
      "    for i in rango:\n",
      "        acq= np.load(dataPathFile(mes, dia, i))\n",
      "        taus= np.append(taus, tauAMCz3e(acq))\n",
      "    return taus\n",
      "\n",
      "\n",
      "def binner(taus, binHist=40):\n",
      "    fig = plt.figure(figsize=(18,5))  # an empty figure with no axes\n",
      "    ax_lst= fig.add_subplot(1,2,2)\n",
      "    n, bins, patches= ax_lst.hist(taus, bins=120)\n",
      "    ax_lst.set_ylabel('Cuentas')\n",
      "    ax_lst.set_xlabel('Tau [ns]')\n",
      "    intermedio = np.ma.masked_greater(taus, bins[binHist])\n",
      "    primerCampana= intermedio.compressed()\n",
      "    ax_lst2= fig.add_subplot(1,2,1)\n",
      "    ax_lst2.set_ylabel('Cuentas')\n",
      "    ax_lst2.set_xlabel('Tau [ns]')\n",
      "    n_i, bins_i, patches_i= ax_lst2.hist(primerCampana, bins=20)\n",
      "    return (primerCampana.size, primerCampana.mean(), errorEstandard(primerCampana) )"
     ],
     "language": "python",
     "metadata": {},
     "outputs": [],
     "prompt_number": 3
    },
    {
     "cell_type": "heading",
     "level": 1,
     "metadata": {},
     "source": [
      "Risetime vs. \u00e1rea AMC "
     ]
    },
    {
     "cell_type": "code",
     "collapsed": false,
     "input": [
      "def tauCeti3eAreaMax(T, Meas2, messungenZahl, prop, rechazo=0.1):\n",
      "    '''\n",
      "    Calcula \u00edndices risetime como tiempo entre 10% y 90% de excursi\u00f3n entre nivel de base y m\u00e1ximo.\n",
      "    Retorna area por sobre nivel de base de AMC entre 10% a izquierda y derecha.\n",
      "   \n",
      "    Meas2: array (2,:) con Meas2[0] canal 1, Meas2[0] canal 2, producto de np.vstack\n",
      "    baseMeas2: base(Meas2)\n",
      "    '''\n",
      "    bMeas2= baseMeas2(Meas2, messungenZahl, prop) # niveles base\n",
      "    \n",
      "    if ((bMeas2[3])>np.abs(bMeas2[1]* rechazo)): # desvio standard AMC> nivel base * rechazo \n",
      "        return np.array([0, 0, 0, 0, 0 ]) # cuidar que tenga igual dimensi\u00f3n que salida\n",
      "    else:\n",
      "        maxIx= (Meas2[0].argmax(), Meas2[1].argmax() ) # \u00edndice m\u00e1ximo\n",
      "        # m\u00e1ximo promediado cercano\n",
      "        rangoCercano= 20 # tres lecturas a izq y derecha\n",
      "        maxCH1= (Meas2[0][maxIx[0]- rangoCercano: maxIx[0]+ rangoCercano]).mean()\n",
      "        maxCH2= (Meas2[1][maxIx[1]- rangoCercano: maxIx[1]+ rangoCercano]).mean()\n",
      "        # diferencia m\u00e1ximo- base\n",
      "        deltaV= np.array([maxCH1- bMeas2[0],maxCH2- bMeas2[1]]) # usa promediado cercano\n",
      "        # Diferencias de potencial para 10%, 90% de excursi\u00f3n\n",
      "        v10= bMeas2[0:2]+ 0.1* deltaV\n",
      "        v90= bMeas2[0:2]+ 0.9* deltaV\n",
      "        # \u00cdndices para primer potencial del pulso que exceda 10%, y \u00faltimo por debajo 90% \n",
      "        ixTau= np.array([maxIx[0], maxIx[1], maxIx[0], maxIx[1]])\n",
      "        while (Meas2[0,ixTau[0]]> v10[0]):\n",
      "            ixTau[0]-= 1\n",
      "        while (Meas2[1,ixTau[1]]> v10[1]):\n",
      "            ixTau[1]-= 1\n",
      "        while (Meas2[0,ixTau[2]]> v90[0]):\n",
      "            ixTau[2]-= 1\n",
      "        while (Meas2[1,ixTau[3]]> v90[1]):\n",
      "            ixTau[3]-= 1\n",
      "        # Area\n",
      "        ixAMC10ProzentRicht= maxIx[1] # empiezo por m\u00e1ximo\n",
      "        while (Meas2[1, ixAMC10ProzentRicht]> v10[1]):\n",
      "            ixAMC10ProzentRicht+= 1\n",
      "        # ixTau[1], maxIx[1], ixAMC10ProzentRicht\n",
      "        # hay que sumar diferencia AMC con este nivel desde el \u00edndice 10% izquierda hasta derecha\n",
      "        areaTotal= (AMC[ixTau[1]: ixAMC10ProzentRicht] - bMeas2[1]).sum()\n",
      "        areaSubida= (AMC[ixTau[1]: maxIx[1]] - bMeas2[1]).sum()\n",
      "        return np.array([T[ixTau[2]]- T[ixTau[0]], T[ixTau[3]]- T[ixTau[1]], areaTotal, areaSubida, maxCH2])"
     ],
     "language": "python",
     "metadata": {},
     "outputs": [],
     "prompt_number": 4
    },
    {
     "cell_type": "code",
     "collapsed": false,
     "input": [
      "def tauCeti3eAreaMax2(T, Meas2, messungenZahl, prop, rechazo=0.1):\n",
      "    '''\n",
      "    Calcula \u00edndices risetime como tiempo entre 10% y 90% de excursi\u00f3n entre nivel de base y m\u00e1ximo.\n",
      "    Retorna area por sobre nivel de base de AMC entre 10% a izquierda y derecha.\n",
      "   \n",
      "    Meas2: array (2,:) con Meas2[0] canal 1, Meas2[0] canal 2, producto de np.vstack\n",
      "    baseMeas2: base(Meas2)\n",
      "    '''\n",
      "    maxIx= (Meas2[0].argmax(), Meas2[1].argmax() ) # \u00edndice m\u00e1ximo\n",
      "    # m\u00e1ximo promediado cercano\n",
      "    rangoCercano= 20 # tres lecturas a izq y derecha\n",
      "    maxCH1= (Meas2[0][maxIx[0]- rangoCercano: maxIx[0]+ rangoCercano]).mean()\n",
      "    maxCH2= (Meas2[1][maxIx[1]- rangoCercano: maxIx[1]+ rangoCercano]).mean()   \n",
      "\n",
      "    bMeas2= baseMeas2(Meas2, messungenZahl, prop) # niveles base\n",
      "    \n",
      "    print((bMeas2[3]), np.abs((maxCH2- bMeas2[1] )* rechazo))\n",
      "    \n",
      "    if ((bMeas2[3])>np.abs((maxCH2- bMeas2[1] )* rechazo)): # desvio standard AMC> (m\u00e1ximo- nivel base) * rechazo \n",
      "        return np.array([0, 0, 0, 0, 0 ]) # cuidar que tenga igual dimensi\u00f3n que salida\n",
      "    else:\n",
      "        # diferencia m\u00e1ximo- base\n",
      "        deltaV= np.array([maxCH1- bMeas2[0],maxCH2- bMeas2[1]]) # usa promediado cercano\n",
      "        # Diferencias de potencial para 10%, 90% de excursi\u00f3n\n",
      "        v10= bMeas2[0:2]+ 0.1* deltaV\n",
      "        v90= bMeas2[0:2]+ 0.9* deltaV\n",
      "        # \u00cdndices para primer potencial del pulso que exceda 10%, y \u00faltimo por debajo 90% \n",
      "        ixTau= np.array([maxIx[0], maxIx[1], maxIx[0], maxIx[1]])\n",
      "        while (Meas2[0,ixTau[0]]> v10[0]):\n",
      "            ixTau[0]-= 1\n",
      "        while (Meas2[1,ixTau[1]]> v10[1]):\n",
      "            ixTau[1]-= 1\n",
      "        while (Meas2[0,ixTau[2]]> v90[0]):\n",
      "            ixTau[2]-= 1\n",
      "        while (Meas2[1,ixTau[3]]> v90[1]):\n",
      "            ixTau[3]-= 1\n",
      "        # Area\n",
      "        ixAMC10ProzentRicht= maxIx[1] # empiezo por m\u00e1ximo\n",
      "        while (Meas2[1, ixAMC10ProzentRicht]> v10[1]):\n",
      "            ixAMC10ProzentRicht+= 1\n",
      "        # ixTau[1], maxIx[1], ixAMC10ProzentRicht\n",
      "        # hay que sumar diferencia AMC con este nivel desde el \u00edndice 10% izquierda hasta derecha\n",
      "        areaTotal= (AMC[ixTau[1]: ixAMC10ProzentRicht] - bMeas2[1]).sum()\n",
      "        areaSubida= (AMC[ixTau[1]: maxIx[1]] - bMeas2[1]).sum()\n",
      "        return np.array([T[ixTau[2]]- T[ixTau[0]], T[ixTau[3]]- T[ixTau[1]], areaTotal, areaSubida, maxCH2])"
     ],
     "language": "python",
     "metadata": {},
     "outputs": [],
     "prompt_number": 49
    },
    {
     "cell_type": "code",
     "collapsed": false,
     "input": [
      "def cosaTest(npzData, prop=0.25):\n",
      "    T= npzData['zeit']\n",
      "    FLUC= npzData['ch1']\n",
      "    AMC= npzData['ch2']\n",
      "    messungenZahl= AMC.shape\n",
      "    numAdq= messungenZahl[0] # numero de adquisiciones en npzData\n",
      "    finales= np.empty([numAdq,5])\n",
      "    # parciales= np.empty([1,5]) # [tauAMCi, tauFLUCi, areaTotalAMCi, areaSubidaAMCi, maxAMCi]\n",
      "    validas=0\n",
      "    for adqActual in range(numAdq):\n",
      "        Meas2= np.array([FLUC[adqActual], AMC[adqActual] ] )\n",
      "        # print(Meas2)\n",
      "        try:\n",
      "            parciales= tauCeti3eAreaMax2(T, Meas2, messungenZahl, prop, rechazo=0.05)\n",
      "            # pasa= True\n",
      "        except:\n",
      "            parciales= np.zeros([1,5]) # ante error de no volver a nivel 10% -> descarta adquisici\u00f3n\n",
      "            # parciales[0]=0 # ante error de no volver a nivel 10% -> descarta adquisici\u00f3n\n",
      "            # pasa= False # ante error de no volver a nivel 10% -> descarta adquisici\u00f3n\n",
      "        # print(parciales, parciales[0])\n",
      "        # if (pasa):\n",
      "        if (parciales[0][0]!=0):\n",
      "            print(validas, parciales[0], parciales[3])\n",
      "            finales[validas]= parciales\n",
      "            validas+=1\n",
      "    finales= finales[0:-(numAdq-validas)]\n",
      "    return finales # [tauAMCi, tauFLUCi, areaTotalAMCi, areaSubidaAMCi, maxAMCi]"
     ],
     "language": "python",
     "metadata": {},
     "outputs": [],
     "prompt_number": 54
    },
    {
     "cell_type": "code",
     "collapsed": false,
     "input": [
      "# Ahora lo empaqueto\n",
      "def conversionV(npzData):\n",
      "    \"\"\" acq -> np.array: [ceroAMCPto, pasoVerticalAMCVoltPto, ceroFLUCPto, pasoVerticalFLUCVoltPto]\n",
      "\n",
      "    Da factores de conservi\u00f3n para de Meas2 con niveles en enteros obtener niveles en potencial el\u00e9ctrico.\n",
      "    e.g. potencialAMC= (Meas2[1,:]- ceroAMCPto)* pasoVerticalAMCVoltPto\n",
      "    \n",
      "    >>> conversionV(acq)\n",
      "    'olleh'\n",
      "    \"\"\"\n",
      "    # Constructivo del Tek 2002B\n",
      "    divVert= 8 # numero de divisiones verticales\n",
      "    divHoriz= 10\n",
      "    ptosVert= 2**8 # 8 bits definici\u00f3n vertical\n",
      "    ptosHoriz= 2500\n",
      "    # npZData.items() # lista los elementos en el archivo de aquisici\u00f3n en memoria\n",
      "    settingsList= npzData['settings'].tolist()\n",
      "    \n",
      "    # Vertical (potencial)\n",
      "    escalaFLUCVoltsDiv= settingsList['SCALE1'] # [V/div]\n",
      "    pasoVerticalFLUCVoltPto= escalaFLUCVoltsDiv* divVert/ ptosVert # [V/div]\n",
      "    escalaAMCVoltsDiv= settingsList['SCALE2'] # [V/div]\n",
      "    pasoVerticalAMCVoltPto= escalaAMCVoltsDiv* divVert/ ptosVert # [V/div]\n",
      "    ceroFLUCDiv= settingsList['POSITION1'] # [div]\n",
      "    ceroFLUCPto= ceroFLUCDiv* divVert/ ptosVert # [ptos]\n",
      "    ceroAMCDiv= settingsList['POSITION2'] # [div]\n",
      "    ceroAMCPto= ceroAMCDiv* ptosVert/ divVert # [ptos]\n",
      "    \n",
      "    return ceroAMCPto, pasoVerticalAMCVoltPto, ceroFLUCPto, pasoVerticalFLUCVoltPto"
     ],
     "language": "python",
     "metadata": {},
     "outputs": [],
     "prompt_number": 6
    },
    {
     "cell_type": "code",
     "collapsed": false,
     "input": [
      "def binMax(maxsCuentas, binHist=40):\n",
      "    ceroAMCPto, pasoVerticalAMCVoltPto, ceroFLUCPto, pasoVerticalFLUCVoltPto= conversionV(npzData)\n",
      "    potencialAMCMax= (maxsCuentas- ceroAMCPto)* pasoVerticalAMCVoltPto\n",
      "    \n",
      "    fig = plt.figure(figsize=(18,5))  # an empty figure with no axes\n",
      "    ax_lst= fig.add_subplot(1,2,2)\n",
      "    n, bins, patches= ax_lst.hist(potencialAMCMax, bins=120)\n",
      "    ax_lst.set_ylabel('Cuentas')\n",
      "    ax_lst.set_xlabel('M\u00e1ximo [V]')\n",
      "    intermedio = np.ma.masked_greater(potencialAMCMax, bins[binHist])\n",
      "    primerCampana= intermedio.compressed()\n",
      "    ax_lst2= fig.add_subplot(1,2,1)\n",
      "    ax_lst2.set_ylabel('Cuentas')\n",
      "    ax_lst2.set_xlabel('M\u00e1ximo [V]')\n",
      "    n_i, bins_i, patches_i= ax_lst2.hist(primerCampana, bins=20)\n",
      "    return (primerCampana.size, primerCampana.mean(), errorEstandard(primerCampana) )"
     ],
     "language": "python",
     "metadata": {},
     "outputs": [],
     "prompt_number": 7
    },
    {
     "cell_type": "code",
     "collapsed": false,
     "input": [
      "def agregadorTodo(mes, dia, rango):\n",
      "    alles= np.empty([])\n",
      "    for acqN in rango:\n",
      "        npzData= np.load(dataPathFile(mes, dia, acqN))\n",
      "        alles= np.vstack((alles, cosaTest(npzData) ) )\n",
      "    return alles"
     ],
     "language": "python",
     "metadata": {},
     "outputs": [],
     "prompt_number": 8
    },
    {
     "cell_type": "code",
     "collapsed": false,
     "input": [
      "def agregadorAMCMax(mes, dia, rango):\n",
      "    maxs= np.empty([])\n",
      "    for acqN in rango:\n",
      "        npzData= np.load(dataPathFile(mes, dia, acqN))\n",
      "        maxs= np.append(maxs, cosaTest(npzData)[:,4] )\n",
      "    return maxs"
     ],
     "language": "python",
     "metadata": {},
     "outputs": [],
     "prompt_number": 9
    },
    {
     "cell_type": "heading",
     "level": 1,
     "metadata": {},
     "source": [
      "Histogramas m\u00e1ximos"
     ]
    },
    {
     "cell_type": "heading",
     "level": 2,
     "metadata": {},
     "source": [
      "Empiezo an\u00e1lisis en serie"
     ]
    },
    {
     "cell_type": "heading",
     "level": 4,
     "metadata": {},
     "source": [
      "anl150629 / CFP-35 / Alta presi\u00f3n / 5%\n"
     ]
    },
    {
     "cell_type": "code",
     "collapsed": false,
     "input": [
      "# 0630z12 falla"
     ],
     "language": "python",
     "metadata": {},
     "outputs": [],
     "prompt_number": 16
    },
    {
     "cell_type": "code",
     "collapsed": false,
     "input": [
      "mes= 6\n",
      "dia= 29\n",
      "rango= range(11,12)\n",
      "maxs= agregadorAMCMax(mes, dia, rango)\n",
      "binMax(maxs)"
     ],
     "language": "python",
     "metadata": {},
     "outputs": [
      {
       "metadata": {},
       "output_type": "pyout",
       "prompt_number": 17,
       "text": [
        "(4275, 1.2426003289473688, 0.0031979602191448391)"
       ]
      },
      {
       "metadata": {},
       "output_type": "display_data",
       "png": "[encoded data removed]",
       "text": [
        "<matplotlib.figure.Figure at 0x7f586d51bb00>"
       ]
      }
     ],
     "prompt_number": 17
    },
    {
     "cell_type": "code",
     "collapsed": false,
     "input": [
      "mes= 6\n",
      "dia= 29\n",
      "rango= range(9,10)\n",
      "maxs= agregadorAMCMax(mes, dia, rango)\n",
      "binMax(maxs)"
     ],
     "language": "python",
     "metadata": {},
     "outputs": [
      {
       "metadata": {},
       "output_type": "pyout",
       "prompt_number": 18,
       "text": [
        "(4666, 1.2796071313759125, 0.0010326279603073715)"
       ]
      },
      {
       "metadata": {},
       "output_type": "display_data",
       "png": "[encoded data removed]",
       "text": [
        "<matplotlib.figure.Figure at 0x7f586d5138d0>"
       ]
      }
     ],
     "prompt_number": 18
    },
    {
     "cell_type": "code",
     "collapsed": false,
     "input": [
      "# 0629z08 falla\n",
      "# 0629z09 falla"
     ],
     "language": "python",
     "metadata": {},
     "outputs": [],
     "prompt_number": 19
    },
    {
     "cell_type": "heading",
     "level": 4,
     "metadata": {},
     "source": [
      "anl150616 / CFP-35 / Alta presi\u00f3n / 0%"
     ]
    },
    {
     "cell_type": "code",
     "collapsed": false,
     "input": [
      "mes= 6\n",
      "dia= 16\n",
      "rango= range(1,2)\n",
      "maxs= agregadorAMCMax(mes, dia, rango)\n",
      "binMax(maxs)"
     ],
     "language": "python",
     "metadata": {},
     "outputs": [
      {
       "metadata": {},
       "output_type": "pyout",
       "prompt_number": 20,
       "text": [
        "(4539, 1.2199561267625019, 0.00057107284538007849)"
       ]
      },
      {
       "metadata": {},
       "output_type": "display_data",
       "png": "[encoded data removed]",
       "text": [
        "<matplotlib.figure.Figure at 0x7f586d26e710>"
       ]
      }
     ],
     "prompt_number": 20
    },
    {
     "cell_type": "code",
     "collapsed": false,
     "input": [
      "mes= 6\n",
      "dia= 17\n",
      "rango= range(8,9)\n",
      "maxs= agregadorAMCMax(mes, dia, rango)\n",
      "binMax(maxs)"
     ],
     "language": "python",
     "metadata": {},
     "outputs": [
      {
       "metadata": {},
       "output_type": "pyout",
       "prompt_number": 21,
       "text": [
        "(4811, 1.2401816800041565, 0.0015016025074075304)"
       ]
      },
      {
       "metadata": {},
       "output_type": "display_data",
       "png": "[encoded data removed]",
       "text": [
        "<matplotlib.figure.Figure at 0x7f586d22c8d0>"
       ]
      }
     ],
     "prompt_number": 21
    },
    {
     "cell_type": "markdown",
     "metadata": {},
     "source": [
      "anl150616 / CFP-35 / Alta presi\u00f3n / 1.45%"
     ]
    },
    {
     "cell_type": "code",
     "collapsed": false,
     "input": [
      "mes= 6\n",
      "dia= 15\n",
      "rango= range(2,3)\n",
      "maxs= agregadorAMCMax(mes, dia, rango)\n",
      "binMax(maxs)"
     ],
     "language": "python",
     "metadata": {},
     "outputs": [
      {
       "metadata": {},
       "output_type": "pyout",
       "prompt_number": 22,
       "text": [
        "(2355, 1.2802589238322704, 0.00473075643987166)"
       ]
      },
      {
       "metadata": {},
       "output_type": "display_data",
       "png": "[encoded data removed]",
       "text": [
        "<matplotlib.figure.Figure at 0x7f586d4a0b70>"
       ]
      }
     ],
     "prompt_number": 22
    },
    {
     "cell_type": "heading",
     "level": 2,
     "metadata": {},
     "source": [
      "Promediar los histogramas por encima de $2V$ |Marcelo|"
     ]
    },
    {
     "cell_type": "code",
     "collapsed": false,
     "input": [
      "def binMaxAcotado(maxsCuentas, npzDataEjemplo, binHist=40, cotaInferior=0):\n",
      "    ceroAMCPto, pasoVerticalAMCVoltPto, ceroFLUCPto, pasoVerticalFLUCVoltPto= conversionV(npzDataEjemplo)\n",
      "    potencialAMCMax= (maxsCuentas- ceroAMCPto)* pasoVerticalAMCVoltPto\n",
      "    if (cotaInferior!=0):\n",
      "        potencialAMCMax = np.ma.masked_greater(potencialAMCMax, cotaInferior)\n",
      "        potencialAMCMax\n",
      "    fig = plt.figure(figsize=(18,5))  # an empty figure with no axes\n",
      "    ax_lst= fig.add_subplot(1,2,2)\n",
      "    n, bins, patches= ax_lst.hist(potencialAMCMax, bins=120)\n",
      "    ax_lst.set_ylabel('Cuentas')\n",
      "    ax_lst.set_xlabel('M\u00e1ximo [V]')\n",
      "    intermedio = np.ma.masked_greater(potencialAMCMax, bins[binHist])\n",
      "    primerCampana= intermedio.compressed()\n",
      "    ax_lst2= fig.add_subplot(1,2,1)\n",
      "    ax_lst2.set_ylabel('Cuentas')\n",
      "    ax_lst2.set_xlabel('M\u00e1ximo [V]')\n",
      "    n_i, bins_i, patches_i= ax_lst2.hist(primerCampana, bins=20)\n",
      "    return (primerCampana.size, primerCampana.mean(), errorEstandard(primerCampana) )"
     ],
     "language": "python",
     "metadata": {},
     "outputs": [],
     "prompt_number": 39
    },
    {
     "cell_type": "code",
     "collapsed": false,
     "input": [
      "mes= 6\n",
      "dia= 15\n",
      "rango= range(2,3)\n",
      "maxs= agregadorAMCMax(mes, dia, rango)"
     ],
     "language": "python",
     "metadata": {},
     "outputs": [
      {
       "output_type": "stream",
       "stream": "stdout",
       "text": [
        "1.39474183825 4.79197115385\n",
        "2.73626921452 3.87275641026\n",
        "1.95327781289 3.57150641026\n",
        "1.01346817778 3.1059775641\n",
        "2.59897559536 2.80708333333\n",
        "1.20386595107 2.6278525641\n",
        "1.88255313538 3.39584935897\n",
        "1.1606990231 2.48166666667\n",
        "2.91575605678"
       ]
      },
      {
       "output_type": "stream",
       "stream": "stdout",
       "text": [
        " 2.97403846154\n",
        "1.81317292367 2.91376602564\n",
        "2.96673659623 2.89392628205\n"
       ]
      },
      {
       "ename": "IndexError",
       "evalue": "invalid index to scalar variable.",
       "output_type": "pyerr",
       "traceback": [
        "\u001b[0;31m---------------------------------------------------------------------------\u001b[0m\n\u001b[0;31mIndexError\u001b[0m                                Traceback (most recent call last)",
        "\u001b[0;32m<ipython-input-55-02be80774706>\u001b[0m in \u001b[0;36m<module>\u001b[0;34m()\u001b[0m\n\u001b[1;32m      2\u001b[0m \u001b[0mdia\u001b[0m\u001b[0;34m=\u001b[0m \u001b[0;36m15\u001b[0m\u001b[0;34m\u001b[0m\u001b[0m\n\u001b[1;32m      3\u001b[0m \u001b[0mrango\u001b[0m\u001b[0;34m=\u001b[0m \u001b[0mrange\u001b[0m\u001b[0;34m(\u001b[0m\u001b[0;36m2\u001b[0m\u001b[0;34m,\u001b[0m\u001b[0;36m3\u001b[0m\u001b[0;34m)\u001b[0m\u001b[0;34m\u001b[0m\u001b[0m\n\u001b[0;32m----> 4\u001b[0;31m \u001b[0mmaxs\u001b[0m\u001b[0;34m=\u001b[0m \u001b[0magregadorAMCMax\u001b[0m\u001b[0;34m(\u001b[0m\u001b[0mmes\u001b[0m\u001b[0;34m,\u001b[0m \u001b[0mdia\u001b[0m\u001b[0;34m,\u001b[0m \u001b[0mrango\u001b[0m\u001b[0;34m)\u001b[0m\u001b[0;34m\u001b[0m\u001b[0m\n\u001b[0m",
        "\u001b[0;32m<ipython-input-9-89438fece4b3>\u001b[0m in \u001b[0;36magregadorAMCMax\u001b[0;34m(mes, dia, rango)\u001b[0m\n\u001b[1;32m      3\u001b[0m     \u001b[0;32mfor\u001b[0m \u001b[0macqN\u001b[0m \u001b[0;32min\u001b[0m \u001b[0mrango\u001b[0m\u001b[0;34m:\u001b[0m\u001b[0;34m\u001b[0m\u001b[0m\n\u001b[1;32m      4\u001b[0m         \u001b[0mnpzData\u001b[0m\u001b[0;34m=\u001b[0m \u001b[0mnp\u001b[0m\u001b[0;34m.\u001b[0m\u001b[0mload\u001b[0m\u001b[0;34m(\u001b[0m\u001b[0mdataPathFile\u001b[0m\u001b[0;34m(\u001b[0m\u001b[0mmes\u001b[0m\u001b[0;34m,\u001b[0m \u001b[0mdia\u001b[0m\u001b[0;34m,\u001b[0m \u001b[0macqN\u001b[0m\u001b[0;34m)\u001b[0m\u001b[0;34m)\u001b[0m\u001b[0;34m\u001b[0m\u001b[0m\n\u001b[0;32m----> 5\u001b[0;31m         \u001b[0mmaxs\u001b[0m\u001b[0;34m=\u001b[0m \u001b[0mnp\u001b[0m\u001b[0;34m.\u001b[0m\u001b[0mappend\u001b[0m\u001b[0;34m(\u001b[0m\u001b[0mmaxs\u001b[0m\u001b[0;34m,\u001b[0m \u001b[0mcosaTest\u001b[0m\u001b[0;34m(\u001b[0m\u001b[0mnpzData\u001b[0m\u001b[0;34m)\u001b[0m\u001b[0;34m[\u001b[0m\u001b[0;34m:\u001b[0m\u001b[0;34m,\u001b[0m\u001b[0;36m4\u001b[0m\u001b[0;34m]\u001b[0m \u001b[0;34m)\u001b[0m\u001b[0;34m\u001b[0m\u001b[0m\n\u001b[0m\u001b[1;32m      6\u001b[0m     \u001b[0;32mreturn\u001b[0m \u001b[0mmaxs\u001b[0m\u001b[0;34m\u001b[0m\u001b[0m\n",
        "\u001b[0;32m<ipython-input-54-325888788ddc>\u001b[0m in \u001b[0;36mcosaTest\u001b[0;34m(npzData, prop)\u001b[0m\n\u001b[1;32m     20\u001b[0m         \u001b[0;31m# print(parciales, parciales[0])\u001b[0m\u001b[0;34m\u001b[0m\u001b[0;34m\u001b[0m\u001b[0m\n\u001b[1;32m     21\u001b[0m         \u001b[0;31m# if (pasa):\u001b[0m\u001b[0;34m\u001b[0m\u001b[0;34m\u001b[0m\u001b[0m\n\u001b[0;32m---> 22\u001b[0;31m         \u001b[0;32mif\u001b[0m \u001b[0;34m(\u001b[0m\u001b[0mparciales\u001b[0m\u001b[0;34m[\u001b[0m\u001b[0;36m0\u001b[0m\u001b[0;34m]\u001b[0m\u001b[0;34m[\u001b[0m\u001b[0;36m0\u001b[0m\u001b[0;34m]\u001b[0m\u001b[0;34m!=\u001b[0m\u001b[0;36m0\u001b[0m\u001b[0;34m)\u001b[0m\u001b[0;34m:\u001b[0m\u001b[0;34m\u001b[0m\u001b[0m\n\u001b[0m\u001b[1;32m     23\u001b[0m             \u001b[0mprint\u001b[0m\u001b[0;34m(\u001b[0m\u001b[0mvalidas\u001b[0m\u001b[0;34m,\u001b[0m \u001b[0mparciales\u001b[0m\u001b[0;34m[\u001b[0m\u001b[0;36m0\u001b[0m\u001b[0;34m]\u001b[0m\u001b[0;34m,\u001b[0m \u001b[0mparciales\u001b[0m\u001b[0;34m[\u001b[0m\u001b[0;36m3\u001b[0m\u001b[0;34m]\u001b[0m\u001b[0;34m)\u001b[0m\u001b[0;34m\u001b[0m\u001b[0m\n\u001b[1;32m     24\u001b[0m             \u001b[0mfinales\u001b[0m\u001b[0;34m[\u001b[0m\u001b[0mvalidas\u001b[0m\u001b[0;34m]\u001b[0m\u001b[0;34m=\u001b[0m \u001b[0mparciales\u001b[0m\u001b[0;34m\u001b[0m\u001b[0m\n",
        "\u001b[0;31mIndexError\u001b[0m: invalid index to scalar variable."
       ]
      }
     ],
     "prompt_number": 55
    },
    {
     "cell_type": "code",
     "collapsed": false,
     "input": [
      "maxs"
     ],
     "language": "python",
     "metadata": {},
     "outputs": [
      {
       "metadata": {},
       "output_type": "pyout",
       "prompt_number": 52,
       "text": [
        "array([  2.30244393e-316])"
       ]
      }
     ],
     "prompt_number": 52
    },
    {
     "cell_type": "code",
     "collapsed": false,
     "input": [
      "acqN= 2\n",
      "npzDataEjemplo= np.load(dataPathFile(mes, dia, acqN))\n",
      "binMaxAcotado(maxs, npzDataEjemplo, binHist=40, cotaInferior=2)"
     ],
     "language": "python",
     "metadata": {},
     "outputs": [
      {
       "ename": "ValueError",
       "evalue": "x has only one data point. bins or range kwarg must be given",
       "output_type": "pyerr",
       "traceback": [
        "\u001b[0;31m---------------------------------------------------------------------------\u001b[0m\n\u001b[0;31mValueError\u001b[0m                                Traceback (most recent call last)",
        "\u001b[0;32m<ipython-input-16-8392af1c93c9>\u001b[0m in \u001b[0;36m<module>\u001b[0;34m()\u001b[0m\n\u001b[1;32m      1\u001b[0m \u001b[0macqN\u001b[0m\u001b[0;34m=\u001b[0m \u001b[0;36m2\u001b[0m\u001b[0;34m\u001b[0m\u001b[0m\n\u001b[1;32m      2\u001b[0m \u001b[0mnpzDataEjemplo\u001b[0m\u001b[0;34m=\u001b[0m \u001b[0mnp\u001b[0m\u001b[0;34m.\u001b[0m\u001b[0mload\u001b[0m\u001b[0;34m(\u001b[0m\u001b[0mdataPathFile\u001b[0m\u001b[0;34m(\u001b[0m\u001b[0mmes\u001b[0m\u001b[0;34m,\u001b[0m \u001b[0mdia\u001b[0m\u001b[0;34m,\u001b[0m \u001b[0macqN\u001b[0m\u001b[0;34m)\u001b[0m\u001b[0;34m)\u001b[0m\u001b[0;34m\u001b[0m\u001b[0m\n\u001b[0;32m----> 3\u001b[0;31m \u001b[0mbinMaxAcotado\u001b[0m\u001b[0;34m(\u001b[0m\u001b[0mmaxs\u001b[0m\u001b[0;34m,\u001b[0m \u001b[0mnpzDataEjemplo\u001b[0m\u001b[0;34m,\u001b[0m \u001b[0mbinHist\u001b[0m\u001b[0;34m=\u001b[0m\u001b[0;36m40\u001b[0m\u001b[0;34m,\u001b[0m \u001b[0mcotaInferior\u001b[0m\u001b[0;34m=\u001b[0m\u001b[0;36m2\u001b[0m\u001b[0;34m)\u001b[0m\u001b[0;34m\u001b[0m\u001b[0m\n\u001b[0m",
        "\u001b[0;32m<ipython-input-15-128e52f7f81b>\u001b[0m in \u001b[0;36mbinMaxAcotado\u001b[0;34m(maxsCuentas, npzDataEjemplo, binHist, cotaInferior)\u001b[0m\n\u001b[1;32m      7\u001b[0m     \u001b[0mfig\u001b[0m \u001b[0;34m=\u001b[0m \u001b[0mplt\u001b[0m\u001b[0;34m.\u001b[0m\u001b[0mfigure\u001b[0m\u001b[0;34m(\u001b[0m\u001b[0mfigsize\u001b[0m\u001b[0;34m=\u001b[0m\u001b[0;34m(\u001b[0m\u001b[0;36m18\u001b[0m\u001b[0;34m,\u001b[0m\u001b[0;36m5\u001b[0m\u001b[0;34m)\u001b[0m\u001b[0;34m)\u001b[0m  \u001b[0;31m# an empty figure with no axes\u001b[0m\u001b[0;34m\u001b[0m\u001b[0m\n\u001b[1;32m      8\u001b[0m     \u001b[0max_lst\u001b[0m\u001b[0;34m=\u001b[0m \u001b[0mfig\u001b[0m\u001b[0;34m.\u001b[0m\u001b[0madd_subplot\u001b[0m\u001b[0;34m(\u001b[0m\u001b[0;36m1\u001b[0m\u001b[0;34m,\u001b[0m\u001b[0;36m2\u001b[0m\u001b[0;34m,\u001b[0m\u001b[0;36m2\u001b[0m\u001b[0;34m)\u001b[0m\u001b[0;34m\u001b[0m\u001b[0m\n\u001b[0;32m----> 9\u001b[0;31m     \u001b[0mn\u001b[0m\u001b[0;34m,\u001b[0m \u001b[0mbins\u001b[0m\u001b[0;34m,\u001b[0m \u001b[0mpatches\u001b[0m\u001b[0;34m=\u001b[0m \u001b[0max_lst\u001b[0m\u001b[0;34m.\u001b[0m\u001b[0mhist\u001b[0m\u001b[0;34m(\u001b[0m\u001b[0mpotencialAMCMax\u001b[0m\u001b[0;34m,\u001b[0m \u001b[0mbins\u001b[0m\u001b[0;34m=\u001b[0m\u001b[0;36m120\u001b[0m\u001b[0;34m)\u001b[0m\u001b[0;34m\u001b[0m\u001b[0m\n\u001b[0m\u001b[1;32m     10\u001b[0m     \u001b[0max_lst\u001b[0m\u001b[0;34m.\u001b[0m\u001b[0mset_ylabel\u001b[0m\u001b[0;34m(\u001b[0m\u001b[0;34m'Cuentas'\u001b[0m\u001b[0;34m)\u001b[0m\u001b[0;34m\u001b[0m\u001b[0m\n\u001b[1;32m     11\u001b[0m     \u001b[0max_lst\u001b[0m\u001b[0;34m.\u001b[0m\u001b[0mset_xlabel\u001b[0m\u001b[0;34m(\u001b[0m\u001b[0;34m'M\u00e1ximo [V]'\u001b[0m\u001b[0;34m)\u001b[0m\u001b[0;34m\u001b[0m\u001b[0m\n",
        "\u001b[0;32m/usr/lib/python3/dist-packages/matplotlib/axes/_axes.py\u001b[0m in \u001b[0;36mhist\u001b[0;34m(self, x, bins, range, normed, weights, cumulative, bottom, histtype, align, orientation, rwidth, log, color, label, stacked, **kwargs)\u001b[0m\n\u001b[1;32m   5572\u001b[0m         \u001b[0;32melif\u001b[0m \u001b[0mlen\u001b[0m\u001b[0;34m(\u001b[0m\u001b[0mflat\u001b[0m\u001b[0;34m)\u001b[0m \u001b[0;34m==\u001b[0m \u001b[0;36m1\u001b[0m \u001b[0;32mand\u001b[0m \u001b[0;32mnot\u001b[0m \u001b[0mbinsgiven\u001b[0m\u001b[0;34m:\u001b[0m\u001b[0;34m\u001b[0m\u001b[0m\n\u001b[1;32m   5573\u001b[0m             raise ValueError(\n\u001b[0;32m-> 5574\u001b[0;31m                 \"x has only one data point. bins or range kwarg must be given\")\n\u001b[0m\u001b[1;32m   5575\u001b[0m \u001b[0;34m\u001b[0m\u001b[0m\n\u001b[1;32m   5576\u001b[0m         \u001b[0;31m# Massage 'x' for processing.\u001b[0m\u001b[0;34m\u001b[0m\u001b[0;34m\u001b[0m\u001b[0m\n",
        "\u001b[0;31mValueError\u001b[0m: x has only one data point. bins or range kwarg must be given"
       ]
      },
      {
       "metadata": {},
       "output_type": "display_data",
       "png": "[encoded data removed]",
       "text": [
        "<matplotlib.figure.Figure at 0x7ff229907e80>"
       ]
      }
     ],
     "prompt_number": 16
    },
    {
     "cell_type": "code",
     "collapsed": false,
     "input": [
      "finales"
     ],
     "language": "python",
     "metadata": {},
     "outputs": [
      {
       "ename": "NameError",
       "evalue": "name 'finales' is not defined",
       "output_type": "pyerr",
       "traceback": [
        "\u001b[0;31m---------------------------------------------------------------------------\u001b[0m\n\u001b[0;31mNameError\u001b[0m                                 Traceback (most recent call last)",
        "\u001b[0;32m<ipython-input-17-c4c55a66b167>\u001b[0m in \u001b[0;36m<module>\u001b[0;34m()\u001b[0m\n\u001b[0;32m----> 1\u001b[0;31m \u001b[0mfinales\u001b[0m\u001b[0;34m\u001b[0m\u001b[0m\n\u001b[0m",
        "\u001b[0;31mNameError\u001b[0m: name 'finales' is not defined"
       ]
      }
     ],
     "prompt_number": 17
    },
    {
     "cell_type": "heading",
     "level": 2,
     "metadata": {},
     "source": [
      "Ensayo historamas"
     ]
    },
    {
     "cell_type": "heading",
     "level": 4,
     "metadata": {},
     "source": [
      "Cargo archivo individual de ensayo"
     ]
    },
    {
     "cell_type": "code",
     "collapsed": false,
     "input": [
      "mes= 6\n",
      "dia= 15\n",
      "acqN= 1\n",
      "npzData= np.load(dataPathFile(mes, dia, acqN))\n",
      "testTau= cosaTest(npzData)\n",
      "binMax(testTau[:,4])"
     ],
     "language": "python",
     "metadata": {},
     "outputs": [
      {
       "metadata": {},
       "output_type": "pyout",
       "prompt_number": 10,
       "text": [
        "(2220, 1.2585807291666653, 0.0052913709240622504)"
       ]
      },
      {
       "metadata": {},
       "output_type": "display_data",
       "png": "[encoded data removed]",
       "text": [
        "<matplotlib.figure.Figure at 0x7f5870443710>"
       ]
      }
     ],
     "prompt_number": 10
    },
    {
     "cell_type": "code",
     "collapsed": false,
     "input": [
      "testTau"
     ],
     "language": "python",
     "metadata": {},
     "outputs": [
      {
       "metadata": {},
       "output_type": "pyout",
       "prompt_number": 11,
       "text": [
        "array([[  4.36000000e-07,   2.68000000e-07,   1.08896841e+07,\n",
        "          4.71351097e+06,   2.75000000e-01],\n",
        "       [  3.12000000e-07,   2.54000000e-07,   7.73667608e+06,\n",
        "          3.21371623e+06,   5.00000000e-01],\n",
        "       [  3.16000000e-07,   2.60000000e-07,   5.17159369e+06,\n",
        "          2.18378751e+06,   5.42500000e+00],\n",
        "       ..., \n",
        "       [  3.92000000e-07,   2.30000000e-07,   7.27423700e+06,\n",
        "          3.08451342e+06,   5.00000000e-02],\n",
        "       [  2.82000000e-07,   2.46000000e-07,   8.07148300e+06,\n",
        "          3.58305300e+06,  -1.08250000e+01],\n",
        "       [  2.82000000e-07,   2.68000000e-07,   9.29130440e+06,\n",
        "          4.18122650e+06,  -2.78000000e+01]])"
       ]
      }
     ],
     "prompt_number": 11
    },
    {
     "cell_type": "code",
     "collapsed": false,
     "input": [
      "mes= 6\n",
      "dia= 29\n",
      "acqN= 11\n",
      "npzData= np.load(dataPathFile(mes, dia, acqN))\n",
      "testTau= cosaTest(npzData)\n",
      "binMax(testTau[:,4])"
     ],
     "language": "python",
     "metadata": {},
     "outputs": [
      {
       "metadata": {},
       "output_type": "pyout",
       "prompt_number": 12,
       "text": [
        "(4274, 1.2425401044103888, 0.0033757603759645618)"
       ]
      },
      {
       "metadata": {},
       "output_type": "display_data",
       "png": "[encoded data removed]",
       "text": [
        "<matplotlib.figure.Figure at 0x7f586d546f60>"
       ]
      }
     ],
     "prompt_number": 12
    },
    {
     "cell_type": "code",
     "collapsed": false,
     "input": [
      "mes= 6\n",
      "dia= 15\n",
      "acqN= 1\n",
      "npzData= np.load(dataPathFile(mes, dia, acqN))"
     ],
     "language": "python",
     "metadata": {},
     "outputs": [],
     "prompt_number": 5
    },
    {
     "cell_type": "code",
     "collapsed": false,
     "input": [
      "# Ensayo tauCeti3eAreaMax\n",
      "T= npzData['zeit']\n",
      "FLUC= npzData['ch1']\n",
      "AMC= npzData['ch2']\n",
      "messungenZahl= AMC.shape\n",
      "\n",
      "numAdquisicion= 1211 # numero de medici\u00f3n a graficar en la serie\n",
      "Meas2= np.array([FLUC[numAdquisicion], AMC[numAdquisicion] ] )\n",
      "prop= 0.25\n",
      "\n",
      "[tauAMCi, tauFLUCi, areaTotalAMCi, areaSubidaAMCi, maxAMCi]= tauCeti3eAreaMax(T, Meas2, messungenZahl, prop, rechazo=0.1)\n",
      "tauAMCi, tauFLUCi, areaTotalAMCi, areaSubidaAMCi, maxAMCi"
     ],
     "language": "python",
     "metadata": {},
     "outputs": [
      {
       "metadata": {},
       "output_type": "pyout",
       "prompt_number": 6,
       "text": [
        "(2.7999999999999986e-07, 2.2200000000000016e-07, 6803431.5, 3000746.0, 12.725)"
       ]
      }
     ],
     "prompt_number": 6
    },
    {
     "cell_type": "code",
     "collapsed": false,
     "input": [
      "np.empty([1,2])"
     ],
     "language": "python",
     "metadata": {},
     "outputs": [
      {
       "metadata": {},
       "output_type": "pyout",
       "prompt_number": 38,
       "text": [
        "array([[  6.95045895e-310,   2.44592692e-316]])"
       ]
      }
     ],
     "prompt_number": 38
    },
    {
     "cell_type": "code",
     "collapsed": false,
     "input": [],
     "language": "python",
     "metadata": {},
     "outputs": []
    }
   ],
   "metadata": {}
  }
 ]
}