{
 "cells": [
  {
   "cell_type": "code",
   "execution_count": 1,
   "metadata": {
    "collapsed": false
   },
   "outputs": [],
   "source": [
    "import numpy as np\n",
    "import matplotlib as mpl\n",
    "mpl.use('nbagg') # gráficas interactivas e inline\n",
    "import matplotlib.pyplot as plt\n",
    "\n",
    "# refresca de lo importado cada vez que se hace ejecución\n",
    "%load_ext autoreload\n",
    "%autoreload 2"
   ]
  },
  {
   "cell_type": "code",
   "execution_count": 2,
   "metadata": {
    "collapsed": false
   },
   "outputs": [],
   "source": [
    "def leeCanberreta(fileName):\n",
    "    '''\n",
    "    Este funciona\n",
    "    '''\n",
    "    \n",
    "    import csv\n",
    "\n",
    "    extension= '.csv'\n",
    "    path='/oldhome/vbettachini/documents/cnea/campbell/espectros/canberreta/'\n",
    "    canal= np.array([], dtype='int8')\n",
    "    cuentas= np.array([], dtype='int8')\n",
    "    with open(path+ fileName+ extension) as csvfile:\n",
    "        lector = csv.reader(csvfile, delimiter='\\t')\n",
    "        for row in lector:\n",
    "            canal= np.append(canal, np.int(row[0]) )\n",
    "            cuentas= np.append(cuentas, np.int(row[1]) )\n",
    "        sale= np.vstack(([canal, cuentas ] ) )\n",
    "    return sale"
   ]
  },
  {
   "cell_type": "markdown",
   "metadata": {},
   "source": [
    "Adquisición 72 minutos pulsos BL-2 `pul160329z01`: 3*1028 adquisiciones.\n",
    "\n",
    "En simultáneo adquisición 30 minutos con canberreta `160329ec01`: $N=40$, 4096 canales."
   ]
  },
  {
   "cell_type": "code",
   "execution_count": 3,
   "metadata": {
    "collapsed": false
   },
   "outputs": [
    {
     "ename": "FileNotFoundError",
     "evalue": "[Errno 2] No such file or directory: '/oldhome/vbettachini/documents/cnea/campbell/espectros/canberreta/160329ec01.csv'",
     "output_type": "error",
     "traceback": [
      "\u001b[0;31m---------------------------------------------------------------------------\u001b[0m",
      "\u001b[0;31mFileNotFoundError\u001b[0m                         Traceback (most recent call last)",
      "\u001b[0;32m<ipython-input-3-50c5a6195ef5>\u001b[0m in \u001b[0;36m<module>\u001b[0;34m()\u001b[0m\n\u001b[1;32m      1\u001b[0m \u001b[0marchivoEspectro\u001b[0m\u001b[0;34m=\u001b[0m \u001b[0;34m'160329ec01'\u001b[0m\u001b[0;34m\u001b[0m\u001b[0m\n\u001b[0;32m----> 2\u001b[0;31m \u001b[0mespectroPrueba\u001b[0m\u001b[0;34m=\u001b[0m \u001b[0mleeCanberreta\u001b[0m\u001b[0;34m(\u001b[0m\u001b[0marchivoEspectro\u001b[0m\u001b[0;34m)\u001b[0m\u001b[0;34m\u001b[0m\u001b[0m\n\u001b[0m\u001b[1;32m      3\u001b[0m \u001b[0;31m# Agrupo a 2048 canales\u001b[0m\u001b[0;34m\u001b[0m\u001b[0;34m\u001b[0m\u001b[0m\n\u001b[1;32m      4\u001b[0m \u001b[0msiz\u001b[0m\u001b[0;34m=\u001b[0m \u001b[0mint\u001b[0m\u001b[0;34m(\u001b[0m\u001b[0mespectroPrueba\u001b[0m\u001b[0;34m[\u001b[0m\u001b[0;36m1\u001b[0m\u001b[0;34m]\u001b[0m\u001b[0;34m.\u001b[0m\u001b[0msize\u001b[0m\u001b[0;34m/\u001b[0m\u001b[0;36m2\u001b[0m\u001b[0;34m)\u001b[0m\u001b[0;34m\u001b[0m\u001b[0m\n\u001b[1;32m      5\u001b[0m \u001b[0msale_N40\u001b[0m\u001b[0;34m=\u001b[0m \u001b[0mnp\u001b[0m\u001b[0;34m.\u001b[0m\u001b[0mempty\u001b[0m\u001b[0;34m(\u001b[0m\u001b[0msiz\u001b[0m\u001b[0;34m)\u001b[0m\u001b[0;34m\u001b[0m\u001b[0m\n",
      "\u001b[0;32m<ipython-input-2-8aa3afe5d8df>\u001b[0m in \u001b[0;36mleeCanberreta\u001b[0;34m(fileName)\u001b[0m\n\u001b[1;32m     10\u001b[0m     \u001b[0mcanal\u001b[0m\u001b[0;34m=\u001b[0m \u001b[0mnp\u001b[0m\u001b[0;34m.\u001b[0m\u001b[0marray\u001b[0m\u001b[0;34m(\u001b[0m\u001b[0;34m[\u001b[0m\u001b[0;34m]\u001b[0m\u001b[0;34m,\u001b[0m \u001b[0mdtype\u001b[0m\u001b[0;34m=\u001b[0m\u001b[0;34m'int8'\u001b[0m\u001b[0;34m)\u001b[0m\u001b[0;34m\u001b[0m\u001b[0m\n\u001b[1;32m     11\u001b[0m     \u001b[0mcuentas\u001b[0m\u001b[0;34m=\u001b[0m \u001b[0mnp\u001b[0m\u001b[0;34m.\u001b[0m\u001b[0marray\u001b[0m\u001b[0;34m(\u001b[0m\u001b[0;34m[\u001b[0m\u001b[0;34m]\u001b[0m\u001b[0;34m,\u001b[0m \u001b[0mdtype\u001b[0m\u001b[0;34m=\u001b[0m\u001b[0;34m'int8'\u001b[0m\u001b[0;34m)\u001b[0m\u001b[0;34m\u001b[0m\u001b[0m\n\u001b[0;32m---> 12\u001b[0;31m     \u001b[0;32mwith\u001b[0m \u001b[0mopen\u001b[0m\u001b[0;34m(\u001b[0m\u001b[0mpath\u001b[0m\u001b[0;34m+\u001b[0m \u001b[0mfileName\u001b[0m\u001b[0;34m+\u001b[0m \u001b[0mextension\u001b[0m\u001b[0;34m)\u001b[0m \u001b[0;32mas\u001b[0m \u001b[0mcsvfile\u001b[0m\u001b[0;34m:\u001b[0m\u001b[0;34m\u001b[0m\u001b[0m\n\u001b[0m\u001b[1;32m     13\u001b[0m         \u001b[0mlector\u001b[0m \u001b[0;34m=\u001b[0m \u001b[0mcsv\u001b[0m\u001b[0;34m.\u001b[0m\u001b[0mreader\u001b[0m\u001b[0;34m(\u001b[0m\u001b[0mcsvfile\u001b[0m\u001b[0;34m,\u001b[0m \u001b[0mdelimiter\u001b[0m\u001b[0;34m=\u001b[0m\u001b[0;34m'\\t'\u001b[0m\u001b[0;34m)\u001b[0m\u001b[0;34m\u001b[0m\u001b[0m\n\u001b[1;32m     14\u001b[0m         \u001b[0;32mfor\u001b[0m \u001b[0mrow\u001b[0m \u001b[0;32min\u001b[0m \u001b[0mlector\u001b[0m\u001b[0;34m:\u001b[0m\u001b[0;34m\u001b[0m\u001b[0m\n",
      "\u001b[0;31mFileNotFoundError\u001b[0m: [Errno 2] No such file or directory: '/oldhome/vbettachini/documents/cnea/campbell/espectros/canberreta/160329ec01.csv'"
     ]
    }
   ],
   "source": [
    "archivoEspectro= '160329ec01'\n",
    "espectroPrueba= leeCanberreta(archivoEspectro)\n",
    "# Agrupo a 2048 canales\n",
    "siz= int(espectroPrueba[1].size/2)\n",
    "sale_N40= np.empty(siz)\n",
    "for i in range(siz):\n",
    "    # print(i, i+siz)\n",
    "    sale_N40[i]= espectroPrueba[1][i]+ espectroPrueba[1][i+siz] \n",
    "    \n",
    "plt.grid()\n",
    "plt.xlim([100,240])\n",
    "plt.plot(np.arange(siz), sale_N40, '.-b', lw=2) # lineal\n",
    "# plt.plot(np.arange(siz), np.log(sale), '.b') # log\n",
    "plt.show()\n",
    "plt.close()"
   ]
  },
  {
   "cell_type": "code",
   "execution_count": null,
   "metadata": {
    "collapsed": false
   },
   "outputs": [],
   "source": [
    "from rutAnl160216 import * # En rutinasAnalisis160129.py residen todas las funciones basadas en las desarroladas en pulAnl160106.ipynb"
   ]
  },
  {
   "cell_type": "code",
   "execution_count": null,
   "metadata": {
    "collapsed": false
   },
   "outputs": [],
   "source": [
    "# `pul160329z01.npy.npz`\n",
    "tipo= 'pul'\n",
    "anne= 16 \n",
    "mes= 3\n",
    "dia= 22\n",
    "rango= np.arange(1,3)\n",
    "prop= 0.2\n",
    "rechazo= 0.15\n",
    "anchosPulser, areasPulser, maximosPulser, tausAMC, areasTotalAMC, areasSubidaAMC, maximosAMC= agregador2(tipo, anne, mes, dia, rango, prop, rechazo)"
   ]
  },
  {
   "cell_type": "code",
   "execution_count": null,
   "metadata": {
    "collapsed": false
   },
   "outputs": [],
   "source": [
    "maxs= maximosAMC"
   ]
  },
  {
   "cell_type": "code",
   "execution_count": null,
   "metadata": {
    "collapsed": false
   },
   "outputs": [],
   "source": [
    "maxs.mean(), np.argmax(sale_N40), np.argmax(sale_N40)/81"
   ]
  },
  {
   "cell_type": "code",
   "execution_count": null,
   "metadata": {
    "collapsed": false
   },
   "outputs": [],
   "source": [
    "fig, ax1 = plt.subplots()\n",
    "\n",
    "ax1.hist(maxs, bins=256)\n",
    "# ax1.hist(maxs* ganancia, bins=256)\n",
    "ax1.set_xlabel('Volt')\n",
    "ax1.set_ylabel('Cuentas osciloscopio')\n",
    "\n",
    "elNumero_N40= 81\n",
    "ganancia_N40= 1/elNumero_N40\n",
    "\n",
    "ax2 = ax1.twinx()\n",
    "ax2.plot(np.arange(siz)* ganancia_N40, sale_N40, '.-b', lw=2, label='N=40, mult=1/81')\n",
    "ax2.set_xlim([1,3])\n",
    "ax2.yaxis.set_label_position(\"right\")\n",
    "ax2.set_ylabel('Cuentas MCA CNEA')\n",
    "\n",
    "plt.legend()\n",
    "plt.show()\n",
    "plt.close()"
   ]
  },
  {
   "cell_type": "markdown",
   "metadata": {},
   "source": [
    "No me gusta el desbalance, por lo que largo una nueva adquisición 72 minutos pulsos BL-2 `pul160329z02`: 3*1028 adquisiciones.\n",
    "\n",
    "En simultáneo adquisición, ahora del doble, 60 minutos con canberreta `160329ec02`: $N=40$, 4096 canales.\n",
    "\n",
    "La idea es graficar el conjunto de pulsos `pul160329z01` y `pul160329z02` (doble número) con el nuevo espectro (doble tiempo)."
   ]
  },
  {
   "cell_type": "code",
   "execution_count": null,
   "metadata": {
    "collapsed": false
   },
   "outputs": [],
   "source": [
    "# `pul160329z01-2.npy.npz`\n",
    "tipo= 'pul'\n",
    "anne= 16 \n",
    "mes= 3\n",
    "dia= 22\n",
    "rango= np.arange(1,3)\n",
    "prop= 0.2\n",
    "rechazo= 0.15\n",
    "anchosPulser, areasPulser, maximosPulser, tausAMC, areasTotalAMC, areasSubidaAMC, maximosAMC2= agregador2(tipo, anne, mes, dia, rango, prop, rechazo)"
   ]
  },
  {
   "cell_type": "code",
   "execution_count": null,
   "metadata": {
    "collapsed": false
   },
   "outputs": [],
   "source": [
    "archivoEspectro= '160329ec02'\n",
    "espectroPrueba= leeCanberreta(archivoEspectro)\n",
    "# Agrupo a 2048 canales\n",
    "siz= int(espectroPrueba[1].size/2)\n",
    "sale_N402= np.empty(siz)\n",
    "for i in range(siz):\n",
    "    # print(i, i+siz)\n",
    "    sale_N402[i]= espectroPrueba[1][i]+ espectroPrueba[1][i+siz] "
   ]
  },
  {
   "cell_type": "code",
   "execution_count": null,
   "metadata": {
    "collapsed": false
   },
   "outputs": [],
   "source": [
    "fig, ax1 = plt.subplots()\n",
    "\n",
    "ax1.hist(maximosAMC2, bins=256)\n",
    "# ax1.hist(maxs* ganancia, bins=256)\n",
    "ax1.set_xlabel('Volt')\n",
    "ax1.set_ylabel('Cuentas osciloscopio')\n",
    "\n",
    "elNumero_N402= 81\n",
    "ganancia_N402= 1/elNumero_N40\n",
    "\n",
    "ax2 = ax1.twinx()\n",
    "ax2.plot(np.arange(siz)* ganancia_N402, sale_N402, '.-b', lw=2, label='N=40, mult=1/81')\n",
    "ax2.set_xlim([1,3])\n",
    "ax2.yaxis.set_label_position(\"right\")\n",
    "ax2.set_ylabel('Cuentas MCA CNEA')\n",
    "\n",
    "plt.legend()\n",
    "plt.show()\n",
    "plt.close()"
   ]
  },
  {
   "cell_type": "code",
   "execution_count": null,
   "metadata": {
    "collapsed": false
   },
   "outputs": [],
   "source": []
  }
 ],
 "metadata": {
  "kernelspec": {
   "display_name": "Python 3",
   "language": "python",
   "name": "python3"
  },
  "language_info": {
   "codemirror_mode": {
    "name": "ipython",
    "version": 3
   },
   "file_extension": ".py",
   "mimetype": "text/x-python",
   "name": "python",
   "nbconvert_exporter": "python",
   "pygments_lexer": "ipython3",
   "version": "3.5.3"
  }
 },
 "nbformat": 4,
 "nbformat_minor": 0
}
