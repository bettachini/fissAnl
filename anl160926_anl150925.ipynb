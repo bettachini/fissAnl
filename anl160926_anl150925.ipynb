{
 "cells": [
  {
   "cell_type": "code",
   "execution_count": 1,
   "metadata": {
    "collapsed": false
   },
   "outputs": [],
   "source": [
    "# Copia de anl150925\n",
    "\n",
    "import matplotlib\n",
    "import numpy as np\n",
    "import matplotlib.pyplot as plt\n",
    "%matplotlib inline\n",
    "# coding=utf-8"
   ]
  },
  {
   "cell_type": "markdown",
   "metadata": {},
   "source": [
    "# Análisis áreas - Intento desde limpio"
   ]
  },
  {
   "cell_type": "markdown",
   "metadata": {},
   "source": [
    "## Funciones área"
   ]
  },
  {
   "cell_type": "code",
   "execution_count": 2,
   "metadata": {
    "collapsed": false
   },
   "outputs": [],
   "source": [
    "def tauAreaMax(iAMC, prop= 0.25, rechazo= 0.05):\n",
    "    '''\n",
    "    (array, array) -> array\n",
    "    T: vector tiempos\n",
    "    Meas2: array (2,:) con Meas2[0] canal 1, Meas2[0] canal 2, producto de np.vstack\n",
    "\n",
    "    Retorna:\n",
    "    índice vector tiempo subida entre 10% y 90% canal 2 (ch2: AMC)\n",
    "    Área total: por sobre nivel de base entre 10% a izquierda y derecha (ch2: AMC)\n",
    "    Área subida: por sobre nivel de base entre 10% a izquierda y máximo (ch2: AMC)\n",
    "    Máximo (ch2: AMC)\n",
    "    '''\n",
    "    maxIx= iAMC.argmax() # índice máximo\n",
    "    # máximo promediado cercano\n",
    "    rangoCercano= 20 # tres lecturas a izq y derecha\n",
    "    iAMCMax= (iAMC[maxIx- rangoCercano: maxIx+ rangoCercano]).mean()   \n",
    "\n",
    "    erstePunkten= int(iAMC.size* prop)\n",
    "    ch2Erste= iAMC[0:erstePunkten-1]\n",
    "    iAMCProm= ch2Erste.mean()\n",
    "    \n",
    "    if (ch2Erste.std() > (np.abs((iAMCMax- iAMCProm )* rechazo))): # desvio standard AMC> (máximo- nivel base) * rechazo\n",
    "        return np.zeros(4) # cuidar que tenga igual dimensión que salida\n",
    "    else:\n",
    "        # diferencia máximo- base\n",
    "        difMaxMin= iAMCMax- iAMCProm # usa promediado cercano\n",
    "        # Diferencias de potencial para 10%, 90% de excursión\n",
    "        v10= iAMCProm+ 0.1* difMaxMin\n",
    "        v90= iAMCProm+ 0.9* difMaxMin\n",
    "        # Índices para primer potencial del pulso que exceda 10%, y último por debajo 90% \n",
    "        ixTauiAMC= np.array([maxIx, maxIx])\n",
    "        while (iAMC[ixTauiAMC[0]]> v10):\n",
    "            ixTauiAMC[0]-= 1\n",
    "        while (iAMC[ixTauiAMC[1]]> v90):\n",
    "            ixTauiAMC[1]-= 1\n",
    "        iAMCTau= ixTauiAMC[1]- ixTauiAMC[0] # el vector \n",
    "        # Area\n",
    "        ixAMC10ProzentRicht= maxIx # empiezo por máximo\n",
    "        while (iAMC[ixAMC10ProzentRicht]> v10):\n",
    "            ixAMC10ProzentRicht+= 1\n",
    "        # ixTau[1], maxIx[1], ixAMC10ProzentRicht\n",
    "        # hay que sumar diferencia AMC con este nivel desde el índice 10% izquierda hasta derecha\n",
    "        iAMCAreaSubida= (iAMC[ixTauiAMC[0]: maxIx] - iAMCProm).sum()\n",
    "        iAMCAreaTotal= iAMCAreaSubida+ (iAMC[maxIx+ 1: ixAMC10ProzentRicht] - iAMCProm).sum()\n",
    "        return np.array([iAMCTau, iAMCMax, iAMCAreaSubida, iAMCAreaTotal])"
   ]
  },
  {
   "cell_type": "code",
   "execution_count": 3,
   "metadata": {
    "collapsed": false
   },
   "outputs": [],
   "source": [
    "def conversionV(npzData):\n",
    "    \"\"\" acq -> np.array: [ceroAMCPto, pasoVerticalAMCVoltPto, ceroFLUCPto, pasoVerticalFLUCVoltPto]\n",
    "\n",
    "    Da factores de conservión para de Meas2 con niveles en enteros obtener niveles en potencial eléctrico.\n",
    "    e.g. potencialAMC= (Meas2[1,:]- ceroAMCPto)* pasoVerticalAMCVoltPto\n",
    "    \n",
    "    >>> conversionV(acq)\n",
    "    'olleh'\n",
    "    \"\"\"\n",
    "    # Constructivo del Tek 2002B\n",
    "    divVert= 8 # numero de divisiones verticales\n",
    "    divHoriz= 10\n",
    "    ptosVert= 2**8 # 8 bits definición vertical\n",
    "    ptosHoriz= 2500\n",
    "    # npZData.items() # lista los elementos en el archivo de aquisición en memoria\n",
    "    settingsList= npzData['settings'].tolist()\n",
    "    \n",
    "    # Vertical (potencial)\n",
    "    escalaFLUCVoltsDiv= settingsList['SCALE1'] # [V/div]\n",
    "    pasoVerticalFLUCVoltPto= escalaFLUCVoltsDiv* divVert/ ptosVert # [V/div]\n",
    "    escalaAMCVoltsDiv= settingsList['SCALE2'] # [V/div]\n",
    "    pasoVerticalAMCVoltPto= escalaAMCVoltsDiv* divVert/ ptosVert # [V/div]\n",
    "    ceroFLUCDiv= settingsList['POSITION1'] # [div]\n",
    "    ceroFLUCPto= ceroFLUCDiv* divVert/ ptosVert # [ptos]\n",
    "    ceroAMCDiv= settingsList['POSITION2'] # [div]\n",
    "    ceroAMCPto= ceroAMCDiv* ptosVert/ divVert # [ptos]\n",
    "    \n",
    "    return ceroAMCPto, pasoVerticalAMCVoltPto, ceroFLUCPto, pasoVerticalFLUCVoltPto"
   ]
  },
  {
   "cell_type": "code",
   "execution_count": 4,
   "metadata": {
    "collapsed": false
   },
   "outputs": [],
   "source": [
    "def agrupadorTauMaxAreas(npzData, prop=0.25):\n",
    "    '''\n",
    "    (npzData) -> (array)\n",
    "    recorre todas las adquisiciones en npzData\n",
    "    \n",
    "    entrega array con filas [tauAMCi, tauFLUCi, areaTotalAMCi, areaSubidaAMCi, maxAMCi]\n",
    "    '''\n",
    "    T= npzData['zeit']\n",
    "    AMC= npzData['ch2']\n",
    "    messungenZahl= AMC.shape\n",
    "    numAdq= messungenZahl[0] # numero de adquisiciones en npzData\n",
    "    finales= np.empty([numAdq,4])\n",
    "    validas=0\n",
    "    \n",
    "    # conversión\n",
    "    pasoT= T[1]-T[0]\n",
    "    ceroAMCPto, pasoVerticalAMCVoltPto, ceroFLUCPto, pasoVerticalFLUCVoltPto= conversionV(npzData)\n",
    "    \n",
    "    for adqActual in range(numAdq):\n",
    "        iAMC= AMC[adqActual]\n",
    "        # print(adqActual)\n",
    "        # parciales=  tauAreaMax(iAMC)\n",
    "        # parciales[0]*= pasoT\n",
    "        try: # IndexError: index out of bounds\n",
    "            parciales=  tauAreaMax(iAMC)# np.array([ixTauiAMC, iAMCMax, iAMCAreaSubida, iAMCAreaTotal]) [cuentas]\n",
    "            parciales[0]*= pasoT # ixTauiAMC [s]\n",
    "            parciales[1]= (parciales[1]- ceroAMCPto)* pasoVerticalAMCVoltPto # iAMCMax [V]\n",
    "            parciales[2]= (parciales[2]- messungenZahl[1]* ceroAMCPto)* pasoT # iAMCAreaSubida [Vs] <anl150907>\n",
    "            parciales[3]= (parciales[3]- messungenZahl[1]* ceroAMCPto)* pasoT # iAMCAreaTotal [Vs] <anl150907>\n",
    "        except IndexError:\n",
    "            parciales= np.zeros(4)\n",
    "        # print(parciales[0], parciales)\n",
    "        if (parciales[0]>0):\n",
    "            # print(validas, parciales[0], parciales[3])\n",
    "            finales[validas]= parciales\n",
    "            validas+=1\n",
    "    finales= finales[0:-(numAdq-validas)]\n",
    "    return finales"
   ]
  },
  {
   "cell_type": "code",
   "execution_count": 5,
   "metadata": {
    "collapsed": false
   },
   "outputs": [],
   "source": [
    "def desvioEstandardCuasiNoSesgado(datos):\n",
    "    '''\n",
    "    Estimador cuasi no sesgado de la desviación estandar.\n",
    "    https://en.wikipedia.org/wiki/Unbiased_estimation_of_standard_deviation\n",
    "    '''\n",
    "    media= np.mean(datos)\n",
    "    suma=0\n",
    "    for i in datos:\n",
    "        aux= (datos[i]- media)\n",
    "        suma+= aux**2\n",
    "    desv= np.sqrt(suma/( np.size(datos)- 1.5) ) \n",
    "    return desv\n",
    "\n",
    "\n",
    "def errorEstandard(datos):\n",
    "    '''\n",
    "    Estimador de la desviación estandar del promedio.\n",
    "    Usa la desviación estandar de la población y la divide por la raíz del número de elementos en la población.\n",
    "    https://en.wikipedia.org/wiki/Standard_error\n",
    "    '''\n",
    "    return desvioEstandardCuasiNoSesgado(datos)/ np.sqrt(np.size(datos))"
   ]
  },
  {
   "cell_type": "code",
   "execution_count": 6,
   "metadata": {
    "collapsed": false
   },
   "outputs": [],
   "source": [
    "def neufBin(entrada, corte, unidad='Unidad [u.a.]'):\n",
    "    bins= 120\n",
    "    binHist=corte*bins\n",
    "    fig = plt.figure(figsize=(18,5))  # an empty figure with no axes\n",
    "    ax_lst= fig.add_subplot(1,2,2)\n",
    "    n, bins, patches= ax_lst.hist(entrada, bins)\n",
    "    ax_lst.set_ylabel('Cuentas')\n",
    "    ax_lst.set_xlabel(unidad)\n",
    "    intermedio = np.ma.masked_greater(entrada, bins[binHist])\n",
    "    primerCampana= intermedio.compressed()\n",
    "    ax_lst2= fig.add_subplot(1,2,1)\n",
    "    ax_lst2.set_ylabel('Cuentas')\n",
    "    ax_lst2.set_xlabel(unidad)\n",
    "    n_i, bins_i, patches_i= ax_lst2.hist(primerCampana, bins=20)\n",
    "    return (primerCampana.size, primerCampana.mean(), errorEstandard(primerCampana) )"
   ]
  },
  {
   "cell_type": "code",
   "execution_count": 7,
   "metadata": {
    "collapsed": false
   },
   "outputs": [],
   "source": [
    "def dataPathFile(anne, mes, dia, acq):\n",
    "    path= './data/'\n",
    "    fNS= 'acq'+ '{:02n}'.format(anne)+ '{:02n}'.format(mes)+ '{:02n}'.format(dia)+ 'z'\n",
    "    fNE= '.npy.npz'\n",
    "    return path+ fNS+ '{:02n}'.format(acq)+fNE"
   ]
  },
  {
   "cell_type": "markdown",
   "metadata": {},
   "source": [
    "# Gráficas para informe"
   ]
  },
  {
   "cell_type": "code",
   "execution_count": 8,
   "metadata": {
    "collapsed": false
   },
   "outputs": [],
   "source": [
    "import matplotlib.ticker as tkr"
   ]
  },
  {
   "cell_type": "markdown",
   "metadata": {},
   "source": [
    "## Mezcla óptima "
   ]
  },
  {
   "cell_type": "code",
   "execution_count": 22,
   "metadata": {
    "collapsed": false
   },
   "outputs": [],
   "source": [
    "# 150617z06\n",
    "anne= 16\n",
    "mes= 9\n",
    "dia= 26\n",
    "acqN= 2\n",
    "npzData= np.load(dataPathFile(anne, mes, dia, acqN))"
   ]
  },
  {
   "cell_type": "code",
   "execution_count": 23,
   "metadata": {
    "collapsed": false
   },
   "outputs": [],
   "source": [
    "finales= agrupadorTauMaxAreas(npzData)"
   ]
  },
  {
   "cell_type": "code",
   "execution_count": 30,
   "metadata": {
    "collapsed": false
   },
   "outputs": [
    {
     "data": {
      "text/plain": [
       "(113, 1.2699115044247399e-07, 1.9895957173908029e-09)"
      ]
     },
     "execution_count": 30,
     "metadata": {},
     "output_type": "execute_result"
    },
    {
     "data": {
      "image/png": "[encoded data removed]",
      "text/plain": [
       "<matplotlib.figure.Figure at 0x7f11972e9c50>"
      ]
     },
     "metadata": {},
     "output_type": "display_data"
    }
   ],
   "source": [
    "# tiempos de subida (risetime AMC)\n",
    "taus= finales[:,0] # [s]\n",
    "neufBin(taus, 1, 'T [s]')"
   ]
  },
  {
   "cell_type": "code",
   "execution_count": 33,
   "metadata": {
    "collapsed": false
   },
   "outputs": [
    {
     "data": {
      "text/plain": [
       "(112, 1.2644642857142472e-07, 2.2406582885348481e-09)"
      ]
     },
     "execution_count": 33,
     "metadata": {},
     "output_type": "execute_result"
    },
    {
     "data": {
      "image/png": "[encoded data removed]",
      "text/plain": [
       "<matplotlib.figure.Figure at 0x7f1197876898>"
      ]
     },
     "metadata": {},
     "output_type": "display_data"
    }
   ],
   "source": [
    "# 150617z06\n",
    "anne= 16\n",
    "mes= 9\n",
    "dia= 26\n",
    "acqN= 1\n",
    "npzData= np.load(dataPathFile(anne, mes, dia, acqN))\n",
    "finales= agrupadorTauMaxAreas(npzData)\n",
    "# tiempos de subida (risetime AMC)\n",
    "taus= finales[:,0] # [s]\n",
    "neufBin(taus, 0.8, 'T [s]')"
   ]
  },
  {
   "cell_type": "code",
   "execution_count": 34,
   "metadata": {
    "collapsed": false
   },
   "outputs": [
    {
     "data": {
      "text/plain": [
       "(108, 1.2624074074073686e-07, 1.9146784784443149e-09)"
      ]
     },
     "execution_count": 34,
     "metadata": {},
     "output_type": "execute_result"
    },
    {
     "data": {
      "image/png": "[encoded data removed]",
      "text/plain": [
       "<matplotlib.figure.Figure at 0x7f119738de10>"
      ]
     },
     "metadata": {},
     "output_type": "display_data"
    }
   ],
   "source": [
    "# 150617z06\n",
    "anne= 16\n",
    "mes= 9\n",
    "dia= 26\n",
    "acqN= 3\n",
    "npzData= np.load(dataPathFile(anne, mes, dia, acqN))\n",
    "finales= agrupadorTauMaxAreas(npzData)\n",
    "# tiempos de subida (risetime AMC)\n",
    "taus= finales[:,0] # [s]\n",
    "neufBin(taus, 0.8, 'T [s]')"
   ]
  },
  {
   "cell_type": "code",
   "execution_count": null,
   "metadata": {
    "collapsed": false
   },
   "outputs": [],
   "source": [
    "# 150617z06\n",
    "anne= 16\n",
    "mes= 9\n",
    "dia= 26\n",
    "acqN= 5\n",
    "npzData= np.load(dataPathFile(anne, mes, dia, acqN))\n",
    "finales= agrupadorTauMaxAreas(npzData)\n",
    "# tiempos de subida (risetime AMC)\n",
    "taus= finales[:,0] # [s]\n",
    "neufBin(taus, 0.8, 'T [s]')"
   ]
  },
  {
   "cell_type": "markdown",
   "metadata": {},
   "source": [
    "### Integrador"
   ]
  },
  {
   "cell_type": "code",
   "execution_count": 69,
   "metadata": {
    "collapsed": false
   },
   "outputs": [
    {
     "data": {
      "text/plain": [
       "array([  1.50000000e-07,   1.86000000e-07,   1.24000000e-07, ...,\n",
       "         1.28000000e-07,   1.26000000e-07,   1.22000000e-07])"
      ]
     },
     "execution_count": 69,
     "metadata": {},
     "output_type": "execute_result"
    }
   ],
   "source": [
    "# 150617z06\n",
    "anne= 16\n",
    "mes= 9\n",
    "dia= 26\n",
    "todosTaus= np.empty(0)\n",
    "for acqN in np.arange(1,11):\n",
    "    npzData= np.load(dataPathFile(anne, mes, dia, acqN))\n",
    "    finales= agrupadorTauMaxAreas(npzData)\n",
    "    taus= finales[:,0] # [s]\n",
    "    todosTaus= np.hstack((todosTaus,taus))"
   ]
  },
  {
   "cell_type": "code",
   "execution_count": 73,
   "metadata": {
    "collapsed": false
   },
   "outputs": [
    {
     "data": {
      "text/plain": [
       "(1135, 1.2565991189426922e-07, 7.2295519649549762e-10)"
      ]
     },
     "execution_count": 73,
     "metadata": {},
     "output_type": "execute_result"
    },
    {
     "data": {
      "image/png": "[encoded data removed]",
      "text/plain": [
       "<matplotlib.figure.Figure at 0x7f11977de320>"
      ]
     },
     "metadata": {},
     "output_type": "display_data"
    }
   ],
   "source": [
    "neufBin(todosTaus, 0.35, 'T [s]')"
   ]
  },
  {
   "cell_type": "code",
   "execution_count": 75,
   "metadata": {
    "collapsed": false
   },
   "outputs": [],
   "source": [
    "# 150617z06\n",
    "anne= 16\n",
    "mes= 9\n",
    "dia= 26\n",
    "todosTaus2= np.empty(0)\n",
    "for acqN in np.arange(11,21):\n",
    "    npzData= np.load(dataPathFile(anne, mes, dia, acqN))\n",
    "    finales= agrupadorTauMaxAreas(npzData)\n",
    "    taus= finales[:,0] # [s]\n",
    "    todosTaus2= np.hstack((todosTaus2,taus))"
   ]
  },
  {
   "cell_type": "code",
   "execution_count": 77,
   "metadata": {
    "collapsed": false
   },
   "outputs": [
    {
     "data": {
      "text/plain": [
       "array([], dtype=float64)"
      ]
     },
     "execution_count": 77,
     "metadata": {},
     "output_type": "execute_result"
    }
   ],
   "source": [
    "todosTaus2"
   ]
  },
  {
   "cell_type": "markdown",
   "metadata": {},
   "source": [
    "### Integrador segunda toma "
   ]
  },
  {
   "cell_type": "code",
   "execution_count": 23,
   "metadata": {
    "collapsed": false
   },
   "outputs": [],
   "source": [
    "# 150617z06\n",
    "anne= 16\n",
    "mes= 9\n",
    "dia= 26\n",
    "todosTaus= np.empty(0)\n",
    "for acqN in np.arange(1,11):\n",
    "    npzData= np.load(dataPathFile(anne, mes, dia, acqN))\n",
    "    finales= agrupadorTauMaxAreas(npzData)\n",
    "    taus= finales[:,0] # [s]\n",
    "    todosTaus= np.hstack((todosTaus,taus))"
   ]
  },
  {
   "cell_type": "code",
   "execution_count": 10,
   "metadata": {
    "collapsed": false
   },
   "outputs": [
    {
     "data": {
      "text/plain": [
       "(1135, 1.2565991189426922e-07, 7.2295519649549762e-10)"
      ]
     },
     "execution_count": 10,
     "metadata": {},
     "output_type": "execute_result"
    },
    {
     "data": {
      "image/png": "[encoded data removed]",
      "text/plain": [
       "<matplotlib.figure.Figure at 0x7f5fbbb507f0>"
      ]
     },
     "metadata": {},
     "output_type": "display_data"
    }
   ],
   "source": [
    "neufBin(todosTaus, 0.35, 'T [s]')"
   ]
  },
  {
   "cell_type": "code",
   "execution_count": 28,
   "metadata": {
    "collapsed": false
   },
   "outputs": [
    {
     "data": {
      "image/png": "[encoded data removed]",
      "text/plain": [
       "<matplotlib.figure.Figure at 0x7f5fb93b4f28>"
      ]
     },
     "metadata": {},
     "output_type": "display_data"
    }
   ],
   "source": [
    "entrada= todosTaus\n",
    "corte= 0.35\n",
    "unidad= '$\\\\tau$ [s]'\n",
    "ancho= 16/2.54 # [in]\n",
    "\n",
    "bins= 120\n",
    "binHist=corte*bins\n",
    "fig = plt.figure(figsize=(ancho,2*ancho*(5/18)))  # an empty figure with no axes\n",
    "ax_lst= fig.add_subplot(1,1,1)\n",
    "n, bins, patches= ax_lst.hist(entrada, bins)\n",
    "ax_lst.set_ylabel('Cuentas')\n",
    "ax_lst.set_xlabel(unidad,fontsize=15)\n",
    "ax_lst.set_xlim(left=5E-8, right= 3.0E-7)\n",
    "\n",
    "\n",
    "def func(x, pos):  # formatter function takes tick label and tick position\n",
    "   s = '{:.1e}'.format(x)\n",
    "   return s\n",
    "x_format = tkr.FuncFormatter(func)  # make formatter\n",
    "ax_lst.xaxis.set_major_formatter(x_format)  # set formatter to needed axis\n",
    "\n",
    "intermedio = np.ma.masked_greater(entrada, bins[binHist])\n",
    "primerCampana= intermedio.compressed()\n",
    "ax_lst2= fig.add_subplot(2,2,2)\n",
    "ax_lst2.set_ylabel('Cuentas')\n",
    "ax_lst2.set_xlabel(unidad,fontsize=15)\n",
    "\n",
    "ax_lst2.set_xlim(left=0.9E-7, right= 1.7E-7)\n",
    "ax_lst2.set_ylim(top=200)\n",
    "ax_lst2.xaxis.set_major_formatter(x_format)  # set formatter to needed axis\n",
    "plt.locator_params(axis = 'x', nbins = 4)\n",
    "plt.locator_params(axis = 'y', nbins = 2)\n",
    "n_i, bins_i, patches_i= ax_lst2.hist(primerCampana, bins=20)\n",
    "plt.savefig('../presentacion/graphs/taus160629z0x.png')"
   ]
  },
  {
   "cell_type": "code",
   "execution_count": 21,
   "metadata": {
    "collapsed": false
   },
   "outputs": [
    {
     "name": "stdout",
     "output_type": "stream",
     "text": [
      "./data/acq160926z11.npy.npz\n",
      "./data/acq160926z12.npy.npz\n",
      "./data/acq160926z13.npy.npz\n",
      "./data/acq160926z14.npy.npz\n",
      "./data/acq160926z15.npy.npz\n",
      "./data/acq160926z16.npy.npz\n",
      "./data/acq160926z17.npy.npz\n",
      "./data/acq160926z18.npy.npz\n",
      "./data/acq160926z19.npy.npz\n",
      "./data/acq160926z20.npy.npz\n"
     ]
    }
   ],
   "source": [
    "# 150617z06\n",
    "anne= 16\n",
    "mes= 9\n",
    "dia= 26\n",
    "todosTaus= np.empty(0)\n",
    "for acqN in np.arange(11,21):\n",
    "    fil=dataPathFile(anne, mes, dia, acqN)\n",
    "    print(fil)\n",
    "    npzData= np.load(fil)\n",
    "    # finales= agrupadorTauMaxAreas(npzData)\n",
    "    finales= agrupadorTauMaxAreas(npzData)\n",
    "    taus= finales[:,0] # [s]\n",
    "    taus"
   ]
  },
  {
   "cell_type": "code",
   "execution_count": 20,
   "metadata": {
    "collapsed": false
   },
   "outputs": [
    {
     "data": {
      "text/plain": [
       "array([], dtype=float64)"
      ]
     },
     "execution_count": 20,
     "metadata": {},
     "output_type": "execute_result"
    }
   ],
   "source": [
    "taus"
   ]
  },
  {
   "cell_type": "code",
   "execution_count": 14,
   "metadata": {
    "collapsed": false
   },
   "outputs": [
    {
     "ename": "ValueError",
     "evalue": "x must have at least one data point",
     "output_type": "error",
     "traceback": [
      "\u001b[0;31m---------------------------------------------------------------------------\u001b[0m\n\u001b[0;31mValueError\u001b[0m                                Traceback (most recent call last)",
      "\u001b[0;32m<ipython-input-14-40139b41f4a3>\u001b[0m in \u001b[0;36m<module>\u001b[0;34m()\u001b[0m\n\u001b[0;32m----> 1\u001b[0;31m \u001b[0mneufBin\u001b[0m\u001b[0;34m(\u001b[0m\u001b[0mtodosTaus\u001b[0m\u001b[0;34m,\u001b[0m \u001b[0;36m0.35\u001b[0m\u001b[0;34m,\u001b[0m \u001b[0;34m'T [s]'\u001b[0m\u001b[0;34m)\u001b[0m\u001b[0;34m\u001b[0m\u001b[0m\n\u001b[0m",
      "\u001b[0;32m<ipython-input-6-27afaeb20e2a>\u001b[0m in \u001b[0;36mneufBin\u001b[0;34m(entrada, corte, unidad)\u001b[0m\n\u001b[1;32m      4\u001b[0m     \u001b[0mfig\u001b[0m \u001b[0;34m=\u001b[0m \u001b[0mplt\u001b[0m\u001b[0;34m.\u001b[0m\u001b[0mfigure\u001b[0m\u001b[0;34m(\u001b[0m\u001b[0mfigsize\u001b[0m\u001b[0;34m=\u001b[0m\u001b[0;34m(\u001b[0m\u001b[0;36m18\u001b[0m\u001b[0;34m,\u001b[0m\u001b[0;36m5\u001b[0m\u001b[0;34m)\u001b[0m\u001b[0;34m)\u001b[0m  \u001b[0;31m# an empty figure with no axes\u001b[0m\u001b[0;34m\u001b[0m\u001b[0m\n\u001b[1;32m      5\u001b[0m     \u001b[0max_lst\u001b[0m\u001b[0;34m=\u001b[0m \u001b[0mfig\u001b[0m\u001b[0;34m.\u001b[0m\u001b[0madd_subplot\u001b[0m\u001b[0;34m(\u001b[0m\u001b[0;36m1\u001b[0m\u001b[0;34m,\u001b[0m\u001b[0;36m2\u001b[0m\u001b[0;34m,\u001b[0m\u001b[0;36m2\u001b[0m\u001b[0;34m)\u001b[0m\u001b[0;34m\u001b[0m\u001b[0m\n\u001b[0;32m----> 6\u001b[0;31m     \u001b[0mn\u001b[0m\u001b[0;34m,\u001b[0m \u001b[0mbins\u001b[0m\u001b[0;34m,\u001b[0m \u001b[0mpatches\u001b[0m\u001b[0;34m=\u001b[0m \u001b[0max_lst\u001b[0m\u001b[0;34m.\u001b[0m\u001b[0mhist\u001b[0m\u001b[0;34m(\u001b[0m\u001b[0mentrada\u001b[0m\u001b[0;34m,\u001b[0m \u001b[0mbins\u001b[0m\u001b[0;34m)\u001b[0m\u001b[0;34m\u001b[0m\u001b[0m\n\u001b[0m\u001b[1;32m      7\u001b[0m     \u001b[0max_lst\u001b[0m\u001b[0;34m.\u001b[0m\u001b[0mset_ylabel\u001b[0m\u001b[0;34m(\u001b[0m\u001b[0;34m'Cuentas'\u001b[0m\u001b[0;34m)\u001b[0m\u001b[0;34m\u001b[0m\u001b[0m\n\u001b[1;32m      8\u001b[0m     \u001b[0max_lst\u001b[0m\u001b[0;34m.\u001b[0m\u001b[0mset_xlabel\u001b[0m\u001b[0;34m(\u001b[0m\u001b[0munidad\u001b[0m\u001b[0;34m)\u001b[0m\u001b[0;34m\u001b[0m\u001b[0m\n",
      "\u001b[0;32m/usr/lib/python3/dist-packages/matplotlib/axes/_axes.py\u001b[0m in \u001b[0;36mhist\u001b[0;34m(self, x, bins, range, normed, weights, cumulative, bottom, histtype, align, orientation, rwidth, log, color, label, stacked, **kwargs)\u001b[0m\n\u001b[1;32m   5569\u001b[0m         \u001b[0mflat\u001b[0m \u001b[0;34m=\u001b[0m \u001b[0mnp\u001b[0m\u001b[0;34m.\u001b[0m\u001b[0mravel\u001b[0m\u001b[0;34m(\u001b[0m\u001b[0mx\u001b[0m\u001b[0;34m)\u001b[0m\u001b[0;34m\u001b[0m\u001b[0m\n\u001b[1;32m   5570\u001b[0m         \u001b[0;32mif\u001b[0m \u001b[0mlen\u001b[0m\u001b[0;34m(\u001b[0m\u001b[0mflat\u001b[0m\u001b[0;34m)\u001b[0m \u001b[0;34m==\u001b[0m \u001b[0;36m0\u001b[0m\u001b[0;34m:\u001b[0m\u001b[0;34m\u001b[0m\u001b[0m\n\u001b[0;32m-> 5571\u001b[0;31m             \u001b[0;32mraise\u001b[0m \u001b[0mValueError\u001b[0m\u001b[0;34m(\u001b[0m\u001b[0;34m\"x must have at least one data point\"\u001b[0m\u001b[0;34m)\u001b[0m\u001b[0;34m\u001b[0m\u001b[0m\n\u001b[0m\u001b[1;32m   5572\u001b[0m         \u001b[0;32melif\u001b[0m \u001b[0mlen\u001b[0m\u001b[0;34m(\u001b[0m\u001b[0mflat\u001b[0m\u001b[0;34m)\u001b[0m \u001b[0;34m==\u001b[0m \u001b[0;36m1\u001b[0m \u001b[0;32mand\u001b[0m \u001b[0;32mnot\u001b[0m \u001b[0mbinsgiven\u001b[0m\u001b[0;34m:\u001b[0m\u001b[0;34m\u001b[0m\u001b[0m\n\u001b[1;32m   5573\u001b[0m             raise ValueError(\n",
      "\u001b[0;31mValueError\u001b[0m: x must have at least one data point"
     ]
    },
    {
     "data": {
      "image/png": "[encoded data removed]",
      "text/plain": [
       "<matplotlib.figure.Figure at 0x7f5fb93f6be0>"
      ]
     },
     "metadata": {},
     "output_type": "display_data"
    }
   ],
   "source": [
    "neufBin(todosTaus, 0.35, 'T [s]')"
   ]
  },
  {
   "cell_type": "code",
   "execution_count": null,
   "metadata": {
    "collapsed": false
   },
   "outputs": [],
   "source": []
  }
 ],
 "metadata": {
  "kernelspec": {
   "display_name": "Python 3",
   "language": "python",
   "name": "python3"
  },
  "language_info": {
   "codemirror_mode": {
    "name": "ipython",
    "version": 3
   },
   "file_extension": ".py",
   "mimetype": "text/x-python",
   "name": "python",
   "nbconvert_exporter": "python",
   "pygments_lexer": "ipython3",
   "version": "3.4.2"
  }
 },
 "nbformat": 4,
 "nbformat_minor": 0
}
