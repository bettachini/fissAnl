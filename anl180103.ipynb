{
 "cells": [
  {
   "cell_type": "markdown",
   "metadata": {},
   "source": [
    "# Resumen\n",
    "\n",
    "Se hace uso de las rutinas que figuran en el código `rutAnl171221` que calcula en forma correcta diferencias de potencial y tiempos de las formas de onda recuperadas desde el osciloscopio Tektronix TDS2002B. Adaptación del notebook `pulAnl170605`.\n",
    "\n",
    "El cambio de rutina responde a las modificaciones del Amplificador de Amplio Rango producto del trabajo de Leandro Marzano."
   ]
  },
  {
   "cell_type": "code",
   "execution_count": 3,
   "metadata": {
    "collapsed": false
   },
   "outputs": [],
   "source": [
    "#import matplotlib\n",
    "import numpy as np\n",
    "#import matplotlib.pyplot as plt\n",
    "\n",
    "from rutAnl171221 import * # En rutAnl160216.py residen todas las funciones basadas en las desarroladas en pulAnl160106.ipynb\n",
    "\n",
    "%matplotlib inline\n",
    "# coding=utf-8\n",
    "\n",
    "# refresca de lo importado cada vez que se hace ejecución\n",
    "%load_ext autoreload\n",
    "%autoreload 2\n",
    "\n",
    "import matplotlib.ticker as tkr # Para exportar gráficas en formato .pgf"
   ]
  },
  {
   "cell_type": "markdown",
   "metadata": {
    "collapsed": true
   },
   "source": [
    "# CFP 28 A enriquecida N2"
   ]
  },
  {
   "cell_type": "code",
   "execution_count": 2,
   "metadata": {
    "collapsed": false
   },
   "outputs": [
    {
     "name": "stderr",
     "output_type": "stream",
     "text": [
      "/oldhome/vbettachini/documents/cnea/fision/acquisition/analysis/rutAnl171221.py:156: RuntimeWarning: Mean of empty slice.\n",
      "  maxCh1= (Meas2[0][maxIx[0]- rangoCercano: maxIx[0]+ rangoCercano]).mean()\n",
      "/usr/local/lib/python3.5/dist-packages/numpy/core/_methods.py:80: RuntimeWarning: invalid value encountered in double_scalars\n",
      "  ret = ret.dtype.type(ret / rcount)\n"
     ]
    }
   ],
   "source": [
    "# `acq171220z01.npy.npz`\n",
    "tipo= 'acq'\n",
    "anne= 18\n",
    "mes= 1\n",
    "dia= 2\n",
    "rango= np.arange(1,11)\n",
    "prop= 0.2\n",
    "rechazo= 0.15\n",
    "tausAMC, areasTotalAMC, areasSubidaAMC, maximosAMC= agregador2(tipo, anne, mes, dia, rango, prop, rechazo)"
   ]
  },
  {
   "cell_type": "code",
   "execution_count": 4,
   "metadata": {
    "collapsed": false
   },
   "outputs": [
    {
     "name": "stdout",
     "output_type": "stream",
     "text": [
      "puntos campana 1272\n",
      "tauAMC= \t1.197e-07 \t+/- 5.231e-10 \t s\n",
      "areaSubidaAMC= \t6.922e-08 \t+/- 1.061e-09 \t Vs\n",
      "areaTotalAMC= \t1.622e-07 \t+/- 2.981e-09 \t Vs\n",
      "maximoAMC=  \t6.974e-01 \t+/- 7.302e-03 \t V\n"
     ]
    },
    {
     "data": {
      "image/png": "[encoded data removed]",
      "text/plain": [
       "<matplotlib.figure.Figure at 0x7f9ec0e77b70>"
      ]
     },
     "metadata": {},
     "output_type": "display_data"
    }
   ],
   "source": [
    "enmascaradaPorSobre= 0.6\n",
    "mascara, tausAMCComprimidos = binner(tausAMC, enmascaradaPorSobre)\n",
    "anchosPulser=1 # compatibilidad pulAnl160224\n",
    "areasPulser=1 # compatibilidad pulAnl160224\n",
    "maximosPulser=1  # compatibilidad pulAnl160224\n",
    "mezclaOptima= todoEnmascarado3(tipo, mascara, anchosPulser, areasPulser, maximosPulser, tausAMCComprimidos, areasTotalAMC, areasSubidaAMC, maximosAMC)"
   ]
  },
  {
   "cell_type": "code",
   "execution_count": 5,
   "metadata": {
    "collapsed": false
   },
   "outputs": [
    {
     "data": {
      "text/plain": [
       "0.1351156069364162"
      ]
     },
     "execution_count": 5,
     "metadata": {},
     "output_type": "execute_result"
    }
   ],
   "source": [
    "(1.384e-07 - 1.197e-07)/ 1.384e-07"
   ]
  },
  {
   "cell_type": "code",
   "execution_count": 7,
   "metadata": {
    "collapsed": false
   },
   "outputs": [
    {
     "data": {
      "text/plain": [
       "0.26011560693641617"
      ]
     },
     "execution_count": 7,
     "metadata": {},
     "output_type": "execute_result"
    }
   ],
   "source": [
    "(173-128)/173"
   ]
  },
  {
   "cell_type": "markdown",
   "metadata": {},
   "source": [
    "# CFP 28 B enriquecida N2"
   ]
  },
  {
   "cell_type": "code",
   "execution_count": 9,
   "metadata": {
    "collapsed": true
   },
   "outputs": [],
   "source": [
    "# `acq171220z01.npy.npz`\n",
    "tipo= 'acq'\n",
    "anne= 18\n",
    "mes= 1\n",
    "dia= 3\n",
    "rango= np.arange(1,11)\n",
    "prop= 0.2\n",
    "rechazo= 0.15\n",
    "tausAMC, areasTotalAMC, areasSubidaAMC, maximosAMC= agregador2(tipo, anne, mes, dia, rango, prop, rechazo)"
   ]
  },
  {
   "cell_type": "code",
   "execution_count": 10,
   "metadata": {
    "collapsed": false
   },
   "outputs": [
    {
     "name": "stdout",
     "output_type": "stream",
     "text": [
      "puntos campana 1268\n",
      "tauAMC= \t1.109e-07 \t+/- 3.836e-10 \t s\n",
      "areaSubidaAMC= \t9.618e-08 \t+/- 1.066e-09 \t Vs\n",
      "areaTotalAMC= \t2.325e-07 \t+/- 2.320e-09 \t Vs\n",
      "maximoAMC=  \t1.040e+00 \t+/- 9.526e-03 \t V\n"
     ]
    },
    {
     "data": {
      "image/png": "[encoded data removed]",
      "text/plain": [
       "<matplotlib.figure.Figure at 0x7f9ec0e77470>"
      ]
     },
     "metadata": {},
     "output_type": "display_data"
    }
   ],
   "source": [
    "enmascaradaPorSobre= 0.6\n",
    "mascara, tausAMCComprimidos = binner(tausAMC, enmascaradaPorSobre)\n",
    "anchosPulser=1 # compatibilidad pulAnl160224\n",
    "areasPulser=1 # compatibilidad pulAnl160224\n",
    "maximosPulser=1  # compatibilidad pulAnl160224\n",
    "mezclaOptima= todoEnmascarado3(tipo, mascara, anchosPulser, areasPulser, maximosPulser, tausAMCComprimidos, areasTotalAMC, areasSubidaAMC, maximosAMC)"
   ]
  },
  {
   "cell_type": "markdown",
   "metadata": {},
   "source": [
    "# CFP 28 C enriquecida N2"
   ]
  },
  {
   "cell_type": "code",
   "execution_count": 12,
   "metadata": {
    "collapsed": true
   },
   "outputs": [],
   "source": [
    "# `acq171220z01.npy.npz`\n",
    "tipo= 'acq'\n",
    "anne= 18\n",
    "mes= 1\n",
    "dia= 3\n",
    "rango= np.arange(11,21)\n",
    "prop= 0.2\n",
    "rechazo= 0.15\n",
    "tausAMC, areasTotalAMC, areasSubidaAMC, maximosAMC= agregador2(tipo, anne, mes, dia, rango, prop, rechazo)"
   ]
  },
  {
   "cell_type": "code",
   "execution_count": 13,
   "metadata": {
    "collapsed": false
   },
   "outputs": [
    {
     "name": "stdout",
     "output_type": "stream",
     "text": [
      "puntos campana 1262\n",
      "tauAMC= \t1.242e-07 \t+/- 4.478e-10 \t s\n",
      "areaSubidaAMC= \t1.053e-07 \t+/- 1.204e-09 \t Vs\n",
      "areaTotalAMC= \t2.571e-07 \t+/- 2.644e-09 \t Vs\n",
      "maximoAMC=  \t9.995e-01 \t+/- 8.546e-03 \t V\n"
     ]
    },
    {
     "data": {
      "image/png": "[encoded data removed]",
      "text/plain": [
       "<matplotlib.figure.Figure at 0x7f9ebe8137b8>"
      ]
     },
     "metadata": {},
     "output_type": "display_data"
    }
   ],
   "source": [
    "enmascaradaPorSobre= 0.6\n",
    "mascara, tausAMCComprimidos = binner(tausAMC, enmascaradaPorSobre)\n",
    "anchosPulser=1 # compatibilidad pulAnl160224\n",
    "areasPulser=1 # compatibilidad pulAnl160224\n",
    "maximosPulser=1  # compatibilidad pulAnl160224\n",
    "mezclaOptima= todoEnmascarado3(tipo, mascara, anchosPulser, areasPulser, maximosPulser, tausAMCComprimidos, areasTotalAMC, areasSubidaAMC, maximosAMC)"
   ]
  },
  {
   "cell_type": "markdown",
   "metadata": {},
   "source": [
    "# CFP 28 D enriquecida N2"
   ]
  },
  {
   "cell_type": "code",
   "execution_count": 14,
   "metadata": {
    "collapsed": true
   },
   "outputs": [],
   "source": [
    "# `acq171220z01.npy.npz`\n",
    "tipo= 'acq'\n",
    "anne= 18\n",
    "mes= 1\n",
    "dia= 3\n",
    "rango= np.arange(21,31)\n",
    "prop= 0.2\n",
    "rechazo= 0.15\n",
    "tausAMC, areasTotalAMC, areasSubidaAMC, maximosAMC= agregador2(tipo, anne, mes, dia, rango, prop, rechazo)"
   ]
  },
  {
   "cell_type": "code",
   "execution_count": 18,
   "metadata": {
    "collapsed": false
   },
   "outputs": [
    {
     "name": "stdout",
     "output_type": "stream",
     "text": [
      "puntos campana 1258\n",
      "tauAMC= \t1.280e-07 \t+/- 4.567e-10 \t s\n",
      "areaSubidaAMC= \t1.083e-07 \t+/- 1.273e-09 \t Vs\n",
      "areaTotalAMC= \t2.640e-07 \t+/- 2.761e-09 \t Vs\n",
      "maximoAMC=  \t9.912e-01 \t+/- 8.336e-03 \t V\n"
     ]
    },
    {
     "data": {
      "image/png": "[encoded data removed]",
      "text/plain": [
       "<matplotlib.figure.Figure at 0x7f9ebeb4e630>"
      ]
     },
     "metadata": {},
     "output_type": "display_data"
    }
   ],
   "source": [
    "enmascaradaPorSobre= 0.45\n",
    "mascara, tausAMCComprimidos = binner(tausAMC, enmascaradaPorSobre)\n",
    "anchosPulser=1 # compatibilidad pulAnl160224\n",
    "areasPulser=1 # compatibilidad pulAnl160224\n",
    "maximosPulser=1  # compatibilidad pulAnl160224\n",
    "mezclaOptima= todoEnmascarado3(tipo, mascara, anchosPulser, areasPulser, maximosPulser, tausAMCComprimidos, areasTotalAMC, areasSubidaAMC, maximosAMC)"
   ]
  },
  {
   "cell_type": "markdown",
   "metadata": {
    "collapsed": true
   },
   "source": [
    "# CFP 28 E - Ar puro"
   ]
  },
  {
   "cell_type": "code",
   "execution_count": 3,
   "metadata": {
    "collapsed": false
   },
   "outputs": [],
   "source": [
    "tipo= 'acq'\n",
    "anne= 18\n",
    "mes= 1\n",
    "dia= 5\n",
    "rango= np.arange(11,21)\n",
    "prop= 0.2\n",
    "rechazo= 0.15\n",
    "tausAMC, areasTotalAMC, areasSubidaAMC, maximosAMC= agregador2(tipo, anne, mes, dia, rango, prop, rechazo)"
   ]
  },
  {
   "cell_type": "code",
   "execution_count": 6,
   "metadata": {
    "collapsed": false
   },
   "outputs": [
    {
     "name": "stdout",
     "output_type": "stream",
     "text": [
      "puntos campana 1243\n",
      "tauAMC= \t1.432e-07 \t+/- 6.813e-10 \t s\n",
      "areaSubidaAMC= \t1.079e-07 \t+/- 1.371e-09 \t Vs\n",
      "areaTotalAMC= \t2.676e-07 \t+/- 3.185e-09 \t Vs\n",
      "maximoAMC=  \t8.572e-01 \t+/- 7.970e-03 \t V\n"
     ]
    },
    {
     "data": {
      "image/png": "[encoded data removed]",
      "text/plain": [
       "<matplotlib.figure.Figure at 0x7f8b1dacdf98>"
      ]
     },
     "metadata": {},
     "output_type": "display_data"
    }
   ],
   "source": [
    "enmascaradaPorSobre= 0.55\n",
    "mascara, tausAMCComprimidos = binner(tausAMC, enmascaradaPorSobre)\n",
    "anchosPulser=1 # compatibilidad pulAnl160224\n",
    "areasPulser=1 # compatibilidad pulAnl160224\n",
    "maximosPulser=1  # compatibilidad pulAnl160224\n",
    "mezclaOptima= todoEnmascarado3(tipo, mascara, anchosPulser, areasPulser, maximosPulser, tausAMCComprimidos, areasTotalAMC, areasSubidaAMC, maximosAMC)"
   ]
  },
  {
   "cell_type": "markdown",
   "metadata": {},
   "source": [
    "# FC 165 sin fuente"
   ]
  },
  {
   "cell_type": "code",
   "execution_count": 8,
   "metadata": {
    "collapsed": true
   },
   "outputs": [],
   "source": [
    "tipo= 'acq'\n",
    "anne= 18\n",
    "mes= 1\n",
    "dia= 5\n",
    "rango= np.arange(1,11)\n",
    "prop= 0.2\n",
    "rechazo= 0.15\n",
    "tausAMC, areasTotalAMC, areasSubidaAMC, maximosAMC= agregador2(tipo, anne, mes, dia, rango, prop, rechazo)"
   ]
  },
  {
   "cell_type": "code",
   "execution_count": 10,
   "metadata": {
    "collapsed": false
   },
   "outputs": [
    {
     "name": "stdout",
     "output_type": "stream",
     "text": [
      "puntos campana 331\n",
      "tauAMC= \t8.234e-08 \t+/- 4.284e-10 \t s\n",
      "areaSubidaAMC= \t9.594e-08 \t+/- 2.091e-09 \t Vs\n",
      "areaTotalAMC= \t2.530e-07 \t+/- 5.231e-09 \t Vs\n",
      "maximoAMC=  \t1.312e+00 \t+/- 2.710e-02 \t V\n"
     ]
    },
    {
     "data": {
      "image/png": "[encoded data removed]",
      "text/plain": [
       "<matplotlib.figure.Figure at 0x7f8b1ba8b710>"
      ]
     },
     "metadata": {},
     "output_type": "display_data"
    }
   ],
   "source": [
    "enmascaradaPorSobre= 0.35\n",
    "mascara, tausAMCComprimidos = binner(tausAMC, enmascaradaPorSobre)\n",
    "anchosPulser=1 # compatibilidad pulAnl160224\n",
    "areasPulser=1 # compatibilidad pulAnl160224\n",
    "maximosPulser=1  # compatibilidad pulAnl160224\n",
    "mezclaOptima= todoEnmascarado3(tipo, mascara, anchosPulser, areasPulser, maximosPulser, tausAMCComprimidos, areasTotalAMC, areasSubidaAMC, maximosAMC)"
   ]
  },
  {
   "cell_type": "markdown",
   "metadata": {},
   "source": [
    "# FC 165 fuente chica"
   ]
  },
  {
   "cell_type": "code",
   "execution_count": 12,
   "metadata": {
    "collapsed": true
   },
   "outputs": [],
   "source": [
    "tipo= 'acq'\n",
    "anne= 18\n",
    "mes= 1\n",
    "dia= 5\n",
    "rango= np.arange(21,31)\n",
    "prop= 0.2\n",
    "rechazo= 0.15\n",
    "tausAMC, areasTotalAMC, areasSubidaAMC, maximosAMC= agregador2(tipo, anne, mes, dia, rango, prop, rechazo)"
   ]
  },
  {
   "cell_type": "code",
   "execution_count": 14,
   "metadata": {
    "collapsed": false
   },
   "outputs": [
    {
     "name": "stdout",
     "output_type": "stream",
     "text": [
      "puntos campana 1076\n",
      "tauAMC= \t8.210e-08 \t+/- 2.277e-10 \t s\n",
      "areaSubidaAMC= \t9.592e-08 \t+/- 1.210e-09 \t Vs\n",
      "areaTotalAMC= \t2.564e-07 \t+/- 3.083e-09 \t Vs\n",
      "maximoAMC=  \t1.326e+00 \t+/- 1.632e-02 \t V\n"
     ]
    },
    {
     "data": {
      "image/png": "[encoded data removed]",
      "text/plain": [
       "<matplotlib.figure.Figure at 0x7f8b1b26bac8>"
      ]
     },
     "metadata": {},
     "output_type": "display_data"
    }
   ],
   "source": [
    "enmascaradaPorSobre= 0.3\n",
    "mascara, tausAMCComprimidos = binner(tausAMC, enmascaradaPorSobre)\n",
    "anchosPulser=1 # compatibilidad pulAnl160224\n",
    "areasPulser=1 # compatibilidad pulAnl160224\n",
    "maximosPulser=1  # compatibilidad pulAnl160224\n",
    "mezclaOptima= todoEnmascarado3(tipo, mascara, anchosPulser, areasPulser, maximosPulser, tausAMCComprimidos, areasTotalAMC, areasSubidaAMC, maximosAMC)"
   ]
  }
 ],
 "metadata": {
  "kernelspec": {
   "display_name": "Python 3",
   "language": "python",
   "name": "python3"
  },
  "language_info": {
   "codemirror_mode": {
    "name": "ipython",
    "version": 3
   },
   "file_extension": ".py",
   "mimetype": "text/x-python",
   "name": "python",
   "nbconvert_exporter": "python",
   "pygments_lexer": "ipython3",
   "version": "3.5.3"
  }
 },
 "nbformat": 4,
 "nbformat_minor": 0
}
