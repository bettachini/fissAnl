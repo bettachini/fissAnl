{
 "metadata": {
  "name": "",
  "signature": "sha256:57dd342a33b2bb73609cdee6284e2e383e5fbf348816344c0a1a7019f5449a52"
 },
 "nbformat": 3,
 "nbformat_minor": 0,
 "worksheets": [
  {
   "cells": [
    {
     "cell_type": "code",
     "collapsed": false,
     "input": [
      "import matplotlib\n",
      "import numpy as np\n",
      "import matplotlib.pyplot as plt\n",
      "\n",
      "%matplotlib inline\n",
      "# coding=utf-8"
     ],
     "language": "python",
     "metadata": {},
     "outputs": [],
     "prompt_number": 1
    },
    {
     "cell_type": "heading",
     "level": 1,
     "metadata": {},
     "source": [
      "Pulsos BL-2: area AMC, altura AMC"
     ]
    },
    {
     "cell_type": "code",
     "collapsed": false,
     "input": [
      "# Funciones auxiliares - anl150807\n",
      "\n",
      "def dataPathFile(mes, dia, acq):\n",
      "    path= './data/'\n",
      "    fNS= 'pul15'+ '{:02n}'.format(mes)+ '{:02n}'.format(dia)+ 'z'\n",
      "    fNE= '.npy.npz'\n",
      "    return path+ fNS+ '{:02n}'.format(acq)+fNE\n",
      "\n",
      "\n",
      "def desvioEstandardCuasiNoSesgado(datos):\n",
      "    '''\n",
      "    Estimador cuasi no sesgado de la desviaci\u00f3n estandar.\n",
      "    https://en.wikipedia.org/wiki/Unbiased_estimation_of_standard_deviation\n",
      "    '''\n",
      "    media= np.mean(datos)\n",
      "    suma=0\n",
      "    for i in datos:\n",
      "        aux= (datos[i]- media)\n",
      "        suma+= aux**2\n",
      "    desv= np.sqrt(suma/( np.size(datos)- 1.5) ) \n",
      "    return desv\n",
      "\n",
      "\n",
      "def errorEstandard(datos):\n",
      "    '''\n",
      "    Estimador de la desviaci\u00f3n estandar del promedio.\n",
      "    Usa la desviaci\u00f3n estandar de la poblaci\u00f3n y la divide por la ra\u00edz del n\u00famero de elementos en la poblaci\u00f3n.\n",
      "    https://en.wikipedia.org/wiki/Standard_error\n",
      "    '''\n",
      "    return desvioEstandardCuasiNoSesgado(datos)/ np.sqrt(np.size(datos))\n",
      "\n",
      "\n",
      "def baseMeas2(Meas2, messungenZahl, prop=0.25):\n",
      "    '''\n",
      "    (array, array, float) -> array\n",
      "    \n",
      "    De la primer fracci\u00f3n prop de ambos canales en Meas2,\n",
      "    obtiene el promedio y dispersi\u00f3n que se asume como nivel de base\n",
      "    grProm[0]: promedio ch1, grProm[1]: promedio ch2,\n",
      "    grProm[2]: desviaci\u00f3n estandard ch1, grProm[3]: desviaci\u00f3n estandard ch2\n",
      "    '''\n",
      "    erstePunkten= int(messungenZahl[1]* prop)\n",
      "    ch1Erste= Meas2[0][0:erstePunkten-1]\n",
      "    ch2Erste= Meas2[1][0:erstePunkten-1]\n",
      "    return np.array([ch1Erste.mean(), ch2Erste.mean(), ch1Erste.std(), ch2Erste.std() ] )"
     ],
     "language": "python",
     "metadata": {},
     "outputs": [],
     "prompt_number": 2
    },
    {
     "cell_type": "code",
     "collapsed": false,
     "input": [
      "def binner(taus, fracBinsHist, segmentos= 120):\n",
      "    binsRecorte= np.int(fracBinsHist*segmentos)\n",
      "    fig = plt.figure(figsize=(18,5))  # an empty figure with no axes\n",
      "    ax_lst= fig.add_subplot(1,2,2)\n",
      "    n, bins, patches= ax_lst.hist(taus, segmentos)\n",
      "    ax_lst.set_ylabel('Cuentas')\n",
      "    ax_lst.set_xlabel('Tau [ns]')\n",
      "    intermedio = np.ma.masked_greater(taus, bins[binsRecorte])\n",
      "    primerCampana= intermedio.compressed()\n",
      "    ax_lst2= fig.add_subplot(1,2,1)\n",
      "    ax_lst2.set_ylabel('Cuentas')\n",
      "    ax_lst2.set_xlabel('Tau [ns]')\n",
      "    n_i, bins_i, patches_i= ax_lst2.hist(primerCampana, bins=np.int(segmentos/3))\n",
      "    return primerCampana.size, primerCampana.mean(), errorEstandard(primerCampana)"
     ],
     "language": "python",
     "metadata": {},
     "outputs": [],
     "prompt_number": 3
    },
    {
     "cell_type": "code",
     "collapsed": false,
     "input": [
      "def tauCeti3eAreaMax(T, Meas2, messungenZahl, prop, rechazo=0.1):\n",
      "    '''\n",
      "    Calcula \u00edndices risetime como tiempo entre 10% y 90% de excursi\u00f3n entre nivel de base y m\u00e1ximo.\n",
      "    Retorna area por sobre nivel de base de AMC entre 10% a izquierda y derecha.\n",
      "   \n",
      "    Meas2: array (2,:) con Meas2[0] canal 1, Meas2[0] canal 2, producto de np.vstack\n",
      "    baseMeas2: base(Meas2)\n",
      "    '''\n",
      "    bMeas2= baseMeas2(Meas2, messungenZahl, prop) # niveles base\n",
      "    # print(bMeas2[3],np.abs(bMeas2[1]* rechazo))\n",
      "    \n",
      "    if ((bMeas2[3])>np.abs(bMeas2[1]* rechazo)):\n",
      "        # print('pasa tauCeti3eAreaMax')\n",
      "        return 0,0,0,0\n",
      "        # return np.array([0, 0 ])\n",
      "    else:\n",
      "        maxIx= (Meas2[0].argmax(), Meas2[1].argmax() ) # \u00edndice m\u00e1ximo\n",
      "        # m\u00e1ximo promediado cercano\n",
      "        rangoCercano= 20 # tres lecturas a izq y derecha\n",
      "        maxCH1= (Meas2[0][maxIx[0]- rangoCercano: maxIx[0]+ rangoCercano]).mean()\n",
      "        maxCH2= (Meas2[1][maxIx[1]- rangoCercano: maxIx[1]+ rangoCercano]).mean()\n",
      "        # diferencia m\u00e1ximo- base\n",
      "        deltaV= np.array([maxCH1- bMeas2[0],maxCH2- bMeas2[1]]) # usa promediado cercano\n",
      "        # Diferencias de potencial para 10%, 90% de excursi\u00f3n\n",
      "        v10= bMeas2[0:2]+ 0.1* deltaV\n",
      "        v90= bMeas2[0:2]+ 0.9* deltaV\n",
      "        # \u00cdndices para primer potencial del pulso que exceda 10%, y \u00faltimo por debajo 90% \n",
      "        ixTau= np.array([maxIx[0], maxIx[1], maxIx[0], maxIx[1]])\n",
      "        # Ancho AMC\n",
      "        while (Meas2[0,ixTau[0]]> v10[0]):\n",
      "            ixTau[0]-= 1\n",
      "        while (Meas2[1,ixTau[1]]> v10[1]):\n",
      "            ixTau[1]-= 1\n",
      "        # Ancho ch 1 (FLUC/Pulser)\n",
      "        #while (Meas2[0,ixTau[2]]> v90[0]):\n",
      "        #    ixTau[2]-= 1\n",
      "        #while (Meas2[1,ixTau[3]]> v90[1]):\n",
      "        #    ixTau[3]-= 1\n",
      "        # Area\n",
      "        ixAMC10ProzentRicht= maxIx[1] # empiezo por m\u00e1ximo\n",
      "        while ((Meas2[1, ixAMC10ProzentRicht]> v10[1]) and (ixAMC10ProzentRicht< messungenZahl[1]-1)):\n",
      "            ixAMC10ProzentRicht+= 1\n",
      "        if (ixAMC10ProzentRicht== messungenZahl[1]):\n",
      "            return 0,0,0,0,0 # Condici\u00f3n falla de \u00e1rea, pues llego desde el max hasta el final sin haber bajado\n",
      "        # ixTau[1], maxIx[1], ixAMC10ProzentRicht\n",
      "        # hay que sumar diferencia AMC con este nivel desde el \u00edndice 10% izquierda hasta derecha\n",
      "        #tauFLUC= T[ixTau[2]]- T[ixTau[0]]\n",
      "        tauAMC= T[ixTau[3]]- T[ixTau[1]]\n",
      "        AMC= Meas2[1]\n",
      "        areaTotalAMC= (AMC[ixTau[1]: ixAMC10ProzentRicht] - bMeas2[1]).sum() # suma alturas sobre bMeas2[1] (nivel base AMC)\n",
      "        areaSubidaAMC= (AMC[ixTau[1]: maxIx[1]] - bMeas2[1]).sum()\n",
      "        maxAMC= maxCH2\n",
      "        return tauAMC, areaTotalAMC, areaSubidaAMC, maxAMC\n",
      "    \n",
      "    \n",
      "def tausAreasMaxSerieAdq(npzData, prop= 0.25):\n",
      "    '''\n",
      "    Vectores risetime canal AMC de archivo acq comprimido\n",
      "    \n",
      "    npzData= numpy.lib.npyio.NpzFile\n",
      "    prop= porcentaje inferior del canal a promediar para obtener nivel de base     \n",
      "    '''\n",
      "    FLUC= npzData['ch1']\n",
      "    AMC= npzData['ch2']\n",
      "    messungenZahl= AMC.shape\n",
      "    # tiempo\n",
      "    T= npzData['zeit']\n",
      "    tauAMC= np.empty([0, 1])\n",
      "    areaSubidaAMC= np.empty([0, 1])\n",
      "    areaTotalAMC= np.empty([0, 1])\n",
      "    maxAMC= np.empty([0, 1])\n",
      "    i=0\n",
      "    q=0\n",
      "    cucho= (messungenZahl[0]- q- 1 )\n",
      "    while (i< cucho ):\n",
      "        Meas2= np.array([FLUC[i+q], AMC[i+q] ] )\n",
      "        tauAMCi, areaTotalAMCi, areaSubidaAMCi, maxAMCi= tauCeti3eAreaMax(T, Meas2, messungenZahl, prop, 0.03)\n",
      "        # print (tauAMCi, areaTotalAMCi, areaSubidaAMCi, maxAMCi)\n",
      "        if (tauAMCi!=0):\n",
      "            i+=1\n",
      "            tauAMC= np.append(tauAMC, tauAMCi)\n",
      "            areaSubidaAMC= np.append(areaSubidaAMC, areaSubidaAMCi)\n",
      "            areaTotalAMC= np.append(areaTotalAMC, areaTotalAMCi)\n",
      "            maxAMC= np.append(maxAMC, maxAMCi)\n",
      "        else:\n",
      "            # print('pasa tausAreasMaxSerieAdq')\n",
      "            q+=1\n",
      "        cucho= (messungenZahl[0]- q- 1 )\n",
      "    return tauAMC, areaSubidaAMC, areaTotalAMC, maxAMC"
     ],
     "language": "python",
     "metadata": {},
     "outputs": [],
     "prompt_number": 16
    },
    {
     "cell_type": "markdown",
     "metadata": {},
     "source": [
      "Variables a obtener:\n",
      "    - pulso entrada: \u00e1rea\n",
      "    - pulso entrada: ancho\n",
      "    - pulso entrada: m\u00e1ximo\n",
      "    - AMC: tau\n",
      "    - AMC: \u00e1rea subida\n",
      "    - AMC: \u00e1rea total\n",
      "    - AMC: m\u00e1ximo"
     ]
    },
    {
     "cell_type": "code",
     "collapsed": false,
     "input": [
      "# agregador area\n",
      "def agregadorPulser(mes, dia, rango):\n",
      "    taus= np.array([])\n",
      "    areasTotal= np.array([])\n",
      "    areasSubida= np.array([])\n",
      "    maximosAMC= np.array([])\n",
      "    for i in rango:\n",
      "        acq= np.load(dataPathFile(mes, dia, i))\n",
      "        tauAMC, areaSubida, areaTotal, maxAMC= tausAreasMaxSerieAdq(acq)\n",
      "        taus= np.append(taus, tauAMC)\n",
      "        areasTotal= np.append(areasTotal, areaTotal)\n",
      "        areasSubida= np.append(areasSubida, areaSubida)\n",
      "        maximosAMC= np.append(maximosAMC, maxAMC)\n",
      "    return taus, areasTotal, areasSubida, maximosAMC"
     ],
     "language": "python",
     "metadata": {},
     "outputs": [],
     "prompt_number": 17
    },
    {
     "cell_type": "heading",
     "level": 2,
     "metadata": {},
     "source": [
      "Corrida de ejemplo"
     ]
    },
    {
     "cell_type": "code",
     "collapsed": false,
     "input": [
      "# Un archivo\n",
      "\n",
      "# 50 ns\n",
      "mes= 10\n",
      "dia= 9\n",
      "rango= np.arange(5,6)\n",
      "\n",
      "taus, areasTotal, areasSubida, maximosAMC= agregadorPulser(mes, dia, rango)"
     ],
     "language": "python",
     "metadata": {},
     "outputs": []
    },
    {
     "cell_type": "code",
     "collapsed": false,
     "input": [
      "taus.mean(), errorEstandard(taus)"
     ],
     "language": "python",
     "metadata": {},
     "outputs": [
      {
       "metadata": {},
       "output_type": "pyout",
       "prompt_number": 14,
       "text": [
        "(-4.0382162162162157e-08, 6.175507641422075e-10)"
       ]
      }
     ],
     "prompt_number": 14
    },
    {
     "cell_type": "code",
     "collapsed": false,
     "input": [
      "plt.plot(taus)"
     ],
     "language": "python",
     "metadata": {},
     "outputs": [
      {
       "metadata": {},
       "output_type": "pyout",
       "prompt_number": 15,
       "text": [
        "[<matplotlib.lines.Line2D at 0x7f9eae4897f0>]"
       ]
      },
      {
       "metadata": {},
       "output_type": "display_data",
       "png": "[encoded data removed]",
       "text": [
        "<matplotlib.figure.Figure at 0x7f9eae267710>"
       ]
      }
     ],
     "prompt_number": 15
    },
    {
     "cell_type": "code",
     "collapsed": false,
     "input": [
      "siz, mTau, emTau= binner(taus, 0.47)\n",
      "print('tau= '+'{:.03e}'.format(mTau)+ ' +/- '+ '{:.03e}'.format(emTau))\n",
      "print(siz, mTau, emTau)"
     ],
     "language": "python",
     "metadata": {},
     "outputs": [
      {
       "output_type": "stream",
       "stream": "stdout",
       "text": [
        "tau= -5.310e-08 +/- 1.087e-10\n",
        "145 -5.30979310345e-08 1.08694617151e-10\n"
       ]
      },
      {
       "metadata": {},
       "output_type": "display_data",
       "png": "[encoded data removed]",
       "text": [
        "<matplotlib.figure.Figure at 0x7f9eae4b1390>"
       ]
      }
     ],
     "prompt_number": 9
    },
    {
     "cell_type": "code",
     "collapsed": false,
     "input": [
      "taus"
     ],
     "language": "python",
     "metadata": {},
     "outputs": [
      {
       "metadata": {},
       "output_type": "pyout",
       "prompt_number": 10,
       "text": [
        "array([ -2.36000000e-08,  -3.68000000e-08,  -4.12000000e-08,\n",
        "        -5.44000000e-08,  -4.16000000e-08,  -3.44000000e-08,\n",
        "        -3.60000000e-08,  -3.44000000e-08,  -3.80000000e-08,\n",
        "        -3.32000000e-08,  -3.24000000e-08,  -3.04000000e-08,\n",
        "        -2.80000000e-08,  -3.36000000e-08,  -4.52000000e-08,\n",
        "        -3.48000000e-08,  -3.24000000e-08,  -5.64000000e-08,\n",
        "        -3.76000000e-08,  -4.04000000e-08,  -3.72000000e-08,\n",
        "        -3.96000000e-08,  -4.44000000e-08,  -3.92000000e-08,\n",
        "        -3.92000000e-08,  -4.64000000e-08,  -4.24000000e-08,\n",
        "        -3.64000000e-08,  -5.36000000e-08,  -6.32000000e-08,\n",
        "        -3.56000000e-08,  -2.92000000e-08,  -3.44000000e-08,\n",
        "        -4.44000000e-08,  -3.12000000e-08,  -3.20000000e-08,\n",
        "        -3.36000000e-08,  -4.12000000e-08,  -5.64000000e-08,\n",
        "        -3.64000000e-08,  -3.76000000e-08,  -4.56000000e-08,\n",
        "        -4.32000000e-08,  -4.16000000e-08,  -2.44000000e-08,\n",
        "        -3.32000000e-08,  -4.56000000e-08,  -4.12000000e-08,\n",
        "        -4.48000000e-08,  -3.16000000e-08,  -4.56000000e-08,\n",
        "        -2.92000000e-08,  -5.84000000e-08,  -6.44000000e-08,\n",
        "        -2.76000000e-08,  -3.88000000e-08,  -3.44000000e-08,\n",
        "        -4.24000000e-08,  -2.44000000e-08,  -4.56000000e-08,\n",
        "        -4.44000000e-08,  -4.08000000e-08,  -3.16000000e-08,\n",
        "        -4.04000000e-08,  -3.24000000e-08,  -4.04000000e-08,\n",
        "        -4.40000000e-08,  -4.76000000e-08,  -4.72000000e-08,\n",
        "        -5.64000000e-08,  -3.52000000e-08,  -3.24000000e-08,\n",
        "        -3.72000000e-08,  -3.20000000e-08,  -4.32000000e-08,\n",
        "        -4.08000000e-08,  -3.64000000e-08,  -3.64000000e-08,\n",
        "        -4.24000000e-08,  -2.76000000e-08,  -5.16000000e-08,\n",
        "        -3.40000000e-08,  -3.44000000e-08,  -3.76000000e-08,\n",
        "        -5.04000000e-08,  -6.76000000e-08,  -4.40000000e-08,\n",
        "        -4.36000000e-08,  -4.96000000e-08,  -4.16000000e-08,\n",
        "        -4.32000000e-08,  -3.36000000e-08,  -4.92000000e-08,\n",
        "        -3.44000000e-08,  -3.32000000e-08,  -3.88000000e-08,\n",
        "        -3.44000000e-08,  -4.96000000e-08,  -6.92000000e-08,\n",
        "        -4.24000000e-08,  -5.56000000e-08,  -4.32000000e-08,\n",
        "        -4.68000000e-08,  -4.92000000e-08,  -5.56000000e-08,\n",
        "        -3.92000000e-08,  -4.52000000e-08,  -6.36000000e-08,\n",
        "        -5.64000000e-08,  -4.84000000e-08,  -4.84000000e-08,\n",
        "        -4.04000000e-08,  -4.16000000e-08,  -3.44000000e-08,\n",
        "        -3.44000000e-08,  -3.88000000e-08,  -4.12000000e-08,\n",
        "        -2.72000000e-08,  -4.52000000e-08,  -3.96000000e-08,\n",
        "        -2.84000000e-08,  -4.76000000e-08,  -4.20000000e-08,\n",
        "        -4.96000000e-08,  -3.44000000e-08,  -5.88000000e-08,\n",
        "        -3.64000000e-08,  -4.36000000e-08,  -3.52000000e-08,\n",
        "        -4.16000000e-08,  -5.04000000e-08,  -5.12000000e-08,\n",
        "        -2.76000000e-08,  -4.76000000e-08,  -4.52000000e-08,\n",
        "        -4.24000000e-08,  -4.36000000e-08,  -4.12000000e-08,\n",
        "        -3.12000000e-08,  -4.56000000e-08,  -5.44000000e-08,\n",
        "        -2.64000000e-08,  -4.32000000e-08,  -4.04000000e-08,\n",
        "        -4.32000000e-08,  -4.24000000e-08,  -3.24000000e-08,\n",
        "        -3.64000000e-08,  -5.32000000e-08,  -5.24000000e-08,\n",
        "        -6.60000000e-08,  -5.32000000e-08,  -4.52000000e-08,\n",
        "        -3.32000000e-08,  -6.44000000e-08,  -4.84000000e-08,\n",
        "        -3.52000000e-08,  -3.24000000e-08,  -3.44000000e-08,\n",
        "        -2.92000000e-08,  -3.44000000e-08,  -3.52000000e-08,\n",
        "        -4.64000000e-08,  -2.96000000e-08,  -3.32000000e-08,\n",
        "        -5.44000000e-08,  -2.84000000e-08,  -4.16000000e-08,\n",
        "        -2.84000000e-08,  -3.52000000e-08,  -3.76000000e-08,\n",
        "        -5.16000000e-08,  -4.04000000e-08,  -2.96000000e-08,\n",
        "        -5.16000000e-08,  -3.68000000e-08,  -2.92000000e-08,\n",
        "        -4.92000000e-08,  -6.00000000e-08,  -5.20000000e-08,\n",
        "        -3.44000000e-08,  -3.72000000e-08,  -4.60000000e-08,\n",
        "        -4.04000000e-08,  -3.36000000e-08,  -2.76000000e-08,\n",
        "        -5.12000000e-08,  -3.24000000e-08,  -3.28000000e-08,\n",
        "        -4.64000000e-08,  -4.84000000e-08,  -3.32000000e-08,\n",
        "        -3.32000000e-08,  -4.32000000e-08,  -2.96000000e-08,\n",
        "        -4.84000000e-08,  -3.04000000e-08,  -4.52000000e-08,\n",
        "        -4.52000000e-08,  -4.44000000e-08,  -3.24000000e-08,\n",
        "        -3.16000000e-08,  -4.12000000e-08,  -5.24000000e-08,\n",
        "        -3.80000000e-08,  -2.92000000e-08,  -4.64000000e-08,\n",
        "        -3.04000000e-08,  -3.44000000e-08,  -3.32000000e-08,\n",
        "        -3.64000000e-08,  -3.36000000e-08,  -3.84000000e-08,\n",
        "        -2.96000000e-08,  -5.20000000e-08,  -2.92000000e-08,\n",
        "        -4.16000000e-08,  -2.92000000e-08,  -4.32000000e-08,\n",
        "        -4.96000000e-08,  -3.84000000e-08,  -4.08000000e-08,\n",
        "        -4.12000000e-08,  -3.24000000e-08,  -3.80000000e-08,\n",
        "        -2.64000000e-08,  -4.36000000e-08,  -3.68000000e-08,\n",
        "        -3.64000000e-08,  -5.64000000e-08,  -4.44000000e-08,\n",
        "        -4.04000000e-08,  -4.32000000e-08,  -3.00000000e-08,\n",
        "        -5.92000000e-08,  -3.32000000e-08,  -4.84000000e-08,\n",
        "        -2.64000000e-08,  -4.36000000e-08,  -3.36000000e-08,\n",
        "        -4.56000000e-08,  -4.64000000e-08,  -5.04000000e-08,\n",
        "        -3.96000000e-08,  -3.64000000e-08,  -2.84000000e-08,\n",
        "        -4.36000000e-08,  -4.24000000e-08,  -4.12000000e-08,\n",
        "        -3.96000000e-08,  -2.92000000e-08,  -4.52000000e-08,\n",
        "        -5.36000000e-08,  -4.84000000e-08,  -6.96000000e-08,\n",
        "        -2.68000000e-08,  -3.64000000e-08,  -5.04000000e-08,\n",
        "        -5.48000000e-08,  -4.52000000e-08,  -3.92000000e-08,\n",
        "        -3.08000000e-08,  -4.52000000e-08,  -3.84000000e-08,\n",
        "        -2.92000000e-08,  -2.96000000e-08,  -5.92000000e-08,\n",
        "        -3.72000000e-08,  -4.00000000e-08,  -3.76000000e-08,\n",
        "        -5.36000000e-08,  -4.60000000e-08,  -3.24000000e-08,\n",
        "        -2.56000000e-08,  -4.36000000e-08,  -3.84000000e-08,\n",
        "        -5.04000000e-08,  -3.12000000e-08,  -4.92000000e-08,\n",
        "        -3.64000000e-08,  -4.68000000e-08,  -5.04000000e-08,\n",
        "        -4.48000000e-08,  -4.24000000e-08,  -5.04000000e-08,\n",
        "        -4.48000000e-08,  -5.44000000e-08,  -5.36000000e-08,\n",
        "        -4.12000000e-08,  -4.44000000e-08,  -3.92000000e-08,\n",
        "        -3.76000000e-08,  -4.76000000e-08,  -4.56000000e-08,\n",
        "        -5.36000000e-08,  -3.12000000e-08,  -2.64000000e-08,\n",
        "        -4.16000000e-08,  -2.84000000e-08,  -3.92000000e-08,\n",
        "        -2.76000000e-08,  -6.00000000e-08,  -5.00000000e-08,\n",
        "        -2.96000000e-08,  -3.12000000e-08,  -4.84000000e-08,\n",
        "        -2.44000000e-08,  -3.72000000e-08,  -6.48000000e-08,\n",
        "        -4.56000000e-08,  -3.84000000e-08,  -2.56000000e-08,\n",
        "        -3.52000000e-08,  -4.56000000e-08,  -4.56000000e-08,\n",
        "        -2.84000000e-08,  -3.92000000e-08,  -3.52000000e-08,\n",
        "        -4.24000000e-08,  -4.24000000e-08,  -5.16000000e-08,\n",
        "        -3.36000000e-08,  -4.56000000e-08,  -3.44000000e-08,\n",
        "        -3.72000000e-08,  -5.20000000e-08,  -3.44000000e-08,\n",
        "        -4.64000000e-08,  -4.64000000e-08,  -4.24000000e-08,\n",
        "        -3.36000000e-08,  -3.12000000e-08,  -4.96000000e-08,\n",
        "        -4.76000000e-08,  -4.84000000e-08,  -2.48000000e-08,\n",
        "        -2.56000000e-08,  -3.72000000e-08,  -4.08000000e-08,\n",
        "        -3.04000000e-08,  -4.84000000e-08,  -5.76000000e-08,\n",
        "        -4.44000000e-08,  -3.88000000e-08,  -4.32000000e-08,\n",
        "        -4.64000000e-08,  -3.96000000e-08,  -3.64000000e-08,\n",
        "        -3.28000000e-08,  -3.44000000e-08,  -3.24000000e-08,\n",
        "        -4.12000000e-08,  -4.56000000e-08,  -3.72000000e-08,\n",
        "        -3.44000000e-08,  -2.88000000e-08,  -4.36000000e-08,\n",
        "        -2.96000000e-08,  -4.80000000e-08,  -5.44000000e-08,\n",
        "        -5.20000000e-08,  -3.64000000e-08,  -4.04000000e-08,\n",
        "        -4.76000000e-08,  -3.96000000e-08,  -3.80000000e-08,\n",
        "        -5.24000000e-08,  -3.56000000e-08,  -3.72000000e-08,\n",
        "        -4.52000000e-08,  -3.24000000e-08,  -3.32000000e-08,\n",
        "        -3.24000000e-08,  -2.80000000e-08,  -3.04000000e-08,\n",
        "        -4.44000000e-08,  -4.64000000e-08,  -3.08000000e-08,\n",
        "        -3.84000000e-08,  -3.68000000e-08,  -4.84000000e-08,\n",
        "        -4.16000000e-08,  -4.08000000e-08,  -4.64000000e-08,\n",
        "        -4.40000000e-08,  -2.76000000e-08,  -3.80000000e-08,\n",
        "        -3.52000000e-08,  -4.24000000e-08,  -6.44000000e-08,\n",
        "        -3.52000000e-08,  -4.44000000e-08,  -4.56000000e-08,\n",
        "        -4.16000000e-08,  -3.76000000e-08,  -3.60000000e-08,\n",
        "        -2.44000000e-08,  -3.40000000e-08,  -2.92000000e-08,\n",
        "        -3.56000000e-08,  -4.12000000e-08,  -2.84000000e-08,\n",
        "        -4.04000000e-08,  -2.84000000e-08,  -3.24000000e-08,\n",
        "        -3.64000000e-08,  -4.52000000e-08,  -4.96000000e-08,\n",
        "        -4.44000000e-08,  -3.64000000e-08,  -3.96000000e-08,\n",
        "        -4.04000000e-08,  -4.76000000e-08,  -2.92000000e-08,\n",
        "        -3.52000000e-08,  -4.84000000e-08,  -3.20000000e-08,\n",
        "        -4.92000000e-08,  -3.24000000e-08,  -4.96000000e-08,\n",
        "        -4.12000000e-08,  -4.16000000e-08,  -3.52000000e-08,\n",
        "        -3.24000000e-08,  -3.12000000e-08,  -4.04000000e-08,\n",
        "        -4.16000000e-08,  -5.32000000e-08,  -2.84000000e-08,\n",
        "        -5.16000000e-08,  -2.96000000e-08,  -5.44000000e-08,\n",
        "        -3.00000000e-08,  -3.64000000e-08,  -2.52000000e-08,\n",
        "        -3.64000000e-08,  -4.12000000e-08,  -3.52000000e-08,\n",
        "        -3.64000000e-08,  -4.64000000e-08,  -4.84000000e-08,\n",
        "        -4.44000000e-08,  -4.12000000e-08,  -3.48000000e-08,\n",
        "        -3.04000000e-08,  -4.52000000e-08,  -4.84000000e-08,\n",
        "        -4.24000000e-08,  -4.72000000e-08,  -4.00000000e-08,\n",
        "        -4.84000000e-08,  -3.12000000e-08,  -4.12000000e-08,\n",
        "        -3.48000000e-08,  -3.32000000e-08,  -5.04000000e-08,\n",
        "        -2.52000000e-08,  -4.56000000e-08,  -3.64000000e-08,\n",
        "        -4.24000000e-08,  -3.04000000e-08,  -3.64000000e-08,\n",
        "        -3.84000000e-08,  -5.64000000e-08,  -4.52000000e-08,\n",
        "        -4.64000000e-08,  -4.00000000e-08,  -3.24000000e-08,\n",
        "        -4.52000000e-08,  -4.20000000e-08,  -3.20000000e-08,\n",
        "        -3.44000000e-08,  -4.32000000e-08,  -4.24000000e-08,\n",
        "        -4.96000000e-08,  -4.64000000e-08,  -4.04000000e-08,\n",
        "        -2.92000000e-08,  -4.84000000e-08,  -5.80000000e-08,\n",
        "        -2.96000000e-08,  -4.36000000e-08,  -5.84000000e-08,\n",
        "        -3.04000000e-08,  -4.64000000e-08,  -5.20000000e-08,\n",
        "        -2.56000000e-08,  -4.12000000e-08,  -3.28000000e-08,\n",
        "        -5.32000000e-08,  -3.76000000e-08,  -4.80000000e-08,\n",
        "        -3.00000000e-08,  -2.44000000e-08,  -4.60000000e-08,\n",
        "        -3.64000000e-08,  -4.08000000e-08,  -4.44000000e-08,\n",
        "        -2.24000000e-08,  -4.72000000e-08,  -4.00000000e-08,\n",
        "        -3.64000000e-08,  -5.52000000e-08,  -3.04000000e-08,\n",
        "        -2.72000000e-08,  -2.92000000e-08,  -3.72000000e-08,\n",
        "        -4.32000000e-08,  -3.64000000e-08,  -3.68000000e-08,\n",
        "        -3.72000000e-08,  -4.44000000e-08,  -3.72000000e-08,\n",
        "        -4.04000000e-08,  -2.56000000e-08,  -3.32000000e-08,\n",
        "        -3.20000000e-08,  -3.84000000e-08,  -4.84000000e-08,\n",
        "        -3.88000000e-08,  -4.64000000e-08,  -4.24000000e-08,\n",
        "        -5.36000000e-08,  -3.24000000e-08,  -4.84000000e-08,\n",
        "        -3.72000000e-08,  -3.12000000e-08,  -4.32000000e-08,\n",
        "        -3.32000000e-08,  -4.88000000e-08,  -3.44000000e-08,\n",
        "        -3.04000000e-08,  -3.80000000e-08,  -2.96000000e-08,\n",
        "        -2.80000000e-08,  -4.44000000e-08,  -2.96000000e-08,\n",
        "        -3.84000000e-08,  -3.64000000e-08,  -3.56000000e-08,\n",
        "        -3.44000000e-08,  -3.52000000e-08,  -4.24000000e-08,\n",
        "        -3.84000000e-08,  -3.24000000e-08,  -3.84000000e-08,\n",
        "        -4.56000000e-08,  -5.36000000e-08,  -4.24000000e-08,\n",
        "        -4.28000000e-08,  -3.84000000e-08,  -3.32000000e-08,\n",
        "        -4.24000000e-08,  -3.76000000e-08,  -2.32000000e-08,\n",
        "        -4.72000000e-08,  -3.56000000e-08,  -3.04000000e-08,\n",
        "        -3.44000000e-08,  -4.00000000e-08,  -3.92000000e-08,\n",
        "        -4.00000000e-08,  -5.08000000e-08,  -3.36000000e-08,\n",
        "        -4.32000000e-08,  -3.44000000e-08,  -4.52000000e-08,\n",
        "        -4.04000000e-08,  -3.32000000e-08,  -3.24000000e-08,\n",
        "        -5.64000000e-08,  -5.12000000e-08,  -5.04000000e-08,\n",
        "        -2.92000000e-08,  -2.72000000e-08,  -3.84000000e-08,\n",
        "        -6.52000000e-08,  -4.56000000e-08,  -3.64000000e-08,\n",
        "        -4.36000000e-08,  -5.36000000e-08,  -5.04000000e-08,\n",
        "        -4.76000000e-08,  -3.92000000e-08,  -2.52000000e-08,\n",
        "        -3.12000000e-08,  -2.64000000e-08,  -3.44000000e-08,\n",
        "        -3.52000000e-08,  -3.84000000e-08,  -3.80000000e-08,\n",
        "        -3.64000000e-08,  -2.84000000e-08,  -4.64000000e-08,\n",
        "        -3.92000000e-08,  -3.84000000e-08,  -3.92000000e-08,\n",
        "        -3.92000000e-08,  -3.32000000e-08,  -4.24000000e-08,\n",
        "        -4.52000000e-08,  -3.36000000e-08,  -2.68000000e-08,\n",
        "        -3.44000000e-08,  -5.12000000e-08,  -3.24000000e-08,\n",
        "        -4.08000000e-08,  -3.92000000e-08,  -4.12000000e-08,\n",
        "        -4.24000000e-08,  -5.84000000e-08,  -4.32000000e-08,\n",
        "        -2.64000000e-08,  -3.96000000e-08,  -4.44000000e-08,\n",
        "        -4.24000000e-08,  -3.96000000e-08,  -2.68000000e-08,\n",
        "        -4.84000000e-08,  -2.64000000e-08,  -4.84000000e-08,\n",
        "        -3.68000000e-08,  -4.08000000e-08,  -2.84000000e-08,\n",
        "        -4.92000000e-08,  -4.84000000e-08,  -4.04000000e-08,\n",
        "        -2.92000000e-08,  -4.04000000e-08,  -4.16000000e-08,\n",
        "        -3.96000000e-08,  -4.52000000e-08,  -3.84000000e-08,\n",
        "        -4.56000000e-08,  -4.36000000e-08,  -4.32000000e-08,\n",
        "        -4.56000000e-08,  -3.44000000e-08,  -3.04000000e-08,\n",
        "        -4.12000000e-08,  -3.92000000e-08,  -3.96000000e-08,\n",
        "        -5.56000000e-08,  -3.68000000e-08,  -4.36000000e-08,\n",
        "        -4.36000000e-08,  -4.84000000e-08,  -3.84000000e-08,\n",
        "        -4.24000000e-08,  -3.76000000e-08,  -5.48000000e-08,\n",
        "        -3.44000000e-08,  -4.36000000e-08,  -3.16000000e-08,\n",
        "        -4.32000000e-08,  -4.64000000e-08,  -5.16000000e-08,\n",
        "        -4.84000000e-08,  -3.16000000e-08,  -5.64000000e-08,\n",
        "        -4.24000000e-08,  -2.76000000e-08,  -3.84000000e-08,\n",
        "        -6.80000000e-08,  -4.64000000e-08,  -3.24000000e-08,\n",
        "        -3.64000000e-08,  -3.76000000e-08,  -5.60000000e-08,\n",
        "        -3.64000000e-08,  -3.92000000e-08,  -3.44000000e-08,\n",
        "        -4.56000000e-08,  -4.28000000e-08,  -4.72000000e-08,\n",
        "        -6.32000000e-08,  -4.56000000e-08,  -4.24000000e-08,\n",
        "        -5.20000000e-08,  -2.84000000e-08,  -3.76000000e-08,\n",
        "        -4.12000000e-08,  -4.52000000e-08,  -3.80000000e-08,\n",
        "        -5.32000000e-08,  -3.68000000e-08,  -3.56000000e-08,\n",
        "        -4.52000000e-08,  -4.44000000e-08,  -4.84000000e-08,\n",
        "        -3.76000000e-08,  -3.56000000e-08,  -4.28000000e-08,\n",
        "        -5.44000000e-08,  -2.84000000e-08,  -3.32000000e-08,\n",
        "        -3.72000000e-08,  -4.04000000e-08,  -5.04000000e-08,\n",
        "        -3.52000000e-08,  -3.32000000e-08,  -5.64000000e-08,\n",
        "        -4.04000000e-08,  -4.04000000e-08,  -4.24000000e-08,\n",
        "        -4.44000000e-08,  -4.92000000e-08,  -4.04000000e-08,\n",
        "        -3.04000000e-08,  -3.80000000e-08,  -3.76000000e-08,\n",
        "        -3.36000000e-08,  -5.64000000e-08,  -2.84000000e-08,\n",
        "        -3.32000000e-08,  -4.56000000e-08,  -3.44000000e-08,\n",
        "        -4.52000000e-08,  -4.72000000e-08,  -4.52000000e-08,\n",
        "        -3.52000000e-08,  -2.44000000e-08,  -2.84000000e-08,\n",
        "        -4.32000000e-08,  -4.36000000e-08,  -6.56000000e-08,\n",
        "        -3.24000000e-08,  -2.92000000e-08,  -4.12000000e-08,\n",
        "        -4.84000000e-08,  -3.72000000e-08,  -3.68000000e-08,\n",
        "        -3.28000000e-08,  -3.60000000e-08,  -4.32000000e-08,\n",
        "        -4.92000000e-08,  -4.12000000e-08,  -3.28000000e-08,\n",
        "        -3.96000000e-08,  -3.24000000e-08])"
       ]
      }
     ],
     "prompt_number": 10
    },
    {
     "cell_type": "heading",
     "level": 2,
     "metadata": {},
     "source": [
      "Verificaci\u00f3n de fallas"
     ]
    },
    {
     "cell_type": "code",
     "collapsed": false,
     "input": [
      "# solo una adquisici\u00f3n\n",
      "i=1\n",
      "acq= np.load(dataPathFile(mes, dia, i))"
     ],
     "language": "python",
     "metadata": {},
     "outputs": [],
     "prompt_number": 147
    },
    {
     "cell_type": "code",
     "collapsed": false,
     "input": [
      "# solo un pulso\n",
      "npzData= acq\n",
      "\n",
      "i=0\n",
      "q=9\n",
      "FLUC= npzData['ch1']\n",
      "AMC= npzData['ch2']\n",
      "messungenZahl= AMC.shape\n",
      "# tiempo\n",
      "T= npzData['zeit']\n",
      "Meas2= np.array([FLUC[i+q], AMC[i+q] ] )"
     ],
     "language": "python",
     "metadata": {},
     "outputs": [],
     "prompt_number": 148
    },
    {
     "cell_type": "code",
     "collapsed": false,
     "input": [
      "prop= 0.25\n",
      "a,b,c,d,e= tauCeti3eAreaMax(T, Meas2, messungenZahl, prop)"
     ],
     "language": "python",
     "metadata": {},
     "outputs": [
      {
       "output_type": "stream",
       "stream": "stdout",
       "text": [
        "1.78085183763 7.44102564103\n"
       ]
      },
      {
       "ename": "IndexError",
       "evalue": "index 2500 is out of bounds for axis 1 with size 2500",
       "output_type": "pyerr",
       "traceback": [
        "\u001b[0;31m---------------------------------------------------------------------------\u001b[0m\n\u001b[0;31mIndexError\u001b[0m                                Traceback (most recent call last)",
        "\u001b[0;32m<ipython-input-8-e8c41013ab41>\u001b[0m in \u001b[0;36m<module>\u001b[0;34m()\u001b[0m\n\u001b[1;32m      1\u001b[0m \u001b[0mprop\u001b[0m\u001b[0;34m=\u001b[0m \u001b[0;36m0.25\u001b[0m\u001b[0;34m\u001b[0m\u001b[0m\n\u001b[0;32m----> 2\u001b[0;31m \u001b[0ma\u001b[0m\u001b[0;34m,\u001b[0m\u001b[0mb\u001b[0m\u001b[0;34m,\u001b[0m\u001b[0mc\u001b[0m\u001b[0;34m,\u001b[0m\u001b[0md\u001b[0m\u001b[0;34m,\u001b[0m\u001b[0me\u001b[0m\u001b[0;34m=\u001b[0m \u001b[0mtauCeti3eAreaMax\u001b[0m\u001b[0;34m(\u001b[0m\u001b[0mT\u001b[0m\u001b[0;34m,\u001b[0m \u001b[0mMeas2\u001b[0m\u001b[0;34m,\u001b[0m \u001b[0mmessungenZahl\u001b[0m\u001b[0;34m,\u001b[0m \u001b[0mprop\u001b[0m\u001b[0;34m)\u001b[0m\u001b[0;34m\u001b[0m\u001b[0m\n\u001b[0m",
        "\u001b[0;32m<ipython-input-3-2fce92024eab>\u001b[0m in \u001b[0;36mtauCeti3eAreaMax\u001b[0;34m(T, Meas2, messungenZahl, prop, rechazo)\u001b[0m\n\u001b[1;32m     37\u001b[0m         \u001b[0;31m# Area\u001b[0m\u001b[0;34m\u001b[0m\u001b[0;34m\u001b[0m\u001b[0m\n\u001b[1;32m     38\u001b[0m         \u001b[0mixAMC10ProzentRicht\u001b[0m\u001b[0;34m=\u001b[0m \u001b[0mmaxIx\u001b[0m\u001b[0;34m[\u001b[0m\u001b[0;36m1\u001b[0m\u001b[0;34m]\u001b[0m \u001b[0;31m# empiezo por m\u00e1ximo\u001b[0m\u001b[0;34m\u001b[0m\u001b[0m\n\u001b[0;32m---> 39\u001b[0;31m         \u001b[0;32mwhile\u001b[0m \u001b[0;34m(\u001b[0m\u001b[0mMeas2\u001b[0m\u001b[0;34m[\u001b[0m\u001b[0;36m1\u001b[0m\u001b[0;34m,\u001b[0m \u001b[0mixAMC10ProzentRicht\u001b[0m\u001b[0;34m]\u001b[0m\u001b[0;34m>\u001b[0m \u001b[0mv10\u001b[0m\u001b[0;34m[\u001b[0m\u001b[0;36m1\u001b[0m\u001b[0;34m]\u001b[0m\u001b[0;34m)\u001b[0m\u001b[0;34m:\u001b[0m\u001b[0;34m\u001b[0m\u001b[0m\n\u001b[0m\u001b[1;32m     40\u001b[0m             \u001b[0mixAMC10ProzentRicht\u001b[0m\u001b[0;34m+=\u001b[0m \u001b[0;36m1\u001b[0m\u001b[0;34m\u001b[0m\u001b[0m\n\u001b[1;32m     41\u001b[0m         \u001b[0;31m# ixTau[1], maxIx[1], ixAMC10ProzentRicht\u001b[0m\u001b[0;34m\u001b[0m\u001b[0;34m\u001b[0m\u001b[0m\n",
        "\u001b[0;31mIndexError\u001b[0m: index 2500 is out of bounds for axis 1 with size 2500"
       ]
      }
     ],
     "prompt_number": 8
    },
    {
     "cell_type": "markdown",
     "metadata": {},
     "source": [
      "Falla con el de \u00edndice 9 -> graficar"
     ]
    },
    {
     "cell_type": "code",
     "collapsed": false,
     "input": [
      "# Auxiliar gr\u00e1fico: nivel de base y m\u00e1ximos\n",
      "bMeas2= baseMeas2(Meas2, messungenZahl, prop) # niveles base\n",
      "maxIx= (Meas2[0].argmax(), Meas2[1].argmax() ) # \u00edndice m\u00e1ximo\n",
      "iMaxCh1, iMaxCh2= maxIx"
     ],
     "language": "python",
     "metadata": {},
     "outputs": [],
     "prompt_number": 11
    },
    {
     "cell_type": "code",
     "collapsed": false,
     "input": [
      "'''\n",
      "Grafica ambos canales, niveles de base (izquierda), m\u00e1ximos, 10% y 90% del risetime\n",
      "\n",
      "(T, Meas2) (maxCH1_index, maxCH2_index, iProcent10, iProcent90) -> \n",
      "'''\n",
      "\n",
      "# Gr\u00e1fica max, nivel cero, etc.\n",
      "fig, (ax0, ax1) = plt.subplots(nrows=2, sharex=True)\n",
      "fig.set_size_inches(10,8)\n",
      "fig.subplots_adjust(hspace=0.000)\n",
      "# Axis 0\n",
      "ax0.plot(T, Meas2[0,:], 'y')\n",
      "# Make the y-axis label and tick labels match the line color.\n",
      "ax0.set_ylabel('ch 1 [arb]', color='y')\n",
      "ax0.grid(True)\n",
      "# Axis 1\n",
      "ax1.plot(T, Meas2[1,:], 'c')\n",
      "ax1.set_ylabel('ch 2 [arb]', color='c')\n",
      "ax1.set_xlabel('tiempo [s]')\n",
      "ax1.grid(True)\n",
      "# zero level lines\n",
      "erstePunkten= int(messungenZahl[1]* prop) # auxiliar\n",
      "zeroT= T[0:(erstePunkten- 1)]\n",
      "zeroAx0= np.ones([erstePunkten- 1, 1])* bMeas2[0]\n",
      "zeroAx1= np.ones([erstePunkten- 1, 1])* bMeas2[1]\n",
      "ax0.plot(zeroT, zeroAx0, 'k-')\n",
      "ax1.plot(zeroT, zeroAx1, 'k-')\n",
      "# marks maxima\n",
      "ax0.scatter(T[iMaxCh1], Meas2[0,:][iMaxCh1], marker='o')\n",
      "ax1.scatter(T[iMaxCh2], Meas2[1,:][iMaxCh2], marker='o')\n",
      "# risetime FLUC\n",
      "ax0.scatter(T[ixTau[0]], Meas2[0,:][ixTau[0]], marker='o')\n",
      "ax0.scatter(T[ixTau[2]], Meas2[0,:][ixTau[2]], marker='o')\n",
      "# risetime AMC\n",
      "ax1.scatter(T[i10Ch2], Meas2[1,:][i10Ch2], marker='o')\n",
      "ax1.scatter(T[i90Ch2], Meas2[1,:][i90Ch2], marker='o')\n",
      "\n",
      "#plt.savefig('1090prozent.pdf')\n",
      "plt.show()"
     ],
     "language": "python",
     "metadata": {},
     "outputs": [
      {
       "ename": "NameError",
       "evalue": "name 'ixTau' is not defined",
       "output_type": "pyerr",
       "traceback": [
        "\u001b[0;31m---------------------------------------------------------------------------\u001b[0m\n\u001b[0;31mNameError\u001b[0m                                 Traceback (most recent call last)",
        "\u001b[0;32m<ipython-input-12-ae0f3d9bdcd9>\u001b[0m in \u001b[0;36m<module>\u001b[0;34m()\u001b[0m\n\u001b[1;32m     30\u001b[0m \u001b[0max1\u001b[0m\u001b[0;34m.\u001b[0m\u001b[0mscatter\u001b[0m\u001b[0;34m(\u001b[0m\u001b[0mT\u001b[0m\u001b[0;34m[\u001b[0m\u001b[0miMaxCh2\u001b[0m\u001b[0;34m]\u001b[0m\u001b[0;34m,\u001b[0m \u001b[0mMeas2\u001b[0m\u001b[0;34m[\u001b[0m\u001b[0;36m1\u001b[0m\u001b[0;34m,\u001b[0m\u001b[0;34m:\u001b[0m\u001b[0;34m]\u001b[0m\u001b[0;34m[\u001b[0m\u001b[0miMaxCh2\u001b[0m\u001b[0;34m]\u001b[0m\u001b[0;34m,\u001b[0m \u001b[0mmarker\u001b[0m\u001b[0;34m=\u001b[0m\u001b[0;34m'o'\u001b[0m\u001b[0;34m)\u001b[0m\u001b[0;34m\u001b[0m\u001b[0m\n\u001b[1;32m     31\u001b[0m \u001b[0;31m# risetime FLUC\u001b[0m\u001b[0;34m\u001b[0m\u001b[0;34m\u001b[0m\u001b[0m\n\u001b[0;32m---> 32\u001b[0;31m \u001b[0max0\u001b[0m\u001b[0;34m.\u001b[0m\u001b[0mscatter\u001b[0m\u001b[0;34m(\u001b[0m\u001b[0mT\u001b[0m\u001b[0;34m[\u001b[0m\u001b[0mixTau\u001b[0m\u001b[0;34m[\u001b[0m\u001b[0;36m0\u001b[0m\u001b[0;34m]\u001b[0m\u001b[0;34m]\u001b[0m\u001b[0;34m,\u001b[0m \u001b[0mMeas2\u001b[0m\u001b[0;34m[\u001b[0m\u001b[0;36m0\u001b[0m\u001b[0;34m,\u001b[0m\u001b[0;34m:\u001b[0m\u001b[0;34m]\u001b[0m\u001b[0;34m[\u001b[0m\u001b[0mixTau\u001b[0m\u001b[0;34m[\u001b[0m\u001b[0;36m0\u001b[0m\u001b[0;34m]\u001b[0m\u001b[0;34m]\u001b[0m\u001b[0;34m,\u001b[0m \u001b[0mmarker\u001b[0m\u001b[0;34m=\u001b[0m\u001b[0;34m'o'\u001b[0m\u001b[0;34m)\u001b[0m\u001b[0;34m\u001b[0m\u001b[0m\n\u001b[0m\u001b[1;32m     33\u001b[0m \u001b[0max0\u001b[0m\u001b[0;34m.\u001b[0m\u001b[0mscatter\u001b[0m\u001b[0;34m(\u001b[0m\u001b[0mT\u001b[0m\u001b[0;34m[\u001b[0m\u001b[0mixTau\u001b[0m\u001b[0;34m[\u001b[0m\u001b[0;36m2\u001b[0m\u001b[0;34m]\u001b[0m\u001b[0;34m]\u001b[0m\u001b[0;34m,\u001b[0m \u001b[0mMeas2\u001b[0m\u001b[0;34m[\u001b[0m\u001b[0;36m0\u001b[0m\u001b[0;34m,\u001b[0m\u001b[0;34m:\u001b[0m\u001b[0;34m]\u001b[0m\u001b[0;34m[\u001b[0m\u001b[0mixTau\u001b[0m\u001b[0;34m[\u001b[0m\u001b[0;36m2\u001b[0m\u001b[0;34m]\u001b[0m\u001b[0;34m]\u001b[0m\u001b[0;34m,\u001b[0m \u001b[0mmarker\u001b[0m\u001b[0;34m=\u001b[0m\u001b[0;34m'o'\u001b[0m\u001b[0;34m)\u001b[0m\u001b[0;34m\u001b[0m\u001b[0m\n\u001b[1;32m     34\u001b[0m \u001b[0;31m# risetime AMC\u001b[0m\u001b[0;34m\u001b[0m\u001b[0;34m\u001b[0m\u001b[0m\n",
        "\u001b[0;31mNameError\u001b[0m: name 'ixTau' is not defined"
       ]
      },
      {
       "metadata": {},
       "output_type": "display_data",
       "png": "[encoded data removed]",
       "text": [
        "<matplotlib.figure.Figure at 0x7efc6c84df60>"
       ]
      }
     ],
     "prompt_number": 12
    },
    {
     "cell_type": "code",
     "collapsed": false,
     "input": [],
     "language": "python",
     "metadata": {},
     "outputs": []
    },
    {
     "cell_type": "code",
     "collapsed": false,
     "input": [
      "a,b"
     ],
     "language": "python",
     "metadata": {},
     "outputs": [
      {
       "metadata": {},
       "output_type": "pyout",
       "prompt_number": 36,
       "text": [
        "(0, 0)"
       ]
      }
     ],
     "prompt_number": 36
    },
    {
     "cell_type": "markdown",
     "metadata": {},
     "source": [
      "Pero se puede escribir con m\u00faltiples salidas"
     ]
    },
    {
     "cell_type": "code",
     "collapsed": false,
     "input": [
      "z= [1,34,-3,234]\n",
      "[a,b,c,d]=z\n",
      "a,b,c,d"
     ],
     "language": "python",
     "metadata": {},
     "outputs": [
      {
       "metadata": {},
       "output_type": "pyout",
       "prompt_number": 24,
       "text": [
        "(1, 34, -3, 234)"
       ]
      }
     ],
     "prompt_number": 24
    },
    {
     "cell_type": "code",
     "collapsed": false,
     "input": [
      "def cosa():\n",
      "    a= 1\n",
      "    b=a+1\n",
      "    c=b+1\n",
      "    d=c+1\n",
      "    return a,b,c,d"
     ],
     "language": "python",
     "metadata": {},
     "outputs": [],
     "prompt_number": 1
    },
    {
     "cell_type": "code",
     "collapsed": false,
     "input": [
      "def cosa2():\n",
      "    ai,bi,ci,di= cosa()\n",
      "    return ai,bi,ci,di"
     ],
     "language": "python",
     "metadata": {},
     "outputs": [],
     "prompt_number": 6
    },
    {
     "cell_type": "code",
     "collapsed": false,
     "input": [
      "cosa2()"
     ],
     "language": "python",
     "metadata": {},
     "outputs": [
      {
       "metadata": {},
       "output_type": "pyout",
       "prompt_number": 7,
       "text": [
        "(1, 2, 3, 4)"
       ]
      }
     ],
     "prompt_number": 7
    },
    {
     "cell_type": "code",
     "collapsed": false,
     "input": [
      "np.size(Meas2[0][:])"
     ],
     "language": "python",
     "metadata": {},
     "outputs": [
      {
       "metadata": {},
       "output_type": "pyout",
       "prompt_number": 159,
       "text": [
        "2500"
       ]
      }
     ],
     "prompt_number": 159
    },
    {
     "cell_type": "code",
     "collapsed": false,
     "input": [],
     "language": "python",
     "metadata": {},
     "outputs": []
    }
   ],
   "metadata": {}
  }
 ]
}