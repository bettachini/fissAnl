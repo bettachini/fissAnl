{
 "metadata": {
  "name": "",
  "signature": "sha256:a607e5382c5fcda4f4a3a3bef7fdfdd4dfeb8f1bbfa968c5f0ac00cc84fb2dfd"
 },
 "nbformat": 3,
 "nbformat_minor": 0,
 "worksheets": [
  {
   "cells": [
    {
     "cell_type": "code",
     "collapsed": false,
     "input": [
      "import matplotlib\n",
      "import numpy as np\n",
      "import matplotlib.pyplot as plt\n",
      "%matplotlib inline\n",
      "# coding=utf-8\n",
      "\n",
      "import time\n",
      "\n",
      "# refresca de lo importado cada vez que se hace ejecuci\u00f3n\n",
      "# %load_ext autoreload\n",
      "# %autoreload 2\n",
      "\n",
      "path= './data/'"
     ],
     "language": "python",
     "metadata": {},
     "outputs": [],
     "prompt_number": 2
    },
    {
     "cell_type": "heading",
     "level": 1,
     "metadata": {},
     "source": [
      "Cambio composici\u00f3n"
     ]
    },
    {
     "cell_type": "code",
     "collapsed": false,
     "input": [
      "conv= 98066.5* (1/101325) # presi\u00f3n absoluta atm/(kgf/cm2)= (Pa/(kgf/cm2))* (atm/Pa)\n",
      "pAtm= 1/conv # [kgf/cm\u00b2] (abs)"
     ],
     "language": "python",
     "metadata": {},
     "outputs": [],
     "prompt_number": 3
    },
    {
     "cell_type": "code",
     "collapsed": false,
     "input": [
      "# Objetivo\n",
      "riquezaAlcanzar= 0.02\n",
      "pAlcanzar= 3.835 # [kgf/cm\u00b2] (abs)\n",
      "pN2Alcanzar= riquezaAlcanzar* pAlcanzar\n",
      "pArAlcanzar= pAlcanzar- pN2Alcanzar\n",
      "pArAlcanzarRel= pArAlcanzar- pAtm\n",
      "pArAlcanzarRel, pN2Alcanzar"
     ],
     "language": "python",
     "metadata": {},
     "outputs": [
      {
       "metadata": {},
       "output_type": "pyout",
       "prompt_number": 4,
       "text": [
        "(2.725072547200114, 0.0767)"
       ]
      }
     ],
     "prompt_number": 4
    },
    {
     "cell_type": "code",
     "collapsed": false,
     "input": [
      "# apunto a 2.750 Ar, y completar con .055 N_2\n",
      "pEsperada= 2.725+ 0.075\n",
      "pEsperadaAbs= pEsperada+ pAtm\n",
      "\n",
      "pEsperada, pEsperadaAbs"
     ],
     "language": "python",
     "metadata": {},
     "outputs": [
      {
       "metadata": {},
       "output_type": "pyout",
       "prompt_number": 5,
       "text": [
        "(2.8000000000000003, 3.833227452799886)"
       ]
      }
     ],
     "prompt_number": 5
    },
    {
     "cell_type": "markdown",
     "metadata": {},
     "source": [
      "Busco llenar primero $P_{Ar}=2.725 \\mathrm{\\frac{kgf}{cm^2}}$ (relativa) y completar con $N_2$ hasta alcanzar $P=2.800 \\mathrm{\\frac{kgf}{cm^2}}$ (relativa), $P_{abs}\\simeq3.833 \\mathrm{\\frac{kgf}{cm^2}}$"
     ]
    },
    {
     "cell_type": "code",
     "collapsed": false,
     "input": [
      "pArLograda= 2.725 # manometro inicial N_2\n",
      "pN2Lograda= 2.805- pArLograda # manometro final N_2, me pas\u00e9 0.005 kgf/cm\u00b2\n",
      "pArLograda+= pAtm\n",
      "riquezaLograda= pN2Lograda/ pArLograda\n",
      "riquezaLograda"
     ],
     "language": "python",
     "metadata": {},
     "outputs": [
      {
       "metadata": {},
       "output_type": "pyout",
       "prompt_number": 6,
       "text": [
        "0.021286630733432576"
       ]
      }
     ],
     "prompt_number": 6
    },
    {
     "cell_type": "code",
     "collapsed": false,
     "input": [
      "# Error! olvide abrir la llave al detector\n",
      "PLograda= 2.805\n",
      "PLograda+= pAtm\n",
      "pLogradaAbierta= 2.585\n",
      "pLogradaAbierta+= pAtm\n",
      "propCaidaHoy= pLogradaAbierta/ PLograda\n",
      "pN2Abierta= pN2Lograda* propCaidaHoy\n",
      "pArAbierta= pArLograda* propCaidaHoy"
     ],
     "language": "python",
     "metadata": {},
     "outputs": [],
     "prompt_number": 7
    },
    {
     "cell_type": "code",
     "collapsed": false,
     "input": [
      "riquezaObjetivoNueva= 0.02\n",
      "pArAlcanzarNueva= pAlcanzar* (1- riquezaObjetivoNueva)\n",
      "pArLlenar= pArAlcanzarNueva- pArAbierta \n",
      "pN2AlcanzarNueva= pAlcanzar* riquezaObjetivoNueva\n",
      "pN2Llenar= pN2AlcanzarNueva- pN2Abierta\n",
      "pArLlenar, pN2Llenar"
     ],
     "language": "python",
     "metadata": {},
     "outputs": [
      {
       "metadata": {},
       "output_type": "pyout",
       "prompt_number": 8,
       "text": [
        "(0.2154870972192482, 0.0012854499808657854)"
       ]
      }
     ],
     "prompt_number": 8
    },
    {
     "cell_type": "code",
     "collapsed": false,
     "input": [
      "# no llego, si solo pongo Ar\n",
      "pAlcanzar-(pArAbierta+ pN2Abierta)"
     ],
     "language": "python",
     "metadata": {},
     "outputs": [
      {
       "metadata": {},
       "output_type": "pyout",
       "prompt_number": 9,
       "text": [
        "0.2167725472001143"
       ]
      }
     ],
     "prompt_number": 9
    },
    {
     "cell_type": "code",
     "collapsed": false,
     "input": [
      "# tendr\u00eda que sumar 0.215 de Ar con lo que llegar\u00eda a\n",
      "pN2Abierta/(pArAbierta+ 0.215)"
     ],
     "language": "python",
     "metadata": {},
     "outputs": [
      {
       "metadata": {},
       "output_type": "pyout",
       "prompt_number": 10,
       "text": [
        "0.020068734652363363"
       ]
      }
     ],
     "prompt_number": 10
    },
    {
     "cell_type": "code",
     "collapsed": false,
     "input": [
      "# \u00a1Perfecto, llego a 2% exacto! A llenar 0.215, con lo que la indicaci\u00f3n tendr\u00eda que llegar a \n",
      "(pArAbierta+ pN2Abierta)+ 0.215 -pAtm"
     ],
     "language": "python",
     "metadata": {},
     "outputs": [
      {
       "metadata": {},
       "output_type": "pyout",
       "prompt_number": 11,
       "text": [
        "2.8"
       ]
      }
     ],
     "prompt_number": 11
    },
    {
     "cell_type": "code",
     "collapsed": false,
     "input": [
      "pN2Abierta # estimada"
     ],
     "language": "python",
     "metadata": {},
     "outputs": [
      {
       "metadata": {},
       "output_type": "pyout",
       "prompt_number": 12,
       "text": [
        "0.07541455001913422"
       ]
      }
     ],
     "prompt_number": 12
    },
    {
     "cell_type": "code",
     "collapsed": false,
     "input": [
      "pLogradaFinal= 2.8\n",
      "# riqueza estimada final\n",
      "riquezaLogradaFinal= 0.075/(pArAbierta+ 0.215)\n",
      "pLogradaFinalAbsAtm= pLogradaFinal* conv+ 1 \n",
      "pLogradaFinalAbsAtm, riquezaLogradaFinal"
     ],
     "language": "python",
     "metadata": {},
     "outputs": [
      {
       "metadata": {},
       "output_type": "pyout",
       "prompt_number": 17,
       "text": [
        "(3.7099550949913644, 0.01995841781917897)"
       ]
      }
     ],
     "prompt_number": 17
    },
    {
     "cell_type": "code",
     "collapsed": false,
     "input": [],
     "language": "python",
     "metadata": {},
     "outputs": []
    }
   ],
   "metadata": {}
  }
 ]
}