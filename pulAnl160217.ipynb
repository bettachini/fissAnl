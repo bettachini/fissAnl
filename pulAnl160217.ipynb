{
 "metadata": {
  "name": "",
  "signature": "sha256:bc698bcdfef684221f03732c30dcaecdfcd841ef873db744b5216a55df5ea56a"
 },
 "nbformat": 3,
 "nbformat_minor": 0,
 "worksheets": [
  {
   "cells": [
    {
     "cell_type": "code",
     "collapsed": false,
     "input": [
      "import numpy as np\n",
      "import matplotlib.pyplot as plt\n",
      "\n",
      "from rutAnl160216 import * # En rutinasAnalisis160129.py residen todas las funciones basadas en las desarroladas en pulAnl160106.ipynb\n",
      "\n",
      "%matplotlib inline\n",
      "# coding=utf-8"
     ],
     "language": "python",
     "metadata": {},
     "outputs": [],
     "prompt_number": 1
    },
    {
     "cell_type": "heading",
     "level": 1,
     "metadata": {},
     "source": [
      "An\u00e1lisis pulsos HP3310B con Delta t FWHM"
     ]
    },
    {
     "cell_type": "code",
     "collapsed": false,
     "input": [
      "# `pul160215z03.npy.npz`\n",
      "tipo= 'pul'\n",
      "anne= 16 \n",
      "mes= 2\n",
      "dia= 15\n",
      "rango= np.arange(3,4)\n",
      "prop= 0.2\n",
      "rechazo= 0.15\n",
      "anchosPulser, areasPulser, maximosPulser, tausAMC, areasTotalAMC, areasSubidaAMC, maximosAMC= agregador2(tipo, anne, mes, dia, rango, prop, rechazo)"
     ],
     "language": "python",
     "metadata": {},
     "outputs": [
      {
       "output_type": "stream",
       "stream": "stdout",
       "text": [
        "0.02 0.5 2.0 -2.0\n",
        "0.000625 0.015625 0.0625 -64.0\n"
       ]
      }
     ],
     "prompt_number": 2
    },
    {
     "cell_type": "code",
     "collapsed": false,
     "input": [
      "enmascaradaPorSobre= 0.6\n",
      "mascara, tausAMCComprimidos = binner(tausAMC, enmascaradaPorSobre)\n",
      "hp3310b_250ns= todoEnmascarado3(tipo, mascara, anchosPulser, areasPulser, maximosPulser, tausAMCComprimidos, areasTotalAMC, areasSubidaAMC, maximosAMC)"
     ],
     "language": "python",
     "metadata": {},
     "outputs": [
      {
       "output_type": "stream",
       "stream": "stdout",
       "text": [
        "puntos campana 1269\n",
        "anchoPulser= \t2.521e-07 \t+/- 7.193e-12 \t s\n",
        "areaPulser= \t1.977e-08 \t+/- 1.146e-12 \t Vs\n",
        "maxPulser= \t-3.138e-02 \t+/- 6.516e-06 \t V\n",
        "tauAMC= \t1.731e-07 \t+/- 3.236e-10 \t s\n",
        "areaSubidaAMC= \t3.149e-07 \t+/- 6.918e-10 \t Vs\n",
        "areaTotalAMC= \t6.775e-07 \t+/- 1.437e-09 \t Vs\n",
        "maximoAMC=  \t2.077e+00 \t+/- 2.215e-03 \t V\n"
       ]
      },
      {
       "metadata": {},
       "output_type": "display_data",
       "png": "[encoded data removed]",
       "text": [
        "<matplotlib.figure.Figure at 0x7f3fa48c5ef0>"
       ]
      }
     ],
     "prompt_number": 3
    },
    {
     "cell_type": "markdown",
     "metadata": {},
     "source": [
      "$\\Delta t$ se reduce unos $\\sim 20 \\, \\mathrm{ns}$ respecto al mostrado en `pulAnl160216` usado c\u00f3digos de `rutinasAnalisis160129.py` "
     ]
    },
    {
     "cell_type": "markdown",
     "metadata": {},
     "source": [
      "A\u00fan falta corregir los niveles de diferencia de potencial."
     ]
    }
   ],
   "metadata": {}
  }
 ]
}