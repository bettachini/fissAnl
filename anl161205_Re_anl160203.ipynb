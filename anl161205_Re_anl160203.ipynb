{
 "cells": [
  {
   "cell_type": "code",
   "execution_count": 1,
   "metadata": {
    "collapsed": false
   },
   "outputs": [],
   "source": [
    "#import matplotlib\n",
    "#import numpy as np\n",
    "#import matplotlib.pyplot as plt\n",
    "\n",
    "from rutinasAnalisis160129 import * # En rutinasAnalisis160129.py residen todas las funciones basadas en las desarroladas en pulAnl160106.ipynb\n",
    "\n",
    "%matplotlib inline\n",
    "# coding=utf-8"
   ]
  },
  {
   "cell_type": "markdown",
   "metadata": {},
   "source": [
    "# CFP-35: Variación tensión de polarización "
   ]
  },
  {
   "cell_type": "markdown",
   "metadata": {},
   "source": [
    "### 350 V"
   ]
  },
  {
   "cell_type": "code",
   "execution_count": 2,
   "metadata": {
    "collapsed": false
   },
   "outputs": [],
   "source": [
    "#acq160202z01-02 350 V\n",
    "tipo= 'acq'\n",
    "anne= 16 \n",
    "mes= 2\n",
    "dia= 2\n",
    "rango= np.arange(1,3)\n",
    "prop= 0.25\n",
    "rechazo= 0.15\n",
    "tausAMC, areasTotalAMC, areasSubidaAMC, maximosAMC= agregador2(tipo, anne, mes, dia, rango, prop, rechazo)"
   ]
  },
  {
   "cell_type": "code",
   "execution_count": 3,
   "metadata": {
    "collapsed": false
   },
   "outputs": [
    {
     "name": "stdout",
     "output_type": "stream",
     "text": [
      "puntos campana 1002\n",
      "tauAMC= \t1.161e-07 \t+/- 2.350e-10 \t s\n",
      "areaSubidaAMC= \t2.307e-07 \t+/- 1.853e-09 \t Vs\n",
      "areaTotalAMC= \t5.760e-07 \t+/- 4.157e-09 \t Vs\n",
      "maximoAMC=  \t2.717e+00 \t+/- 1.676e-02 \t V\n"
     ]
    },
    {
     "data": {
      "image/png": "[encoded data removed]",
      "text/plain": [
       "<matplotlib.figure.Figure at 0x7f9303605860>"
      ]
     },
     "metadata": {},
     "output_type": "display_data"
    }
   ],
   "source": [
    "enmascaradaPorSobre= 0.3\n",
    "mascara, tausAMCComprimidos = binner(tausAMC, enmascaradaPorSobre)\n",
    "if (tipo=='acq'):\n",
    "    anchosPulser= 0\n",
    "    areasPulser= 0\n",
    "    maxsPulser= 0\n",
    "res350V= todoEnmascarado3(tipo, mascara, anchosPulser, areasPulser, maxsPulser, tausAMCComprimidos, areasTotalAMC, areasSubidaAMC, maximosAMC)"
   ]
  },
  {
   "cell_type": "code",
   "execution_count": 9,
   "metadata": {
    "collapsed": false
   },
   "outputs": [
    {
     "data": {
      "text/plain": [
       "(1.160508982035928e-07, 7.4320880193228869e-09, 1002, 2.3478858780833606e-10)"
      ]
     },
     "execution_count": 9,
     "metadata": {},
     "output_type": "execute_result"
    }
   ],
   "source": [
    "tausAMCComprimidos.mean(), tausAMCComprimidos.std(), tausAMCComprimidos.size, tausAMCComprimidos.std()/np.sqrt(tausAMCComprimidos.size)"
   ]
  },
  {
   "cell_type": "code",
   "execution_count": 5,
   "metadata": {
    "collapsed": false
   },
   "outputs": [
    {
     "name": "stdout",
     "output_type": "stream",
     "text": [
      "Help on function std in module numpy.core.fromnumeric:\n",
      "\n",
      "std(a, axis=None, dtype=None, out=None, ddof=0, keepdims=False)\n",
      "    Compute the standard deviation along the specified axis.\n",
      "    \n",
      "    Returns the standard deviation, a measure of the spread of a distribution,\n",
      "    of the array elements. The standard deviation is computed for the\n",
      "    flattened array by default, otherwise over the specified axis.\n",
      "    \n",
      "    Parameters\n",
      "    ----------\n",
      "    a : array_like\n",
      "        Calculate the standard deviation of these values.\n",
      "    axis : int, optional\n",
      "        Axis along which the standard deviation is computed. The default is\n",
      "        to compute the standard deviation of the flattened array.\n",
      "    dtype : dtype, optional\n",
      "        Type to use in computing the standard deviation. For arrays of\n",
      "        integer type the default is float64, for arrays of float types it is\n",
      "        the same as the array type.\n",
      "    out : ndarray, optional\n",
      "        Alternative output array in which to place the result. It must have\n",
      "        the same shape as the expected output but the type (of the calculated\n",
      "        values) will be cast if necessary.\n",
      "    ddof : int, optional\n",
      "        Means Delta Degrees of Freedom.  The divisor used in calculations\n",
      "        is ``N - ddof``, where ``N`` represents the number of elements.\n",
      "        By default `ddof` is zero.\n",
      "    keepdims : bool, optional\n",
      "        If this is set to True, the axes which are reduced are left\n",
      "        in the result as dimensions with size one. With this option,\n",
      "        the result will broadcast correctly against the original `arr`.\n",
      "    \n",
      "    Returns\n",
      "    -------\n",
      "    standard_deviation : ndarray, see dtype parameter above.\n",
      "        If `out` is None, return a new array containing the standard deviation,\n",
      "        otherwise return a reference to the output array.\n",
      "    \n",
      "    See Also\n",
      "    --------\n",
      "    var, mean, nanmean, nanstd, nanvar\n",
      "    numpy.doc.ufuncs : Section \"Output arguments\"\n",
      "    \n",
      "    Notes\n",
      "    -----\n",
      "    The standard deviation is the square root of the average of the squared\n",
      "    deviations from the mean, i.e., ``std = sqrt(mean(abs(x - x.mean())**2))``.\n",
      "    \n",
      "    The average squared deviation is normally calculated as\n",
      "    ``x.sum() / N``, where ``N = len(x)``.  If, however, `ddof` is specified,\n",
      "    the divisor ``N - ddof`` is used instead. In standard statistical\n",
      "    practice, ``ddof=1`` provides an unbiased estimator of the variance\n",
      "    of the infinite population. ``ddof=0`` provides a maximum likelihood\n",
      "    estimate of the variance for normally distributed variables. The\n",
      "    standard deviation computed in this function is the square root of\n",
      "    the estimated variance, so even with ``ddof=1``, it will not be an\n",
      "    unbiased estimate of the standard deviation per se.\n",
      "    \n",
      "    Note that, for complex numbers, `std` takes the absolute\n",
      "    value before squaring, so that the result is always real and nonnegative.\n",
      "    \n",
      "    For floating-point input, the *std* is computed using the same\n",
      "    precision the input has. Depending on the input data, this can cause\n",
      "    the results to be inaccurate, especially for float32 (see example below).\n",
      "    Specifying a higher-accuracy accumulator using the `dtype` keyword can\n",
      "    alleviate this issue.\n",
      "    \n",
      "    Examples\n",
      "    --------\n",
      "    >>> a = np.array([[1, 2], [3, 4]])\n",
      "    >>> np.std(a)\n",
      "    1.1180339887498949\n",
      "    >>> np.std(a, axis=0)\n",
      "    array([ 1.,  1.])\n",
      "    >>> np.std(a, axis=1)\n",
      "    array([ 0.5,  0.5])\n",
      "    \n",
      "    In single precision, std() can be inaccurate:\n",
      "    \n",
      "    >>> a = np.zeros((2,512*512), dtype=np.float32)\n",
      "    >>> a[0,:] = 1.0\n",
      "    >>> a[1,:] = 0.1\n",
      "    >>> np.std(a)\n",
      "    0.45172946707416706\n",
      "    \n",
      "    Computing the standard deviation in float64 is more accurate:\n",
      "    \n",
      "    >>> np.std(a, dtype=np.float64)\n",
      "    0.44999999925552653\n",
      "\n"
     ]
    }
   ],
   "source": [
    "help(np.std)"
   ]
  },
  {
   "cell_type": "markdown",
   "metadata": {},
   "source": [
    "### 400 V"
   ]
  },
  {
   "cell_type": "code",
   "execution_count": 17,
   "metadata": {
    "collapsed": false
   },
   "outputs": [],
   "source": [
    "#acq160201z02-03 400 V\n",
    "tipo= 'acq'\n",
    "anne= 16 \n",
    "mes= 2\n",
    "dia= 1\n",
    "rango= np.arange(2,4)\n",
    "prop= 0.25\n",
    "rechazo= 0.15\n",
    "tausAMC, areasTotalAMC, areasSubidaAMC, maximosAMC= agregador2(tipo, anne, mes, dia, rango, prop, rechazo)"
   ]
  },
  {
   "cell_type": "code",
   "execution_count": 18,
   "metadata": {
    "collapsed": false
   },
   "outputs": [
    {
     "name": "stdout",
     "output_type": "stream",
     "text": [
      "puntos campana 981\n",
      "tauAMC= \t1.158e-07 \t+/- 2.342e-10 \t s\n",
      "areaSubidaAMC= \t2.313e-07 \t+/- 1.833e-09 \t Vs\n",
      "areaTotalAMC= \t5.768e-07 \t+/- 4.295e-09 \t Vs\n",
      "maximoAMC=  \t2.722e+00 \t+/- 1.692e-02 \t V\n"
     ]
    },
    {
     "data": {
      "image/png": "[encoded data removed]",
      "text/plain": [
       "<matplotlib.figure.Figure at 0x7f93015cc2e8>"
      ]
     },
     "metadata": {},
     "output_type": "display_data"
    }
   ],
   "source": [
    "enmascaradaPorSobre= 0.18\n",
    "mascara, tausAMCComprimidos = binner(tausAMC, enmascaradaPorSobre)\n",
    "if (tipo=='acq'):\n",
    "    anchosPulser= 0\n",
    "    areasPulser= 0\n",
    "    maxsPulser= 0\n",
    "res400V= todoEnmascarado3(tipo, mascara, anchosPulser, areasPulser, maxsPulser, tausAMCComprimidos, areasTotalAMC, areasSubidaAMC, maximosAMC)"
   ]
  },
  {
   "cell_type": "code",
   "execution_count": 20,
   "metadata": {
    "collapsed": false
   },
   "outputs": [
    {
     "data": {
      "text/plain": [
       "1.1581651376146787e-07"
      ]
     },
     "execution_count": 20,
     "metadata": {},
     "output_type": "execute_result"
    }
   ],
   "source": [
    "tausAMCComprimidos.mean()"
   ]
  },
  {
   "cell_type": "markdown",
   "metadata": {},
   "source": [
    "### 450 V"
   ]
  },
  {
   "cell_type": "code",
   "execution_count": 19,
   "metadata": {
    "collapsed": false
   },
   "outputs": [],
   "source": [
    "#acq160202z03-04 450 V\n",
    "tipo= 'acq'\n",
    "anne= 16 \n",
    "mes= 2\n",
    "dia= 2\n",
    "rango= np.arange(3,5)\n",
    "prop= 0.25\n",
    "rechazo= 0.15\n",
    "tausAMC, areasTotalAMC, areasSubidaAMC, maximosAMC= agregador2(tipo, anne, mes, dia, rango, prop, rechazo)"
   ]
  },
  {
   "cell_type": "code",
   "execution_count": 20,
   "metadata": {
    "collapsed": false
   },
   "outputs": [
    {
     "name": "stdout",
     "output_type": "stream",
     "text": [
      "puntos campana 982\n",
      "tauAMC= \t1.157e-07 \t+/- 2.271e-10 \t s\n",
      "areaSubidaAMC= \t2.339e-07 \t+/- 1.936e-09 \t Vs\n",
      "areaTotalAMC= \t5.831e-07 \t+/- 4.472e-09 \t Vs\n",
      "maximoAMC=  \t2.747e+00 \t+/- 1.793e-02 \t V\n"
     ]
    },
    {
     "data": {
      "image/png": "[encoded data removed]",
      "text/plain": [
       "<matplotlib.figure.Figure at 0x7fad91fa4eb8>"
      ]
     },
     "metadata": {},
     "output_type": "display_data"
    }
   ],
   "source": [
    "enmascaradaPorSobre= 0.18\n",
    "mascara, tausAMCComprimidos = binner(tausAMC, enmascaradaPorSobre)\n",
    "if (tipo=='acq'):\n",
    "    anchosPulser= 0\n",
    "    areasPulser= 0\n",
    "    maxsPulser= 0\n",
    "res450V= todoEnmascarado3(tipo, mascara, anchosPulser, areasPulser, maxsPulser, tausAMCComprimidos, areasTotalAMC, areasSubidaAMC, maximosAMC)"
   ]
  },
  {
   "cell_type": "markdown",
   "metadata": {},
   "source": [
    "### 500 V"
   ]
  },
  {
   "cell_type": "code",
   "execution_count": 21,
   "metadata": {
    "collapsed": false
   },
   "outputs": [],
   "source": [
    "#acq160202z05-06 500V\n",
    "tipo= 'acq'\n",
    "anne= 16 \n",
    "mes= 2\n",
    "dia= 2\n",
    "rango= np.arange(5,7)\n",
    "prop= 0.25\n",
    "rechazo= 0.15\n",
    "tausAMC, areasTotalAMC, areasSubidaAMC, maximosAMC= agregador2(tipo, anne, mes, dia, rango, prop, rechazo)"
   ]
  },
  {
   "cell_type": "code",
   "execution_count": 22,
   "metadata": {
    "collapsed": false
   },
   "outputs": [
    {
     "name": "stdout",
     "output_type": "stream",
     "text": [
      "puntos campana 958\n",
      "tauAMC= \t1.164e-07 \t+/- 2.488e-10 \t s\n",
      "areaSubidaAMC= \t2.321e-07 \t+/- 1.924e-09 \t Vs\n",
      "areaTotalAMC= \t5.780e-07 \t+/- 4.444e-09 \t Vs\n",
      "maximoAMC=  \t2.723e+00 \t+/- 1.766e-02 \t V\n"
     ]
    },
    {
     "data": {
      "image/png": "[encoded data removed]",
      "text/plain": [
       "<matplotlib.figure.Figure at 0x7f9301432f60>"
      ]
     },
     "metadata": {},
     "output_type": "display_data"
    }
   ],
   "source": [
    "enmascaradaPorSobre= 0.18\n",
    "mascara, tausAMCComprimidos = binner(tausAMC, enmascaradaPorSobre)\n",
    "if (tipo=='acq'):\n",
    "    anchosPulser= 0\n",
    "    areasPulser= 0\n",
    "    maxsPulser= 0\n",
    "res500V= todoEnmascarado3(tipo, mascara, anchosPulser, areasPulser, maxsPulser, tausAMCComprimidos, areasTotalAMC, areasSubidaAMC, maximosAMC)"
   ]
  },
  {
   "cell_type": "code",
   "execution_count": 23,
   "metadata": {
    "collapsed": false
   },
   "outputs": [
    {
     "data": {
      "text/plain": [
       "1.1639665970772446e-07"
      ]
     },
     "execution_count": 23,
     "metadata": {},
     "output_type": "execute_result"
    }
   ],
   "source": [
    "tausAMCComprimidos.mean()"
   ]
  },
  {
   "cell_type": "markdown",
   "metadata": {},
   "source": [
    "### 550 V"
   ]
  },
  {
   "cell_type": "code",
   "execution_count": 12,
   "metadata": {
    "collapsed": false
   },
   "outputs": [],
   "source": [
    "#acq160202z05-06 550V\n",
    "tipo= 'acq'\n",
    "anne= 16 \n",
    "mes= 2\n",
    "dia= 2\n",
    "rango= np.arange(7,8)\n",
    "prop= 0.25\n",
    "rechazo= 0.15\n",
    "tausAMC1, areasTotalAMC1, areasSubidaAMC1, maximosAMC1= agregador2(tipo, anne, mes, dia, rango, prop, rechazo)"
   ]
  },
  {
   "cell_type": "code",
   "execution_count": 5,
   "metadata": {
    "collapsed": false
   },
   "outputs": [],
   "source": [
    "dia= 3\n",
    "rango= np.arange(1,2)\n",
    "prop= 0.25\n",
    "rechazo= 0.15\n",
    "tausAMC2, areasTotalAMC2, areasSubidaAMC2, maximosAMC2= agregador2(tipo, anne, mes, dia, rango, prop, rechazo)"
   ]
  },
  {
   "cell_type": "code",
   "execution_count": 13,
   "metadata": {
    "collapsed": false
   },
   "outputs": [],
   "source": [
    "tausAMC= np.append(tausAMC1, tausAMC2)\n",
    "areasTotalAMC= np.append(areasTotalAMC1, areasTotalAMC2)\n",
    "areasSubidaAMC= np.append(areasSubidaAMC1, areasSubidaAMC2)\n",
    "maximosAMC= np.append(maximosAMC1, maximosAMC2)"
   ]
  },
  {
   "cell_type": "code",
   "execution_count": 14,
   "metadata": {
    "collapsed": false
   },
   "outputs": [
    {
     "name": "stdout",
     "output_type": "stream",
     "text": [
      "puntos campana 984\n",
      "tauAMC= \t1.163e-07 \t+/- 2.413e-10 \t s\n",
      "areaSubidaAMC= \t2.328e-07 \t+/- 1.852e-09 \t Vs\n",
      "areaTotalAMC= \t5.799e-07 \t+/- 4.241e-09 \t Vs\n",
      "maximoAMC=  \t2.727e+00 \t+/- 1.688e-02 \t V\n"
     ]
    },
    {
     "data": {
      "image/png": "[encoded data removed]",
      "text/plain": [
       "<matplotlib.figure.Figure at 0x7f02fa1b49e8>"
      ]
     },
     "metadata": {},
     "output_type": "display_data"
    }
   ],
   "source": [
    "enmascaradaPorSobre= 0.18\n",
    "mascara, tausAMCComprimidos = binner(tausAMC, enmascaradaPorSobre)\n",
    "if (tipo=='acq'):\n",
    "    anchosPulser= 0\n",
    "    areasPulser= 0\n",
    "    maxsPulser= 0\n",
    "res550V= todoEnmascarado3(tipo, mascara, anchosPulser, areasPulser, maxsPulser, tausAMCComprimidos, areasTotalAMC, areasSubidaAMC, maximosAMC)"
   ]
  },
  {
   "cell_type": "markdown",
   "metadata": {},
   "source": [
    "### 600 v"
   ]
  },
  {
   "cell_type": "code",
   "execution_count": 15,
   "metadata": {
    "collapsed": false
   },
   "outputs": [],
   "source": [
    "#acq160202z05-06 600V\n",
    "tipo= 'acq'\n",
    "anne= 16 \n",
    "mes= 2\n",
    "dia= 3\n",
    "rango= np.arange(2,4)\n",
    "prop= 0.25\n",
    "rechazo= 0.15\n",
    "tausAMC, areasTotalAMC, areasSubidaAMC, maximosAMC= agregador2(tipo, anne, mes, dia, rango, prop, rechazo)"
   ]
  },
  {
   "cell_type": "code",
   "execution_count": 16,
   "metadata": {
    "collapsed": false
   },
   "outputs": [
    {
     "name": "stdout",
     "output_type": "stream",
     "text": [
      "puntos campana 969\n",
      "tauAMC= \t1.166e-07 \t+/- 2.286e-10 \t s\n",
      "areaSubidaAMC= \t2.349e-07 \t+/- 1.891e-09 \t Vs\n",
      "areaTotalAMC= \t5.843e-07 \t+/- 4.420e-09 \t Vs\n",
      "maximoAMC=  \t2.749e+00 \t+/- 1.755e-02 \t V\n"
     ]
    },
    {
     "data": {
      "image/png": "[encoded data removed]",
      "text/plain": [
       "<matplotlib.figure.Figure at 0x7f02fa18acf8>"
      ]
     },
     "metadata": {},
     "output_type": "display_data"
    }
   ],
   "source": [
    "enmascaradaPorSobre= 0.18\n",
    "mascara, tausAMCComprimidos = binner(tausAMC, enmascaradaPorSobre)\n",
    "if (tipo=='acq'):\n",
    "    anchosPulser= 0\n",
    "    areasPulser= 0\n",
    "    maxsPulser= 0\n",
    "res600V= todoEnmascarado3(tipo, mascara, anchosPulser, areasPulser, maxsPulser, tausAMCComprimidos, areasTotalAMC, areasSubidaAMC, maximosAMC)"
   ]
  },
  {
   "cell_type": "markdown",
   "metadata": {},
   "source": [
    "# acq151016z**"
   ]
  },
  {
   "cell_type": "markdown",
   "metadata": {},
   "source": [
    "`CFP-35, SIN FUENTE, 128 adquisiciones, TRG \\sim 1,96 V: 70 mın.`\n",
    "\n",
    "`acq151016z01 - acq151016z05 `, salto de fecha, `acq151017z06 - acq151017z11`\n",
    "\n",
    "Encuentro en la bitacora que se hicieron estas mediciones **SIN FUENTE**. Las graficaré para ver que registraron."
   ]
  },
  {
   "cell_type": "code",
   "execution_count": 20,
   "metadata": {
    "collapsed": false
   },
   "outputs": [],
   "source": [
    "#acq151016z01 - acq151016z05\n",
    "tipo= 'acq'\n",
    "anne= 15\n",
    "mes= 10\n",
    "dia= 16\n",
    "rango= np.arange(1,6)\n",
    "prop= 0.25\n",
    "rechazo= 0.15\n",
    "tausAMC1, areasTotalAMC1, areasSubidaAMC1, maximosAMC1= agregador2(tipo, anne, mes, dia, rango, prop, rechazo)"
   ]
  },
  {
   "cell_type": "code",
   "execution_count": 21,
   "metadata": {
    "collapsed": false
   },
   "outputs": [],
   "source": [
    "#acq151017z06 - acq151017z10\n",
    "tipo= 'acq'\n",
    "anne= 15\n",
    "mes= 10\n",
    "dia= 17\n",
    "rango= np.arange(6,11)\n",
    "prop= 0.25\n",
    "rechazo= 0.15\n",
    "tausAMC2, areasTotalAMC2, areasSubidaAMC2, maximosAMC2= agregador2(tipo, anne, mes, dia, rango, prop, rechazo)"
   ]
  },
  {
   "cell_type": "code",
   "execution_count": 22,
   "metadata": {
    "collapsed": false
   },
   "outputs": [],
   "source": [
    "tausAMC= np.append(tausAMC1, tausAMC2)\n",
    "areasTotalAMC= np.append(areasTotalAMC1, areasTotalAMC2)\n",
    "areasSubidaAMC= np.append(areasSubidaAMC1, areasSubidaAMC2)\n",
    "maximosAMC= np.append(maximosAMC1, maximosAMC2)"
   ]
  },
  {
   "cell_type": "code",
   "execution_count": 26,
   "metadata": {
    "collapsed": false
   },
   "outputs": [
    {
     "name": "stdout",
     "output_type": "stream",
     "text": [
      "puntos campana 1167\n",
      "tauAMC= \t1.140e-07 \t+/- 2.329e-10 \t s\n",
      "areaSubidaAMC= \t2.301e-07 \t+/- 1.814e-09 \t Vs\n",
      "areaTotalAMC= \t5.765e-07 \t+/- 4.216e-09 \t Vs\n",
      "maximoAMC=  \t2.732e+00 \t+/- 1.691e-02 \t V\n"
     ]
    },
    {
     "data": {
      "image/png": "[encoded data removed]",
      "text/plain": [
       "<matplotlib.figure.Figure at 0x7f02f7b75eb8>"
      ]
     },
     "metadata": {},
     "output_type": "display_data"
    }
   ],
   "source": [
    "enmascaradaPorSobre= 0.45\n",
    "mascara, tausAMCComprimidos = binner(tausAMC, enmascaradaPorSobre)\n",
    "if (tipo=='acq'):\n",
    "    anchosPulser= 0\n",
    "    areasPulser= 0\n",
    "    maxsPulser= 0\n",
    "res600V= todoEnmascarado3(tipo, mascara, anchosPulser, areasPulser, maxsPulser, tausAMCComprimidos, areasTotalAMC, areasSubidaAMC, maximosAMC)"
   ]
  },
  {
   "cell_type": "markdown",
   "metadata": {
    "collapsed": false
   },
   "source": [
    "## Resumen\n",
    "\n",
    "Polarización [V]  | tau [s]\n",
    "  ------------- | -------------\n",
    "  350  | 1.161e-07 \t+/- 2.350e-10\n",
    "400 | 1.158e-07 \t+/- 2.342e-10\n",
    "450 | 1.157e-07 \t+/- 2.271e-10\n",
    "500 | 1.164e-07 \t+/- 2.488e-10\n",
    "550 | 1.163e-07 \t+/- 2.413e-10\n",
    "600 | 1.166e-07 \t+/- 2.286e-10\n",
    "\n",
    "Así que **OJO** hay diferencia del primero al último (aún mas de 400V a 600V).\n",
    "\n",
    "De tenerse en cuenta el error instrumental estimado en 2e-10 s, todos los intervalos se superponen *entre vecinos*.\n",
    "\n",
    "Puedo calcular una tabla de tiempos de vuelo según el ajuste y ver allí."
   ]
  },
  {
   "cell_type": "code",
   "execution_count": 15,
   "metadata": {
    "collapsed": false
   },
   "outputs": [
    {
     "data": {
      "text/plain": [
       "3.0797668742942217"
      ]
     },
     "execution_count": 15,
     "metadata": {},
     "output_type": "execute_result"
    }
   ],
   "source": [
    "np.sqrt(2.342**2+2**2)"
   ]
  },
  {
   "cell_type": "code",
   "execution_count": 16,
   "metadata": {
    "collapsed": false
   },
   "outputs": [
    {
     "data": {
      "text/plain": [
       "3.1922004949564182"
      ]
     },
     "execution_count": 16,
     "metadata": {},
     "output_type": "execute_result"
    }
   ],
   "source": [
    "np.sqrt(2.488**2+2**2)"
   ]
  },
  {
   "cell_type": "code",
   "execution_count": null,
   "metadata": {
    "collapsed": true
   },
   "outputs": [],
   "source": []
  }
 ],
 "metadata": {
  "kernelspec": {
   "display_name": "Python 3",
   "language": "python",
   "name": "python3"
  },
  "language_info": {
   "codemirror_mode": {
    "name": "ipython",
    "version": 3
   },
   "file_extension": ".py",
   "mimetype": "text/x-python",
   "name": "python",
   "nbconvert_exporter": "python",
   "pygments_lexer": "ipython3",
   "version": "3.4.2"
  }
 },
 "nbformat": 4,
 "nbformat_minor": 0
}
