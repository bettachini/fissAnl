{
 "metadata": {
  "name": "",
  "signature": "sha256:d0fbed476ba08475dc58fea33fffa7dc86f831c0434f6d7e5d33036c8bc21bb6"
 },
 "nbformat": 3,
 "nbformat_minor": 0,
 "worksheets": [
  {
   "cells": [
    {
     "cell_type": "code",
     "collapsed": false,
     "input": [
      "import matplotlib\n",
      "import numpy as np\n",
      "import matplotlib.pyplot as plt\n",
      "%matplotlib inline\n",
      "# coding=utf-8\n",
      "\n",
      "import time\n",
      "\n",
      "# refresca de lo importado cada vez que se hace ejecuci\u00f3n\n",
      "# %load_ext autoreload\n",
      "# %autoreload 2\n",
      "\n",
      "path= './data/'"
     ],
     "language": "python",
     "metadata": {},
     "outputs": [],
     "prompt_number": 2
    },
    {
     "cell_type": "markdown",
     "metadata": {},
     "source": [
      "# Graficaci\u00f3n, funciones"
     ]
    },
    {
     "cell_type": "code",
     "collapsed": false,
     "input": [
      "def darstellungNurZwei(T, Meas2, sav= None):\n",
      "    '''\n",
      "    T: times vector\n",
      "    Meas2: Both channels 2D array\n",
      "    sav: plot filename (eps)\n",
      "    '''\n",
      "        \n",
      "    fig, (ax0, ax1) = plt.subplots(nrows=2, sharex=True)\n",
      "    fig.set_size_inches(10,8)\n",
      "    fig.subplots_adjust(hspace=0.000)\n",
      "\n",
      "    ax0.plot(T, Meas2[0,:], 'y')\n",
      "    # Make the y-axis label and tick labels match the line color.\n",
      "    ax0.set_ylabel('ch 1 [V]', color='y')\n",
      "    ax0.grid(True)\n",
      "\n",
      "    ax1.plot(T, Meas2[1,:], 'c')\n",
      "    ax1.set_ylabel('ch 2 [V]', color='c')\n",
      "    ax1.set_xlabel('tiempo [s]')\n",
      "    ax1.grid(True)\n",
      "    \n",
      "    if (sav):\n",
      "        plt.savefig('./data/'+ sav+ '.eps')\n",
      "    else:\n",
      "        plt.show()"
     ],
     "language": "python",
     "metadata": {},
     "outputs": [],
     "prompt_number": 3
    },
    {
     "cell_type": "code",
     "collapsed": false,
     "input": [
      "# lee archivo npy en la ruta datei y grafica cada medici\u00f3n\n",
      "def dateiDarstellung(datei):\n",
      "    '''\n",
      "    str -> ()\n",
      "    \n",
      "    De un archivo npy grafica cada medici\u00f3n (\u00edndice), ambos canales.\n",
      "    '''\n",
      "    lu= np.load(datei)\n",
      "    zeit= lu[0]\n",
      "    messungenZahl= lu.shape[0]\n",
      "    for i in range(1, messungenZahl, 2):\n",
      "        ix= int((i-1)/2)\n",
      "        print('medici\u00f3n = '+ str(ix), ', \u00edndiceCH1= '+ str(i))\n",
      "        Meas2= np.vstack([lu[i], lu[i+1]])\n",
      "        darstellungNurZwei(zeit, Meas2)"
     ],
     "language": "python",
     "metadata": {},
     "outputs": [],
     "prompt_number": 4
    },
    {
     "cell_type": "markdown",
     "metadata": {},
     "source": [
      "# Risetime, funciones"
     ]
    },
    {
     "cell_type": "code",
     "collapsed": false,
     "input": [
      "def baseAcq(acqFile, prop=0.25):\n",
      "    '''\n",
      "    (array, float) -> array\n",
      "    \n",
      "    De la primer fracci\u00f3n prop de ambos canales de todas las adquisiciones en acqFile,\n",
      "    obtiene el promedio y dispersi\u00f3n que se asume como nivel de base\n",
      "    grProm[0]: promedio ch1, grProm[1]: promedio ch2,\n",
      "    grProm[2]: desviaci\u00f3n estandard ch1, grProm[3]: desviaci\u00f3n estandard ch2\n",
      "    '''\n",
      "    messungenZahl= acqFile.shape\n",
      "    erstePunkten= int(messungenZahl[1]* prop)\n",
      "    prom= np.zeros([int((messungenZahl[0]- 1)/ 2), 4])\n",
      "    for i in range(1, messungenZahl[0], 2):\n",
      "        ix= int((i-1)/2)\n",
      "        ch1Erste= acqFile[i][0:erstePunkten-1]\n",
      "        ch2Erste= acqFile[i+1][0:erstePunkten-1]\n",
      "        prom[ix,0]= ch1Erste.mean()\n",
      "        prom[ix,1]= ch2Erste.mean()\n",
      "        prom[ix,2]= ch1Erste.std()\n",
      "        prom[ix,3]= ch2Erste.std()\n",
      "    return prom"
     ],
     "language": "python",
     "metadata": {},
     "outputs": [],
     "prompt_number": 5
    },
    {
     "cell_type": "code",
     "collapsed": false,
     "input": [
      "def baseMeas2(Meas2, messungenZahl, prop=0.25):\n",
      "    '''\n",
      "    (array, array, float) -> array\n",
      "    \n",
      "    De la primer fracci\u00f3n prop de ambos canales en Meas2,\n",
      "    obtiene el promedio y dispersi\u00f3n que se asume como nivel de base\n",
      "    grProm[0]: promedio ch1, grProm[1]: promedio ch2,\n",
      "    grProm[2]: desviaci\u00f3n estandard ch1, grProm[3]: desviaci\u00f3n estandard ch2\n",
      "    '''\n",
      "    erstePunkten= int(messungenZahl[1]* prop)\n",
      "    ch1Erste= Meas2[0][0:erstePunkten-1]\n",
      "    ch2Erste= Meas2[1][0:erstePunkten-1]\n",
      "    return np.array([ch1Erste.mean(), ch2Erste.mean(), ch1Erste.std(), ch2Erste.std() ] )"
     ],
     "language": "python",
     "metadata": {},
     "outputs": [],
     "prompt_number": 6
    },
    {
     "cell_type": "code",
     "collapsed": false,
     "input": [
      "def ixTauCeti2(Meas2, messungenZahl, prop):\n",
      "    '''\n",
      "    Calcula \u00edndices risetime como tiempo entre 10% y 90% de excursi\u00f3n entre nivel de base y m\u00e1ximo\n",
      "   \n",
      "    Meas2: array (2,:) con Meas2[0] canal 1, Meas2[0] canal 2, producto de np.vstack\n",
      "    baseMeas2: base(Meas2)\n",
      "    '''\n",
      "    # niveles base\n",
      "    bMeas2= baseMeas2(Meas2, messungenZahl, prop)\n",
      "\n",
      "    # \u00edndice m\u00e1ximo\n",
      "    maxIx= (Meas2[0].argmax(), Meas2[1].argmax() )\n",
      "\n",
      "    # m\u00e1ximo promediado cercano\n",
      "    rangoCercano= 20 # tres lecturas a izq y derecha\n",
      "    maxCH1= (Meas2[0][maxIx[0]- rangoCercano: maxIx[0]+ rangoCercano]).mean()\n",
      "    maxCH2= (Meas2[1][maxIx[1]- rangoCercano: maxIx[1]+ rangoCercano]).mean()\n",
      "\n",
      "    # diferencia m\u00e1ximo- base\n",
      "    # maxCH1= Meas2[0][maxIx[0]] # max CH1\n",
      "    # maxCH2= Meas2[1][maxIx[1]] # max CH2\n",
      "    # deltaV= np.array([Meas2[0][maxIx[0]]- bMeas2[0], Meas2[1][maxIx[1]]- bMeas2[1]])\n",
      "    deltaV= np.array([maxCH1- bMeas2[0],maxCH2- bMeas2[1]]) # usa promediado cercano\n",
      "\n",
      "    # Diferencias de potencial para 10%, 90% de excursi\u00f3n\n",
      "    v10= bMeas2[0:2]+ 0.1* deltaV\n",
      "    v90= bMeas2[0:2]+ 0.9* deltaV\n",
      "\n",
      "    # \u00cdndices para primer potencial del pulso que exceda 10%, y \u00faltimo por debajo 90% \n",
      "    ixTau= np.array([0, 0, maxIx[0], maxIx[1]])\n",
      "    while (Meas2[0,ixTau[0]]< v10[0]):\n",
      "        ixTau[0]+= 1\n",
      "    while (Meas2[1,ixTau[1]]< v10[1]):\n",
      "        ixTau[1]+= 1\n",
      "    while (Meas2[0,ixTau[2]]> v90[0]):\n",
      "        ixTau[2]-= 1\n",
      "    while (Meas2[1,ixTau[3]]> v90[1]):\n",
      "        ixTau[3]-= 1\n",
      "        \n",
      "    return ixTau"
     ],
     "language": "python",
     "metadata": {},
     "outputs": [],
     "prompt_number": 7
    },
    {
     "cell_type": "code",
     "collapsed": false,
     "input": [
      "def tauCeti2(T, Meas2, messungenZahl, prop):\n",
      "    '''\n",
      "    Calcula risetime como tiempo entre 10% y 90% de excursi\u00f3n entre nivel de base y m\u00e1ximo\n",
      "   \n",
      "    T: vector de tiempos\n",
      "    Meas2: array (2,:) con Meas2[0] canal 1, Meas2[0] canal 2, producto de np.vstack\n",
      "    baseMeas2: base(Meas2)\n",
      "    '''\n",
      "    ixTau= ixTauCeti2(Meas2, messungenZahl, prop)\n",
      "    return np.array([T[ixTau[2]]- T[ixTau[0]], T[ixTau[3]]- T[ixTau[1]] ])"
     ],
     "language": "python",
     "metadata": {},
     "outputs": [],
     "prompt_number": 8
    },
    {
     "cell_type": "code",
     "collapsed": false,
     "input": [
      "def tauAMC2(acqData, prop= 0.25):\n",
      "    '''\n",
      "    Genera vectores de promedio y dispersi\u00f3n del risetime de ambos canales a partir de archivo acq*\n",
      "    \n",
      "    archivo: acq* \n",
      "    prop= porcentaje inferior del canal a promediar para obtener nivel de base     \n",
      "    '''\n",
      "    # promedio de niveles de base\n",
      "    messungenZahl= acqData.shape\n",
      "\n",
      "    # tiempo\n",
      "    T= acqData[0]\n",
      "\n",
      "    tauAMC= np.empty([int((messungenZahl[0]- 1)/ 2), 1])\n",
      "    for i in range(1, messungenZahl[0], 2):\n",
      "        Meas2= np.array([acqData[i], acqData[i+1] ] )\n",
      "        ix= int((i-1)/2)\n",
      "        tauAMC[ix]= tauCeti2(T, Meas2, messungenZahl, prop)[1]\n",
      "    return tauAMC"
     ],
     "language": "python",
     "metadata": {},
     "outputs": [],
     "prompt_number": 9
    },
    {
     "cell_type": "markdown",
     "metadata": {},
     "source": [
      "# Histogramas"
     ]
    },
    {
     "cell_type": "code",
     "collapsed": false,
     "input": [
      "# archivo de 1280 adquisiciones, TRGAMC= \\si{1,52}{V},  Presi\u00f3n=\\si{3.560}{kgf/cm^2}\n",
      "current= np.load(path+ 'acq150428n07.npy')\n",
      "taus= tauAMC2(current)\n",
      "taus.size"
     ],
     "language": "python",
     "metadata": {},
     "outputs": [
      {
       "metadata": {},
       "output_type": "pyout",
       "prompt_number": 10,
       "text": [
        "1280"
       ]
      }
     ],
     "prompt_number": 10
    },
    {
     "cell_type": "code",
     "collapsed": false,
     "input": [
      "# destripar valores por sobre valle de histograma\n",
      "# quip=plt.hist(taus, bins=40, normed=False, histtype='stepfilled')\n",
      "n, bins, patches= plt.hist(taus, bins=40)"
     ],
     "language": "python",
     "metadata": {},
     "outputs": [
      {
       "metadata": {},
       "output_type": "display_data",
       "png": "[encoded data removed]",
       "text": [
        "<matplotlib.figure.Figure at 0x7f02dc2c54a8>"
       ]
      }
     ],
     "prompt_number": 11
    },
    {
     "cell_type": "markdown",
     "metadata": {},
     "source": [
      "Para quedarme con la primer campana busco el valor m\u00e1ximo de esta. Me quedo con el bin 25"
     ]
    },
    {
     "cell_type": "code",
     "collapsed": false,
     "input": [
      "bins[13]"
     ],
     "language": "python",
     "metadata": {},
     "outputs": [
      {
       "metadata": {},
       "output_type": "pyout",
       "prompt_number": 12,
       "text": [
        "3.0616999999999999e-07"
       ]
      }
     ],
     "prompt_number": 12
    },
    {
     "cell_type": "markdown",
     "metadata": {},
     "source": [
      "Entonces buscar\u00eda recortar todo tau> 6.84E-7 de acq150428n07"
     ]
    },
    {
     "cell_type": "code",
     "collapsed": false,
     "input": [
      "intermedio = np.ma.masked_greater(taus, bins[9])\n",
      "primerCampana= intermedio.compressed()"
     ],
     "language": "python",
     "metadata": {},
     "outputs": [],
     "prompt_number": 13
    },
    {
     "cell_type": "markdown",
     "metadata": {},
     "source": [
      "Y el nuevo histograma muestra solo la primer campana"
     ]
    },
    {
     "cell_type": "code",
     "collapsed": false,
     "input": [
      "n1, bins1, patches1= plt.hist(primerCampana, bins=40)"
     ],
     "language": "python",
     "metadata": {},
     "outputs": [
      {
       "metadata": {},
       "output_type": "display_data",
       "png": "[encoded data removed]",
       "text": [
        "<matplotlib.figure.Figure at 0x7f02dc39e080>"
       ]
      }
     ],
     "prompt_number": 14
    },
    {
     "cell_type": "markdown",
     "metadata": {},
     "source": [
      "Comparo entonces el valor promedio del risetime antes y despu\u00e9s de quitar la segunda campana"
     ]
    },
    {
     "cell_type": "code",
     "collapsed": false,
     "input": [
      "primerCampana.mean(), primerCampana.std(), taus.mean(), taus.std()"
     ],
     "language": "python",
     "metadata": {},
     "outputs": [
      {
       "metadata": {},
       "output_type": "pyout",
       "prompt_number": 15,
       "text": [
        "(1.8701651031894939e-07,\n",
        " 2.4161075121963097e-08,\n",
        " 2.1936062500000004e-07,\n",
        " 8.9168957320411533e-08)"
       ]
      }
     ],
     "prompt_number": 15
    },
    {
     "cell_type": "markdown",
     "metadata": {},
     "source": [
      "Veo una reducci\u00f3n de casi \\si{30}{ns}"
     ]
    },
    {
     "cell_type": "code",
     "collapsed": false,
     "input": [
      "# archivo de 1280 adquisiciones, TRGAMC= \\si{1,5}{V},  Presi\u00f3n=\\si{3.005}{kgf/cm^2}\n",
      "# acq150430n18\n",
      "\n",
      "# leo el dict para verificar \n",
      "dico= np.load('./data/sets150430n18.npy')\n",
      "dico.item()"
     ],
     "language": "python",
     "metadata": {},
     "outputs": [
      {
       "metadata": {},
       "output_type": "pyout",
       "prompt_number": 16,
       "text": [
        "{'ESPECTRO': '160430v3',\n",
        " 'BANDWIDTH': 'ON',\n",
        " 'WIDTH': '1.03E-3',\n",
        " 'INVERT': 'OFF',\n",
        " 'WIDTH:POLARITY': 'POSITIVE',\n",
        " 'REFB': '0',\n",
        " 'TYPE': 'EDGE',\n",
        " ':PICTBRIDGE:PAPERSIZE': 'DEFLT',\n",
        " 'CURRENTPROBE': '1.0E1',\n",
        " 'SOURCE': 'CH1',\n",
        " 'MAIN:SCALE': '1.0E-7',\n",
        " ':CURSOR:HBARS:POSITION1': '5.16E0',\n",
        " 'HV': '400',\n",
        " ':MEASUREMENT:MEAS2:TYPE': 'NONE',\n",
        " 'PRESION_AR': '3.005',\n",
        " ':HORIZONTAL:DELAY:SCALE': '1.0E-8',\n",
        " 'POSITION2': '1.48E0',\n",
        " ':MEASUREMENT:MEAS1:TYPE': 'RISE',\n",
        " 'CAMARA': 'Campbelliano',\n",
        " 'SCALE': '1.0E0',\n",
        " 'INKSAVER': 'ON',\n",
        " ':MATH:DEFINE': '\"CH1+CH2\"',\n",
        " ':DISPLAY:FORMAT': 'YT',\n",
        " 'MATH': '0',\n",
        " ':TRIGGER:MAIN:VIDEO:SOURCE': 'CH2',\n",
        " 'SOURCE1': 'CH1',\n",
        " ':HORIZONTAL:VIEW': 'MAIN',\n",
        " 'POLARITY': 'NORMAL',\n",
        " ':MEASUREMENT:MEAS3:TYPE': 'NONE',\n",
        " 'POSITION1': '-4.36E-7',\n",
        " ':SELECT:CH1': '1',\n",
        " ':LOCK': 'NONE',\n",
        " ':TRIGGER:MAIN:LEVEL': '1.52E0',\n",
        " 'LINE': '1',\n",
        " 'SELECT:SOURCE': 'CH2',\n",
        " 'SYNC': 'FIELD',\n",
        " 'CH2': '1',\n",
        " 'ELECTRONICA': 'Luis',\n",
        " ':AUTORANGE:SETTINGS': 'BOTH',\n",
        " 'YUNIT': '\"V\"',\n",
        " 'STATE': '0',\n",
        " ':CURSOR:FUNCTION': 'HBARS',\n",
        " 'COUPLING': 'DC',\n",
        " ':MEASUREMENT:MEAS5:TYPE': 'NONE',\n",
        " 'IMAGESIZE': 'DEFLT',\n",
        " 'STYLE': 'VECTORS',\n",
        " ':MEASUREMENT:IMMED:TYPE': 'PERIOD',\n",
        " 'CONTRAST': '54',\n",
        " ':MATH:FFT:HORIZONTAL:POSITION': '5.0E1',\n",
        " ':TRIGGER:MAIN:PULSE:SOURCE': 'CH2',\n",
        " 'HOLDOFF:VALUE': '5.0E-7',\n",
        " 'IDPRINT': 'DEFLT',\n",
        " 'DESTINATION': 'REFA',\n",
        " ':LANGUAGE': 'SPANISH',\n",
        " 'FUENTE': 'Canberra2025',\n",
        " ':MATH:FFT:VERTICAL:POSITION': '0.0E0',\n",
        " 'NUMAVG': '128',\n",
        " ':CH2:PROBE': '1.0E0',\n",
        " ':SAVE:IMAGE:FILEFORMAT': 'EPSIMAGE',\n",
        " ':CH1:PROBE': '1.0E0',\n",
        " 'PERSISTENCE': '0',\n",
        " 'LAYOUT': 'PORTRAIT',\n",
        " ':ACQUIRE:MODE': 'PEAKDETECT',\n",
        " 'PORT': 'USB',\n",
        " 'POSITION': '8.0E-8',\n",
        " ':MEASUREMENT:MEAS4:TYPE': 'NONE',\n",
        " 'DATEPRINT': 'DEFLT',\n",
        " 'STANDARD': 'NTSC',\n",
        " ':HARDCOPY:BUTTON': 'SAVESALL',\n",
        " ':DATA:ENCDG': 'RIBINARY',\n",
        " 'STOP': '2500',\n",
        " 'FORMAT': 'EPSIMAGE',\n",
        " ':VERBOSE': '1',\n",
        " 'PRINTQUAL': 'DEFLT',\n",
        " 'PAPERTYPE': 'DEFLT',\n",
        " ':TRIGGER:MAIN:EDGE:SOURCE': 'CH2',\n",
        " 'VERTICAL:POSITION': '0.0E0',\n",
        " 'PRESION_N2': '0',\n",
        " ':TRIGGER:MAIN:MODE': 'NORMAL',\n",
        " 'WHEN': 'NOTEQUAL',\n",
        " 'START': '1',\n",
        " ':MEASUREMENT:METHOD': 'AUTO',\n",
        " ':CURSOR:VBARS:UNITS': 'SECONDS',\n",
        " 'SLOPE': 'RISE',\n",
        " 'REFA': '0',\n",
        " 'STOPAFTER': 'SEQUENCE'}"
       ]
      }
     ],
     "prompt_number": 16
    },
    {
     "cell_type": "markdown",
     "metadata": {},
     "source": [
      "TRG -> \\si{1,52}{V} por lo que son compabrables"
     ]
    },
    {
     "cell_type": "code",
     "collapsed": false,
     "input": [
      "segundaPresion= np.load('./data/acq150430n18.npy')"
     ],
     "language": "python",
     "metadata": {},
     "outputs": [],
     "prompt_number": 17
    },
    {
     "cell_type": "code",
     "collapsed": false,
     "input": [
      "taus2= tauAMC2(segundaPresion)\n",
      "taus2.size"
     ],
     "language": "python",
     "metadata": {},
     "outputs": [
      {
       "metadata": {},
       "output_type": "pyout",
       "prompt_number": 18,
       "text": [
        "128"
       ]
      }
     ],
     "prompt_number": 18
    },
    {
     "cell_type": "code",
     "collapsed": false,
     "input": [
      "n2, bins2, patches2= plt.hist(taus2, bins=40)"
     ],
     "language": "python",
     "metadata": {},
     "outputs": [
      {
       "metadata": {},
       "output_type": "display_data",
       "png": "[encoded data removed]",
       "text": [
        "<matplotlib.figure.Figure at 0x7f02d4646828>"
       ]
      }
     ],
     "prompt_number": 19
    },
    {
     "cell_type": "markdown",
     "metadata": {},
     "source": [
      "Son pocas cuentas para hacer la estad\u00edstica... Recorto en id\u00e9ntico nivel que en la adquisici\u00f3n con mayor presi\u00f3n"
     ]
    },
    {
     "cell_type": "code",
     "collapsed": false,
     "input": [
      "intermedio2 = np.ma.masked_greater(taus2, bins[9])\n",
      "primerCampana2= intermedio2.compressed()"
     ],
     "language": "python",
     "metadata": {},
     "outputs": [],
     "prompt_number": 20
    },
    {
     "cell_type": "code",
     "collapsed": false,
     "input": [
      "n2r, bins2r, patches2r= plt.hist(primerCampana2, bins=40)"
     ],
     "language": "python",
     "metadata": {},
     "outputs": [
      {
       "metadata": {},
       "output_type": "display_data",
       "png": "[encoded data removed]",
       "text": [
        "<matplotlib.figure.Figure at 0x7f02d4618cc0>"
       ]
      }
     ],
     "prompt_number": 21
    },
    {
     "cell_type": "code",
     "collapsed": false,
     "input": [
      "primerCampana2.mean(), primerCampana2.std(), taus2.mean(), taus2.std()"
     ],
     "language": "python",
     "metadata": {},
     "outputs": [
      {
       "metadata": {},
       "output_type": "pyout",
       "prompt_number": 22,
       "text": [
        "(1.861358490566039e-07,\n",
        " 2.2777538541619282e-08,\n",
        " 2.221281250000002e-07,\n",
        " 9.8986627046204438e-08)"
       ]
      }
     ],
     "prompt_number": 22
    },
    {
     "cell_type": "markdown",
     "metadata": {},
     "source": [
      "Hice 1280 adqusiciones con igual trigger con la presi\u00f3n nueva (m\u00e1s baja): acq150508n01"
     ]
    },
    {
     "cell_type": "code",
     "collapsed": false,
     "input": [
      "acq150508n01= np.load('./data/acq150508n01.npy')"
     ],
     "language": "python",
     "metadata": {},
     "outputs": [],
     "prompt_number": 23
    },
    {
     "cell_type": "code",
     "collapsed": false,
     "input": [
      "# leo el dict para verificar \n",
      "dico= np.load('./data/sets150508n01.npy')\n",
      "dico.item()"
     ],
     "language": "python",
     "metadata": {},
     "outputs": [
      {
       "metadata": {},
       "output_type": "pyout",
       "prompt_number": 4,
       "text": [
        "{':MEASUREMENT:MEAS4:TYPE': 'NONE',\n",
        " 'STYLE': 'VECTORS',\n",
        " ':VERBOSE': '1',\n",
        " 'ESPECTRO': '160504v1',\n",
        " 'PERSISTENCE': '0',\n",
        " ':TRIGGER:MAIN:LEVEL': '1.52E0',\n",
        " 'PAPERTYPE': 'DEFLT',\n",
        " 'STOP': '2500',\n",
        " 'HOLDOFF:VALUE': '5.0E-7',\n",
        " 'PRINTQUAL': 'DEFLT',\n",
        " ':MEASUREMENT:MEAS3:TYPE': 'NONE',\n",
        " ':MEASUREMENT:METHOD': 'AUTO',\n",
        " 'MATH': '0',\n",
        " 'IDPRINT': 'DEFLT',\n",
        " 'CAMARA': 'Campbelliano',\n",
        " 'POLARITY': 'NORMAL',\n",
        " 'PRESION_AR': '3.005',\n",
        " 'BANDWIDTH': 'ON',\n",
        " 'ELECTRONICA': 'Luis',\n",
        " 'CONTRAST': '54',\n",
        " ':SELECT:CH1': '1',\n",
        " ':TRIGGER:MAIN:VIDEO:SOURCE': 'CH2',\n",
        " 'FUENTE': 'Canberra2025',\n",
        " 'CURRENTPROBE': '1.0E1',\n",
        " 'LAYOUT': 'PORTRAIT',\n",
        " 'SELECT:SOURCE': 'CH2',\n",
        " 'STOPAFTER': 'SEQUENCE',\n",
        " ':AUTORANGE:SETTINGS': 'BOTH',\n",
        " 'POSITION2': '2.32E0',\n",
        " 'WIDTH': '1.03E-3',\n",
        " 'VERTICAL:POSITION': '0.0E0',\n",
        " ':CH2:PROBE': '1.0E0',\n",
        " ':CURSOR:FUNCTION': 'HBARS',\n",
        " ':MATH:FFT:VERTICAL:POSITION': '0.0E0',\n",
        " 'TYPE': 'EDGE',\n",
        " 'DESTINATION': 'REFA',\n",
        " 'START': '1',\n",
        " 'SOURCE': 'CH1',\n",
        " 'MAIN:SCALE': '2.5E-7',\n",
        " ':CURSOR:HBARS:POSITION1': '9.68E0',\n",
        " ':MEASUREMENT:MEAS1:TYPE': 'RISE',\n",
        " ':HORIZONTAL:VIEW': 'MAIN',\n",
        " 'PRESION_N2': '0',\n",
        " 'REFA': '0',\n",
        " ':SAVE:IMAGE:FILEFORMAT': 'EPSIMAGE',\n",
        " ':LANGUAGE': 'SPANISH',\n",
        " 'SLOPE': 'RISE',\n",
        " 'NUMAVG': '128',\n",
        " 'DATEPRINT': 'DEFLT',\n",
        " ':CURSOR:VBARS:UNITS': 'SECONDS',\n",
        " 'SOURCE1': 'CH2',\n",
        " ':MEASUREMENT:MEAS2:TYPE': 'NONE',\n",
        " 'WHEN': 'NOTEQUAL',\n",
        " 'COUPLING': 'AC',\n",
        " 'POSITION1': '-8.3E-7',\n",
        " 'IMAGESIZE': 'DEFLT',\n",
        " 'STANDARD': 'NTSC',\n",
        " ':TRIGGER:MAIN:PULSE:SOURCE': 'CH2',\n",
        " 'WIDTH:POLARITY': 'POSITIVE',\n",
        " ':DISPLAY:FORMAT': 'YT',\n",
        " 'LINE': '1',\n",
        " 'STATE': '0',\n",
        " 'FORMAT': 'EPSIMAGE',\n",
        " ':PICTBRIDGE:PAPERSIZE': 'DEFLT',\n",
        " 'INKSAVER': 'ON',\n",
        " ':ACQUIRE:MODE': 'SAMPLE',\n",
        " 'REFB': '0',\n",
        " 'PORT': 'USB',\n",
        " ':HORIZONTAL:DELAY:SCALE': '1.0E-8',\n",
        " 'POSITION': '-4.0E-8',\n",
        " ':TRIGGER:MAIN:MODE': 'NORMAL',\n",
        " ':DATA:ENCDG': 'RIBINARY',\n",
        " ':HARDCOPY:BUTTON': 'SAVESALL',\n",
        " 'YUNIT': '\"V\"',\n",
        " ':MATH:DEFINE': '\"CH1+CH2\"',\n",
        " ':LOCK': 'NONE',\n",
        " ':TRIGGER:MAIN:EDGE:SOURCE': 'CH2',\n",
        " 'SCALE': '1.0E0',\n",
        " 'HV': '400',\n",
        " ':CH1:PROBE': '1.0E0',\n",
        " 'INVERT': 'OFF',\n",
        " ':MEASUREMENT:IMMED:TYPE': 'RISE',\n",
        " 'CH2': '1',\n",
        " ':MEASUREMENT:MEAS5:TYPE': 'NONE',\n",
        " ':MATH:FFT:HORIZONTAL:POSITION': '5.0E1',\n",
        " 'SYNC': 'FIELD'}"
       ]
      }
     ],
     "prompt_number": 4
    },
    {
     "cell_type": "code",
     "collapsed": false,
     "input": [
      "taus3= tauAMC2(acq150508n01)\n",
      "taus3.size"
     ],
     "language": "python",
     "metadata": {},
     "outputs": [
      {
       "metadata": {},
       "output_type": "pyout",
       "prompt_number": 24,
       "text": [
        "1280"
       ]
      }
     ],
     "prompt_number": 24
    },
    {
     "cell_type": "code",
     "collapsed": false,
     "input": [
      "n3, bins3, patches3= plt.hist(taus3, bins=40)"
     ],
     "language": "python",
     "metadata": {},
     "outputs": [
      {
       "metadata": {},
       "output_type": "display_data",
       "png": "[encoded data removed]",
       "text": [
        "<matplotlib.figure.Figure at 0x7f02f42642b0>"
       ]
      }
     ],
     "prompt_number": 25
    },
    {
     "cell_type": "code",
     "collapsed": false,
     "input": [
      "intermedio3 = np.ma.masked_greater(taus3, bins[9])\n",
      "primerCampana3= intermedio3.compressed()"
     ],
     "language": "python",
     "metadata": {},
     "outputs": [],
     "prompt_number": 26
    },
    {
     "cell_type": "code",
     "collapsed": false,
     "input": [
      "n3r, bins3r, patches3r= plt.hist(primerCampana3, bins=40)"
     ],
     "language": "python",
     "metadata": {},
     "outputs": [
      {
       "metadata": {},
       "output_type": "display_data",
       "png": "[encoded data removed]",
       "text": [
        "<matplotlib.figure.Figure at 0x7f02d4646f60>"
       ]
      }
     ],
     "prompt_number": 27
    },
    {
     "cell_type": "code",
     "collapsed": false,
     "input": [
      "primerCampana3.mean(), primerCampana3.std(), taus3.mean(), taus3.std()"
     ],
     "language": "python",
     "metadata": {},
     "outputs": [
      {
       "metadata": {},
       "output_type": "pyout",
       "prompt_number": 28,
       "text": [
        "(1.8619575856443732e-07,\n",
        " 2.3731247734605508e-08,\n",
        " 5.228531249999998e-07,\n",
        " 3.934210911863199e-07)"
       ]
      }
     ],
     "prompt_number": 28
    },
    {
     "cell_type": "markdown",
     "metadata": {},
     "source": [
      "No hay diferencia apreciable en la primer campana ante el cambio de presi\u00f3n."
     ]
    },
    {
     "cell_type": "markdown",
     "metadata": {},
     "source": [
      "Vaciamos la c\u00e1mara, Presi\u00f3n=\\si{1}{atm}, esperando ver un cambio apreciable.\n",
      "Nuevamente hago unas 1280 adquisiciones."
     ]
    },
    {
     "cell_type": "code",
     "collapsed": false,
     "input": [
      "acq150508n02= np.load('./data/acq150508n02.npy')\n",
      "taus4= tauAMC2(acq150508n02)\n",
      "taus4.size"
     ],
     "language": "python",
     "metadata": {},
     "outputs": [
      {
       "metadata": {},
       "output_type": "pyout",
       "prompt_number": 29,
       "text": [
        "1280"
       ]
      }
     ],
     "prompt_number": 29
    },
    {
     "cell_type": "code",
     "collapsed": false,
     "input": [
      "n4, bins4, patches4= plt.hist(taus4, bins=40)"
     ],
     "language": "python",
     "metadata": {},
     "outputs": [
      {
       "metadata": {},
       "output_type": "display_data",
       "png": "[encoded data removed]",
       "text": [
        "<matplotlib.figure.Figure at 0x7f02d0dd4a20>"
       ]
      }
     ],
     "prompt_number": 30
    },
    {
     "cell_type": "code",
     "collapsed": false,
     "input": [
      "intermedio4 = np.ma.masked_greater(taus4, bins[9])\n",
      "primerCampana4= intermedio4.compressed()\n",
      "n4r, bins4r, patches4r= plt.hist(primerCampana4, bins=40)"
     ],
     "language": "python",
     "metadata": {},
     "outputs": [
      {
       "metadata": {},
       "output_type": "display_data",
       "png": "[encoded data removed]",
       "text": [
        "<matplotlib.figure.Figure at 0x7f02cdbcb860>"
       ]
      }
     ],
     "prompt_number": 31
    },
    {
     "cell_type": "code",
     "collapsed": false,
     "input": [
      "primerCampana4.mean(), primerCampana4.std(), taus4.mean(), taus4.std()"
     ],
     "language": "python",
     "metadata": {},
     "outputs": [
      {
       "metadata": {},
       "output_type": "pyout",
       "prompt_number": 32,
       "text": [
        "(1.3727095292766921e-07,\n",
        " 2.1677631233076023e-08,\n",
        " 3.2883906250000038e-07,\n",
        " 3.2985521545311469e-07)"
       ]
      }
     ],
     "prompt_number": 32
    },
    {
     "cell_type": "code",
     "collapsed": false,
     "input": [
      "diff = primerCampana3.mean()- primerCampana4.mean()\n",
      "err_diff= np.sqrt(primerCampana3.std()**2 + primerCampana4.std()**2)\n",
      "diff, err_diff"
     ],
     "language": "python",
     "metadata": {},
     "outputs": [
      {
       "metadata": {},
       "output_type": "pyout",
       "prompt_number": 34,
       "text": [
        "(4.8924805636768113e-08, 3.2141745673165491e-08)"
       ]
      }
     ],
     "prompt_number": 34
    },
    {
     "cell_type": "code",
     "collapsed": false,
     "input": [
      "3.005* 98066.5* (1/101300) # kgf/cm2 * (Pa/(kgf/cm2))* (atm/Pa)"
     ],
     "language": "python",
     "metadata": {},
     "outputs": [
      {
       "metadata": {},
       "output_type": "pyout",
       "prompt_number": 36,
       "text": [
        "2.9090802813425474"
       ]
      }
     ],
     "prompt_number": 36
    },
    {
     "cell_type": "markdown",
     "metadata": {},
     "source": [
      "$\\Delta\\tau= 186\\pm23$ ns $- 137\\pm22$ ns$=  48\\pm33$ ns cuando se redujo la presi\u00f3n de $3,005$ kgf/cm^2 relativa($2,909$ atm) a $\\simeq1$ atm absoluta, una reducci\u00f3n de $\\sim 2,909$ atm."
     ]
    },
    {
     "cell_type": "code",
     "collapsed": false,
     "input": [],
     "language": "python",
     "metadata": {},
     "outputs": []
    }
   ],
   "metadata": {}
  }
 ]
}