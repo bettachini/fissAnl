{
 "metadata": {
  "name": "",
  "signature": "sha256:7a0ead7197733d5762a8164a0df57850a24a301771521e33cd4661a7e071c7f5"
 },
 "nbformat": 3,
 "nbformat_minor": 0,
 "worksheets": [
  {
   "cells": [
    {
     "cell_type": "code",
     "collapsed": false,
     "input": [
      "import matplotlib\n",
      "import numpy as np\n",
      "import matplotlib.pyplot as plt\n",
      "%matplotlib inline\n",
      "# coding=utf-8"
     ],
     "language": "python",
     "metadata": {},
     "outputs": [],
     "prompt_number": 3
    },
    {
     "cell_type": "heading",
     "level": 1,
     "metadata": {},
     "source": [
      "Ensayos pulsos BL-2"
     ]
    },
    {
     "cell_type": "markdown",
     "metadata": {},
     "source": [
      "Trato de reproducir las mediciones que se anlizan en `anl150807`. Los anchos temporales de los pulsos fueron:\n",
      "\n",
      "pulser= np.array([50e-9, 75e-9, 100E-9, 125E-9, 150E-9, 175E-9, 200E-9, 225E-9, 250e-9, 275e-9,\n",
      "                  3.0567943706e-07, 3.25173964034e-07, 3.47919077404e-07, 3.73028928851e-07, 3.98022673964e-07, 4.23560985145e-07 ])"
     ]
    },
    {
     "cell_type": "heading",
     "level": 2,
     "metadata": {},
     "source": [
      "Par\u00e1metros del generador de pulsos BL-2\n"
     ]
    },
    {
     "cell_type": "markdown",
     "metadata": {},
     "source": [
      "\n",
      "\n",
      "- Pulse out: usa sal\u00edda negativa\n",
      "- reference: INT\n",
      "- frequency= 100 Hz\n",
      "\n",
      "Los ajustes de tiempos apuntan a minimizar un notorio fen\u00f3meno de Gibbs:\n",
      "\n",
      "- delay= 10 ms (single pulse)\n",
      "- riseTime= 10 ns\n",
      "- fallTime= 5 ns\n",
      "\n",
      "La corriente a la entrada de la electr\u00f3nica de lu\u00eds debe ser de $1\\mathrm{\\mu A}$ pico-pico. Como uso una resistencia de $100\\mathrm{k\\Omega}$ ($1\\times10^5\\mathrm{\\Omega}$), los pulsos deben ser de $100\\mathrm{m V}$ ($1\\times10^{-1}\\mathrm{V}$) pico-pico.\n",
      "\n",
      "- amplitude: ajusto perilla hasta 0,215 para lograr $100\\mathrm{m V}$ p-p"
     ]
    },
    {
     "cell_type": "markdown",
     "metadata": {},
     "source": [
      "`test.get_channel_scale('CH1'), test.get_channel_position('CH1'), test.get_channel_scale('CH2'), test.get_channel_position('CH2'), test.horizontal_main_scale(), test.horizontal_main_position(), test.trigger_level()`\n",
      "\n",
      "(0.01, 7.48, 0.2, -2.0, '1.0E-7', '1.76E-7', -0.0648)"
     ]
    },
    {
     "cell_type": "markdown",
     "metadata": {},
     "source": [
      "Realic\u00e9 mediciones `pul151005zxx.npy.npz` desde `xx=01` con un ancho de $50\\mathrm{ns}$ en incrementos de $25\\mathrm{ns}$ por adquisici\u00f3n."
     ]
    },
    {
     "cell_type": "markdown",
     "metadata": {},
     "source": [
      "Realic\u00e9 mediciones `pul151006zxx.npy.npz` desde `xx=01` con un ancho de $175\\mathrm{ns}$ en incrementos de $25\\mathrm{ns}$ por adquisici\u00f3n."
     ]
    },
    {
     "cell_type": "heading",
     "level": 1,
     "metadata": {},
     "source": [
      "An\u00e1lisis antiguo - anl150807"
     ]
    },
    {
     "cell_type": "heading",
     "level": 3,
     "metadata": {},
     "source": [
      "Funciones auxiliares - anl150807"
     ]
    },
    {
     "cell_type": "code",
     "collapsed": false,
     "input": [
      "def dataPathFile(mes, dia, acq):\n",
      "    path= './data/'\n",
      "    fNS= 'pul15'+ '{:02n}'.format(mes)+ '{:02n}'.format(dia)+ 'z'\n",
      "    fNE= '.npy.npz'\n",
      "    return path+ fNS+ '{:02n}'.format(acq)+fNE\n",
      "\n",
      "\n",
      "def desvioEstandardCuasiNoSesgado(datos):\n",
      "    '''\n",
      "    Estimador cuasi no sesgado de la desviaci\u00f3n estandar.\n",
      "    https://en.wikipedia.org/wiki/Unbiased_estimation_of_standard_deviation\n",
      "    '''\n",
      "    media= np.mean(datos)\n",
      "    suma=0\n",
      "    for i in datos:\n",
      "        aux= (datos[i]- media)\n",
      "        suma+= aux**2\n",
      "    desv= np.sqrt(suma/( np.size(datos)- 1.5) ) \n",
      "    return desv\n",
      "\n",
      "\n",
      "def errorEstandard(datos):\n",
      "    '''\n",
      "    Estimador de la desviaci\u00f3n estandar del promedio.\n",
      "    Usa la desviaci\u00f3n estandar de la poblaci\u00f3n y la divide por la ra\u00edz del n\u00famero de elementos en la poblaci\u00f3n.\n",
      "    https://en.wikipedia.org/wiki/Standard_error\n",
      "    '''\n",
      "    return desvioEstandardCuasiNoSesgado(datos)/ np.sqrt(np.size(datos))"
     ],
     "language": "python",
     "metadata": {},
     "outputs": [],
     "prompt_number": 10
    },
    {
     "cell_type": "heading",
     "level": 3,
     "metadata": {},
     "source": [
      "$\\tau$ de cada pulso - funciones - anl150807"
     ]
    },
    {
     "cell_type": "code",
     "collapsed": false,
     "input": [
      "def baseMeas2(Meas2, messungenZahl, prop=0.25):\n",
      "    '''\n",
      "    (array, array, float) -> array\n",
      "    \n",
      "    De la primer fracci\u00f3n prop de ambos canales en Meas2,\n",
      "    obtiene el promedio y dispersi\u00f3n que se asume como nivel de base\n",
      "    grProm[0]: promedio ch1, grProm[1]: promedio ch2,\n",
      "    grProm[2]: desviaci\u00f3n estandard ch1, grProm[3]: desviaci\u00f3n estandard ch2\n",
      "    '''\n",
      "    erstePunkten= int(messungenZahl[1]* prop)\n",
      "    ch1Erste= Meas2[0][0:erstePunkten-1]\n",
      "    ch2Erste= Meas2[1][0:erstePunkten-1]\n",
      "    return np.array([ch1Erste.mean(), ch2Erste.mean(), ch1Erste.std(), ch2Erste.std() ] )\n",
      "\n",
      "\n",
      "def tauCeti3e(T, Meas2, messungenZahl, prop, rechazo=0.1):\n",
      "    '''\n",
      "    Calcula \u00edndices risetime como tiempo entre 10% y 90% de excursi\u00f3n entre nivel de base y m\u00e1ximo\n",
      "   \n",
      "    Meas2: array (2,:) con Meas2[0] canal 1, Meas2[0] canal 2, producto de np.vstack\n",
      "    baseMeas2: base(Meas2)\n",
      "    '''\n",
      "    bMeas2= baseMeas2(Meas2, messungenZahl, prop) # niveles base\n",
      "    \n",
      "    if ((bMeas2[3])>np.abs(bMeas2[1]* rechazo)):\n",
      "        return np.array([0, 0 ])\n",
      "    else:\n",
      "        maxIx= (Meas2[0].argmax(), Meas2[1].argmax() ) # \u00edndice m\u00e1ximo\n",
      "        # m\u00e1ximo promediado cercano\n",
      "        rangoCercano= 20 # tres lecturas a izq y derecha\n",
      "        maxCH1= (Meas2[0][maxIx[0]- rangoCercano: maxIx[0]+ rangoCercano]).mean()\n",
      "        maxCH2= (Meas2[1][maxIx[1]- rangoCercano: maxIx[1]+ rangoCercano]).mean()\n",
      "        # diferencia m\u00e1ximo- base\n",
      "        deltaV= np.array([maxCH1- bMeas2[0],maxCH2- bMeas2[1]]) # usa promediado cercano\n",
      "        # Diferencias de potencial para 10%, 90% de excursi\u00f3n\n",
      "        v10= bMeas2[0:2]+ 0.1* deltaV\n",
      "        v90= bMeas2[0:2]+ 0.9* deltaV\n",
      "        # \u00cdndices para primer potencial del pulso que exceda 10%, y \u00faltimo por debajo 90% \n",
      "        ixTau= np.array([maxIx[0], maxIx[1], maxIx[0], maxIx[1]])\n",
      "        while (Meas2[0,ixTau[0]]> v10[0]):\n",
      "            ixTau[0]-= 1\n",
      "        while (Meas2[1,ixTau[1]]> v10[1]):\n",
      "            ixTau[1]-= 1\n",
      "        while (Meas2[0,ixTau[2]]> v90[0]):\n",
      "            ixTau[2]-= 1\n",
      "        while (Meas2[1,ixTau[3]]> v90[1]):\n",
      "            ixTau[3]-= 1\n",
      "        return np.array([T[ixTau[2]]- T[ixTau[0]], T[ixTau[3]]- T[ixTau[1]] ])\n",
      "\n",
      "\n",
      "def tauAMCz3e(npzData, prop= 0.25):\n",
      "    '''\n",
      "    Vectores risetime canal AMC de archivo acq comprimido\n",
      "    \n",
      "    npzData= numpy.lib.npyio.NpzFile\n",
      "    prop= porcentaje inferior del canal a promediar para obtener nivel de base     \n",
      "    '''\n",
      "    FLUC= npzData['ch1']\n",
      "    AMC= npzData['ch2']\n",
      "    messungenZahl= AMC.shape\n",
      "    # tiempo\n",
      "    T= npzData['zeit']\n",
      "    tauAMC= np.empty([0, 1])\n",
      "    i=0\n",
      "    q=0\n",
      "    cucho= (messungenZahl[0]- q- 1 )\n",
      "    while (i< cucho ):\n",
      "        Meas2= np.array([FLUC[i+q], AMC[i+q] ] )\n",
      "        tauAMCi= tauCeti3e(T, Meas2, messungenZahl, prop)[1]\n",
      "        if (tauAMCi!=0):\n",
      "            i+=1\n",
      "            tauAMC= np.append(tauAMC, tauAMCi)\n",
      "        else:\n",
      "            q+=1\n",
      "        cucho= (messungenZahl[0]- q- 1 )\n",
      "    return tauAMC"
     ],
     "language": "python",
     "metadata": {},
     "outputs": [],
     "prompt_number": 18
    },
    {
     "cell_type": "heading",
     "level": 3,
     "metadata": {},
     "source": [
      "$\\tau$ histogramas - funciones - anl150807"
     ]
    },
    {
     "cell_type": "code",
     "collapsed": false,
     "input": [
      "def agregadorTaus(mes, dia, rango):\n",
      "    taus= np.array([])\n",
      "    for i in rango:\n",
      "        acq= np.load(dataPathFile(mes, dia, i))\n",
      "        taus= np.append(taus, tauAMCz3e(acq))\n",
      "    return taus\n",
      "\n",
      "\n",
      "def binner(taus, binHist=40):\n",
      "    fig = plt.figure(figsize=(18,5))  # an empty figure with no axes\n",
      "    ax_lst= fig.add_subplot(1,2,2)\n",
      "    n, bins, patches= ax_lst.hist(taus, bins=120)\n",
      "    ax_lst.set_ylabel('Cuentas')\n",
      "    ax_lst.set_xlabel('Tau [ns]')\n",
      "    intermedio = np.ma.masked_greater(taus, bins[binHist])\n",
      "    primerCampana= intermedio.compressed()\n",
      "    ax_lst2= fig.add_subplot(1,2,1)\n",
      "    ax_lst2.set_ylabel('Cuentas')\n",
      "    ax_lst2.set_xlabel('Tau [ns]')\n",
      "    n_i, bins_i, patches_i= ax_lst2.hist(primerCampana, bins=20)\n",
      "    return (primerCampana.size, primerCampana.mean(), errorEstandard(primerCampana) )"
     ],
     "language": "python",
     "metadata": {},
     "outputs": [],
     "prompt_number": 12
    },
    {
     "cell_type": "heading",
     "level": 3,
     "metadata": {},
     "source": [
      "$\\Delta t$ pulsos cuadrados - funciones - anl150807"
     ]
    },
    {
     "cell_type": "code",
     "collapsed": false,
     "input": [
      "def anchoUnCuadrado(T, pulsoCuadrado, messungenZahl):\n",
      "    # tomar tiempos anterior y posterior a mitad del pulso\n",
      "    valMax= np.int(pulsoCuadrado.max())\n",
      "    valMin= np.int(pulsoCuadrado.min())\n",
      "    medioSalto= np.round(0.5* (valMax- valMin))\n",
      "    ixMenor, ixMayor= (0, messungenZahl[1]-1)\n",
      "    while pulsoCuadrado[ixMenor]< (valMin+medioSalto):\n",
      "        ixMenor+= 1\n",
      "    while pulsoCuadrado[ixMayor]< (valMin+medioSalto):\n",
      "        ixMayor-= 1\n",
      "    deltaT= T[ixMayor]-  T[ixMenor]\n",
      "    return deltaT # Validado\n",
      "\n",
      "\n",
      "def anchoTodosCuadrados(acq):\n",
      "    T= acq['zeit']\n",
      "    pulsosCuadrados= acq['ch1']\n",
      "    messungenZahl= pulsosCuadrados.shape\n",
      "    deltaTTodos= np.empty([0, 1])\n",
      "    i=0\n",
      "    q=0\n",
      "    cucho= (messungenZahl[0]- q- 1 )\n",
      "    while (i< cucho):\n",
      "        dT= anchoUnCuadrado(T, pulsosCuadrados[i+q], messungenZahl)\n",
      "        if (dT!=0):\n",
      "            i+=1\n",
      "            deltaTTodos= np.append(deltaTTodos, dT)\n",
      "        else:\n",
      "            q+=1\n",
      "        cucho= (messungenZahl[0]- q- 1 )\n",
      "        # print (i, cucho)\n",
      "    return deltaTTodos\n",
      "\n",
      "\n",
      "def agregadorAnchoTodosCuadrados(mes, dia, rango):\n",
      "    deltaTTodos= np.array([])\n",
      "    for i in rango:\n",
      "        acq= np.load(dataPathFile(mes, dia, i))\n",
      "        deltaTTodos= np.append(deltaTTodos, anchoTodosCuadrados(acq))\n",
      "    return (deltaTTodos.mean(), errorEstandard(deltaTTodos) )"
     ],
     "language": "python",
     "metadata": {},
     "outputs": [],
     "prompt_number": 13
    },
    {
     "cell_type": "heading",
     "level": 3,
     "metadata": {},
     "source": [
      "Pulsos cuadrados - $\\Delta t$  y  $ \\tau$ - media y dispersi\u00f3n"
     ]
    },
    {
     "cell_type": "code",
     "collapsed": false,
     "input": [
      "# 50 ns\n",
      "mes= 10\n",
      "dia= 5\n",
      "rango= np.arange(1,2)\n",
      "\n",
      "(mDT, emDT)= agregadorAnchoTodosCuadrados(mes, dia, rango)\n",
      "print('Delta T= '+'{:.03e}'.format(mDT)+ ' +/- '+ '{:.03e}'.format(emDT))\n",
      "print(mDT, emDT)\n",
      "\n",
      "taus= agregadorTaus(mes, dia, rango)\n",
      "(siz, mTau, emTau)= binner(taus, 45)\n",
      "print('tau= '+'{:.03e}'.format(mTau)+ ' +/- '+ '{:.03e}'.format(emTau))\n",
      "print(mTau, emTau)"
     ],
     "language": "python",
     "metadata": {},
     "outputs": [
      {
       "output_type": "stream",
       "stream": "stdout",
       "text": [
        "Delta T= 5.024e-08 +/- 6.720e-12\n",
        "5.02401876466e-08 6.72001453609e-12\n",
        "tau= 1.025e-07 +/- 2.085e-09"
       ]
      },
      {
       "output_type": "stream",
       "stream": "stdout",
       "text": [
        "\n",
        "1.02507772021e-07 2.08511061169e-09\n"
       ]
      },
      {
       "metadata": {},
       "output_type": "display_data",
       "png": "[encoded data removed]",
       "text": [
        "<matplotlib.figure.Figure at 0x7f80545295c0>"
       ]
      }
     ],
     "prompt_number": 22
    },
    {
     "cell_type": "heading",
     "level": 1,
     "metadata": {},
     "source": [
      "Nuevas funciones - altura y \u00e1rea de subida"
     ]
    },
    {
     "cell_type": "code",
     "collapsed": false,
     "input": [
      "def tauCeti3eAreaMax(T, Meas2, messungenZahl, prop, rechazo=0.1):\n",
      "    '''\n",
      "    Calcula \u00edndices risetime como tiempo entre 10% y 90% de excursi\u00f3n entre nivel de base y m\u00e1ximo.\n",
      "    Retorna area por sobre nivel de base de AMC entre 10% a izquierda y derecha.\n",
      "   \n",
      "    Meas2: array (2,:) con Meas2[0] canal 1, Meas2[0] canal 2, producto de np.vstack\n",
      "    baseMeas2: base(Meas2)\n",
      "    '''\n",
      "    bMeas2= baseMeas2(Meas2, messungenZahl, prop) # niveles base\n",
      "    \n",
      "    if ((bMeas2[3])>np.abs(bMeas2[1]* rechazo)):\n",
      "        return np.array([0, 0 ])\n",
      "    else:\n",
      "        maxIx= (Meas2[0].argmax(), Meas2[1].argmax() ) # \u00edndice m\u00e1ximo\n",
      "        # m\u00e1ximo promediado cercano\n",
      "        rangoCercano= 20 # tres lecturas a izq y derecha\n",
      "        maxCH1= (Meas2[0][maxIx[0]- rangoCercano: maxIx[0]+ rangoCercano]).mean()\n",
      "        maxCH2= (Meas2[1][maxIx[1]- rangoCercano: maxIx[1]+ rangoCercano]).mean()\n",
      "        # diferencia m\u00e1ximo- base\n",
      "        deltaV= np.array([maxCH1- bMeas2[0],maxCH2- bMeas2[1]]) # usa promediado cercano\n",
      "        # Diferencias de potencial para 10%, 90% de excursi\u00f3n\n",
      "        v10= bMeas2[0:2]+ 0.1* deltaV\n",
      "        v90= bMeas2[0:2]+ 0.9* deltaV\n",
      "        # \u00cdndices para primer potencial del pulso que exceda 10%, y \u00faltimo por debajo 90% \n",
      "        ixTau= np.array([maxIx[0], maxIx[1], maxIx[0], maxIx[1]])\n",
      "        while (Meas2[0,ixTau[0]]> v10[0]):\n",
      "            ixTau[0]-= 1\n",
      "        while (Meas2[1,ixTau[1]]> v10[1]):\n",
      "            ixTau[1]-= 1\n",
      "        while (Meas2[0,ixTau[2]]> v90[0]):\n",
      "            ixTau[2]-= 1\n",
      "        while (Meas2[1,ixTau[3]]> v90[1]):\n",
      "            ixTau[3]-= 1\n",
      "        # Area\n",
      "        ixAMC10ProzentRicht= maxIx[1] # empiezo por m\u00e1ximo\n",
      "        while (Meas2[1, ixAMC10ProzentRicht]> v10[1]):\n",
      "            ixAMC10ProzentRicht+= 1\n",
      "        # ixTau[1], maxIx[1], ixAMC10ProzentRicht\n",
      "        # hay que sumar diferencia AMC con este nivel desde el \u00edndice 10% izquierda hasta derecha\n",
      "        tauFLUC= T[ixTau[2]]- T[ixTau[0]]\n",
      "        tauAMC= T[ixTau[3]]- T[ixTau[1]]\n",
      "        areaTotalAMC= (AMC[ixTau[1]: ixAMC10ProzentRicht] - bMeas2[1]).sum()\n",
      "        areaSubidaAMC= (AMC[ixTau[1]: maxIx[1]] - bMeas2[1]).sum()\n",
      "        maxAMC= maxCH2\n",
      "        return np.array([tauFLUC, tauAMC, areaTotalAMC, areaSubidaAMC, maxAMC])\n",
      "    \n",
      "    \n",
      "def tausAreasMaxSerieAdq(npzData, prop= 0.25):\n",
      "    '''\n",
      "    Vectores risetime canal AMC de archivo acq comprimido\n",
      "    \n",
      "    npzData= numpy.lib.npyio.NpzFile\n",
      "    prop= porcentaje inferior del canal a promediar para obtener nivel de base     \n",
      "    '''\n",
      "    FLUC= npzData['ch1']\n",
      "    AMC= npzData['ch2']\n",
      "    messungenZahl= AMC.shape\n",
      "    # tiempo\n",
      "    T= npzData['zeit']\n",
      "    tauAMC= np.empty([0, 1])\n",
      "    i=0\n",
      "    q=0\n",
      "    cucho= (messungenZahl[0]- q- 1 )\n",
      "    while (i< cucho ):\n",
      "        Meas2= np.array([FLUC[i+q], AMC[i+q] ] )\n",
      "        cuis= tauCeti3e(T, Meas2, messungenZahl, prop)\n",
      "        [tauFLUCi, tauAMCi, = cuis[1]\n",
      "        if (tauAMCi!=0):\n",
      "            i+=1\n",
      "            tauAMC= np.append(tauAMC, tauAMCi)\n",
      "        else:\n",
      "            q+=1\n",
      "        cucho= (messungenZahl[0]- q- 1 )\n",
      "    return tauFLUC, tauAMC, areaSubida, areaTotal, maxAMC"
     ],
     "language": "python",
     "metadata": {},
     "outputs": []
    },
    {
     "cell_type": "markdown",
     "metadata": {},
     "source": [
      "Hay que rescatar funciones `anl150907` de funciones altura-\u00e1rea: Listo.\n",
      "\n",
      "Crear el agregador correspondiente: Expandir agregadorTaus para que recoja salidas de `tauCeti3eAreaMax`."
     ]
    },
    {
     "cell_type": "code",
     "collapsed": false,
     "input": [
      "\n",
      "\n",
      "def agregadorTausAreasMax(mes, dia, rango):\n",
      "    taus= np.array([])\n",
      "    areasTotal= np.array([])\n",
      "    areasSubida= np.array([])\n",
      "    maximosAMC= np.array([])\n",
      "    for i in rango:\n",
      "        acq= np.load(dataPathFile(mes, dia, i))\n",
      "        cuis= tausAreasMaxSerieAdq(acq)\n",
      "        taus= np.append(taus, cuis[1])\n",
      "    return taus"
     ],
     "language": "python",
     "metadata": {},
     "outputs": []
    }
   ],
   "metadata": {}
  }
 ]
}