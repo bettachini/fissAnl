{
 "metadata": {
  "name": "",
  "signature": "sha256:033c6bc09ac6e91a0492c2c4d5eda201d88822654682bf157b3240a3a53d4c81"
 },
 "nbformat": 3,
 "nbformat_minor": 0,
 "worksheets": [
  {
   "cells": [
    {
     "cell_type": "code",
     "collapsed": false,
     "input": [
      "import matplotlib\n",
      "import numpy as np\n",
      "import matplotlib.pyplot as plt\n",
      "%matplotlib inline\n",
      "# coding=utf-8"
     ],
     "language": "python",
     "metadata": {},
     "outputs": [],
     "prompt_number": 1
    },
    {
     "cell_type": "heading",
     "level": 1,
     "metadata": {},
     "source": [
      "Risetime - Funciones an\u00e1lisis adquisici\u00f3n - descartan por ruido nivel base"
     ]
    },
    {
     "cell_type": "code",
     "collapsed": false,
     "input": [
      "def baseAcq(acqFile, prop=0.25):\n",
      "    '''\n",
      "    (array, float) -> array\n",
      "    \n",
      "    De la primer fracci\u00f3n prop de ambos canales de todas las adquisiciones en acqFile,\n",
      "    obtiene el promedio y dispersi\u00f3n que se asume como nivel de base\n",
      "    grProm[0]: promedio ch1, grProm[1]: promedio ch2,\n",
      "    grProm[2]: desviaci\u00f3n estandard ch1, grProm[3]: desviaci\u00f3n estandard ch2\n",
      "    '''\n",
      "    messungenZahl= acqFile.shape\n",
      "    erstePunkten= int(messungenZahl[1]* prop)\n",
      "    prom= np.zeros([int((messungenZahl[0]- 1)/ 2), 4])\n",
      "    for i in range(1, messungenZahl[0], 2):\n",
      "        ix= int((i-1)/2)\n",
      "        ch1Erste= acqFile[i][0:erstePunkten-1]\n",
      "        ch2Erste= acqFile[i+1][0:erstePunkten-1]\n",
      "        prom[ix,0]= ch1Erste.mean()\n",
      "        prom[ix,1]= ch2Erste.mean()\n",
      "        prom[ix,2]= ch1Erste.std()\n",
      "        prom[ix,3]= ch2Erste.std()\n",
      "    return prom\n",
      "\n",
      "\n",
      "def baseMeas2(Meas2, messungenZahl, prop=0.25):\n",
      "    '''\n",
      "    (array, array, float) -> array\n",
      "    \n",
      "    De la primer fracci\u00f3n prop de ambos canales en Meas2,\n",
      "    obtiene el promedio y dispersi\u00f3n que se asume como nivel de base\n",
      "    grProm[0]: promedio ch1, grProm[1]: promedio ch2,\n",
      "    grProm[2]: desviaci\u00f3n estandard ch1, grProm[3]: desviaci\u00f3n estandard ch2\n",
      "    '''\n",
      "    erstePunkten= int(messungenZahl[1]* prop)\n",
      "    ch1Erste= Meas2[0][0:erstePunkten-1]\n",
      "    ch2Erste= Meas2[1][0:erstePunkten-1]\n",
      "    return np.array([ch1Erste.mean(), ch2Erste.mean(), ch1Erste.std(), ch2Erste.std() ] )\n",
      "\n",
      "\n",
      "def desvioEstandardCuasiNoSesgado(datos):\n",
      "    '''\n",
      "    Estimador cuasi no sesgado de la desviaci\u00f3n estandar.\n",
      "    https://en.wikipedia.org/wiki/Unbiased_estimation_of_standard_deviation\n",
      "    '''\n",
      "    media= np.mean(datos)\n",
      "    suma=0\n",
      "    for i in datos:\n",
      "        aux= (datos[i]- media)\n",
      "        suma+= aux**2\n",
      "    desv= np.sqrt(suma/( np.size(datos)- 1.5) ) \n",
      "    return desv\n",
      "\n",
      "\n",
      "def errorEstandard(datos):\n",
      "    '''\n",
      "    Estimador de la desviaci\u00f3n estandar del promedio.\n",
      "    Usa la desviaci\u00f3n estandar de la poblaci\u00f3n y la divide por la ra\u00edz del n\u00famero de elementos en la poblaci\u00f3n.\n",
      "    https://en.wikipedia.org/wiki/Standard_error\n",
      "    '''\n",
      "    return desvioEstandardCuasiNoSesgado(datos)/ np.sqrt(np.size(datos))\n",
      "\n",
      "    \n",
      "def tauCeti3e(T, Meas2, messungenZahl, prop, rechazo=0.1):\n",
      "    '''\n",
      "    Calcula \u00edndices risetime como tiempo entre 10% y 90% de excursi\u00f3n entre nivel de base y m\u00e1ximo\n",
      "   \n",
      "    Meas2: array (2,:) con Meas2[0] canal 1, Meas2[0] canal 2, producto de np.vstack\n",
      "    baseMeas2: base(Meas2)\n",
      "    '''\n",
      "    bMeas2= baseMeas2(Meas2, messungenZahl, prop) # niveles base\n",
      "    \n",
      "    if ((bMeas2[3])>np.abs(bMeas2[1]* rechazo)):\n",
      "        return np.array([0, 0 ])\n",
      "    else:\n",
      "        maxIx= (Meas2[0].argmax(), Meas2[1].argmax() ) # \u00edndice m\u00e1ximo\n",
      "        # m\u00e1ximo promediado cercano\n",
      "        rangoCercano= 20 # tres lecturas a izq y derecha\n",
      "        maxCH1= (Meas2[0][maxIx[0]- rangoCercano: maxIx[0]+ rangoCercano]).mean()\n",
      "        maxCH2= (Meas2[1][maxIx[1]- rangoCercano: maxIx[1]+ rangoCercano]).mean()\n",
      "        # diferencia m\u00e1ximo- base\n",
      "        deltaV= np.array([maxCH1- bMeas2[0],maxCH2- bMeas2[1]]) # usa promediado cercano\n",
      "        # Diferencias de potencial para 10%, 90% de excursi\u00f3n\n",
      "        v10= bMeas2[0:2]+ 0.1* deltaV\n",
      "        v90= bMeas2[0:2]+ 0.9* deltaV\n",
      "        # \u00cdndices para primer potencial del pulso que exceda 10%, y \u00faltimo por debajo 90% \n",
      "        ixTau= np.array([maxIx[0], maxIx[1], maxIx[0], maxIx[1]])\n",
      "        while (Meas2[0,ixTau[0]]> v10[0]):\n",
      "            ixTau[0]-= 1\n",
      "        while (Meas2[1,ixTau[1]]> v10[1]):\n",
      "            ixTau[1]-= 1\n",
      "        while (Meas2[0,ixTau[2]]> v90[0]):\n",
      "            ixTau[2]-= 1\n",
      "        while (Meas2[1,ixTau[3]]> v90[1]):\n",
      "            ixTau[3]-= 1\n",
      "        return np.array([T[ixTau[2]]- T[ixTau[0]], T[ixTau[3]]- T[ixTau[1]] ])\n",
      "\n",
      "\n",
      "def tauAMCz3e(npzData, prop= 0.25):\n",
      "    '''\n",
      "    Vectores risetime canal AMC de archivo acq comprimido\n",
      "    \n",
      "    npzData= numpy.lib.npyio.NpzFile\n",
      "    prop= porcentaje inferior del canal a promediar para obtener nivel de base     \n",
      "    '''\n",
      "    FLUC= npzData['ch1']\n",
      "    AMC= npzData['ch2']\n",
      "\n",
      "    messungenZahl= AMC.shape\n",
      "\n",
      "    # tiempo\n",
      "    T= npzData['zeit']\n",
      "\n",
      "    tauAMC= np.empty([0, 1])\n",
      "    i=0\n",
      "    q=0\n",
      "    while (i<(messungenZahl[0]- q ) ):\n",
      "        Meas2= np.array([FLUC[i+q], AMC[i+q] ] )\n",
      "        tauAMCi= tauCeti3e(T, Meas2, messungenZahl, prop)[1]\n",
      "        if (tauAMCi!=0):\n",
      "            i+=1\n",
      "            tauAMC= np.append(tauAMC, tauAMCi)\n",
      "        else:\n",
      "            q+=1\n",
      "    return tauAMC\n",
      "\n",
      "\n",
      "def histo3e(fileName, binHist=8):\n",
      "    path= '/oldhome/vbettachini/documents/cnea/campbell/acquisition/data/'\n",
      "    acq= np.load(path+ fileName)\n",
      "    taus= tauAMCz3e(acq)\n",
      "    fig = plt.figure(figsize=(18,5))  # an empty figure with no axes\n",
      "    ax_lst= fig.add_subplot(1,2,2)\n",
      "    n, bins, patches= ax_lst.hist(taus, bins=120)\n",
      "    ax_lst.set_ylabel('Cuentas')\n",
      "    ax_lst.set_xlabel('Tau [ns]')\n",
      "    intermedio = np.ma.masked_greater(taus, bins[binHist] )\n",
      "    primerCampana= intermedio.compressed()\n",
      "    ax_lst2= fig.add_subplot(1,2,1)\n",
      "    ax_lst2.set_ylabel('Cuentas')\n",
      "    ax_lst2.set_xlabel('Tau [ns]')\n",
      "    n_i, bins_i, patches_i= ax_lst2.hist(primerCampana, bins=20)\n",
      "    print (primerCampana.size, primerCampana.mean(), errorEstandard(primerCampana) )"
     ],
     "language": "python",
     "metadata": {},
     "outputs": [],
     "prompt_number": 2
    },
    {
     "cell_type": "heading",
     "level": 1,
     "metadata": {},
     "source": [
      "Graficaci\u00f3n funciones"
     ]
    },
    {
     "cell_type": "code",
     "collapsed": false,
     "input": [
      "def darstellungNurZwei(T, Meas2, sav= None):\n",
      "    '''\n",
      "    T: times vector\n",
      "    Meas2: Both channels 2D array\n",
      "    sav: plot filename (eps)\n",
      "    '''\n",
      "        \n",
      "    fig, (ax0, ax1) = plt.subplots(nrows=2, sharex=True)\n",
      "    fig.set_size_inches(10,8)\n",
      "    fig.subplots_adjust(hspace=0.000)\n",
      "\n",
      "    ax0.plot(T, Meas2[0,:], 'y')\n",
      "    # Make the y-axis label and tick labels match the line color.\n",
      "    ax0.set_ylabel('ch 1 [V]', color='y')\n",
      "    ax0.grid(True)\n",
      "\n",
      "    ax1.plot(T, Meas2[1,:], 'c')\n",
      "    ax1.set_ylabel('ch 2 [V]', color='c')\n",
      "    ax1.set_xlabel('tiempo [s]')\n",
      "    ax1.grid(True)\n",
      "    \n",
      "    if (sav):\n",
      "        plt.savefig('./data/plots/'+ sav+ '.eps')\n",
      "    else:\n",
      "        plt.show()\n",
      "\n",
      "        \n",
      "def dertellungZ(npzFile, quelles=None):\n",
      "    '''\n",
      "    Grafica canal AMC y FLUC de archivo acq comprimido\n",
      "    \n",
      "    npzFile= numpy.lib.npyio.NpzFile\n",
      "    '''\n",
      "    path= '/oldhome/vbettachini/documents/cnea/campbell/acquisition/data/'\n",
      "    npzData= np.load(path+ npzFile)\n",
      "    FLUC= npzData['ch1']\n",
      "    AMC= npzData['ch2']\n",
      "\n",
      "    messungenZahl= AMC.shape\n",
      "\n",
      "    # tiempo\n",
      "    T= npzData['zeit']\n",
      "\n",
      "    tauAMC= np.empty([messungenZahl[0], 1])\n",
      "    if (quelles==None):\n",
      "        rangen= range( messungenZahl[0] )\n",
      "    else:\n",
      "        rangen= quelles\n",
      "    for i in rangen:\n",
      "        Meas2= np.array([FLUC[i], AMC[i] ] )\n",
      "        darstellungNurZwei(T, Meas2)"
     ],
     "language": "python",
     "metadata": {},
     "outputs": [],
     "prompt_number": 3
    },
    {
     "cell_type": "heading",
     "level": 1,
     "metadata": {},
     "source": [
      "Espectros - funciones"
     ]
    },
    {
     "cell_type": "code",
     "collapsed": false,
     "input": [
      "def leeOrtec(fileName):\n",
      "    '''\n",
      "    Entrada: archivo de texto generado por el GammaVision\n",
      "    Salida: array de enteros con n\u00famero de cuentas por canal\n",
      "    '''\n",
      "    # Lee archivo Ortec\n",
      "    path='/oldhome/vbettachini/documents/cnea/campbell/espectros/'\n",
      "    fl= open(path+fileName, 'r')\n",
      "    datos= fl.readlines()\n",
      "    fl.close()\n",
      "    datos= datos[26:] # descarta pre\u00e1mbulo\n",
      "    # transcribe cuentas a un array\n",
      "    cuentas= np.array([],dtype= np.dtype('int8'))\n",
      "    for linea in datos:\n",
      "        # print(linea)\n",
      "        intermedio= linea.split()\n",
      "        for i in intermedio[1:]:\n",
      "            cuentas= np.hstack(([cuentas, int(i) ] ) )\n",
      "    return cuentas\n",
      "\n",
      "\n",
      "def derstellungOrtec(filesList, leftI=0, rightI=150, norm=True):\n",
      "    fig = plt.figure(figsize=(10,5))  # an empty figure with no axes\n",
      "    ax_lst= fig.add_subplot(111)\n",
      "    ax_lst.grid()\n",
      "    ax_lst.set_xlim(leftI, rightI)\n",
      "    ax_lst.set_ylim(bottom=1E-3, top=2E-1)\n",
      "    ax_lst.set_xlabel('Canal')\n",
      "    if norm:\n",
      "        ax_lst.set_ylabel('Cuentas normalizadas')\n",
      "    else:\n",
      "        ax_lst.set_ylabel('Cuentas')\n",
      "    for fileName in filesList:\n",
      "        fileNameO= fileName+'.Txt'\n",
      "        erste= leeOrtec(fileNameO)\n",
      "        if norm:\n",
      "            ax_lst.semilogy(erste/erste.sum(), label= fileName)\n",
      "        else:\n",
      "            ax_lst.semilogy(erste, label= fileName)\n",
      "    ax_lst.legend()\n",
      "\n",
      "    \n",
      "def leeCanberreta(fileName):\n",
      "    '''\n",
      "    Este funciona\n",
      "    '''\n",
      "    import csv\n",
      "    extension= '.csv'\n",
      "    path='/oldhome/vbettachini/documents/cnea/campbell/espectros/canberreta/'\n",
      "    canal= np.array([], dtype='int8')\n",
      "    cuentas= np.array([], dtype='int8')\n",
      "    with open(path+ fileName+ extension) as csvfile:\n",
      "        lector = csv.reader(csvfile, delimiter='\\t')\n",
      "        for row in lector:\n",
      "            canal= np.append(canal, np.int(row[0]) )\n",
      "            cuentas= np.append(cuentas, np.int(row[1]) )\n",
      "        sale= np.vstack(([canal, cuentas ] ) )\n",
      "    return sale"
     ],
     "language": "python",
     "metadata": {},
     "outputs": [],
     "prompt_number": 4
    },
    {
     "cell_type": "heading",
     "level": 1,
     "metadata": {},
     "source": [
      "Espectros corriente CFP-35 - Con y sin fuente"
     ]
    },
    {
     "cell_type": "code",
     "collapsed": false,
     "input": [
      "canalMin= 30\n",
      "canalMax= 320\n",
      "cuentasMin=0.5E-0\n",
      "cuentasMax= 1E6\n",
      "\n",
      "fig = plt.figure(figsize=(17,8))  # an empty figure with no axes\n",
      "ax_lst= fig.add_subplot(111)\n",
      "ax_lst.grid()\n",
      "ax_lst.set_xlim(left=canalMin, right=canalMax)\n",
      "ax_lst.set_ylim(bottom= cuentasMin, top=cuentasMax)\n",
      "ax_lst.set_xlabel('Canal')\n",
      "ax_lst.set_ylabel('Cuentas normalizadas')\n",
      "\n",
      "ap= leeCanberreta('150716ec02_3')\n",
      "ax_lst.semilogy(ap[1], label= 'con fuente')\n",
      "ap= leeCanberreta('150717ec01')\n",
      "ax_lst.semilogy(ap[1], label= 'cerca')\n",
      "# ap= leeCanberreta('150720ec01')\n",
      "# ax_lst.semilogy(ap[1], label= 'lejos 0V')\n",
      "ap= leeCanberreta('150720ec02')\n",
      "ax_lst.semilogy(ap[1], label= 'silla')\n",
      "ap= leeCanberreta('150721ec01')\n",
      "ax_lst.semilogy(ap[1], label= 'pared')\n",
      "ap= leeCanberreta('150721ec02')\n",
      "ax_lst.semilogy(ap[1], label= 'oficina')\n",
      "ap= leeCanberreta('150721ec03')\n",
      "ax_lst.semilogy(ap[1], label= 'oficina2')\n",
      "ax_lst.legend()"
     ],
     "language": "python",
     "metadata": {},
     "outputs": [
      {
       "metadata": {},
       "output_type": "pyout",
       "prompt_number": 8,
       "text": [
        "<matplotlib.legend.Legend at 0x7fd07a8f0c50>"
       ]
      },
      {
       "metadata": {},
       "output_type": "display_data",
       "png": "[encoded data removed]",
       "text": [
        "<matplotlib.figure.Figure at 0x7fd07a8f0470>"
       ]
      }
     ],
     "prompt_number": 8
    },
    {
     "cell_type": "markdown",
     "metadata": {},
     "source": [
      "*Silvia* la extrapolaci\u00f3n al nivel de $0$ cuentas del espectro sin fuente ser\u00eda el canal que determinamos como umbral de discriminaci\u00f3n."
     ]
    },
    {
     "cell_type": "code",
     "collapsed": false,
     "input": [
      "np.sum(ap[1][70:])"
     ],
     "language": "python",
     "metadata": {},
     "outputs": [
      {
       "metadata": {},
       "output_type": "pyout",
       "prompt_number": 13,
       "text": [
        "29"
       ]
      }
     ],
     "prompt_number": 13
    },
    {
     "cell_type": "markdown",
     "metadata": {},
     "source": [
      "# POR AC\u00c1"
     ]
    },
    {
     "cell_type": "heading",
     "level": 3,
     "metadata": {},
     "source": [
      "Ajuste lineal a lo terrible\n"
     ]
    },
    {
     "cell_type": "code",
     "collapsed": false,
     "input": [
      "from numpy import matrix as mt\n",
      "from numpy import linalg as la\n",
      "\n",
      "def ajLin(ordenadas, errOrd, abscisas):\n",
      "    # y medidas como vector columna\n",
      "    y= mt.transpose(mt(ordenadas ) ) \n",
      "\n",
      "    # V matriz de covarianzas de mediciones (sigma^2 en diagonal)\n",
      "    N= ordenadas.size\n",
      "    sigmay= np.ones(N)* errOrd\n",
      "    V= np.asmatrix(np.diag(sigmay**2, 0))\n",
      "\n",
      "    # theta vector columna parametros (2 filas, para un ajuste lineal)\n",
      "\n",
      "    # f predictores\n",
      "    # f= A * theta\n",
      "\n",
      "    # A ( filas x_i 1 para lineal siendo theta [ [m], [b] ] )\n",
      "    A= np.ones(N)\n",
      "    A= np.vstack((A, abscisas) )\n",
      "    A= mt(A )\n",
      "    A= mt.transpose(A )\n",
      "\n",
      "    invV= la.inv(V)\n",
      "    trA= mt.transpose(A)\n",
      "    VEtheta= la.inv(trA* invV* A)\n",
      "    Etheta= VEtheta* trA* invV* y\n",
      "    pendiente= np.double(Etheta[1])\n",
      "    ordenadaAlOrigen= np.double(Etheta[0])\n",
      "    sigmaPendiente= np.sqrt(VEtheta[1,1])\n",
      "    sigmaOrdenadaAlOrigen= np.sqrt(VEtheta[0,0])\n",
      "\n",
      "    return pendiente, sigmaPendiente, ordenadaAlOrigen, sigmaOrdenadaAlOrigen"
     ],
     "language": "python",
     "metadata": {},
     "outputs": [],
     "prompt_number": 91
    },
    {
     "cell_type": "code",
     "collapsed": false,
     "input": [
      "# subset de datos\n",
      "ap= leeCanberreta('150720ec01')"
     ],
     "language": "python",
     "metadata": {},
     "outputs": [],
     "prompt_number": 92
    },
    {
     "cell_type": "code",
     "collapsed": false,
     "input": [
      "abscisas= ap[0][40:58]\n",
      "ordenadas= np.log(ap[1][40:58])\n",
      "errOrd= 1 # le pifia en una cuenta"
     ],
     "language": "python",
     "metadata": {},
     "outputs": [],
     "prompt_number": 93
    },
    {
     "cell_type": "code",
     "collapsed": false,
     "input": [
      "pendiente, sigmaPendiente, ordenadaAlOrigen, sigmaOrdenadaAlOrigen= ajLin(np.log(ordenadas), 1E-9, abscisas)"
     ],
     "language": "python",
     "metadata": {},
     "outputs": [],
     "prompt_number": 94
    },
    {
     "cell_type": "code",
     "collapsed": false,
     "input": [
      "# Funci\u00f3n lineal para ajuste\n",
      "def Lineal(x, m, b):\n",
      "    return m*x+ b\n",
      "\n",
      "plt.plot(abscisas, ordenadas, '.')\n",
      "plt.plot(abscisas, np.log(Lineal(abscisas, pendiente, ordenadaAlOrigen ) ), 'k-' )"
     ],
     "language": "python",
     "metadata": {},
     "outputs": [
      {
       "metadata": {},
       "output_type": "pyout",
       "prompt_number": 95,
       "text": [
        "[<matplotlib.lines.Line2D at 0x7f08d106ea20>]"
       ]
      },
      {
       "metadata": {},
       "output_type": "display_data",
       "png": "[encoded data removed]",
       "text": [
        "<matplotlib.figure.Figure at 0x7f08d0ff1048>"
       ]
      }
     ],
     "prompt_number": 95
    },
    {
     "cell_type": "code",
     "collapsed": false,
     "input": [
      "pendiente, sigmaPendiente, ordenadaAlOrigen, sigmaOrdenadaAlOrigen"
     ],
     "language": "python",
     "metadata": {},
     "outputs": [
      {
       "metadata": {},
       "output_type": "pyout",
       "prompt_number": 81,
       "text": [
        "(-inf, 0.038778336716474252, inf, 1.9325078178795163)"
       ]
      }
     ],
     "prompt_number": 81
    },
    {
     "cell_type": "heading",
     "level": 1,
     "metadata": {},
     "source": [
      "Re-an\u00e1lisis"
     ]
    },
    {
     "cell_type": "code",
     "collapsed": false,
     "input": [
      "np.log(ordenadas)\n"
     ],
     "language": "python",
     "metadata": {},
     "outputs": [
      {
       "metadata": {},
       "output_type": "pyout",
       "prompt_number": 82,
       "text": [
        "array([ 2.32167726,  2.29662644,  2.25159288,  2.20689924,  2.15511859,\n",
        "        2.10028363,  2.04347121,  1.97548   ,  1.90953231,  1.84859429,\n",
        "        1.75874287,  1.65462323,  1.56773856,  1.43261833,  1.31199423,\n",
        "        1.0799183 ,  0.87459138,  0.94193873,        -inf, -0.36651292])"
       ]
      }
     ],
     "prompt_number": 82
    },
    {
     "cell_type": "heading",
     "level": 2,
     "metadata": {},
     "source": [
      "CFP-35"
     ]
    },
    {
     "cell_type": "heading",
     "level": 3,
     "metadata": {},
     "source": [
      "Presi\u00f3n baja -  $\\mathrm{\\frac{P_{N_2}}{P_{abs}}}\\simeq 0.64\\%$"
     ]
    },
    {
     "cell_type": "heading",
     "level": 3,
     "metadata": {},
     "source": [
      "Presi\u00f3n baja - $\\mathrm{\\frac{P_{N_2}}{P_{abs}}}\\simeq 0\\%$"
     ]
    },
    {
     "cell_type": "markdown",
     "metadata": {},
     "source": [
      "Adquisiciones `acq150428n04` a  `acq150428n07` y  `acq150429n01` originalmente analizadas en `anl150708`.\n",
      "\n",
      "Usar\u00e9 tauCeti3 en vez de tauCeti2 en histoNe (en vez histo3 m\u00e1s moderno), pero con el mismo tauAMC2 que llame ahora tauCeti3e"
     ]
    },
    {
     "cell_type": "code",
     "collapsed": false,
     "input": [
      "def tauAMC2e(acqData, prop= 0.25):\n",
      "    '''\n",
      "    Genera vectores de promedio y dispersi\u00f3n del risetime de ambos canales a partir de archivo acq*\n",
      "    \n",
      "    archivo: acq* \n",
      "    prop= porcentaje inferior del canal a promediar para obtener nivel de base     \n",
      "    '''\n",
      "    # promedio de niveles de base\n",
      "    messungenZahl= acqData.shape\n",
      "\n",
      "    # tiempo\n",
      "    T= acqData[0]\n",
      "\n",
      "    tauAMC= np.empty([int((messungenZahl[0]- 1)/ 2), 1])\n",
      "    for i in range(1, messungenZahl[0], 2):\n",
      "        Meas2= np.array([acqData[i], acqData[i+1] ] )\n",
      "        ix= int((i-1)/2)\n",
      "        tauAMC[ix]= tauCeti3e(T, Meas2, messungenZahl, prop)[1]\n",
      "#         tauAMC[ix]= tauCeti2(T, Meas2, messungenZahl, prop)[1]\n",
      "    return tauAMC\n",
      "\n",
      "def histoNe(fileName, binHist=8):\n",
      "    path= '/oldhome/vbettachini/documents/cnea/campbell/acquisition/data/'\n",
      "    acq= np.load(path+ fileName)\n",
      "    taus= tauAMC2e(acq)\n",
      "    fig = plt.figure(figsize=(18,5))  # an empty figure with no axes\n",
      "    ax_lst= fig.add_subplot(1,2,2)\n",
      "    n, bins, patches= ax_lst.hist(taus, bins=120)\n",
      "    ax_lst.set_ylabel('Cuentas')\n",
      "    ax_lst.set_xlabel('Tau [ns]')\n",
      "    intermedio = np.ma.masked_greater(taus, bins[binHist] )\n",
      "    primerCampana= intermedio.compressed()\n",
      "    ax_lst2= fig.add_subplot(1,2,1)\n",
      "    ax_lst2.set_ylabel('Cuentas')\n",
      "    ax_lst2.set_xlabel('Tau [ns]')\n",
      "    n_i, bins_i, patches_i= ax_lst2.hist(primerCampana, bins=20)\n",
      "    print (primerCampana.size, primerCampana.mean(), errorEstandard(primerCampana) )"
     ],
     "language": "python",
     "metadata": {},
     "outputs": [],
     "prompt_number": 12
    },
    {
     "cell_type": "code",
     "collapsed": false,
     "input": [
      "histoNe('acq150428n04.npy', 80)"
     ],
     "language": "python",
     "metadata": {},
     "outputs": [
      {
       "output_type": "stream",
       "stream": "stdout",
       "text": [
        "128 0.0 0.0\n"
       ]
      },
      {
       "metadata": {},
       "output_type": "display_data",
       "png": "[encoded data removed]",
       "text": [
        "<matplotlib.figure.Figure at 0x7f29adb956a0>"
       ]
      }
     ],
     "prompt_number": 14
    },
    {
     "cell_type": "code",
     "collapsed": false,
     "input": [
      "# Agregador\n",
      "path= './data/'\n",
      "fNS= 'acq150428n'\n",
      "fNE= '.npy'\n",
      "i=1\n",
      "fl= path+ fNS+ '0%d'%i+ fNE\n",
      "acq= np.load(fl)\n",
      "taus= tauAMCz3e(acq)"
     ],
     "language": "python",
     "metadata": {},
     "outputs": [
      {
       "ename": "ValueError",
       "evalue": "field named ch1 not found",
       "output_type": "pyerr",
       "traceback": [
        "\u001b[0;31m---------------------------------------------------------------------------\u001b[0m\n\u001b[0;31mValueError\u001b[0m                                Traceback (most recent call last)",
        "\u001b[0;32m<ipython-input-6-51c822a0b503>\u001b[0m in \u001b[0;36m<module>\u001b[0;34m()\u001b[0m\n\u001b[1;32m      6\u001b[0m \u001b[0mfl\u001b[0m\u001b[0;34m=\u001b[0m \u001b[0mpath\u001b[0m\u001b[0;34m+\u001b[0m \u001b[0mfNS\u001b[0m\u001b[0;34m+\u001b[0m \u001b[0;34m'0%d'\u001b[0m\u001b[0;34m%\u001b[0m\u001b[0mi\u001b[0m\u001b[0;34m+\u001b[0m \u001b[0mfNE\u001b[0m\u001b[0;34m\u001b[0m\u001b[0m\n\u001b[1;32m      7\u001b[0m \u001b[0macq\u001b[0m\u001b[0;34m=\u001b[0m \u001b[0mnp\u001b[0m\u001b[0;34m.\u001b[0m\u001b[0mload\u001b[0m\u001b[0;34m(\u001b[0m\u001b[0mfl\u001b[0m\u001b[0;34m)\u001b[0m\u001b[0;34m\u001b[0m\u001b[0m\n\u001b[0;32m----> 8\u001b[0;31m \u001b[0mtaus\u001b[0m\u001b[0;34m=\u001b[0m \u001b[0mtauAMCz3e\u001b[0m\u001b[0;34m(\u001b[0m\u001b[0macq\u001b[0m\u001b[0;34m)\u001b[0m\u001b[0;34m\u001b[0m\u001b[0m\n\u001b[0m",
        "\u001b[0;32m<ipython-input-3-6b5aed7df2bd>\u001b[0m in \u001b[0;36mtauAMCz3e\u001b[0;34m(npzData, prop)\u001b[0m\n\u001b[1;32m    102\u001b[0m     \u001b[0mprop\u001b[0m\u001b[0;34m=\u001b[0m \u001b[0mporcentaje\u001b[0m \u001b[0minferior\u001b[0m \u001b[0;32mdel\u001b[0m \u001b[0mcanal\u001b[0m \u001b[0ma\u001b[0m \u001b[0mpromediar\u001b[0m \u001b[0mpara\u001b[0m \u001b[0mobtener\u001b[0m \u001b[0mnivel\u001b[0m \u001b[0mde\u001b[0m \u001b[0mbase\u001b[0m\u001b[0;34m\u001b[0m\u001b[0m\n\u001b[1;32m    103\u001b[0m     '''\n\u001b[0;32m--> 104\u001b[0;31m     \u001b[0mFLUC\u001b[0m\u001b[0;34m=\u001b[0m \u001b[0mnpzData\u001b[0m\u001b[0;34m[\u001b[0m\u001b[0;34m'ch1'\u001b[0m\u001b[0;34m]\u001b[0m\u001b[0;34m\u001b[0m\u001b[0m\n\u001b[0m\u001b[1;32m    105\u001b[0m     \u001b[0mAMC\u001b[0m\u001b[0;34m=\u001b[0m \u001b[0mnpzData\u001b[0m\u001b[0;34m[\u001b[0m\u001b[0;34m'ch2'\u001b[0m\u001b[0;34m]\u001b[0m\u001b[0;34m\u001b[0m\u001b[0m\n\u001b[1;32m    106\u001b[0m \u001b[0;34m\u001b[0m\u001b[0m\n",
        "\u001b[0;31mValueError\u001b[0m: field named ch1 not found"
       ]
      }
     ],
     "prompt_number": 6
    },
    {
     "cell_type": "code",
     "collapsed": false,
     "input": [
      "# Agregador\n",
      "path= './data/'\n",
      "fNS= 'acq150428n'\n",
      "fNE= '.npy'\n",
      "i=1\n",
      "fl= path+ fNS+ '0%d'%i+ fNE\n",
      "acq= np.load(fl)\n",
      "taus= tauAMCz3e(acq)\n",
      "for i in range(3,7):\n",
      "    fl= path+ fNS+ '0%d'%i+fNE\n",
      "    acq= np.load(fl)\n",
      "    taus= np.append(taus, tauAMCz3e(acq))\n",
      "binHist= 22\n",
      "fig = plt.figure(figsize=(18,5))  # an empty figure with no axes\n",
      "ax_lst= fig.add_subplot(1,2,2)\n",
      "n, bins, patches= ax_lst.hist(taus, bins=120)\n",
      "ax_lst.set_ylabel('Cuentas')\n",
      "ax_lst.set_xlabel('Tau [ns]')\n",
      "intermedio = np.ma.masked_greater(taus, bins[binHist])\n",
      "primerCampana= intermedio.compressed()\n",
      "ax_lst2= fig.add_subplot(1,2,1)\n",
      "ax_lst2.set_ylabel('Cuentas')\n",
      "ax_lst2.set_xlabel('Tau [ns]')\n",
      "n_i, bins_i, patches_i= ax_lst2.hist(primerCampana, bins=20)\n",
      "print (primerCampana.size, primerCampana.mean(), errorEstandard(primerCampana) )"
     ],
     "language": "python",
     "metadata": {},
     "outputs": []
    }
   ],
   "metadata": {}
  }
 ]
}