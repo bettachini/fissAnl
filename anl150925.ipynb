{
 "cells": [
  {
   "cell_type": "code",
   "execution_count": 2,
   "metadata": {
    "collapsed": false
   },
   "outputs": [],
   "source": [
    "import matplotlib\n",
    "import numpy as np\n",
    "import matplotlib.pyplot as plt\n",
    "%matplotlib inline\n",
    "# coding=utf-8"
   ]
  },
  {
   "cell_type": "markdown",
   "metadata": {},
   "source": [
    "# Análisis áreas - Intento desde limpio"
   ]
  },
  {
   "cell_type": "markdown",
   "metadata": {},
   "source": [
    "## Funciones área"
   ]
  },
  {
   "cell_type": "code",
   "execution_count": 3,
   "metadata": {
    "collapsed": false
   },
   "outputs": [],
   "source": [
    "def tauAreaMax(iAMC, prop= 0.25, rechazo= 0.05):\n",
    "    '''\n",
    "    (array, array) -> array\n",
    "    T: vector tiempos\n",
    "    Meas2: array (2,:) con Meas2[0] canal 1, Meas2[0] canal 2, producto de np.vstack\n",
    "\n",
    "    Retorna:\n",
    "    índice vector tiempo subida entre 10% y 90% canal 2 (ch2: AMC)\n",
    "    Área total: por sobre nivel de base entre 10% a izquierda y derecha (ch2: AMC)\n",
    "    Área subida: por sobre nivel de base entre 10% a izquierda y máximo (ch2: AMC)\n",
    "    Máximo (ch2: AMC)\n",
    "    '''\n",
    "    maxIx= iAMC.argmax() # índice máximo\n",
    "    # máximo promediado cercano\n",
    "    rangoCercano= 20 # tres lecturas a izq y derecha\n",
    "    iAMCMax= (iAMC[maxIx- rangoCercano: maxIx+ rangoCercano]).mean()   \n",
    "\n",
    "    erstePunkten= int(iAMC.size* prop)\n",
    "    ch2Erste= iAMC[0:erstePunkten-1]\n",
    "    iAMCProm= ch2Erste.mean()\n",
    "    \n",
    "    if (ch2Erste.std() > (np.abs((iAMCMax- iAMCProm )* rechazo))): # desvio standard AMC> (máximo- nivel base) * rechazo\n",
    "        return np.zeros(4) # cuidar que tenga igual dimensión que salida\n",
    "    else:\n",
    "        # diferencia máximo- base\n",
    "        difMaxMin= iAMCMax- iAMCProm # usa promediado cercano\n",
    "        # Diferencias de potencial para 10%, 90% de excursión\n",
    "        v10= iAMCProm+ 0.1* difMaxMin\n",
    "        v90= iAMCProm+ 0.9* difMaxMin\n",
    "        # Índices para primer potencial del pulso que exceda 10%, y último por debajo 90% \n",
    "        ixTauiAMC= np.array([maxIx, maxIx])\n",
    "        while (iAMC[ixTauiAMC[0]]> v10):\n",
    "            ixTauiAMC[0]-= 1\n",
    "        while (iAMC[ixTauiAMC[1]]> v90):\n",
    "            ixTauiAMC[1]-= 1\n",
    "        iAMCTau= ixTauiAMC[1]- ixTauiAMC[0] # el vector \n",
    "        # Area\n",
    "        ixAMC10ProzentRicht= maxIx # empiezo por máximo\n",
    "        while (iAMC[ixAMC10ProzentRicht]> v10):\n",
    "            ixAMC10ProzentRicht+= 1\n",
    "        # ixTau[1], maxIx[1], ixAMC10ProzentRicht\n",
    "        # hay que sumar diferencia AMC con este nivel desde el índice 10% izquierda hasta derecha\n",
    "        iAMCAreaSubida= (iAMC[ixTauiAMC[0]: maxIx] - iAMCProm).sum()\n",
    "        iAMCAreaTotal= iAMCAreaSubida+ (iAMC[maxIx+ 1: ixAMC10ProzentRicht] - iAMCProm).sum()\n",
    "        return np.array([iAMCTau, iAMCMax, iAMCAreaSubida, iAMCAreaTotal])"
   ]
  },
  {
   "cell_type": "code",
   "execution_count": 4,
   "metadata": {
    "collapsed": false
   },
   "outputs": [],
   "source": [
    "def conversionV(npzData):\n",
    "    \"\"\" acq -> np.array: [ceroAMCPto, pasoVerticalAMCVoltPto, ceroFLUCPto, pasoVerticalFLUCVoltPto]\n",
    "\n",
    "    Da factores de conservión para de Meas2 con niveles en enteros obtener niveles en potencial eléctrico.\n",
    "    e.g. potencialAMC= (Meas2[1,:]- ceroAMCPto)* pasoVerticalAMCVoltPto\n",
    "    \n",
    "    >>> conversionV(acq)\n",
    "    'olleh'\n",
    "    \"\"\"\n",
    "    # Constructivo del Tek 2002B\n",
    "    divVert= 8 # numero de divisiones verticales\n",
    "    divHoriz= 10\n",
    "    ptosVert= 2**8 # 8 bits definición vertical\n",
    "    ptosHoriz= 2500\n",
    "    # npZData.items() # lista los elementos en el archivo de aquisición en memoria\n",
    "    settingsList= npzData['settings'].tolist()\n",
    "    \n",
    "    # Vertical (potencial)\n",
    "    escalaFLUCVoltsDiv= settingsList['SCALE1'] # [V/div]\n",
    "    pasoVerticalFLUCVoltPto= escalaFLUCVoltsDiv* divVert/ ptosVert # [V/div]\n",
    "    escalaAMCVoltsDiv= settingsList['SCALE2'] # [V/div]\n",
    "    pasoVerticalAMCVoltPto= escalaAMCVoltsDiv* divVert/ ptosVert # [V/div]\n",
    "    ceroFLUCDiv= settingsList['POSITION1'] # [div]\n",
    "    ceroFLUCPto= ceroFLUCDiv* divVert/ ptosVert # [ptos]\n",
    "    ceroAMCDiv= settingsList['POSITION2'] # [div]\n",
    "    ceroAMCPto= ceroAMCDiv* ptosVert/ divVert # [ptos]\n",
    "    \n",
    "    return ceroAMCPto, pasoVerticalAMCVoltPto, ceroFLUCPto, pasoVerticalFLUCVoltPto"
   ]
  },
  {
   "cell_type": "code",
   "execution_count": 5,
   "metadata": {
    "collapsed": false
   },
   "outputs": [],
   "source": [
    "def agrupadorTauMaxAreas(npzData, prop=0.25):\n",
    "    '''\n",
    "    (npzData) -> (array)\n",
    "    recorre todas las adquisiciones en npzData\n",
    "    \n",
    "    entrega array con filas [tauAMCi, tauFLUCi, areaTotalAMCi, areaSubidaAMCi, maxAMCi]\n",
    "    '''\n",
    "    T= npzData['zeit']\n",
    "    AMC= npzData['ch2']\n",
    "    messungenZahl= AMC.shape\n",
    "    numAdq= messungenZahl[0] # numero de adquisiciones en npzData\n",
    "    finales= np.empty([numAdq,4])\n",
    "    validas=0\n",
    "    \n",
    "    # conversión\n",
    "    pasoT= T[1]-T[0]\n",
    "    ceroAMCPto, pasoVerticalAMCVoltPto, ceroFLUCPto, pasoVerticalFLUCVoltPto= conversionV(npzData)\n",
    "    \n",
    "    for adqActual in range(numAdq):\n",
    "        iAMC= AMC[adqActual]\n",
    "        # print(adqActual)\n",
    "        # parciales=  tauAreaMax(iAMC)\n",
    "        # parciales[0]*= pasoT\n",
    "        try: # IndexError: index out of bounds\n",
    "            parciales=  tauAreaMax(iAMC)# np.array([ixTauiAMC, iAMCMax, iAMCAreaSubida, iAMCAreaTotal]) [cuentas]\n",
    "            parciales[0]*= pasoT # ixTauiAMC [s]\n",
    "            parciales[1]= (parciales[1]- ceroAMCPto)* pasoVerticalAMCVoltPto # iAMCMax [V]\n",
    "            parciales[2]= (parciales[2]- messungenZahl[1]* ceroAMCPto)* pasoT # iAMCAreaSubida [Vs] <anl150907>\n",
    "            parciales[3]= (parciales[3]- messungenZahl[1]* ceroAMCPto)* pasoT # iAMCAreaTotal [Vs] <anl150907>\n",
    "        except IndexError:\n",
    "            parciales= np.zeros(4)\n",
    "        # print(parciales[0], parciales)\n",
    "        if (parciales[0]>0):\n",
    "            # print(validas, parciales[0], parciales[3])\n",
    "            finales[validas]= parciales\n",
    "            validas+=1\n",
    "    finales= finales[0:-(numAdq-validas)]\n",
    "    return finales"
   ]
  },
  {
   "cell_type": "code",
   "execution_count": 6,
   "metadata": {
    "collapsed": false
   },
   "outputs": [],
   "source": [
    "def desvioEstandardCuasiNoSesgado(datos):\n",
    "    '''\n",
    "    Estimador cuasi no sesgado de la desviación estandar.\n",
    "    https://en.wikipedia.org/wiki/Unbiased_estimation_of_standard_deviation\n",
    "    '''\n",
    "    media= np.mean(datos)\n",
    "    suma=0\n",
    "    for i in datos:\n",
    "        aux= (datos[i]- media)\n",
    "        suma+= aux**2\n",
    "    desv= np.sqrt(suma/( np.size(datos)- 1.5) ) \n",
    "    return desv\n",
    "\n",
    "\n",
    "def errorEstandard(datos):\n",
    "    '''\n",
    "    Estimador de la desviación estandar del promedio.\n",
    "    Usa la desviación estandar de la población y la divide por la raíz del número de elementos en la población.\n",
    "    https://en.wikipedia.org/wiki/Standard_error\n",
    "    '''\n",
    "    return desvioEstandardCuasiNoSesgado(datos)/ np.sqrt(np.size(datos))"
   ]
  },
  {
   "cell_type": "code",
   "execution_count": 7,
   "metadata": {
    "collapsed": false
   },
   "outputs": [],
   "source": [
    "def neufBin(entrada, corte, unidad='Unidad [u.a.]'):\n",
    "    bins= 120\n",
    "    binHist=corte*bins\n",
    "    fig = plt.figure(figsize=(18,5))  # an empty figure with no axes\n",
    "    ax_lst= fig.add_subplot(1,2,2)\n",
    "    n, bins, patches= ax_lst.hist(entrada, bins)\n",
    "    ax_lst.set_ylabel('Cuentas')\n",
    "    ax_lst.set_xlabel(unidad)\n",
    "    intermedio = np.ma.masked_greater(entrada, bins[binHist])\n",
    "    primerCampana= intermedio.compressed()\n",
    "    ax_lst2= fig.add_subplot(1,2,1)\n",
    "    ax_lst2.set_ylabel('Cuentas')\n",
    "    ax_lst2.set_xlabel(unidad)\n",
    "    n_i, bins_i, patches_i= ax_lst2.hist(primerCampana, bins=20)\n",
    "    return (primerCampana.size, primerCampana.mean(), errorEstandard(primerCampana) )"
   ]
  },
  {
   "cell_type": "code",
   "execution_count": 8,
   "metadata": {
    "collapsed": false
   },
   "outputs": [],
   "source": [
    "def dataPathFile(mes, dia, acq):\n",
    "    path= './data/'\n",
    "    fNS= 'acq15'+ '{:02n}'.format(mes)+ '{:02n}'.format(dia)+ 'z'\n",
    "    fNE= '.npy.npz'\n",
    "    return path+ fNS+ '{:02n}'.format(acq)+fNE"
   ]
  },
  {
   "cell_type": "markdown",
   "metadata": {},
   "source": [
    "# Gráficas para informe"
   ]
  },
  {
   "cell_type": "code",
   "execution_count": 9,
   "metadata": {
    "collapsed": false
   },
   "outputs": [],
   "source": [
    "import matplotlib.ticker as tkr"
   ]
  },
  {
   "cell_type": "markdown",
   "metadata": {},
   "source": [
    "## Mezcla óptima "
   ]
  },
  {
   "cell_type": "code",
   "execution_count": 10,
   "metadata": {
    "collapsed": false
   },
   "outputs": [],
   "source": [
    "# 150617z06\n",
    "mes= 6\n",
    "dia= 15\n",
    "acqN= 2\n",
    "npzData= np.load(dataPathFile(mes, dia, acqN))"
   ]
  },
  {
   "cell_type": "code",
   "execution_count": 11,
   "metadata": {
    "collapsed": false
   },
   "outputs": [],
   "source": [
    "finales= agrupadorTauMaxAreas(npzData)"
   ]
  },
  {
   "cell_type": "code",
   "execution_count": 12,
   "metadata": {
    "collapsed": false
   },
   "outputs": [
    {
     "data": {
      "text/plain": [
       "(2087, 1.2306181121227537e-07, 3.2981629041069271e-10)"
      ]
     },
     "execution_count": 12,
     "metadata": {},
     "output_type": "execute_result"
    },
    {
     "data": {
      "image/png": "[encoded data removed]",
      "text/plain": [
       "<matplotlib.figure.Figure at 0x7f9d9d3d5b00>"
      ]
     },
     "metadata": {},
     "output_type": "display_data"
    }
   ],
   "source": [
    "# tiempos de subida (risetime AMC)\n",
    "taus= finales[:,0] # [s]\n",
    "neufBin(taus, 0.15, 'T [s]')"
   ]
  },
  {
   "cell_type": "code",
   "execution_count": 39,
   "metadata": {
    "collapsed": false
   },
   "outputs": [
    {
     "data": {
      "image/png": "[encoded data removed]",
      "text/plain": [
       "<matplotlib.figure.Figure at 0x7f9d9ab2ada0>"
      ]
     },
     "metadata": {},
     "output_type": "display_data"
    }
   ],
   "source": [
    "entrada= taus\n",
    "corte= 0.15\n",
    "unidad= '$\\\\tau$ [s]'\n",
    "ancho= 16/2.54 # [in]\n",
    "\n",
    "bins= 120\n",
    "binHist=corte*bins\n",
    "fig = plt.figure(figsize=(ancho,2*ancho*(5/18)))  # an empty figure with no axes\n",
    "ax_lst= fig.add_subplot(1,1,1)\n",
    "n, bins, patches= ax_lst.hist(entrada, bins)\n",
    "ax_lst.set_ylabel('Cuentas')\n",
    "ax_lst.set_xlabel(unidad,fontsize=15)\n",
    "\n",
    "def func(x, pos):  # formatter function takes tick label and tick position\n",
    "   s = '{:.1e}'.format(x)\n",
    "   return s\n",
    "x_format = tkr.FuncFormatter(func)  # make formatter\n",
    "ax_lst.xaxis.set_major_formatter(x_format)  # set formatter to needed axis\n",
    "\n",
    "intermedio = np.ma.masked_greater(entrada, bins[binHist])\n",
    "primerCampana= intermedio.compressed()\n",
    "ax_lst2= fig.add_subplot(2,2,2)\n",
    "ax_lst2.set_ylabel('Cuentas')\n",
    "ax_lst2.set_xlabel(unidad,fontsize=15)\n",
    "ax_lst2.set_xlim(left=0.7E-7, right= 1.8E-7)\n",
    "ax_lst2.set_ylim(top=460)\n",
    "ax_lst2.xaxis.set_major_formatter(x_format)  # set formatter to needed axis\n",
    "plt.locator_params(axis = 'x', nbins = 5)\n",
    "plt.locator_params(axis = 'y', nbins = 3)\n",
    "n_i, bins_i, patches_i= ax_lst2.hist(primerCampana, bins=20)\n",
    "plt.savefig('../presentacion/graphs/taus150615z02.pgf')\n",
    "plt.show()"
   ]
  },
  {
   "cell_type": "code",
   "execution_count": 29,
   "metadata": {
    "collapsed": false
   },
   "outputs": [
    {
     "data": {
      "text/plain": [
       "(1528, 1.2189317633344248, 0.0015550304110479285)"
      ]
     },
     "execution_count": 29,
     "metadata": {},
     "output_type": "execute_result"
    },
    {
     "data": {
      "image/png": "[encoded data removed]",
      "text/plain": [
       "<matplotlib.figure.Figure at 0x7f9dc7318550>"
      ]
     },
     "metadata": {},
     "output_type": "display_data"
    }
   ],
   "source": [
    "# máximo del pico AMC\n",
    "maxs= finales[:,1] # [V]\n",
    "neufBin(maxs, 0.2, '$\\Delta V$ [V]')"
   ]
  },
  {
   "cell_type": "code",
   "execution_count": 30,
   "metadata": {
    "collapsed": false
   },
   "outputs": [
    {
     "data": {
      "text/plain": [
       "(2135, 0.00024719118962350978, 6.3631287259313397e-08)"
      ]
     },
     "execution_count": 30,
     "metadata": {},
     "output_type": "execute_result"
    },
    {
     "data": {
      "image/png": "[encoded data removed]",
      "text/plain": [
       "<matplotlib.figure.Figure at 0x7f9d9ab19518>"
      ]
     },
     "metadata": {},
     "output_type": "display_data"
    }
   ],
   "source": [
    "# Área de subida (hasta el pico AMC)\n",
    "areaSubida= finales[:,2] # [Vs]\n",
    "neufBin(areaSubida, 0.6, '$\\Delta V t$ [$V\\cdot s$]')"
   ]
  },
  {
   "cell_type": "markdown",
   "metadata": {},
   "source": [
    "## Ar puro"
   ]
  },
  {
   "cell_type": "code",
   "execution_count": 31,
   "metadata": {
    "collapsed": false
   },
   "outputs": [],
   "source": [
    "# 150617z06\n",
    "mes= 6\n",
    "dia= 17\n",
    "acqN= 6\n",
    "npzData150617z06= np.load(dataPathFile(mes, dia, acqN))\n",
    "\n",
    "finales150617z06= agrupadorTauMaxAreas(npzData150617z06)\n",
    "\n",
    "# tiempos de subida (risetime AMC)\n",
    "taus150617z06= finales150617z06[:,0] # [s]"
   ]
  },
  {
   "cell_type": "code",
   "execution_count": 32,
   "metadata": {
    "collapsed": false
   },
   "outputs": [
    {
     "data": {
      "text/plain": [
       "(4023, 1.7276336067612497e-07, 2.8011160211264686e-10)"
      ]
     },
     "execution_count": 32,
     "metadata": {},
     "output_type": "execute_result"
    },
    {
     "data": {
      "image/png": "[encoded data removed]",
      "text/plain": [
       "<matplotlib.figure.Figure at 0x7f9d9b2a2208>"
      ]
     },
     "metadata": {},
     "output_type": "display_data"
    }
   ],
   "source": [
    "neufBin(taus150617z06, 0.28, 'T [s]')"
   ]
  },
  {
   "cell_type": "code",
   "execution_count": 38,
   "metadata": {
    "collapsed": false
   },
   "outputs": [
    {
     "data": {
      "image/png": "[encoded data removed]",
      "text/plain": [
       "<matplotlib.figure.Figure at 0x7f9d9aabf9b0>"
      ]
     },
     "metadata": {},
     "output_type": "display_data"
    }
   ],
   "source": [
    "entrada= taus150617z06\n",
    "corte= 0.28\n",
    "unidad= '$\\\\tau$ [s]'\n",
    "ancho= 16/2.54 # [in]\n",
    "\n",
    "bins= 120\n",
    "binHist=corte*bins\n",
    "fig = plt.figure(figsize=(ancho,2*ancho*(5/18)))  # an empty figure with no axes\n",
    "ax_lst= fig.add_subplot(1,1,1)\n",
    "n, bins, patches= ax_lst.hist(entrada, bins)\n",
    "ax_lst.set_ylabel('Cuentas')\n",
    "ax_lst.set_xlabel(unidad,fontsize=15)\n",
    "ax_lst.set_xlim(left=0, right= 6.0E-7)\n",
    "\n",
    "\n",
    "def func(x, pos):  # formatter function takes tick label and tick position\n",
    "   s = '{:.1e}'.format(x)\n",
    "   return s\n",
    "x_format = tkr.FuncFormatter(func)  # make formatter\n",
    "ax_lst.xaxis.set_major_formatter(x_format)  # set formatter to needed axis\n",
    "\n",
    "intermedio = np.ma.masked_greater(entrada, bins[binHist])\n",
    "primerCampana= intermedio.compressed()\n",
    "ax_lst2= fig.add_subplot(2,2,2)\n",
    "ax_lst2.set_ylabel('Cuentas')\n",
    "ax_lst2.set_xlabel(unidad,fontsize=15)\n",
    "\n",
    "ax_lst2.set_xlim(left=1.2E-7, right= 2.2E-7)\n",
    "ax_lst2.set_ylim(top=600)\n",
    "ax_lst2.xaxis.set_major_formatter(x_format)  # set formatter to needed axis\n",
    "plt.locator_params(axis = 'x', nbins = 4)\n",
    "plt.locator_params(axis = 'y', nbins = 2)\n",
    "n_i, bins_i, patches_i= ax_lst2.hist(primerCampana, bins=20)\n",
    "plt.savefig('../presentacion/graphs/taus150617z06.pgf')"
   ]
  },
  {
   "cell_type": "code",
   "execution_count": null,
   "metadata": {
    "collapsed": false
   },
   "outputs": [],
   "source": []
  }
 ],
 "metadata": {
  "kernelspec": {
   "display_name": "Python 3",
   "language": "python",
   "name": "python3"
  },
  "language_info": {
   "codemirror_mode": {
    "name": "ipython",
    "version": 3
   },
   "file_extension": ".py",
   "mimetype": "text/x-python",
   "name": "python",
   "nbconvert_exporter": "python",
   "pygments_lexer": "ipython3",
   "version": "3.4.2"
  }
 },
 "nbformat": 4,
 "nbformat_minor": 0
}
