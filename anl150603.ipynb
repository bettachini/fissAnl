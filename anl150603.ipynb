{
 "metadata": {
  "name": "",
  "signature": "sha256:04adecec7a5f4fee257ad781e1ac46498f0b10ef4c55f8696d26af5ac63e6d05"
 },
 "nbformat": 3,
 "nbformat_minor": 0,
 "worksheets": [
  {
   "cells": [
    {
     "cell_type": "code",
     "collapsed": false,
     "input": [
      "import matplotlib\n",
      "import numpy as np\n",
      "import matplotlib.pyplot as plt\n",
      "%matplotlib inline\n",
      "# coding=utf-8\n",
      "\n",
      "import time\n",
      "\n",
      "# refresca de lo importado cada vez que se hace ejecuci\u00f3n\n",
      "# %load_ext autoreload\n",
      "# %autoreload 2\n",
      "\n",
      "path= './data/'"
     ],
     "language": "python",
     "metadata": {},
     "outputs": [],
     "prompt_number": 3
    },
    {
     "cell_type": "heading",
     "level": 1,
     "metadata": {},
     "source": [
      "Graficaci\u00f3n, funciones"
     ]
    },
    {
     "cell_type": "code",
     "collapsed": false,
     "input": [
      "def darstellungNurZwei(T, Meas2, sav= None):\n",
      "    '''\n",
      "    T: times vector\n",
      "    Meas2: Both channels 2D array\n",
      "    sav: plot filename (eps)\n",
      "    '''\n",
      "        \n",
      "    fig, (ax0, ax1) = plt.subplots(nrows=2, sharex=True)\n",
      "    fig.set_size_inches(10,8)\n",
      "    fig.subplots_adjust(hspace=0.000)\n",
      "\n",
      "    ax0.plot(T, Meas2[0,:], 'y')\n",
      "    # Make the y-axis label and tick labels match the line color.\n",
      "    ax0.set_ylabel('ch 1 [V]', color='y')\n",
      "    ax0.grid(True)\n",
      "\n",
      "    ax1.plot(T, Meas2[1,:], 'c')\n",
      "    ax1.set_ylabel('ch 2 [V]', color='c')\n",
      "    ax1.set_xlabel('tiempo [s]')\n",
      "    ax1.grid(True)\n",
      "    \n",
      "    if (sav):\n",
      "        plt.savefig('./data/plots/'+ sav+ '.eps')\n",
      "    else:\n",
      "        plt.show()"
     ],
     "language": "python",
     "metadata": {},
     "outputs": [],
     "prompt_number": 4
    },
    {
     "cell_type": "code",
     "collapsed": false,
     "input": [
      "# lee archivo npy en la ruta datei y grafica cada medici\u00f3n\n",
      "def dateiDarstellung(datei, sav= None):\n",
      "    '''\n",
      "    str -> ()\n",
      "    \n",
      "    De un archivo npy grafica cada medici\u00f3n (\u00edndice), ambos canales.\n",
      "    '''\n",
      "    lu= np.load(datei)\n",
      "    zeit= lu[0]\n",
      "    messungenZahl= lu.shape[0]\n",
      "    for i in range(1, messungenZahl, 2):\n",
      "        ix= int((i-1)/2)\n",
      "        print('medici\u00f3n = '+ str(ix), ', \u00edndiceCH1= '+ str(i))\n",
      "        Meas2= np.vstack([lu[i], lu[i+1]])\n",
      "        if (sav):\n",
      "            savi= sav+ str(i)\n",
      "            darstellungNurZwei(zeit, Meas2, savi)\n",
      "        else:\n",
      "            darstellungNurZwei(zeit, Meas2)"
     ],
     "language": "python",
     "metadata": {},
     "outputs": [],
     "prompt_number": 5
    },
    {
     "cell_type": "heading",
     "level": 1,
     "metadata": {},
     "source": [
      "Risetime, funciones"
     ]
    },
    {
     "cell_type": "code",
     "collapsed": false,
     "input": [
      "def baseAcq(acqFile, prop=0.25):\n",
      "    '''\n",
      "    (array, float) -> array\n",
      "    \n",
      "    De la primer fracci\u00f3n prop de ambos canales de todas las adquisiciones en acqFile,\n",
      "    obtiene el promedio y dispersi\u00f3n que se asume como nivel de base\n",
      "    grProm[0]: promedio ch1, grProm[1]: promedio ch2,\n",
      "    grProm[2]: desviaci\u00f3n estandard ch1, grProm[3]: desviaci\u00f3n estandard ch2\n",
      "    '''\n",
      "    messungenZahl= acqFile.shape\n",
      "    erstePunkten= int(messungenZahl[1]* prop)\n",
      "    prom= np.zeros([int((messungenZahl[0]- 1)/ 2), 4])\n",
      "    for i in range(1, messungenZahl[0], 2):\n",
      "        ix= int((i-1)/2)\n",
      "        ch1Erste= acqFile[i][0:erstePunkten-1]\n",
      "        ch2Erste= acqFile[i+1][0:erstePunkten-1]\n",
      "        prom[ix,0]= ch1Erste.mean()\n",
      "        prom[ix,1]= ch2Erste.mean()\n",
      "        prom[ix,2]= ch1Erste.std()\n",
      "        prom[ix,3]= ch2Erste.std()\n",
      "    return prom"
     ],
     "language": "python",
     "metadata": {},
     "outputs": [],
     "prompt_number": 6
    },
    {
     "cell_type": "code",
     "collapsed": false,
     "input": [
      "def baseMeas2(Meas2, messungenZahl, prop=0.25):\n",
      "    '''\n",
      "    (array, array, float) -> array\n",
      "    \n",
      "    De la primer fracci\u00f3n prop de ambos canales en Meas2,\n",
      "    obtiene el promedio y dispersi\u00f3n que se asume como nivel de base\n",
      "    grProm[0]: promedio ch1, grProm[1]: promedio ch2,\n",
      "    grProm[2]: desviaci\u00f3n estandard ch1, grProm[3]: desviaci\u00f3n estandard ch2\n",
      "    '''\n",
      "    erstePunkten= int(messungenZahl[1]* prop)\n",
      "    ch1Erste= Meas2[0][0:erstePunkten-1]\n",
      "    ch2Erste= Meas2[1][0:erstePunkten-1]\n",
      "    return np.array([ch1Erste.mean(), ch2Erste.mean(), ch1Erste.std(), ch2Erste.std() ] )"
     ],
     "language": "python",
     "metadata": {},
     "outputs": [],
     "prompt_number": 7
    },
    {
     "cell_type": "code",
     "collapsed": false,
     "input": [
      "def tauCeti2(T, Meas2, messungenZahl, prop):\n",
      "    '''\n",
      "    Calcula \u00edndices risetime como tiempo entre 10% y 90% de excursi\u00f3n entre nivel de base y m\u00e1ximo\n",
      "   \n",
      "    Meas2: array (2,:) con Meas2[0] canal 1, Meas2[0] canal 2, producto de np.vstack\n",
      "    baseMeas2: base(Meas2)\n",
      "    '''\n",
      "    # niveles base\n",
      "    bMeas2= baseMeas2(Meas2, messungenZahl, prop)\n",
      "\n",
      "    # \u00edndice m\u00e1ximo\n",
      "    maxIx= (Meas2[0].argmax(), Meas2[1].argmax() )\n",
      "\n",
      "    # m\u00e1ximo promediado cercano\n",
      "    rangoCercano= 20 # tres lecturas a izq y derecha\n",
      "    maxCH1= (Meas2[0][maxIx[0]- rangoCercano: maxIx[0]+ rangoCercano]).mean()\n",
      "    maxCH2= (Meas2[1][maxIx[1]- rangoCercano: maxIx[1]+ rangoCercano]).mean()\n",
      "\n",
      "    # diferencia m\u00e1ximo- base\n",
      "    # maxCH1= Meas2[0][maxIx[0]] # max CH1\n",
      "    # maxCH2= Meas2[1][maxIx[1]] # max CH2\n",
      "    # deltaV= np.array([Meas2[0][maxIx[0]]- bMeas2[0], Meas2[1][maxIx[1]]- bMeas2[1]])\n",
      "    deltaV= np.array([maxCH1- bMeas2[0],maxCH2- bMeas2[1]]) # usa promediado cercano\n",
      "\n",
      "    # Diferencias de potencial para 10%, 90% de excursi\u00f3n\n",
      "    v10= bMeas2[0:2]+ 0.1* deltaV\n",
      "    v90= bMeas2[0:2]+ 0.9* deltaV\n",
      "\n",
      "    # \u00cdndices para primer potencial del pulso que exceda 10%, y \u00faltimo por debajo 90% \n",
      "    ixTau= np.array([0, 0, maxIx[0], maxIx[1]])\n",
      "    while (Meas2[0,ixTau[0]]< v10[0]):\n",
      "        ixTau[0]+= 1\n",
      "    while (Meas2[1,ixTau[1]]< v10[1]):\n",
      "        ixTau[1]+= 1\n",
      "    while (Meas2[0,ixTau[2]]> v90[0]):\n",
      "        ixTau[2]-= 1\n",
      "    while (Meas2[1,ixTau[3]]> v90[1]):\n",
      "        ixTau[3]-= 1\n",
      "        \n",
      "    return np.array([T[ixTau[2]]- T[ixTau[0]], T[ixTau[3]]- T[ixTau[1]] ])"
     ],
     "language": "python",
     "metadata": {},
     "outputs": [],
     "prompt_number": 8
    },
    {
     "cell_type": "code",
     "collapsed": false,
     "input": [
      "def tauAMC2(acqData, prop= 0.25):\n",
      "    '''\n",
      "    Genera vectores de promedio y dispersi\u00f3n del risetime de ambos canales a partir de archivo acq*\n",
      "    \n",
      "    archivo: acq* \n",
      "    prop= porcentaje inferior del canal a promediar para obtener nivel de base     \n",
      "    '''\n",
      "    messungenZahl= acqData.shape\n",
      "\n",
      "    # tiempo\n",
      "    T= acqData[0]\n",
      "\n",
      "    tauAMC= np.empty([int((messungenZahl[0]- 1)/ 2), 1])\n",
      "    for i in range(1, messungenZahl[0], 2):\n",
      "        Meas2= np.array([acqData[i], acqData[i+1] ] )\n",
      "        ix= int((i-1)/2)\n",
      "        tauAMC[ix]= tauCeti2(T, Meas2, messungenZahl, prop)[1]\n",
      "    return tauAMC"
     ],
     "language": "python",
     "metadata": {},
     "outputs": [],
     "prompt_number": 9
    },
    {
     "cell_type": "code",
     "collapsed": false,
     "input": [
      "def tauAMCz(npzData, prop= 0.25):\n",
      "    '''\n",
      "    Vectores risetime canal AMC de archivo acq comprimido\n",
      "    \n",
      "    npzData= numpy.lib.npyio.NpzFile\n",
      "    prop= porcentaje inferior del canal a promediar para obtener nivel de base     \n",
      "    '''\n",
      "    FLUC= npzData['ch1']\n",
      "    AMC= npzData['ch2']\n",
      "\n",
      "    messungenZahl= AMC.shape\n",
      "\n",
      "    # tiempo\n",
      "    T= npzData['zeit']\n",
      "\n",
      "    tauAMC= np.empty([messungenZahl[0], 1])\n",
      "    for i in range(messungenZahl[0]):\n",
      "        Meas2= np.array([FLUC[i], AMC[i] ] )\n",
      "        tauAMC[i]= tauCeti2(T, Meas2, messungenZahl, prop)[1]\n",
      "    return tauAMC"
     ],
     "language": "python",
     "metadata": {},
     "outputs": [],
     "prompt_number": 10
    },
    {
     "cell_type": "code",
     "collapsed": false,
     "input": [
      "def desvioEstandardCuasiNoSesgado(datos):\n",
      "    '''\n",
      "    Estimador cuasi no sesgado de la desviaci\u00f3n estandar.\n",
      "    https://en.wikipedia.org/wiki/Unbiased_estimation_of_standard_deviation\n",
      "    '''\n",
      "    media= np.mean(datos)\n",
      "    suma=0\n",
      "    for i in datos:\n",
      "        aux= (datos[i]- media)\n",
      "        suma+= aux**2\n",
      "    desv= np.sqrt(suma/( np.size(datos)- 1.5) ) \n",
      "    return desv"
     ],
     "language": "python",
     "metadata": {},
     "outputs": [],
     "prompt_number": 11
    },
    {
     "cell_type": "code",
     "collapsed": false,
     "input": [
      "def errorEstandard(datos):\n",
      "    '''\n",
      "    Estimador de la desviaci\u00f3n estandar del promedio.\n",
      "    Usa la desviaci\u00f3n estandar de la poblaci\u00f3n y la divide por la ra\u00edz del n\u00famero de elementos en la poblaci\u00f3n.\n",
      "    https://en.wikipedia.org/wiki/Standard_error\n",
      "    '''\n",
      "    return desvioEstandardCuasiNoSesgado(datos)/ np.sqrt(np.size(datos))"
     ],
     "language": "python",
     "metadata": {},
     "outputs": [],
     "prompt_number": 12
    },
    {
     "cell_type": "heading",
     "level": 1,
     "metadata": {},
     "source": [
      "Adquisiciones "
     ]
    },
    {
     "cell_type": "heading",
     "level": 2,
     "metadata": {},
     "source": [
      "Centronic FC-165"
     ]
    },
    {
     "cell_type": "heading",
     "level": 3,
     "metadata": {},
     "source": [
      "acq150601z02: Centronic FC-165, 2560 pulsos, TRG=$0.6\\mathrm{V}$"
     ]
    },
    {
     "cell_type": "code",
     "collapsed": false,
     "input": [
      "a3= np.load('./data/acq150603z01.npy.npz')\n",
      "a3_taus= tauAMCz(a3)\n",
      "a3_taus.size"
     ],
     "language": "python",
     "metadata": {},
     "outputs": [
      {
       "metadata": {},
       "output_type": "pyout",
       "prompt_number": 13,
       "text": [
        "2560"
       ]
      }
     ],
     "prompt_number": 13
    },
    {
     "cell_type": "code",
     "collapsed": false,
     "input": [
      "n_n03, bins_n03, patches_n03= plt.hist(a3_taus, bins=120)"
     ],
     "language": "python",
     "metadata": {},
     "outputs": [
      {
       "metadata": {},
       "output_type": "display_data",
       "png": "[encoded data removed]",
       "text": [
        "<matplotlib.figure.Figure at 0x7f1b9677f358>"
       ]
      }
     ],
     "prompt_number": 14
    },
    {
     "cell_type": "code",
     "collapsed": false,
     "input": [
      "intermedio_n03 = np.ma.masked_greater(a3_taus, bins_n03[6])\n",
      "primerCampana_n03= intermedio_n03.compressed()\n",
      "n_n03p, bins_n03p, patches_n03p= plt.hist(primerCampana_n03, bins=20)"
     ],
     "language": "python",
     "metadata": {},
     "outputs": [
      {
       "metadata": {},
       "output_type": "display_data",
       "png": "[encoded data removed]",
       "text": [
        "<matplotlib.figure.Figure at 0x7f1b966fdcc0>"
       ]
      }
     ],
     "prompt_number": 15
    },
    {
     "cell_type": "code",
     "collapsed": false,
     "input": [
      "primerCampana_n03.size, primerCampana_n03.mean(), errorEstandard(primerCampana_n03)"
     ],
     "language": "python",
     "metadata": {},
     "outputs": [
      {
       "metadata": {},
       "output_type": "pyout",
       "prompt_number": 16,
       "text": [
        "(1374, 1.1303275109170303e-07, 8.1861668312845248e-11)"
       ]
      }
     ],
     "prompt_number": 16
    },
    {
     "cell_type": "heading",
     "level": 2,
     "metadata": {},
     "source": [
      "CNEA CFP-35"
     ]
    },
    {
     "cell_type": "heading",
     "level": 3,
     "metadata": {},
     "source": [
      "acq150603z02: CFP-35, 2560 pulsos, $P=3.005\\mathrm{\\frac{kgf}{cm^2}}$ (relativa), $\\mathrm{N_2/Ar}\\simeq0,5$, TRG=$0.6\\mathrm{V}$"
     ]
    },
    {
     "cell_type": "code",
     "collapsed": false,
     "input": [
      "a3= np.load('./data/acq150603z02.npy.npz')\n",
      "a3_taus= tauAMCz(a3)\n",
      "a3_taus.size"
     ],
     "language": "python",
     "metadata": {},
     "outputs": [
      {
       "metadata": {},
       "output_type": "pyout",
       "prompt_number": 23,
       "text": [
        "2560"
       ]
      }
     ],
     "prompt_number": 23
    },
    {
     "cell_type": "code",
     "collapsed": false,
     "input": [
      "n_n03, bins_n03, patches_n03= plt.hist(a3_taus, bins=120)"
     ],
     "language": "python",
     "metadata": {},
     "outputs": [
      {
       "metadata": {},
       "output_type": "display_data",
       "png": "[encoded data removed]",
       "text": [
        "<matplotlib.figure.Figure at 0x7f1b9647e400>"
       ]
      }
     ],
     "prompt_number": 24
    },
    {
     "cell_type": "code",
     "collapsed": false,
     "input": [
      "intermedio_n03 = np.ma.masked_greater(a3_taus, bins_n03[12])\n",
      "primerCampana_n03= intermedio_n03.compressed()\n",
      "n_n03p, bins_n03p, patches_n03p= plt.hist(primerCampana_n03, bins=20)"
     ],
     "language": "python",
     "metadata": {},
     "outputs": [
      {
       "metadata": {},
       "output_type": "display_data",
       "png": "[encoded data removed]",
       "text": [
        "<matplotlib.figure.Figure at 0x7f1b966e02b0>"
       ]
      }
     ],
     "prompt_number": 25
    },
    {
     "cell_type": "code",
     "collapsed": false,
     "input": [
      "primerCampana_n03.size, primerCampana_n03.mean(), errorEstandard(primerCampana_n03)"
     ],
     "language": "python",
     "metadata": {},
     "outputs": [
      {
       "metadata": {},
       "output_type": "pyout",
       "prompt_number": 26,
       "text": [
        "(1292, 1.6713777089783299e-07, 1.5550317373592307e-09)"
       ]
      }
     ],
     "prompt_number": 26
    },
    {
     "cell_type": "heading",
     "level": 3,
     "metadata": {},
     "source": [
      "acq150603z03: CFP-35, 2560 pulsos, $P=3.005\\mathrm{\\frac{kgf}{cm^2}}$ (relativa), $\\mathrm{N_2/Ar}\\simeq0,5$, TRG=$0.6\\mathrm{V}$"
     ]
    },
    {
     "cell_type": "code",
     "collapsed": false,
     "input": [
      "a3= np.load('./data/acq150603z03.npy.npz')\n",
      "a3_taus= tauAMCz(a3)\n",
      "a3_taus.size"
     ],
     "language": "python",
     "metadata": {},
     "outputs": [
      {
       "metadata": {},
       "output_type": "pyout",
       "prompt_number": 17,
       "text": [
        "2560"
       ]
      }
     ],
     "prompt_number": 17
    },
    {
     "cell_type": "code",
     "collapsed": false,
     "input": [
      "n_n03, bins_n03, patches_n03= plt.hist(a3_taus, bins=120)"
     ],
     "language": "python",
     "metadata": {},
     "outputs": [
      {
       "metadata": {},
       "output_type": "display_data",
       "png": "[encoded data removed]",
       "text": [
        "<matplotlib.figure.Figure at 0x7f1b964dcda0>"
       ]
      }
     ],
     "prompt_number": 18
    },
    {
     "cell_type": "code",
     "collapsed": false,
     "input": [
      "intermedio_n03 = np.ma.masked_greater(a3_taus, bins_n03[12])\n",
      "primerCampana_n03= intermedio_n03.compressed()\n",
      "n_n03p, bins_n03p, patches_n03p= plt.hist(primerCampana_n03, bins=20)"
     ],
     "language": "python",
     "metadata": {},
     "outputs": [
      {
       "metadata": {},
       "output_type": "display_data",
       "png": "[encoded data removed]",
       "text": [
        "<matplotlib.figure.Figure at 0x7f1b962cdc88>"
       ]
      }
     ],
     "prompt_number": 21
    },
    {
     "cell_type": "code",
     "collapsed": false,
     "input": [
      "primerCampana_n03.size, primerCampana_n03.mean(), errorEstandard(primerCampana_n03)"
     ],
     "language": "python",
     "metadata": {},
     "outputs": [
      {
       "metadata": {},
       "output_type": "pyout",
       "prompt_number": 22,
       "text": [
        "(1329, 1.5802182091798349e-07, 8.1739794974856603e-11)"
       ]
      }
     ],
     "prompt_number": 22
    },
    {
     "cell_type": "code",
     "collapsed": false,
     "input": [],
     "language": "python",
     "metadata": {},
     "outputs": []
    }
   ],
   "metadata": {}
  }
 ]
}