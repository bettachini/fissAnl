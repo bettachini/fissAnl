{
 "metadata": {
  "name": "",
  "signature": "sha256:5c351a092084f7bd4685b9eb6a7b9bb884e8da6c583441261b2418badffc2686"
 },
 "nbformat": 3,
 "nbformat_minor": 0,
 "worksheets": [
  {
   "cells": [
    {
     "cell_type": "code",
     "collapsed": false,
     "input": [
      "import matplotlib\n",
      "import numpy as np\n",
      "import matplotlib.pyplot as plt\n",
      "%matplotlib inline\n",
      "# coding=utf-8\n",
      "\n",
      "import time\n",
      "\n",
      "# refresca de lo importado cada vez que se hace ejecuci\u00f3n\n",
      "# %load_ext autoreload\n",
      "# %autoreload 2\n",
      "\n",
      "path= './data/'"
     ],
     "language": "python",
     "metadata": {},
     "outputs": [],
     "prompt_number": 2
    },
    {
     "cell_type": "heading",
     "level": 1,
     "metadata": {},
     "source": [
      "Graficaci\u00f3n, funciones"
     ]
    },
    {
     "cell_type": "code",
     "collapsed": false,
     "input": [
      "def darstellungNurZwei(T, Meas2, sav= None):\n",
      "    '''\n",
      "    T: times vector\n",
      "    Meas2: Both channels 2D array\n",
      "    sav: plot filename (eps)\n",
      "    '''\n",
      "        \n",
      "    fig, (ax0, ax1) = plt.subplots(nrows=2, sharex=True)\n",
      "    fig.set_size_inches(10,8)\n",
      "    fig.subplots_adjust(hspace=0.000)\n",
      "\n",
      "    ax0.plot(T, Meas2[0,:], 'y')\n",
      "    # Make the y-axis label and tick labels match the line color.\n",
      "    ax0.set_ylabel('ch 1 [V]', color='y')\n",
      "    ax0.grid(True)\n",
      "\n",
      "    ax1.plot(T, Meas2[1,:], 'c')\n",
      "    ax1.set_ylabel('ch 2 [V]', color='c')\n",
      "    ax1.set_xlabel('tiempo [s]')\n",
      "    ax1.grid(True)\n",
      "    \n",
      "    if (sav):\n",
      "        plt.savefig('./data/plots/'+ sav+ '.eps')\n",
      "    else:\n",
      "        plt.show()"
     ],
     "language": "python",
     "metadata": {},
     "outputs": [],
     "prompt_number": 3
    },
    {
     "cell_type": "code",
     "collapsed": false,
     "input": [
      "# lee archivo npy en la ruta datei y grafica cada medici\u00f3n\n",
      "def dateiDarstellung(datei, sav= None):\n",
      "    '''\n",
      "    str -> ()\n",
      "    \n",
      "    De un archivo npy grafica cada medici\u00f3n (\u00edndice), ambos canales.\n",
      "    '''\n",
      "    lu= np.load(datei)\n",
      "    zeit= lu[0]\n",
      "    messungenZahl= lu.shape[0]\n",
      "    for i in range(1, messungenZahl, 2):\n",
      "        ix= int((i-1)/2)\n",
      "        print('medici\u00f3n = '+ str(ix), ', \u00edndiceCH1= '+ str(i))\n",
      "        Meas2= np.vstack([lu[i], lu[i+1]])\n",
      "        if (sav):\n",
      "            savi= sav+ str(i)\n",
      "            darstellungNurZwei(zeit, Meas2, savi)\n",
      "        else:\n",
      "            darstellungNurZwei(zeit, Meas2)"
     ],
     "language": "python",
     "metadata": {},
     "outputs": [],
     "prompt_number": 4
    },
    {
     "cell_type": "code",
     "collapsed": false,
     "input": [
      "def dertellungZ(npzData):\n",
      "    '''\n",
      "    Grafica canal AMC y FLUC de archivo acq comprimido\n",
      "    \n",
      "    npzData= numpy.lib.npyio.NpzFile\n",
      "    '''\n",
      "    FLUC= npzData['ch1']\n",
      "    AMC= npzData['ch2']\n",
      "\n",
      "    messungenZahl= AMC.shape\n",
      "\n",
      "    # tiempo\n",
      "    T= npzData['zeit']\n",
      "\n",
      "    tauAMC= np.empty([messungenZahl[0], 1])\n",
      "    for i in range(messungenZahl[0]):\n",
      "        Meas2= np.array([FLUC[i], AMC[i] ] )\n",
      "        darstellungNurZwei(T, Meas2)\n",
      "    return tauAMC"
     ],
     "language": "python",
     "metadata": {},
     "outputs": [],
     "prompt_number": 5
    },
    {
     "cell_type": "heading",
     "level": 1,
     "metadata": {},
     "source": [
      "Risetime, funciones"
     ]
    },
    {
     "cell_type": "code",
     "collapsed": false,
     "input": [
      "def baseAcq(acqFile, prop=0.25):\n",
      "    '''\n",
      "    (array, float) -> array\n",
      "    \n",
      "    De la primer fracci\u00f3n prop de ambos canales de todas las adquisiciones en acqFile,\n",
      "    obtiene el promedio y dispersi\u00f3n que se asume como nivel de base\n",
      "    grProm[0]: promedio ch1, grProm[1]: promedio ch2,\n",
      "    grProm[2]: desviaci\u00f3n estandard ch1, grProm[3]: desviaci\u00f3n estandard ch2\n",
      "    '''\n",
      "    messungenZahl= acqFile.shape\n",
      "    erstePunkten= int(messungenZahl[1]* prop)\n",
      "    prom= np.zeros([int((messungenZahl[0]- 1)/ 2), 4])\n",
      "    for i in range(1, messungenZahl[0], 2):\n",
      "        ix= int((i-1)/2)\n",
      "        ch1Erste= acqFile[i][0:erstePunkten-1]\n",
      "        ch2Erste= acqFile[i+1][0:erstePunkten-1]\n",
      "        prom[ix,0]= ch1Erste.mean()\n",
      "        prom[ix,1]= ch2Erste.mean()\n",
      "        prom[ix,2]= ch1Erste.std()\n",
      "        prom[ix,3]= ch2Erste.std()\n",
      "    return prom"
     ],
     "language": "python",
     "metadata": {},
     "outputs": [],
     "prompt_number": 6
    },
    {
     "cell_type": "code",
     "collapsed": false,
     "input": [
      "def baseMeas2(Meas2, messungenZahl, prop=0.25):\n",
      "    '''\n",
      "    (array, array, float) -> array\n",
      "    \n",
      "    De la primer fracci\u00f3n prop de ambos canales en Meas2,\n",
      "    obtiene el promedio y dispersi\u00f3n que se asume como nivel de base\n",
      "    grProm[0]: promedio ch1, grProm[1]: promedio ch2,\n",
      "    grProm[2]: desviaci\u00f3n estandard ch1, grProm[3]: desviaci\u00f3n estandard ch2\n",
      "    '''\n",
      "    erstePunkten= int(messungenZahl[1]* prop)\n",
      "    ch1Erste= Meas2[0][0:erstePunkten-1]\n",
      "    ch2Erste= Meas2[1][0:erstePunkten-1]\n",
      "    return np.array([ch1Erste.mean(), ch2Erste.mean(), ch1Erste.std(), ch2Erste.std() ] )"
     ],
     "language": "python",
     "metadata": {},
     "outputs": [],
     "prompt_number": 7
    },
    {
     "cell_type": "code",
     "collapsed": false,
     "input": [
      "def tauCeti2(T, Meas2, messungenZahl, prop):\n",
      "    '''\n",
      "    Calcula \u00edndices risetime como tiempo entre 10% y 90% de excursi\u00f3n entre nivel de base y m\u00e1ximo\n",
      "   \n",
      "    Meas2: array (2,:) con Meas2[0] canal 1, Meas2[0] canal 2, producto de np.vstack\n",
      "    baseMeas2: base(Meas2)\n",
      "    '''\n",
      "    # niveles base\n",
      "    bMeas2= baseMeas2(Meas2, messungenZahl, prop)\n",
      "\n",
      "    # \u00edndice m\u00e1ximo\n",
      "    maxIx= (Meas2[0].argmax(), Meas2[1].argmax() )\n",
      "\n",
      "    # m\u00e1ximo promediado cercano\n",
      "    rangoCercano= 20 # tres lecturas a izq y derecha\n",
      "    maxCH1= (Meas2[0][maxIx[0]- rangoCercano: maxIx[0]+ rangoCercano]).mean()\n",
      "    maxCH2= (Meas2[1][maxIx[1]- rangoCercano: maxIx[1]+ rangoCercano]).mean()\n",
      "\n",
      "    # diferencia m\u00e1ximo- base\n",
      "    # maxCH1= Meas2[0][maxIx[0]] # max CH1\n",
      "    # maxCH2= Meas2[1][maxIx[1]] # max CH2\n",
      "    # deltaV= np.array([Meas2[0][maxIx[0]]- bMeas2[0], Meas2[1][maxIx[1]]- bMeas2[1]])\n",
      "    deltaV= np.array([maxCH1- bMeas2[0],maxCH2- bMeas2[1]]) # usa promediado cercano\n",
      "\n",
      "    # Diferencias de potencial para 10%, 90% de excursi\u00f3n\n",
      "    v10= bMeas2[0:2]+ 0.1* deltaV\n",
      "    v90= bMeas2[0:2]+ 0.9* deltaV\n",
      "\n",
      "    # \u00cdndices para primer potencial del pulso que exceda 10%, y \u00faltimo por debajo 90% \n",
      "    ixTau= np.array([0, 0, maxIx[0], maxIx[1]])\n",
      "    while (Meas2[0,ixTau[0]]< v10[0]):\n",
      "        ixTau[0]+= 1\n",
      "    while (Meas2[1,ixTau[1]]< v10[1]):\n",
      "        ixTau[1]+= 1\n",
      "    while (Meas2[0,ixTau[2]]> v90[0]):\n",
      "        ixTau[2]-= 1\n",
      "    while (Meas2[1,ixTau[3]]> v90[1]):\n",
      "        ixTau[3]-= 1\n",
      "        \n",
      "    return np.array([T[ixTau[2]]- T[ixTau[0]], T[ixTau[3]]- T[ixTau[1]] ])"
     ],
     "language": "python",
     "metadata": {},
     "outputs": [],
     "prompt_number": 8
    },
    {
     "cell_type": "code",
     "collapsed": false,
     "input": [
      "def tauAMC2(acqData, prop= 0.25):\n",
      "    '''\n",
      "    Genera vectores de promedio y dispersi\u00f3n del risetime de ambos canales a partir de archivo acq*\n",
      "    \n",
      "    archivo: acq* \n",
      "    prop= porcentaje inferior del canal a promediar para obtener nivel de base     \n",
      "    '''\n",
      "    messungenZahl= acqData.shape\n",
      "\n",
      "    # tiempo\n",
      "    T= acqData[0]\n",
      "\n",
      "    tauAMC= np.empty([int((messungenZahl[0]- 1)/ 2), 1])\n",
      "    for i in range(1, messungenZahl[0], 2):\n",
      "        Meas2= np.array([acqData[i], acqData[i+1] ] )\n",
      "        ix= int((i-1)/2)\n",
      "        tauAMC[ix]= tauCeti2(T, Meas2, messungenZahl, prop)[1]\n",
      "    return tauAMC"
     ],
     "language": "python",
     "metadata": {},
     "outputs": [],
     "prompt_number": 9
    },
    {
     "cell_type": "code",
     "collapsed": false,
     "input": [
      "def tauAMCz(npzData, prop= 0.25):\n",
      "    '''\n",
      "    Vectores risetime canal AMC de archivo acq comprimido\n",
      "    \n",
      "    npzData= numpy.lib.npyio.NpzFile\n",
      "    prop= porcentaje inferior del canal a promediar para obtener nivel de base     \n",
      "    '''\n",
      "    FLUC= npzData['ch1']\n",
      "    AMC= npzData['ch2']\n",
      "\n",
      "    messungenZahl= AMC.shape\n",
      "\n",
      "    # tiempo\n",
      "    T= npzData['zeit']\n",
      "\n",
      "    tauAMC= np.empty([messungenZahl[0], 1])\n",
      "    for i in range(messungenZahl[0]):\n",
      "        Meas2= np.array([FLUC[i], AMC[i] ] )\n",
      "        tauAMC[i]= tauCeti2(T, Meas2, messungenZahl, prop)[1]\n",
      "    return tauAMC"
     ],
     "language": "python",
     "metadata": {},
     "outputs": [],
     "prompt_number": 10
    },
    {
     "cell_type": "code",
     "collapsed": false,
     "input": [
      "def desvioEstandardCuasiNoSesgado(datos):\n",
      "    '''\n",
      "    Estimador cuasi no sesgado de la desviaci\u00f3n estandar.\n",
      "    https://en.wikipedia.org/wiki/Unbiased_estimation_of_standard_deviation\n",
      "    '''\n",
      "    media= np.mean(datos)\n",
      "    suma=0\n",
      "    for i in datos:\n",
      "        aux= (datos[i]- media)\n",
      "        suma+= aux**2\n",
      "    desv= np.sqrt(suma/( np.size(datos)- 1.5) ) \n",
      "    return desv"
     ],
     "language": "python",
     "metadata": {},
     "outputs": [],
     "prompt_number": 11
    },
    {
     "cell_type": "code",
     "collapsed": false,
     "input": [
      "def errorEstandard(datos):\n",
      "    '''\n",
      "    Estimador de la desviaci\u00f3n estandar del promedio.\n",
      "    Usa la desviaci\u00f3n estandar de la poblaci\u00f3n y la divide por la ra\u00edz del n\u00famero de elementos en la poblaci\u00f3n.\n",
      "    https://en.wikipedia.org/wiki/Standard_error\n",
      "    '''\n",
      "    return desvioEstandardCuasiNoSesgado(datos)/ np.sqrt(np.size(datos))"
     ],
     "language": "python",
     "metadata": {},
     "outputs": [],
     "prompt_number": 12
    },
    {
     "cell_type": "heading",
     "level": 1,
     "metadata": {},
     "source": [
      "Espectros, funciones"
     ]
    },
    {
     "cell_type": "code",
     "collapsed": false,
     "input": [
      "def leeOrtec(fileName):\n",
      "    '''\n",
      "    Entrada: archivo de texto generado por el GammaVision\n",
      "    Salida: array de enteros con n\u00famero de cuentas por canal\n",
      "    '''\n",
      "    # Lee archivo Ortec\n",
      "    path='/oldhome/vbettachini/documents/cnea/campbell/espectros/'\n",
      "    fl= open(path+fileName, 'r')\n",
      "    datos= fl.readlines()\n",
      "    fl.close()\n",
      "    datos= datos[26:] # descarta pre\u00e1mbulo\n",
      "    # transcribe cuentas a un array\n",
      "    cuentas= np.array([],dtype= np.dtype('int8'))\n",
      "    for linea in datos:\n",
      "        # print(linea)\n",
      "        intermedio= linea.split()\n",
      "        for i in intermedio[1:]:\n",
      "            cuentas= np.hstack(([cuentas, int(i) ] ) )\n",
      "    return cuentas"
     ],
     "language": "python",
     "metadata": {},
     "outputs": [],
     "prompt_number": 13
    },
    {
     "cell_type": "code",
     "collapsed": false,
     "input": [
      "def derstellungOrtec(filesList, norm=True):\n",
      "    fig = plt.figure(figsize=(10,5))  # an empty figure with no axes\n",
      "    ax_lst= fig.add_subplot(111)\n",
      "    ax_lst.grid()\n",
      "    ax_lst.set_xlim(right=150)\n",
      "    ax_lst.set_ylim(bottom=1E-3, top=2E-1)\n",
      "    ax_lst.set_xlabel('Canal')\n",
      "    if norm:\n",
      "        ax_lst.set_ylabel('Cuentas normalizadas')\n",
      "    else:\n",
      "        ax_lst.set_ylabel('Cuentas')\n",
      "    for fileName in filesList:\n",
      "        fileNameO= fileName+'.Txt'\n",
      "        erste= leeOrtec(fileNameO)\n",
      "        if norm:\n",
      "            ax_lst.semilogy(erste/erste.sum(), label= fileName)\n",
      "        else:\n",
      "            ax_lst.semilogy(erste, label= fileName)\n",
      "    ax_lst.legend()"
     ],
     "language": "python",
     "metadata": {},
     "outputs": [],
     "prompt_number": 14
    },
    {
     "cell_type": "heading",
     "level": 1,
     "metadata": {},
     "source": [
      "Cambio composici\u00f3n"
     ]
    },
    {
     "cell_type": "code",
     "collapsed": false,
     "input": [
      "conv= 98066.5* (1/101325) # presi\u00f3n absoluta atm/(kgf/cm2)= (Pa/(kgf/cm2))* (atm/Pa)\n",
      "pAtm= 1/conv # [kgf/cm\u00b2] (abs)"
     ],
     "language": "python",
     "metadata": {},
     "outputs": [],
     "prompt_number": 73
    },
    {
     "cell_type": "heading",
     "level": 2,
     "metadata": {},
     "source": [
      "Lo que hay"
     ]
    },
    {
     "cell_type": "code",
     "collapsed": false,
     "input": [
      "# Tres c\u00e1maras: topo superior, topo inferior (incluye tubo al detector), detector (despu\u00e9s de v\u00e1lvula propia)\n",
      "riquezaActual= 0.022830663477199375 # [P_{N_2}/P_Ar] (abs)\n",
      "pAbierta= 3.460 # [kgf/cm\u00b2] (rel)"
     ],
     "language": "python",
     "metadata": {},
     "outputs": [],
     "prompt_number": 74
    },
    {
     "cell_type": "heading",
     "level": 2,
     "metadata": {},
     "source": [
      "Objetivo"
     ]
    },
    {
     "cell_type": "markdown",
     "metadata": {},
     "source": [
      "$P_{Ar}+ P_{N_2}= P_{abierta}+ P_{atm}$\n",
      "\n",
      "$\\frac{P_{N_2}}{P_{Ar}}= \\mathrm{riq} \\Rightarrow P_{Ar} (1+ \\mathrm{riq})= P_{abierta}+ P_{atm} $\n",
      "\n",
      "$P_{Ar}= \\frac{P_{abierta}+ P_{atm}}{(1+ \\mathrm{riq})} $, $P_{N_2}= \\mathrm{riq} \\frac{P_{abierta}+ P_{atm}}{(1+ \\mathrm{riq})} $ "
     ]
    },
    {
     "cell_type": "code",
     "collapsed": false,
     "input": [
      "rObjC= 0.05\n",
      "pObjC= 4.000+ pAtm #  [kgf/cm\u00b2] (abs)\n",
      "\n",
      "pArObjC= pObjC/ (1+ rObjC)  #  [kgf/cm\u00b2] (abs)\n",
      "pN2ObjC= pObjC* rObjC/ (1+ rObjC)   #  [kgf/cm\u00b2] (abs)\n",
      "\n",
      "PArAbiertaC= (pAbierta+ pAtm)/ (1+ riquezaActual)  #  [kgf/cm\u00b2] (abs)\n",
      "PN2AbiertaC= (pAbierta+ pAtm)* riquezaActual/ (1+ riquezaActual)   #  [kgf/cm\u00b2] (abs)\n",
      "\n",
      "pN2FaltanteC= pN2ObjC- PN2AbiertaC\n",
      "pArFaltanteC= pArObjC- PArAbiertaC\n",
      "\n",
      "pLlenarN2C= pN2FaltanteC+ pAbierta #  [kgf/cm\u00b2] (rel)\n",
      "# pN2FaltanteC, pArFaltanteC, pAbierta+(pN2FaltanteC+ pArFaltanteC)  # todo bien\n",
      "pLlenarN2C, (pN2FaltanteC+ PN2AbiertaC)/(pArFaltanteC+ PArAbiertaC)"
     ],
     "language": "python",
     "metadata": {},
     "outputs": [
      {
       "metadata": {},
       "output_type": "pyout",
       "prompt_number": 75,
       "text": [
        "(3.5993839031580883, 0.049999999999999996)"
       ]
      }
     ],
     "prompt_number": 75
    },
    {
     "cell_type": "heading",
     "level": 6,
     "metadata": {},
     "source": [
      "Si tiro el gas... Y vuelvo a hacer $2\\%$"
     ]
    },
    {
     "cell_type": "code",
     "collapsed": false,
     "input": [
      "rObjC= 0.02\n",
      "pObjC= 4.000+ pAtm #  [kgf/cm\u00b2] (abs)\n",
      "\n",
      "pArObjC= pObjC/ (1+ rObjC)  #  [kgf/cm\u00b2] (abs)\n",
      "pN2ObjC= pObjC* rObjC/ (1+ rObjC)   #  [kgf/cm\u00b2] (abs)\n",
      "\n",
      "pN2ObjC, (pArObjC+ pN2ObjC)*conv, 0.1/(pObjC- 0.1)"
     ],
     "language": "python",
     "metadata": {},
     "outputs": [
      {
       "metadata": {},
       "output_type": "pyout",
       "prompt_number": 82,
       "text": [
        "(0.0986907343686252, 4.871364421416235, 0.020270705325627008)"
       ]
      }
     ],
     "prompt_number": 82
    },
    {
     "cell_type": "code",
     "collapsed": false,
     "input": [
      ".1/(4+ pAtm -0.1)"
     ],
     "language": "python",
     "metadata": {},
     "outputs": [
      {
       "metadata": {},
       "output_type": "pyout",
       "prompt_number": 113,
       "text": [
        "0.020270705325627008"
       ]
      }
     ],
     "prompt_number": 113
    },
    {
     "cell_type": "markdown",
     "metadata": {},
     "source": [
      "Llen\u00e9 con $0.100$ de $\\mathrm{N_2}$ y totalic\u00e9 $P_\\mathrm{final}\\simeq 4.871 \\mathrm{atm}$,  $P_\\mathrm{N_2}/P_\\mathrm{Ar}\\simeq 0.0203$"
     ]
    },
    {
     "cell_type": "markdown",
     "metadata": {},
     "source": [
      "Pero esta era pensando en $\\mathrm{P_{N_2}}/\\mathrm{P_{Ar}}$.\n",
      "\n",
      "Tradicionalmente asum\u00ed una $\\textit{ensalada}$ en la que $\\mathrm{P_{N_2} (obj)}= \\mathrm{riqueza} \\times \\mathrm{P (obj)}$, pero la \n",
      "$\\mathrm{riqueza (final)}= \\mathrm{P_{N_2}}/\\mathrm{P_{Ar}}$.\n",
      "\n",
      "La riqueza de la mezcla ser\u00eda $\\frac{\\mathrm{P_{N_2}} }{ \\mathrm{P_{Ar}} + \\mathrm{P_{N_2}} } \\simeq 0.020$ "
     ]
    },
    {
     "cell_type": "code",
     "collapsed": false,
     "input": [
      "0.1/(4+pAtm)"
     ],
     "language": "python",
     "metadata": {},
     "outputs": [
      {
       "metadata": {},
       "output_type": "pyout",
       "prompt_number": 114,
       "text": [
        "0.019867967608809725"
       ]
      }
     ],
     "prompt_number": 114
    },
    {
     "cell_type": "heading",
     "level": 1,
     "metadata": {},
     "source": [
      "Espectro de carga"
     ]
    },
    {
     "cell_type": "markdown",
     "metadata": {},
     "source": [
      "`150624v1` Espectro carga, cadena Silvia, 15k cuentas, 512 canales\n",
      "\n",
      "C\u00e1mara CFP-35, amplificador 2025, bias$=400\\mathrm{V}$, ganancia$=100\\times0.6$, shaping time$=0.5\\mu s$, polaridad positiva, preamplificador Ortec 142C, fuente chica. \n",
      "\n",
      "Valle$\\simeq46$, Pico$=96.46$"
     ]
    },
    {
     "cell_type": "code",
     "collapsed": false,
     "input": [
      "filesList= ['150625v1']\n",
      "derstellungOrtec(filesList)"
     ],
     "language": "python",
     "metadata": {},
     "outputs": [
      {
       "metadata": {},
       "output_type": "display_data",
       "png": "[encoded data removed]",
       "text": [
        "<matplotlib.figure.Figure at 0x7f0f4426e780>"
       ]
      }
     ],
     "prompt_number": 88
    },
    {
     "cell_type": "heading",
     "level": 1,
     "metadata": {},
     "source": [
      "Adquisiciones"
     ]
    },
    {
     "cell_type": "markdown",
     "metadata": {},
     "source": [
      "Inicio 2 adquisici\u00f3n de 2 hs, es decir 2560*2 adquisiciones. Empezando por `acq150625z08'."
     ]
    },
    {
     "cell_type": "code",
     "collapsed": false,
     "input": [
      "for medicionDia in np.arange(8,10): # medici\u00f3n 9 a 11 (dos mediciones)\n",
      "    print(medicionDia)"
     ],
     "language": "python",
     "metadata": {},
     "outputs": [
      {
       "output_type": "stream",
       "stream": "stdout",
       "text": [
        "8\n",
        "9\n"
       ]
      }
     ],
     "prompt_number": 93
    },
    {
     "cell_type": "markdown",
     "metadata": {},
     "source": [
      "**Espectro campbelliano** `150625ec01`, cadena Canberreta, 2hs., N=20, 4096 canales, en simultaneo con adquisiciones"
     ]
    },
    {
     "cell_type": "heading",
     "level": 6,
     "metadata": {},
     "source": [
      "acq150625z08: CFP-35, 2x2560 pulsos, $P=4.000\\mathrm{\\frac{kgf}{cm^2}}$ (relativa), $\\mathrm{N_2/Ar}\\simeq2.03\\%$, TRG=$0.6\\mathrm{V}$"
     ]
    },
    {
     "cell_type": "code",
     "collapsed": false,
     "input": [
      "acq= np.load('./data/acq150625z08.npy.npz')\n",
      "taus= tauAMCz(acq)\n",
      "n, bins, patches= plt.hist(taus, bins=120)"
     ],
     "language": "python",
     "metadata": {},
     "outputs": [
      {
       "metadata": {},
       "output_type": "display_data",
       "png": "[encoded data removed]",
       "text": [
        "<matplotlib.figure.Figure at 0x7f0f441f5588>"
       ]
      }
     ],
     "prompt_number": 90
    },
    {
     "cell_type": "code",
     "collapsed": false,
     "input": [
      "intermedio = np.ma.masked_greater(taus, bins[8])\n",
      "primerCampana= intermedio.compressed()\n",
      "n_i, bins_i, patches_i= plt.hist(primerCampana, bins=20)\n",
      "primerCampana.size, primerCampana.mean(), errorEstandard(primerCampana)"
     ],
     "language": "python",
     "metadata": {},
     "outputs": [
      {
       "metadata": {},
       "output_type": "pyout",
       "prompt_number": 91,
       "text": [
        "(3309, 1.3825929283771524e-07, 2.6532885392995101e-10)"
       ]
      },
      {
       "metadata": {},
       "output_type": "display_data",
       "png": "[encoded data removed]",
       "text": [
        "<matplotlib.figure.Figure at 0x7f0f443a6048>"
       ]
      }
     ],
     "prompt_number": 91
    },
    {
     "cell_type": "heading",
     "level": 6,
     "metadata": {},
     "source": [
      "acq150625z09: CFP-35, 2x2560 pulsos, $P=4.000\\mathrm{\\frac{kgf}{cm^2}}$ (relativa), $\\mathrm{N_2/Ar}\\simeq2.03\\%$, TRG=$0.6\\mathrm{V}$"
     ]
    },
    {
     "cell_type": "code",
     "collapsed": false,
     "input": [
      "acq= np.load('./data/acq150625z09.npy.npz')\n",
      "taus= tauAMCz(acq)\n",
      "n, bins, patches= plt.hist(taus, bins=120)"
     ],
     "language": "python",
     "metadata": {},
     "outputs": [
      {
       "metadata": {},
       "output_type": "display_data",
       "png": "[encoded data removed]",
       "text": [
        "<matplotlib.figure.Figure at 0x7f0f44192898>"
       ]
      }
     ],
     "prompt_number": 94
    },
    {
     "cell_type": "code",
     "collapsed": false,
     "input": [
      "intermedio = np.ma.masked_greater(taus, bins[8])\n",
      "primerCampana= intermedio.compressed()\n",
      "n_i, bins_i, patches_i= plt.hist(primerCampana, bins=20)\n",
      "primerCampana.size, primerCampana.mean(), errorEstandard(primerCampana)"
     ],
     "language": "python",
     "metadata": {},
     "outputs": [
      {
       "metadata": {},
       "output_type": "pyout",
       "prompt_number": 95,
       "text": [
        "(3351, 1.3309191286183224e-07, 3.0942771330654662e-10)"
       ]
      },
      {
       "metadata": {},
       "output_type": "display_data",
       "png": "[encoded data removed]",
       "text": [
        "<matplotlib.figure.Figure at 0x7f0f44346198>"
       ]
      }
     ],
     "prompt_number": 95
    },
    {
     "cell_type": "heading",
     "level": 6,
     "metadata": {},
     "source": [
      "acq150625z10: CFP-35, 2x2560 pulsos, $P=4.000\\mathrm{\\frac{kgf}{cm^2}}$ (relativa), $\\mathrm{N_2/Ar}\\simeq2.03\\%$, TRG=$0.6\\mathrm{V}$"
     ]
    },
    {
     "cell_type": "code",
     "collapsed": false,
     "input": [
      "acq= np.load('./data/acq150625z10.npy.npz')\n",
      "taus= tauAMCz(acq)\n",
      "n, bins, patches= plt.hist(taus, bins=120)"
     ],
     "language": "python",
     "metadata": {},
     "outputs": [
      {
       "metadata": {},
       "output_type": "display_data",
       "png": "[encoded data removed]",
       "text": [
        "<matplotlib.figure.Figure at 0x7f0f441921d0>"
       ]
      }
     ],
     "prompt_number": 100
    },
    {
     "cell_type": "code",
     "collapsed": false,
     "input": [
      "intermedio = np.ma.masked_greater(taus, bins[8])\n",
      "primerCampana= intermedio.compressed()\n",
      "n_i, bins_i, patches_i= plt.hist(primerCampana, bins=20)\n",
      "primerCampana.size, primerCampana.mean(), errorEstandard(primerCampana)"
     ],
     "language": "python",
     "metadata": {},
     "outputs": [
      {
       "metadata": {},
       "output_type": "pyout",
       "prompt_number": 101,
       "text": [
        "(3524, 1.322888762769577e-07, 4.163580771970932e-10)"
       ]
      },
      {
       "metadata": {},
       "output_type": "display_data",
       "png": "[encoded data removed]",
       "text": [
        "<matplotlib.figure.Figure at 0x7f0f441852e8>"
       ]
      }
     ],
     "prompt_number": 101
    },
    {
     "cell_type": "heading",
     "level": 6,
     "metadata": {},
     "source": [
      "acq150625z11: CFP-35, 2x2560 pulsos, $P=4.000\\mathrm{\\frac{kgf}{cm^2}}$ (relativa), $\\mathrm{N_2/Ar}\\simeq2.03\\%$, TRG=$0.6\\mathrm{V}$"
     ]
    },
    {
     "cell_type": "code",
     "collapsed": false,
     "input": [
      "acq= np.load('./data/acq150625z11.npy.npz')\n",
      "taus= tauAMCz(acq)\n",
      "n, bins, patches= plt.hist(taus, bins=120)"
     ],
     "language": "python",
     "metadata": {},
     "outputs": [
      {
       "metadata": {},
       "output_type": "display_data",
       "png": "[encoded data removed]",
       "text": [
        "<matplotlib.figure.Figure at 0x7f0f43e3bb70>"
       ]
      }
     ],
     "prompt_number": 102
    },
    {
     "cell_type": "code",
     "collapsed": false,
     "input": [
      "intermedio = np.ma.masked_greater(taus, bins[8])\n",
      "primerCampana= intermedio.compressed()\n",
      "n_i, bins_i, patches_i= plt.hist(primerCampana, bins=20)\n",
      "primerCampana.size, primerCampana.mean(), errorEstandard(primerCampana)"
     ],
     "language": "python",
     "metadata": {},
     "outputs": [
      {
       "metadata": {},
       "output_type": "pyout",
       "prompt_number": 103,
       "text": [
        "(3461, 1.3159549263218706e-07, 1.5989297514546066e-10)"
       ]
      },
      {
       "metadata": {},
       "output_type": "display_data",
       "png": "[encoded data removed]",
       "text": [
        "<matplotlib.figure.Figure at 0x7f0f44185b00>"
       ]
      }
     ],
     "prompt_number": 103
    },
    {
     "cell_type": "heading",
     "level": 6,
     "metadata": {},
     "source": [
      "acq150625z12: CFP-35, 2x2560 pulsos, $P=4.000\\mathrm{\\frac{kgf}{cm^2}}$ (relativa), $\\mathrm{N_2/Ar}\\simeq2.03\\%$, TRG=$0.6\\mathrm{V}$"
     ]
    },
    {
     "cell_type": "code",
     "collapsed": false,
     "input": [
      "acq= np.load('./data/acq150625z12.npy.npz')\n",
      "taus= tauAMCz(acq)\n",
      "n, bins, patches= plt.hist(taus, bins=120)"
     ],
     "language": "python",
     "metadata": {},
     "outputs": [
      {
       "metadata": {},
       "output_type": "display_data",
       "png": "[encoded data removed]",
       "text": [
        "<matplotlib.figure.Figure at 0x7f0f43fc7390>"
       ]
      }
     ],
     "prompt_number": 104
    },
    {
     "cell_type": "code",
     "collapsed": false,
     "input": [
      "intermedio = np.ma.masked_greater(taus, bins[8])\n",
      "primerCampana= intermedio.compressed()\n",
      "n_i, bins_i, patches_i= plt.hist(primerCampana, bins=20)\n",
      "primerCampana.size, primerCampana.mean(), errorEstandard(primerCampana)"
     ],
     "language": "python",
     "metadata": {},
     "outputs": [
      {
       "metadata": {},
       "output_type": "pyout",
       "prompt_number": 105,
       "text": [
        "(3503, 1.3167827576363132e-07, 2.4805499532629195e-10)"
       ]
      },
      {
       "metadata": {},
       "output_type": "display_data",
       "png": "[encoded data removed]",
       "text": [
        "<matplotlib.figure.Figure at 0x7f0f43df44a8>"
       ]
      }
     ],
     "prompt_number": 105
    },
    {
     "cell_type": "heading",
     "level": 6,
     "metadata": {},
     "source": [
      "acq150626z13: CFP-35, 2x2560 pulsos, $P=4.000\\mathrm{\\frac{kgf}{cm^2}}$ (relativa), $\\mathrm{N_2/Ar}\\simeq2.03\\%$, TRG=$0.6\\mathrm{V}$"
     ]
    },
    {
     "cell_type": "code",
     "collapsed": false,
     "input": [
      "acq= np.load('./data/acq150626z13.npy.npz')\n",
      "taus= tauAMCz(acq)\n",
      "n, bins, patches= plt.hist(taus, bins=120)"
     ],
     "language": "python",
     "metadata": {},
     "outputs": [
      {
       "metadata": {},
       "output_type": "display_data",
       "png": "[encoded data removed]",
       "text": [
        "<matplotlib.figure.Figure at 0x7f0f441d3ba8>"
       ]
      }
     ],
     "prompt_number": 106
    },
    {
     "cell_type": "code",
     "collapsed": false,
     "input": [
      "intermedio = np.ma.masked_greater(taus, bins[8])\n",
      "primerCampana= intermedio.compressed()\n",
      "n_i, bins_i, patches_i= plt.hist(primerCampana, bins=20)\n",
      "primerCampana.size, primerCampana.mean(), errorEstandard(primerCampana)"
     ],
     "language": "python",
     "metadata": {},
     "outputs": [
      {
       "metadata": {},
       "output_type": "pyout",
       "prompt_number": 107,
       "text": [
        "(3529, 1.315069424766222e-07, 4.1975781262274617e-11)"
       ]
      },
      {
       "metadata": {},
       "output_type": "display_data",
       "png": "[encoded data removed]",
       "text": [
        "<matplotlib.figure.Figure at 0x7f0f442600b8>"
       ]
      }
     ],
     "prompt_number": 107
    },
    {
     "cell_type": "heading",
     "level": 1,
     "metadata": {},
     "source": [
      "Espectro de carga: verificaci\u00f3n fuga"
     ]
    },
    {
     "cell_type": "markdown",
     "metadata": {},
     "source": [
      "`150626v1` Espectro carga, cadena Silvia, 15k cuentas, 512 canales\n",
      "\n",
      "C\u00e1mara CFP-35, amplificador 2025, bias$=400\\mathrm{V}$, ganancia$=100\\times0.6$, shaping time$=0.5\\mu s$, polaridad positiva, preamplificador Ortec 142C, fuente chica. \n",
      "\n",
      "Valle$\\simeq47$, Pico$=100.55$\n",
      "\n",
      "**No hay corrimiento que demuestre fuga.**"
     ]
    },
    {
     "cell_type": "code",
     "collapsed": false,
     "input": [
      "filesList= ['150626v1']\n",
      "derstellungOrtec(filesList)"
     ],
     "language": "python",
     "metadata": {},
     "outputs": [
      {
       "metadata": {},
       "output_type": "display_data",
       "png": "[encoded data removed]",
       "text": [
        "<matplotlib.figure.Figure at 0x7f8f4bef7ba8>"
       ]
      }
     ],
     "prompt_number": 15
    },
    {
     "cell_type": "heading",
     "level": 1,
     "metadata": {},
     "source": [
      "Adquisici\u00f3n adicional"
     ]
    },
    {
     "cell_type": "heading",
     "level": 6,
     "metadata": {},
     "source": [
      "acq150626z14: CFP-35, 2x2560 pulsos, $P=4.000\\mathrm{\\frac{kgf}{cm^2}}$ (relativa), $\\mathrm{N_2/Ar}\\simeq2.03\\%$, TRG=$0.6\\mathrm{V}$"
     ]
    },
    {
     "cell_type": "code",
     "collapsed": false,
     "input": [
      "acq= np.load('./data/acq150626z14.npy.npz')\n",
      "taus= tauAMCz(acq)\n",
      "n, bins, patches= plt.hist(taus, bins=120)"
     ],
     "language": "python",
     "metadata": {},
     "outputs": [
      {
       "metadata": {},
       "output_type": "display_data",
       "png": "[encoded data removed]",
       "text": [
        "<matplotlib.figure.Figure at 0x7f0f43c85198>"
       ]
      }
     ],
     "prompt_number": 116
    },
    {
     "cell_type": "code",
     "collapsed": false,
     "input": [
      "intermedio = np.ma.masked_greater(taus, bins[8])\n",
      "primerCampana= intermedio.compressed()\n",
      "n_i, bins_i, patches_i= plt.hist(primerCampana, bins=20)\n",
      "primerCampana.size, primerCampana.mean(), errorEstandard(primerCampana)"
     ],
     "language": "python",
     "metadata": {},
     "outputs": [
      {
       "metadata": {},
       "output_type": "pyout",
       "prompt_number": 117,
       "text": [
        "(3549, 1.3161932938856012e-07, 1.0398255552918095e-11)"
       ]
      },
      {
       "metadata": {},
       "output_type": "display_data",
       "png": "[encoded data removed]",
       "text": [
        "<matplotlib.figure.Figure at 0x7f0f43dc9908>"
       ]
      }
     ],
     "prompt_number": 117
    },
    {
     "cell_type": "code",
     "collapsed": false,
     "input": [],
     "language": "python",
     "metadata": {},
     "outputs": []
    }
   ],
   "metadata": {}
  }
 ]
}