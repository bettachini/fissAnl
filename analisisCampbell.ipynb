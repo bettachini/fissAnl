{
 "metadata": {
  "name": "",
  "signature": "sha256:662b51c7b6287f230234e7e26d143620eb6bcdcc09c44866cdf96e09b9b66989"
 },
 "nbformat": 3,
 "nbformat_minor": 0,
 "worksheets": [
  {
   "cells": [
    {
     "cell_type": "code",
     "collapsed": false,
     "input": [
      "import matplotlib\n",
      "import numpy as np\n",
      "import matplotlib.pyplot as plt\n",
      "%matplotlib inline\n",
      "# coding=utf-8\n",
      "\n",
      "import time\n",
      "\n",
      "# refresca de lo importado cada vez que se hace ejecuci\u00f3n\n",
      "# %load_ext autoreload\n",
      "# %autoreload 2\n",
      "\n",
      "path= './data/'"
     ],
     "language": "python",
     "metadata": {},
     "outputs": []
    },
    {
     "cell_type": "markdown",
     "metadata": {},
     "source": [
      "# Graficaci\u00f3n, funciones"
     ]
    },
    {
     "cell_type": "code",
     "collapsed": false,
     "input": [
      "def darstellungNurZwei(T, Meas2, sav= None):\n",
      "    '''\n",
      "    T: times vector\n",
      "    Meas2: Both channels 2D array\n",
      "    sav: plot filename (eps)\n",
      "    '''\n",
      "        \n",
      "    fig, (ax0, ax1) = plt.subplots(nrows=2, sharex=True)\n",
      "    fig.set_size_inches(10,8)\n",
      "    fig.subplots_adjust(hspace=0.000)\n",
      "\n",
      "    ax0.plot(T, Meas2[0,:], 'y')\n",
      "    # Make the y-axis label and tick labels match the line color.\n",
      "    ax0.set_ylabel('ch 1 [V]', color='y')\n",
      "    ax0.grid(True)\n",
      "\n",
      "    ax1.plot(T, Meas2[1,:], 'c')\n",
      "    ax1.set_ylabel('ch 2 [V]', color='c')\n",
      "    ax1.set_xlabel('tiempo [s]')\n",
      "    ax1.grid(True)\n",
      "    \n",
      "    if (sav):\n",
      "        plt.savefig('./data/plots/'+ sav+ '.eps')\n",
      "    else:\n",
      "        plt.show()"
     ],
     "language": "python",
     "metadata": {},
     "outputs": [],
     "prompt_number": 34
    },
    {
     "cell_type": "code",
     "collapsed": false,
     "input": [
      "# lee archivo npy en la ruta datei y grafica cada medici\u00f3n\n",
      "def dateiDarstellung(datei, sav= None):\n",
      "    '''\n",
      "    str -> ()\n",
      "    \n",
      "    De un archivo npy grafica cada medici\u00f3n (\u00edndice), ambos canales.\n",
      "    '''\n",
      "    lu= np.load(datei)\n",
      "    zeit= lu[0]\n",
      "    messungenZahl= lu.shape[0]\n",
      "    for i in range(1, messungenZahl, 2):\n",
      "        ix= int((i-1)/2)\n",
      "        print('medici\u00f3n = '+ str(ix), ', \u00edndiceCH1= '+ str(i))\n",
      "        Meas2= np.vstack([lu[i], lu[i+1]])\n",
      "        if (sav):\n",
      "            savi= sav+ str(i)\n",
      "            darstellungNurZwei(zeit, Meas2, savi)\n",
      "        else:\n",
      "            darstellungNurZwei(zeit, Meas2)"
     ],
     "language": "python",
     "metadata": {},
     "outputs": [],
     "prompt_number": 35
    },
    {
     "cell_type": "markdown",
     "metadata": {},
     "source": [
      "# Risetime, funciones"
     ]
    },
    {
     "cell_type": "code",
     "collapsed": false,
     "input": [
      "def baseAcq(acqFile, prop=0.25):\n",
      "    '''\n",
      "    (array, float) -> array\n",
      "    \n",
      "    De la primer fracci\u00f3n prop de ambos canales de todas las adquisiciones en acqFile,\n",
      "    obtiene el promedio y dispersi\u00f3n que se asume como nivel de base\n",
      "    grProm[0]: promedio ch1, grProm[1]: promedio ch2,\n",
      "    grProm[2]: desviaci\u00f3n estandard ch1, grProm[3]: desviaci\u00f3n estandard ch2\n",
      "    '''\n",
      "    messungenZahl= acqFile.shape\n",
      "    erstePunkten= int(messungenZahl[1]* prop)\n",
      "    prom= np.zeros([int((messungenZahl[0]- 1)/ 2), 4])\n",
      "    for i in range(1, messungenZahl[0], 2):\n",
      "        ix= int((i-1)/2)\n",
      "        ch1Erste= acqFile[i][0:erstePunkten-1]\n",
      "        ch2Erste= acqFile[i+1][0:erstePunkten-1]\n",
      "        prom[ix,0]= ch1Erste.mean()\n",
      "        prom[ix,1]= ch2Erste.mean()\n",
      "        prom[ix,2]= ch1Erste.std()\n",
      "        prom[ix,3]= ch2Erste.std()\n",
      "    return prom"
     ],
     "language": "python",
     "metadata": {},
     "outputs": [],
     "prompt_number": 36
    },
    {
     "cell_type": "code",
     "collapsed": false,
     "input": [
      "def baseMeas2(Meas2, messungenZahl, prop=0.25):\n",
      "    '''\n",
      "    (array, array, float) -> array\n",
      "    \n",
      "    De la primer fracci\u00f3n prop de ambos canales en Meas2,\n",
      "    obtiene el promedio y dispersi\u00f3n que se asume como nivel de base\n",
      "    grProm[0]: promedio ch1, grProm[1]: promedio ch2,\n",
      "    grProm[2]: desviaci\u00f3n estandard ch1, grProm[3]: desviaci\u00f3n estandard ch2\n",
      "    '''\n",
      "    erstePunkten= int(messungenZahl[1]* prop)\n",
      "    ch1Erste= Meas2[0][0:erstePunkten-1]\n",
      "    ch2Erste= Meas2[1][0:erstePunkten-1]\n",
      "    return np.array([ch1Erste.mean(), ch2Erste.mean(), ch1Erste.std(), ch2Erste.std() ] )"
     ],
     "language": "python",
     "metadata": {},
     "outputs": [],
     "prompt_number": 37
    },
    {
     "cell_type": "code",
     "collapsed": false,
     "input": [
      "def ixTauCeti2(Meas2, messungenZahl, prop):\n",
      "    '''\n",
      "    Calcula \u00edndices risetime como tiempo entre 10% y 90% de excursi\u00f3n entre nivel de base y m\u00e1ximo\n",
      "   \n",
      "    Meas2: array (2,:) con Meas2[0] canal 1, Meas2[0] canal 2, producto de np.vstack\n",
      "    baseMeas2: base(Meas2)\n",
      "    '''\n",
      "    # niveles base\n",
      "    bMeas2= baseMeas2(Meas2, messungenZahl, prop)\n",
      "\n",
      "    # \u00edndice m\u00e1ximo\n",
      "    maxIx= (Meas2[0].argmax(), Meas2[1].argmax() )\n",
      "\n",
      "    # m\u00e1ximo promediado cercano\n",
      "    rangoCercano= 20 # tres lecturas a izq y derecha\n",
      "    maxCH1= (Meas2[0][maxIx[0]- rangoCercano: maxIx[0]+ rangoCercano]).mean()\n",
      "    maxCH2= (Meas2[1][maxIx[1]- rangoCercano: maxIx[1]+ rangoCercano]).mean()\n",
      "\n",
      "    # diferencia m\u00e1ximo- base\n",
      "    # maxCH1= Meas2[0][maxIx[0]] # max CH1\n",
      "    # maxCH2= Meas2[1][maxIx[1]] # max CH2\n",
      "    # deltaV= np.array([Meas2[0][maxIx[0]]- bMeas2[0], Meas2[1][maxIx[1]]- bMeas2[1]])\n",
      "    deltaV= np.array([maxCH1- bMeas2[0],maxCH2- bMeas2[1]]) # usa promediado cercano\n",
      "\n",
      "    # Diferencias de potencial para 10%, 90% de excursi\u00f3n\n",
      "    v10= bMeas2[0:2]+ 0.1* deltaV\n",
      "    v90= bMeas2[0:2]+ 0.9* deltaV\n",
      "\n",
      "    # \u00cdndices para primer potencial del pulso que exceda 10%, y \u00faltimo por debajo 90% \n",
      "    ixTau= np.array([0, 0, maxIx[0], maxIx[1]])\n",
      "    while (Meas2[0,ixTau[0]]< v10[0]):\n",
      "        ixTau[0]+= 1\n",
      "    while (Meas2[1,ixTau[1]]< v10[1]):\n",
      "        ixTau[1]+= 1\n",
      "    while (Meas2[0,ixTau[2]]> v90[0]):\n",
      "        ixTau[2]-= 1\n",
      "    while (Meas2[1,ixTau[3]]> v90[1]):\n",
      "        ixTau[3]-= 1\n",
      "        \n",
      "    return ixTau"
     ],
     "language": "python",
     "metadata": {},
     "outputs": [],
     "prompt_number": 38
    },
    {
     "cell_type": "code",
     "collapsed": false,
     "input": [
      "def tauCeti2(T, Meas2, messungenZahl, prop):\n",
      "    '''\n",
      "    Calcula risetime como tiempo entre 10% y 90% de excursi\u00f3n entre nivel de base y m\u00e1ximo\n",
      "   \n",
      "    T: vector de tiempos\n",
      "    Meas2: array (2,:) con Meas2[0] canal 1, Meas2[0] canal 2, producto de np.vstack\n",
      "    baseMeas2: base(Meas2)\n",
      "    '''\n",
      "    ixTau= ixTauCeti2(Meas2, messungenZahl, prop)\n",
      "    return np.array([T[ixTau[2]]- T[ixTau[0]], T[ixTau[3]]- T[ixTau[1]] ])"
     ],
     "language": "python",
     "metadata": {},
     "outputs": [],
     "prompt_number": 39
    },
    {
     "cell_type": "code",
     "collapsed": false,
     "input": [
      "def tauAMC2(acqData, prop= 0.25):\n",
      "    '''\n",
      "    Genera vectores de promedio y dispersi\u00f3n del risetime de ambos canales a partir de archivo acq*\n",
      "    \n",
      "    archivo: acq* \n",
      "    prop= porcentaje inferior del canal a promediar para obtener nivel de base     \n",
      "    '''\n",
      "    # promedio de niveles de base\n",
      "    messungenZahl= acqData.shape\n",
      "\n",
      "    # tiempo\n",
      "    T= acqData[0]\n",
      "\n",
      "    tauAMC= np.empty([int((messungenZahl[0]- 1)/ 2), 1])\n",
      "    for i in range(1, messungenZahl[0], 2):\n",
      "        Meas2= np.array([acqData[i], acqData[i+1] ] )\n",
      "        ix= int((i-1)/2)\n",
      "        tauAMC[ix]= tauCeti2(T, Meas2, messungenZahl, prop)[1]\n",
      "    return tauAMC"
     ],
     "language": "python",
     "metadata": {},
     "outputs": [],
     "prompt_number": 40
    },
    {
     "cell_type": "markdown",
     "metadata": {},
     "source": [
      "## Verificaci\u00f3n funciones base y tauCeti"
     ]
    },
    {
     "cell_type": "code",
     "collapsed": false,
     "input": [
      "# archivo de ensayo\n",
      "acqFile= np.load(path+ 'acq150429n01.npy')\n",
      "prop= 0.25 # proporci\u00f3n primeros puntos nivel de base"
     ],
     "language": "python",
     "metadata": {},
     "outputs": [],
     "prompt_number": 94
    },
    {
     "cell_type": "code",
     "collapsed": false,
     "input": [
      "# genera Meas2 primer lectura i\n",
      "i= 1\n",
      "Meas2= np.vstack([acqFile[i],acqFile[i+1]])\n",
      "T= acqFile[0]"
     ],
     "language": "python",
     "metadata": {},
     "outputs": [],
     "prompt_number": 95
    },
    {
     "cell_type": "code",
     "collapsed": false,
     "input": [
      "# auxiliares\n",
      "messungenZahl= acqFile.shape\n",
      "erstePunkten= int(messungenZahl[1]* prop)\n",
      "\n",
      "# \u00edndice m\u00e1ximo\n",
      "maxCH1_index= Meas2[0].argmax()\n",
      "maxCH2_index= Meas2[1].argmax()"
     ],
     "language": "python",
     "metadata": {},
     "outputs": [],
     "prompt_number": 96
    },
    {
     "cell_type": "code",
     "collapsed": false,
     "input": [
      "# niveles base\n",
      "bMeas2= baseMeas2(Meas2, messungenZahl, prop)\n",
      "\n",
      "# \u00edndice m\u00e1ximo\n",
      "maxIx= (Meas2[0].argmax(), Meas2[1].argmax() )\n",
      "\n",
      "# m\u00e1ximo promediado cercano\n",
      "rangoCercano= 20 # tres lecturas a izq y derecha\n",
      "maxCH1= (Meas2[0][maxIx[0]- rangoCercano: maxIx[0]+ rangoCercano]).mean()\n",
      "maxCH2= (Meas2[1][maxIx[1]- rangoCercano: maxIx[1]+ rangoCercano]).mean()\n",
      "\n",
      "# diferencia m\u00e1ximo- base\n",
      "# maxCH1= Meas2[0][maxIx[0]] # max CH1\n",
      "# maxCH2= Meas2[1][maxIx[1]] # max CH2\n",
      "# deltaV= np.array([Meas2[0][maxIx[0]]- bMeas2[0], Meas2[1][maxIx[1]]- bMeas2[1]])\n",
      "deltaV= np.array([maxCH1- bMeas2[0],maxCH2- bMeas2[1]]) # usa promediado cercano\n",
      "\n",
      "# Diferencias de potencial para 10%, 90% de excursi\u00f3n\n",
      "v10= bMeas2[0:2]+ 0.1* deltaV\n",
      "v90= bMeas2[0:2]+ 0.9* deltaV\n",
      "\n",
      "# \u00cdndices para primer potencial del pulso que exceda 10%, y \u00faltimo por debajo 90% \n",
      "ixTau= np.array([0, 0, maxIx[0], maxIx[1]])\n",
      "while (Meas2[0,ixTau[0]]< v10[0]):\n",
      "    ixTau[0]+= 1\n",
      "while (Meas2[1,ixTau[1]]< v10[1]):\n",
      "    ixTau[1]+= 1\n",
      "while (Meas2[0,ixTau[2]]> v90[0]):\n",
      "    ixTau[2]-= 1\n",
      "while (Meas2[1,ixTau[3]]> v90[1]):\n",
      "    ixTau[3]-= 1"
     ],
     "language": "python",
     "metadata": {},
     "outputs": [],
     "prompt_number": 97
    },
    {
     "cell_type": "code",
     "collapsed": false,
     "input": [
      "# obtiene nivel base primer lectura\n",
      "# grProm= baseAcq(acqFile, prop)[0]\n",
      "grProm= baseMeas2(Meas2, messungenZahl, prop)"
     ],
     "language": "python",
     "metadata": {},
     "outputs": [],
     "prompt_number": 98
    },
    {
     "cell_type": "code",
     "collapsed": false,
     "input": [
      "# Gr\u00e1fica max, nivel cero, etc.\n",
      "fig, (ax0, ax1) = plt.subplots(nrows=2, sharex=True)\n",
      "fig.set_size_inches(10,8)\n",
      "fig.subplots_adjust(hspace=0.000)\n",
      "\n",
      "ax0.plot(T, Meas2[0,:], 'y')\n",
      "# Make the y-axis label and tick labels match the line color.\n",
      "ax0.set_ylabel('ch 1 [V]', color='y')\n",
      "ax0.grid(True)\n",
      "\n",
      "ax1.plot(T, Meas2[1,:], 'c')\n",
      "ax1.set_ylabel('ch 2 [V]', color='c')\n",
      "ax1.set_xlabel('tiempo [s]')\n",
      "ax1.grid(True)\n",
      "\n",
      "# zero level lines\n",
      "zeroT= T[0:(erstePunkten- 1)]\n",
      "zeroAx0= np.ones([erstePunkten- 1, 1])* grProm[0]\n",
      "zeroAx1= np.ones([erstePunkten- 1, 1])* grProm[1]\n",
      "ax0.plot(zeroT, zeroAx0, 'k-')\n",
      "ax1.plot(zeroT, zeroAx1, 'k-')\n",
      "\n",
      "# marks maxima\n",
      "ax0.scatter(T[maxCH1_index], maxCH1, marker='o') # con promediado cercano\n",
      "ax1.scatter(T[maxCH2_index], maxCH2, marker='o')\n",
      "# ax0.scatter(T[maxCH1_index], Meas2[0,:][maxCH1_index], marker='o') # sin promediado cercano\n",
      "# ax1.scatter(T[maxCH2_index], Meas2[1,:][maxCH2_index], marker='o')\n",
      "# risetime FLUC\n",
      "ax0.scatter(T[ixTau[0]], Meas2[0,:][ixTau[0]], marker='o')\n",
      "ax0.scatter(T[ixTau[2]], Meas2[0,:][ixTau[2]], marker='o')\n",
      "# risetime AMC\n",
      "ax1.scatter(T[ixTau[1]], Meas2[1,:][ixTau[1]], marker='o')\n",
      "ax1.scatter(T[ixTau[3]], Meas2[1,:][ixTau[3]], marker='o')\n",
      "\n",
      "plt.show()"
     ],
     "language": "python",
     "metadata": {},
     "outputs": [
      {
       "metadata": {},
       "output_type": "display_data",
       "png": "[encoded data removed]",
       "text": [
        "<matplotlib.figure.Figure at 0x7f17523be048>"
       ]
      }
     ],
     "prompt_number": 99
    },
    {
     "cell_type": "markdown",
     "metadata": {},
     "source": [
      "Se ve que para acq150429n01[i=1] el risetime AMC es poco menos de 200E-7"
     ]
    },
    {
     "cell_type": "code",
     "collapsed": false,
     "input": [
      "tau1= tauCeti2(T, Meas2, messungenZahl, prop=0.25)\n",
      "tau1"
     ],
     "language": "python",
     "metadata": {},
     "outputs": [
      {
       "metadata": {},
       "output_type": "pyout",
       "prompt_number": 102,
       "text": [
        "array([  4.94000000e-07,   1.76800000e-07])"
       ]
      }
     ],
     "prompt_number": 102
    },
    {
     "cell_type": "markdown",
     "metadata": {},
     "source": [
      "Veo si tauAMC trabaja bien dando tau1[1] para la primer adquisici\u00f3n de acq150429n01 "
     ]
    },
    {
     "cell_type": "code",
     "collapsed": false,
     "input": [
      "acqData= np.load(path+ 'acq150429n01.npy')\n",
      "jaune= tauAMC2(acqData)"
     ],
     "language": "python",
     "metadata": {},
     "outputs": []
    },
    {
     "cell_type": "code",
     "collapsed": false,
     "input": [
      "jaune[0]"
     ],
     "language": "python",
     "metadata": {},
     "outputs": []
    },
    {
     "cell_type": "markdown",
     "metadata": {},
     "source": [
      "#Osciloscopio promedio 128"
     ]
    },
    {
     "cell_type": "code",
     "collapsed": false,
     "input": [
      "# mayor adquisici\u00f3n\n",
      "ap= np.load('./data/acq150429n01.npy')\n",
      "ap.shape"
     ],
     "language": "python",
     "metadata": {},
     "outputs": [
      {
       "metadata": {},
       "output_type": "pyout",
       "prompt_number": 14,
       "text": [
        "(30001, 2500)"
       ]
      }
     ],
     "prompt_number": 14
    },
    {
     "cell_type": "code",
     "collapsed": false,
     "input": [
      "# 150505 an\u00e1lisis\n",
      "# datos: # 150505n01.npy, Presi\u00f3n= 3.005 kgf/cm^2\n",
      "sendero= './data/'\n",
      "archivoPromediosOsc= 'osc150505n01.npy' # \n",
      "archivoTriggers= 'trg150505n01.npy'\n",
      "promediosOsc= np.load(sendero+ archivoPromediosOsc)\n",
      "triggers= np.load(sendero+ archivoTriggers)\n",
      "\n",
      "siz= promediosOsc.shape\n",
      "anl= np.empty([siz[0],4])\n",
      "for i in range(siz[0]):\n",
      "    anl[i]= [i, triggers[i], promediosOsc[i].mean(), promediosOsc[i].std()]\n",
      "    print(anl[i] )"
     ],
     "language": "python",
     "metadata": {},
     "outputs": [
      {
       "output_type": "stream",
       "stream": "stdout",
       "text": [
        "[  0.00000000e+00   1.04000000e+00   1.99120000e-07   8.37481940e-09]\n",
        "[  1.00000000e+00   1.28000000e+00   1.84880000e-07   5.63645279e-09]\n",
        "[  2.00000000e+00   1.52000000e+00   1.94760000e-07   8.33393065e-09]\n",
        "[  3.00000000e+00   1.76000000e+00   1.97200000e-07   4.80998960e-09]\n",
        "[  4.00000000e+00   2.00000000e+00   1.92240000e-07   6.16882485e-09]\n",
        "[  5.00000000e+00   2.24000000e+00   1.88320000e-07   2.75855034e-09]\n",
        "[  6.00000000e+00   2.48000000e+00   1.95480000e-07   1.96814634e-09]\n",
        "[  7.00000000e+00   2.72000000e+00   1.91280000e-07   3.88556302e-09]\n",
        "[  8.00000000e+00   3.04000000e+00   1.87120000e-07   5.37192703e-09]\n",
        "[  9.00000000e+00   3.28000000e+00   1.91040000e-07   4.85040205e-09]\n",
        "[  1.00000000e+01   3.52000000e+00   1.89520000e-07   3.45392530e-09]\n"
       ]
      }
     ],
     "prompt_number": 9
    },
    {
     "cell_type": "code",
     "collapsed": false,
     "input": [
      "# 150505 an\u00e1lisis\n",
      "# datos: 150428(cuaderno), Presi\u00f3n= 3.005 kgf/cm^2\n",
      "# TRG@1.44V\n",
      "promediosOsc150428= np.array([192.8,188.8,195.6,192.8,195.6,194.8,195.2,194.4])\n",
      "promediosOsc150428.mean(), promediosOsc150428.std()"
     ],
     "language": "python",
     "metadata": {},
     "outputs": [
      {
       "metadata": {},
       "output_type": "pyout",
       "prompt_number": 10,
       "text": [
        "(193.75000000000003, 2.1441781642391509)"
       ]
      }
     ],
     "prompt_number": 10
    },
    {
     "cell_type": "markdown",
     "metadata": {},
     "source": [
      "Los promedios de TRG=1.52V de 150505n01.npy[2] son indistinguibles de aquellos de TRG=1.44V de 150428(cuaderno).\n",
      "\n",
      "195\\pm9\\mathrm{ns} vs. 194\\pm3\\mathrm{ns} respectivamente"
     ]
    },
    {
     "cell_type": "markdown",
     "metadata": {},
     "source": [
      "# Histogramas"
     ]
    },
    {
     "cell_type": "code",
     "collapsed": false,
     "input": [
      "# archivo de 1280 adquisiciones, TRGAMC= \\si{1,52}{V},  Presi\u00f3n=\\si{3.560}{kgf/cm^2}\n",
      "current= np.load(path+ 'acq150428n07.npy')\n",
      "taus= tauAMC2(current)\n",
      "taus.size"
     ],
     "language": "python",
     "metadata": {},
     "outputs": [
      {
       "metadata": {},
       "output_type": "pyout",
       "prompt_number": 23,
       "text": [
        "1280"
       ]
      }
     ],
     "prompt_number": 23
    },
    {
     "cell_type": "code",
     "collapsed": false,
     "input": [
      "# destripar valores por sobre valle de histograma\n",
      "# quip=plt.hist(taus, bins=40, normed=False, histtype='stepfilled')\n",
      "n, bins, patches= plt.hist(taus, bins=40)"
     ],
     "language": "python",
     "metadata": {},
     "outputs": [
      {
       "metadata": {},
       "output_type": "display_data",
       "png": "[encoded data removed]",
       "text": [
        "<matplotlib.figure.Figure at 0x7f80bd6a9278>"
       ]
      }
     ],
     "prompt_number": 12
    },
    {
     "cell_type": "markdown",
     "metadata": {},
     "source": [
      "Para quedarme con la primer campana busco el valor m\u00e1ximo de esta. Me quedo con el bin 25"
     ]
    },
    {
     "cell_type": "code",
     "collapsed": false,
     "input": [
      "bins[13]"
     ],
     "language": "python",
     "metadata": {},
     "outputs": [
      {
       "metadata": {},
       "output_type": "pyout",
       "prompt_number": 14,
       "text": [
        "3.0616999999999999e-07"
       ]
      }
     ],
     "prompt_number": 14
    },
    {
     "cell_type": "markdown",
     "metadata": {},
     "source": [
      "Entonces buscar\u00eda recortar todo tau> 6.84E-7 de acq150428n07"
     ]
    },
    {
     "cell_type": "code",
     "collapsed": false,
     "input": [
      "intermedio = np.ma.masked_greater(taus, bins[9])\n",
      "primerCampana= intermedio.compressed()"
     ],
     "language": "python",
     "metadata": {},
     "outputs": [],
     "prompt_number": 20
    },
    {
     "cell_type": "markdown",
     "metadata": {},
     "source": [
      "Y el nuevo histograma muestra solo la primer campana"
     ]
    },
    {
     "cell_type": "code",
     "collapsed": false,
     "input": [
      "n1, bins1, patches1= plt.hist(primerCampana, bins=40)"
     ],
     "language": "python",
     "metadata": {},
     "outputs": [
      {
       "metadata": {},
       "output_type": "display_data",
       "png": "[encoded data removed]",
       "text": [
        "<matplotlib.figure.Figure at 0x7f80b7385438>"
       ]
      }
     ],
     "prompt_number": 21
    },
    {
     "cell_type": "markdown",
     "metadata": {},
     "source": [
      "Comparo entonces el valor promedio del risetime antes y despu\u00e9s de quitar la segunda campana"
     ]
    },
    {
     "cell_type": "code",
     "collapsed": false,
     "input": [
      "primerCampana.mean(), primerCampana.std(), taus.mean(), taus.std()"
     ],
     "language": "python",
     "metadata": {},
     "outputs": [
      {
       "metadata": {},
       "output_type": "pyout",
       "prompt_number": 22,
       "text": [
        "(1.8701651031894939e-07,\n",
        " 2.4161075121963097e-08,\n",
        " 2.1936062500000004e-07,\n",
        " 8.9168957320411533e-08)"
       ]
      }
     ],
     "prompt_number": 22
    },
    {
     "cell_type": "markdown",
     "metadata": {},
     "source": [
      "Veo una reducci\u00f3n de casi \\si{30}{ns}"
     ]
    },
    {
     "cell_type": "code",
     "collapsed": false,
     "input": [
      "# archivo de 1280 adquisiciones, TRGAMC= \\si{1,5}{V},  Presi\u00f3n=\\si{3.005}{kgf/cm^2}\n",
      "# acq150430n18\n",
      "\n",
      "# leo el dict para verificar \n",
      "dico= np.load('./data/sets150430n18.npy')\n",
      "dico.item()"
     ],
     "language": "python",
     "metadata": {},
     "outputs": [
      {
       "metadata": {},
       "output_type": "pyout",
       "prompt_number": 29,
       "text": [
        "{'MAIN:SCALE': '1.0E-7',\n",
        " ':VERBOSE': '1',\n",
        " 'HOLDOFF:VALUE': '5.0E-7',\n",
        " 'DATEPRINT': 'DEFLT',\n",
        " 'BANDWIDTH': 'ON',\n",
        " ':MEASUREMENT:MEAS1:TYPE': 'RISE',\n",
        " 'SYNC': 'FIELD',\n",
        " 'DESTINATION': 'REFA',\n",
        " 'INKSAVER': 'ON',\n",
        " 'POLARITY': 'NORMAL',\n",
        " ':SELECT:CH1': '1',\n",
        " ':MEASUREMENT:IMMED:TYPE': 'PERIOD',\n",
        " ':HORIZONTAL:DELAY:SCALE': '1.0E-8',\n",
        " ':CH1:PROBE': '1.0E0',\n",
        " 'REFA': '0',\n",
        " 'PRINTQUAL': 'DEFLT',\n",
        " ':LOCK': 'NONE',\n",
        " 'STOPAFTER': 'SEQUENCE',\n",
        " 'WHEN': 'NOTEQUAL',\n",
        " 'ESPECTRO': '160430v3',\n",
        " 'REFB': '0',\n",
        " 'NUMAVG': '128',\n",
        " 'YUNIT': '\"V\"',\n",
        " ':MEASUREMENT:MEAS4:TYPE': 'NONE',\n",
        " 'PERSISTENCE': '0',\n",
        " 'WIDTH': '1.03E-3',\n",
        " ':AUTORANGE:SETTINGS': 'BOTH',\n",
        " ':TRIGGER:MAIN:PULSE:SOURCE': 'CH2',\n",
        " 'LINE': '1',\n",
        " ':MATH:DEFINE': '\"CH1+CH2\"',\n",
        " 'START': '1',\n",
        " ':MEASUREMENT:METHOD': 'AUTO',\n",
        " 'TYPE': 'EDGE',\n",
        " 'STOP': '2500',\n",
        " ':PICTBRIDGE:PAPERSIZE': 'DEFLT',\n",
        " 'IDPRINT': 'DEFLT',\n",
        " ':TRIGGER:MAIN:EDGE:SOURCE': 'CH2',\n",
        " 'HV': '400',\n",
        " ':CURSOR:VBARS:UNITS': 'SECONDS',\n",
        " 'CONTRAST': '54',\n",
        " 'STANDARD': 'NTSC',\n",
        " 'COUPLING': 'DC',\n",
        " ':TRIGGER:MAIN:LEVEL': '1.52E0',\n",
        " 'INVERT': 'OFF',\n",
        " ':CURSOR:HBARS:POSITION1': '5.16E0',\n",
        " 'FUENTE': 'Canberra2025',\n",
        " ':ACQUIRE:MODE': 'PEAKDETECT',\n",
        " 'SOURCE1': 'CH1',\n",
        " ':SAVE:IMAGE:FILEFORMAT': 'EPSIMAGE',\n",
        " 'ELECTRONICA': 'Luis',\n",
        " ':DATA:ENCDG': 'RIBINARY',\n",
        " ':MATH:FFT:VERTICAL:POSITION': '0.0E0',\n",
        " 'PORT': 'USB',\n",
        " ':MEASUREMENT:MEAS3:TYPE': 'NONE',\n",
        " ':HARDCOPY:BUTTON': 'SAVESALL',\n",
        " 'SOURCE': 'CH1',\n",
        " 'IMAGESIZE': 'DEFLT',\n",
        " 'POSITION2': '1.48E0',\n",
        " ':MATH:FFT:HORIZONTAL:POSITION': '5.0E1',\n",
        " 'POSITION': '8.0E-8',\n",
        " ':TRIGGER:MAIN:VIDEO:SOURCE': 'CH2',\n",
        " 'WIDTH:POLARITY': 'POSITIVE',\n",
        " ':CH2:PROBE': '1.0E0',\n",
        " 'CH2': '1',\n",
        " ':MEASUREMENT:MEAS2:TYPE': 'NONE',\n",
        " 'SELECT:SOURCE': 'CH2',\n",
        " 'PRESION_N2': '0',\n",
        " ':DISPLAY:FORMAT': 'YT',\n",
        " 'CAMARA': 'Campbelliano',\n",
        " ':LANGUAGE': 'SPANISH',\n",
        " 'STATE': '0',\n",
        " 'LAYOUT': 'PORTRAIT',\n",
        " 'MATH': '0',\n",
        " ':CURSOR:FUNCTION': 'HBARS',\n",
        " 'STYLE': 'VECTORS',\n",
        " 'SLOPE': 'RISE',\n",
        " ':HORIZONTAL:VIEW': 'MAIN',\n",
        " 'PRESION_AR': '3.005',\n",
        " 'CURRENTPROBE': '1.0E1',\n",
        " 'POSITION1': '-4.36E-7',\n",
        " 'PAPERTYPE': 'DEFLT',\n",
        " 'SCALE': '1.0E0',\n",
        " 'VERTICAL:POSITION': '0.0E0',\n",
        " 'FORMAT': 'EPSIMAGE',\n",
        " ':MEASUREMENT:MEAS5:TYPE': 'NONE',\n",
        " ':TRIGGER:MAIN:MODE': 'NORMAL'}"
       ]
      }
     ],
     "prompt_number": 29
    },
    {
     "cell_type": "markdown",
     "metadata": {},
     "source": [
      "TRG -> \\si{1,52}{V} por lo que son compabrables"
     ]
    },
    {
     "cell_type": "code",
     "collapsed": false,
     "input": [
      "segundaPresion= np.load('./data/acq150430n18.npy')"
     ],
     "language": "python",
     "metadata": {},
     "outputs": [],
     "prompt_number": 30
    },
    {
     "cell_type": "code",
     "collapsed": false,
     "input": [
      "taus2= tauAMC2(segundaPresion)\n",
      "taus2.size"
     ],
     "language": "python",
     "metadata": {},
     "outputs": [
      {
       "metadata": {},
       "output_type": "pyout",
       "prompt_number": 45,
       "text": [
        "128"
       ]
      }
     ],
     "prompt_number": 45
    },
    {
     "cell_type": "code",
     "collapsed": false,
     "input": [
      "n2, bins2, patches2= plt.hist(taus2, bins=40)"
     ],
     "language": "python",
     "metadata": {},
     "outputs": [
      {
       "metadata": {},
       "output_type": "display_data",
       "png": "[encoded data removed]",
       "text": [
        "<matplotlib.figure.Figure at 0x7f80b725b828>"
       ]
      }
     ],
     "prompt_number": 46
    },
    {
     "cell_type": "markdown",
     "metadata": {},
     "source": [
      "Son pocas cuentas para hacer la estad\u00edstica... Recorto en id\u00e9ntico nivel que en la adquisici\u00f3n con mayor presi\u00f3n"
     ]
    },
    {
     "cell_type": "code",
     "collapsed": false,
     "input": [
      "intermedio2 = np.ma.masked_greater(taus2, bins[9])\n",
      "primerCampana2= intermedio2.compressed()"
     ],
     "language": "python",
     "metadata": {},
     "outputs": [],
     "prompt_number": 47
    },
    {
     "cell_type": "code",
     "collapsed": false,
     "input": [
      "n2r, bins2r, patches2r= plt.hist(primerCampana2, bins=40)"
     ],
     "language": "python",
     "metadata": {},
     "outputs": [
      {
       "metadata": {},
       "output_type": "display_data",
       "png": "[encoded data removed]",
       "text": [
        "<matplotlib.figure.Figure at 0x7f80b720a6d8>"
       ]
      }
     ],
     "prompt_number": 48
    },
    {
     "cell_type": "code",
     "collapsed": false,
     "input": [
      "primerCampana2.mean(), primerCampana2.std(), taus2.mean(), taus2.std()"
     ],
     "language": "python",
     "metadata": {},
     "outputs": [
      {
       "metadata": {},
       "output_type": "pyout",
       "prompt_number": 49,
       "text": [
        "(1.861358490566039e-07,\n",
        " 2.2777538541619282e-08,\n",
        " 2.221281250000002e-07,\n",
        " 9.8986627046204438e-08)"
       ]
      }
     ],
     "prompt_number": 49
    },
    {
     "cell_type": "markdown",
     "metadata": {},
     "source": [
      "Hice 1280 adqusiciones con igual trigger con la presi\u00f3n nueva (m\u00e1s baja): acq150508n01"
     ]
    },
    {
     "cell_type": "code",
     "collapsed": false,
     "input": [
      "acq150508n01= np.load('./data/acq150508n01.npy')"
     ],
     "language": "python",
     "metadata": {},
     "outputs": [],
     "prompt_number": 51
    },
    {
     "cell_type": "code",
     "collapsed": false,
     "input": [
      "taus3= tauAMC2(acq150508n01)\n",
      "taus3.size"
     ],
     "language": "python",
     "metadata": {},
     "outputs": [
      {
       "metadata": {},
       "output_type": "pyout",
       "prompt_number": 52,
       "text": [
        "1280"
       ]
      }
     ],
     "prompt_number": 52
    },
    {
     "cell_type": "code",
     "collapsed": false,
     "input": [
      "n3, bins3, patches3= plt.hist(taus3, bins=40)"
     ],
     "language": "python",
     "metadata": {},
     "outputs": [
      {
       "metadata": {},
       "output_type": "display_data",
       "png": "[encoded data removed]",
       "text": [
        "<matplotlib.figure.Figure at 0x7f80b72b4c18>"
       ]
      }
     ],
     "prompt_number": 54
    },
    {
     "cell_type": "code",
     "collapsed": false,
     "input": [
      "intermedio3 = np.ma.masked_greater(taus3, bins[9])\n",
      "primerCampana3= intermedio3.compressed()"
     ],
     "language": "python",
     "metadata": {},
     "outputs": [],
     "prompt_number": 55
    },
    {
     "cell_type": "code",
     "collapsed": false,
     "input": [
      "n3r, bins3r, patches3r= plt.hist(primerCampana3, bins=40)"
     ],
     "language": "python",
     "metadata": {},
     "outputs": [
      {
       "metadata": {},
       "output_type": "display_data",
       "png": "[encoded data removed]",
       "text": [
        "<matplotlib.figure.Figure at 0x7f80b73273c8>"
       ]
      }
     ],
     "prompt_number": 56
    },
    {
     "cell_type": "code",
     "collapsed": false,
     "input": [
      "primerCampana3.mean(), primerCampana3.std(), taus3.mean(), taus3.std()"
     ],
     "language": "python",
     "metadata": {},
     "outputs": [
      {
       "metadata": {},
       "output_type": "pyout",
       "prompt_number": 57,
       "text": [
        "(1.8619575856443732e-07,\n",
        " 2.3731247734605508e-08,\n",
        " 5.228531249999998e-07,\n",
        " 3.934210911863199e-07)"
       ]
      }
     ],
     "prompt_number": 57
    },
    {
     "cell_type": "markdown",
     "metadata": {},
     "source": [
      "Vaciamos la c\u00e1mara, Presi\u00f3n=\\si{1}{atm}, esperando ver un cambio apreciable.\n",
      "Nuevamente hago unas 1280 adquisiciones"
     ]
    },
    {
     "cell_type": "code",
     "collapsed": false,
     "input": [
      "acq150508n02= np.load('./data/acq150508n02.npy')\n",
      "taus4= tauAMC2(acq150508n02)\n",
      "taus4.size"
     ],
     "language": "python",
     "metadata": {},
     "outputs": [
      {
       "metadata": {},
       "output_type": "pyout",
       "prompt_number": 59,
       "text": [
        "1280"
       ]
      }
     ],
     "prompt_number": 59
    },
    {
     "cell_type": "code",
     "collapsed": false,
     "input": [
      "n4, bins4, patches4= plt.hist(taus4, bins=40)"
     ],
     "language": "python",
     "metadata": {},
     "outputs": [
      {
       "metadata": {},
       "output_type": "display_data",
       "png": "[encoded data removed]",
       "text": [
        "<matplotlib.figure.Figure at 0x7f80bd13a9b0>"
       ]
      }
     ],
     "prompt_number": 60
    },
    {
     "cell_type": "code",
     "collapsed": false,
     "input": [
      "intermedio4 = np.ma.masked_greater(taus4, bins[9])\n",
      "primerCampana4= intermedio4.compressed()\n",
      "n4r, bins4r, patches4r= plt.hist(primerCampana4, bins=40)"
     ],
     "language": "python",
     "metadata": {},
     "outputs": [
      {
       "metadata": {},
       "output_type": "display_data",
       "png": "[encoded data removed]",
       "text": [
        "<matplotlib.figure.Figure at 0x7f80bcf5a358>"
       ]
      }
     ],
     "prompt_number": 61
    },
    {
     "cell_type": "code",
     "collapsed": false,
     "input": [
      "primerCampana4.mean(), primerCampana4.std(), taus4.mean(), taus4.std()"
     ],
     "language": "python",
     "metadata": {},
     "outputs": [
      {
       "metadata": {},
       "output_type": "pyout",
       "prompt_number": 62,
       "text": [
        "(1.3727095292766921e-07,\n",
        " 2.1677631233076023e-08,\n",
        " 3.2883906250000038e-07,\n",
        " 3.2985521545311469e-07)"
       ]
      }
     ],
     "prompt_number": 62
    },
    {
     "cell_type": "markdown",
     "metadata": {},
     "source": [
      "#Visi\u00f3n de pulsos"
     ]
    },
    {
     "cell_type": "code",
     "collapsed": false,
     "input": [
      "# datei= './data/acq150504n05.npy'\n",
      "# lu= np.load(datei)\n",
      "# zeit= lu[0]\n",
      "# messungenZahl= lu.shape[0]\n",
      "# i= 229\n",
      "# Meas2= np.vstack([lu[i], lu[i+1]])\n",
      "# darstellungNurZwei(zeit, Meas2, 'mochado')"
     ],
     "language": "python",
     "metadata": {},
     "outputs": [],
     "prompt_number": 1
    },
    {
     "cell_type": "code",
     "collapsed": false,
     "input": [
      "# dateiDarstellung('./data/acq150504n05.npy')"
     ],
     "language": "python",
     "metadata": {},
     "outputs": [],
     "prompt_number": 2
    },
    {
     "cell_type": "code",
     "collapsed": false,
     "input": [
      "1280*(6/10)/60"
     ],
     "language": "python",
     "metadata": {},
     "outputs": [
      {
       "metadata": {},
       "output_type": "pyout",
       "prompt_number": 13,
       "text": [
        "12.8"
       ]
      }
     ],
     "prompt_number": 13
    },
    {
     "cell_type": "code",
     "collapsed": false,
     "input": [
      "128*"
     ],
     "language": "python",
     "metadata": {},
     "outputs": []
    },
    {
     "cell_type": "code",
     "collapsed": false,
     "input": [
      "aux= np.empty([int((messungenZahl[0]- 1)/ 2), 1])\n"
     ],
     "language": "python",
     "metadata": {},
     "outputs": [],
     "prompt_number": 47
    },
    {
     "cell_type": "code",
     "collapsed": false,
     "input": [
      "# Histograma de alturas de pulsos\n",
      "messungenZahl= ap.shape\n",
      "messungen= int((ap.shape[0]-1)/2)\n",
      "max_val= np.empty([int(messungen/2), 2])\n",
      "for i in range(1, messungen, 2):\n",
      "    ix= int((i-1)/2)\n",
      "    # print (i, ix)\n",
      "    Meas2= np.array([ap[i],ap[i+1]])\n",
      "    maxCH1_index= Meas2[0].argmax()\n",
      "    maxCH2_index= Meas2[1].argmax()\n",
      "    max_val[ix, :]= np.array([Meas2[0][maxCH1_index], Meas2[1][maxCH2_index] ] )"
     ],
     "language": "python",
     "metadata": {},
     "outputs": [],
     "prompt_number": 109
    },
    {
     "cell_type": "code",
     "collapsed": false,
     "input": [
      "n, bins, patches = hist(max_val[:,1], bins=50, normed=True, histtype='stepfilled')"
     ],
     "language": "python",
     "metadata": {},
     "outputs": [
      {
       "metadata": {},
       "output_type": "display_data",
       "png": "[encoded data removed]",
       "text": [
        "<matplotlib.figure.Figure at 0x7fe0dcdb42b0>"
       ]
      }
     ],
     "prompt_number": 110
    },
    {
     "cell_type": "code",
     "collapsed": false,
     "input": [
      "# C: Centronix, N: campbelliano CNEA\n",
      "\n",
      "# Lecturas con osciloscopio\n",
      "Co=np.array([129.6, 128.4, 126.8])\n",
      "Co_prom= Co.mean()\n",
      "Co_desv= Co.std()\n",
      "No=np.array([197.2, 184.0, 192.4, 202.8])\n",
      "No_prom= No.mean()\n",
      "No_desv= No.std()\n",
      "\n",
      "# Lecturas manuales\n",
      "\n",
      "Cm_prom= np.array([157, 143])\n",
      "Cm_desv= np.array([74, 60])\n",
      "\n",
      "Nm_prom= np.array([212, 223, 215, 216])\n",
      "Nm_desv= np.array([58, 61, 60, 59])\n",
      "\n",
      "\n",
      "#varianza promedio pesado (asumo std^2 = varianza)\n",
      "# Frodesen 9.2.2\n",
      "Nm_varianzaPromedioPesado= 1/(Nm_desv[0]**(-2)+ Nm_desv[1]**(-2)+ Nm_desv[2]**(-2)+ Nm_desv[3]**(-2))\n",
      "Nm_promedioPesado= Nm_varianzaPromedioPesado* (Nm_prom[0]/ Nm_desv[0]**2 + Nm_prom[1]/ Nm_desv[1]**2+ Nm_prom[2]/ Nm_desv[2]**2+ Nm_prom[3]/ Nm_desv[3]**2)\n",
      "\n",
      "Cm_varianzaPromedioPesado= 1/(Cm_desv[0]**(-2)+ Cm_desv[1]**(-2) )\n",
      "Cm_promedioPesado= Cm_varianzaPromedioPesado* (Cm_prom[0]/ Cm_desv[0]**2 + Cm_prom[1]/ Cm_desv[1]**2)\n",
      "\n",
      "\n",
      "(Nm_promedioPesado, np.sqrt(Nm_varianzaPromedioPesado)), (Cm_promedioPesado, np.sqrt(Cm_varianzaPromedioPesado))"
     ],
     "language": "python",
     "metadata": {},
     "outputs": [
      {
       "metadata": {},
       "output_type": "pyout",
       "prompt_number": 55,
       "text": [
        "((216.36636048934449, 29.734241008292109),\n",
        " (148.55310709563685, 46.605344923170229))"
       ]
      }
     ],
     "prompt_number": 55
    },
    {
     "cell_type": "code",
     "collapsed": false,
     "input": [
      "No_desv"
     ],
     "language": "python",
     "metadata": {},
     "outputs": [
      {
       "metadata": {},
       "output_type": "pyout",
       "prompt_number": 52,
       "text": [
        "6.8956508032237265"
       ]
      }
     ],
     "prompt_number": 52
    },
    {
     "cell_type": "code",
     "collapsed": false,
     "input": [
      "# diferencia porcentual\n",
      "Cprop= (Co_prom/Cm_promedioPesado)\n",
      "CpropErr= Cprop* np.sqrt( (np.sqrt(Cm_varianzaPromedioPesado)/ Cm_promedioPesado)**2+ (Co_desv/ Co_prom)**2 )\n",
      "\n",
      "Nprop= (No_prom/Nm_promedioPesado)\n",
      "NpropErr= Nprop* np.sqrt( (np.sqrt(Nm_varianzaPromedioPesado)/ Nm_promedioPesado)**2+ (No_desv/ No_prom)**2 )"
     ],
     "language": "python",
     "metadata": {},
     "outputs": [],
     "prompt_number": 43
    },
    {
     "cell_type": "code",
     "collapsed": false,
     "input": [
      "# diferencia relativa tomando como base tiempo centronix\n",
      "\n",
      "difRelativaManualProm= (Nm_promedioPesado/ Cm_promedioPesado) -1\n",
      "# difRelativaManual= (Nm_promedioPesado- Cm_promedioPesado)/ Cm_promedioPesado\n",
      "difRelativaManualErr= difRelativaManualProm* np.sqrt( (np.sqrt(Nm_varianzaPromedioPesado)/ Nm_promedioPesado)**2+ (np.sqrt(Cm_varianzaPromedioPesado)/ Cm_promedioPesado)**2 )\n",
      "difRelativaManual= (difRelativaManualProm, difRelativaManualErr)\n",
      "\n",
      "difRelativaOsciloscopioProm= (No_prom/ Co_prom)- 1\n",
      "difRelativaOsciloscopioErr= difRelativaOsciloscopioProm* np.sqrt((No_desv/ No_prom)**2+ (Co_desv/ Co_prom)**2)\n",
      "difRelativaOsciloscopio= (difRelativaOsciloscopioProm, difRelativaOsciloscopioErr)\n",
      "\n",
      "difRelativaManual, difRelativaOsciloscopio\n"
     ],
     "language": "python",
     "metadata": {},
     "outputs": [
      {
       "metadata": {},
       "output_type": "pyout",
       "prompt_number": 54,
       "text": [
        "((0.45649165284742388, 0.15635177498218628),\n",
        " (0.51325363825363834, 0.018802731188444985))"
       ]
      }
     ],
     "prompt_number": 54
    },
    {
     "cell_type": "code",
     "collapsed": false,
     "input": [
      "(Cprop, CpropErr, Nprop, NpropErr)"
     ],
     "language": "python",
     "metadata": {},
     "outputs": [
      {
       "metadata": {},
       "output_type": "pyout",
       "prompt_number": 44,
       "text": [
        "(0.86343981068056708,\n",
        " 0.27099569751313657,\n",
        " 0.89708954553292941,\n",
        " 0.12733574314841548)"
       ]
      }
     ],
     "prompt_number": 44
    },
    {
     "cell_type": "code",
     "collapsed": false,
     "input": [
      "(128/194, 149/216)"
     ],
     "language": "python",
     "metadata": {},
     "outputs": [
      {
       "metadata": {},
       "output_type": "pyout",
       "prompt_number": 50,
       "text": [
        "(0.6597938144329897, 0.6898148148148148)"
       ]
      }
     ],
     "prompt_number": 50
    },
    {
     "cell_type": "code",
     "collapsed": false,
     "input": [
      "216/149"
     ],
     "language": "python",
     "metadata": {},
     "outputs": [
      {
       "metadata": {},
       "output_type": "pyout",
       "prompt_number": 51,
       "text": [
        "1.4496644295302012"
       ]
      }
     ],
     "prompt_number": 51
    },
    {
     "cell_type": "code",
     "collapsed": false,
     "input": [
      "plot(tira)"
     ],
     "language": "python",
     "metadata": {},
     "outputs": [
      {
       "metadata": {},
       "output_type": "pyout",
       "prompt_number": 23,
       "text": [
        "[<matplotlib.lines.Line2D at 0x7fe0dce5dbe0>]"
       ]
      },
      {
       "metadata": {},
       "output_type": "display_data",
       "png": "[encoded data removed]",
       "text": [
        "<matplotlib.figure.Figure at 0x7fe0dcefd898>"
       ]
      }
     ],
     "prompt_number": 23
    },
    {
     "cell_type": "code",
     "collapsed": false,
     "input": [
      "cosp[0]"
     ],
     "language": "python",
     "metadata": {},
     "outputs": [
      {
       "metadata": {},
       "output_type": "pyout",
       "prompt_number": 13,
       "text": [
        "array([ -8.00000000e-07,  -7.99600000e-07,  -7.99200000e-07, ...,\n",
        "         1.98800000e-07,   1.99200000e-07,   1.99600000e-07])"
       ]
      }
     ],
     "prompt_number": 13
    },
    {
     "cell_type": "code",
     "collapsed": false,
     "input": [
      "cosp=np.load('./data/acq250427c01.npy')"
     ],
     "language": "python",
     "metadata": {},
     "outputs": [],
     "prompt_number": 11
    },
    {
     "cell_type": "code",
     "collapsed": false,
     "input": [
      "tauAMC2.shape"
     ],
     "language": "python",
     "metadata": {},
     "outputs": [
      {
       "metadata": {},
       "output_type": "pyout",
       "prompt_number": 53,
       "text": [
        "(128, 1)"
       ]
      }
     ],
     "prompt_number": 53
    },
    {
     "cell_type": "code",
     "collapsed": false,
     "input": [
      "# Gr\u00e1fica max, nivel cero, etc.\n",
      "fig, (ax0, ax1) = plt.subplots(nrows=2, sharex=True)\n",
      "fig.set_size_inches(10,8)\n",
      "fig.subplots_adjust(hspace=0.000)\n",
      "\n",
      "ax0.plot(T, Meas2[0,:], 'y')\n",
      "# Make the y-axis label and tick labels match the line color.\n",
      "ax0.set_ylabel('ch 1 [V]', color='y')\n",
      "ax0.grid(True)\n",
      "\n",
      "ax1.plot(T, Meas2[1,:], 'c')\n",
      "ax1.set_ylabel('ch 2 [V]', color='c')\n",
      "ax1.set_xlabel('tiempo [s]')\n",
      "ax1.grid(True)\n",
      "\n",
      "# zero level lines\n",
      "zeroT= T[0:(erstePunkten- 1)]\n",
      "zeroAx0= np.ones([erstePunkten- 1, 1])* grProm[0]\n",
      "zeroAx1= np.ones([erstePunkten- 1, 1])* grProm[1]\n",
      "ax0.plot(zeroT, zeroAx0, 'k-')\n",
      "ax1.plot(zeroT, zeroAx1, 'k-')\n",
      "\n",
      "# marks maxima\n",
      "ax0.scatter(T[maxCH1_index], Meas2[0,:][maxCH1_index], marker='o')\n",
      "ax1.scatter(T[maxCH2_index], Meas2[1,:][maxCH2_index], marker='o')\n",
      "\n",
      "# risetime AMC\n",
      "ax1.scatter(T[iProcent10], Meas2[1,:][iProcent10], marker='o')\n",
      "ax1.scatter(T[iProcent90], Meas2[1,:][iProcent90], marker='o')\n",
      "\n",
      "plt.show()"
     ],
     "language": "python",
     "metadata": {},
     "outputs": [
      {
       "metadata": {},
       "output_type": "display_data",
       "png": "[encoded data removed]",
       "text": [
        "<matplotlib.figure.Figure at 0x7ffbbe7595c0>"
       ]
      }
     ],
     "prompt_number": 31
    },
    {
     "cell_type": "code",
     "collapsed": false,
     "input": [
      "np.empty([1,20])"
     ],
     "language": "python",
     "metadata": {},
     "outputs": [
      {
       "metadata": {},
       "output_type": "pyout",
       "prompt_number": 22,
       "text": [
        "array([[  6.94296430e-310,   6.94296430e-310,   0.00000000e+000,\n",
        "          0.00000000e+000,   6.94295803e-310,   6.01433264e+175,\n",
        "          6.93885958e+218,   5.56218858e+180,   1.50008929e+248,\n",
        "          4.50620083e-144,   5.22689326e-143,   1.26121663e-076,\n",
        "          2.80111144e-028,   2.00254076e-052,   1.47278601e+179,\n",
        "          8.37170573e-144,   7.96552446e-042,   3.21432403e-057,\n",
        "          7.11460415e-091,   3.11109440e-032]])"
       ]
      }
     ],
     "prompt_number": 22
    },
    {
     "cell_type": "code",
     "collapsed": false,
     "input": [
      "# C\u00e1mara Centronix, promedios de 128 pulsos, trigger@2,76VAMC, tiempos en ns \n",
      "F1=np.array([224,236,240,256,240,240,256,248,252,248])\n",
      "F2= np.array([692,692,696,700,692,696,712,700,700,696])\n",
      "A= np.array([228,244,236,228,240,244,244,232,224,240])\n",
      "\n",
      "[F1.mean(), F2.mean(), A.mean()]\n",
      "[F1.std(), F2.std(), A.std()]"
     ],
     "language": "python",
     "metadata": {},
     "outputs": [],
     "prompt_number": 31
    },
    {
     "cell_type": "markdown",
     "metadata": {},
     "source": [
      "#Secuencia autom\u00e1tica de lecturas"
     ]
    },
    {
     "cell_type": "code",
     "collapsed": false,
     "input": [
      "# grafica desde archivo\n",
      "datei= './data/150424p01.npy'\n",
      "dateiDarstellung(datei)"
     ],
     "language": "python",
     "metadata": {},
     "outputs": []
    },
    {
     "cell_type": "markdown",
     "metadata": {},
     "source": [
      "# A partir de aqu\u00ed son ensayos"
     ]
    },
    {
     "cell_type": "markdown",
     "metadata": {},
     "source": [
      "# Registro ac\u00e1 curvas t\u00edpicas"
     ]
    },
    {
     "cell_type": "code",
     "collapsed": false,
     "input": [
      "# Guardo un pulso de la salida FLUC\n",
      "FLUC= loadtxt('FLUC.dat', delimiter=',')\n",
      "# FLUC=(np.vstack([X,Y])).transpose()\n",
      "FLUC[:,1] # dif. potencial [v]\n",
      "FLUC[:,0] # tiempo [s]\n",
      "# savetxt('FLUC.dat', FLUC, fmt='%.3e', delimiter=',', newline='\\n')\n",
      "plt.grid()\n",
      "plt.xlabel('tiempo [s]')\n",
      "plt.ylabel('dif. potencial [v]')\n",
      "plt.plot(FLUC[:,0], FLUC[:,1])"
     ],
     "language": "python",
     "metadata": {},
     "outputs": [
      {
       "metadata": {},
       "output_type": "pyout",
       "prompt_number": 4,
       "text": [
        "[<matplotlib.lines.Line2D at 0x7f8e81bd6cf8>]"
       ]
      },
      {
       "metadata": {},
       "output_type": "display_data",
       "png": "[encoded data removed]",
       "text": [
        "<matplotlib.figure.Figure at 0x7f8e81bd6048>"
       ]
      }
     ],
     "prompt_number": 4
    },
    {
     "cell_type": "code",
     "collapsed": false,
     "input": [
      "# Guardo un pulso de la salida AMC\n",
      "Amc= loadtxt('Amc.dat', delimiter=',')\n",
      "# Amc=(np.vstack([X,Y])).transpose()\n",
      "Amc[:,1] # dif. potencial [v]\n",
      "Amc[:,0] # tiempo [s]\n",
      "# savetxt('Amc.dat', Amc, fmt='%.3e', delimiter=',', newline='\\n')\n",
      "plt.grid()\n",
      "plt.xlabel('tiempo [s]')\n",
      "plt.ylabel('dif. potencial [v]')\n",
      "plt.plot(Amc[:,0], Amc[:,1])"
     ],
     "language": "python",
     "metadata": {},
     "outputs": [
      {
       "metadata": {},
       "output_type": "pyout",
       "prompt_number": 4,
       "text": [
        "[<matplotlib.lines.Line2D at 0x7fb4579a27d0>]"
       ]
      },
      {
       "metadata": {},
       "output_type": "display_data",
       "png": "[encoded data removed]",
       "text": [
        "<matplotlib.figure.Figure at 0x7fb457b15790>"
       ]
      }
     ],
     "prompt_number": 4
    },
    {
     "cell_type": "code",
     "collapsed": false,
     "input": [
      "# Guardo un pulso de la salida Pul\n",
      "Pul= loadtxt('Pul.dat', delimiter=',')\n",
      "# Pul=(np.vstack([X_pul,Y_pul])).transpose()\n",
      "Pul[:,1] # dif. potencial [v]\n",
      "Pul[:,0] # tiempo [s]\n",
      "# savetxt('Pul.dat', Pul, fmt='%.3e', delimiter=',', newline='\\n')\n",
      "plt.grid()\n",
      "plt.xlabel('tiempo [s]')\n",
      "plt.ylabel('dif. potencial [v]')\n",
      "plt.plot(Pul[:,0], Pul[:,1])"
     ],
     "language": "python",
     "metadata": {},
     "outputs": [
      {
       "metadata": {},
       "output_type": "pyout",
       "prompt_number": 2,
       "text": [
        "[<matplotlib.lines.Line2D at 0x7f7354470358>]"
       ]
      },
      {
       "metadata": {},
       "output_type": "display_data",
       "png": "[encoded data removed]",
       "text": [
        "<matplotlib.figure.Figure at 0x7f73724fd0b8>"
       ]
      }
     ],
     "prompt_number": 2
    },
    {
     "cell_type": "markdown",
     "metadata": {},
     "source": [
      "#Y aqu\u00ed el repositorio"
     ]
    },
    {
     "cell_type": "code",
     "collapsed": false,
     "input": [
      "# Lee par\u00e1metros de medici\u00f3n de un archivo\n",
      "a=load('./data/sets150505n14.npy')\n",
      "b= a.tolist()\n",
      "b"
     ],
     "language": "python",
     "metadata": {},
     "outputs": [
      {
       "ename": "FileNotFoundError",
       "evalue": "[Errno 2] No such file or directory: './data/sets150505n14.npy'",
       "output_type": "pyerr",
       "traceback": [
        "\u001b[0;31m---------------------------------------------------------------------------\u001b[0m\n\u001b[0;31mFileNotFoundError\u001b[0m                         Traceback (most recent call last)",
        "\u001b[0;32m<ipython-input-10-a5ba9416e7c2>\u001b[0m in \u001b[0;36m<module>\u001b[0;34m()\u001b[0m\n\u001b[1;32m      1\u001b[0m \u001b[0;31m# Lee par\u00e1metros de medici\u00f3n de un archivo\u001b[0m\u001b[0;34m\u001b[0m\u001b[0;34m\u001b[0m\u001b[0m\n\u001b[0;32m----> 2\u001b[0;31m \u001b[0ma\u001b[0m\u001b[0;34m=\u001b[0m\u001b[0mload\u001b[0m\u001b[0;34m(\u001b[0m\u001b[0;34m'./data/sets150505n14.npy'\u001b[0m\u001b[0;34m)\u001b[0m\u001b[0;34m\u001b[0m\u001b[0m\n\u001b[0m\u001b[1;32m      3\u001b[0m \u001b[0mb\u001b[0m\u001b[0;34m=\u001b[0m \u001b[0ma\u001b[0m\u001b[0;34m.\u001b[0m\u001b[0mtolist\u001b[0m\u001b[0;34m(\u001b[0m\u001b[0;34m)\u001b[0m\u001b[0;34m\u001b[0m\u001b[0m\n\u001b[1;32m      4\u001b[0m \u001b[0mb\u001b[0m\u001b[0;34m\u001b[0m\u001b[0m\n",
        "\u001b[0;32m/usr/lib/python3/dist-packages/numpy/lib/npyio.py\u001b[0m in \u001b[0;36mload\u001b[0;34m(file, mmap_mode)\u001b[0m\n\u001b[1;32m    368\u001b[0m     \u001b[0mown_fid\u001b[0m \u001b[0;34m=\u001b[0m \u001b[0;32mFalse\u001b[0m\u001b[0;34m\u001b[0m\u001b[0m\n\u001b[1;32m    369\u001b[0m     \u001b[0;32mif\u001b[0m \u001b[0misinstance\u001b[0m\u001b[0;34m(\u001b[0m\u001b[0mfile\u001b[0m\u001b[0;34m,\u001b[0m \u001b[0mbasestring\u001b[0m\u001b[0;34m)\u001b[0m\u001b[0;34m:\u001b[0m\u001b[0;34m\u001b[0m\u001b[0m\n\u001b[0;32m--> 370\u001b[0;31m         \u001b[0mfid\u001b[0m \u001b[0;34m=\u001b[0m \u001b[0mopen\u001b[0m\u001b[0;34m(\u001b[0m\u001b[0mfile\u001b[0m\u001b[0;34m,\u001b[0m \u001b[0;34m\"rb\"\u001b[0m\u001b[0;34m)\u001b[0m\u001b[0;34m\u001b[0m\u001b[0m\n\u001b[0m\u001b[1;32m    371\u001b[0m         \u001b[0mown_fid\u001b[0m \u001b[0;34m=\u001b[0m \u001b[0;32mTrue\u001b[0m\u001b[0;34m\u001b[0m\u001b[0m\n\u001b[1;32m    372\u001b[0m     \u001b[0;32melif\u001b[0m \u001b[0misinstance\u001b[0m\u001b[0;34m(\u001b[0m\u001b[0mfile\u001b[0m\u001b[0;34m,\u001b[0m \u001b[0mgzip\u001b[0m\u001b[0;34m.\u001b[0m\u001b[0mGzipFile\u001b[0m\u001b[0;34m)\u001b[0m\u001b[0;34m:\u001b[0m\u001b[0;34m\u001b[0m\u001b[0m\n",
        "\u001b[0;31mFileNotFoundError\u001b[0m: [Errno 2] No such file or directory: './data/sets150505n14.npy'"
       ]
      }
     ],
     "prompt_number": 10
    },
    {
     "cell_type": "markdown",
     "metadata": {},
     "source": [
      "# Cosas"
     ]
    },
    {
     "cell_type": "code",
     "collapsed": false,
     "input": [
      "!head ./data/trg150505n01.npy"
     ],
     "language": "python",
     "metadata": {},
     "outputs": [
      {
       "output_type": "stream",
       "stream": "stdout",
       "text": [
        "\ufffdNUMPY\u0001\u0000F\u0000{'descr': '<f8', 'fortran_order': False, 'shape': (11, 1), }         \r\n",
        "\ufffdp=\r\n",
        "\u05e3\ufffd?{\u0014\ufffdG\ufffdz\ufffd?R\ufffd\u001e",
        "\ufffd\ufffdQ\ufffd?)\\\ufffd\ufffd\ufffd(\ufffd?\u0000\u0000\u0000\u0000\u0000\u0000\u0000@\ufffdQ\ufffd\u001e",
        "\ufffd\ufffd\u0001@\u05e3p=\r\n",
        "\ufffd\u0003@\ufffd\ufffd(\\\ufffd\ufffd\u0005@R\ufffd\u001e",
        "\ufffd\ufffdQ\b@=\r\n",
        "\u05e3p=\r\n",
        "@)\\\ufffd\ufffd\ufffd(\f",
        "@"
       ]
      }
     ],
     "prompt_number": 11
    }
   ],
   "metadata": {}
  }
 ]
}