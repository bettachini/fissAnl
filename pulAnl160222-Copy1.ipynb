{
 "cells": [
  {
   "cell_type": "code",
   "execution_count": 4,
   "metadata": {
    "collapsed": false
   },
   "outputs": [
    {
     "ename": "ImportError",
     "evalue": "No module named 'tek3'",
     "output_type": "error",
     "traceback": [
      "\u001b[0;31m---------------------------------------------------------------------------\u001b[0m",
      "\u001b[0;31mImportError\u001b[0m                               Traceback (most recent call last)",
      "\u001b[0;32m<ipython-input-4-4964bd36f498>\u001b[0m in \u001b[0;36m<module>\u001b[0;34m()\u001b[0m\n\u001b[1;32m      4\u001b[0m \u001b[0;32mfrom\u001b[0m \u001b[0mrutAnl160216\u001b[0m \u001b[0;32mimport\u001b[0m \u001b[0;34m*\u001b[0m \u001b[0;31m# En rutinasAnalisis160129.py residen todas las funciones basadas en las desarroladas en pulAnl160106.ipynb\u001b[0m\u001b[0;34m\u001b[0m\u001b[0m\n\u001b[1;32m      5\u001b[0m \u001b[0;34m\u001b[0m\u001b[0m\n\u001b[0;32m----> 6\u001b[0;31m \u001b[0;32mimport\u001b[0m \u001b[0mtek3\u001b[0m \u001b[0;32mas\u001b[0m \u001b[0mtek3\u001b[0m\u001b[0;34m\u001b[0m\u001b[0m\n\u001b[0m\u001b[1;32m      7\u001b[0m \u001b[0mtest\u001b[0m \u001b[0;34m=\u001b[0m \u001b[0mtek3\u001b[0m\u001b[0;34m.\u001b[0m\u001b[0mTekScope\u001b[0m\u001b[0;34m(\u001b[0m\u001b[0;34m\"/dev/usbtmc1\"\u001b[0m\u001b[0;34m)\u001b[0m \u001b[0;31m# creo una instancia de tek3.TekScope\u001b[0m\u001b[0;34m\u001b[0m\u001b[0m\n\u001b[1;32m      8\u001b[0m \u001b[0;32mimport\u001b[0m \u001b[0mtime\u001b[0m\u001b[0;34m\u001b[0m\u001b[0m\n",
      "\u001b[0;31mImportError\u001b[0m: No module named 'tek3'"
     ]
    }
   ],
   "source": [
    "import numpy as np\n",
    "import matplotlib.pyplot as plt\n",
    "\n",
    "from rutAnl160216 import * # En rutinasAnalisis160129.py residen todas las funciones basadas en las desarroladas en pulAnl160106.ipynb\n",
    "\n",
    "import tek3 as tek3\n",
    "test = tek3.TekScope(\"/dev/usbtmc1\") # creo una instancia de tek3.TekScope\n",
    "import time\n",
    "\n",
    "# refresca de lo importado cada vez que se hace ejecución\n",
    "%load_ext autoreload\n",
    "%autoreload 2\n",
    "\n",
    "%matplotlib inline\n",
    "# coding=utf-8"
   ]
  },
  {
   "cell_type": "markdown",
   "metadata": {},
   "source": [
    "# Problema\n",
    "\n",
    "\n",
    "Parece ser que no graba lo mismo que recoge en vivo."
   ]
  },
  {
   "cell_type": "markdown",
   "metadata": {},
   "source": [
    "## Recoge en vivo"
   ]
  },
  {
   "cell_type": "markdown",
   "metadata": {},
   "source": [
    "Uso código sin modificaciones de `pulseTex2002B`"
   ]
  },
  {
   "cell_type": "code",
   "execution_count": 3,
   "metadata": {
    "collapsed": false
   },
   "outputs": [
    {
     "ename": "NameError",
     "evalue": "name 'test' is not defined",
     "output_type": "error",
     "traceback": [
      "\u001b[0;31m---------------------------------------------------------------------------\u001b[0m",
      "\u001b[0;31mNameError\u001b[0m                                 Traceback (most recent call last)",
      "\u001b[0;32m<ipython-input-3-1c9b5b7c51b7>\u001b[0m in \u001b[0;36m<module>\u001b[0;34m()\u001b[0m\n\u001b[1;32m      4\u001b[0m \u001b[0;31m# sets= test.dico\u001b[0m\u001b[0;34m\u001b[0m\u001b[0;34m\u001b[0m\u001b[0m\n\u001b[1;32m      5\u001b[0m \u001b[0;34m\u001b[0m\u001b[0m\n\u001b[0;32m----> 6\u001b[0;31m \u001b[0;32mdef\u001b[0m \u001b[0mescalas\u001b[0m\u001b[0;34m(\u001b[0m\u001b[0minst\u001b[0m\u001b[0;34m=\u001b[0m\u001b[0mtest\u001b[0m\u001b[0;34m)\u001b[0m\u001b[0;34m:\u001b[0m\u001b[0;34m\u001b[0m\u001b[0m\n\u001b[0m\u001b[1;32m      7\u001b[0m     \u001b[0;31m# obtener una vez los límites verticales del canal\u001b[0m\u001b[0;34m\u001b[0m\u001b[0;34m\u001b[0m\u001b[0m\n\u001b[1;32m      8\u001b[0m     \u001b[0mpos1\u001b[0m \u001b[0;34m=\u001b[0m \u001b[0minst\u001b[0m\u001b[0;34m.\u001b[0m\u001b[0mget_channel_position\u001b[0m\u001b[0;34m(\u001b[0m\u001b[0;36m1\u001b[0m\u001b[0;34m)\u001b[0m\u001b[0;34m\u001b[0m\u001b[0m\n",
      "\u001b[0;31mNameError\u001b[0m: name 'test' is not defined"
     ]
    }
   ],
   "source": [
    "# lee settings\n",
    "\n",
    "# test.load_setup() # Obtiene parámetros del osciloscopio\n",
    "# sets= test.dico\n",
    "\n",
    "def escalas(inst=test):\n",
    "    # obtener una vez los límites verticales del canal\n",
    "    pos1 = inst.get_channel_position(1)\n",
    "    scale1 = inst.get_channel_scale(1)\n",
    "    pos2 = inst.get_channel_position(2)\n",
    "    scale2 = inst.get_channel_scale(2)\n",
    "    return pos1, scale1, pos2, scale2\n",
    "\n",
    "\n",
    "def param(osciloscopioTek):\n",
    "    '''\n",
    "    Grabo parámetros de la medición\n",
    "    '''\n",
    "    osciloscopioTek.load_setup() # Obtiene parámetros del osciloscopio\n",
    "    sets= osciloscopioTek.dico\n",
    "    [pos1, scale1, pos2, scale2]= escalas(osciloscopioTek)\n",
    "    sets['POSITION1']= pos1\n",
    "    sets['SCALE1']= scale1\n",
    "    sets['POSITION2']= pos2\n",
    "    sets['SCALE2']= scale2\n",
    "    sets['ELECTRONICA']= 'Luis'\n",
    "    return sets\n",
    "\n",
    "settings= param()"
   ]
  },
  {
   "cell_type": "code",
   "execution_count": 61,
   "metadata": {
    "collapsed": false
   },
   "outputs": [
    {
     "name": "stdout",
     "output_type": "stream",
     "text": [
      "medición 1 de 1\n",
      "Tiempo transcurrido= 24269297.4 min\n"
     ]
    }
   ],
   "source": [
    "# Lectura simple\n",
    "def readBuff2(self):\n",
    "    try:\n",
    "        return self.ask('CURVE?')\n",
    "    except TimeoutError:\n",
    "        print('Probably requested channel has no data')\n",
    "        raise\n",
    "\n",
    "def ptsAdq():\n",
    "    # correr una vez para obtener parámetros del buffer\n",
    "    buff2 = readBuff2(test) # esta bien la herencia?\n",
    "    dataPointsCharacters= int(buff2[1:2])\n",
    "    dataOffset= 2+ dataPointsCharacters\n",
    "    return (int(buff2[2:2+ dataPointsCharacters])), dataOffset # número de lecturas en cada adquisición\n",
    "\n",
    "def rapi(dataCount, dataOffset):\n",
    "    test.start_acq()\n",
    "    while(test.textAsk('BUSY?')=='1'):\n",
    "        time.sleep(1E-3)\n",
    "    # return (np.frombuffer(readBuff2(test), dtype = np.dtype('int8').newbyteorder('<'), count= dataCount, offset= dataOffset) )  \n",
    "    buff2 = readBuff2(test) # esta bien la herencia?\n",
    "    return ( np.frombuffer(buff2, dtype = np.dtype('int8').newbyteorder('<'), count= dataCount, offset= dataOffset) )\n",
    "\n",
    "def lectura(adquisiciones, puntosAdquisicion, dataOffset, tiempoInicial):\n",
    "    # la lectura en sí\n",
    "    ch1= np.empty([adquisiciones,puntosAdquisicion], dtype ='int8')\n",
    "    ch2= np.empty([adquisiciones,puntosAdquisicion], dtype ='int8')\n",
    "    zeit= test.temps() # zeit\n",
    "    # zeit= tek3.TekScope.Xaxis(test) # zeit\n",
    "    for medicion in range(adquisiciones):\n",
    "        print('\\rmedición '+ str(medicion)+ ' de '+ str(adquisiciones), end=' ')\n",
    "        test.set_data_source(1) # canal 2\n",
    "        ch1[medicion]= rapi(puntosAdquisicion, dataOffset)\n",
    "        test.set_data_source(2) # canal 2\n",
    "        ch2[medicion]= rapi(puntosAdquisicion, dataOffset)\n",
    "    print('\\rmedición '+ str(medicion+ 1)+ ' de '+ str(adquisiciones))\n",
    "    print('Tiempo transcurrido= {:.1f} min'.format((time.time()- tiempoInicial)/60) ) # tiempo transcurrido en segundos\n",
    "    return zeit, ch1, ch2\n",
    "\n",
    "[puntosAdquisicion, dataOffset] = ptsAdq() # puntos por cada adquisición, headbits en cada adquisición\n",
    "[zeit, ch1, ch2]=lectura(1, puntosAdquisicion, dataOffset, 0)"
   ]
  },
  {
   "cell_type": "code",
   "execution_count": 66,
   "metadata": {
    "collapsed": false
   },
   "outputs": [],
   "source": [
    "cosaCh1= (4E-2* ch1[0]- np.float(settings['POSITION1']) )* np.float(settings['SCALE1'])\n",
    "cosaCh2= (4E-2* ch2[0]- np.float(settings['POSITION2']) )* np.float(settings['SCALE2'])"
   ]
  },
  {
   "cell_type": "code",
   "execution_count": 63,
   "metadata": {
    "collapsed": false
   },
   "outputs": [
    {
     "data": {
      "text/plain": [
       "0.04"
      ]
     },
     "execution_count": 63,
     "metadata": {},
     "output_type": "execute_result"
    }
   ],
   "source": [
    "4E-2"
   ]
  },
  {
   "cell_type": "code",
   "execution_count": 67,
   "metadata": {
    "collapsed": false
   },
   "outputs": [
    {
     "data": {
      "text/plain": [
       "(-4.9999999999999998e-07, 4.9960000000000016e-07)"
      ]
     },
     "execution_count": 67,
     "metadata": {},
     "output_type": "execute_result"
    },
    {
     "data": {
      "image/png": "[encoded data removed]",
      "text/plain": [
       "<matplotlib.figure.Figure at 0x7f69fdc2e208>"
      ]
     },
     "metadata": {},
     "output_type": "display_data"
    }
   ],
   "source": [
    "plt.plot(zeit, cosaCh1, 'y')\n",
    "plt.twinx()\n",
    "plt.plot(zeit, cosaCh2, 'c')\n",
    "plt.xlim(zeit[0], zeit[2499])\n",
    "plt.xlim()"
   ]
  },
  {
   "cell_type": "markdown",
   "metadata": {},
   "source": [
    "Todo lindo y bonito. Se condice con lo que observo en la pantalla."
   ]
  },
  {
   "cell_type": "markdown",
   "metadata": {},
   "source": [
    "## Levanto desde un archivo"
   ]
  },
  {
   "cell_type": "markdown",
   "metadata": {},
   "source": [
    "Hago 10 adquisiciones usando `pulseTex2002B` en el archivo `pul160222z01.npy.npz`"
   ]
  },
  {
   "cell_type": "code",
   "execution_count": 70,
   "metadata": {
    "collapsed": false
   },
   "outputs": [],
   "source": [
    "tipo= 'pul'\n",
    "anne= 16\n",
    "mes= 2\n",
    "dia= 22\n",
    "rango= np.arange(1,2)"
   ]
  },
  {
   "cell_type": "code",
   "execution_count": 71,
   "metadata": {
    "collapsed": false
   },
   "outputs": [],
   "source": [
    "i= 1\n",
    "acq= np.load(dataPathFile2(tipo, anne, mes, dia, i))"
   ]
  },
  {
   "cell_type": "code",
   "execution_count": 72,
   "metadata": {
    "collapsed": false
   },
   "outputs": [
    {
     "data": {
      "text/plain": [
       "{':MATH:FFT:HORIZONTAL:POSITION': '5.0E1',\n",
       " 'LAYOUT': 'PORTRAIT',\n",
       " 'PORT': 'USB',\n",
       " 'DATEPRINT': 'DEFLT',\n",
       " ':SELECT:CH1': '1',\n",
       " 'STYLE': 'VECTORS',\n",
       " 'WIDTH:POLARITY': 'POSITIVE',\n",
       " 'WHEN': 'EQUAL',\n",
       " 'STANDARD': 'NTSC',\n",
       " 'SCALE': '1.0E0',\n",
       " ':LANGUAGE': 'SPANISH',\n",
       " 'POSITION1': 2.0,\n",
       " ':CH1:PROBE': '1.0E0',\n",
       " 'YUNIT': '\"V\"',\n",
       " 'REFA': '0',\n",
       " 'SELECT:SOURCE': 'CH1',\n",
       " 'SOURCE': 'CH2',\n",
       " 'STOP': '2500',\n",
       " ':PICTBRIDGE:PAPERSIZE': 'DEFLT',\n",
       " 'LINE': '1',\n",
       " 'STOPAFTER': 'SEQUENCE',\n",
       " ':TRIGGER:MAIN:VIDEO:SOURCE': 'CH1',\n",
       " ':ACQUIRE:MODE': 'SAMPLE',\n",
       " 'INKSAVER': 'ON',\n",
       " ':MEASUREMENT:MEAS1:TYPE': 'PK2PK',\n",
       " 'SYNC': 'FIELD',\n",
       " 'SCALE1': 0.02,\n",
       " 'MAIN:SCALE': '1.0E-7',\n",
       " 'CONTRAST': '54',\n",
       " 'NUMAVG': '16',\n",
       " 'SCALE2': 0.5,\n",
       " ':CURSOR:VBARS:UNITS': 'SECONDS',\n",
       " ':HARDCOPY:BUTTON': 'SAVESALL',\n",
       " 'STATE': '0',\n",
       " 'SLOPE': 'RISE',\n",
       " 'WIDTH': '1.0E-3',\n",
       " ':TRIGGER:MAIN:PULSE:SOURCE': 'CH1',\n",
       " 'CURRENTPROBE': '1.0E1',\n",
       " ':LOCK': 'NONE',\n",
       " ':VERBOSE': '1',\n",
       " 'MATH': '0',\n",
       " 'TYPE': 'EDGE',\n",
       " ':HORIZONTAL:VIEW': 'MAIN',\n",
       " 'POLARITY': 'NORMAL',\n",
       " 'POSITION': '4.51E-7',\n",
       " ':MATH:DEFINE': '\"CH1-CH2\"',\n",
       " 'SOURCE1': 'CH1',\n",
       " 'ELECTRONICA': 'Luis',\n",
       " 'START': '1',\n",
       " 'BANDWIDTH': 'OFF',\n",
       " ':MEASUREMENT:METHOD': 'AUTO',\n",
       " 'IMAGESIZE': 'DEFLT',\n",
       " ':AUTORANGE:SETTINGS': 'BOTH',\n",
       " 'POSITION2': -2.0,\n",
       " 'PRINTQUAL': 'DEFLT',\n",
       " ':MEASUREMENT:MEAS3:TYPE': 'NWIDTH',\n",
       " ':CURSOR:HBARS:POSITION1': '-1.008E-1',\n",
       " 'FORMAT': 'EPSIMAGE',\n",
       " ':MEASUREMENT:MEAS5:TYPE': 'FREQUENCY',\n",
       " ':TRIGGER:MAIN:EDGE:SOURCE': 'CH1',\n",
       " ':DATA:ENCDG': 'RIBINARY',\n",
       " ':DISPLAY:FORMAT': 'YT',\n",
       " ':SAVE:IMAGE:FILEFORMAT': 'EPSIMAGE',\n",
       " 'DESTINATION': 'REFA',\n",
       " ':TRIGGER:MAIN:MODE': 'NORMAL',\n",
       " ':MEASUREMENT:MEAS2:TYPE': 'PERIOD',\n",
       " ':MEASUREMENT:MEAS4:TYPE': 'PK2PK',\n",
       " 'CH2': '1',\n",
       " ':TRIGGER:MAIN:LEVEL': '-4.96E-2',\n",
       " 'REFB': '0',\n",
       " ':CH2:PROBE': '1.0E0',\n",
       " 'IDPRINT': 'DEFLT',\n",
       " ':HORIZONTAL:DELAY:SCALE': '5.0E-9',\n",
       " ':CURSOR:FUNCTION': 'VBARS',\n",
       " 'PERSISTENCE': '0',\n",
       " 'VERTICAL:POSITION': '0.0E0',\n",
       " 'HOLDOFF:VALUE': '5.0E-7',\n",
       " ':MEASUREMENT:IMMED:TYPE': 'PERIOD',\n",
       " 'PAPERTYPE': 'DEFLT',\n",
       " 'COUPLING': 'DC',\n",
       " 'INVERT': 'OFF',\n",
       " ':MATH:FFT:VERTICAL:POSITION': '0.0E0'}"
      ]
     },
     "execution_count": 72,
     "metadata": {},
     "output_type": "execute_result"
    }
   ],
   "source": [
    "settingsList= acq['settings'].tolist()\n",
    "settingsList"
   ]
  },
  {
   "cell_type": "code",
   "execution_count": 73,
   "metadata": {
    "collapsed": false
   },
   "outputs": [],
   "source": [
    "TArchivo= acq['zeit']\n",
    "ch1Archivo= acq['ch1'][0]\n",
    "ch2Archivo= acq['ch2'][0]"
   ]
  },
  {
   "cell_type": "code",
   "execution_count": 87,
   "metadata": {
    "collapsed": false
   },
   "outputs": [],
   "source": [
    "cosaArchivoCh1= (4E-2* ch1Archivo+ np.float(settingsList['POSITION1']) )* (-1)* np.float(settingsList['SCALE1'])\n",
    "cosaArchivoCh2= (4E-2* ch2Archivo- np.float(settingsList['POSITION2']) )* np.float(settingsList['SCALE2'])"
   ]
  },
  {
   "cell_type": "code",
   "execution_count": 92,
   "metadata": {
    "collapsed": false
   },
   "outputs": [
    {
     "data": {
      "text/plain": [
       "(-4.9999999999999998e-07, 4.9960000000000016e-07)"
      ]
     },
     "execution_count": 92,
     "metadata": {},
     "output_type": "execute_result"
    },
    {
     "data": {
      "image/png": "[encoded data removed]",
      "text/plain": [
       "<matplotlib.figure.Figure at 0x7f69fdf77390>"
      ]
     },
     "metadata": {},
     "output_type": "display_data"
    }
   ],
   "source": [
    "plt.plot(TArchivo, cosaArchivoCh1, 'y')\n",
    "plt.ylabel('ch1')\n",
    "plt.twinx()\n",
    "plt.plot(T, cosaArchivoCh2, 'c')\n",
    "plt.ylabel('ch2')\n",
    "plt.xlim(T[0], T[2499])\n",
    "plt.xlim()"
   ]
  },
  {
   "cell_type": "markdown",
   "metadata": {},
   "source": [
    "Tomando el recaudo que corresponde en los signos de conversión coinciden ambos gráficos."
   ]
  },
  {
   "cell_type": "code",
   "execution_count": null,
   "metadata": {
    "collapsed": false
   },
   "outputs": [],
   "source": []
  }
 ],
 "metadata": {
  "kernelspec": {
   "display_name": "Python 3",
   "language": "python",
   "name": "python3"
  },
  "language_info": {
   "codemirror_mode": {
    "name": "ipython",
    "version": 3
   },
   "file_extension": ".py",
   "mimetype": "text/x-python",
   "name": "python",
   "nbconvert_exporter": "python",
   "pygments_lexer": "ipython3",
   "version": "3.5.3"
  }
 },
 "nbformat": 4,
 "nbformat_minor": 0
}
