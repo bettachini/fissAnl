{
 "metadata": {
  "name": "",
  "signature": "sha256:0064c4e2ce8c992303a9546912683126eb735cebe92a79970130593bf0bcb09e"
 },
 "nbformat": 3,
 "nbformat_minor": 0,
 "worksheets": [
  {
   "cells": [
    {
     "cell_type": "code",
     "collapsed": false,
     "input": [
      "import matplotlib\n",
      "import numpy as np\n",
      "import matplotlib.pyplot as plt\n",
      "%matplotlib inline\n",
      "# coding=utf-8"
     ],
     "language": "python",
     "metadata": {},
     "outputs": [],
     "prompt_number": 1
    },
    {
     "cell_type": "heading",
     "level": 1,
     "metadata": {},
     "source": [
      "CFP-35 baja presi\u00f3n"
     ]
    },
    {
     "cell_type": "heading",
     "level": 2,
     "metadata": {},
     "source": [
      "Risetime - Funciones an\u00e1lisis adquisici\u00f3n - descartan por ruido nivel base"
     ]
    },
    {
     "cell_type": "code",
     "collapsed": false,
     "input": [
      "def baseAcq(acqFile, prop=0.25):\n",
      "    '''\n",
      "    (array, float) -> array\n",
      "    \n",
      "    De la primer fracci\u00f3n prop de ambos canales de todas las adquisiciones en acqFile,\n",
      "    obtiene el promedio y dispersi\u00f3n que se asume como nivel de base\n",
      "    grProm[0]: promedio ch1, grProm[1]: promedio ch2,\n",
      "    grProm[2]: desviaci\u00f3n estandard ch1, grProm[3]: desviaci\u00f3n estandard ch2\n",
      "    '''\n",
      "    messungenZahl= acqFile.shape\n",
      "    erstePunkten= int(messungenZahl[1]* prop)\n",
      "    prom= np.zeros([int((messungenZahl[0]- 1)/ 2), 4])\n",
      "    for i in range(1, messungenZahl[0], 2):\n",
      "        ix= int((i-1)/2)\n",
      "        ch1Erste= acqFile[i][0:erstePunkten-1]\n",
      "        ch2Erste= acqFile[i+1][0:erstePunkten-1]\n",
      "        prom[ix,0]= ch1Erste.mean()\n",
      "        prom[ix,1]= ch2Erste.mean()\n",
      "        prom[ix,2]= ch1Erste.std()\n",
      "        prom[ix,3]= ch2Erste.std()\n",
      "    return prom\n",
      "\n",
      "\n",
      "def baseMeas2(Meas2, messungenZahl, prop=0.25):\n",
      "    '''\n",
      "    (array, array, float) -> array\n",
      "    \n",
      "    De la primer fracci\u00f3n prop de ambos canales en Meas2,\n",
      "    obtiene el promedio y dispersi\u00f3n que se asume como nivel de base\n",
      "    grProm[0]: promedio ch1, grProm[1]: promedio ch2,\n",
      "    grProm[2]: desviaci\u00f3n estandard ch1, grProm[3]: desviaci\u00f3n estandard ch2\n",
      "    '''\n",
      "    erstePunkten= int(messungenZahl[1]* prop)\n",
      "    ch1Erste= Meas2[0][0:erstePunkten-1]\n",
      "    ch2Erste= Meas2[1][0:erstePunkten-1]\n",
      "    return np.array([ch1Erste.mean(), ch2Erste.mean(), ch1Erste.std(), ch2Erste.std() ] )\n",
      "\n",
      "\n",
      "def desvioEstandardCuasiNoSesgado(datos):\n",
      "    '''\n",
      "    Estimador cuasi no sesgado de la desviaci\u00f3n estandar.\n",
      "    https://en.wikipedia.org/wiki/Unbiased_estimation_of_standard_deviation\n",
      "    '''\n",
      "    media= np.mean(datos)\n",
      "    suma=0\n",
      "    for i in datos:\n",
      "        aux= (datos[i]- media)\n",
      "        suma+= aux**2\n",
      "    desv= np.sqrt(suma/( np.size(datos)- 1.5) ) \n",
      "    return desv\n",
      "\n",
      "\n",
      "def errorEstandard(datos):\n",
      "    '''\n",
      "    Estimador de la desviaci\u00f3n estandar del promedio.\n",
      "    Usa la desviaci\u00f3n estandar de la poblaci\u00f3n y la divide por la ra\u00edz del n\u00famero de elementos en la poblaci\u00f3n.\n",
      "    https://en.wikipedia.org/wiki/Standard_error\n",
      "    '''\n",
      "    return desvioEstandardCuasiNoSesgado(datos)/ np.sqrt(np.size(datos))\n",
      "\n",
      "    \n",
      "def tauCeti3e(T, Meas2, messungenZahl, prop, rechazo=0.1):\n",
      "    '''\n",
      "    Calcula \u00edndices risetime como tiempo entre 10% y 90% de excursi\u00f3n entre nivel de base y m\u00e1ximo\n",
      "   \n",
      "    Meas2: array (2,:) con Meas2[0] canal 1, Meas2[0] canal 2, producto de np.vstack\n",
      "    baseMeas2: base(Meas2)\n",
      "    '''\n",
      "    bMeas2= baseMeas2(Meas2, messungenZahl, prop) # niveles base\n",
      "    \n",
      "    if ((bMeas2[3])>np.abs(bMeas2[1]* rechazo)):\n",
      "        return np.array([0, 0 ])\n",
      "    else:\n",
      "        maxIx= (Meas2[0].argmax(), Meas2[1].argmax() ) # \u00edndice m\u00e1ximo\n",
      "        # m\u00e1ximo promediado cercano\n",
      "        rangoCercano= 20 # tres lecturas a izq y derecha\n",
      "        maxCH1= (Meas2[0][maxIx[0]- rangoCercano: maxIx[0]+ rangoCercano]).mean()\n",
      "        maxCH2= (Meas2[1][maxIx[1]- rangoCercano: maxIx[1]+ rangoCercano]).mean()\n",
      "        # diferencia m\u00e1ximo- base\n",
      "        deltaV= np.array([maxCH1- bMeas2[0],maxCH2- bMeas2[1]]) # usa promediado cercano\n",
      "        # Diferencias de potencial para 10%, 90% de excursi\u00f3n\n",
      "        v10= bMeas2[0:2]+ 0.1* deltaV\n",
      "        v90= bMeas2[0:2]+ 0.9* deltaV\n",
      "        # \u00cdndices para primer potencial del pulso que exceda 10%, y \u00faltimo por debajo 90% \n",
      "        ixTau= np.array([maxIx[0], maxIx[1], maxIx[0], maxIx[1]])\n",
      "        while (Meas2[0,ixTau[0]]> v10[0]):\n",
      "            ixTau[0]-= 1\n",
      "        while (Meas2[1,ixTau[1]]> v10[1]):\n",
      "            ixTau[1]-= 1\n",
      "        while (Meas2[0,ixTau[2]]> v90[0]):\n",
      "            ixTau[2]-= 1\n",
      "        while (Meas2[1,ixTau[3]]> v90[1]):\n",
      "            ixTau[3]-= 1\n",
      "        return np.array([T[ixTau[2]]- T[ixTau[0]], T[ixTau[3]]- T[ixTau[1]] ])\n",
      "\n",
      "\n",
      "def tauAMCz3e(npzData, prop= 0.25):\n",
      "    '''\n",
      "    Vectores risetime canal AMC de archivo acq comprimido\n",
      "    \n",
      "    npzData= numpy.lib.npyio.NpzFile\n",
      "    prop= porcentaje inferior del canal a promediar para obtener nivel de base     \n",
      "    '''\n",
      "    FLUC= npzData['ch1']\n",
      "    AMC= npzData['ch2']\n",
      "    messungenZahl= AMC.shape\n",
      "    # tiempo\n",
      "    T= npzData['zeit']\n",
      "    tauAMC= np.empty([0, 1])\n",
      "    i=0\n",
      "    q=0\n",
      "    cucho= (messungenZahl[0]- q- 1 )\n",
      "    while (i< cucho ):\n",
      "        Meas2= np.array([FLUC[i+q], AMC[i+q] ] )\n",
      "        tauAMCi= tauCeti3e(T, Meas2, messungenZahl, prop)[1]\n",
      "        if (tauAMCi!=0):\n",
      "            i+=1\n",
      "            tauAMC= np.append(tauAMC, tauAMCi)\n",
      "        else:\n",
      "            q+=1\n",
      "        cucho= (messungenZahl[0]- q- 1 )\n",
      "    return tauAMC"
     ],
     "language": "python",
     "metadata": {},
     "outputs": [],
     "prompt_number": 4
    },
    {
     "cell_type": "heading",
     "level": 2,
     "metadata": {},
     "source": [
      "Histograma - Funciones"
     ]
    },
    {
     "cell_type": "code",
     "collapsed": false,
     "input": [
      "def dataPathFile(mes, dia, acq):\n",
      "    path= './data/'\n",
      "    fNS= 'acq15'+ '{:02n}'.format(mes)+ '{:02n}'.format(dia)+ 'z'\n",
      "    fNE= '.npy.npz'\n",
      "    return path+ fNS+ '{:02n}'.format(acq)+fNE\n",
      "\n",
      "\n",
      "def agregadorTaus(mes, dia, rango):\n",
      "    taus= np.array([])\n",
      "    for i in rango:\n",
      "        acq= np.load(dataPathFile(mes, dia, i))\n",
      "        taus= np.append(taus, tauAMCz3e(acq))\n",
      "    return taus\n",
      "\n",
      "\n",
      "def binner(taus, binHist=40):\n",
      "    fig = plt.figure(figsize=(18,5))  # an empty figure with no axes\n",
      "    ax_lst= fig.add_subplot(1,2,2)\n",
      "    n, bins, patches= ax_lst.hist(taus, bins=120)\n",
      "    ax_lst.set_ylabel('Cuentas')\n",
      "    ax_lst.set_xlabel('Tau [ns]')\n",
      "    intermedio = np.ma.masked_greater(taus, bins[binHist])\n",
      "    primerCampana= intermedio.compressed()\n",
      "    ax_lst2= fig.add_subplot(1,2,1)\n",
      "    ax_lst2.set_ylabel('Cuentas')\n",
      "    ax_lst2.set_xlabel('Tau [ns]')\n",
      "    n_i, bins_i, patches_i= ax_lst2.hist(primerCampana, bins=20)\n",
      "    return (primerCampana.size, primerCampana.mean(), errorEstandard(primerCampana) )"
     ],
     "language": "python",
     "metadata": {},
     "outputs": [],
     "prompt_number": 89
    },
    {
     "cell_type": "heading",
     "level": 2,
     "metadata": {},
     "source": [
      "0% - Reprocesar 150429n01"
     ]
    },
    {
     "cell_type": "markdown",
     "metadata": {},
     "source": [
      "Tengo que tomar el \u00faltimo c\u00f3digo de tauCeti y aplicarlo en archivo no z (150429n01)"
     ]
    },
    {
     "cell_type": "code",
     "collapsed": false,
     "input": [
      "mes= 4\n",
      "dia= 29\n",
      "i= 1\n",
      "# de dataPathFile\n",
      "path= './data/'\n",
      "fNS= 'acq15'+ '{:02n}'.format(mes)+ '{:02n}'.format(dia)+ 'n' # 'pul15' -> 'acq15', 'z' -> 'n' \n",
      "fNE= '.npy' # '.npy.npz' -> '.npy'\n",
      "dataFile= path+ fNS+ '{:02n}'.format(i)+fNE # acq -> i\n",
      "# de agregadorTaus\n",
      "acq= np.load(dataFile)"
     ],
     "language": "python",
     "metadata": {},
     "outputs": [],
     "prompt_number": 80
    },
    {
     "cell_type": "markdown",
     "metadata": {},
     "source": [
      "Recordemos que \n",
      "\n",
      "    T=acq[0]\n",
      "    FLUC= acq[impares]\n",
      "    AMC= acq[pares]"
     ]
    },
    {
     "cell_type": "code",
     "collapsed": false,
     "input": [
      "# tiempo\n",
      "T= acq[0]\n",
      "plt.plot(acq[0,:])"
     ],
     "language": "python",
     "metadata": {},
     "outputs": [
      {
       "metadata": {},
       "output_type": "pyout",
       "prompt_number": 81,
       "text": [
        "[<matplotlib.lines.Line2D at 0x7faf29decb70>]"
       ]
      },
      {
       "metadata": {},
       "output_type": "display_data",
       "png": "[encoded data removed]",
       "text": [
        "<matplotlib.figure.Figure at 0x7faf2a27b400>"
       ]
      }
     ],
     "prompt_number": 81
    },
    {
     "cell_type": "code",
     "collapsed": false,
     "input": [
      "# # FLUC\n",
      "# FLUC= acq[1::2]\n",
      "# plt.plot(acq[3,:])"
     ],
     "language": "python",
     "metadata": {},
     "outputs": [],
     "prompt_number": 82
    },
    {
     "cell_type": "code",
     "collapsed": false,
     "input": [
      "# AMC\n",
      "AMC= acq[2::2]\n",
      "plt.plot(acq[4,:])"
     ],
     "language": "python",
     "metadata": {},
     "outputs": [
      {
       "metadata": {},
       "output_type": "pyout",
       "prompt_number": 83,
       "text": [
        "[<matplotlib.lines.Line2D at 0x7faf29f8b748>]"
       ]
      },
      {
       "metadata": {},
       "output_type": "display_data",
       "png": "[encoded data removed]",
       "text": [
        "<matplotlib.figure.Figure at 0x7faf2a0ab198>"
       ]
      }
     ],
     "prompt_number": 83
    },
    {
     "cell_type": "code",
     "collapsed": false,
     "input": [
      "# de tauAMCz3e\n",
      "prop= 0.25\n",
      "messungenZahl= AMC.shape\n",
      "tauAMC= np.empty([0, 1])\n",
      "i=0\n",
      "q=0\n",
      "cucho= (messungenZahl[0]- q- 1 )\n",
      "while (i< cucho ):\n",
      "    Meas2= np.array([FLUC[i+q], AMC[i+q] ] )\n",
      "    tauAMCi= tauCeti3e(T, Meas2, messungenZahl, prop)[1]\n",
      "    if (tauAMCi!=0):\n",
      "        i+=1\n",
      "        tauAMC= np.append(tauAMC, tauAMCi)\n",
      "    else:\n",
      "        q+=1\n",
      "    cucho= (messungenZahl[0]- q- 1 )"
     ],
     "language": "python",
     "metadata": {},
     "outputs": [],
     "prompt_number": 84
    },
    {
     "cell_type": "code",
     "collapsed": false,
     "input": [
      "binner(tauAMC)"
     ],
     "language": "python",
     "metadata": {},
     "outputs": [
      {
       "metadata": {},
       "output_type": "pyout",
       "prompt_number": 85,
       "text": [
        "(184, 1.7503478260869559e-07, 3.0832322407360912e-10)"
       ]
      },
      {
       "metadata": {},
       "output_type": "display_data",
       "png": "[encoded data removed]",
       "text": [
        "<matplotlib.figure.Figure at 0x7faf2a20eda0>"
       ]
      }
     ],
     "prompt_number": 85
    },
    {
     "cell_type": "heading",
     "level": 2,
     "metadata": {},
     "source": [
      "0,5% - 150603z01-4"
     ]
    },
    {
     "cell_type": "markdown",
     "metadata": {},
     "source": [
      "Verifique enriquecimiento (ver abajo). Actualic\u00e9 bit\u00e1cora incluyendo datos espectro $\\verb|150604v1|$."
     ]
    },
    {
     "cell_type": "code",
     "collapsed": false,
     "input": [
      "mes= 6\n",
      "dia= 3\n",
      "rango= np.arange(1,5)\n",
      "taus= agregadorTaus(mes, dia, rango)\n",
      "binner(taus)"
     ],
     "language": "python",
     "metadata": {},
     "outputs": [
      {
       "metadata": {},
       "output_type": "pyout",
       "prompt_number": 90,
       "text": [
        "(8720, 1.4788142201835051e-07, 3.9499061022239276e-10)"
       ]
      },
      {
       "metadata": {},
       "output_type": "display_data",
       "png": "[encoded data removed]",
       "text": [
        "<matplotlib.figure.Figure at 0x7faf2a0c6eb8>"
       ]
      }
     ],
     "prompt_number": 90
    },
    {
     "cell_type": "heading",
     "level": 1,
     "metadata": {},
     "source": [
      "CFP-35 - Historial proporci\u00f3n $\\mathrm{N_2}$ presiones bajas"
     ]
    },
    {
     "cell_type": "code",
     "collapsed": false,
     "input": [
      "conv= 98066.5* (1/101325) # presi\u00f3n absoluta atm/(kgf/cm2)= (Pa/(kgf/cm2))* (atm/Pa)\n",
      "pAtm= 1/conv # [kgf/cm\u00b2] (abs)"
     ],
     "language": "python",
     "metadata": {},
     "outputs": [],
     "prompt_number": 64
    },
    {
     "cell_type": "code",
     "collapsed": false,
     "input": [
      "# 150408\n",
      "p150408= 3.560 # [kgf/cm^2] (rel)\n",
      "r150408= 0\n",
      "(p150408+ pAtm)* conv"
     ],
     "language": "python",
     "metadata": {},
     "outputs": [
      {
       "metadata": {},
       "output_type": "pyout",
       "prompt_number": 54,
       "text": [
        "4.445514335060449"
       ]
      }
     ],
     "prompt_number": 54
    },
    {
     "cell_type": "code",
     "collapsed": false,
     "input": [
      "# 150430\n",
      "p150430= 3.005 # [kgf/cm^2] (rel)\n",
      "r150430= 0"
     ],
     "language": "python",
     "metadata": {},
     "outputs": [],
     "prompt_number": 19
    },
    {
     "cell_type": "code",
     "collapsed": false,
     "input": [
      "# 150508\n",
      "p150508= 1 # [atm] (abs) # se esprer\u00f3 hasta que equilibr\u00f3 con atm\u00f3sfera\n",
      "r150508= 0"
     ],
     "language": "python",
     "metadata": {},
     "outputs": [],
     "prompt_number": 20
    },
    {
     "cell_type": "code",
     "collapsed": false,
     "input": [
      "# 150511\n",
      "p150511= 2.195 # [kgf/cm^2] (rel)\n",
      "r150511= 0\n",
      "(p150511+ pAtm)* conv"
     ],
     "language": "python",
     "metadata": {},
     "outputs": [
      {
       "metadata": {},
       "output_type": "pyout",
       "prompt_number": 21,
       "text": [
        "3.1244112262521586"
       ]
      }
     ],
     "prompt_number": 21
    },
    {
     "cell_type": "markdown",
     "metadata": {},
     "source": [
      "$\\mathrm{N2Aryymmdd}=\\mathrm{\\frac{N_2}{Ar}}$\n",
      "\n",
      "$\\mathrm{ryymmdd}= \\mathrm{\\frac{N_2}{Ar+ N_2}}= \\frac{1}{\\mathrm{\\frac{Ar}{N_2}}+ 1}= \\frac{1}{\\left(\\mathrm{\\frac{N_2}{Ar}}\\right)^{-1}+ 1} = \\frac{1}{\\left(\\mathrm{N2Aryymmdd}\\right)^{-1}+ 1}$"
     ]
    },
    {
     "cell_type": "code",
     "collapsed": false,
     "input": [
      "# 150515\n",
      "p150515= 2.795 # [kgf/cm^2] (rel)\n",
      "N2Ar150515= (3.12- 3.1)/3.12\n",
      "r150515= 1/((N2Ar150515)**(-1)+ 1)\n",
      "(p150515+ pAtm)* conv, r150515"
     ],
     "language": "python",
     "metadata": {},
     "outputs": [
      {
       "metadata": {},
       "output_type": "pyout",
       "prompt_number": 22,
       "text": [
        "(3.705115889464594, 0.006369426751592362)"
       ]
      }
     ],
     "prompt_number": 22
    },
    {
     "cell_type": "code",
     "collapsed": false,
     "input": [
      "# 150520\n",
      "p150520= 2.810 # [kgf/cm^2] (rel)\n",
      "N2Ar150520= 0.0105\n",
      "r150520= 1/((N2Ar150520)**(-1)+ 1)\n",
      "(p150520+ pAtm)* conv, r150520"
     ],
     "language": "python",
     "metadata": {},
     "outputs": [
      {
       "metadata": {},
       "output_type": "pyout",
       "prompt_number": 23,
       "text": [
        "(3.719633506044905, 0.010390895596239487)"
       ]
      }
     ],
     "prompt_number": 23
    },
    {
     "cell_type": "code",
     "collapsed": false,
     "input": [
      "# 150528\n",
      "# revisar <anl150528>\n",
      "p150528= 2.8 # [kgf/cm^2] (rel)\n",
      "N2Ar150528= 0.02\n",
      "r150528= 1/((N2Ar150528)**(-1)+ 1)\n",
      "(p150528+ pAtm)* conv, r150528"
     ],
     "language": "python",
     "metadata": {},
     "outputs": [
      {
       "metadata": {},
       "output_type": "pyout",
       "prompt_number": 24,
       "text": [
        "(3.7099550949913644, 0.0196078431372549)"
       ]
      }
     ],
     "prompt_number": 24
    },
    {
     "cell_type": "code",
     "collapsed": false,
     "input": [
      "# 150603\n",
      "# cuaderno: Se purg\u00f3, Ar->1.600, N2->1.620, Ar->3.005\n",
      "p150603= 3.005 # [kgf/cm^2] (rel)\n",
      "pN2= 0.02\n",
      "r150603= pN2/(p150603- pN2+ pAtm)\n",
      "(p150603+ pAtm)* conv, r150603"
     ],
     "language": "python",
     "metadata": {},
     "outputs": [
      {
       "metadata": {},
       "output_type": "pyout",
       "prompt_number": 66,
       "text": [
        "(3.9083625215889466, 0.004977319038041033)"
       ]
      }
     ],
     "prompt_number": 66
    },
    {
     "cell_type": "code",
     "collapsed": false,
     "input": [
      "0.02/(3.005+1)"
     ],
     "language": "python",
     "metadata": {},
     "outputs": [
      {
       "metadata": {},
       "output_type": "pyout",
       "prompt_number": 62,
       "text": [
        "0.004993757802746567"
       ]
      }
     ],
     "prompt_number": 62
    },
    {
     "cell_type": "heading",
     "level": 6,
     "metadata": {},
     "source": [
      "desde aqu\u00ed revisar, pues usan anterior como base"
     ]
    },
    {
     "cell_type": "code",
     "collapsed": false,
     "input": [
      "# 150605\n",
      "# <anl150605>  usa composici\u00f3n anterior como base\n",
      "# pabierta= 2.6825\n",
      "# completa N2 hasta 2.710\n",
      "# Ar hasta 3.005\n",
      "p150605= 3.005 # [kgf/cm^2] (rel)\n",
      "N2Ar150605= 0.041\n",
      "r150605= 1/((N2Ar150605)**(-1)+ 1)\n",
      "(p150605+ pAtm)* conv, r150605"
     ],
     "language": "python",
     "metadata": {},
     "outputs": [
      {
       "metadata": {},
       "output_type": "pyout",
       "prompt_number": 56,
       "text": [
        "(3.9083625215889466, 0.0393852065321806)"
       ]
      }
     ],
     "prompt_number": 56
    },
    {
     "cell_type": "code",
     "collapsed": false,
     "input": [
      "# 150608 \n",
      "# <anl150608> usa composici\u00f3n anterior como base\n",
      "# pabierta= 2.875\n",
      "# completa N2 hasta 2.905\n",
      "# y Ar hasta 3.005\n",
      "p150608= 3.005 # [kgf/cm^2] (rel)\n",
      "N2Ar150608= 0.059\n",
      "r150608= 1/((N2Ar150608)**(-1)+ 1)\n",
      "(p150608+ pAtm)* conv, r150608"
     ],
     "language": "python",
     "metadata": {},
     "outputs": [
      {
       "metadata": {},
       "output_type": "pyout",
       "prompt_number": 57,
       "text": [
        "(3.9083625215889466, 0.055712936732766755)"
       ]
      }
     ],
     "prompt_number": 57
    },
    {
     "cell_type": "code",
     "collapsed": false,
     "input": [
      "# 150610\n",
      "# <anl150610> usa composici\u00f3n anterior como base\n",
      "# pabierta= 2.945\n",
      "# completa N2 hasta 2.980\n",
      "# y Ar hasta 3.005\n",
      "p150608= 3.005 # [kgf/cm^2] (rel)\n",
      "N2Ar150608= 0.059\n",
      "r150608= 1/((N2Ar150608)**(-1)+ 1)\n",
      "(p150608+ pAtm)* conv, r150608"
     ],
     "language": "python",
     "metadata": {},
     "outputs": []
    },
    {
     "cell_type": "heading",
     "level": 1,
     "metadata": {},
     "source": [
      "Graficaci\u00f3n $\\tau$ vs. proporci\u00f3n $\\mathrm{N_2}$"
     ]
    },
    {
     "cell_type": "code",
     "collapsed": false,
     "input": [
      "pAltaTaus500= np.array([129.5, 129.4, 128.7, 129.3, 129.09, 128.9 ])\n",
      "pAltaTaus199= np.array([131.62, 131.51, 131.7, 131.6, 132.3, 133.1, 138.3 ])\n",
      "pAltaTaus197= np.array([128.1, 128.0, 128.2, 127.66, 127.7, 127.8, 127.9 ])\n",
      "pAltaTaus145= np.array([122.6, 122.03, 121.8, 122.0, 121.67, 121.3, 121.69])\n",
      "pAltaTaus098= np.array([125.5, 125.6 ])\n",
      "pAltaTaus050= np.array([125.7, 125.7, 126.0, 125.8, 125.6, 125.9, 125.24 ])\n",
      "pAltaTaus000= np.array([173.7, 172.5, 173.7, 173.7, 173.1 , 173.3, 172.8, 173.37 ])"
     ],
     "language": "python",
     "metadata": {},
     "outputs": [],
     "prompt_number": 26
    },
    {
     "cell_type": "code",
     "collapsed": false,
     "input": [
      "pAltaTaus= np.array([pAltaTaus500.mean(), pAltaTaus199.mean(), pAltaTaus197.mean(), pAltaTaus145.mean(), pAltaTaus098.mean(), pAltaTaus050.mean(), pAltaTaus000.mean() ])\n",
      "pAltaRiq= np.array([5.00, 1.99, 1.97, 1.45, 0.98, 0.50, 0.0 ])"
     ],
     "language": "python",
     "metadata": {},
     "outputs": [],
     "prompt_number": 27
    },
    {
     "cell_type": "code",
     "collapsed": false,
     "input": [
      "#Figura con taus\n",
      "fig = plt.figure(1, figsize=(9.5,6.5))\n",
      "ax = plt.axes()\n",
      "ax.set_xlabel(\"$\\mathrm{Riqueza\\ N_2\\ (P_{N_2}/P_{abs})\\ [\\%]}$\",fontsize=25)\n",
      "ax.set_ylabel(\"$\\\\tau\\ \\mathrm{[ns]}$\",fontsize=25)\n",
      "ticklabels_x = ax.get_xticklabels()\n",
      "ticklabels_y = ax.get_yticklabels()\n",
      "for label_x in ticklabels_x:\n",
      "    label_x.set_fontsize(18)\n",
      "    label_x.set_family('serif')\n",
      "for label_y in ticklabels_y:\n",
      "    label_y.set_fontsize(18)\n",
      "    label_y.set_family('serif')\n",
      "ax.plot(pAltaRiq, pAltaTaus, 'sk--', label='$4.871\\mathrm{atm}$')\n",
      "# ax.scatter(pAltaRiq, pAltaTaus, marker= 'o', color='white', edgecolors='black', linewidths=1, s=150, label='$4.871\\mathrm{atm}$')\n",
      "ax.set_xlim(right=5.5, left=-0.5)\n",
      "ax.set_ylim(bottom=90, top=190)\n",
      "ax.legend(fontsize=25)\n",
      "ax.grid()"
     ],
     "language": "python",
     "metadata": {},
     "outputs": [
      {
       "metadata": {},
       "output_type": "display_data",
       "png": "[encoded data removed]",
       "text": [
        "<matplotlib.figure.Figure at 0x7f6dde286438>"
       ]
      }
     ],
     "prompt_number": 28
    }
   ],
   "metadata": {}
  }
 ]
}