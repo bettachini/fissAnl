{
 "metadata": {
  "name": "",
  "signature": "sha256:373cd4304168846b3be5b7c6cc1b362f3ccfd4d137459ea0753f0faa38a8a649"
 },
 "nbformat": 3,
 "nbformat_minor": 0,
 "worksheets": [
  {
   "cells": [
    {
     "cell_type": "code",
     "collapsed": false,
     "input": [
      "import matplotlib\n",
      "import numpy as np\n",
      "import matplotlib.pyplot as plt\n",
      "%matplotlib inline\n",
      "# coding=utf-8"
     ],
     "language": "python",
     "metadata": {},
     "outputs": [],
     "prompt_number": 2
    },
    {
     "cell_type": "heading",
     "level": 1,
     "metadata": {},
     "source": [
      "An\u00e1lisis \u00e1reas - Intento desde limpio"
     ]
    },
    {
     "cell_type": "heading",
     "level": 2,
     "metadata": {},
     "source": [
      "Funciones \u00e1rea"
     ]
    },
    {
     "cell_type": "code",
     "collapsed": false,
     "input": [
      "def tauAreaMax(iAMC, prop= 0.25, rechazo= 0.05):\n",
      "    '''\n",
      "    (array, array) -> array\n",
      "    T: vector tiempos\n",
      "    Meas2: array (2,:) con Meas2[0] canal 1, Meas2[0] canal 2, producto de np.vstack\n",
      "\n",
      "    Retorna:\n",
      "    \u00edndice vector tiempo subida entre 10% y 90% canal 2 (ch2: AMC)\n",
      "    \u00c1rea total: por sobre nivel de base entre 10% a izquierda y derecha (ch2: AMC)\n",
      "    \u00c1rea subida: por sobre nivel de base entre 10% a izquierda y m\u00e1ximo (ch2: AMC)\n",
      "    M\u00e1ximo (ch2: AMC)\n",
      "    '''\n",
      "    maxIx= iAMC.argmax() # \u00edndice m\u00e1ximo\n",
      "    # m\u00e1ximo promediado cercano\n",
      "    rangoCercano= 20 # tres lecturas a izq y derecha\n",
      "    iAMCMax= (iAMC[maxIx- rangoCercano: maxIx+ rangoCercano]).mean()   \n",
      "\n",
      "    erstePunkten= int(iAMC.size* prop)\n",
      "    ch2Erste= iAMC[0:erstePunkten-1]\n",
      "    iAMCProm= ch2Erste.mean()\n",
      "    \n",
      "    if (ch2Erste.std() > (np.abs((iAMCMax- iAMCProm )* rechazo))): # desvio standard AMC> (m\u00e1ximo- nivel base) * rechazo\n",
      "        return np.zeros(4) # cuidar que tenga igual dimensi\u00f3n que salida\n",
      "    else:\n",
      "        # diferencia m\u00e1ximo- base\n",
      "        difMaxMin= iAMCMax- iAMCProm # usa promediado cercano\n",
      "        # Diferencias de potencial para 10%, 90% de excursi\u00f3n\n",
      "        v10= iAMCProm+ 0.1* difMaxMin\n",
      "        v90= iAMCProm+ 0.9* difMaxMin\n",
      "        # \u00cdndices para primer potencial del pulso que exceda 10%, y \u00faltimo por debajo 90% \n",
      "        ixTauiAMC= np.array([maxIx, maxIx])\n",
      "        while (iAMC[ixTauiAMC[0]]> v10):\n",
      "            ixTauiAMC[0]-= 1\n",
      "        while (iAMC[ixTauiAMC[1]]> v90):\n",
      "            ixTauiAMC[1]-= 1\n",
      "        iAMCTau= ixTauiAMC[1]- ixTauiAMC[0] # el vector \n",
      "        # Area\n",
      "        ixAMC10ProzentRicht= maxIx # empiezo por m\u00e1ximo\n",
      "        while (iAMC[ixAMC10ProzentRicht]> v10):\n",
      "            ixAMC10ProzentRicht+= 1\n",
      "        # ixTau[1], maxIx[1], ixAMC10ProzentRicht\n",
      "        # hay que sumar diferencia AMC con este nivel desde el \u00edndice 10% izquierda hasta derecha\n",
      "        iAMCAreaSubida= (iAMC[ixTauiAMC[0]: maxIx] - iAMCProm).sum()\n",
      "        iAMCAreaTotal= iAMCAreaSubida+ (iAMC[maxIx+ 1: ixAMC10ProzentRicht] - iAMCProm).sum()\n",
      "        return np.array([iAMCTau, iAMCMax, iAMCAreaSubida, iAMCAreaTotal])"
     ],
     "language": "python",
     "metadata": {},
     "outputs": [],
     "prompt_number": 3
    },
    {
     "cell_type": "code",
     "collapsed": false,
     "input": [
      "def conversionV(npzData):\n",
      "    \"\"\" acq -> np.array: [ceroAMCPto, pasoVerticalAMCVoltPto, ceroFLUCPto, pasoVerticalFLUCVoltPto]\n",
      "\n",
      "    Da factores de conservi\u00f3n para de Meas2 con niveles en enteros obtener niveles en potencial el\u00e9ctrico.\n",
      "    e.g. potencialAMC= (Meas2[1,:]- ceroAMCPto)* pasoVerticalAMCVoltPto\n",
      "    \n",
      "    >>> conversionV(acq)\n",
      "    'olleh'\n",
      "    \"\"\"\n",
      "    # Constructivo del Tek 2002B\n",
      "    divVert= 8 # numero de divisiones verticales\n",
      "    divHoriz= 10\n",
      "    ptosVert= 2**8 # 8 bits definici\u00f3n vertical\n",
      "    ptosHoriz= 2500\n",
      "    # npZData.items() # lista los elementos en el archivo de aquisici\u00f3n en memoria\n",
      "    settingsList= npzData['settings'].tolist()\n",
      "    \n",
      "    # Vertical (potencial)\n",
      "    escalaFLUCVoltsDiv= settingsList['SCALE1'] # [V/div]\n",
      "    pasoVerticalFLUCVoltPto= escalaFLUCVoltsDiv* divVert/ ptosVert # [V/div]\n",
      "    escalaAMCVoltsDiv= settingsList['SCALE2'] # [V/div]\n",
      "    pasoVerticalAMCVoltPto= escalaAMCVoltsDiv* divVert/ ptosVert # [V/div]\n",
      "    ceroFLUCDiv= settingsList['POSITION1'] # [div]\n",
      "    ceroFLUCPto= ceroFLUCDiv* divVert/ ptosVert # [ptos]\n",
      "    ceroAMCDiv= settingsList['POSITION2'] # [div]\n",
      "    ceroAMCPto= ceroAMCDiv* ptosVert/ divVert # [ptos]\n",
      "    \n",
      "    return ceroAMCPto, pasoVerticalAMCVoltPto, ceroFLUCPto, pasoVerticalFLUCVoltPto"
     ],
     "language": "python",
     "metadata": {},
     "outputs": [],
     "prompt_number": 4
    },
    {
     "cell_type": "code",
     "collapsed": false,
     "input": [
      "def agrupadorTauMaxAreas(npzData, prop=0.25):\n",
      "    '''\n",
      "    (npzData) -> (array)\n",
      "    recorre todas las adquisiciones en npzData\n",
      "    \n",
      "    entrega array con filas [tauAMCi, tauFLUCi, areaTotalAMCi, areaSubidaAMCi, maxAMCi]\n",
      "    '''\n",
      "    T= npzData['zeit']\n",
      "    AMC= npzData['ch2']\n",
      "    messungenZahl= AMC.shape\n",
      "    numAdq= messungenZahl[0] # numero de adquisiciones en npzData\n",
      "    finales= np.empty([numAdq,4])\n",
      "    validas=0\n",
      "    \n",
      "    # conversi\u00f3n\n",
      "    pasoT= T[1]-T[0]\n",
      "    ceroAMCPto, pasoVerticalAMCVoltPto, ceroFLUCPto, pasoVerticalFLUCVoltPto= conversionV(npzData)\n",
      "    \n",
      "    for adqActual in range(numAdq):\n",
      "        iAMC= AMC[adqActual]\n",
      "        # print(adqActual)\n",
      "        # parciales=  tauAreaMax(iAMC)\n",
      "        # parciales[0]*= pasoT\n",
      "        try: # IndexError: index out of bounds\n",
      "            parciales=  tauAreaMax(iAMC)# np.array([ixTauiAMC, iAMCMax, iAMCAreaSubida, iAMCAreaTotal]) [cuentas]\n",
      "            parciales[0]*= pasoT # ixTauiAMC [s]\n",
      "            parciales[1]= (parciales[1]- ceroAMCPto)* pasoVerticalAMCVoltPto # iAMCMax [V]\n",
      "            parciales[2]= (parciales[2]- messungenZahl[1]* ceroAMCPto)* pasoT # iAMCAreaSubida [Vs] <anl150907>\n",
      "            parciales[3]= (parciales[3]- messungenZahl[1]* ceroAMCPto)* pasoT # iAMCAreaTotal [Vs] <anl150907>\n",
      "        except IndexError:\n",
      "            parciales= np.zeros(4)\n",
      "        # print(parciales[0], parciales)\n",
      "        if (parciales[0]>0):\n",
      "            # print(validas, parciales[0], parciales[3])\n",
      "            finales[validas]= parciales\n",
      "            validas+=1\n",
      "    finales= finales[0:-(numAdq-validas)]\n",
      "    return finales"
     ],
     "language": "python",
     "metadata": {},
     "outputs": [],
     "prompt_number": 5
    },
    {
     "cell_type": "code",
     "collapsed": false,
     "input": [
      "def desvioEstandardCuasiNoSesgado(datos):\n",
      "    '''\n",
      "    Estimador cuasi no sesgado de la desviaci\u00f3n estandar.\n",
      "    https://en.wikipedia.org/wiki/Unbiased_estimation_of_standard_deviation\n",
      "    '''\n",
      "    media= np.mean(datos)\n",
      "    suma=0\n",
      "    for i in datos:\n",
      "        aux= (datos[i]- media)\n",
      "        suma+= aux**2\n",
      "    desv= np.sqrt(suma/( np.size(datos)- 1.5) ) \n",
      "    return desv\n",
      "\n",
      "\n",
      "def errorEstandard(datos):\n",
      "    '''\n",
      "    Estimador de la desviaci\u00f3n estandar del promedio.\n",
      "    Usa la desviaci\u00f3n estandar de la poblaci\u00f3n y la divide por la ra\u00edz del n\u00famero de elementos en la poblaci\u00f3n.\n",
      "    https://en.wikipedia.org/wiki/Standard_error\n",
      "    '''\n",
      "    return desvioEstandardCuasiNoSesgado(datos)/ np.sqrt(np.size(datos))"
     ],
     "language": "python",
     "metadata": {},
     "outputs": [],
     "prompt_number": 6
    },
    {
     "cell_type": "code",
     "collapsed": false,
     "input": [
      "def neufBin(entrada, corte, unidad='Unidad [u.a.]'):\n",
      "    bins= 120\n",
      "    binHist=corte*bins\n",
      "    fig = plt.figure(figsize=(18,5))  # an empty figure with no axes\n",
      "    ax_lst= fig.add_subplot(1,2,2)\n",
      "    n, bins, patches= ax_lst.hist(entrada, bins)\n",
      "    ax_lst.set_ylabel('Cuentas')\n",
      "    ax_lst.set_xlabel(unidad)\n",
      "    intermedio = np.ma.masked_greater(entrada, bins[binHist])\n",
      "    primerCampana= intermedio.compressed()\n",
      "    ax_lst2= fig.add_subplot(1,2,1)\n",
      "    ax_lst2.set_ylabel('Cuentas')\n",
      "    ax_lst2.set_xlabel(unidad)\n",
      "    n_i, bins_i, patches_i= ax_lst2.hist(primerCampana, bins=20)\n",
      "    return (primerCampana.size, primerCampana.mean(), errorEstandard(primerCampana) )"
     ],
     "language": "python",
     "metadata": {},
     "outputs": [],
     "prompt_number": 7
    },
    {
     "cell_type": "code",
     "collapsed": false,
     "input": [
      "def dataPathFile(mes, dia, acq):\n",
      "    path= './data/'\n",
      "    fNS= 'acq15'+ '{:02n}'.format(mes)+ '{:02n}'.format(dia)+ 'z'\n",
      "    fNE= '.npy.npz'\n",
      "    return path+ fNS+ '{:02n}'.format(acq)+fNE"
     ],
     "language": "python",
     "metadata": {},
     "outputs": [],
     "prompt_number": 8
    },
    {
     "cell_type": "heading",
     "level": 2,
     "metadata": {},
     "source": [
      "Ensayo agrupadorTauMaxAreas"
     ]
    },
    {
     "cell_type": "code",
     "collapsed": false,
     "input": [
      "mes= 6\n",
      "dia= 15\n",
      "acqN= 1\n",
      "npzData= np.load(dataPathFile(mes, dia, acqN))"
     ],
     "language": "python",
     "metadata": {},
     "outputs": [],
     "prompt_number": 9
    },
    {
     "cell_type": "code",
     "collapsed": false,
     "input": [
      "finales= agrupadorTauMaxAreas(npzData)"
     ],
     "language": "python",
     "metadata": {},
     "outputs": [],
     "prompt_number": 10
    },
    {
     "cell_type": "code",
     "collapsed": false,
     "input": [
      "# tiempos de subida (risetime AMC)\n",
      "taus= finales[:,0] # [s]\n",
      "neufBin(taus, 0.2, 'T [s]')"
     ],
     "language": "python",
     "metadata": {},
     "outputs": [
      {
       "metadata": {},
       "output_type": "display_data",
       "png": "[encoded data removed]",
       "text": [
        "<matplotlib.figure.Figure at 0x7f5c25685ac8>"
       ]
      }
     ],
     "prompt_number": 11
    },
    {
     "cell_type": "code",
     "collapsed": false,
     "input": [
      "import matplotlib.ticker as tkr\n",
      "\n",
      "entrada= taus\n",
      "corte=0.2\n",
      "unidad= 'T [s]'\n",
      "ancho= 16/2.54 # [in]\n",
      "\n",
      "bins= 120\n",
      "binHist=corte*bins\n",
      "fig = plt.figure(figsize=(ancho,2*ancho*(5/18)))  # an empty figure with no axes\n",
      "ax_lst= fig.add_subplot(1,1,1)\n",
      "n, bins, patches= ax_lst.hist(entrada, bins)\n",
      "ax_lst.set_ylabel('Cuentas')\n",
      "ax_lst.set_xlabel(unidad)\n",
      "\n",
      "def func(x, pos):  # formatter function takes tick label and tick position\n",
      "   s = '{:.1e}'.format(x)\n",
      "   return s\n",
      "x_format = tkr.FuncFormatter(func)  # make formatter\n",
      "ax_lst.xaxis.set_major_formatter(x_format)  # set formatter to needed axis\n",
      "\n",
      "intermedio = np.ma.masked_greater(entrada, bins[binHist])\n",
      "primerCampana= intermedio.compressed()\n",
      "ax_lst2= fig.add_subplot(2,2,2)\n",
      "ax_lst2.set_ylabel('Cuentas')\n",
      "ax_lst2.set_xlabel(unidad)\n",
      "ax_lst2.xaxis.set_major_formatter(x_format)  # set formatter to needed axis\n",
      "plt.locator_params(axis = 'y', nbins = 4)\n",
      "n_i, bins_i, patches_i= ax_lst2.hist(primerCampana, bins=20)\n",
      "plt.savefig('tausEjemplo.pgf')"
     ],
     "language": "python",
     "metadata": {},
     "outputs": [
      {
       "metadata": {},
       "output_type": "display_data",
       "png": "[encoded data removed]",
       "text": [
        "<matplotlib.figure.Figure at 0x7f5c231009e8>"
       ]
      }
     ],
     "prompt_number": 76
    },
    {
     "cell_type": "code",
     "collapsed": false,
     "input": [
      "# m\u00e1ximo del pico AMC\n",
      "maxs= finales[:,1] # [V]\n",
      "neufBin(maxs, 0.2, '$\\Delta V$ [V]')"
     ],
     "language": "python",
     "metadata": {},
     "outputs": [
      {
       "metadata": {},
       "output_type": "pyout",
       "prompt_number": 12,
       "text": [
        "(1383, 1.1922103782537974, 0.0025369640302492251)"
       ]
      },
      {
       "metadata": {},
       "output_type": "display_data",
       "png": "[encoded data removed]",
       "text": [
        "<matplotlib.figure.Figure at 0x7f5c25685940>"
       ]
      }
     ],
     "prompt_number": 12
    },
    {
     "cell_type": "code",
     "collapsed": false,
     "input": [
      "# \u00c1rea de subida (hasta el pico AMC)\n",
      "areaSubida= finales[:,2] # [Vs]\n",
      "neufBin(areaSubida, 0.6, '$\\Delta V t$ [$V\\cdot s$]')"
     ],
     "language": "python",
     "metadata": {},
     "outputs": [
      {
       "metadata": {},
       "output_type": "pyout",
       "prompt_number": 13,
       "text": [
        "(2123, 0.00049433927778787972, 2.5973605100010482e-08)"
       ]
      },
      {
       "metadata": {},
       "output_type": "display_data",
       "png": "[encoded data removed]",
       "text": [
        "<matplotlib.figure.Figure at 0x7f5c231cd208>"
       ]
      }
     ],
     "prompt_number": 13
    },
    {
     "cell_type": "code",
     "collapsed": false,
     "input": [
      "plt.figure()"
     ],
     "language": "python",
     "metadata": {},
     "outputs": []
    }
   ],
   "metadata": {}
  }
 ]
}