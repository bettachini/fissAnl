{
 "metadata": {
  "name": "",
  "signature": "sha256:7670bcb70718bb5848a946f207dd7614b13f7e212deeff5ed2273a89d260e746"
 },
 "nbformat": 3,
 "nbformat_minor": 0,
 "worksheets": [
  {
   "cells": [
    {
     "cell_type": "code",
     "collapsed": false,
     "input": [
      "import matplotlib\n",
      "import numpy as np\n",
      "import matplotlib.pyplot as plt\n",
      "%matplotlib inline\n",
      "# coding=utf-8\n",
      "\n",
      "import time\n",
      "\n",
      "# refresca de lo importado cada vez que se hace ejecuci\u00f3n\n",
      "# %load_ext autoreload\n",
      "# %autoreload 2\n",
      "\n",
      "path= './data/'"
     ],
     "language": "python",
     "metadata": {},
     "outputs": [],
     "prompt_number": 4
    },
    {
     "cell_type": "heading",
     "level": 1,
     "metadata": {},
     "source": [
      "Graficaci\u00f3n, funciones"
     ]
    },
    {
     "cell_type": "code",
     "collapsed": false,
     "input": [
      "def darstellungNurZwei(T, Meas2, sav= None):\n",
      "    '''\n",
      "    T: times vector\n",
      "    Meas2: Both channels 2D array\n",
      "    sav: plot filename (eps)\n",
      "    '''\n",
      "        \n",
      "    fig, (ax0, ax1) = plt.subplots(nrows=2, sharex=True)\n",
      "    fig.set_size_inches(10,8)\n",
      "    fig.subplots_adjust(hspace=0.000)\n",
      "\n",
      "    ax0.plot(T, Meas2[0,:], 'y')\n",
      "    # Make the y-axis label and tick labels match the line color.\n",
      "    ax0.set_ylabel('ch 1 [V]', color='y')\n",
      "    ax0.grid(True)\n",
      "\n",
      "    ax1.plot(T, Meas2[1,:], 'c')\n",
      "    ax1.set_ylabel('ch 2 [V]', color='c')\n",
      "    ax1.set_xlabel('tiempo [s]')\n",
      "    ax1.grid(True)\n",
      "    \n",
      "    if (sav):\n",
      "        plt.savefig('./data/plots/'+ sav+ '.eps')\n",
      "    else:\n",
      "        plt.show()"
     ],
     "language": "python",
     "metadata": {},
     "outputs": [],
     "prompt_number": 5
    },
    {
     "cell_type": "code",
     "collapsed": false,
     "input": [
      "# lee archivo npy en la ruta datei y grafica cada medici\u00f3n\n",
      "def dateiDarstellung(datei, sav= None):\n",
      "    '''\n",
      "    str -> ()\n",
      "    \n",
      "    De un archivo npy grafica cada medici\u00f3n (\u00edndice), ambos canales.\n",
      "    '''\n",
      "    lu= np.load(datei)\n",
      "    zeit= lu[0]\n",
      "    messungenZahl= lu.shape[0]\n",
      "    for i in range(1, messungenZahl, 2):\n",
      "        ix= int((i-1)/2)\n",
      "        print('medici\u00f3n = '+ str(ix), ', \u00edndiceCH1= '+ str(i))\n",
      "        Meas2= np.vstack([lu[i], lu[i+1]])\n",
      "        if (sav):\n",
      "            savi= sav+ str(i)\n",
      "            darstellungNurZwei(zeit, Meas2, savi)\n",
      "        else:\n",
      "            darstellungNurZwei(zeit, Meas2)"
     ],
     "language": "python",
     "metadata": {},
     "outputs": [],
     "prompt_number": 6
    },
    {
     "cell_type": "code",
     "collapsed": false,
     "input": [
      "def dertellungZ(npzData):\n",
      "    '''\n",
      "    Grafica canal AMC y FLUC de archivo acq comprimido\n",
      "    \n",
      "    npzData= numpy.lib.npyio.NpzFile\n",
      "    '''\n",
      "    FLUC= npzData['ch1']\n",
      "    AMC= npzData['ch2']\n",
      "\n",
      "    messungenZahl= AMC.shape\n",
      "\n",
      "    # tiempo\n",
      "    T= npzData['zeit']\n",
      "\n",
      "    tauAMC= np.empty([messungenZahl[0], 1])\n",
      "    for i in range(messungenZahl[0]):\n",
      "        Meas2= np.array([FLUC[i], AMC[i] ] )\n",
      "        darstellungNurZwei(T, Meas2)\n",
      "    return tauAMC"
     ],
     "language": "python",
     "metadata": {},
     "outputs": [],
     "prompt_number": 7
    },
    {
     "cell_type": "heading",
     "level": 1,
     "metadata": {},
     "source": [
      "Risetime, funciones"
     ]
    },
    {
     "cell_type": "code",
     "collapsed": false,
     "input": [
      "def baseAcq(acqFile, prop=0.25):\n",
      "    '''\n",
      "    (array, float) -> array\n",
      "    \n",
      "    De la primer fracci\u00f3n prop de ambos canales de todas las adquisiciones en acqFile,\n",
      "    obtiene el promedio y dispersi\u00f3n que se asume como nivel de base\n",
      "    grProm[0]: promedio ch1, grProm[1]: promedio ch2,\n",
      "    grProm[2]: desviaci\u00f3n estandard ch1, grProm[3]: desviaci\u00f3n estandard ch2\n",
      "    '''\n",
      "    messungenZahl= acqFile.shape\n",
      "    erstePunkten= int(messungenZahl[1]* prop)\n",
      "    prom= np.zeros([int((messungenZahl[0]- 1)/ 2), 4])\n",
      "    for i in range(1, messungenZahl[0], 2):\n",
      "        ix= int((i-1)/2)\n",
      "        ch1Erste= acqFile[i][0:erstePunkten-1]\n",
      "        ch2Erste= acqFile[i+1][0:erstePunkten-1]\n",
      "        prom[ix,0]= ch1Erste.mean()\n",
      "        prom[ix,1]= ch2Erste.mean()\n",
      "        prom[ix,2]= ch1Erste.std()\n",
      "        prom[ix,3]= ch2Erste.std()\n",
      "    return prom"
     ],
     "language": "python",
     "metadata": {},
     "outputs": [],
     "prompt_number": 8
    },
    {
     "cell_type": "code",
     "collapsed": false,
     "input": [
      "def baseMeas2(Meas2, messungenZahl, prop=0.25):\n",
      "    '''\n",
      "    (array, array, float) -> array\n",
      "    \n",
      "    De la primer fracci\u00f3n prop de ambos canales en Meas2,\n",
      "    obtiene el promedio y dispersi\u00f3n que se asume como nivel de base\n",
      "    grProm[0]: promedio ch1, grProm[1]: promedio ch2,\n",
      "    grProm[2]: desviaci\u00f3n estandard ch1, grProm[3]: desviaci\u00f3n estandard ch2\n",
      "    '''\n",
      "    erstePunkten= int(messungenZahl[1]* prop)\n",
      "    ch1Erste= Meas2[0][0:erstePunkten-1]\n",
      "    ch2Erste= Meas2[1][0:erstePunkten-1]\n",
      "    return np.array([ch1Erste.mean(), ch2Erste.mean(), ch1Erste.std(), ch2Erste.std() ] )"
     ],
     "language": "python",
     "metadata": {},
     "outputs": [],
     "prompt_number": 9
    },
    {
     "cell_type": "code",
     "collapsed": false,
     "input": [
      "def tauCeti2(T, Meas2, messungenZahl, prop):\n",
      "    '''\n",
      "    Calcula \u00edndices risetime como tiempo entre 10% y 90% de excursi\u00f3n entre nivel de base y m\u00e1ximo\n",
      "   \n",
      "    Meas2: array (2,:) con Meas2[0] canal 1, Meas2[0] canal 2, producto de np.vstack\n",
      "    baseMeas2: base(Meas2)\n",
      "    '''\n",
      "    # niveles base\n",
      "    bMeas2= baseMeas2(Meas2, messungenZahl, prop)\n",
      "\n",
      "    # \u00edndice m\u00e1ximo\n",
      "    maxIx= (Meas2[0].argmax(), Meas2[1].argmax() )\n",
      "\n",
      "    # m\u00e1ximo promediado cercano\n",
      "    rangoCercano= 20 # tres lecturas a izq y derecha\n",
      "    maxCH1= (Meas2[0][maxIx[0]- rangoCercano: maxIx[0]+ rangoCercano]).mean()\n",
      "    maxCH2= (Meas2[1][maxIx[1]- rangoCercano: maxIx[1]+ rangoCercano]).mean()\n",
      "\n",
      "    # diferencia m\u00e1ximo- base\n",
      "    # maxCH1= Meas2[0][maxIx[0]] # max CH1\n",
      "    # maxCH2= Meas2[1][maxIx[1]] # max CH2\n",
      "    # deltaV= np.array([Meas2[0][maxIx[0]]- bMeas2[0], Meas2[1][maxIx[1]]- bMeas2[1]])\n",
      "    deltaV= np.array([maxCH1- bMeas2[0],maxCH2- bMeas2[1]]) # usa promediado cercano\n",
      "\n",
      "    # Diferencias de potencial para 10%, 90% de excursi\u00f3n\n",
      "    v10= bMeas2[0:2]+ 0.1* deltaV\n",
      "    v90= bMeas2[0:2]+ 0.9* deltaV\n",
      "\n",
      "    # \u00cdndices para primer potencial del pulso que exceda 10%, y \u00faltimo por debajo 90% \n",
      "    ixTau= np.array([0, 0, maxIx[0], maxIx[1]])\n",
      "    while (Meas2[0,ixTau[0]]< v10[0]):\n",
      "        ixTau[0]+= 1\n",
      "    while (Meas2[1,ixTau[1]]< v10[1]):\n",
      "        ixTau[1]+= 1\n",
      "    while (Meas2[0,ixTau[2]]> v90[0]):\n",
      "        ixTau[2]-= 1\n",
      "    while (Meas2[1,ixTau[3]]> v90[1]):\n",
      "        ixTau[3]-= 1\n",
      "        \n",
      "    return np.array([T[ixTau[2]]- T[ixTau[0]], T[ixTau[3]]- T[ixTau[1]] ])"
     ],
     "language": "python",
     "metadata": {},
     "outputs": [],
     "prompt_number": 10
    },
    {
     "cell_type": "code",
     "collapsed": false,
     "input": [
      "def tauAMC2(acqData, prop= 0.25):\n",
      "    '''\n",
      "    Genera vectores de promedio y dispersi\u00f3n del risetime de ambos canales a partir de archivo acq*\n",
      "    \n",
      "    archivo: acq* \n",
      "    prop= porcentaje inferior del canal a promediar para obtener nivel de base     \n",
      "    '''\n",
      "    messungenZahl= acqData.shape\n",
      "\n",
      "    # tiempo\n",
      "    T= acqData[0]\n",
      "\n",
      "    tauAMC= np.empty([int((messungenZahl[0]- 1)/ 2), 1])\n",
      "    for i in range(1, messungenZahl[0], 2):\n",
      "        Meas2= np.array([acqData[i], acqData[i+1] ] )\n",
      "        ix= int((i-1)/2)\n",
      "        tauAMC[ix]= tauCeti2(T, Meas2, messungenZahl, prop)[1]\n",
      "    return tauAMC"
     ],
     "language": "python",
     "metadata": {},
     "outputs": [],
     "prompt_number": 11
    },
    {
     "cell_type": "code",
     "collapsed": false,
     "input": [
      "def tauAMCz(npzData, prop= 0.25):\n",
      "    '''\n",
      "    Vectores risetime canal AMC de archivo acq comprimido\n",
      "    \n",
      "    npzData= numpy.lib.npyio.NpzFile\n",
      "    prop= porcentaje inferior del canal a promediar para obtener nivel de base     \n",
      "    '''\n",
      "    FLUC= npzData['ch1']\n",
      "    AMC= npzData['ch2']\n",
      "\n",
      "    messungenZahl= AMC.shape\n",
      "\n",
      "    # tiempo\n",
      "    T= npzData['zeit']\n",
      "\n",
      "    tauAMC= np.empty([messungenZahl[0], 1])\n",
      "    for i in range(messungenZahl[0]):\n",
      "        Meas2= np.array([FLUC[i], AMC[i] ] )\n",
      "        tauAMC[i]= tauCeti2(T, Meas2, messungenZahl, prop)[1]\n",
      "    return tauAMC"
     ],
     "language": "python",
     "metadata": {},
     "outputs": [],
     "prompt_number": 12
    },
    {
     "cell_type": "code",
     "collapsed": false,
     "input": [
      "def desvioEstandardCuasiNoSesgado(datos):\n",
      "    '''\n",
      "    Estimador cuasi no sesgado de la desviaci\u00f3n estandar.\n",
      "    https://en.wikipedia.org/wiki/Unbiased_estimation_of_standard_deviation\n",
      "    '''\n",
      "    media= np.mean(datos)\n",
      "    suma=0\n",
      "    for i in datos:\n",
      "        aux= (datos[i]- media)\n",
      "        suma+= aux**2\n",
      "    desv= np.sqrt(suma/( np.size(datos)- 1.5) ) \n",
      "    return desv"
     ],
     "language": "python",
     "metadata": {},
     "outputs": [],
     "prompt_number": 13
    },
    {
     "cell_type": "code",
     "collapsed": false,
     "input": [
      "def errorEstandard(datos):\n",
      "    '''\n",
      "    Estimador de la desviaci\u00f3n estandar del promedio.\n",
      "    Usa la desviaci\u00f3n estandar de la poblaci\u00f3n y la divide por la ra\u00edz del n\u00famero de elementos en la poblaci\u00f3n.\n",
      "    https://en.wikipedia.org/wiki/Standard_error\n",
      "    '''\n",
      "    return desvioEstandardCuasiNoSesgado(datos)/ np.sqrt(np.size(datos))"
     ],
     "language": "python",
     "metadata": {},
     "outputs": [],
     "prompt_number": 14
    },
    {
     "cell_type": "heading",
     "level": 1,
     "metadata": {},
     "source": [
      "Espectros, funciones"
     ]
    },
    {
     "cell_type": "code",
     "collapsed": false,
     "input": [
      "def leeCanberreta(fileName):\n",
      "    import csv\n",
      "\n",
      "    extension= '.csv'\n",
      "    path='/oldhome/vbettachini/documents/cnea/campbell/espectros/canberreta/'\n",
      "    canal= np.array([],dtype= np.dtype('int8'))\n",
      "    cuentas= np.array([],dtype= np.dtype('int8'))\n",
      "    with open(path+ fileName+ extension) as csvfile:\n",
      "        lector = csv.reader(csvfile, delimiter='\\t')\n",
      "        for row in lector:\n",
      "            canal= np.hstack(([canal, row[0] ] ) )\n",
      "            cuentas= np.hstack(([cuentas, row[1] ] ) )\n",
      "    return np.vstack(([canal, cuentas ] ) )"
     ],
     "language": "python",
     "metadata": {},
     "outputs": [],
     "prompt_number": 15
    },
    {
     "cell_type": "code",
     "collapsed": false,
     "input": [
      "def leeOrtec(fileName):\n",
      "    '''\n",
      "    Entrada: archivo de texto generado por el GammaVision\n",
      "    Salida: array de enteros con n\u00famero de cuentas por canal\n",
      "    '''\n",
      "    # Lee archivo Ortec\n",
      "    path='/oldhome/vbettachini/documents/cnea/campbell/espectros/'\n",
      "    fl= open(path+fileName, 'r')\n",
      "    datos= fl.readlines()\n",
      "    fl.close()\n",
      "    datos= datos[26:] # descarta pre\u00e1mbulo\n",
      "    # transcribe cuentas a un array\n",
      "    cuentas= np.array([],dtype= np.dtype('int8'))\n",
      "    for linea in datos:\n",
      "        # print(linea)\n",
      "        intermedio= linea.split()\n",
      "        for i in intermedio[1:]:\n",
      "            cuentas= np.hstack(([cuentas, int(i) ] ) )\n",
      "    return cuentas"
     ],
     "language": "python",
     "metadata": {},
     "outputs": [],
     "prompt_number": 16
    },
    {
     "cell_type": "code",
     "collapsed": false,
     "input": [
      "def derstellungOrtec(filesList, norm=True):\n",
      "    fig = plt.figure(figsize=(10,5))  # an empty figure with no axes\n",
      "    ax_lst= fig.add_subplot(111)\n",
      "    ax_lst.grid()\n",
      "    ax_lst.set_xlim(right=150)\n",
      "    ax_lst.set_ylim(bottom=1E-3, top=2E-1)\n",
      "    ax_lst.set_xlabel('Canal')\n",
      "    if norm:\n",
      "        ax_lst.set_ylabel('Cuentas normalizadas')\n",
      "    else:\n",
      "        ax_lst.set_ylabel('Cuentas')\n",
      "    for fileName in filesList:\n",
      "        fileNameO= fileName+'.Txt'\n",
      "        erste= leeOrtec(fileNameO)\n",
      "        if norm:\n",
      "            ax_lst.semilogy(erste/erste.sum(), label= fileName)\n",
      "        else:\n",
      "            ax_lst.semilogy(erste, label= fileName)\n",
      "    ax_lst.legend()"
     ],
     "language": "python",
     "metadata": {},
     "outputs": [],
     "prompt_number": 17
    },
    {
     "cell_type": "heading",
     "level": 1,
     "metadata": {},
     "source": [
      "Cambio composici\u00f3n"
     ]
    },
    {
     "cell_type": "code",
     "collapsed": false,
     "input": [
      "conv= 98066.5* (1/101325) # presi\u00f3n absoluta atm/(kgf/cm2)= (Pa/(kgf/cm2))* (atm/Pa)\n",
      "pAtm= 1/conv # [kgf/cm\u00b2] (abs)"
     ],
     "language": "python",
     "metadata": {},
     "outputs": [],
     "prompt_number": 18
    },
    {
     "cell_type": "heading",
     "level": 2,
     "metadata": {},
     "source": [
      "Lo que hay"
     ]
    },
    {
     "cell_type": "code",
     "collapsed": false,
     "input": [
      "# Tres c\u00e1maras: topo superior, topo inferior (incluye tubo al detector), detector (despu\u00e9s de v\u00e1lvula propia)\n",
      "riquezaActual= 0 # [P_{N_2}/P_Ar] (abs)\n",
      "pAbierta= 3.500 # [kgf/cm\u00b2] (rel)"
     ],
     "language": "python",
     "metadata": {},
     "outputs": [],
     "prompt_number": 19
    },
    {
     "cell_type": "heading",
     "level": 2,
     "metadata": {},
     "source": [
      "Objetivo"
     ]
    },
    {
     "cell_type": "code",
     "collapsed": false,
     "input": [
      "pObjetivo= 4.00 # [kgf/cm\u00b2] (rel)\n",
      "pObjetivo+= pAtm # [kgf/cm\u00b2] (abs)\n",
      "riquezaObjetivo= 0.005\n",
      "pN2Objetivo= pObjetivo* riquezaObjetivo\n",
      "pArObjetivo= pObjetivo- pN2Objetivo\n",
      "pN2Llenar= pN2Objetivo- pAbierta* riquezaActual\n",
      "riquezaObjetivoVerificacion= (pN2Objetivo)/ pArObjetivo\n",
      "pObjetivoVerificacion= pArObjetivo+ pN2Objetivo\n",
      "pN2Llenar, riquezaObjetivoVerificacion, pObjetivoVerificacion-pAtm"
     ],
     "language": "python",
     "metadata": {},
     "outputs": [
      {
       "metadata": {},
       "output_type": "pyout",
       "prompt_number": 20,
       "text": [
        "(0.025166137263999428, 0.005025125628140704, 4.0)"
       ]
      }
     ],
     "prompt_number": 20
    },
    {
     "cell_type": "code",
     "collapsed": false,
     "input": [
      "pAbierta+ 0.025 # presi\u00f3n man\u00f3metro a llegar sumando N_2"
     ],
     "language": "python",
     "metadata": {},
     "outputs": [
      {
       "metadata": {},
       "output_type": "pyout",
       "prompt_number": 21,
       "text": [
        "3.525"
       ]
      }
     ],
     "prompt_number": 21
    },
    {
     "cell_type": "code",
     "collapsed": false,
     "input": [
      "PLlenarN2Lograda= 3.525\n",
      "pFinalLograda= 4.000\n",
      "\n",
      "pN2Final= pAbierta* riquezaActual+ (PLlenarN2Lograda- pAbierta)\n",
      "pArFinal= pFinalLograda- pN2Final\n",
      "pArFinal+= pAtm\n",
      "pAtmFinal= conv* (pArFinal+ pN2Final)\n",
      "riquezaFinal= pN2Final/ pArFinal\n",
      "pN2Final, pArFinal, pAtmFinal, riquezaFinal"
     ],
     "language": "python",
     "metadata": {},
     "outputs": [
      {
       "metadata": {},
       "output_type": "pyout",
       "prompt_number": 22,
       "text": [
        "(0.02499999999999991,\n",
        " 5.008227452799886,\n",
        " 4.871364421416236,\n",
        " 0.004991786063155633)"
       ]
      }
     ],
     "prompt_number": 22
    },
    {
     "cell_type": "markdown",
     "metadata": {},
     "source": [
      "$P_\\mathrm{final}\\simeq 4.871 \\mathrm{atm}$, $P_\\mathrm{N_2}/P_\\mathrm{Ar}\\simeq 0.005$"
     ]
    },
    {
     "cell_type": "heading",
     "level": 1,
     "metadata": {},
     "source": [
      "Espectros"
     ]
    },
    {
     "cell_type": "markdown",
     "metadata": {},
     "source": [
      "`150618cc01` Espectro carga, cadena Canberreta, 20 minutos, N=35, 4096 canales\n",
      "\n",
      "C\u00e1mara CFP-35, amplificador 2026, bias$=400\\mathrm{V}$, ganancia$=100\\times0.6$, shaping time$=0.5\\mu s$, polaridad positiva, preamplificador Ortec 142C610, fuente chica. "
     ]
    },
    {
     "cell_type": "code",
     "collapsed": false,
     "input": [
      "cosa= leeCanberreta('150616cc01')\n",
      "plt.grid()\n",
      "plt.plot(cosa[0, 60:150],cosa[1, 60:150])"
     ],
     "language": "python",
     "metadata": {},
     "outputs": [
      {
       "ename": "FileNotFoundError",
       "evalue": "[Errno 2] No such file or directory: '/oldhome/vbettachini/documents/cnea/campbell/espectros/canberreta/150616cc01.csv'",
       "output_type": "pyerr",
       "traceback": [
        "\u001b[0;31m---------------------------------------------------------------------------\u001b[0m\n\u001b[0;31mFileNotFoundError\u001b[0m                         Traceback (most recent call last)",
        "\u001b[0;32m<ipython-input-23-6e8be5b282c6>\u001b[0m in \u001b[0;36m<module>\u001b[0;34m()\u001b[0m\n\u001b[0;32m----> 1\u001b[0;31m \u001b[0mcosa\u001b[0m\u001b[0;34m=\u001b[0m \u001b[0mleeCanberreta\u001b[0m\u001b[0;34m(\u001b[0m\u001b[0;34m'150616cc01'\u001b[0m\u001b[0;34m)\u001b[0m\u001b[0;34m\u001b[0m\u001b[0m\n\u001b[0m\u001b[1;32m      2\u001b[0m \u001b[0mplt\u001b[0m\u001b[0;34m.\u001b[0m\u001b[0mgrid\u001b[0m\u001b[0;34m(\u001b[0m\u001b[0;34m)\u001b[0m\u001b[0;34m\u001b[0m\u001b[0m\n\u001b[1;32m      3\u001b[0m \u001b[0mplt\u001b[0m\u001b[0;34m.\u001b[0m\u001b[0mplot\u001b[0m\u001b[0;34m(\u001b[0m\u001b[0mcosa\u001b[0m\u001b[0;34m[\u001b[0m\u001b[0;36m0\u001b[0m\u001b[0;34m,\u001b[0m \u001b[0;36m60\u001b[0m\u001b[0;34m:\u001b[0m\u001b[0;36m150\u001b[0m\u001b[0;34m]\u001b[0m\u001b[0;34m,\u001b[0m\u001b[0mcosa\u001b[0m\u001b[0;34m[\u001b[0m\u001b[0;36m1\u001b[0m\u001b[0;34m,\u001b[0m \u001b[0;36m60\u001b[0m\u001b[0;34m:\u001b[0m\u001b[0;36m150\u001b[0m\u001b[0;34m]\u001b[0m\u001b[0;34m)\u001b[0m\u001b[0;34m\u001b[0m\u001b[0m\n",
        "\u001b[0;32m<ipython-input-15-5e5401ae8217>\u001b[0m in \u001b[0;36mleeCanberreta\u001b[0;34m(fileName)\u001b[0m\n\u001b[1;32m      6\u001b[0m     \u001b[0mcanal\u001b[0m\u001b[0;34m=\u001b[0m \u001b[0mnp\u001b[0m\u001b[0;34m.\u001b[0m\u001b[0marray\u001b[0m\u001b[0;34m(\u001b[0m\u001b[0;34m[\u001b[0m\u001b[0;34m]\u001b[0m\u001b[0;34m,\u001b[0m\u001b[0mdtype\u001b[0m\u001b[0;34m=\u001b[0m \u001b[0mnp\u001b[0m\u001b[0;34m.\u001b[0m\u001b[0mdtype\u001b[0m\u001b[0;34m(\u001b[0m\u001b[0;34m'int8'\u001b[0m\u001b[0;34m)\u001b[0m\u001b[0;34m)\u001b[0m\u001b[0;34m\u001b[0m\u001b[0m\n\u001b[1;32m      7\u001b[0m     \u001b[0mcuentas\u001b[0m\u001b[0;34m=\u001b[0m \u001b[0mnp\u001b[0m\u001b[0;34m.\u001b[0m\u001b[0marray\u001b[0m\u001b[0;34m(\u001b[0m\u001b[0;34m[\u001b[0m\u001b[0;34m]\u001b[0m\u001b[0;34m,\u001b[0m\u001b[0mdtype\u001b[0m\u001b[0;34m=\u001b[0m \u001b[0mnp\u001b[0m\u001b[0;34m.\u001b[0m\u001b[0mdtype\u001b[0m\u001b[0;34m(\u001b[0m\u001b[0;34m'int8'\u001b[0m\u001b[0;34m)\u001b[0m\u001b[0;34m)\u001b[0m\u001b[0;34m\u001b[0m\u001b[0m\n\u001b[0;32m----> 8\u001b[0;31m     \u001b[0;32mwith\u001b[0m \u001b[0mopen\u001b[0m\u001b[0;34m(\u001b[0m\u001b[0mpath\u001b[0m\u001b[0;34m+\u001b[0m \u001b[0mfileName\u001b[0m\u001b[0;34m+\u001b[0m \u001b[0mextension\u001b[0m\u001b[0;34m)\u001b[0m \u001b[0;32mas\u001b[0m \u001b[0mcsvfile\u001b[0m\u001b[0;34m:\u001b[0m\u001b[0;34m\u001b[0m\u001b[0m\n\u001b[0m\u001b[1;32m      9\u001b[0m         \u001b[0mlector\u001b[0m \u001b[0;34m=\u001b[0m \u001b[0mcsv\u001b[0m\u001b[0;34m.\u001b[0m\u001b[0mreader\u001b[0m\u001b[0;34m(\u001b[0m\u001b[0mcsvfile\u001b[0m\u001b[0;34m,\u001b[0m \u001b[0mdelimiter\u001b[0m\u001b[0;34m=\u001b[0m\u001b[0;34m'\\t'\u001b[0m\u001b[0;34m)\u001b[0m\u001b[0;34m\u001b[0m\u001b[0m\n\u001b[1;32m     10\u001b[0m         \u001b[0;32mfor\u001b[0m \u001b[0mrow\u001b[0m \u001b[0;32min\u001b[0m \u001b[0mlector\u001b[0m\u001b[0;34m:\u001b[0m\u001b[0;34m\u001b[0m\u001b[0m\n",
        "\u001b[0;31mFileNotFoundError\u001b[0m: [Errno 2] No such file or directory: '/oldhome/vbettachini/documents/cnea/campbell/espectros/canberreta/150616cc01.csv'"
       ]
      }
     ],
     "prompt_number": 23
    },
    {
     "cell_type": "heading",
     "level": 1,
     "metadata": {},
     "source": [
      "Adquisiciones"
     ]
    },
    {
     "cell_type": "markdown",
     "metadata": {},
     "source": [
      "Inicio ocho adquisiciones de 2 hs, es decir 2560*2 adquisiciones = 9+(24-17)= 16 hs."
     ]
    },
    {
     "cell_type": "markdown",
     "metadata": {},
     "source": [
      "`150618ec01` Espectro campbelliano, cadena Canberreta, 16 horas, N=20, 4096 canales\n",
      "\n",
      "C\u00e1mara CFP-35, en simultaneo con adquisiciones"
     ]
    },
    {
     "cell_type": "heading",
     "level": 6,
     "metadata": {},
     "source": [
      "acq150618z01: CFP-35, 2x2560 pulsos, $P=4.000\\mathrm{\\frac{kgf}{cm^2}}$ (relativa), $\\mathrm{N_2/Ar}\\simeq0.5\\%$, TRG=$0.6\\mathrm{V}$"
     ]
    },
    {
     "cell_type": "code",
     "collapsed": false,
     "input": [
      "acq= np.load('./data/acq150618z01.npy.npz')\n",
      "taus= tauAMCz(acq)\n",
      "n, bins, patches= plt.hist(taus, bins=120)"
     ],
     "language": "python",
     "metadata": {},
     "outputs": [
      {
       "metadata": {},
       "output_type": "display_data",
       "png": "[encoded data removed]",
       "text": [
        "<matplotlib.figure.Figure at 0x7f6d37481898>"
       ]
      }
     ],
     "prompt_number": 36
    },
    {
     "cell_type": "code",
     "collapsed": false,
     "input": [
      "intermedio = np.ma.masked_greater(taus, bins[8])\n",
      "primerCampana= intermedio.compressed()\n",
      "n_i, bins_i, patches_i= plt.hist(primerCampana, bins=20)\n",
      "primerCampana.size, primerCampana.mean(), errorEstandard(primerCampana)"
     ],
     "language": "python",
     "metadata": {},
     "outputs": [
      {
       "metadata": {},
       "output_type": "pyout",
       "prompt_number": 37,
       "text": [
        "(3501, 2.5102427877749195e-07, 1.6493877028789716e-11)"
       ]
      },
      {
       "metadata": {},
       "output_type": "display_data",
       "png": "[encoded data removed]",
       "text": [
        "<matplotlib.figure.Figure at 0x7f6d372827b8>"
       ]
      }
     ],
     "prompt_number": 37
    },
    {
     "cell_type": "heading",
     "level": 6,
     "metadata": {},
     "source": [
      "acq150618z02: CFP-35, 2x2560 pulsos, $P=4.000\\mathrm{\\frac{kgf}{cm^2}}$ (relativa), $\\mathrm{N_2/Ar}\\simeq0.5\\%$, TRG=$0.6\\mathrm{V}$"
     ]
    },
    {
     "cell_type": "code",
     "collapsed": false,
     "input": [
      "acq= np.load('./data/acq150618z02.npy.npz')\n",
      "taus= tauAMCz(acq)\n",
      "n, bins, patches= plt.hist(taus, bins=120)"
     ],
     "language": "python",
     "metadata": {},
     "outputs": [
      {
       "metadata": {},
       "output_type": "display_data",
       "png": "[encoded data removed]",
       "text": [
        "<matplotlib.figure.Figure at 0x7f6d374e84e0>"
       ]
      }
     ],
     "prompt_number": 38
    },
    {
     "cell_type": "code",
     "collapsed": false,
     "input": [
      "intermedio = np.ma.masked_greater(taus, bins[8])\n",
      "primerCampana= intermedio.compressed()\n",
      "n_i, bins_i, patches_i= plt.hist(primerCampana, bins=20)\n",
      "primerCampana.size, primerCampana.mean(), errorEstandard(primerCampana)"
     ],
     "language": "python",
     "metadata": {},
     "outputs": [
      {
       "metadata": {},
       "output_type": "pyout",
       "prompt_number": 39,
       "text": [
        "(3514, 1.2524473534433684e-07, 2.1002396592217409e-11)"
       ]
      },
      {
       "metadata": {},
       "output_type": "display_data",
       "png": "[encoded data removed]",
       "text": [
        "<matplotlib.figure.Figure at 0x7f6d374da6d8>"
       ]
      }
     ],
     "prompt_number": 39
    },
    {
     "cell_type": "heading",
     "level": 6,
     "metadata": {},
     "source": [
      "acq150618z03: CFP-35, 2x2560 pulsos, $P=4.000\\mathrm{\\frac{kgf}{cm^2}}$ (relativa), $\\mathrm{N_2/Ar}\\simeq0.5\\%$, TRG=$0.6\\mathrm{V}$"
     ]
    },
    {
     "cell_type": "code",
     "collapsed": false,
     "input": [
      "acq= np.load('./data/acq150618z03.npy.npz')\n",
      "taus= tauAMCz(acq)\n",
      "n, bins, patches= plt.hist(taus, bins=120)"
     ],
     "language": "python",
     "metadata": {},
     "outputs": [
      {
       "metadata": {},
       "output_type": "display_data",
       "png": "[encoded data removed]",
       "text": [
        "<matplotlib.figure.Figure at 0x7f6d378caf60>"
       ]
      }
     ],
     "prompt_number": 40
    },
    {
     "cell_type": "code",
     "collapsed": false,
     "input": [
      "intermedio = np.ma.masked_greater(taus, bins[8])\n",
      "primerCampana= intermedio.compressed()\n",
      "n_i, bins_i, patches_i= plt.hist(primerCampana, bins=20)\n",
      "primerCampana.size, primerCampana.mean(), errorEstandard(primerCampana)"
     ],
     "language": "python",
     "metadata": {},
     "outputs": [
      {
       "metadata": {},
       "output_type": "pyout",
       "prompt_number": 41,
       "text": [
        "(3541, 1.2591330132730854e-07, 1.5273380389389772e-10)"
       ]
      },
      {
       "metadata": {},
       "output_type": "display_data",
       "png": "[encoded data removed]",
       "text": [
        "<matplotlib.figure.Figure at 0x7f6d3717e748>"
       ]
      }
     ],
     "prompt_number": 41
    },
    {
     "cell_type": "heading",
     "level": 6,
     "metadata": {},
     "source": [
      "acq150618z04: CFP-35, 2x2560 pulsos, $P=4.000\\mathrm{\\frac{kgf}{cm^2}}$ (relativa), $\\mathrm{N_2/Ar}\\simeq0.5\\%$, TRG=$0.6\\mathrm{V}$"
     ]
    },
    {
     "cell_type": "code",
     "collapsed": false,
     "input": [
      "acq= np.load('./data/acq150618z04.npy.npz')\n",
      "taus= tauAMCz(acq)\n",
      "n, bins, patches= plt.hist(taus, bins=120)"
     ],
     "language": "python",
     "metadata": {},
     "outputs": [
      {
       "metadata": {},
       "output_type": "display_data",
       "png": "[encoded data removed]",
       "text": [
        "<matplotlib.figure.Figure at 0x7f6d3799a940>"
       ]
      }
     ],
     "prompt_number": 42
    },
    {
     "cell_type": "code",
     "collapsed": false,
     "input": [
      "intermedio = np.ma.masked_greater(taus, bins[8])\n",
      "primerCampana= intermedio.compressed()\n",
      "n_i, bins_i, patches_i= plt.hist(primerCampana, bins=20)\n",
      "primerCampana.size, primerCampana.mean(), errorEstandard(primerCampana)"
     ],
     "language": "python",
     "metadata": {},
     "outputs": [
      {
       "metadata": {},
       "output_type": "pyout",
       "prompt_number": 43,
       "text": [
        "(3481, 1.2559465670784222e-07, 1.4249415006183883e-10)"
       ]
      },
      {
       "metadata": {},
       "output_type": "display_data",
       "png": "[encoded data removed]",
       "text": [
        "<matplotlib.figure.Figure at 0x7f6d37554f60>"
       ]
      }
     ],
     "prompt_number": 43
    },
    {
     "cell_type": "heading",
     "level": 6,
     "metadata": {},
     "source": [
      "acq150619z05: CFP-35, 2x2560 pulsos, $P=4.000\\mathrm{\\frac{kgf}{cm^2}}$ (relativa), $\\mathrm{N_2/Ar}\\simeq0.5\\%$, TRG=$0.6\\mathrm{V}$"
     ]
    },
    {
     "cell_type": "code",
     "collapsed": false,
     "input": [
      "acq= np.load('./data/acq150619z05.npy.npz')\n",
      "taus= tauAMCz(acq)\n",
      "n, bins, patches= plt.hist(taus, bins=120)"
     ],
     "language": "python",
     "metadata": {},
     "outputs": [
      {
       "metadata": {},
       "output_type": "display_data",
       "png": "[encoded data removed]",
       "text": [
        "<matplotlib.figure.Figure at 0x7f6d3785bef0>"
       ]
      }
     ],
     "prompt_number": 44
    },
    {
     "cell_type": "code",
     "collapsed": false,
     "input": [
      "intermedio = np.ma.masked_greater(taus, bins[8])\n",
      "primerCampana= intermedio.compressed()\n",
      "n_i, bins_i, patches_i= plt.hist(primerCampana, bins=20)\n",
      "primerCampana.size, primerCampana.mean(), errorEstandard(primerCampana)"
     ],
     "language": "python",
     "metadata": {},
     "outputs": [
      {
       "metadata": {},
       "output_type": "pyout",
       "prompt_number": 45,
       "text": [
        "(3523, 1.2580584728924201e-07, 2.5604284292363504e-10)"
       ]
      },
      {
       "metadata": {},
       "output_type": "display_data",
       "png": "[encoded data removed]",
       "text": [
        "<matplotlib.figure.Figure at 0x7f6d374b0668>"
       ]
      }
     ],
     "prompt_number": 45
    },
    {
     "cell_type": "heading",
     "level": 6,
     "metadata": {},
     "source": [
      "acq150619z06: CFP-35, 2x2560 pulsos, $P=4.000\\mathrm{\\frac{kgf}{cm^2}}$ (relativa), $\\mathrm{N_2/Ar}\\simeq0.5\\%$, TRG=$0.6\\mathrm{V}$"
     ]
    },
    {
     "cell_type": "code",
     "collapsed": false,
     "input": [
      "acq= np.load('./data/acq150619z06.npy.npz')\n",
      "taus= tauAMCz(acq)\n",
      "n, bins, patches= plt.hist(taus, bins=120)"
     ],
     "language": "python",
     "metadata": {},
     "outputs": [
      {
       "metadata": {},
       "output_type": "display_data",
       "png": "[encoded data removed]",
       "text": [
        "<matplotlib.figure.Figure at 0x7f6d54207208>"
       ]
      }
     ],
     "prompt_number": 46
    },
    {
     "cell_type": "code",
     "collapsed": false,
     "input": [
      "intermedio = np.ma.masked_greater(taus, bins[8])\n",
      "primerCampana= intermedio.compressed()\n",
      "n_i, bins_i, patches_i= plt.hist(primerCampana, bins=20)\n",
      "primerCampana.size, primerCampana.mean(), errorEstandard(primerCampana)"
     ],
     "language": "python",
     "metadata": {},
     "outputs": [
      {
       "metadata": {},
       "output_type": "pyout",
       "prompt_number": 47,
       "text": [
        "(3497, 1.2598856162424891e-07, 2.027740739847282e-10)"
       ]
      },
      {
       "metadata": {},
       "output_type": "display_data",
       "png": "[encoded data removed]",
       "text": [
        "<matplotlib.figure.Figure at 0x7f6d373e86d8>"
       ]
      }
     ],
     "prompt_number": 47
    },
    {
     "cell_type": "heading",
     "level": 6,
     "metadata": {},
     "source": [
      "acq150619z07: CFP-35, 2x2560 pulsos, $P=4.000\\mathrm{\\frac{kgf}{cm^2}}$ (relativa), $\\mathrm{N_2/Ar}\\simeq0.5\\%$, TRG=$0.6\\mathrm{V}$"
     ]
    },
    {
     "cell_type": "code",
     "collapsed": false,
     "input": [
      "acq= np.load('./data/acq150619z07.npy.npz')\n",
      "taus= tauAMCz(acq)\n",
      "n, bins, patches= plt.hist(taus, bins=120)"
     ],
     "language": "python",
     "metadata": {},
     "outputs": [
      {
       "metadata": {},
       "output_type": "display_data",
       "png": "[encoded data removed]",
       "text": [
        "<matplotlib.figure.Figure at 0x7f6d37374320>"
       ]
      }
     ],
     "prompt_number": 48
    },
    {
     "cell_type": "code",
     "collapsed": false,
     "input": [
      "intermedio = np.ma.masked_greater(taus, bins[8])\n",
      "primerCampana= intermedio.compressed()\n",
      "n_i, bins_i, patches_i= plt.hist(primerCampana, bins=20)\n",
      "primerCampana.size, primerCampana.mean(), errorEstandard(primerCampana)"
     ],
     "language": "python",
     "metadata": {},
     "outputs": [
      {
       "metadata": {},
       "output_type": "pyout",
       "prompt_number": 49,
       "text": [
        "(3498, 1.2550943396226429e-07, 4.2119314594339232e-11)"
       ]
      },
      {
       "metadata": {},
       "output_type": "display_data",
       "png": "[encoded data removed]",
       "text": [
        "<matplotlib.figure.Figure at 0x7f6d377b2c88>"
       ]
      }
     ],
     "prompt_number": 49
    },
    {
     "cell_type": "heading",
     "level": 6,
     "metadata": {},
     "source": [
      "acq150619z08: CFP-35, 2x2560 pulsos, $P=4.000\\mathrm{\\frac{kgf}{cm^2}}$ (relativa), $\\mathrm{N_2/Ar}\\simeq0.5\\%$, TRG=$0.6\\mathrm{V}$"
     ]
    },
    {
     "cell_type": "code",
     "collapsed": false,
     "input": [
      "acq= np.load('./data/acq150619z08.npy.npz')\n",
      "taus= tauAMCz(acq)\n",
      "n, bins, patches= plt.hist(taus, bins=120)"
     ],
     "language": "python",
     "metadata": {},
     "outputs": [
      {
       "metadata": {},
       "output_type": "display_data",
       "png": "[encoded data removed]",
       "text": [
        "<matplotlib.figure.Figure at 0x7f6d375c2828>"
       ]
      }
     ],
     "prompt_number": 50
    },
    {
     "cell_type": "code",
     "collapsed": false,
     "input": [
      "intermedio = np.ma.masked_greater(taus, bins[8])\n",
      "primerCampana= intermedio.compressed()\n",
      "n_i, bins_i, patches_i= plt.hist(primerCampana, bins=20)\n",
      "primerCampana.size, primerCampana.mean(), errorEstandard(primerCampana)"
     ],
     "language": "python",
     "metadata": {},
     "outputs": [
      {
       "metadata": {},
       "output_type": "pyout",
       "prompt_number": 51,
       "text": [
        "(3561, 1.2565374894692503e-07, 2.9074424632480431e-10)"
       ]
      },
      {
       "metadata": {},
       "output_type": "display_data",
       "png": "[encoded data removed]",
       "text": [
        "<matplotlib.figure.Figure at 0x7f6d379294a8>"
       ]
      }
     ],
     "prompt_number": 51
    },
    {
     "cell_type": "heading",
     "level": 1,
     "metadata": {},
     "source": [
      "Espectro"
     ]
    },
    {
     "cell_type": "markdown",
     "metadata": {},
     "source": [
      "`150619v1` Espectro carga, cadena Silvia, 15k cuentas, 512 canales\n",
      "\n",
      "C\u00e1mara CFP-35, amplificador 2025, bias$=400\\mathrm{V}$, ganancia$=100\\times0.6$, shaping time$=0.5\\mu s$, polaridad positiva, preamplificador Ortec 142C, fuente chica. \n",
      "\n",
      "Valle$\\simeq45$, Pico$=99.21$"
     ]
    },
    {
     "cell_type": "code",
     "collapsed": false,
     "input": [
      "filesTuple= ['150619v1']\n",
      "derstellungOrtec(filesTuple)"
     ],
     "language": "python",
     "metadata": {},
     "outputs": [
      {
       "metadata": {},
       "output_type": "display_data",
       "png": "[encoded data removed]",
       "text": [
        "<matplotlib.figure.Figure at 0x7faf640a8be0>"
       ]
      }
     ],
     "prompt_number": 7
    },
    {
     "cell_type": "code",
     "collapsed": false,
     "input": [],
     "language": "python",
     "metadata": {},
     "outputs": []
    }
   ],
   "metadata": {}
  }
 ]
}