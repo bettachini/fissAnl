{
 "metadata": {
  "name": "",
  "signature": "sha256:60fde4f3b6a8f2f6559ab36d7e49e51ec864ea112ca4444f420a9e24af7891d8"
 },
 "nbformat": 3,
 "nbformat_minor": 0,
 "worksheets": [
  {
   "cells": [
    {
     "cell_type": "code",
     "collapsed": false,
     "input": [
      "# %pylab inline\n",
      "import matplotlib\n",
      "import numpy as np\n",
      "import matplotlib.pyplot as plt\n",
      "%matplotlib inline\n",
      "\n",
      "# coding=utf-8"
     ],
     "language": "python",
     "metadata": {},
     "outputs": [],
     "prompt_number": 1
    },
    {
     "cell_type": "markdown",
     "metadata": {},
     "source": [
      "Intento implentar cuadrados m\u00ednimos como indica el Frodesen cap. 10"
     ]
    },
    {
     "cell_type": "code",
     "collapsed": false,
     "input": [
      "# Importaci\u00f3n con numpy\n",
      "path='/home/vbettachini/documents/cnea/docs/manometros/'\n",
      "b10= np.loadtxt(path+ '150210Bourdon.dat')\n",
      "b19= np.loadtxt(path+'150219Bourdon.dat')\n",
      "b20= np.loadtxt(path+'150220Bourdon.dat')\n",
      "\n",
      "# Concatenaci\u00f3n en serie \u00fanica para ajuste\n",
      "Ashcroft_medidas= np.concatenate((b10[:,0], b19[:,0], b20[:,0]))\n",
      "Bourdon_medidas= np.concatenate((b10[:,1], b19[:,1], b20[:,1]))"
     ],
     "language": "python",
     "metadata": {},
     "outputs": [],
     "prompt_number": 2
    },
    {
     "cell_type": "code",
     "collapsed": false,
     "input": [
      "# Bourdon\n",
      "# Presi\u00f3n absoluta\n",
      "# 316SS, Classe 1, div= 0,2 kg/cm^2\n",
      "# http://www.citec.fr/Catalogue-mesures/pdf/glossaire-mano.pdf\n",
      "# Le terme classe d\u2019exactitude remplace l\u2019ancien terme classe de pr\u00e9cision. La classe d\u2019exactitude correspond \u00e0 l\u2019erreur maximale tol\u00e9r\u00e9e, exprim\u00e9e en pourcentage de l\u2019intervalle de mesure ou de l\u2019\u00e9tendue de mesure (EM).\n",
      "Bou_min_dis=0.05 # m\u00ednima discriminaci\u00f3n observable (cuarto de m\u00ednima divisi\u00f3n)[Kg/cm^2]\n",
      "Bou_alcance= 25.0 # fondo de escala [Kg/cm^2]\n",
      "Bou_clase= 1.0\n",
      "# Asumo todo el error est\u00e1 contenido en la clase\n",
      "Bou_err= Bou_clase* Bou_alcance/ 100.0\n",
      "# Bou_err= np.sqrt(Bou_min_dis**2+ (Bou_clase* Bou_alcance/ 100.0)**2)\n",
      "\n",
      "\n",
      "# Ashcroft\n",
      "# Presi\u00f3n relativa\n",
      "# Test Gauge, temperature compensated\n",
      "# 0,01 kg/cm^2 subv,  Accuracy Grade 3A 0,25%\n",
      "Ash_min_dis= 0.005 # m\u00ednima discriminaci\u00f3n observable (mitad de m\u00ednima divisi\u00f3n) [Kg/cm^2]\n",
      "Ash_alcance= 4.0 # fondo de escala [Kg/cm^2]\n",
      "# http://www.dascosales.com/pressure-gauge-accuracy.php\n",
      "# Grade 3A gauges are calibrated to an accuracy of \u00b10.25% of span over the entire range of the gauge. The gauges are called test gauges and are generally 4\u00bd\", 6\" or 8\u00bd\" dials. The test gauges are generally not temperature compensated.\n",
      "# Ash_clase= 3A\n",
      "Ash_err= np.sqrt(Ash_min_dis**2+ (Ash_alcance* 0.25/ 100.0)**2)"
     ],
     "language": "python",
     "metadata": {},
     "outputs": [],
     "prompt_number": 3
    },
    {
     "cell_type": "code",
     "collapsed": false,
     "input": [
      "from numpy import matrix as mt\n",
      "\n",
      "# y medidas como vector columna\n",
      "y= mt.transpose(mt(Bourdon_medidas ) ) \n",
      "\n",
      "# V matriz de covarianzas de mediciones (sigma^2 en diagonal)\n",
      "N= Bourdon_medidas.size\n",
      "sigmay= np.ones(N)* Bou_err\n",
      "V= np.mat(np.diag(sigmay**2, 0))\n",
      "\n",
      "# theta vector columna parametros (2 filas, para un ajuste lineal)\n",
      "\n",
      "# f predictores\n",
      "# f= A * theta\n",
      "\n",
      "# A ( filas x_i 1 para lineal siendo theta [ [m], [b] ] )\n",
      "A= np.ones(N)\n",
      "A= np.vstack((A, Ashcroft_medidas) )\n",
      "A= mt(A )\n",
      "A= mt.transpose(A )"
     ],
     "language": "python",
     "metadata": {},
     "outputs": [],
     "prompt_number": 4
    },
    {
     "cell_type": "markdown",
     "metadata": {},
     "source": [
      "Matriz de covarianza del estimador de theta (10.24)\n",
      "$$V(\\hat{\\theta} )= (A^t V^{-1} A)^{-1} $$\n",
      "que seg\u00fan Gu\u00eda 6 de la materia Estad\u00edstica en F\u00edsica Experimental\n",
      "$$V(\\hat{\\theta} )= \\frac{\\sigma^2}{\\Delta} \n",
      "\\left(\\begin{matrix}\n",
      " \\sum x_i^2 & - \\sum x_i\\\\\n",
      " -\\sum x_i & N\n",
      "\\end{matrix}\\right)$$\n",
      "siendo $\\Delta= N \\sum x_i^2 - \\left(\\sum x_i \\right)^2$"
     ]
    },
    {
     "cell_type": "code",
     "collapsed": false,
     "input": [
      "from numpy import linalg as la\n",
      "invV= la.inv(V)\n",
      "trA= mt.transpose(A)\n",
      "VEtheta= la.inv(trA* invV* A)"
     ],
     "language": "python",
     "metadata": {},
     "outputs": [],
     "prompt_number": 5
    },
    {
     "cell_type": "markdown",
     "metadata": {},
     "source": [
      "Estimador de theta (10.23)\n",
      "$$\\hat{\\theta}= (A^t V^{-1} A)^{-1} A^t V^{-1} y $$\n",
      "$$\\hat{\\theta}= V(\\hat{\\theta} ) A^t V^{-1} y $$"
     ]
    },
    {
     "cell_type": "code",
     "collapsed": false,
     "input": [
      "Etheta= VEtheta* trA* invV* y"
     ],
     "language": "python",
     "metadata": {},
     "outputs": [],
     "prompt_number": 6
    },
    {
     "cell_type": "code",
     "collapsed": false,
     "input": [
      "Pendiente= np.double(Etheta[1])\n",
      "OrdenadaAlOrigen= np.double(Etheta[0])\n",
      "sigma_Pendiente= np.sqrt(VEtheta[1,1])\n",
      "sigma_OrdenadaAlOrigen= np.sqrt(VEtheta[0,0])"
     ],
     "language": "python",
     "metadata": {},
     "outputs": [],
     "prompt_number": 8
    },
    {
     "cell_type": "code",
     "collapsed": false,
     "input": [
      "# banda de error\n",
      "def errBand(xi, VEtheta):\n",
      "    errxi= VEtheta[0,0]+ 2* (xi* VEtheta[0,1] + xi**2* VEtheta[1,1] )\n",
      "    return np.sqrt(errxi)"
     ],
     "language": "python",
     "metadata": {},
     "outputs": [],
     "prompt_number": 7
    },
    {
     "cell_type": "code",
     "collapsed": false,
     "input": [
      "# The matplotlib object-oriented API\n",
      "# http://nbviewer.ipython.org/github/jrjohansson/scientific-python-lectures/blob/master/Lecture-4-Matplotlib.ipynb\n",
      "fig = plt.figure()\n",
      "axes = fig.add_axes([0.1, 0.1, 0.8, 0.8]) # left, bottom, width, height (range 0 to 1)\n",
      "\n",
      "# # grafica todos los datos juntos (sin barra de error)\n",
      "# axes.plot(Ashcroft_medidas, Bourdon_medidas, 'r.')\n",
      "\n",
      "# Grafica con barras de error individuales\n",
      "axes.errorbar(Ashcroft_medidas, Bourdon_medidas, yerr= Bou_err,xerr= Ash_err, fmt='r.')\n",
      "\n",
      "# Funci\u00f3n lineal para ajuste\n",
      "def Lineal(x, m, b):\n",
      "    return m*x+ b\n",
      "\n",
      "xs= np.array([1.0, 4.5])\n",
      "axes.plot(xs, Lineal(xs, np.double(Etheta[1] ), np.double(Etheta[0] ) ), 'k-' )\n",
      "\n",
      "# Bandas de confianza al 95%\n",
      "axes.plot(xs, Lineal(xs, np.double(Etheta[1] ), np.double(Etheta[0] ) )+ errBand(xs,VEtheta), 'b--')\n",
      "axes.plot(xs, Lineal(xs, np.double(Etheta[1] ), np.double(Etheta[0] ) )- errBand(xs,VEtheta), 'b--')\n",
      "\n",
      "# Expresi\u00f3n del ajuste lineal\n",
      "penStr= 'Solo lineal\\n'\n",
      "penStr= penStr+ r'$P_B= ($' + '%.3f' % Pendiente + r'$\\pm$' + '%.3f' % sigma_Pendiente + r'$)P_A + ($' + '%.2f' % OrdenadaAlOrigen + r'$\\pm$' + '%.2f' % sigma_OrdenadaAlOrigen + r'$) \\mathrm{\\frac{kgf}{cm^2}}$'\n",
      "axes.text(2.3, 2.3, penStr)\n",
      "\n",
      "penStrV= 'Con varianza real\\n'\n",
      "penStrV= penStrV+ r'$P_B= ($' + '%.3f' % Pendiente + r'$)P_A + ($' + '%.2f' % OrdenadaAlOrigen +  r'$) \\mathrm{\\frac{kgf}{cm^2}}$'\n",
      "penStrV= penStrV+ '\\n'+ r'$V(P_B)=$' + '%.2f' % VEtheta[0,0]+ r'$\\mathrm{\\left(\\frac{kgf}{cm^2} \\right)^2} + ($'+ '%.3f' % (2*VEtheta[0,1]) + r'$\\mathrm{\\frac{kgf}{cm^2}} ) P_A  + $' + '%.3f' % (2* VEtheta[1,1]) + r'$P^2_A $' \n",
      "axes.text(1.2, 5, penStrV)\n",
      "\n",
      "# Ejes\n",
      "axes.set_xlabel(r'$P_A [kgf/cm^2]$')\n",
      "axes.set_ylabel(r'$P_B [kgf/cm^2]$')"
     ],
     "language": "python",
     "metadata": {},
     "outputs": [
      {
       "metadata": {},
       "output_type": "pyout",
       "prompt_number": 9,
       "text": [
        "<matplotlib.text.Text at 0x7f50ecd9f6d8>"
       ]
      },
      {
       "metadata": {},
       "output_type": "display_data",
       "png": "[encoded data removed]",
       "text": [
        "<matplotlib.figure.Figure at 0x7f50ed2931d0>"
       ]
      }
     ],
     "prompt_number": 9
    },
    {
     "cell_type": "code",
     "collapsed": false,
     "input": [
      "# Exportaci\u00f3n de datos\n",
      "# quisiera crear cuatro columnas mediciones/errores para cada manometro y exportar en csv\n",
      "\n",
      "# array error Ashcroft\n",
      "sigmax= np.ones(N)* Ash_err\n",
      "\n",
      "# Juntar en \u00fanico array como columnas\n",
      "cuis= np.vstack((Ashcroft_medidas, sigmax, Bourdon_medidas, sigmay))\n",
      "\n",
      "# Salvar\n",
      "np.savetxt('medidas.dat', cuis.transpose(), fmt='%.3f', delimiter=',', newline='\\n')"
     ],
     "language": "python",
     "metadata": {},
     "outputs": []
    },
    {
     "cell_type": "code",
     "collapsed": false,
     "input": [
      "fig.savefig('ajuste.svg')"
     ],
     "language": "python",
     "metadata": {},
     "outputs": [],
     "prompt_number": 11
    },
    {
     "cell_type": "code",
     "collapsed": false,
     "input": [
      "a=Lineal(xs, double(Etheta[1] ), double(Etheta[0] ) )+ errBand(xs,VEtheta)"
     ],
     "language": "python",
     "metadata": {},
     "outputs": [],
     "prompt_number": 14
    },
    {
     "cell_type": "code",
     "collapsed": false,
     "input": [
      "b=Lineal(xs, double(Etheta[1] ), double(Etheta[0] ) )"
     ],
     "language": "python",
     "metadata": {},
     "outputs": [],
     "prompt_number": 15
    },
    {
     "cell_type": "code",
     "collapsed": false,
     "input": [
      "(a-b)/b"
     ],
     "language": "python",
     "metadata": {},
     "outputs": [
      {
       "metadata": {},
       "output_type": "pyout",
       "prompt_number": 16,
       "text": [
        "array([ 0.06417877,  0.05692551])"
       ]
      }
     ],
     "prompt_number": 16
    },
    {
     "cell_type": "code",
     "collapsed": false,
     "input": [
      "b"
     ],
     "language": "python",
     "metadata": {},
     "outputs": [
      {
       "metadata": {},
       "output_type": "pyout",
       "prompt_number": 17,
       "text": [
        "array([ 2.03162428,  5.44432264])"
       ]
      }
     ],
     "prompt_number": 17
    },
    {
     "cell_type": "heading",
     "level": 1,
     "metadata": {},
     "source": [
      "Reproducir resultado como funci\u00f3n"
     ]
    },
    {
     "cell_type": "code",
     "collapsed": false,
     "input": [
      "# from numpy import matrix as mt\n",
      "# from numpy import linalg as la\n",
      "\n",
      "def ajusteLineal(abscisas, ordenadas):\n",
      "    # y medidas como vector columna\n",
      "    y= mt.transpose(mt(ordenadas ) ) \n",
      "\n",
      "    # V matriz de covarianzas de mediciones (sigma^2 en diagonal)\n",
      "    N= ordenadas.size\n",
      "    sigmay= np.ones(N)* Bou_err\n",
      "    V= np.mat(np.diag(sigmay**2, 0))\n",
      "\n",
      "    # theta vector columna parametros (2 filas, para un ajuste lineal)\n",
      "\n",
      "    # f predictores\n",
      "    # f= A * theta\n",
      "\n",
      "    # A ( filas x_i 1 para lineal siendo theta [ [m], [b] ] )\n",
      "    A= np.ones(N)\n",
      "    A= np.vstack((A, abscisas) )\n",
      "    A= mt(A )\n",
      "    A= mt.transpose(A )\n",
      "    \n",
      "    invV= la.inv(V)\n",
      "    trA= mt.transpose(A)\n",
      "    VEtheta= la.inv(trA* invV* A)\n",
      "    \n",
      "    Etheta= VEtheta* trA* invV* y\n",
      "    \n",
      "    Pendiente= np.double(Etheta[1])\n",
      "    OrdenadaAlOrigen= np.double(Etheta[0])\n",
      "    sigma_Pendiente= np.sqrt(VEtheta[1,1])\n",
      "    sigma_OrdenadaAlOrigen= np.sqrt(VEtheta[0,0])\n",
      "    \n",
      "    return Pendiente, OrdenadaAlOrigen, sigma_Pendiente, sigma_OrdenadaAlOrigen"
     ],
     "language": "python",
     "metadata": {},
     "outputs": [],
     "prompt_number": 12
    },
    {
     "cell_type": "code",
     "collapsed": false,
     "input": [],
     "language": "python",
     "metadata": {},
     "outputs": []
    }
   ],
   "metadata": {}
  }
 ]
}